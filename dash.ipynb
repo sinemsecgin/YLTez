{
 "cells": [
  {
   "cell_type": "code",
   "execution_count": 1,
   "metadata": {},
   "outputs": [
    {
     "name": "stderr",
     "output_type": "stream",
     "text": [
      "C:\\Users\\Lenovo\\Anaconda3\\lib\\site-packages\\ipykernel_launcher.py:2: UserWarning: \n",
      "The dash_core_components package is deprecated. Please replace\n",
      "`import dash_core_components as dcc` with `from dash import dcc`\n",
      "  \n",
      "C:\\Users\\Lenovo\\Anaconda3\\lib\\site-packages\\ipykernel_launcher.py:3: UserWarning: \n",
      "The dash_html_components package is deprecated. Please replace\n",
      "`import dash_html_components as html` with `from dash import html`\n",
      "  This is separate from the ipykernel package so we can avoid doing imports until\n"
     ]
    },
    {
     "data": {
      "text/html": [
       "        <script type=\"text/javascript\">\n",
       "        window.PlotlyConfig = {MathJaxConfig: 'local'};\n",
       "        if (window.MathJax) {MathJax.Hub.Config({SVG: {font: \"STIX-Web\"}});}\n",
       "        if (typeof require !== 'undefined') {\n",
       "        require.undef(\"plotly\");\n",
       "        requirejs.config({\n",
       "            paths: {\n",
       "                'plotly': ['https://cdn.plot.ly/plotly-2.4.2.min']\n",
       "            }\n",
       "        });\n",
       "        require(['plotly'], function(Plotly) {\n",
       "            window._Plotly = Plotly;\n",
       "        });\n",
       "        }\n",
       "        </script>\n",
       "        "
      ]
     },
     "metadata": {},
     "output_type": "display_data"
    },
    {
     "data": {
      "application/vnd.plotly.v1+json": {
       "config": {
        "plotlyServerURL": "https://plot.ly"
       },
       "data": [
        {
         "mode": "text",
         "text": [
          "Mağaza",
          "Şehir",
          "Eyalet",
          "Mağaza Tipi",
          "Ürün Ailesi",
          "Küme"
         ],
         "textposition": "bottom center",
         "type": "scatter",
         "x": [
          0,
          1,
          2,
          3.2,
          4.5,
          5.5
         ],
         "y": [
          1.7,
          1.7,
          1.7,
          1.7,
          1.7,
          1.7
         ]
        },
        {
         "mode": "text",
         "text": [
          "<span style='font-size:24px'><b>54</b></span>",
          "<span style='font-size:24px'><b>22</b></span>",
          "<span style='font-size:24px'><b>16</b></span>",
          "<span style='font-size:24px'><b>5</b></span>",
          "<span style='font-size:24px'><b>33</b></span>",
          "<span style='font-size:24px'><b>17</b></span>"
         ],
         "textposition": "bottom center",
         "type": "scatter",
         "x": [
          0,
          1,
          2,
          3.2,
          4.5,
          5.5
         ],
         "y": [
          1.1,
          1.1,
          1.1,
          1.1,
          1.1,
          1.1
         ]
        },
        {
         "mode": "text",
         "text": [
          "<span style='font-size:18px'><b>         Veri tarih aralığı 2013-01-01 ile 2017-08-15 arasındadır.</b></span>"
         ],
         "textposition": "bottom center",
         "type": "scatter",
         "x": [
          2.5
         ],
         "y": [
          -0.2
         ]
        }
       ],
       "layout": {
        "font": {
         "color": "#323232",
         "size": 20
        },
        "height": 300,
        "margin": {
         "b": 0,
         "l": 70,
         "r": 70,
         "t": 90
        },
        "paper_bgcolor": "#fafafa",
        "plot_bgcolor": "#fafafa",
        "shapes": [
         {
          "line": {
           "color": "orange",
           "width": 5
          },
          "type": "line",
          "x0": 0,
          "x1": 1,
          "xref": "x domain",
          "y0": 2.2,
          "y1": 2.2,
          "yref": "y"
         },
         {
          "line": {
           "color": "orange",
           "width": 3
          },
          "type": "line",
          "x0": 0,
          "x1": 1,
          "xref": "x domain",
          "y0": 0.3,
          "y1": 0.3,
          "yref": "y"
         }
        ],
        "showlegend": false,
        "template": {
         "data": {
          "bar": [
           {
            "error_x": {
             "color": "#2a3f5f"
            },
            "error_y": {
             "color": "#2a3f5f"
            },
            "marker": {
             "line": {
              "color": "#E5ECF6",
              "width": 0.5
             },
             "pattern": {
              "fillmode": "overlay",
              "size": 10,
              "solidity": 0.2
             }
            },
            "type": "bar"
           }
          ],
          "barpolar": [
           {
            "marker": {
             "line": {
              "color": "#E5ECF6",
              "width": 0.5
             },
             "pattern": {
              "fillmode": "overlay",
              "size": 10,
              "solidity": 0.2
             }
            },
            "type": "barpolar"
           }
          ],
          "carpet": [
           {
            "aaxis": {
             "endlinecolor": "#2a3f5f",
             "gridcolor": "white",
             "linecolor": "white",
             "minorgridcolor": "white",
             "startlinecolor": "#2a3f5f"
            },
            "baxis": {
             "endlinecolor": "#2a3f5f",
             "gridcolor": "white",
             "linecolor": "white",
             "minorgridcolor": "white",
             "startlinecolor": "#2a3f5f"
            },
            "type": "carpet"
           }
          ],
          "choropleth": [
           {
            "colorbar": {
             "outlinewidth": 0,
             "ticks": ""
            },
            "type": "choropleth"
           }
          ],
          "contour": [
           {
            "colorbar": {
             "outlinewidth": 0,
             "ticks": ""
            },
            "colorscale": [
             [
              0,
              "#0d0887"
             ],
             [
              0.1111111111111111,
              "#46039f"
             ],
             [
              0.2222222222222222,
              "#7201a8"
             ],
             [
              0.3333333333333333,
              "#9c179e"
             ],
             [
              0.4444444444444444,
              "#bd3786"
             ],
             [
              0.5555555555555556,
              "#d8576b"
             ],
             [
              0.6666666666666666,
              "#ed7953"
             ],
             [
              0.7777777777777778,
              "#fb9f3a"
             ],
             [
              0.8888888888888888,
              "#fdca26"
             ],
             [
              1,
              "#f0f921"
             ]
            ],
            "type": "contour"
           }
          ],
          "contourcarpet": [
           {
            "colorbar": {
             "outlinewidth": 0,
             "ticks": ""
            },
            "type": "contourcarpet"
           }
          ],
          "heatmap": [
           {
            "colorbar": {
             "outlinewidth": 0,
             "ticks": ""
            },
            "colorscale": [
             [
              0,
              "#0d0887"
             ],
             [
              0.1111111111111111,
              "#46039f"
             ],
             [
              0.2222222222222222,
              "#7201a8"
             ],
             [
              0.3333333333333333,
              "#9c179e"
             ],
             [
              0.4444444444444444,
              "#bd3786"
             ],
             [
              0.5555555555555556,
              "#d8576b"
             ],
             [
              0.6666666666666666,
              "#ed7953"
             ],
             [
              0.7777777777777778,
              "#fb9f3a"
             ],
             [
              0.8888888888888888,
              "#fdca26"
             ],
             [
              1,
              "#f0f921"
             ]
            ],
            "type": "heatmap"
           }
          ],
          "heatmapgl": [
           {
            "colorbar": {
             "outlinewidth": 0,
             "ticks": ""
            },
            "colorscale": [
             [
              0,
              "#0d0887"
             ],
             [
              0.1111111111111111,
              "#46039f"
             ],
             [
              0.2222222222222222,
              "#7201a8"
             ],
             [
              0.3333333333333333,
              "#9c179e"
             ],
             [
              0.4444444444444444,
              "#bd3786"
             ],
             [
              0.5555555555555556,
              "#d8576b"
             ],
             [
              0.6666666666666666,
              "#ed7953"
             ],
             [
              0.7777777777777778,
              "#fb9f3a"
             ],
             [
              0.8888888888888888,
              "#fdca26"
             ],
             [
              1,
              "#f0f921"
             ]
            ],
            "type": "heatmapgl"
           }
          ],
          "histogram": [
           {
            "marker": {
             "pattern": {
              "fillmode": "overlay",
              "size": 10,
              "solidity": 0.2
             }
            },
            "type": "histogram"
           }
          ],
          "histogram2d": [
           {
            "colorbar": {
             "outlinewidth": 0,
             "ticks": ""
            },
            "colorscale": [
             [
              0,
              "#0d0887"
             ],
             [
              0.1111111111111111,
              "#46039f"
             ],
             [
              0.2222222222222222,
              "#7201a8"
             ],
             [
              0.3333333333333333,
              "#9c179e"
             ],
             [
              0.4444444444444444,
              "#bd3786"
             ],
             [
              0.5555555555555556,
              "#d8576b"
             ],
             [
              0.6666666666666666,
              "#ed7953"
             ],
             [
              0.7777777777777778,
              "#fb9f3a"
             ],
             [
              0.8888888888888888,
              "#fdca26"
             ],
             [
              1,
              "#f0f921"
             ]
            ],
            "type": "histogram2d"
           }
          ],
          "histogram2dcontour": [
           {
            "colorbar": {
             "outlinewidth": 0,
             "ticks": ""
            },
            "colorscale": [
             [
              0,
              "#0d0887"
             ],
             [
              0.1111111111111111,
              "#46039f"
             ],
             [
              0.2222222222222222,
              "#7201a8"
             ],
             [
              0.3333333333333333,
              "#9c179e"
             ],
             [
              0.4444444444444444,
              "#bd3786"
             ],
             [
              0.5555555555555556,
              "#d8576b"
             ],
             [
              0.6666666666666666,
              "#ed7953"
             ],
             [
              0.7777777777777778,
              "#fb9f3a"
             ],
             [
              0.8888888888888888,
              "#fdca26"
             ],
             [
              1,
              "#f0f921"
             ]
            ],
            "type": "histogram2dcontour"
           }
          ],
          "mesh3d": [
           {
            "colorbar": {
             "outlinewidth": 0,
             "ticks": ""
            },
            "type": "mesh3d"
           }
          ],
          "parcoords": [
           {
            "line": {
             "colorbar": {
              "outlinewidth": 0,
              "ticks": ""
             }
            },
            "type": "parcoords"
           }
          ],
          "pie": [
           {
            "automargin": true,
            "type": "pie"
           }
          ],
          "scatter": [
           {
            "marker": {
             "colorbar": {
              "outlinewidth": 0,
              "ticks": ""
             }
            },
            "type": "scatter"
           }
          ],
          "scatter3d": [
           {
            "line": {
             "colorbar": {
              "outlinewidth": 0,
              "ticks": ""
             }
            },
            "marker": {
             "colorbar": {
              "outlinewidth": 0,
              "ticks": ""
             }
            },
            "type": "scatter3d"
           }
          ],
          "scattercarpet": [
           {
            "marker": {
             "colorbar": {
              "outlinewidth": 0,
              "ticks": ""
             }
            },
            "type": "scattercarpet"
           }
          ],
          "scattergeo": [
           {
            "marker": {
             "colorbar": {
              "outlinewidth": 0,
              "ticks": ""
             }
            },
            "type": "scattergeo"
           }
          ],
          "scattergl": [
           {
            "marker": {
             "colorbar": {
              "outlinewidth": 0,
              "ticks": ""
             }
            },
            "type": "scattergl"
           }
          ],
          "scattermapbox": [
           {
            "marker": {
             "colorbar": {
              "outlinewidth": 0,
              "ticks": ""
             }
            },
            "type": "scattermapbox"
           }
          ],
          "scatterpolar": [
           {
            "marker": {
             "colorbar": {
              "outlinewidth": 0,
              "ticks": ""
             }
            },
            "type": "scatterpolar"
           }
          ],
          "scatterpolargl": [
           {
            "marker": {
             "colorbar": {
              "outlinewidth": 0,
              "ticks": ""
             }
            },
            "type": "scatterpolargl"
           }
          ],
          "scatterternary": [
           {
            "marker": {
             "colorbar": {
              "outlinewidth": 0,
              "ticks": ""
             }
            },
            "type": "scatterternary"
           }
          ],
          "surface": [
           {
            "colorbar": {
             "outlinewidth": 0,
             "ticks": ""
            },
            "colorscale": [
             [
              0,
              "#0d0887"
             ],
             [
              0.1111111111111111,
              "#46039f"
             ],
             [
              0.2222222222222222,
              "#7201a8"
             ],
             [
              0.3333333333333333,
              "#9c179e"
             ],
             [
              0.4444444444444444,
              "#bd3786"
             ],
             [
              0.5555555555555556,
              "#d8576b"
             ],
             [
              0.6666666666666666,
              "#ed7953"
             ],
             [
              0.7777777777777778,
              "#fb9f3a"
             ],
             [
              0.8888888888888888,
              "#fdca26"
             ],
             [
              1,
              "#f0f921"
             ]
            ],
            "type": "surface"
           }
          ],
          "table": [
           {
            "cells": {
             "fill": {
              "color": "#EBF0F8"
             },
             "line": {
              "color": "white"
             }
            },
            "header": {
             "fill": {
              "color": "#C8D4E3"
             },
             "line": {
              "color": "white"
             }
            },
            "type": "table"
           }
          ]
         },
         "layout": {
          "annotationdefaults": {
           "arrowcolor": "#2a3f5f",
           "arrowhead": 0,
           "arrowwidth": 1
          },
          "autotypenumbers": "strict",
          "coloraxis": {
           "colorbar": {
            "outlinewidth": 0,
            "ticks": ""
           }
          },
          "colorscale": {
           "diverging": [
            [
             0,
             "#8e0152"
            ],
            [
             0.1,
             "#c51b7d"
            ],
            [
             0.2,
             "#de77ae"
            ],
            [
             0.3,
             "#f1b6da"
            ],
            [
             0.4,
             "#fde0ef"
            ],
            [
             0.5,
             "#f7f7f7"
            ],
            [
             0.6,
             "#e6f5d0"
            ],
            [
             0.7,
             "#b8e186"
            ],
            [
             0.8,
             "#7fbc41"
            ],
            [
             0.9,
             "#4d9221"
            ],
            [
             1,
             "#276419"
            ]
           ],
           "sequential": [
            [
             0,
             "#0d0887"
            ],
            [
             0.1111111111111111,
             "#46039f"
            ],
            [
             0.2222222222222222,
             "#7201a8"
            ],
            [
             0.3333333333333333,
             "#9c179e"
            ],
            [
             0.4444444444444444,
             "#bd3786"
            ],
            [
             0.5555555555555556,
             "#d8576b"
            ],
            [
             0.6666666666666666,
             "#ed7953"
            ],
            [
             0.7777777777777778,
             "#fb9f3a"
            ],
            [
             0.8888888888888888,
             "#fdca26"
            ],
            [
             1,
             "#f0f921"
            ]
           ],
           "sequentialminus": [
            [
             0,
             "#0d0887"
            ],
            [
             0.1111111111111111,
             "#46039f"
            ],
            [
             0.2222222222222222,
             "#7201a8"
            ],
            [
             0.3333333333333333,
             "#9c179e"
            ],
            [
             0.4444444444444444,
             "#bd3786"
            ],
            [
             0.5555555555555556,
             "#d8576b"
            ],
            [
             0.6666666666666666,
             "#ed7953"
            ],
            [
             0.7777777777777778,
             "#fb9f3a"
            ],
            [
             0.8888888888888888,
             "#fdca26"
            ],
            [
             1,
             "#f0f921"
            ]
           ]
          },
          "colorway": [
           "#636efa",
           "#EF553B",
           "#00cc96",
           "#ab63fa",
           "#FFA15A",
           "#19d3f3",
           "#FF6692",
           "#B6E880",
           "#FF97FF",
           "#FECB52"
          ],
          "font": {
           "color": "#2a3f5f"
          },
          "geo": {
           "bgcolor": "white",
           "lakecolor": "white",
           "landcolor": "#E5ECF6",
           "showlakes": true,
           "showland": true,
           "subunitcolor": "white"
          },
          "hoverlabel": {
           "align": "left"
          },
          "hovermode": "closest",
          "mapbox": {
           "style": "light"
          },
          "paper_bgcolor": "white",
          "plot_bgcolor": "#E5ECF6",
          "polar": {
           "angularaxis": {
            "gridcolor": "white",
            "linecolor": "white",
            "ticks": ""
           },
           "bgcolor": "#E5ECF6",
           "radialaxis": {
            "gridcolor": "white",
            "linecolor": "white",
            "ticks": ""
           }
          },
          "scene": {
           "xaxis": {
            "backgroundcolor": "#E5ECF6",
            "gridcolor": "white",
            "gridwidth": 2,
            "linecolor": "white",
            "showbackground": true,
            "ticks": "",
            "zerolinecolor": "white"
           },
           "yaxis": {
            "backgroundcolor": "#E5ECF6",
            "gridcolor": "white",
            "gridwidth": 2,
            "linecolor": "white",
            "showbackground": true,
            "ticks": "",
            "zerolinecolor": "white"
           },
           "zaxis": {
            "backgroundcolor": "#E5ECF6",
            "gridcolor": "white",
            "gridwidth": 2,
            "linecolor": "white",
            "showbackground": true,
            "ticks": "",
            "zerolinecolor": "white"
           }
          },
          "shapedefaults": {
           "line": {
            "color": "#2a3f5f"
           }
          },
          "ternary": {
           "aaxis": {
            "gridcolor": "white",
            "linecolor": "white",
            "ticks": ""
           },
           "baxis": {
            "gridcolor": "white",
            "linecolor": "white",
            "ticks": ""
           },
           "bgcolor": "#E5ECF6",
           "caxis": {
            "gridcolor": "white",
            "linecolor": "white",
            "ticks": ""
           }
          },
          "title": {
           "x": 0.05
          },
          "xaxis": {
           "automargin": true,
           "gridcolor": "white",
           "linecolor": "white",
           "ticks": "",
           "title": {
            "standoff": 15
           },
           "zerolinecolor": "white",
           "zerolinewidth": 2
          },
          "yaxis": {
           "automargin": true,
           "gridcolor": "white",
           "linecolor": "white",
           "ticks": "",
           "title": {
            "standoff": 15
           },
           "zerolinecolor": "white",
           "zerolinewidth": 2
          }
         }
        },
        "title": {
         "font": {
          "color": "#222",
          "size": 28
         },
         "text": "Mağazaların Satış Özeti",
         "x": 0.5,
         "y": 0.9
        },
        "width": 800,
        "xaxis": {
         "range": [
          -0.5,
          6.6
         ],
         "visible": false
        },
        "yaxis": {
         "range": [
          -1.2,
          2.2
         ],
         "visible": false
        }
       }
      },
      "text/html": [
       "<div>                            <div id=\"a3bd1939-bafc-4fab-b1d4-a34266d7e39a\" class=\"plotly-graph-div\" style=\"height:300px; width:800px;\"></div>            <script type=\"text/javascript\">                require([\"plotly\"], function(Plotly) {                    window.PLOTLYENV=window.PLOTLYENV || {};                                    if (document.getElementById(\"a3bd1939-bafc-4fab-b1d4-a34266d7e39a\")) {                    Plotly.newPlot(                        \"a3bd1939-bafc-4fab-b1d4-a34266d7e39a\",                        [{\"mode\":\"text\",\"text\":[\"Ma\\u011faza\",\"\\u015eehir\",\"Eyalet\",\"Ma\\u011faza Tipi\",\"\\u00dcr\\u00fcn Ailesi\",\"K\\u00fcme\"],\"textposition\":\"bottom center\",\"type\":\"scatter\",\"x\":[0,1,2,3.2,4.5,5.5],\"y\":[1.7,1.7,1.7,1.7,1.7,1.7]},{\"mode\":\"text\",\"text\":[\"<span style='font-size:24px'><b>54</b></span>\",\"<span style='font-size:24px'><b>22</b></span>\",\"<span style='font-size:24px'><b>16</b></span>\",\"<span style='font-size:24px'><b>5</b></span>\",\"<span style='font-size:24px'><b>33</b></span>\",\"<span style='font-size:24px'><b>17</b></span>\"],\"textposition\":\"bottom center\",\"type\":\"scatter\",\"x\":[0,1,2,3.2,4.5,5.5],\"y\":[1.1,1.1,1.1,1.1,1.1,1.1]},{\"mode\":\"text\",\"text\":[\"<span style='font-size:18px'><b>         Veri tarih aral\\u0131\\u011f\\u0131 2013-01-01 ile 2017-08-15 aras\\u0131ndad\\u0131r.</b></span>\"],\"textposition\":\"bottom center\",\"type\":\"scatter\",\"x\":[2.5],\"y\":[-0.2]}],                        {\"font\":{\"color\":\"#323232\",\"size\":20},\"height\":300,\"margin\":{\"b\":0,\"l\":70,\"r\":70,\"t\":90},\"paper_bgcolor\":\"#fafafa\",\"plot_bgcolor\":\"#fafafa\",\"shapes\":[{\"line\":{\"color\":\"orange\",\"width\":5},\"type\":\"line\",\"x0\":0,\"x1\":1,\"xref\":\"x domain\",\"y0\":2.2,\"y1\":2.2,\"yref\":\"y\"},{\"line\":{\"color\":\"orange\",\"width\":3},\"type\":\"line\",\"x0\":0,\"x1\":1,\"xref\":\"x domain\",\"y0\":0.3,\"y1\":0.3,\"yref\":\"y\"}],\"showlegend\":false,\"template\":{\"data\":{\"bar\":[{\"error_x\":{\"color\":\"#2a3f5f\"},\"error_y\":{\"color\":\"#2a3f5f\"},\"marker\":{\"line\":{\"color\":\"#E5ECF6\",\"width\":0.5},\"pattern\":{\"fillmode\":\"overlay\",\"size\":10,\"solidity\":0.2}},\"type\":\"bar\"}],\"barpolar\":[{\"marker\":{\"line\":{\"color\":\"#E5ECF6\",\"width\":0.5},\"pattern\":{\"fillmode\":\"overlay\",\"size\":10,\"solidity\":0.2}},\"type\":\"barpolar\"}],\"carpet\":[{\"aaxis\":{\"endlinecolor\":\"#2a3f5f\",\"gridcolor\":\"white\",\"linecolor\":\"white\",\"minorgridcolor\":\"white\",\"startlinecolor\":\"#2a3f5f\"},\"baxis\":{\"endlinecolor\":\"#2a3f5f\",\"gridcolor\":\"white\",\"linecolor\":\"white\",\"minorgridcolor\":\"white\",\"startlinecolor\":\"#2a3f5f\"},\"type\":\"carpet\"}],\"choropleth\":[{\"colorbar\":{\"outlinewidth\":0,\"ticks\":\"\"},\"type\":\"choropleth\"}],\"contour\":[{\"colorbar\":{\"outlinewidth\":0,\"ticks\":\"\"},\"colorscale\":[[0.0,\"#0d0887\"],[0.1111111111111111,\"#46039f\"],[0.2222222222222222,\"#7201a8\"],[0.3333333333333333,\"#9c179e\"],[0.4444444444444444,\"#bd3786\"],[0.5555555555555556,\"#d8576b\"],[0.6666666666666666,\"#ed7953\"],[0.7777777777777778,\"#fb9f3a\"],[0.8888888888888888,\"#fdca26\"],[1.0,\"#f0f921\"]],\"type\":\"contour\"}],\"contourcarpet\":[{\"colorbar\":{\"outlinewidth\":0,\"ticks\":\"\"},\"type\":\"contourcarpet\"}],\"heatmap\":[{\"colorbar\":{\"outlinewidth\":0,\"ticks\":\"\"},\"colorscale\":[[0.0,\"#0d0887\"],[0.1111111111111111,\"#46039f\"],[0.2222222222222222,\"#7201a8\"],[0.3333333333333333,\"#9c179e\"],[0.4444444444444444,\"#bd3786\"],[0.5555555555555556,\"#d8576b\"],[0.6666666666666666,\"#ed7953\"],[0.7777777777777778,\"#fb9f3a\"],[0.8888888888888888,\"#fdca26\"],[1.0,\"#f0f921\"]],\"type\":\"heatmap\"}],\"heatmapgl\":[{\"colorbar\":{\"outlinewidth\":0,\"ticks\":\"\"},\"colorscale\":[[0.0,\"#0d0887\"],[0.1111111111111111,\"#46039f\"],[0.2222222222222222,\"#7201a8\"],[0.3333333333333333,\"#9c179e\"],[0.4444444444444444,\"#bd3786\"],[0.5555555555555556,\"#d8576b\"],[0.6666666666666666,\"#ed7953\"],[0.7777777777777778,\"#fb9f3a\"],[0.8888888888888888,\"#fdca26\"],[1.0,\"#f0f921\"]],\"type\":\"heatmapgl\"}],\"histogram\":[{\"marker\":{\"pattern\":{\"fillmode\":\"overlay\",\"size\":10,\"solidity\":0.2}},\"type\":\"histogram\"}],\"histogram2d\":[{\"colorbar\":{\"outlinewidth\":0,\"ticks\":\"\"},\"colorscale\":[[0.0,\"#0d0887\"],[0.1111111111111111,\"#46039f\"],[0.2222222222222222,\"#7201a8\"],[0.3333333333333333,\"#9c179e\"],[0.4444444444444444,\"#bd3786\"],[0.5555555555555556,\"#d8576b\"],[0.6666666666666666,\"#ed7953\"],[0.7777777777777778,\"#fb9f3a\"],[0.8888888888888888,\"#fdca26\"],[1.0,\"#f0f921\"]],\"type\":\"histogram2d\"}],\"histogram2dcontour\":[{\"colorbar\":{\"outlinewidth\":0,\"ticks\":\"\"},\"colorscale\":[[0.0,\"#0d0887\"],[0.1111111111111111,\"#46039f\"],[0.2222222222222222,\"#7201a8\"],[0.3333333333333333,\"#9c179e\"],[0.4444444444444444,\"#bd3786\"],[0.5555555555555556,\"#d8576b\"],[0.6666666666666666,\"#ed7953\"],[0.7777777777777778,\"#fb9f3a\"],[0.8888888888888888,\"#fdca26\"],[1.0,\"#f0f921\"]],\"type\":\"histogram2dcontour\"}],\"mesh3d\":[{\"colorbar\":{\"outlinewidth\":0,\"ticks\":\"\"},\"type\":\"mesh3d\"}],\"parcoords\":[{\"line\":{\"colorbar\":{\"outlinewidth\":0,\"ticks\":\"\"}},\"type\":\"parcoords\"}],\"pie\":[{\"automargin\":true,\"type\":\"pie\"}],\"scatter\":[{\"marker\":{\"colorbar\":{\"outlinewidth\":0,\"ticks\":\"\"}},\"type\":\"scatter\"}],\"scatter3d\":[{\"line\":{\"colorbar\":{\"outlinewidth\":0,\"ticks\":\"\"}},\"marker\":{\"colorbar\":{\"outlinewidth\":0,\"ticks\":\"\"}},\"type\":\"scatter3d\"}],\"scattercarpet\":[{\"marker\":{\"colorbar\":{\"outlinewidth\":0,\"ticks\":\"\"}},\"type\":\"scattercarpet\"}],\"scattergeo\":[{\"marker\":{\"colorbar\":{\"outlinewidth\":0,\"ticks\":\"\"}},\"type\":\"scattergeo\"}],\"scattergl\":[{\"marker\":{\"colorbar\":{\"outlinewidth\":0,\"ticks\":\"\"}},\"type\":\"scattergl\"}],\"scattermapbox\":[{\"marker\":{\"colorbar\":{\"outlinewidth\":0,\"ticks\":\"\"}},\"type\":\"scattermapbox\"}],\"scatterpolar\":[{\"marker\":{\"colorbar\":{\"outlinewidth\":0,\"ticks\":\"\"}},\"type\":\"scatterpolar\"}],\"scatterpolargl\":[{\"marker\":{\"colorbar\":{\"outlinewidth\":0,\"ticks\":\"\"}},\"type\":\"scatterpolargl\"}],\"scatterternary\":[{\"marker\":{\"colorbar\":{\"outlinewidth\":0,\"ticks\":\"\"}},\"type\":\"scatterternary\"}],\"surface\":[{\"colorbar\":{\"outlinewidth\":0,\"ticks\":\"\"},\"colorscale\":[[0.0,\"#0d0887\"],[0.1111111111111111,\"#46039f\"],[0.2222222222222222,\"#7201a8\"],[0.3333333333333333,\"#9c179e\"],[0.4444444444444444,\"#bd3786\"],[0.5555555555555556,\"#d8576b\"],[0.6666666666666666,\"#ed7953\"],[0.7777777777777778,\"#fb9f3a\"],[0.8888888888888888,\"#fdca26\"],[1.0,\"#f0f921\"]],\"type\":\"surface\"}],\"table\":[{\"cells\":{\"fill\":{\"color\":\"#EBF0F8\"},\"line\":{\"color\":\"white\"}},\"header\":{\"fill\":{\"color\":\"#C8D4E3\"},\"line\":{\"color\":\"white\"}},\"type\":\"table\"}]},\"layout\":{\"annotationdefaults\":{\"arrowcolor\":\"#2a3f5f\",\"arrowhead\":0,\"arrowwidth\":1},\"autotypenumbers\":\"strict\",\"coloraxis\":{\"colorbar\":{\"outlinewidth\":0,\"ticks\":\"\"}},\"colorscale\":{\"diverging\":[[0,\"#8e0152\"],[0.1,\"#c51b7d\"],[0.2,\"#de77ae\"],[0.3,\"#f1b6da\"],[0.4,\"#fde0ef\"],[0.5,\"#f7f7f7\"],[0.6,\"#e6f5d0\"],[0.7,\"#b8e186\"],[0.8,\"#7fbc41\"],[0.9,\"#4d9221\"],[1,\"#276419\"]],\"sequential\":[[0.0,\"#0d0887\"],[0.1111111111111111,\"#46039f\"],[0.2222222222222222,\"#7201a8\"],[0.3333333333333333,\"#9c179e\"],[0.4444444444444444,\"#bd3786\"],[0.5555555555555556,\"#d8576b\"],[0.6666666666666666,\"#ed7953\"],[0.7777777777777778,\"#fb9f3a\"],[0.8888888888888888,\"#fdca26\"],[1.0,\"#f0f921\"]],\"sequentialminus\":[[0.0,\"#0d0887\"],[0.1111111111111111,\"#46039f\"],[0.2222222222222222,\"#7201a8\"],[0.3333333333333333,\"#9c179e\"],[0.4444444444444444,\"#bd3786\"],[0.5555555555555556,\"#d8576b\"],[0.6666666666666666,\"#ed7953\"],[0.7777777777777778,\"#fb9f3a\"],[0.8888888888888888,\"#fdca26\"],[1.0,\"#f0f921\"]]},\"colorway\":[\"#636efa\",\"#EF553B\",\"#00cc96\",\"#ab63fa\",\"#FFA15A\",\"#19d3f3\",\"#FF6692\",\"#B6E880\",\"#FF97FF\",\"#FECB52\"],\"font\":{\"color\":\"#2a3f5f\"},\"geo\":{\"bgcolor\":\"white\",\"lakecolor\":\"white\",\"landcolor\":\"#E5ECF6\",\"showlakes\":true,\"showland\":true,\"subunitcolor\":\"white\"},\"hoverlabel\":{\"align\":\"left\"},\"hovermode\":\"closest\",\"mapbox\":{\"style\":\"light\"},\"paper_bgcolor\":\"white\",\"plot_bgcolor\":\"#E5ECF6\",\"polar\":{\"angularaxis\":{\"gridcolor\":\"white\",\"linecolor\":\"white\",\"ticks\":\"\"},\"bgcolor\":\"#E5ECF6\",\"radialaxis\":{\"gridcolor\":\"white\",\"linecolor\":\"white\",\"ticks\":\"\"}},\"scene\":{\"xaxis\":{\"backgroundcolor\":\"#E5ECF6\",\"gridcolor\":\"white\",\"gridwidth\":2,\"linecolor\":\"white\",\"showbackground\":true,\"ticks\":\"\",\"zerolinecolor\":\"white\"},\"yaxis\":{\"backgroundcolor\":\"#E5ECF6\",\"gridcolor\":\"white\",\"gridwidth\":2,\"linecolor\":\"white\",\"showbackground\":true,\"ticks\":\"\",\"zerolinecolor\":\"white\"},\"zaxis\":{\"backgroundcolor\":\"#E5ECF6\",\"gridcolor\":\"white\",\"gridwidth\":2,\"linecolor\":\"white\",\"showbackground\":true,\"ticks\":\"\",\"zerolinecolor\":\"white\"}},\"shapedefaults\":{\"line\":{\"color\":\"#2a3f5f\"}},\"ternary\":{\"aaxis\":{\"gridcolor\":\"white\",\"linecolor\":\"white\",\"ticks\":\"\"},\"baxis\":{\"gridcolor\":\"white\",\"linecolor\":\"white\",\"ticks\":\"\"},\"bgcolor\":\"#E5ECF6\",\"caxis\":{\"gridcolor\":\"white\",\"linecolor\":\"white\",\"ticks\":\"\"}},\"title\":{\"x\":0.05},\"xaxis\":{\"automargin\":true,\"gridcolor\":\"white\",\"linecolor\":\"white\",\"ticks\":\"\",\"title\":{\"standoff\":15},\"zerolinecolor\":\"white\",\"zerolinewidth\":2},\"yaxis\":{\"automargin\":true,\"gridcolor\":\"white\",\"linecolor\":\"white\",\"ticks\":\"\",\"title\":{\"standoff\":15},\"zerolinecolor\":\"white\",\"zerolinewidth\":2}}},\"title\":{\"font\":{\"color\":\"#222\",\"size\":28},\"text\":\"Ma\\u011fazalar\\u0131n Sat\\u0131\\u015f \\u00d6zeti\",\"x\":0.5,\"y\":0.9},\"width\":800,\"xaxis\":{\"range\":[-0.5,6.6],\"visible\":false},\"yaxis\":{\"range\":[-1.2,2.2],\"visible\":false}},                        {\"responsive\": true}                    ).then(function(){\n",
       "                            \n",
       "var gd = document.getElementById('a3bd1939-bafc-4fab-b1d4-a34266d7e39a');\n",
       "var x = new MutationObserver(function (mutations, observer) {{\n",
       "        var display = window.getComputedStyle(gd).display;\n",
       "        if (!display || display === 'none') {{\n",
       "            console.log([gd, 'removed!']);\n",
       "            Plotly.purge(gd);\n",
       "            observer.disconnect();\n",
       "        }}\n",
       "}});\n",
       "\n",
       "// Listen for the removal of the full notebook cells\n",
       "var notebookContainer = gd.closest('#notebook-container');\n",
       "if (notebookContainer) {{\n",
       "    x.observe(notebookContainer, {childList: true});\n",
       "}}\n",
       "\n",
       "// Listen for the clearing of the current output cell\n",
       "var outputEl = gd.closest('.output');\n",
       "if (outputEl) {{\n",
       "    x.observe(outputEl, {childList: true});\n",
       "}}\n",
       "\n",
       "                        })                };                });            </script>        </div>"
      ]
     },
     "metadata": {},
     "output_type": "display_data"
    }
   ],
   "source": [
    "import dash\n",
    "import dash_core_components as dcc\n",
    "import dash_html_components as html\n",
    "import plotly.graph_objs as go\n",
    "import pandas as pd\n",
    "import pandas as pd\n",
    "import numpy as np\n",
    "import matplotlib as mpl\n",
    "import matplotlib.pyplot as plt\n",
    "\n",
    "from jupyter_dash import JupyterDash\n",
    "\n",
    "import calendar\n",
    "\n",
    "import plotly.express as px\n",
    "from plotly.subplots import make_subplots\n",
    "import plotly.figure_factory as ff\n",
    "import plotly.offline as offline\n",
    "import plotly.graph_objs as go\n",
    "offline.init_notebook_mode(connected = True)\n",
    "\n",
    "df_holi = pd.read_csv('holidays_events.csv')\n",
    "df_oil = pd.read_csv('oil.csv')\n",
    "df_stores = pd.read_csv('stores.csv')\n",
    "df_trans = pd.read_csv('transactions.csv')\n",
    "df_train = pd.read_csv('train.csv')\n",
    "df_test = pd.read_csv('test.csv')\n",
    "\n",
    "\n",
    "stores_num = df_stores.shape[0]\n",
    "type_store_num = len(df_stores.groupby('type').size())\n",
    "product_num = len(df_train.groupby('family').size())\n",
    "cities_num = len(df_stores.groupby('city').size())\n",
    "state_num = len(df_stores.groupby('state').size())\n",
    "\n",
    "#df_train['date'] = pd.to_datetime(df_train['date'])\n",
    "df_train.sort_values(by=['date'], inplace=True, ascending = True)\n",
    "first_date=(df_train[\"date\"].iloc[0])#.strftime(\"%Y-%m-%d\")\n",
    "last_date=(df_train[\"date\"].iloc[-1])#.strftime(\"%Y-%m-%d\")\n",
    "\n",
    "fig0=go.Figure()\n",
    "fig0.add_trace(go.Scatter(\n",
    "    x=[0,1,2,3.2,4.5,5.5],\n",
    "    y=[1.7, 1.7, 1.7, 1.7, 1.7, 1.7],\n",
    "    mode=\"text\",\n",
    "    text=[\"Mağaza\",\"Şehir\",\"Eyalet\",\"Mağaza Tipi\", \"Ürün Ailesi\", \"Küme\"],\n",
    "    textposition=\"bottom center\"\n",
    "))\n",
    "fig0.add_trace(go.Scatter(\n",
    "    x=[0,1,2,3.2,4.5,5.5],\n",
    "    y=[1.1, 1.1, 1.1, 1.1, 1.1, 1.1],\n",
    "    mode=\"text\", \n",
    "    text=[\"<span style='font-size:24px'><b>\"+ str(stores_num) +\"</b></span>\", \n",
    "          \"<span style='font-size:24px'><b>\"+ str(cities_num) +\"</b></span>\",\n",
    "          \"<span style='font-size:24px'><b>\"+ str(state_num) + \"</b></span>\",\n",
    "          \"<span style='font-size:24px'><b>\"+ str(type_store_num) + \"</b></span>\",\n",
    "          \"<span style='font-size:24px'><b>\"+ str(product_num) + \"</b></span>\",\n",
    "          \"<span style='font-size:24px'><b>17</b></span>\"],\n",
    "    textposition=\"bottom center\"\n",
    "))\n",
    "fig0.add_hline(y=2.2, line_width=5, line_color='orange')\n",
    "fig0.add_hline(y=0.3, line_width=3, line_color='orange')\n",
    "fig0.add_trace(go.Scatter(\n",
    "    x=[2.5],\n",
    "    y=[-0.2],\n",
    "    mode=\"text\",\n",
    "    text=[\"<span style='font-size:18px'><b>         Veri tarih aralığı \" + first_date + \" ile \" + last_date + \" arasındadır.\"+\"</b></span>\"],\n",
    "    textposition=\"bottom center\"\n",
    "))\n",
    "\n",
    "\n",
    "fig0.update_yaxes(visible=False)\n",
    "fig0.update_xaxes(visible=False)\n",
    "fig0.update_layout(showlegend=False, height=300, width=800, \n",
    "                  title='Mağazaların Satış Özeti', title_x=0.5, title_y=0.9,\n",
    "                  xaxis_range=[-0.5,6.6], yaxis_range=[-1.2,2.2],\n",
    "                  plot_bgcolor='#fafafa', paper_bgcolor='#fafafa',\n",
    "                  font=dict(size=20, color='#323232'),\n",
    "                  title_font=dict(size=28, color='#222'),\n",
    "                  margin=dict(t=90,l=70,b=0,r=70), \n",
    "    )\n"
   ]
  },
  {
   "cell_type": "code",
   "execution_count": 2,
   "metadata": {},
   "outputs": [],
   "source": [
    "colors={}\n",
    "def colorFader(c1,c2,mix=0): \n",
    "    c1=np.array(mpl.colors.to_rgb(c1))\n",
    "    c2=np.array(mpl.colors.to_rgb(c2))\n",
    "    return mpl.colors.to_hex((1-mix)*c1 + mix*c2)\n",
    "c1='#FAA831' \n",
    "c2='#9A4800' \n",
    "n=9\n",
    "for x in range(n+1):\n",
    "    colors['level'+ str(n-x+1)] = colorFader(c1,c2,x/n) \n",
    "colors['background'] = '#232425'\n",
    "colors['text'] = '#fff'"
   ]
  },
  {
   "cell_type": "code",
   "execution_count": 3,
   "metadata": {},
   "outputs": [
    {
     "data": {
      "text/plain": [
       "{'level10': '#faa831',\n",
       " 'level9': '#ef9d2c',\n",
       " 'level8': '#e59326',\n",
       " 'level7': '#da8821',\n",
       " 'level6': '#cf7d1b',\n",
       " 'level5': '#c57316',\n",
       " 'level4': '#ba6810',\n",
       " 'level3': '#af5d0b',\n",
       " 'level2': '#a55305',\n",
       " 'level1': '#9a4800',\n",
       " 'background': '#232425',\n",
       " 'text': '#fff'}"
      ]
     },
     "execution_count": 3,
     "metadata": {},
     "output_type": "execute_result"
    }
   ],
   "source": [
    "colors"
   ]
  },
  {
   "cell_type": "code",
   "execution_count": 4,
   "metadata": {},
   "outputs": [
    {
     "data": {
      "text/html": [
       "<div>\n",
       "<style scoped>\n",
       "    .dataframe tbody tr th:only-of-type {\n",
       "        vertical-align: middle;\n",
       "    }\n",
       "\n",
       "    .dataframe tbody tr th {\n",
       "        vertical-align: top;\n",
       "    }\n",
       "\n",
       "    .dataframe thead th {\n",
       "        text-align: right;\n",
       "    }\n",
       "</style>\n",
       "<table border=\"1\" class=\"dataframe\">\n",
       "  <thead>\n",
       "    <tr style=\"text-align: right;\">\n",
       "      <th></th>\n",
       "      <th>id</th>\n",
       "      <th>date</th>\n",
       "      <th>store_nbr</th>\n",
       "      <th>family</th>\n",
       "      <th>sales</th>\n",
       "      <th>onpromotion</th>\n",
       "      <th>holiday_type</th>\n",
       "      <th>locale</th>\n",
       "      <th>locale_name</th>\n",
       "      <th>description</th>\n",
       "      <th>...</th>\n",
       "      <th>city</th>\n",
       "      <th>state</th>\n",
       "      <th>store_type</th>\n",
       "      <th>cluster</th>\n",
       "      <th>transactions</th>\n",
       "      <th>year</th>\n",
       "      <th>month</th>\n",
       "      <th>week</th>\n",
       "      <th>quarter</th>\n",
       "      <th>day_of_week</th>\n",
       "    </tr>\n",
       "  </thead>\n",
       "  <tbody>\n",
       "    <tr>\n",
       "      <th>2364759</th>\n",
       "      <td>2323151</td>\n",
       "      <td>2016-07-30</td>\n",
       "      <td>42</td>\n",
       "      <td>HOME APPLIANCES</td>\n",
       "      <td>0.000</td>\n",
       "      <td>0.0</td>\n",
       "      <td>NaN</td>\n",
       "      <td>NaN</td>\n",
       "      <td>NaN</td>\n",
       "      <td>NaN</td>\n",
       "      <td>...</td>\n",
       "      <td>Cuenca</td>\n",
       "      <td>Azuay</td>\n",
       "      <td>D</td>\n",
       "      <td>2</td>\n",
       "      <td>1219.0</td>\n",
       "      <td>2016</td>\n",
       "      <td>7</td>\n",
       "      <td>30</td>\n",
       "      <td>3</td>\n",
       "      <td>Saturday</td>\n",
       "    </tr>\n",
       "    <tr>\n",
       "      <th>1832041</th>\n",
       "      <td>1808277</td>\n",
       "      <td>2015-10-14</td>\n",
       "      <td>46</td>\n",
       "      <td>DELI</td>\n",
       "      <td>522.731</td>\n",
       "      <td>65.0</td>\n",
       "      <td>NaN</td>\n",
       "      <td>NaN</td>\n",
       "      <td>NaN</td>\n",
       "      <td>NaN</td>\n",
       "      <td>...</td>\n",
       "      <td>Quito</td>\n",
       "      <td>Pichincha</td>\n",
       "      <td>A</td>\n",
       "      <td>14</td>\n",
       "      <td>2695.0</td>\n",
       "      <td>2015</td>\n",
       "      <td>10</td>\n",
       "      <td>42</td>\n",
       "      <td>4</td>\n",
       "      <td>Wednesday</td>\n",
       "    </tr>\n",
       "    <tr>\n",
       "      <th>2277802</th>\n",
       "      <td>2242767</td>\n",
       "      <td>2016-06-15</td>\n",
       "      <td>37</td>\n",
       "      <td>LINGERIE</td>\n",
       "      <td>0.000</td>\n",
       "      <td>0.0</td>\n",
       "      <td>NaN</td>\n",
       "      <td>NaN</td>\n",
       "      <td>NaN</td>\n",
       "      <td>NaN</td>\n",
       "      <td>...</td>\n",
       "      <td>Cuenca</td>\n",
       "      <td>Azuay</td>\n",
       "      <td>D</td>\n",
       "      <td>2</td>\n",
       "      <td>1407.0</td>\n",
       "      <td>2016</td>\n",
       "      <td>6</td>\n",
       "      <td>24</td>\n",
       "      <td>2</td>\n",
       "      <td>Wednesday</td>\n",
       "    </tr>\n",
       "    <tr>\n",
       "      <th>1935733</th>\n",
       "      <td>1911964</td>\n",
       "      <td>2015-12-11</td>\n",
       "      <td>6</td>\n",
       "      <td>EGGS</td>\n",
       "      <td>125.000</td>\n",
       "      <td>29.0</td>\n",
       "      <td>NaN</td>\n",
       "      <td>NaN</td>\n",
       "      <td>NaN</td>\n",
       "      <td>NaN</td>\n",
       "      <td>...</td>\n",
       "      <td>Quito</td>\n",
       "      <td>Pichincha</td>\n",
       "      <td>D</td>\n",
       "      <td>13</td>\n",
       "      <td>1793.0</td>\n",
       "      <td>2015</td>\n",
       "      <td>12</td>\n",
       "      <td>50</td>\n",
       "      <td>4</td>\n",
       "      <td>Friday</td>\n",
       "    </tr>\n",
       "  </tbody>\n",
       "</table>\n",
       "<p>4 rows × 22 columns</p>\n",
       "</div>"
      ],
      "text/plain": [
       "              id       date  store_nbr           family    sales  onpromotion  \\\n",
       "2364759  2323151 2016-07-30         42  HOME APPLIANCES    0.000          0.0   \n",
       "1832041  1808277 2015-10-14         46             DELI  522.731         65.0   \n",
       "2277802  2242767 2016-06-15         37         LINGERIE    0.000          0.0   \n",
       "1935733  1911964 2015-12-11          6             EGGS  125.000         29.0   \n",
       "\n",
       "        holiday_type locale locale_name description  ...    city      state  \\\n",
       "2364759          NaN    NaN         NaN         NaN  ...  Cuenca      Azuay   \n",
       "1832041          NaN    NaN         NaN         NaN  ...   Quito  Pichincha   \n",
       "2277802          NaN    NaN         NaN         NaN  ...  Cuenca      Azuay   \n",
       "1935733          NaN    NaN         NaN         NaN  ...   Quito  Pichincha   \n",
       "\n",
       "        store_type cluster transactions  year  month  week  quarter  \\\n",
       "2364759          D       2       1219.0  2016      7    30        3   \n",
       "1832041          A      14       2695.0  2015     10    42        4   \n",
       "2277802          D       2       1407.0  2016      6    24        2   \n",
       "1935733          D      13       1793.0  2015     12    50        4   \n",
       "\n",
       "         day_of_week  \n",
       "2364759     Saturday  \n",
       "1832041    Wednesday  \n",
       "2277802    Wednesday  \n",
       "1935733       Friday  \n",
       "\n",
       "[4 rows x 22 columns]"
      ]
     },
     "execution_count": 4,
     "metadata": {},
     "output_type": "execute_result"
    }
   ],
   "source": [
    "# copying of train data and merging other data\n",
    "df_train1 = df_train.merge(df_holi, on = 'date', how='left')\n",
    "df_train1 = df_train1.merge(df_oil, on = 'date', how='left')\n",
    "df_train1 = df_train1.merge(df_stores, on = 'store_nbr', how='left')\n",
    "df_train1 = df_train1.merge(df_trans, on = ['date', 'store_nbr'], how='left')\n",
    "df_train1 = df_train1.rename(columns = {\"type_x\" : \"holiday_type\", \"type_y\" : \"store_type\"})\n",
    "\n",
    "df_train1['date'] = pd.to_datetime(df_train1['date'])\n",
    "df_train1['year'] = df_train1['date'].dt.year\n",
    "df_train1['month'] = df_train1['date'].dt.month\n",
    "df_train1['week'] = df_train1['date'].dt.isocalendar().week\n",
    "df_train1['quarter'] = df_train1['date'].dt.quarter\n",
    "df_train1['day_of_week'] = df_train1['date'].dt.day_name()\n",
    "df_train1.sample(n=4)"
   ]
  },
  {
   "cell_type": "code",
   "execution_count": 5,
   "metadata": {},
   "outputs": [
    {
     "data": {
      "application/vnd.plotly.v1+json": {
       "config": {
        "plotlyServerURL": "https://plot.ly"
       },
       "data": [
        {
         "hoverinfo": "text",
         "hovertext": [
          "<b>Ürün Ailesi</b>:GROCERY I<br><b>Satış Adedi</b>:3790<br>",
          "<b>Ürün Ailesi</b>:BEVERAGES<br><b>Satış Adedi</b>:2394<br>",
          "<b>Ürün Ailesi</b>:PRODUCE<br><b>Satış Adedi</b>:1355<br>",
          "<b>Ürün Ailesi</b>:CLEANING<br><b>Satış Adedi</b>:1074<br>",
          "<b>Ürün Ailesi</b>:DAIRY<br><b>Satış Adedi</b>:711<br>",
          "<b>Ürün Ailesi</b>:BREAD/BAKERY<br><b>Satış Adedi</b>:464<br>",
          "<b>Ürün Ailesi</b>:POULTRY<br><b>Satış Adedi</b>:351<br>",
          "<b>Ürün Ailesi</b>:MEATS<br><b>Satış Adedi</b>:341<br>",
          "<b>Ürün Ailesi</b>:PERSONAL CARE<br><b>Satış Adedi</b>:271<br>",
          "<b>Ürün Ailesi</b>:DELI<br><b>Satış Adedi</b>:265<br>"
         ],
         "marker": {
          "color": [
           "#9a4800",
           "#a55305",
           "#af5d0b",
           "#ba6810",
           "#c57316",
           "#faa831",
           "#faa831",
           "#faa831",
           "#faa831",
           "#faa831"
          ]
         },
         "name": "Family",
         "orientation": "h",
         "text": [
          3790,
          2394,
          1355,
          1074,
          711,
          464,
          351,
          341,
          271,
          265
         ],
         "textposition": "auto",
         "type": "bar",
         "x": [
          3790.432797333562,
          2394.9127014996325,
          1355.3736983552733,
          1074.1715177838282,
          711.175990751545,
          464.15061157492863,
          351.07881594741673,
          341.96590481506234,
          271.1923808289036,
          265.6297463669229
         ],
         "y": [
          "GROCERY I",
          "BEVERAGES",
          "PRODUCE",
          "CLEANING",
          "DAIRY",
          "BREAD/BAKERY",
          "POULTRY",
          "MEATS",
          "PERSONAL CARE",
          "DELI"
         ]
        }
       ],
       "layout": {
        "font": {
         "color": "white",
         "size": 14
        },
        "paper_bgcolor": "#232425",
        "plot_bgcolor": "#232425",
        "template": {
         "data": {
          "bar": [
           {
            "error_x": {
             "color": "#2a3f5f"
            },
            "error_y": {
             "color": "#2a3f5f"
            },
            "marker": {
             "line": {
              "color": "#E5ECF6",
              "width": 0.5
             },
             "pattern": {
              "fillmode": "overlay",
              "size": 10,
              "solidity": 0.2
             }
            },
            "type": "bar"
           }
          ],
          "barpolar": [
           {
            "marker": {
             "line": {
              "color": "#E5ECF6",
              "width": 0.5
             },
             "pattern": {
              "fillmode": "overlay",
              "size": 10,
              "solidity": 0.2
             }
            },
            "type": "barpolar"
           }
          ],
          "carpet": [
           {
            "aaxis": {
             "endlinecolor": "#2a3f5f",
             "gridcolor": "white",
             "linecolor": "white",
             "minorgridcolor": "white",
             "startlinecolor": "#2a3f5f"
            },
            "baxis": {
             "endlinecolor": "#2a3f5f",
             "gridcolor": "white",
             "linecolor": "white",
             "minorgridcolor": "white",
             "startlinecolor": "#2a3f5f"
            },
            "type": "carpet"
           }
          ],
          "choropleth": [
           {
            "colorbar": {
             "outlinewidth": 0,
             "ticks": ""
            },
            "type": "choropleth"
           }
          ],
          "contour": [
           {
            "colorbar": {
             "outlinewidth": 0,
             "ticks": ""
            },
            "colorscale": [
             [
              0,
              "#0d0887"
             ],
             [
              0.1111111111111111,
              "#46039f"
             ],
             [
              0.2222222222222222,
              "#7201a8"
             ],
             [
              0.3333333333333333,
              "#9c179e"
             ],
             [
              0.4444444444444444,
              "#bd3786"
             ],
             [
              0.5555555555555556,
              "#d8576b"
             ],
             [
              0.6666666666666666,
              "#ed7953"
             ],
             [
              0.7777777777777778,
              "#fb9f3a"
             ],
             [
              0.8888888888888888,
              "#fdca26"
             ],
             [
              1,
              "#f0f921"
             ]
            ],
            "type": "contour"
           }
          ],
          "contourcarpet": [
           {
            "colorbar": {
             "outlinewidth": 0,
             "ticks": ""
            },
            "type": "contourcarpet"
           }
          ],
          "heatmap": [
           {
            "colorbar": {
             "outlinewidth": 0,
             "ticks": ""
            },
            "colorscale": [
             [
              0,
              "#0d0887"
             ],
             [
              0.1111111111111111,
              "#46039f"
             ],
             [
              0.2222222222222222,
              "#7201a8"
             ],
             [
              0.3333333333333333,
              "#9c179e"
             ],
             [
              0.4444444444444444,
              "#bd3786"
             ],
             [
              0.5555555555555556,
              "#d8576b"
             ],
             [
              0.6666666666666666,
              "#ed7953"
             ],
             [
              0.7777777777777778,
              "#fb9f3a"
             ],
             [
              0.8888888888888888,
              "#fdca26"
             ],
             [
              1,
              "#f0f921"
             ]
            ],
            "type": "heatmap"
           }
          ],
          "heatmapgl": [
           {
            "colorbar": {
             "outlinewidth": 0,
             "ticks": ""
            },
            "colorscale": [
             [
              0,
              "#0d0887"
             ],
             [
              0.1111111111111111,
              "#46039f"
             ],
             [
              0.2222222222222222,
              "#7201a8"
             ],
             [
              0.3333333333333333,
              "#9c179e"
             ],
             [
              0.4444444444444444,
              "#bd3786"
             ],
             [
              0.5555555555555556,
              "#d8576b"
             ],
             [
              0.6666666666666666,
              "#ed7953"
             ],
             [
              0.7777777777777778,
              "#fb9f3a"
             ],
             [
              0.8888888888888888,
              "#fdca26"
             ],
             [
              1,
              "#f0f921"
             ]
            ],
            "type": "heatmapgl"
           }
          ],
          "histogram": [
           {
            "marker": {
             "pattern": {
              "fillmode": "overlay",
              "size": 10,
              "solidity": 0.2
             }
            },
            "type": "histogram"
           }
          ],
          "histogram2d": [
           {
            "colorbar": {
             "outlinewidth": 0,
             "ticks": ""
            },
            "colorscale": [
             [
              0,
              "#0d0887"
             ],
             [
              0.1111111111111111,
              "#46039f"
             ],
             [
              0.2222222222222222,
              "#7201a8"
             ],
             [
              0.3333333333333333,
              "#9c179e"
             ],
             [
              0.4444444444444444,
              "#bd3786"
             ],
             [
              0.5555555555555556,
              "#d8576b"
             ],
             [
              0.6666666666666666,
              "#ed7953"
             ],
             [
              0.7777777777777778,
              "#fb9f3a"
             ],
             [
              0.8888888888888888,
              "#fdca26"
             ],
             [
              1,
              "#f0f921"
             ]
            ],
            "type": "histogram2d"
           }
          ],
          "histogram2dcontour": [
           {
            "colorbar": {
             "outlinewidth": 0,
             "ticks": ""
            },
            "colorscale": [
             [
              0,
              "#0d0887"
             ],
             [
              0.1111111111111111,
              "#46039f"
             ],
             [
              0.2222222222222222,
              "#7201a8"
             ],
             [
              0.3333333333333333,
              "#9c179e"
             ],
             [
              0.4444444444444444,
              "#bd3786"
             ],
             [
              0.5555555555555556,
              "#d8576b"
             ],
             [
              0.6666666666666666,
              "#ed7953"
             ],
             [
              0.7777777777777778,
              "#fb9f3a"
             ],
             [
              0.8888888888888888,
              "#fdca26"
             ],
             [
              1,
              "#f0f921"
             ]
            ],
            "type": "histogram2dcontour"
           }
          ],
          "mesh3d": [
           {
            "colorbar": {
             "outlinewidth": 0,
             "ticks": ""
            },
            "type": "mesh3d"
           }
          ],
          "parcoords": [
           {
            "line": {
             "colorbar": {
              "outlinewidth": 0,
              "ticks": ""
             }
            },
            "type": "parcoords"
           }
          ],
          "pie": [
           {
            "automargin": true,
            "type": "pie"
           }
          ],
          "scatter": [
           {
            "marker": {
             "colorbar": {
              "outlinewidth": 0,
              "ticks": ""
             }
            },
            "type": "scatter"
           }
          ],
          "scatter3d": [
           {
            "line": {
             "colorbar": {
              "outlinewidth": 0,
              "ticks": ""
             }
            },
            "marker": {
             "colorbar": {
              "outlinewidth": 0,
              "ticks": ""
             }
            },
            "type": "scatter3d"
           }
          ],
          "scattercarpet": [
           {
            "marker": {
             "colorbar": {
              "outlinewidth": 0,
              "ticks": ""
             }
            },
            "type": "scattercarpet"
           }
          ],
          "scattergeo": [
           {
            "marker": {
             "colorbar": {
              "outlinewidth": 0,
              "ticks": ""
             }
            },
            "type": "scattergeo"
           }
          ],
          "scattergl": [
           {
            "marker": {
             "colorbar": {
              "outlinewidth": 0,
              "ticks": ""
             }
            },
            "type": "scattergl"
           }
          ],
          "scattermapbox": [
           {
            "marker": {
             "colorbar": {
              "outlinewidth": 0,
              "ticks": ""
             }
            },
            "type": "scattermapbox"
           }
          ],
          "scatterpolar": [
           {
            "marker": {
             "colorbar": {
              "outlinewidth": 0,
              "ticks": ""
             }
            },
            "type": "scatterpolar"
           }
          ],
          "scatterpolargl": [
           {
            "marker": {
             "colorbar": {
              "outlinewidth": 0,
              "ticks": ""
             }
            },
            "type": "scatterpolargl"
           }
          ],
          "scatterternary": [
           {
            "marker": {
             "colorbar": {
              "outlinewidth": 0,
              "ticks": ""
             }
            },
            "type": "scatterternary"
           }
          ],
          "surface": [
           {
            "colorbar": {
             "outlinewidth": 0,
             "ticks": ""
            },
            "colorscale": [
             [
              0,
              "#0d0887"
             ],
             [
              0.1111111111111111,
              "#46039f"
             ],
             [
              0.2222222222222222,
              "#7201a8"
             ],
             [
              0.3333333333333333,
              "#9c179e"
             ],
             [
              0.4444444444444444,
              "#bd3786"
             ],
             [
              0.5555555555555556,
              "#d8576b"
             ],
             [
              0.6666666666666666,
              "#ed7953"
             ],
             [
              0.7777777777777778,
              "#fb9f3a"
             ],
             [
              0.8888888888888888,
              "#fdca26"
             ],
             [
              1,
              "#f0f921"
             ]
            ],
            "type": "surface"
           }
          ],
          "table": [
           {
            "cells": {
             "fill": {
              "color": "#EBF0F8"
             },
             "line": {
              "color": "white"
             }
            },
            "header": {
             "fill": {
              "color": "#C8D4E3"
             },
             "line": {
              "color": "white"
             }
            },
            "type": "table"
           }
          ]
         },
         "layout": {
          "annotationdefaults": {
           "arrowcolor": "#2a3f5f",
           "arrowhead": 0,
           "arrowwidth": 1
          },
          "autotypenumbers": "strict",
          "coloraxis": {
           "colorbar": {
            "outlinewidth": 0,
            "ticks": ""
           }
          },
          "colorscale": {
           "diverging": [
            [
             0,
             "#8e0152"
            ],
            [
             0.1,
             "#c51b7d"
            ],
            [
             0.2,
             "#de77ae"
            ],
            [
             0.3,
             "#f1b6da"
            ],
            [
             0.4,
             "#fde0ef"
            ],
            [
             0.5,
             "#f7f7f7"
            ],
            [
             0.6,
             "#e6f5d0"
            ],
            [
             0.7,
             "#b8e186"
            ],
            [
             0.8,
             "#7fbc41"
            ],
            [
             0.9,
             "#4d9221"
            ],
            [
             1,
             "#276419"
            ]
           ],
           "sequential": [
            [
             0,
             "#0d0887"
            ],
            [
             0.1111111111111111,
             "#46039f"
            ],
            [
             0.2222222222222222,
             "#7201a8"
            ],
            [
             0.3333333333333333,
             "#9c179e"
            ],
            [
             0.4444444444444444,
             "#bd3786"
            ],
            [
             0.5555555555555556,
             "#d8576b"
            ],
            [
             0.6666666666666666,
             "#ed7953"
            ],
            [
             0.7777777777777778,
             "#fb9f3a"
            ],
            [
             0.8888888888888888,
             "#fdca26"
            ],
            [
             1,
             "#f0f921"
            ]
           ],
           "sequentialminus": [
            [
             0,
             "#0d0887"
            ],
            [
             0.1111111111111111,
             "#46039f"
            ],
            [
             0.2222222222222222,
             "#7201a8"
            ],
            [
             0.3333333333333333,
             "#9c179e"
            ],
            [
             0.4444444444444444,
             "#bd3786"
            ],
            [
             0.5555555555555556,
             "#d8576b"
            ],
            [
             0.6666666666666666,
             "#ed7953"
            ],
            [
             0.7777777777777778,
             "#fb9f3a"
            ],
            [
             0.8888888888888888,
             "#fdca26"
            ],
            [
             1,
             "#f0f921"
            ]
           ]
          },
          "colorway": [
           "#636efa",
           "#EF553B",
           "#00cc96",
           "#ab63fa",
           "#FFA15A",
           "#19d3f3",
           "#FF6692",
           "#B6E880",
           "#FF97FF",
           "#FECB52"
          ],
          "font": {
           "color": "#2a3f5f"
          },
          "geo": {
           "bgcolor": "white",
           "lakecolor": "white",
           "landcolor": "#E5ECF6",
           "showlakes": true,
           "showland": true,
           "subunitcolor": "white"
          },
          "hoverlabel": {
           "align": "left"
          },
          "hovermode": "closest",
          "mapbox": {
           "style": "light"
          },
          "paper_bgcolor": "white",
          "plot_bgcolor": "#E5ECF6",
          "polar": {
           "angularaxis": {
            "gridcolor": "white",
            "linecolor": "white",
            "ticks": ""
           },
           "bgcolor": "#E5ECF6",
           "radialaxis": {
            "gridcolor": "white",
            "linecolor": "white",
            "ticks": ""
           }
          },
          "scene": {
           "xaxis": {
            "backgroundcolor": "#E5ECF6",
            "gridcolor": "white",
            "gridwidth": 2,
            "linecolor": "white",
            "showbackground": true,
            "ticks": "",
            "zerolinecolor": "white"
           },
           "yaxis": {
            "backgroundcolor": "#E5ECF6",
            "gridcolor": "white",
            "gridwidth": 2,
            "linecolor": "white",
            "showbackground": true,
            "ticks": "",
            "zerolinecolor": "white"
           },
           "zaxis": {
            "backgroundcolor": "#E5ECF6",
            "gridcolor": "white",
            "gridwidth": 2,
            "linecolor": "white",
            "showbackground": true,
            "ticks": "",
            "zerolinecolor": "white"
           }
          },
          "shapedefaults": {
           "line": {
            "color": "#2a3f5f"
           }
          },
          "ternary": {
           "aaxis": {
            "gridcolor": "white",
            "linecolor": "white",
            "ticks": ""
           },
           "baxis": {
            "gridcolor": "white",
            "linecolor": "white",
            "ticks": ""
           },
           "bgcolor": "#E5ECF6",
           "caxis": {
            "gridcolor": "white",
            "linecolor": "white",
            "ticks": ""
           }
          },
          "title": {
           "x": 0.05
          },
          "xaxis": {
           "automargin": true,
           "gridcolor": "white",
           "linecolor": "white",
           "ticks": "",
           "title": {
            "standoff": 15
           },
           "zerolinecolor": "white",
           "zerolinewidth": 2
          },
          "yaxis": {
           "automargin": true,
           "gridcolor": "white",
           "linecolor": "white",
           "ticks": "",
           "title": {
            "standoff": 15
           },
           "zerolinecolor": "white",
           "zerolinewidth": 2
          }
         }
        },
        "title": {
         "text": "En Çok Satılan 10 Ürün Ailesi"
        },
        "yaxis": {
         "categoryorder": "total ascending",
         "showgrid": false
        }
       }
      },
      "text/html": [
       "<div>                            <div id=\"c110f76c-4c71-42b7-bcc2-899a930436e2\" class=\"plotly-graph-div\" style=\"height:525px; width:100%;\"></div>            <script type=\"text/javascript\">                require([\"plotly\"], function(Plotly) {                    window.PLOTLYENV=window.PLOTLYENV || {};                                    if (document.getElementById(\"c110f76c-4c71-42b7-bcc2-899a930436e2\")) {                    Plotly.newPlot(                        \"c110f76c-4c71-42b7-bcc2-899a930436e2\",                        [{\"hoverinfo\":\"text\",\"hovertext\":[\"<b>\\u00dcr\\u00fcn Ailesi</b>:GROCERY I<br><b>Sat\\u0131\\u015f Adedi</b>:3790<br>\",\"<b>\\u00dcr\\u00fcn Ailesi</b>:BEVERAGES<br><b>Sat\\u0131\\u015f Adedi</b>:2394<br>\",\"<b>\\u00dcr\\u00fcn Ailesi</b>:PRODUCE<br><b>Sat\\u0131\\u015f Adedi</b>:1355<br>\",\"<b>\\u00dcr\\u00fcn Ailesi</b>:CLEANING<br><b>Sat\\u0131\\u015f Adedi</b>:1074<br>\",\"<b>\\u00dcr\\u00fcn Ailesi</b>:DAIRY<br><b>Sat\\u0131\\u015f Adedi</b>:711<br>\",\"<b>\\u00dcr\\u00fcn Ailesi</b>:BREAD/BAKERY<br><b>Sat\\u0131\\u015f Adedi</b>:464<br>\",\"<b>\\u00dcr\\u00fcn Ailesi</b>:POULTRY<br><b>Sat\\u0131\\u015f Adedi</b>:351<br>\",\"<b>\\u00dcr\\u00fcn Ailesi</b>:MEATS<br><b>Sat\\u0131\\u015f Adedi</b>:341<br>\",\"<b>\\u00dcr\\u00fcn Ailesi</b>:PERSONAL CARE<br><b>Sat\\u0131\\u015f Adedi</b>:271<br>\",\"<b>\\u00dcr\\u00fcn Ailesi</b>:DELI<br><b>Sat\\u0131\\u015f Adedi</b>:265<br>\"],\"marker\":{\"color\":[\"#9a4800\",\"#a55305\",\"#af5d0b\",\"#ba6810\",\"#c57316\",\"#faa831\",\"#faa831\",\"#faa831\",\"#faa831\",\"#faa831\"]},\"name\":\"Family\",\"orientation\":\"h\",\"text\":[3790.0,2394.0,1355.0,1074.0,711.0,464.0,351.0,341.0,271.0,265.0],\"textposition\":\"auto\",\"type\":\"bar\",\"x\":[3790.432797333562,2394.9127014996325,1355.3736983552733,1074.1715177838282,711.175990751545,464.15061157492863,351.07881594741673,341.96590481506234,271.1923808289036,265.6297463669229],\"y\":[\"GROCERY I\",\"BEVERAGES\",\"PRODUCE\",\"CLEANING\",\"DAIRY\",\"BREAD/BAKERY\",\"POULTRY\",\"MEATS\",\"PERSONAL CARE\",\"DELI\"]}],                        {\"font\":{\"color\":\"white\",\"size\":14},\"paper_bgcolor\":\"#232425\",\"plot_bgcolor\":\"#232425\",\"template\":{\"data\":{\"bar\":[{\"error_x\":{\"color\":\"#2a3f5f\"},\"error_y\":{\"color\":\"#2a3f5f\"},\"marker\":{\"line\":{\"color\":\"#E5ECF6\",\"width\":0.5},\"pattern\":{\"fillmode\":\"overlay\",\"size\":10,\"solidity\":0.2}},\"type\":\"bar\"}],\"barpolar\":[{\"marker\":{\"line\":{\"color\":\"#E5ECF6\",\"width\":0.5},\"pattern\":{\"fillmode\":\"overlay\",\"size\":10,\"solidity\":0.2}},\"type\":\"barpolar\"}],\"carpet\":[{\"aaxis\":{\"endlinecolor\":\"#2a3f5f\",\"gridcolor\":\"white\",\"linecolor\":\"white\",\"minorgridcolor\":\"white\",\"startlinecolor\":\"#2a3f5f\"},\"baxis\":{\"endlinecolor\":\"#2a3f5f\",\"gridcolor\":\"white\",\"linecolor\":\"white\",\"minorgridcolor\":\"white\",\"startlinecolor\":\"#2a3f5f\"},\"type\":\"carpet\"}],\"choropleth\":[{\"colorbar\":{\"outlinewidth\":0,\"ticks\":\"\"},\"type\":\"choropleth\"}],\"contour\":[{\"colorbar\":{\"outlinewidth\":0,\"ticks\":\"\"},\"colorscale\":[[0.0,\"#0d0887\"],[0.1111111111111111,\"#46039f\"],[0.2222222222222222,\"#7201a8\"],[0.3333333333333333,\"#9c179e\"],[0.4444444444444444,\"#bd3786\"],[0.5555555555555556,\"#d8576b\"],[0.6666666666666666,\"#ed7953\"],[0.7777777777777778,\"#fb9f3a\"],[0.8888888888888888,\"#fdca26\"],[1.0,\"#f0f921\"]],\"type\":\"contour\"}],\"contourcarpet\":[{\"colorbar\":{\"outlinewidth\":0,\"ticks\":\"\"},\"type\":\"contourcarpet\"}],\"heatmap\":[{\"colorbar\":{\"outlinewidth\":0,\"ticks\":\"\"},\"colorscale\":[[0.0,\"#0d0887\"],[0.1111111111111111,\"#46039f\"],[0.2222222222222222,\"#7201a8\"],[0.3333333333333333,\"#9c179e\"],[0.4444444444444444,\"#bd3786\"],[0.5555555555555556,\"#d8576b\"],[0.6666666666666666,\"#ed7953\"],[0.7777777777777778,\"#fb9f3a\"],[0.8888888888888888,\"#fdca26\"],[1.0,\"#f0f921\"]],\"type\":\"heatmap\"}],\"heatmapgl\":[{\"colorbar\":{\"outlinewidth\":0,\"ticks\":\"\"},\"colorscale\":[[0.0,\"#0d0887\"],[0.1111111111111111,\"#46039f\"],[0.2222222222222222,\"#7201a8\"],[0.3333333333333333,\"#9c179e\"],[0.4444444444444444,\"#bd3786\"],[0.5555555555555556,\"#d8576b\"],[0.6666666666666666,\"#ed7953\"],[0.7777777777777778,\"#fb9f3a\"],[0.8888888888888888,\"#fdca26\"],[1.0,\"#f0f921\"]],\"type\":\"heatmapgl\"}],\"histogram\":[{\"marker\":{\"pattern\":{\"fillmode\":\"overlay\",\"size\":10,\"solidity\":0.2}},\"type\":\"histogram\"}],\"histogram2d\":[{\"colorbar\":{\"outlinewidth\":0,\"ticks\":\"\"},\"colorscale\":[[0.0,\"#0d0887\"],[0.1111111111111111,\"#46039f\"],[0.2222222222222222,\"#7201a8\"],[0.3333333333333333,\"#9c179e\"],[0.4444444444444444,\"#bd3786\"],[0.5555555555555556,\"#d8576b\"],[0.6666666666666666,\"#ed7953\"],[0.7777777777777778,\"#fb9f3a\"],[0.8888888888888888,\"#fdca26\"],[1.0,\"#f0f921\"]],\"type\":\"histogram2d\"}],\"histogram2dcontour\":[{\"colorbar\":{\"outlinewidth\":0,\"ticks\":\"\"},\"colorscale\":[[0.0,\"#0d0887\"],[0.1111111111111111,\"#46039f\"],[0.2222222222222222,\"#7201a8\"],[0.3333333333333333,\"#9c179e\"],[0.4444444444444444,\"#bd3786\"],[0.5555555555555556,\"#d8576b\"],[0.6666666666666666,\"#ed7953\"],[0.7777777777777778,\"#fb9f3a\"],[0.8888888888888888,\"#fdca26\"],[1.0,\"#f0f921\"]],\"type\":\"histogram2dcontour\"}],\"mesh3d\":[{\"colorbar\":{\"outlinewidth\":0,\"ticks\":\"\"},\"type\":\"mesh3d\"}],\"parcoords\":[{\"line\":{\"colorbar\":{\"outlinewidth\":0,\"ticks\":\"\"}},\"type\":\"parcoords\"}],\"pie\":[{\"automargin\":true,\"type\":\"pie\"}],\"scatter\":[{\"marker\":{\"colorbar\":{\"outlinewidth\":0,\"ticks\":\"\"}},\"type\":\"scatter\"}],\"scatter3d\":[{\"line\":{\"colorbar\":{\"outlinewidth\":0,\"ticks\":\"\"}},\"marker\":{\"colorbar\":{\"outlinewidth\":0,\"ticks\":\"\"}},\"type\":\"scatter3d\"}],\"scattercarpet\":[{\"marker\":{\"colorbar\":{\"outlinewidth\":0,\"ticks\":\"\"}},\"type\":\"scattercarpet\"}],\"scattergeo\":[{\"marker\":{\"colorbar\":{\"outlinewidth\":0,\"ticks\":\"\"}},\"type\":\"scattergeo\"}],\"scattergl\":[{\"marker\":{\"colorbar\":{\"outlinewidth\":0,\"ticks\":\"\"}},\"type\":\"scattergl\"}],\"scattermapbox\":[{\"marker\":{\"colorbar\":{\"outlinewidth\":0,\"ticks\":\"\"}},\"type\":\"scattermapbox\"}],\"scatterpolar\":[{\"marker\":{\"colorbar\":{\"outlinewidth\":0,\"ticks\":\"\"}},\"type\":\"scatterpolar\"}],\"scatterpolargl\":[{\"marker\":{\"colorbar\":{\"outlinewidth\":0,\"ticks\":\"\"}},\"type\":\"scatterpolargl\"}],\"scatterternary\":[{\"marker\":{\"colorbar\":{\"outlinewidth\":0,\"ticks\":\"\"}},\"type\":\"scatterternary\"}],\"surface\":[{\"colorbar\":{\"outlinewidth\":0,\"ticks\":\"\"},\"colorscale\":[[0.0,\"#0d0887\"],[0.1111111111111111,\"#46039f\"],[0.2222222222222222,\"#7201a8\"],[0.3333333333333333,\"#9c179e\"],[0.4444444444444444,\"#bd3786\"],[0.5555555555555556,\"#d8576b\"],[0.6666666666666666,\"#ed7953\"],[0.7777777777777778,\"#fb9f3a\"],[0.8888888888888888,\"#fdca26\"],[1.0,\"#f0f921\"]],\"type\":\"surface\"}],\"table\":[{\"cells\":{\"fill\":{\"color\":\"#EBF0F8\"},\"line\":{\"color\":\"white\"}},\"header\":{\"fill\":{\"color\":\"#C8D4E3\"},\"line\":{\"color\":\"white\"}},\"type\":\"table\"}]},\"layout\":{\"annotationdefaults\":{\"arrowcolor\":\"#2a3f5f\",\"arrowhead\":0,\"arrowwidth\":1},\"autotypenumbers\":\"strict\",\"coloraxis\":{\"colorbar\":{\"outlinewidth\":0,\"ticks\":\"\"}},\"colorscale\":{\"diverging\":[[0,\"#8e0152\"],[0.1,\"#c51b7d\"],[0.2,\"#de77ae\"],[0.3,\"#f1b6da\"],[0.4,\"#fde0ef\"],[0.5,\"#f7f7f7\"],[0.6,\"#e6f5d0\"],[0.7,\"#b8e186\"],[0.8,\"#7fbc41\"],[0.9,\"#4d9221\"],[1,\"#276419\"]],\"sequential\":[[0.0,\"#0d0887\"],[0.1111111111111111,\"#46039f\"],[0.2222222222222222,\"#7201a8\"],[0.3333333333333333,\"#9c179e\"],[0.4444444444444444,\"#bd3786\"],[0.5555555555555556,\"#d8576b\"],[0.6666666666666666,\"#ed7953\"],[0.7777777777777778,\"#fb9f3a\"],[0.8888888888888888,\"#fdca26\"],[1.0,\"#f0f921\"]],\"sequentialminus\":[[0.0,\"#0d0887\"],[0.1111111111111111,\"#46039f\"],[0.2222222222222222,\"#7201a8\"],[0.3333333333333333,\"#9c179e\"],[0.4444444444444444,\"#bd3786\"],[0.5555555555555556,\"#d8576b\"],[0.6666666666666666,\"#ed7953\"],[0.7777777777777778,\"#fb9f3a\"],[0.8888888888888888,\"#fdca26\"],[1.0,\"#f0f921\"]]},\"colorway\":[\"#636efa\",\"#EF553B\",\"#00cc96\",\"#ab63fa\",\"#FFA15A\",\"#19d3f3\",\"#FF6692\",\"#B6E880\",\"#FF97FF\",\"#FECB52\"],\"font\":{\"color\":\"#2a3f5f\"},\"geo\":{\"bgcolor\":\"white\",\"lakecolor\":\"white\",\"landcolor\":\"#E5ECF6\",\"showlakes\":true,\"showland\":true,\"subunitcolor\":\"white\"},\"hoverlabel\":{\"align\":\"left\"},\"hovermode\":\"closest\",\"mapbox\":{\"style\":\"light\"},\"paper_bgcolor\":\"white\",\"plot_bgcolor\":\"#E5ECF6\",\"polar\":{\"angularaxis\":{\"gridcolor\":\"white\",\"linecolor\":\"white\",\"ticks\":\"\"},\"bgcolor\":\"#E5ECF6\",\"radialaxis\":{\"gridcolor\":\"white\",\"linecolor\":\"white\",\"ticks\":\"\"}},\"scene\":{\"xaxis\":{\"backgroundcolor\":\"#E5ECF6\",\"gridcolor\":\"white\",\"gridwidth\":2,\"linecolor\":\"white\",\"showbackground\":true,\"ticks\":\"\",\"zerolinecolor\":\"white\"},\"yaxis\":{\"backgroundcolor\":\"#E5ECF6\",\"gridcolor\":\"white\",\"gridwidth\":2,\"linecolor\":\"white\",\"showbackground\":true,\"ticks\":\"\",\"zerolinecolor\":\"white\"},\"zaxis\":{\"backgroundcolor\":\"#E5ECF6\",\"gridcolor\":\"white\",\"gridwidth\":2,\"linecolor\":\"white\",\"showbackground\":true,\"ticks\":\"\",\"zerolinecolor\":\"white\"}},\"shapedefaults\":{\"line\":{\"color\":\"#2a3f5f\"}},\"ternary\":{\"aaxis\":{\"gridcolor\":\"white\",\"linecolor\":\"white\",\"ticks\":\"\"},\"baxis\":{\"gridcolor\":\"white\",\"linecolor\":\"white\",\"ticks\":\"\"},\"bgcolor\":\"#E5ECF6\",\"caxis\":{\"gridcolor\":\"white\",\"linecolor\":\"white\",\"ticks\":\"\"}},\"title\":{\"x\":0.05},\"xaxis\":{\"automargin\":true,\"gridcolor\":\"white\",\"linecolor\":\"white\",\"ticks\":\"\",\"title\":{\"standoff\":15},\"zerolinecolor\":\"white\",\"zerolinewidth\":2},\"yaxis\":{\"automargin\":true,\"gridcolor\":\"white\",\"linecolor\":\"white\",\"ticks\":\"\",\"title\":{\"standoff\":15},\"zerolinecolor\":\"white\",\"zerolinewidth\":2}}},\"title\":{\"text\":\"En \\u00c7ok Sat\\u0131lan 10 \\u00dcr\\u00fcn Ailesi\"},\"yaxis\":{\"categoryorder\":\"total ascending\",\"showgrid\":false}},                        {\"responsive\": true}                    ).then(function(){\n",
       "                            \n",
       "var gd = document.getElementById('c110f76c-4c71-42b7-bcc2-899a930436e2');\n",
       "var x = new MutationObserver(function (mutations, observer) {{\n",
       "        var display = window.getComputedStyle(gd).display;\n",
       "        if (!display || display === 'none') {{\n",
       "            console.log([gd, 'removed!']);\n",
       "            Plotly.purge(gd);\n",
       "            observer.disconnect();\n",
       "        }}\n",
       "}});\n",
       "\n",
       "// Listen for the removal of the full notebook cells\n",
       "var notebookContainer = gd.closest('#notebook-container');\n",
       "if (notebookContainer) {{\n",
       "    x.observe(notebookContainer, {childList: true});\n",
       "}}\n",
       "\n",
       "// Listen for the clearing of the current output cell\n",
       "var outputEl = gd.closest('.output');\n",
       "if (outputEl) {{\n",
       "    x.observe(outputEl, {childList: true});\n",
       "}}\n",
       "\n",
       "                        })                };                });            </script>        </div>"
      ]
     },
     "metadata": {},
     "output_type": "display_data"
    }
   ],
   "source": [
    "df_fa_sa = df_train1.groupby('family').agg({\"sales\" : \"mean\"}).reset_index().sort_values(by='sales', ascending=False)[:10]\n",
    "df_fa_sa['color'] = colors['level10']\n",
    "df_fa_sa['color'][:1] = colors['level1']\n",
    "df_fa_sa['color'][1:2] = colors['level2']\n",
    "df_fa_sa['color'][2:3] = colors['level3']\n",
    "df_fa_sa['color'][3:4] = colors['level4']\n",
    "df_fa_sa['color'][4:5] = colors['level5']\n",
    "\n",
    "fig1 = go.Figure(data=[go.Bar(x=df_fa_sa['sales'],\n",
    "                             y=df_fa_sa['family'], \n",
    "                             marker=dict(color= df_fa_sa['color']),\n",
    "                             name='Family', orientation='h',\n",
    "                             text=df_fa_sa['sales'].astype(int),\n",
    "                             textposition='auto',\n",
    "                             hoverinfo='text',\n",
    "                             hovertext=\n",
    "                            '<b>Ürün Ailesi</b>:'+ df_fa_sa['family'] +'<br>' +\n",
    "                            '<b>Satış Adedi</b>:'+ df_fa_sa['sales'].astype(int).astype(str) +'<br>' ,\n",
    "                            # hovertemplate='Family: %{y}'+'<br>Sales: $%{x:.0f}'\n",
    "                            )])\n",
    "fig1.update_layout(title_text='En Çok Satılan 10 Ürün Ailesi',paper_bgcolor=colors['background'],plot_bgcolor=colors['background'],\n",
    "                font=dict(\n",
    "                size=14,\n",
    "                color='white'))\n",
    "\n",
    "fig1.update_yaxes(showgrid=False, categoryorder='total ascending')\n",
    "\n"
   ]
  },
  {
   "cell_type": "code",
   "execution_count": 6,
   "metadata": {},
   "outputs": [
    {
     "data": {
      "application/vnd.plotly.v1+json": {
       "config": {
        "plotlyServerURL": "https://plot.ly"
       },
       "data": [
        {
         "hole": 0.7,
         "hoverinfo": "label+percent+value",
         "labels": [
          "A",
          "D",
          "B",
          "E",
          "C"
         ],
         "marker": {
          "colors": [
           "#9a4800",
           "#af5d0b",
           "#c57316",
           "#da8821",
           "#ef9d2c"
          ]
         },
         "name": "Store type",
         "textinfo": "label",
         "type": "pie",
         "values": [
          708.3781649559749,
          352.0845097328371,
          328.2752329265365,
          270.28548988364565,
          197.79064658889715
         ]
        }
       ],
       "layout": {
        "font": {
         "color": "white",
         "size": 14
        },
        "paper_bgcolor": "#000000",
        "plot_bgcolor": "#1f2c56",
        "template": {
         "data": {
          "bar": [
           {
            "error_x": {
             "color": "#2a3f5f"
            },
            "error_y": {
             "color": "#2a3f5f"
            },
            "marker": {
             "line": {
              "color": "#E5ECF6",
              "width": 0.5
             },
             "pattern": {
              "fillmode": "overlay",
              "size": 10,
              "solidity": 0.2
             }
            },
            "type": "bar"
           }
          ],
          "barpolar": [
           {
            "marker": {
             "line": {
              "color": "#E5ECF6",
              "width": 0.5
             },
             "pattern": {
              "fillmode": "overlay",
              "size": 10,
              "solidity": 0.2
             }
            },
            "type": "barpolar"
           }
          ],
          "carpet": [
           {
            "aaxis": {
             "endlinecolor": "#2a3f5f",
             "gridcolor": "white",
             "linecolor": "white",
             "minorgridcolor": "white",
             "startlinecolor": "#2a3f5f"
            },
            "baxis": {
             "endlinecolor": "#2a3f5f",
             "gridcolor": "white",
             "linecolor": "white",
             "minorgridcolor": "white",
             "startlinecolor": "#2a3f5f"
            },
            "type": "carpet"
           }
          ],
          "choropleth": [
           {
            "colorbar": {
             "outlinewidth": 0,
             "ticks": ""
            },
            "type": "choropleth"
           }
          ],
          "contour": [
           {
            "colorbar": {
             "outlinewidth": 0,
             "ticks": ""
            },
            "colorscale": [
             [
              0,
              "#0d0887"
             ],
             [
              0.1111111111111111,
              "#46039f"
             ],
             [
              0.2222222222222222,
              "#7201a8"
             ],
             [
              0.3333333333333333,
              "#9c179e"
             ],
             [
              0.4444444444444444,
              "#bd3786"
             ],
             [
              0.5555555555555556,
              "#d8576b"
             ],
             [
              0.6666666666666666,
              "#ed7953"
             ],
             [
              0.7777777777777778,
              "#fb9f3a"
             ],
             [
              0.8888888888888888,
              "#fdca26"
             ],
             [
              1,
              "#f0f921"
             ]
            ],
            "type": "contour"
           }
          ],
          "contourcarpet": [
           {
            "colorbar": {
             "outlinewidth": 0,
             "ticks": ""
            },
            "type": "contourcarpet"
           }
          ],
          "heatmap": [
           {
            "colorbar": {
             "outlinewidth": 0,
             "ticks": ""
            },
            "colorscale": [
             [
              0,
              "#0d0887"
             ],
             [
              0.1111111111111111,
              "#46039f"
             ],
             [
              0.2222222222222222,
              "#7201a8"
             ],
             [
              0.3333333333333333,
              "#9c179e"
             ],
             [
              0.4444444444444444,
              "#bd3786"
             ],
             [
              0.5555555555555556,
              "#d8576b"
             ],
             [
              0.6666666666666666,
              "#ed7953"
             ],
             [
              0.7777777777777778,
              "#fb9f3a"
             ],
             [
              0.8888888888888888,
              "#fdca26"
             ],
             [
              1,
              "#f0f921"
             ]
            ],
            "type": "heatmap"
           }
          ],
          "heatmapgl": [
           {
            "colorbar": {
             "outlinewidth": 0,
             "ticks": ""
            },
            "colorscale": [
             [
              0,
              "#0d0887"
             ],
             [
              0.1111111111111111,
              "#46039f"
             ],
             [
              0.2222222222222222,
              "#7201a8"
             ],
             [
              0.3333333333333333,
              "#9c179e"
             ],
             [
              0.4444444444444444,
              "#bd3786"
             ],
             [
              0.5555555555555556,
              "#d8576b"
             ],
             [
              0.6666666666666666,
              "#ed7953"
             ],
             [
              0.7777777777777778,
              "#fb9f3a"
             ],
             [
              0.8888888888888888,
              "#fdca26"
             ],
             [
              1,
              "#f0f921"
             ]
            ],
            "type": "heatmapgl"
           }
          ],
          "histogram": [
           {
            "marker": {
             "pattern": {
              "fillmode": "overlay",
              "size": 10,
              "solidity": 0.2
             }
            },
            "type": "histogram"
           }
          ],
          "histogram2d": [
           {
            "colorbar": {
             "outlinewidth": 0,
             "ticks": ""
            },
            "colorscale": [
             [
              0,
              "#0d0887"
             ],
             [
              0.1111111111111111,
              "#46039f"
             ],
             [
              0.2222222222222222,
              "#7201a8"
             ],
             [
              0.3333333333333333,
              "#9c179e"
             ],
             [
              0.4444444444444444,
              "#bd3786"
             ],
             [
              0.5555555555555556,
              "#d8576b"
             ],
             [
              0.6666666666666666,
              "#ed7953"
             ],
             [
              0.7777777777777778,
              "#fb9f3a"
             ],
             [
              0.8888888888888888,
              "#fdca26"
             ],
             [
              1,
              "#f0f921"
             ]
            ],
            "type": "histogram2d"
           }
          ],
          "histogram2dcontour": [
           {
            "colorbar": {
             "outlinewidth": 0,
             "ticks": ""
            },
            "colorscale": [
             [
              0,
              "#0d0887"
             ],
             [
              0.1111111111111111,
              "#46039f"
             ],
             [
              0.2222222222222222,
              "#7201a8"
             ],
             [
              0.3333333333333333,
              "#9c179e"
             ],
             [
              0.4444444444444444,
              "#bd3786"
             ],
             [
              0.5555555555555556,
              "#d8576b"
             ],
             [
              0.6666666666666666,
              "#ed7953"
             ],
             [
              0.7777777777777778,
              "#fb9f3a"
             ],
             [
              0.8888888888888888,
              "#fdca26"
             ],
             [
              1,
              "#f0f921"
             ]
            ],
            "type": "histogram2dcontour"
           }
          ],
          "mesh3d": [
           {
            "colorbar": {
             "outlinewidth": 0,
             "ticks": ""
            },
            "type": "mesh3d"
           }
          ],
          "parcoords": [
           {
            "line": {
             "colorbar": {
              "outlinewidth": 0,
              "ticks": ""
             }
            },
            "type": "parcoords"
           }
          ],
          "pie": [
           {
            "automargin": true,
            "type": "pie"
           }
          ],
          "scatter": [
           {
            "marker": {
             "colorbar": {
              "outlinewidth": 0,
              "ticks": ""
             }
            },
            "type": "scatter"
           }
          ],
          "scatter3d": [
           {
            "line": {
             "colorbar": {
              "outlinewidth": 0,
              "ticks": ""
             }
            },
            "marker": {
             "colorbar": {
              "outlinewidth": 0,
              "ticks": ""
             }
            },
            "type": "scatter3d"
           }
          ],
          "scattercarpet": [
           {
            "marker": {
             "colorbar": {
              "outlinewidth": 0,
              "ticks": ""
             }
            },
            "type": "scattercarpet"
           }
          ],
          "scattergeo": [
           {
            "marker": {
             "colorbar": {
              "outlinewidth": 0,
              "ticks": ""
             }
            },
            "type": "scattergeo"
           }
          ],
          "scattergl": [
           {
            "marker": {
             "colorbar": {
              "outlinewidth": 0,
              "ticks": ""
             }
            },
            "type": "scattergl"
           }
          ],
          "scattermapbox": [
           {
            "marker": {
             "colorbar": {
              "outlinewidth": 0,
              "ticks": ""
             }
            },
            "type": "scattermapbox"
           }
          ],
          "scatterpolar": [
           {
            "marker": {
             "colorbar": {
              "outlinewidth": 0,
              "ticks": ""
             }
            },
            "type": "scatterpolar"
           }
          ],
          "scatterpolargl": [
           {
            "marker": {
             "colorbar": {
              "outlinewidth": 0,
              "ticks": ""
             }
            },
            "type": "scatterpolargl"
           }
          ],
          "scatterternary": [
           {
            "marker": {
             "colorbar": {
              "outlinewidth": 0,
              "ticks": ""
             }
            },
            "type": "scatterternary"
           }
          ],
          "surface": [
           {
            "colorbar": {
             "outlinewidth": 0,
             "ticks": ""
            },
            "colorscale": [
             [
              0,
              "#0d0887"
             ],
             [
              0.1111111111111111,
              "#46039f"
             ],
             [
              0.2222222222222222,
              "#7201a8"
             ],
             [
              0.3333333333333333,
              "#9c179e"
             ],
             [
              0.4444444444444444,
              "#bd3786"
             ],
             [
              0.5555555555555556,
              "#d8576b"
             ],
             [
              0.6666666666666666,
              "#ed7953"
             ],
             [
              0.7777777777777778,
              "#fb9f3a"
             ],
             [
              0.8888888888888888,
              "#fdca26"
             ],
             [
              1,
              "#f0f921"
             ]
            ],
            "type": "surface"
           }
          ],
          "table": [
           {
            "cells": {
             "fill": {
              "color": "#EBF0F8"
             },
             "line": {
              "color": "white"
             }
            },
            "header": {
             "fill": {
              "color": "#C8D4E3"
             },
             "line": {
              "color": "white"
             }
            },
            "type": "table"
           }
          ]
         },
         "layout": {
          "annotationdefaults": {
           "arrowcolor": "#2a3f5f",
           "arrowhead": 0,
           "arrowwidth": 1
          },
          "autotypenumbers": "strict",
          "coloraxis": {
           "colorbar": {
            "outlinewidth": 0,
            "ticks": ""
           }
          },
          "colorscale": {
           "diverging": [
            [
             0,
             "#8e0152"
            ],
            [
             0.1,
             "#c51b7d"
            ],
            [
             0.2,
             "#de77ae"
            ],
            [
             0.3,
             "#f1b6da"
            ],
            [
             0.4,
             "#fde0ef"
            ],
            [
             0.5,
             "#f7f7f7"
            ],
            [
             0.6,
             "#e6f5d0"
            ],
            [
             0.7,
             "#b8e186"
            ],
            [
             0.8,
             "#7fbc41"
            ],
            [
             0.9,
             "#4d9221"
            ],
            [
             1,
             "#276419"
            ]
           ],
           "sequential": [
            [
             0,
             "#0d0887"
            ],
            [
             0.1111111111111111,
             "#46039f"
            ],
            [
             0.2222222222222222,
             "#7201a8"
            ],
            [
             0.3333333333333333,
             "#9c179e"
            ],
            [
             0.4444444444444444,
             "#bd3786"
            ],
            [
             0.5555555555555556,
             "#d8576b"
            ],
            [
             0.6666666666666666,
             "#ed7953"
            ],
            [
             0.7777777777777778,
             "#fb9f3a"
            ],
            [
             0.8888888888888888,
             "#fdca26"
            ],
            [
             1,
             "#f0f921"
            ]
           ],
           "sequentialminus": [
            [
             0,
             "#0d0887"
            ],
            [
             0.1111111111111111,
             "#46039f"
            ],
            [
             0.2222222222222222,
             "#7201a8"
            ],
            [
             0.3333333333333333,
             "#9c179e"
            ],
            [
             0.4444444444444444,
             "#bd3786"
            ],
            [
             0.5555555555555556,
             "#d8576b"
            ],
            [
             0.6666666666666666,
             "#ed7953"
            ],
            [
             0.7777777777777778,
             "#fb9f3a"
            ],
            [
             0.8888888888888888,
             "#fdca26"
            ],
            [
             1,
             "#f0f921"
            ]
           ]
          },
          "colorway": [
           "#636efa",
           "#EF553B",
           "#00cc96",
           "#ab63fa",
           "#FFA15A",
           "#19d3f3",
           "#FF6692",
           "#B6E880",
           "#FF97FF",
           "#FECB52"
          ],
          "font": {
           "color": "#2a3f5f"
          },
          "geo": {
           "bgcolor": "white",
           "lakecolor": "white",
           "landcolor": "#E5ECF6",
           "showlakes": true,
           "showland": true,
           "subunitcolor": "white"
          },
          "hoverlabel": {
           "align": "left"
          },
          "hovermode": "closest",
          "mapbox": {
           "style": "light"
          },
          "paper_bgcolor": "white",
          "plot_bgcolor": "#E5ECF6",
          "polar": {
           "angularaxis": {
            "gridcolor": "white",
            "linecolor": "white",
            "ticks": ""
           },
           "bgcolor": "#E5ECF6",
           "radialaxis": {
            "gridcolor": "white",
            "linecolor": "white",
            "ticks": ""
           }
          },
          "scene": {
           "xaxis": {
            "backgroundcolor": "#E5ECF6",
            "gridcolor": "white",
            "gridwidth": 2,
            "linecolor": "white",
            "showbackground": true,
            "ticks": "",
            "zerolinecolor": "white"
           },
           "yaxis": {
            "backgroundcolor": "#E5ECF6",
            "gridcolor": "white",
            "gridwidth": 2,
            "linecolor": "white",
            "showbackground": true,
            "ticks": "",
            "zerolinecolor": "white"
           },
           "zaxis": {
            "backgroundcolor": "#E5ECF6",
            "gridcolor": "white",
            "gridwidth": 2,
            "linecolor": "white",
            "showbackground": true,
            "ticks": "",
            "zerolinecolor": "white"
           }
          },
          "shapedefaults": {
           "line": {
            "color": "#2a3f5f"
           }
          },
          "ternary": {
           "aaxis": {
            "gridcolor": "white",
            "linecolor": "white",
            "ticks": ""
           },
           "baxis": {
            "gridcolor": "white",
            "linecolor": "white",
            "ticks": ""
           },
           "bgcolor": "#E5ECF6",
           "caxis": {
            "gridcolor": "white",
            "linecolor": "white",
            "ticks": ""
           }
          },
          "title": {
           "x": 0.05
          },
          "xaxis": {
           "automargin": true,
           "gridcolor": "white",
           "linecolor": "white",
           "ticks": "",
           "title": {
            "standoff": 15
           },
           "zerolinecolor": "white",
           "zerolinewidth": 2
          },
          "yaxis": {
           "automargin": true,
           "gridcolor": "white",
           "linecolor": "white",
           "ticks": "",
           "title": {
            "standoff": 15
           },
           "zerolinecolor": "white",
           "zerolinewidth": 2
          }
         }
        },
        "title": {
         "text": "Ortalama Satışlar ve Mağaza Türlerinin Karşılaştırılması"
        },
        "yaxis": {
         "categoryorder": "total ascending",
         "showgrid": false
        }
       }
      },
      "text/html": [
       "<div>                            <div id=\"a90417be-6ecc-439e-bba7-0b34a47b3f57\" class=\"plotly-graph-div\" style=\"height:525px; width:100%;\"></div>            <script type=\"text/javascript\">                require([\"plotly\"], function(Plotly) {                    window.PLOTLYENV=window.PLOTLYENV || {};                                    if (document.getElementById(\"a90417be-6ecc-439e-bba7-0b34a47b3f57\")) {                    Plotly.newPlot(                        \"a90417be-6ecc-439e-bba7-0b34a47b3f57\",                        [{\"hole\":0.7,\"hoverinfo\":\"label+percent+value\",\"labels\":[\"A\",\"D\",\"B\",\"E\",\"C\"],\"marker\":{\"colors\":[\"#9a4800\",\"#af5d0b\",\"#c57316\",\"#da8821\",\"#ef9d2c\"]},\"name\":\"Store type\",\"textinfo\":\"label\",\"type\":\"pie\",\"values\":[708.3781649559749,352.0845097328371,328.2752329265365,270.28548988364565,197.79064658889715]}],                        {\"font\":{\"color\":\"white\",\"size\":14},\"paper_bgcolor\":\"#000000\",\"plot_bgcolor\":\"#1f2c56\",\"template\":{\"data\":{\"bar\":[{\"error_x\":{\"color\":\"#2a3f5f\"},\"error_y\":{\"color\":\"#2a3f5f\"},\"marker\":{\"line\":{\"color\":\"#E5ECF6\",\"width\":0.5},\"pattern\":{\"fillmode\":\"overlay\",\"size\":10,\"solidity\":0.2}},\"type\":\"bar\"}],\"barpolar\":[{\"marker\":{\"line\":{\"color\":\"#E5ECF6\",\"width\":0.5},\"pattern\":{\"fillmode\":\"overlay\",\"size\":10,\"solidity\":0.2}},\"type\":\"barpolar\"}],\"carpet\":[{\"aaxis\":{\"endlinecolor\":\"#2a3f5f\",\"gridcolor\":\"white\",\"linecolor\":\"white\",\"minorgridcolor\":\"white\",\"startlinecolor\":\"#2a3f5f\"},\"baxis\":{\"endlinecolor\":\"#2a3f5f\",\"gridcolor\":\"white\",\"linecolor\":\"white\",\"minorgridcolor\":\"white\",\"startlinecolor\":\"#2a3f5f\"},\"type\":\"carpet\"}],\"choropleth\":[{\"colorbar\":{\"outlinewidth\":0,\"ticks\":\"\"},\"type\":\"choropleth\"}],\"contour\":[{\"colorbar\":{\"outlinewidth\":0,\"ticks\":\"\"},\"colorscale\":[[0.0,\"#0d0887\"],[0.1111111111111111,\"#46039f\"],[0.2222222222222222,\"#7201a8\"],[0.3333333333333333,\"#9c179e\"],[0.4444444444444444,\"#bd3786\"],[0.5555555555555556,\"#d8576b\"],[0.6666666666666666,\"#ed7953\"],[0.7777777777777778,\"#fb9f3a\"],[0.8888888888888888,\"#fdca26\"],[1.0,\"#f0f921\"]],\"type\":\"contour\"}],\"contourcarpet\":[{\"colorbar\":{\"outlinewidth\":0,\"ticks\":\"\"},\"type\":\"contourcarpet\"}],\"heatmap\":[{\"colorbar\":{\"outlinewidth\":0,\"ticks\":\"\"},\"colorscale\":[[0.0,\"#0d0887\"],[0.1111111111111111,\"#46039f\"],[0.2222222222222222,\"#7201a8\"],[0.3333333333333333,\"#9c179e\"],[0.4444444444444444,\"#bd3786\"],[0.5555555555555556,\"#d8576b\"],[0.6666666666666666,\"#ed7953\"],[0.7777777777777778,\"#fb9f3a\"],[0.8888888888888888,\"#fdca26\"],[1.0,\"#f0f921\"]],\"type\":\"heatmap\"}],\"heatmapgl\":[{\"colorbar\":{\"outlinewidth\":0,\"ticks\":\"\"},\"colorscale\":[[0.0,\"#0d0887\"],[0.1111111111111111,\"#46039f\"],[0.2222222222222222,\"#7201a8\"],[0.3333333333333333,\"#9c179e\"],[0.4444444444444444,\"#bd3786\"],[0.5555555555555556,\"#d8576b\"],[0.6666666666666666,\"#ed7953\"],[0.7777777777777778,\"#fb9f3a\"],[0.8888888888888888,\"#fdca26\"],[1.0,\"#f0f921\"]],\"type\":\"heatmapgl\"}],\"histogram\":[{\"marker\":{\"pattern\":{\"fillmode\":\"overlay\",\"size\":10,\"solidity\":0.2}},\"type\":\"histogram\"}],\"histogram2d\":[{\"colorbar\":{\"outlinewidth\":0,\"ticks\":\"\"},\"colorscale\":[[0.0,\"#0d0887\"],[0.1111111111111111,\"#46039f\"],[0.2222222222222222,\"#7201a8\"],[0.3333333333333333,\"#9c179e\"],[0.4444444444444444,\"#bd3786\"],[0.5555555555555556,\"#d8576b\"],[0.6666666666666666,\"#ed7953\"],[0.7777777777777778,\"#fb9f3a\"],[0.8888888888888888,\"#fdca26\"],[1.0,\"#f0f921\"]],\"type\":\"histogram2d\"}],\"histogram2dcontour\":[{\"colorbar\":{\"outlinewidth\":0,\"ticks\":\"\"},\"colorscale\":[[0.0,\"#0d0887\"],[0.1111111111111111,\"#46039f\"],[0.2222222222222222,\"#7201a8\"],[0.3333333333333333,\"#9c179e\"],[0.4444444444444444,\"#bd3786\"],[0.5555555555555556,\"#d8576b\"],[0.6666666666666666,\"#ed7953\"],[0.7777777777777778,\"#fb9f3a\"],[0.8888888888888888,\"#fdca26\"],[1.0,\"#f0f921\"]],\"type\":\"histogram2dcontour\"}],\"mesh3d\":[{\"colorbar\":{\"outlinewidth\":0,\"ticks\":\"\"},\"type\":\"mesh3d\"}],\"parcoords\":[{\"line\":{\"colorbar\":{\"outlinewidth\":0,\"ticks\":\"\"}},\"type\":\"parcoords\"}],\"pie\":[{\"automargin\":true,\"type\":\"pie\"}],\"scatter\":[{\"marker\":{\"colorbar\":{\"outlinewidth\":0,\"ticks\":\"\"}},\"type\":\"scatter\"}],\"scatter3d\":[{\"line\":{\"colorbar\":{\"outlinewidth\":0,\"ticks\":\"\"}},\"marker\":{\"colorbar\":{\"outlinewidth\":0,\"ticks\":\"\"}},\"type\":\"scatter3d\"}],\"scattercarpet\":[{\"marker\":{\"colorbar\":{\"outlinewidth\":0,\"ticks\":\"\"}},\"type\":\"scattercarpet\"}],\"scattergeo\":[{\"marker\":{\"colorbar\":{\"outlinewidth\":0,\"ticks\":\"\"}},\"type\":\"scattergeo\"}],\"scattergl\":[{\"marker\":{\"colorbar\":{\"outlinewidth\":0,\"ticks\":\"\"}},\"type\":\"scattergl\"}],\"scattermapbox\":[{\"marker\":{\"colorbar\":{\"outlinewidth\":0,\"ticks\":\"\"}},\"type\":\"scattermapbox\"}],\"scatterpolar\":[{\"marker\":{\"colorbar\":{\"outlinewidth\":0,\"ticks\":\"\"}},\"type\":\"scatterpolar\"}],\"scatterpolargl\":[{\"marker\":{\"colorbar\":{\"outlinewidth\":0,\"ticks\":\"\"}},\"type\":\"scatterpolargl\"}],\"scatterternary\":[{\"marker\":{\"colorbar\":{\"outlinewidth\":0,\"ticks\":\"\"}},\"type\":\"scatterternary\"}],\"surface\":[{\"colorbar\":{\"outlinewidth\":0,\"ticks\":\"\"},\"colorscale\":[[0.0,\"#0d0887\"],[0.1111111111111111,\"#46039f\"],[0.2222222222222222,\"#7201a8\"],[0.3333333333333333,\"#9c179e\"],[0.4444444444444444,\"#bd3786\"],[0.5555555555555556,\"#d8576b\"],[0.6666666666666666,\"#ed7953\"],[0.7777777777777778,\"#fb9f3a\"],[0.8888888888888888,\"#fdca26\"],[1.0,\"#f0f921\"]],\"type\":\"surface\"}],\"table\":[{\"cells\":{\"fill\":{\"color\":\"#EBF0F8\"},\"line\":{\"color\":\"white\"}},\"header\":{\"fill\":{\"color\":\"#C8D4E3\"},\"line\":{\"color\":\"white\"}},\"type\":\"table\"}]},\"layout\":{\"annotationdefaults\":{\"arrowcolor\":\"#2a3f5f\",\"arrowhead\":0,\"arrowwidth\":1},\"autotypenumbers\":\"strict\",\"coloraxis\":{\"colorbar\":{\"outlinewidth\":0,\"ticks\":\"\"}},\"colorscale\":{\"diverging\":[[0,\"#8e0152\"],[0.1,\"#c51b7d\"],[0.2,\"#de77ae\"],[0.3,\"#f1b6da\"],[0.4,\"#fde0ef\"],[0.5,\"#f7f7f7\"],[0.6,\"#e6f5d0\"],[0.7,\"#b8e186\"],[0.8,\"#7fbc41\"],[0.9,\"#4d9221\"],[1,\"#276419\"]],\"sequential\":[[0.0,\"#0d0887\"],[0.1111111111111111,\"#46039f\"],[0.2222222222222222,\"#7201a8\"],[0.3333333333333333,\"#9c179e\"],[0.4444444444444444,\"#bd3786\"],[0.5555555555555556,\"#d8576b\"],[0.6666666666666666,\"#ed7953\"],[0.7777777777777778,\"#fb9f3a\"],[0.8888888888888888,\"#fdca26\"],[1.0,\"#f0f921\"]],\"sequentialminus\":[[0.0,\"#0d0887\"],[0.1111111111111111,\"#46039f\"],[0.2222222222222222,\"#7201a8\"],[0.3333333333333333,\"#9c179e\"],[0.4444444444444444,\"#bd3786\"],[0.5555555555555556,\"#d8576b\"],[0.6666666666666666,\"#ed7953\"],[0.7777777777777778,\"#fb9f3a\"],[0.8888888888888888,\"#fdca26\"],[1.0,\"#f0f921\"]]},\"colorway\":[\"#636efa\",\"#EF553B\",\"#00cc96\",\"#ab63fa\",\"#FFA15A\",\"#19d3f3\",\"#FF6692\",\"#B6E880\",\"#FF97FF\",\"#FECB52\"],\"font\":{\"color\":\"#2a3f5f\"},\"geo\":{\"bgcolor\":\"white\",\"lakecolor\":\"white\",\"landcolor\":\"#E5ECF6\",\"showlakes\":true,\"showland\":true,\"subunitcolor\":\"white\"},\"hoverlabel\":{\"align\":\"left\"},\"hovermode\":\"closest\",\"mapbox\":{\"style\":\"light\"},\"paper_bgcolor\":\"white\",\"plot_bgcolor\":\"#E5ECF6\",\"polar\":{\"angularaxis\":{\"gridcolor\":\"white\",\"linecolor\":\"white\",\"ticks\":\"\"},\"bgcolor\":\"#E5ECF6\",\"radialaxis\":{\"gridcolor\":\"white\",\"linecolor\":\"white\",\"ticks\":\"\"}},\"scene\":{\"xaxis\":{\"backgroundcolor\":\"#E5ECF6\",\"gridcolor\":\"white\",\"gridwidth\":2,\"linecolor\":\"white\",\"showbackground\":true,\"ticks\":\"\",\"zerolinecolor\":\"white\"},\"yaxis\":{\"backgroundcolor\":\"#E5ECF6\",\"gridcolor\":\"white\",\"gridwidth\":2,\"linecolor\":\"white\",\"showbackground\":true,\"ticks\":\"\",\"zerolinecolor\":\"white\"},\"zaxis\":{\"backgroundcolor\":\"#E5ECF6\",\"gridcolor\":\"white\",\"gridwidth\":2,\"linecolor\":\"white\",\"showbackground\":true,\"ticks\":\"\",\"zerolinecolor\":\"white\"}},\"shapedefaults\":{\"line\":{\"color\":\"#2a3f5f\"}},\"ternary\":{\"aaxis\":{\"gridcolor\":\"white\",\"linecolor\":\"white\",\"ticks\":\"\"},\"baxis\":{\"gridcolor\":\"white\",\"linecolor\":\"white\",\"ticks\":\"\"},\"bgcolor\":\"#E5ECF6\",\"caxis\":{\"gridcolor\":\"white\",\"linecolor\":\"white\",\"ticks\":\"\"}},\"title\":{\"x\":0.05},\"xaxis\":{\"automargin\":true,\"gridcolor\":\"white\",\"linecolor\":\"white\",\"ticks\":\"\",\"title\":{\"standoff\":15},\"zerolinecolor\":\"white\",\"zerolinewidth\":2},\"yaxis\":{\"automargin\":true,\"gridcolor\":\"white\",\"linecolor\":\"white\",\"ticks\":\"\",\"title\":{\"standoff\":15},\"zerolinecolor\":\"white\",\"zerolinewidth\":2}}},\"title\":{\"text\":\"Ortalama Sat\\u0131\\u015flar ve Ma\\u011faza T\\u00fcrlerinin Kar\\u015f\\u0131la\\u015ft\\u0131r\\u0131lmas\\u0131\"},\"yaxis\":{\"categoryorder\":\"total ascending\",\"showgrid\":false}},                        {\"responsive\": true}                    ).then(function(){\n",
       "                            \n",
       "var gd = document.getElementById('a90417be-6ecc-439e-bba7-0b34a47b3f57');\n",
       "var x = new MutationObserver(function (mutations, observer) {{\n",
       "        var display = window.getComputedStyle(gd).display;\n",
       "        if (!display || display === 'none') {{\n",
       "            console.log([gd, 'removed!']);\n",
       "            Plotly.purge(gd);\n",
       "            observer.disconnect();\n",
       "        }}\n",
       "}});\n",
       "\n",
       "// Listen for the removal of the full notebook cells\n",
       "var notebookContainer = gd.closest('#notebook-container');\n",
       "if (notebookContainer) {{\n",
       "    x.observe(notebookContainer, {childList: true});\n",
       "}}\n",
       "\n",
       "// Listen for the clearing of the current output cell\n",
       "var outputEl = gd.closest('.output');\n",
       "if (outputEl) {{\n",
       "    x.observe(outputEl, {childList: true});\n",
       "}}\n",
       "\n",
       "                        })                };                });            </script>        </div>"
      ]
     },
     "metadata": {},
     "output_type": "display_data"
    }
   ],
   "source": [
    "df_st_sa = df_train1.groupby('store_type').agg({\"sales\" : \"mean\"}).reset_index().sort_values(by='sales', ascending=False)\n",
    "fig2=go.Figure(data=[go.Pie(values=df_st_sa['sales'], labels=df_st_sa['store_type'], name='Store type',\n",
    "                     marker=dict(colors=[colors['level1'],colors['level3'],colors['level5'],colors['level7'],colors['level9']]), hole=0.7,\n",
    "                     hoverinfo='label+percent+value', textinfo='label'\n",
    "                    )])\n",
    "fig2.update_layout(title_text='Ortalama Satışlar ve Mağaza Türlerinin Karşılaştırılması',paper_bgcolor=\"#000000\",plot_bgcolor='#1f2c56',\n",
    "                font=dict(\n",
    "                size=14,\n",
    "                color='white'))\n",
    "fig2.update_yaxes(showgrid=False, categoryorder='total ascending')"
   ]
  },
  {
   "cell_type": "code",
   "execution_count": 7,
   "metadata": {},
   "outputs": [
    {
     "data": {
      "application/vnd.plotly.v1+json": {
       "config": {
        "plotlyServerURL": "https://plot.ly"
       },
       "data": [
        {
         "hoverinfo": "text",
         "hovertext": [
          "<b>Küme</b>:5<br><b>Satış Adedi</b>:1120<br>",
          "<b>Küme</b>:14<br><b>Satış Adedi</b>:710<br>",
          "<b>Küme</b>:8<br><b>Satış Adedi</b>:648<br>",
          "<b>Küme</b>:11<br><b>Satış Adedi</b>:605<br>",
          "<b>Küme</b>:17<br><b>Satış Adedi</b>:594<br>",
          "<b>Küme</b>:6<br><b>Satış Adedi</b>:344<br>",
          "<b>Küme</b>:1<br><b>Satış Adedi</b>:327<br>",
          "<b>Küme</b>:13<br><b>Satış Adedi</b>:325<br>",
          "<b>Küme</b>:12<br><b>Satış Adedi</b>:325<br>",
          "<b>Küme</b>:4<br><b>Satış Adedi</b>:297<br>",
          "<b>Küme</b>:9<br><b>Satış Adedi</b>:275<br>",
          "<b>Küme</b>:2<br><b>Satış Adedi</b>:261<br>",
          "<b>Küme</b>:10<br><b>Satış Adedi</b>:257<br>",
          "<b>Küme</b>:16<br><b>Satış Adedi</b>:239<br>",
          "<b>Küme</b>:15<br><b>Satış Adedi</b>:199<br>",
          "<b>Küme</b>:3<br><b>Satış Adedi</b>:194<br>",
          "<b>Küme</b>:7<br><b>Satış Adedi</b>:139<br>"
         ],
         "marker": {
          "color": [
           "#9a4800",
           "#a55305",
           "#af5d0b",
           "#ba6810",
           "#c57316",
           "#faa831",
           "#faa831",
           "#faa831",
           "#faa831",
           "#faa831",
           "#faa831",
           "#faa831",
           "#faa831",
           "#faa831",
           "#faa831",
           "#faa831",
           "#faa831"
          ]
         },
         "name": "Cluster",
         "text": [
          1120,
          710,
          648,
          605,
          594,
          344,
          327,
          325,
          325,
          297,
          275,
          261,
          257,
          239,
          199,
          194,
          139
         ],
         "textposition": "auto",
         "type": "bar",
         "x": [
          5,
          14,
          8,
          11,
          17,
          6,
          1,
          13,
          12,
          4,
          9,
          2,
          10,
          16,
          15,
          3,
          7
         ],
         "y": [
          1120.1184051129526,
          710.9223433844163,
          648.9760656801398,
          605.829679777798,
          594.1066666197463,
          344.3154362257486,
          327.0228083130732,
          325.80616915516924,
          325.59196329993614,
          297.53787681601784,
          275.7258793625848,
          261.0257306791571,
          257.00658549846327,
          239.59471866079932,
          199.4475112211058,
          194.92653373500892,
          139.77222164144675
         ]
        }
       ],
       "layout": {
        "font": {
         "color": "white",
         "size": 14
        },
        "paper_bgcolor": "#232425",
        "plot_bgcolor": "#232425",
        "template": {
         "data": {
          "bar": [
           {
            "error_x": {
             "color": "#2a3f5f"
            },
            "error_y": {
             "color": "#2a3f5f"
            },
            "marker": {
             "line": {
              "color": "#E5ECF6",
              "width": 0.5
             },
             "pattern": {
              "fillmode": "overlay",
              "size": 10,
              "solidity": 0.2
             }
            },
            "type": "bar"
           }
          ],
          "barpolar": [
           {
            "marker": {
             "line": {
              "color": "#E5ECF6",
              "width": 0.5
             },
             "pattern": {
              "fillmode": "overlay",
              "size": 10,
              "solidity": 0.2
             }
            },
            "type": "barpolar"
           }
          ],
          "carpet": [
           {
            "aaxis": {
             "endlinecolor": "#2a3f5f",
             "gridcolor": "white",
             "linecolor": "white",
             "minorgridcolor": "white",
             "startlinecolor": "#2a3f5f"
            },
            "baxis": {
             "endlinecolor": "#2a3f5f",
             "gridcolor": "white",
             "linecolor": "white",
             "minorgridcolor": "white",
             "startlinecolor": "#2a3f5f"
            },
            "type": "carpet"
           }
          ],
          "choropleth": [
           {
            "colorbar": {
             "outlinewidth": 0,
             "ticks": ""
            },
            "type": "choropleth"
           }
          ],
          "contour": [
           {
            "colorbar": {
             "outlinewidth": 0,
             "ticks": ""
            },
            "colorscale": [
             [
              0,
              "#0d0887"
             ],
             [
              0.1111111111111111,
              "#46039f"
             ],
             [
              0.2222222222222222,
              "#7201a8"
             ],
             [
              0.3333333333333333,
              "#9c179e"
             ],
             [
              0.4444444444444444,
              "#bd3786"
             ],
             [
              0.5555555555555556,
              "#d8576b"
             ],
             [
              0.6666666666666666,
              "#ed7953"
             ],
             [
              0.7777777777777778,
              "#fb9f3a"
             ],
             [
              0.8888888888888888,
              "#fdca26"
             ],
             [
              1,
              "#f0f921"
             ]
            ],
            "type": "contour"
           }
          ],
          "contourcarpet": [
           {
            "colorbar": {
             "outlinewidth": 0,
             "ticks": ""
            },
            "type": "contourcarpet"
           }
          ],
          "heatmap": [
           {
            "colorbar": {
             "outlinewidth": 0,
             "ticks": ""
            },
            "colorscale": [
             [
              0,
              "#0d0887"
             ],
             [
              0.1111111111111111,
              "#46039f"
             ],
             [
              0.2222222222222222,
              "#7201a8"
             ],
             [
              0.3333333333333333,
              "#9c179e"
             ],
             [
              0.4444444444444444,
              "#bd3786"
             ],
             [
              0.5555555555555556,
              "#d8576b"
             ],
             [
              0.6666666666666666,
              "#ed7953"
             ],
             [
              0.7777777777777778,
              "#fb9f3a"
             ],
             [
              0.8888888888888888,
              "#fdca26"
             ],
             [
              1,
              "#f0f921"
             ]
            ],
            "type": "heatmap"
           }
          ],
          "heatmapgl": [
           {
            "colorbar": {
             "outlinewidth": 0,
             "ticks": ""
            },
            "colorscale": [
             [
              0,
              "#0d0887"
             ],
             [
              0.1111111111111111,
              "#46039f"
             ],
             [
              0.2222222222222222,
              "#7201a8"
             ],
             [
              0.3333333333333333,
              "#9c179e"
             ],
             [
              0.4444444444444444,
              "#bd3786"
             ],
             [
              0.5555555555555556,
              "#d8576b"
             ],
             [
              0.6666666666666666,
              "#ed7953"
             ],
             [
              0.7777777777777778,
              "#fb9f3a"
             ],
             [
              0.8888888888888888,
              "#fdca26"
             ],
             [
              1,
              "#f0f921"
             ]
            ],
            "type": "heatmapgl"
           }
          ],
          "histogram": [
           {
            "marker": {
             "pattern": {
              "fillmode": "overlay",
              "size": 10,
              "solidity": 0.2
             }
            },
            "type": "histogram"
           }
          ],
          "histogram2d": [
           {
            "colorbar": {
             "outlinewidth": 0,
             "ticks": ""
            },
            "colorscale": [
             [
              0,
              "#0d0887"
             ],
             [
              0.1111111111111111,
              "#46039f"
             ],
             [
              0.2222222222222222,
              "#7201a8"
             ],
             [
              0.3333333333333333,
              "#9c179e"
             ],
             [
              0.4444444444444444,
              "#bd3786"
             ],
             [
              0.5555555555555556,
              "#d8576b"
             ],
             [
              0.6666666666666666,
              "#ed7953"
             ],
             [
              0.7777777777777778,
              "#fb9f3a"
             ],
             [
              0.8888888888888888,
              "#fdca26"
             ],
             [
              1,
              "#f0f921"
             ]
            ],
            "type": "histogram2d"
           }
          ],
          "histogram2dcontour": [
           {
            "colorbar": {
             "outlinewidth": 0,
             "ticks": ""
            },
            "colorscale": [
             [
              0,
              "#0d0887"
             ],
             [
              0.1111111111111111,
              "#46039f"
             ],
             [
              0.2222222222222222,
              "#7201a8"
             ],
             [
              0.3333333333333333,
              "#9c179e"
             ],
             [
              0.4444444444444444,
              "#bd3786"
             ],
             [
              0.5555555555555556,
              "#d8576b"
             ],
             [
              0.6666666666666666,
              "#ed7953"
             ],
             [
              0.7777777777777778,
              "#fb9f3a"
             ],
             [
              0.8888888888888888,
              "#fdca26"
             ],
             [
              1,
              "#f0f921"
             ]
            ],
            "type": "histogram2dcontour"
           }
          ],
          "mesh3d": [
           {
            "colorbar": {
             "outlinewidth": 0,
             "ticks": ""
            },
            "type": "mesh3d"
           }
          ],
          "parcoords": [
           {
            "line": {
             "colorbar": {
              "outlinewidth": 0,
              "ticks": ""
             }
            },
            "type": "parcoords"
           }
          ],
          "pie": [
           {
            "automargin": true,
            "type": "pie"
           }
          ],
          "scatter": [
           {
            "marker": {
             "colorbar": {
              "outlinewidth": 0,
              "ticks": ""
             }
            },
            "type": "scatter"
           }
          ],
          "scatter3d": [
           {
            "line": {
             "colorbar": {
              "outlinewidth": 0,
              "ticks": ""
             }
            },
            "marker": {
             "colorbar": {
              "outlinewidth": 0,
              "ticks": ""
             }
            },
            "type": "scatter3d"
           }
          ],
          "scattercarpet": [
           {
            "marker": {
             "colorbar": {
              "outlinewidth": 0,
              "ticks": ""
             }
            },
            "type": "scattercarpet"
           }
          ],
          "scattergeo": [
           {
            "marker": {
             "colorbar": {
              "outlinewidth": 0,
              "ticks": ""
             }
            },
            "type": "scattergeo"
           }
          ],
          "scattergl": [
           {
            "marker": {
             "colorbar": {
              "outlinewidth": 0,
              "ticks": ""
             }
            },
            "type": "scattergl"
           }
          ],
          "scattermapbox": [
           {
            "marker": {
             "colorbar": {
              "outlinewidth": 0,
              "ticks": ""
             }
            },
            "type": "scattermapbox"
           }
          ],
          "scatterpolar": [
           {
            "marker": {
             "colorbar": {
              "outlinewidth": 0,
              "ticks": ""
             }
            },
            "type": "scatterpolar"
           }
          ],
          "scatterpolargl": [
           {
            "marker": {
             "colorbar": {
              "outlinewidth": 0,
              "ticks": ""
             }
            },
            "type": "scatterpolargl"
           }
          ],
          "scatterternary": [
           {
            "marker": {
             "colorbar": {
              "outlinewidth": 0,
              "ticks": ""
             }
            },
            "type": "scatterternary"
           }
          ],
          "surface": [
           {
            "colorbar": {
             "outlinewidth": 0,
             "ticks": ""
            },
            "colorscale": [
             [
              0,
              "#0d0887"
             ],
             [
              0.1111111111111111,
              "#46039f"
             ],
             [
              0.2222222222222222,
              "#7201a8"
             ],
             [
              0.3333333333333333,
              "#9c179e"
             ],
             [
              0.4444444444444444,
              "#bd3786"
             ],
             [
              0.5555555555555556,
              "#d8576b"
             ],
             [
              0.6666666666666666,
              "#ed7953"
             ],
             [
              0.7777777777777778,
              "#fb9f3a"
             ],
             [
              0.8888888888888888,
              "#fdca26"
             ],
             [
              1,
              "#f0f921"
             ]
            ],
            "type": "surface"
           }
          ],
          "table": [
           {
            "cells": {
             "fill": {
              "color": "#EBF0F8"
             },
             "line": {
              "color": "white"
             }
            },
            "header": {
             "fill": {
              "color": "#C8D4E3"
             },
             "line": {
              "color": "white"
             }
            },
            "type": "table"
           }
          ]
         },
         "layout": {
          "annotationdefaults": {
           "arrowcolor": "#2a3f5f",
           "arrowhead": 0,
           "arrowwidth": 1
          },
          "autotypenumbers": "strict",
          "coloraxis": {
           "colorbar": {
            "outlinewidth": 0,
            "ticks": ""
           }
          },
          "colorscale": {
           "diverging": [
            [
             0,
             "#8e0152"
            ],
            [
             0.1,
             "#c51b7d"
            ],
            [
             0.2,
             "#de77ae"
            ],
            [
             0.3,
             "#f1b6da"
            ],
            [
             0.4,
             "#fde0ef"
            ],
            [
             0.5,
             "#f7f7f7"
            ],
            [
             0.6,
             "#e6f5d0"
            ],
            [
             0.7,
             "#b8e186"
            ],
            [
             0.8,
             "#7fbc41"
            ],
            [
             0.9,
             "#4d9221"
            ],
            [
             1,
             "#276419"
            ]
           ],
           "sequential": [
            [
             0,
             "#0d0887"
            ],
            [
             0.1111111111111111,
             "#46039f"
            ],
            [
             0.2222222222222222,
             "#7201a8"
            ],
            [
             0.3333333333333333,
             "#9c179e"
            ],
            [
             0.4444444444444444,
             "#bd3786"
            ],
            [
             0.5555555555555556,
             "#d8576b"
            ],
            [
             0.6666666666666666,
             "#ed7953"
            ],
            [
             0.7777777777777778,
             "#fb9f3a"
            ],
            [
             0.8888888888888888,
             "#fdca26"
            ],
            [
             1,
             "#f0f921"
            ]
           ],
           "sequentialminus": [
            [
             0,
             "#0d0887"
            ],
            [
             0.1111111111111111,
             "#46039f"
            ],
            [
             0.2222222222222222,
             "#7201a8"
            ],
            [
             0.3333333333333333,
             "#9c179e"
            ],
            [
             0.4444444444444444,
             "#bd3786"
            ],
            [
             0.5555555555555556,
             "#d8576b"
            ],
            [
             0.6666666666666666,
             "#ed7953"
            ],
            [
             0.7777777777777778,
             "#fb9f3a"
            ],
            [
             0.8888888888888888,
             "#fdca26"
            ],
            [
             1,
             "#f0f921"
            ]
           ]
          },
          "colorway": [
           "#636efa",
           "#EF553B",
           "#00cc96",
           "#ab63fa",
           "#FFA15A",
           "#19d3f3",
           "#FF6692",
           "#B6E880",
           "#FF97FF",
           "#FECB52"
          ],
          "font": {
           "color": "#2a3f5f"
          },
          "geo": {
           "bgcolor": "white",
           "lakecolor": "white",
           "landcolor": "#E5ECF6",
           "showlakes": true,
           "showland": true,
           "subunitcolor": "white"
          },
          "hoverlabel": {
           "align": "left"
          },
          "hovermode": "closest",
          "mapbox": {
           "style": "light"
          },
          "paper_bgcolor": "white",
          "plot_bgcolor": "#E5ECF6",
          "polar": {
           "angularaxis": {
            "gridcolor": "white",
            "linecolor": "white",
            "ticks": ""
           },
           "bgcolor": "#E5ECF6",
           "radialaxis": {
            "gridcolor": "white",
            "linecolor": "white",
            "ticks": ""
           }
          },
          "scene": {
           "xaxis": {
            "backgroundcolor": "#E5ECF6",
            "gridcolor": "white",
            "gridwidth": 2,
            "linecolor": "white",
            "showbackground": true,
            "ticks": "",
            "zerolinecolor": "white"
           },
           "yaxis": {
            "backgroundcolor": "#E5ECF6",
            "gridcolor": "white",
            "gridwidth": 2,
            "linecolor": "white",
            "showbackground": true,
            "ticks": "",
            "zerolinecolor": "white"
           },
           "zaxis": {
            "backgroundcolor": "#E5ECF6",
            "gridcolor": "white",
            "gridwidth": 2,
            "linecolor": "white",
            "showbackground": true,
            "ticks": "",
            "zerolinecolor": "white"
           }
          },
          "shapedefaults": {
           "line": {
            "color": "#2a3f5f"
           }
          },
          "ternary": {
           "aaxis": {
            "gridcolor": "white",
            "linecolor": "white",
            "ticks": ""
           },
           "baxis": {
            "gridcolor": "white",
            "linecolor": "white",
            "ticks": ""
           },
           "bgcolor": "#E5ECF6",
           "caxis": {
            "gridcolor": "white",
            "linecolor": "white",
            "ticks": ""
           }
          },
          "title": {
           "x": 0.05
          },
          "xaxis": {
           "automargin": true,
           "gridcolor": "white",
           "linecolor": "white",
           "ticks": "",
           "title": {
            "standoff": 15
           },
           "zerolinecolor": "white",
           "zerolinewidth": 2
          },
          "yaxis": {
           "automargin": true,
           "gridcolor": "white",
           "linecolor": "white",
           "ticks": "",
           "title": {
            "standoff": 15
           },
           "zerolinecolor": "white",
           "zerolinewidth": 2
          }
         }
        },
        "title": {
         "text": "Kümelerine Göre Satış Adetleri"
        },
        "xaxis": {
         "tickmode": "array",
         "tickvals": [
          5,
          14,
          8,
          11,
          17,
          6,
          1,
          13,
          12,
          4,
          9,
          2,
          10,
          16,
          15,
          3,
          7
         ]
        },
        "yaxis": {
         "showgrid": false
        }
       }
      },
      "text/html": [
       "<div>                            <div id=\"5e367533-de7c-47f8-b8fe-7a8185145849\" class=\"plotly-graph-div\" style=\"height:525px; width:100%;\"></div>            <script type=\"text/javascript\">                require([\"plotly\"], function(Plotly) {                    window.PLOTLYENV=window.PLOTLYENV || {};                                    if (document.getElementById(\"5e367533-de7c-47f8-b8fe-7a8185145849\")) {                    Plotly.newPlot(                        \"5e367533-de7c-47f8-b8fe-7a8185145849\",                        [{\"hoverinfo\":\"text\",\"hovertext\":[\"<b>K\\u00fcme</b>:5<br><b>Sat\\u0131\\u015f Adedi</b>:1120<br>\",\"<b>K\\u00fcme</b>:14<br><b>Sat\\u0131\\u015f Adedi</b>:710<br>\",\"<b>K\\u00fcme</b>:8<br><b>Sat\\u0131\\u015f Adedi</b>:648<br>\",\"<b>K\\u00fcme</b>:11<br><b>Sat\\u0131\\u015f Adedi</b>:605<br>\",\"<b>K\\u00fcme</b>:17<br><b>Sat\\u0131\\u015f Adedi</b>:594<br>\",\"<b>K\\u00fcme</b>:6<br><b>Sat\\u0131\\u015f Adedi</b>:344<br>\",\"<b>K\\u00fcme</b>:1<br><b>Sat\\u0131\\u015f Adedi</b>:327<br>\",\"<b>K\\u00fcme</b>:13<br><b>Sat\\u0131\\u015f Adedi</b>:325<br>\",\"<b>K\\u00fcme</b>:12<br><b>Sat\\u0131\\u015f Adedi</b>:325<br>\",\"<b>K\\u00fcme</b>:4<br><b>Sat\\u0131\\u015f Adedi</b>:297<br>\",\"<b>K\\u00fcme</b>:9<br><b>Sat\\u0131\\u015f Adedi</b>:275<br>\",\"<b>K\\u00fcme</b>:2<br><b>Sat\\u0131\\u015f Adedi</b>:261<br>\",\"<b>K\\u00fcme</b>:10<br><b>Sat\\u0131\\u015f Adedi</b>:257<br>\",\"<b>K\\u00fcme</b>:16<br><b>Sat\\u0131\\u015f Adedi</b>:239<br>\",\"<b>K\\u00fcme</b>:15<br><b>Sat\\u0131\\u015f Adedi</b>:199<br>\",\"<b>K\\u00fcme</b>:3<br><b>Sat\\u0131\\u015f Adedi</b>:194<br>\",\"<b>K\\u00fcme</b>:7<br><b>Sat\\u0131\\u015f Adedi</b>:139<br>\"],\"marker\":{\"color\":[\"#9a4800\",\"#a55305\",\"#af5d0b\",\"#ba6810\",\"#c57316\",\"#faa831\",\"#faa831\",\"#faa831\",\"#faa831\",\"#faa831\",\"#faa831\",\"#faa831\",\"#faa831\",\"#faa831\",\"#faa831\",\"#faa831\",\"#faa831\"]},\"name\":\"Cluster\",\"text\":[1120.0,710.0,648.0,605.0,594.0,344.0,327.0,325.0,325.0,297.0,275.0,261.0,257.0,239.0,199.0,194.0,139.0],\"textposition\":\"auto\",\"type\":\"bar\",\"x\":[5,14,8,11,17,6,1,13,12,4,9,2,10,16,15,3,7],\"y\":[1120.1184051129526,710.9223433844163,648.9760656801398,605.829679777798,594.1066666197463,344.3154362257486,327.0228083130732,325.80616915516924,325.59196329993614,297.53787681601784,275.7258793625848,261.0257306791571,257.00658549846327,239.59471866079932,199.4475112211058,194.92653373500892,139.77222164144675]}],                        {\"font\":{\"color\":\"white\",\"size\":14},\"paper_bgcolor\":\"#232425\",\"plot_bgcolor\":\"#232425\",\"template\":{\"data\":{\"bar\":[{\"error_x\":{\"color\":\"#2a3f5f\"},\"error_y\":{\"color\":\"#2a3f5f\"},\"marker\":{\"line\":{\"color\":\"#E5ECF6\",\"width\":0.5},\"pattern\":{\"fillmode\":\"overlay\",\"size\":10,\"solidity\":0.2}},\"type\":\"bar\"}],\"barpolar\":[{\"marker\":{\"line\":{\"color\":\"#E5ECF6\",\"width\":0.5},\"pattern\":{\"fillmode\":\"overlay\",\"size\":10,\"solidity\":0.2}},\"type\":\"barpolar\"}],\"carpet\":[{\"aaxis\":{\"endlinecolor\":\"#2a3f5f\",\"gridcolor\":\"white\",\"linecolor\":\"white\",\"minorgridcolor\":\"white\",\"startlinecolor\":\"#2a3f5f\"},\"baxis\":{\"endlinecolor\":\"#2a3f5f\",\"gridcolor\":\"white\",\"linecolor\":\"white\",\"minorgridcolor\":\"white\",\"startlinecolor\":\"#2a3f5f\"},\"type\":\"carpet\"}],\"choropleth\":[{\"colorbar\":{\"outlinewidth\":0,\"ticks\":\"\"},\"type\":\"choropleth\"}],\"contour\":[{\"colorbar\":{\"outlinewidth\":0,\"ticks\":\"\"},\"colorscale\":[[0.0,\"#0d0887\"],[0.1111111111111111,\"#46039f\"],[0.2222222222222222,\"#7201a8\"],[0.3333333333333333,\"#9c179e\"],[0.4444444444444444,\"#bd3786\"],[0.5555555555555556,\"#d8576b\"],[0.6666666666666666,\"#ed7953\"],[0.7777777777777778,\"#fb9f3a\"],[0.8888888888888888,\"#fdca26\"],[1.0,\"#f0f921\"]],\"type\":\"contour\"}],\"contourcarpet\":[{\"colorbar\":{\"outlinewidth\":0,\"ticks\":\"\"},\"type\":\"contourcarpet\"}],\"heatmap\":[{\"colorbar\":{\"outlinewidth\":0,\"ticks\":\"\"},\"colorscale\":[[0.0,\"#0d0887\"],[0.1111111111111111,\"#46039f\"],[0.2222222222222222,\"#7201a8\"],[0.3333333333333333,\"#9c179e\"],[0.4444444444444444,\"#bd3786\"],[0.5555555555555556,\"#d8576b\"],[0.6666666666666666,\"#ed7953\"],[0.7777777777777778,\"#fb9f3a\"],[0.8888888888888888,\"#fdca26\"],[1.0,\"#f0f921\"]],\"type\":\"heatmap\"}],\"heatmapgl\":[{\"colorbar\":{\"outlinewidth\":0,\"ticks\":\"\"},\"colorscale\":[[0.0,\"#0d0887\"],[0.1111111111111111,\"#46039f\"],[0.2222222222222222,\"#7201a8\"],[0.3333333333333333,\"#9c179e\"],[0.4444444444444444,\"#bd3786\"],[0.5555555555555556,\"#d8576b\"],[0.6666666666666666,\"#ed7953\"],[0.7777777777777778,\"#fb9f3a\"],[0.8888888888888888,\"#fdca26\"],[1.0,\"#f0f921\"]],\"type\":\"heatmapgl\"}],\"histogram\":[{\"marker\":{\"pattern\":{\"fillmode\":\"overlay\",\"size\":10,\"solidity\":0.2}},\"type\":\"histogram\"}],\"histogram2d\":[{\"colorbar\":{\"outlinewidth\":0,\"ticks\":\"\"},\"colorscale\":[[0.0,\"#0d0887\"],[0.1111111111111111,\"#46039f\"],[0.2222222222222222,\"#7201a8\"],[0.3333333333333333,\"#9c179e\"],[0.4444444444444444,\"#bd3786\"],[0.5555555555555556,\"#d8576b\"],[0.6666666666666666,\"#ed7953\"],[0.7777777777777778,\"#fb9f3a\"],[0.8888888888888888,\"#fdca26\"],[1.0,\"#f0f921\"]],\"type\":\"histogram2d\"}],\"histogram2dcontour\":[{\"colorbar\":{\"outlinewidth\":0,\"ticks\":\"\"},\"colorscale\":[[0.0,\"#0d0887\"],[0.1111111111111111,\"#46039f\"],[0.2222222222222222,\"#7201a8\"],[0.3333333333333333,\"#9c179e\"],[0.4444444444444444,\"#bd3786\"],[0.5555555555555556,\"#d8576b\"],[0.6666666666666666,\"#ed7953\"],[0.7777777777777778,\"#fb9f3a\"],[0.8888888888888888,\"#fdca26\"],[1.0,\"#f0f921\"]],\"type\":\"histogram2dcontour\"}],\"mesh3d\":[{\"colorbar\":{\"outlinewidth\":0,\"ticks\":\"\"},\"type\":\"mesh3d\"}],\"parcoords\":[{\"line\":{\"colorbar\":{\"outlinewidth\":0,\"ticks\":\"\"}},\"type\":\"parcoords\"}],\"pie\":[{\"automargin\":true,\"type\":\"pie\"}],\"scatter\":[{\"marker\":{\"colorbar\":{\"outlinewidth\":0,\"ticks\":\"\"}},\"type\":\"scatter\"}],\"scatter3d\":[{\"line\":{\"colorbar\":{\"outlinewidth\":0,\"ticks\":\"\"}},\"marker\":{\"colorbar\":{\"outlinewidth\":0,\"ticks\":\"\"}},\"type\":\"scatter3d\"}],\"scattercarpet\":[{\"marker\":{\"colorbar\":{\"outlinewidth\":0,\"ticks\":\"\"}},\"type\":\"scattercarpet\"}],\"scattergeo\":[{\"marker\":{\"colorbar\":{\"outlinewidth\":0,\"ticks\":\"\"}},\"type\":\"scattergeo\"}],\"scattergl\":[{\"marker\":{\"colorbar\":{\"outlinewidth\":0,\"ticks\":\"\"}},\"type\":\"scattergl\"}],\"scattermapbox\":[{\"marker\":{\"colorbar\":{\"outlinewidth\":0,\"ticks\":\"\"}},\"type\":\"scattermapbox\"}],\"scatterpolar\":[{\"marker\":{\"colorbar\":{\"outlinewidth\":0,\"ticks\":\"\"}},\"type\":\"scatterpolar\"}],\"scatterpolargl\":[{\"marker\":{\"colorbar\":{\"outlinewidth\":0,\"ticks\":\"\"}},\"type\":\"scatterpolargl\"}],\"scatterternary\":[{\"marker\":{\"colorbar\":{\"outlinewidth\":0,\"ticks\":\"\"}},\"type\":\"scatterternary\"}],\"surface\":[{\"colorbar\":{\"outlinewidth\":0,\"ticks\":\"\"},\"colorscale\":[[0.0,\"#0d0887\"],[0.1111111111111111,\"#46039f\"],[0.2222222222222222,\"#7201a8\"],[0.3333333333333333,\"#9c179e\"],[0.4444444444444444,\"#bd3786\"],[0.5555555555555556,\"#d8576b\"],[0.6666666666666666,\"#ed7953\"],[0.7777777777777778,\"#fb9f3a\"],[0.8888888888888888,\"#fdca26\"],[1.0,\"#f0f921\"]],\"type\":\"surface\"}],\"table\":[{\"cells\":{\"fill\":{\"color\":\"#EBF0F8\"},\"line\":{\"color\":\"white\"}},\"header\":{\"fill\":{\"color\":\"#C8D4E3\"},\"line\":{\"color\":\"white\"}},\"type\":\"table\"}]},\"layout\":{\"annotationdefaults\":{\"arrowcolor\":\"#2a3f5f\",\"arrowhead\":0,\"arrowwidth\":1},\"autotypenumbers\":\"strict\",\"coloraxis\":{\"colorbar\":{\"outlinewidth\":0,\"ticks\":\"\"}},\"colorscale\":{\"diverging\":[[0,\"#8e0152\"],[0.1,\"#c51b7d\"],[0.2,\"#de77ae\"],[0.3,\"#f1b6da\"],[0.4,\"#fde0ef\"],[0.5,\"#f7f7f7\"],[0.6,\"#e6f5d0\"],[0.7,\"#b8e186\"],[0.8,\"#7fbc41\"],[0.9,\"#4d9221\"],[1,\"#276419\"]],\"sequential\":[[0.0,\"#0d0887\"],[0.1111111111111111,\"#46039f\"],[0.2222222222222222,\"#7201a8\"],[0.3333333333333333,\"#9c179e\"],[0.4444444444444444,\"#bd3786\"],[0.5555555555555556,\"#d8576b\"],[0.6666666666666666,\"#ed7953\"],[0.7777777777777778,\"#fb9f3a\"],[0.8888888888888888,\"#fdca26\"],[1.0,\"#f0f921\"]],\"sequentialminus\":[[0.0,\"#0d0887\"],[0.1111111111111111,\"#46039f\"],[0.2222222222222222,\"#7201a8\"],[0.3333333333333333,\"#9c179e\"],[0.4444444444444444,\"#bd3786\"],[0.5555555555555556,\"#d8576b\"],[0.6666666666666666,\"#ed7953\"],[0.7777777777777778,\"#fb9f3a\"],[0.8888888888888888,\"#fdca26\"],[1.0,\"#f0f921\"]]},\"colorway\":[\"#636efa\",\"#EF553B\",\"#00cc96\",\"#ab63fa\",\"#FFA15A\",\"#19d3f3\",\"#FF6692\",\"#B6E880\",\"#FF97FF\",\"#FECB52\"],\"font\":{\"color\":\"#2a3f5f\"},\"geo\":{\"bgcolor\":\"white\",\"lakecolor\":\"white\",\"landcolor\":\"#E5ECF6\",\"showlakes\":true,\"showland\":true,\"subunitcolor\":\"white\"},\"hoverlabel\":{\"align\":\"left\"},\"hovermode\":\"closest\",\"mapbox\":{\"style\":\"light\"},\"paper_bgcolor\":\"white\",\"plot_bgcolor\":\"#E5ECF6\",\"polar\":{\"angularaxis\":{\"gridcolor\":\"white\",\"linecolor\":\"white\",\"ticks\":\"\"},\"bgcolor\":\"#E5ECF6\",\"radialaxis\":{\"gridcolor\":\"white\",\"linecolor\":\"white\",\"ticks\":\"\"}},\"scene\":{\"xaxis\":{\"backgroundcolor\":\"#E5ECF6\",\"gridcolor\":\"white\",\"gridwidth\":2,\"linecolor\":\"white\",\"showbackground\":true,\"ticks\":\"\",\"zerolinecolor\":\"white\"},\"yaxis\":{\"backgroundcolor\":\"#E5ECF6\",\"gridcolor\":\"white\",\"gridwidth\":2,\"linecolor\":\"white\",\"showbackground\":true,\"ticks\":\"\",\"zerolinecolor\":\"white\"},\"zaxis\":{\"backgroundcolor\":\"#E5ECF6\",\"gridcolor\":\"white\",\"gridwidth\":2,\"linecolor\":\"white\",\"showbackground\":true,\"ticks\":\"\",\"zerolinecolor\":\"white\"}},\"shapedefaults\":{\"line\":{\"color\":\"#2a3f5f\"}},\"ternary\":{\"aaxis\":{\"gridcolor\":\"white\",\"linecolor\":\"white\",\"ticks\":\"\"},\"baxis\":{\"gridcolor\":\"white\",\"linecolor\":\"white\",\"ticks\":\"\"},\"bgcolor\":\"#E5ECF6\",\"caxis\":{\"gridcolor\":\"white\",\"linecolor\":\"white\",\"ticks\":\"\"}},\"title\":{\"x\":0.05},\"xaxis\":{\"automargin\":true,\"gridcolor\":\"white\",\"linecolor\":\"white\",\"ticks\":\"\",\"title\":{\"standoff\":15},\"zerolinecolor\":\"white\",\"zerolinewidth\":2},\"yaxis\":{\"automargin\":true,\"gridcolor\":\"white\",\"linecolor\":\"white\",\"ticks\":\"\",\"title\":{\"standoff\":15},\"zerolinecolor\":\"white\",\"zerolinewidth\":2}}},\"title\":{\"text\":\"K\\u00fcmelerine G\\u00f6re Sat\\u0131\\u015f Adetleri\"},\"xaxis\":{\"tickmode\":\"array\",\"tickvals\":[5,14,8,11,17,6,1,13,12,4,9,2,10,16,15,3,7]},\"yaxis\":{\"showgrid\":false}},                        {\"responsive\": true}                    ).then(function(){\n",
       "                            \n",
       "var gd = document.getElementById('5e367533-de7c-47f8-b8fe-7a8185145849');\n",
       "var x = new MutationObserver(function (mutations, observer) {{\n",
       "        var display = window.getComputedStyle(gd).display;\n",
       "        if (!display || display === 'none') {{\n",
       "            console.log([gd, 'removed!']);\n",
       "            Plotly.purge(gd);\n",
       "            observer.disconnect();\n",
       "        }}\n",
       "}});\n",
       "\n",
       "// Listen for the removal of the full notebook cells\n",
       "var notebookContainer = gd.closest('#notebook-container');\n",
       "if (notebookContainer) {{\n",
       "    x.observe(notebookContainer, {childList: true});\n",
       "}}\n",
       "\n",
       "// Listen for the clearing of the current output cell\n",
       "var outputEl = gd.closest('.output');\n",
       "if (outputEl) {{\n",
       "    x.observe(outputEl, {childList: true});\n",
       "}}\n",
       "\n",
       "                        })                };                });            </script>        </div>"
      ]
     },
     "metadata": {},
     "output_type": "display_data"
    }
   ],
   "source": [
    "df_cl_sa = df_train1.groupby('cluster').agg({\"sales\" : \"mean\"}).reset_index().sort_values(by='sales', ascending=False)\n",
    "df_cl_sa['color'] = colors['level10']\n",
    "df_cl_sa['color'][:1] = colors['level1']\n",
    "df_cl_sa['color'][1:2] = colors['level2']\n",
    "df_cl_sa['color'][2:3] = colors['level3']\n",
    "df_cl_sa['color'][3:4] = colors['level4']\n",
    "df_cl_sa['color'][4:5] = colors['level5']\n",
    "fig3 = go.Figure(data=[go.Bar(y=df_cl_sa['sales'],\n",
    "                             x=df_cl_sa['cluster'], \n",
    "                             marker=dict(color= df_cl_sa['color']),\n",
    "                             name='Cluster',\n",
    "                             text=df_cl_sa['sales'].astype(int),\n",
    "                             textposition='auto',\n",
    "                             hoverinfo='text',\n",
    "                             hovertext=\n",
    "                            '<b>Küme</b>:'+ df_cl_sa['cluster'].astype(str) +'<br>' +\n",
    "                            '<b>Satış Adedi</b>:'+ df_cl_sa['sales'].astype(int).astype(str) +'<br>' ,\n",
    "                            # hovertemplate='Family: %{y}'+'<br>Sales: $%{x:.0f}'\n",
    "                            )])\n",
    "fig3.update_layout(title_text='Kümelerine Göre Satış Adetleri',paper_bgcolor=colors['background'],plot_bgcolor=colors['background'],\n",
    "                font=dict(\n",
    "                size=14,\n",
    "                color='white'))\n",
    "\n",
    "fig3.update_xaxes(tickmode = 'array', tickvals=df_cl_sa.cluster)\n",
    "fig3.update_yaxes(showgrid=False)"
   ]
  },
  {
   "cell_type": "code",
   "execution_count": 8,
   "metadata": {},
   "outputs": [
    {
     "data": {
      "application/vnd.plotly.v1+json": {
       "config": {
        "plotlyServerURL": "https://plot.ly"
       },
       "data": [
        {
         "hoverinfo": "text",
         "hovertext": [
          "<b>Şehir</b>:Quito<br><b>Satış Adedi</b>:558<br>",
          "<b>Şehir</b>:Cayambe<br><b>Satış Adedi</b>:511<br>",
          "<b>Şehir</b>:Ambato<br><b>Satış Adedi</b>:363<br>",
          "<b>Şehir</b>:Daule<br><b>Satış Adedi</b>:346<br>",
          "<b>Şehir</b>:Loja<br><b>Satış Adedi</b>:340<br>",
          "<b>Şehir</b>:Babahoyo<br><b>Satış Adedi</b>:320<br>",
          "<b>Şehir</b>:Machala<br><b>Satış Adedi</b>:301<br>",
          "<b>Şehir</b>:Cuenca<br><b>Satış Adedi</b>:295<br>",
          "<b>Şehir</b>:Esmeraldas<br><b>Satış Adedi</b>:295<br>",
          "<b>Şehir</b>:Guayaquil<br><b>Satış Adedi</b>:277<br>",
          "<b>Şehir</b>:Libertad<br><b>Satış Adedi</b>:276<br>",
          "<b>Şehir</b>:Quevedo<br><b>Satış Adedi</b>:255<br>",
          "<b>Şehir</b>:Guaranda<br><b>Satış Adedi</b>:235<br>",
          "<b>Şehir</b>:Santo Domingo<br><b>Satış Adedi</b>:215<br>",
          "<b>Şehir</b>:Ibarra<br><b>Satış Adedi</b>:206<br>",
          "<b>Şehir</b>:Salinas<br><b>Satış Adedi</b>:206<br>",
          "<b>Şehir</b>:Riobamba<br><b>Satış Adedi</b>:205<br>",
          "<b>Şehir</b>:El Carmen<br><b>Satış Adedi</b>:199<br>",
          "<b>Şehir</b>:Latacunga<br><b>Satış Adedi</b>:191<br>",
          "<b>Şehir</b>:Playas<br><b>Satış Adedi</b>:138<br>",
          "<b>Şehir</b>:Manta<br><b>Satış Adedi</b>:126<br>",
          "<b>Şehir</b>:Puyo<br><b>Satış Adedi</b>:74<br>"
         ],
         "marker": {
          "color": [
           "#9a4800",
           "#a55305",
           "#af5d0b",
           "#ba6810",
           "#c57316",
           "#faa831",
           "#faa831",
           "#faa831",
           "#faa831",
           "#faa831",
           "#faa831",
           "#faa831",
           "#faa831",
           "#faa831",
           "#faa831",
           "#faa831",
           "#faa831",
           "#faa831",
           "#faa831",
           "#faa831",
           "#faa831",
           "#faa831"
          ]
         },
         "name": "State",
         "text": [
          558,
          511,
          363,
          346,
          340,
          320,
          301,
          295,
          295,
          277,
          276,
          255,
          235,
          215,
          206,
          206,
          205,
          199,
          191,
          138,
          126,
          74
         ],
         "textposition": "auto",
         "type": "bar",
         "x": [
          "Quito",
          "Cayambe",
          "Ambato",
          "Daule",
          "Loja",
          "Babahoyo",
          "Machala",
          "Cuenca",
          "Esmeraldas",
          "Guayaquil",
          "Libertad",
          "Quevedo",
          "Guaranda",
          "Santo Domingo",
          "Ibarra",
          "Salinas",
          "Riobamba",
          "El Carmen",
          "Latacunga",
          "Playas",
          "Manta",
          "Puyo"
         ],
         "y": [
          558.5604680515416,
          511.0592609754959,
          363.8465124696376,
          346.571238929232,
          340.3021992061046,
          320.71452739699595,
          301.39196982474687,
          295.8054630251015,
          295.64087730178574,
          277.5100456272281,
          276.7293995723985,
          255.84989756849203,
          235.35254909117486,
          215.79606749759867,
          206.26768064412553,
          206.05064034911177,
          205.26931348180779,
          199.98171666304037,
          191.00967410308124,
          138.3025514404473,
          126.64575242258113,
          74.2751298010856
         ]
        }
       ],
       "layout": {
        "font": {
         "color": "white",
         "size": 14
        },
        "paper_bgcolor": "#232425",
        "plot_bgcolor": "#232425",
        "template": {
         "data": {
          "bar": [
           {
            "error_x": {
             "color": "#2a3f5f"
            },
            "error_y": {
             "color": "#2a3f5f"
            },
            "marker": {
             "line": {
              "color": "#E5ECF6",
              "width": 0.5
             },
             "pattern": {
              "fillmode": "overlay",
              "size": 10,
              "solidity": 0.2
             }
            },
            "type": "bar"
           }
          ],
          "barpolar": [
           {
            "marker": {
             "line": {
              "color": "#E5ECF6",
              "width": 0.5
             },
             "pattern": {
              "fillmode": "overlay",
              "size": 10,
              "solidity": 0.2
             }
            },
            "type": "barpolar"
           }
          ],
          "carpet": [
           {
            "aaxis": {
             "endlinecolor": "#2a3f5f",
             "gridcolor": "white",
             "linecolor": "white",
             "minorgridcolor": "white",
             "startlinecolor": "#2a3f5f"
            },
            "baxis": {
             "endlinecolor": "#2a3f5f",
             "gridcolor": "white",
             "linecolor": "white",
             "minorgridcolor": "white",
             "startlinecolor": "#2a3f5f"
            },
            "type": "carpet"
           }
          ],
          "choropleth": [
           {
            "colorbar": {
             "outlinewidth": 0,
             "ticks": ""
            },
            "type": "choropleth"
           }
          ],
          "contour": [
           {
            "colorbar": {
             "outlinewidth": 0,
             "ticks": ""
            },
            "colorscale": [
             [
              0,
              "#0d0887"
             ],
             [
              0.1111111111111111,
              "#46039f"
             ],
             [
              0.2222222222222222,
              "#7201a8"
             ],
             [
              0.3333333333333333,
              "#9c179e"
             ],
             [
              0.4444444444444444,
              "#bd3786"
             ],
             [
              0.5555555555555556,
              "#d8576b"
             ],
             [
              0.6666666666666666,
              "#ed7953"
             ],
             [
              0.7777777777777778,
              "#fb9f3a"
             ],
             [
              0.8888888888888888,
              "#fdca26"
             ],
             [
              1,
              "#f0f921"
             ]
            ],
            "type": "contour"
           }
          ],
          "contourcarpet": [
           {
            "colorbar": {
             "outlinewidth": 0,
             "ticks": ""
            },
            "type": "contourcarpet"
           }
          ],
          "heatmap": [
           {
            "colorbar": {
             "outlinewidth": 0,
             "ticks": ""
            },
            "colorscale": [
             [
              0,
              "#0d0887"
             ],
             [
              0.1111111111111111,
              "#46039f"
             ],
             [
              0.2222222222222222,
              "#7201a8"
             ],
             [
              0.3333333333333333,
              "#9c179e"
             ],
             [
              0.4444444444444444,
              "#bd3786"
             ],
             [
              0.5555555555555556,
              "#d8576b"
             ],
             [
              0.6666666666666666,
              "#ed7953"
             ],
             [
              0.7777777777777778,
              "#fb9f3a"
             ],
             [
              0.8888888888888888,
              "#fdca26"
             ],
             [
              1,
              "#f0f921"
             ]
            ],
            "type": "heatmap"
           }
          ],
          "heatmapgl": [
           {
            "colorbar": {
             "outlinewidth": 0,
             "ticks": ""
            },
            "colorscale": [
             [
              0,
              "#0d0887"
             ],
             [
              0.1111111111111111,
              "#46039f"
             ],
             [
              0.2222222222222222,
              "#7201a8"
             ],
             [
              0.3333333333333333,
              "#9c179e"
             ],
             [
              0.4444444444444444,
              "#bd3786"
             ],
             [
              0.5555555555555556,
              "#d8576b"
             ],
             [
              0.6666666666666666,
              "#ed7953"
             ],
             [
              0.7777777777777778,
              "#fb9f3a"
             ],
             [
              0.8888888888888888,
              "#fdca26"
             ],
             [
              1,
              "#f0f921"
             ]
            ],
            "type": "heatmapgl"
           }
          ],
          "histogram": [
           {
            "marker": {
             "pattern": {
              "fillmode": "overlay",
              "size": 10,
              "solidity": 0.2
             }
            },
            "type": "histogram"
           }
          ],
          "histogram2d": [
           {
            "colorbar": {
             "outlinewidth": 0,
             "ticks": ""
            },
            "colorscale": [
             [
              0,
              "#0d0887"
             ],
             [
              0.1111111111111111,
              "#46039f"
             ],
             [
              0.2222222222222222,
              "#7201a8"
             ],
             [
              0.3333333333333333,
              "#9c179e"
             ],
             [
              0.4444444444444444,
              "#bd3786"
             ],
             [
              0.5555555555555556,
              "#d8576b"
             ],
             [
              0.6666666666666666,
              "#ed7953"
             ],
             [
              0.7777777777777778,
              "#fb9f3a"
             ],
             [
              0.8888888888888888,
              "#fdca26"
             ],
             [
              1,
              "#f0f921"
             ]
            ],
            "type": "histogram2d"
           }
          ],
          "histogram2dcontour": [
           {
            "colorbar": {
             "outlinewidth": 0,
             "ticks": ""
            },
            "colorscale": [
             [
              0,
              "#0d0887"
             ],
             [
              0.1111111111111111,
              "#46039f"
             ],
             [
              0.2222222222222222,
              "#7201a8"
             ],
             [
              0.3333333333333333,
              "#9c179e"
             ],
             [
              0.4444444444444444,
              "#bd3786"
             ],
             [
              0.5555555555555556,
              "#d8576b"
             ],
             [
              0.6666666666666666,
              "#ed7953"
             ],
             [
              0.7777777777777778,
              "#fb9f3a"
             ],
             [
              0.8888888888888888,
              "#fdca26"
             ],
             [
              1,
              "#f0f921"
             ]
            ],
            "type": "histogram2dcontour"
           }
          ],
          "mesh3d": [
           {
            "colorbar": {
             "outlinewidth": 0,
             "ticks": ""
            },
            "type": "mesh3d"
           }
          ],
          "parcoords": [
           {
            "line": {
             "colorbar": {
              "outlinewidth": 0,
              "ticks": ""
             }
            },
            "type": "parcoords"
           }
          ],
          "pie": [
           {
            "automargin": true,
            "type": "pie"
           }
          ],
          "scatter": [
           {
            "marker": {
             "colorbar": {
              "outlinewidth": 0,
              "ticks": ""
             }
            },
            "type": "scatter"
           }
          ],
          "scatter3d": [
           {
            "line": {
             "colorbar": {
              "outlinewidth": 0,
              "ticks": ""
             }
            },
            "marker": {
             "colorbar": {
              "outlinewidth": 0,
              "ticks": ""
             }
            },
            "type": "scatter3d"
           }
          ],
          "scattercarpet": [
           {
            "marker": {
             "colorbar": {
              "outlinewidth": 0,
              "ticks": ""
             }
            },
            "type": "scattercarpet"
           }
          ],
          "scattergeo": [
           {
            "marker": {
             "colorbar": {
              "outlinewidth": 0,
              "ticks": ""
             }
            },
            "type": "scattergeo"
           }
          ],
          "scattergl": [
           {
            "marker": {
             "colorbar": {
              "outlinewidth": 0,
              "ticks": ""
             }
            },
            "type": "scattergl"
           }
          ],
          "scattermapbox": [
           {
            "marker": {
             "colorbar": {
              "outlinewidth": 0,
              "ticks": ""
             }
            },
            "type": "scattermapbox"
           }
          ],
          "scatterpolar": [
           {
            "marker": {
             "colorbar": {
              "outlinewidth": 0,
              "ticks": ""
             }
            },
            "type": "scatterpolar"
           }
          ],
          "scatterpolargl": [
           {
            "marker": {
             "colorbar": {
              "outlinewidth": 0,
              "ticks": ""
             }
            },
            "type": "scatterpolargl"
           }
          ],
          "scatterternary": [
           {
            "marker": {
             "colorbar": {
              "outlinewidth": 0,
              "ticks": ""
             }
            },
            "type": "scatterternary"
           }
          ],
          "surface": [
           {
            "colorbar": {
             "outlinewidth": 0,
             "ticks": ""
            },
            "colorscale": [
             [
              0,
              "#0d0887"
             ],
             [
              0.1111111111111111,
              "#46039f"
             ],
             [
              0.2222222222222222,
              "#7201a8"
             ],
             [
              0.3333333333333333,
              "#9c179e"
             ],
             [
              0.4444444444444444,
              "#bd3786"
             ],
             [
              0.5555555555555556,
              "#d8576b"
             ],
             [
              0.6666666666666666,
              "#ed7953"
             ],
             [
              0.7777777777777778,
              "#fb9f3a"
             ],
             [
              0.8888888888888888,
              "#fdca26"
             ],
             [
              1,
              "#f0f921"
             ]
            ],
            "type": "surface"
           }
          ],
          "table": [
           {
            "cells": {
             "fill": {
              "color": "#EBF0F8"
             },
             "line": {
              "color": "white"
             }
            },
            "header": {
             "fill": {
              "color": "#C8D4E3"
             },
             "line": {
              "color": "white"
             }
            },
            "type": "table"
           }
          ]
         },
         "layout": {
          "annotationdefaults": {
           "arrowcolor": "#2a3f5f",
           "arrowhead": 0,
           "arrowwidth": 1
          },
          "autotypenumbers": "strict",
          "coloraxis": {
           "colorbar": {
            "outlinewidth": 0,
            "ticks": ""
           }
          },
          "colorscale": {
           "diverging": [
            [
             0,
             "#8e0152"
            ],
            [
             0.1,
             "#c51b7d"
            ],
            [
             0.2,
             "#de77ae"
            ],
            [
             0.3,
             "#f1b6da"
            ],
            [
             0.4,
             "#fde0ef"
            ],
            [
             0.5,
             "#f7f7f7"
            ],
            [
             0.6,
             "#e6f5d0"
            ],
            [
             0.7,
             "#b8e186"
            ],
            [
             0.8,
             "#7fbc41"
            ],
            [
             0.9,
             "#4d9221"
            ],
            [
             1,
             "#276419"
            ]
           ],
           "sequential": [
            [
             0,
             "#0d0887"
            ],
            [
             0.1111111111111111,
             "#46039f"
            ],
            [
             0.2222222222222222,
             "#7201a8"
            ],
            [
             0.3333333333333333,
             "#9c179e"
            ],
            [
             0.4444444444444444,
             "#bd3786"
            ],
            [
             0.5555555555555556,
             "#d8576b"
            ],
            [
             0.6666666666666666,
             "#ed7953"
            ],
            [
             0.7777777777777778,
             "#fb9f3a"
            ],
            [
             0.8888888888888888,
             "#fdca26"
            ],
            [
             1,
             "#f0f921"
            ]
           ],
           "sequentialminus": [
            [
             0,
             "#0d0887"
            ],
            [
             0.1111111111111111,
             "#46039f"
            ],
            [
             0.2222222222222222,
             "#7201a8"
            ],
            [
             0.3333333333333333,
             "#9c179e"
            ],
            [
             0.4444444444444444,
             "#bd3786"
            ],
            [
             0.5555555555555556,
             "#d8576b"
            ],
            [
             0.6666666666666666,
             "#ed7953"
            ],
            [
             0.7777777777777778,
             "#fb9f3a"
            ],
            [
             0.8888888888888888,
             "#fdca26"
            ],
            [
             1,
             "#f0f921"
            ]
           ]
          },
          "colorway": [
           "#636efa",
           "#EF553B",
           "#00cc96",
           "#ab63fa",
           "#FFA15A",
           "#19d3f3",
           "#FF6692",
           "#B6E880",
           "#FF97FF",
           "#FECB52"
          ],
          "font": {
           "color": "#2a3f5f"
          },
          "geo": {
           "bgcolor": "white",
           "lakecolor": "white",
           "landcolor": "#E5ECF6",
           "showlakes": true,
           "showland": true,
           "subunitcolor": "white"
          },
          "hoverlabel": {
           "align": "left"
          },
          "hovermode": "closest",
          "mapbox": {
           "style": "light"
          },
          "paper_bgcolor": "white",
          "plot_bgcolor": "#E5ECF6",
          "polar": {
           "angularaxis": {
            "gridcolor": "white",
            "linecolor": "white",
            "ticks": ""
           },
           "bgcolor": "#E5ECF6",
           "radialaxis": {
            "gridcolor": "white",
            "linecolor": "white",
            "ticks": ""
           }
          },
          "scene": {
           "xaxis": {
            "backgroundcolor": "#E5ECF6",
            "gridcolor": "white",
            "gridwidth": 2,
            "linecolor": "white",
            "showbackground": true,
            "ticks": "",
            "zerolinecolor": "white"
           },
           "yaxis": {
            "backgroundcolor": "#E5ECF6",
            "gridcolor": "white",
            "gridwidth": 2,
            "linecolor": "white",
            "showbackground": true,
            "ticks": "",
            "zerolinecolor": "white"
           },
           "zaxis": {
            "backgroundcolor": "#E5ECF6",
            "gridcolor": "white",
            "gridwidth": 2,
            "linecolor": "white",
            "showbackground": true,
            "ticks": "",
            "zerolinecolor": "white"
           }
          },
          "shapedefaults": {
           "line": {
            "color": "#2a3f5f"
           }
          },
          "ternary": {
           "aaxis": {
            "gridcolor": "white",
            "linecolor": "white",
            "ticks": ""
           },
           "baxis": {
            "gridcolor": "white",
            "linecolor": "white",
            "ticks": ""
           },
           "bgcolor": "#E5ECF6",
           "caxis": {
            "gridcolor": "white",
            "linecolor": "white",
            "ticks": ""
           }
          },
          "title": {
           "x": 0.05
          },
          "xaxis": {
           "automargin": true,
           "gridcolor": "white",
           "linecolor": "white",
           "ticks": "",
           "title": {
            "standoff": 15
           },
           "zerolinecolor": "white",
           "zerolinewidth": 2
          },
          "yaxis": {
           "automargin": true,
           "gridcolor": "white",
           "linecolor": "white",
           "ticks": "",
           "title": {
            "standoff": 15
           },
           "zerolinecolor": "white",
           "zerolinewidth": 2
          }
         }
        },
        "title": {
         "text": "Şehir Bazlı Ortalama Satış Adedi"
        },
        "yaxis": {
         "categoryorder": "total ascending",
         "showgrid": false
        }
       }
      },
      "text/html": [
       "<div>                            <div id=\"45b9bba7-df3a-487c-948e-11f48ba72a41\" class=\"plotly-graph-div\" style=\"height:525px; width:100%;\"></div>            <script type=\"text/javascript\">                require([\"plotly\"], function(Plotly) {                    window.PLOTLYENV=window.PLOTLYENV || {};                                    if (document.getElementById(\"45b9bba7-df3a-487c-948e-11f48ba72a41\")) {                    Plotly.newPlot(                        \"45b9bba7-df3a-487c-948e-11f48ba72a41\",                        [{\"hoverinfo\":\"text\",\"hovertext\":[\"<b>\\u015eehir</b>:Quito<br><b>Sat\\u0131\\u015f Adedi</b>:558<br>\",\"<b>\\u015eehir</b>:Cayambe<br><b>Sat\\u0131\\u015f Adedi</b>:511<br>\",\"<b>\\u015eehir</b>:Ambato<br><b>Sat\\u0131\\u015f Adedi</b>:363<br>\",\"<b>\\u015eehir</b>:Daule<br><b>Sat\\u0131\\u015f Adedi</b>:346<br>\",\"<b>\\u015eehir</b>:Loja<br><b>Sat\\u0131\\u015f Adedi</b>:340<br>\",\"<b>\\u015eehir</b>:Babahoyo<br><b>Sat\\u0131\\u015f Adedi</b>:320<br>\",\"<b>\\u015eehir</b>:Machala<br><b>Sat\\u0131\\u015f Adedi</b>:301<br>\",\"<b>\\u015eehir</b>:Cuenca<br><b>Sat\\u0131\\u015f Adedi</b>:295<br>\",\"<b>\\u015eehir</b>:Esmeraldas<br><b>Sat\\u0131\\u015f Adedi</b>:295<br>\",\"<b>\\u015eehir</b>:Guayaquil<br><b>Sat\\u0131\\u015f Adedi</b>:277<br>\",\"<b>\\u015eehir</b>:Libertad<br><b>Sat\\u0131\\u015f Adedi</b>:276<br>\",\"<b>\\u015eehir</b>:Quevedo<br><b>Sat\\u0131\\u015f Adedi</b>:255<br>\",\"<b>\\u015eehir</b>:Guaranda<br><b>Sat\\u0131\\u015f Adedi</b>:235<br>\",\"<b>\\u015eehir</b>:Santo Domingo<br><b>Sat\\u0131\\u015f Adedi</b>:215<br>\",\"<b>\\u015eehir</b>:Ibarra<br><b>Sat\\u0131\\u015f Adedi</b>:206<br>\",\"<b>\\u015eehir</b>:Salinas<br><b>Sat\\u0131\\u015f Adedi</b>:206<br>\",\"<b>\\u015eehir</b>:Riobamba<br><b>Sat\\u0131\\u015f Adedi</b>:205<br>\",\"<b>\\u015eehir</b>:El Carmen<br><b>Sat\\u0131\\u015f Adedi</b>:199<br>\",\"<b>\\u015eehir</b>:Latacunga<br><b>Sat\\u0131\\u015f Adedi</b>:191<br>\",\"<b>\\u015eehir</b>:Playas<br><b>Sat\\u0131\\u015f Adedi</b>:138<br>\",\"<b>\\u015eehir</b>:Manta<br><b>Sat\\u0131\\u015f Adedi</b>:126<br>\",\"<b>\\u015eehir</b>:Puyo<br><b>Sat\\u0131\\u015f Adedi</b>:74<br>\"],\"marker\":{\"color\":[\"#9a4800\",\"#a55305\",\"#af5d0b\",\"#ba6810\",\"#c57316\",\"#faa831\",\"#faa831\",\"#faa831\",\"#faa831\",\"#faa831\",\"#faa831\",\"#faa831\",\"#faa831\",\"#faa831\",\"#faa831\",\"#faa831\",\"#faa831\",\"#faa831\",\"#faa831\",\"#faa831\",\"#faa831\",\"#faa831\"]},\"name\":\"State\",\"text\":[558.0,511.0,363.0,346.0,340.0,320.0,301.0,295.0,295.0,277.0,276.0,255.0,235.0,215.0,206.0,206.0,205.0,199.0,191.0,138.0,126.0,74.0],\"textposition\":\"auto\",\"type\":\"bar\",\"x\":[\"Quito\",\"Cayambe\",\"Ambato\",\"Daule\",\"Loja\",\"Babahoyo\",\"Machala\",\"Cuenca\",\"Esmeraldas\",\"Guayaquil\",\"Libertad\",\"Quevedo\",\"Guaranda\",\"Santo Domingo\",\"Ibarra\",\"Salinas\",\"Riobamba\",\"El Carmen\",\"Latacunga\",\"Playas\",\"Manta\",\"Puyo\"],\"y\":[558.5604680515416,511.0592609754959,363.8465124696376,346.571238929232,340.3021992061046,320.71452739699595,301.39196982474687,295.8054630251015,295.64087730178574,277.5100456272281,276.7293995723985,255.84989756849203,235.35254909117486,215.79606749759867,206.26768064412553,206.05064034911177,205.26931348180779,199.98171666304037,191.00967410308124,138.3025514404473,126.64575242258113,74.2751298010856]}],                        {\"font\":{\"color\":\"white\",\"size\":14},\"paper_bgcolor\":\"#232425\",\"plot_bgcolor\":\"#232425\",\"template\":{\"data\":{\"bar\":[{\"error_x\":{\"color\":\"#2a3f5f\"},\"error_y\":{\"color\":\"#2a3f5f\"},\"marker\":{\"line\":{\"color\":\"#E5ECF6\",\"width\":0.5},\"pattern\":{\"fillmode\":\"overlay\",\"size\":10,\"solidity\":0.2}},\"type\":\"bar\"}],\"barpolar\":[{\"marker\":{\"line\":{\"color\":\"#E5ECF6\",\"width\":0.5},\"pattern\":{\"fillmode\":\"overlay\",\"size\":10,\"solidity\":0.2}},\"type\":\"barpolar\"}],\"carpet\":[{\"aaxis\":{\"endlinecolor\":\"#2a3f5f\",\"gridcolor\":\"white\",\"linecolor\":\"white\",\"minorgridcolor\":\"white\",\"startlinecolor\":\"#2a3f5f\"},\"baxis\":{\"endlinecolor\":\"#2a3f5f\",\"gridcolor\":\"white\",\"linecolor\":\"white\",\"minorgridcolor\":\"white\",\"startlinecolor\":\"#2a3f5f\"},\"type\":\"carpet\"}],\"choropleth\":[{\"colorbar\":{\"outlinewidth\":0,\"ticks\":\"\"},\"type\":\"choropleth\"}],\"contour\":[{\"colorbar\":{\"outlinewidth\":0,\"ticks\":\"\"},\"colorscale\":[[0.0,\"#0d0887\"],[0.1111111111111111,\"#46039f\"],[0.2222222222222222,\"#7201a8\"],[0.3333333333333333,\"#9c179e\"],[0.4444444444444444,\"#bd3786\"],[0.5555555555555556,\"#d8576b\"],[0.6666666666666666,\"#ed7953\"],[0.7777777777777778,\"#fb9f3a\"],[0.8888888888888888,\"#fdca26\"],[1.0,\"#f0f921\"]],\"type\":\"contour\"}],\"contourcarpet\":[{\"colorbar\":{\"outlinewidth\":0,\"ticks\":\"\"},\"type\":\"contourcarpet\"}],\"heatmap\":[{\"colorbar\":{\"outlinewidth\":0,\"ticks\":\"\"},\"colorscale\":[[0.0,\"#0d0887\"],[0.1111111111111111,\"#46039f\"],[0.2222222222222222,\"#7201a8\"],[0.3333333333333333,\"#9c179e\"],[0.4444444444444444,\"#bd3786\"],[0.5555555555555556,\"#d8576b\"],[0.6666666666666666,\"#ed7953\"],[0.7777777777777778,\"#fb9f3a\"],[0.8888888888888888,\"#fdca26\"],[1.0,\"#f0f921\"]],\"type\":\"heatmap\"}],\"heatmapgl\":[{\"colorbar\":{\"outlinewidth\":0,\"ticks\":\"\"},\"colorscale\":[[0.0,\"#0d0887\"],[0.1111111111111111,\"#46039f\"],[0.2222222222222222,\"#7201a8\"],[0.3333333333333333,\"#9c179e\"],[0.4444444444444444,\"#bd3786\"],[0.5555555555555556,\"#d8576b\"],[0.6666666666666666,\"#ed7953\"],[0.7777777777777778,\"#fb9f3a\"],[0.8888888888888888,\"#fdca26\"],[1.0,\"#f0f921\"]],\"type\":\"heatmapgl\"}],\"histogram\":[{\"marker\":{\"pattern\":{\"fillmode\":\"overlay\",\"size\":10,\"solidity\":0.2}},\"type\":\"histogram\"}],\"histogram2d\":[{\"colorbar\":{\"outlinewidth\":0,\"ticks\":\"\"},\"colorscale\":[[0.0,\"#0d0887\"],[0.1111111111111111,\"#46039f\"],[0.2222222222222222,\"#7201a8\"],[0.3333333333333333,\"#9c179e\"],[0.4444444444444444,\"#bd3786\"],[0.5555555555555556,\"#d8576b\"],[0.6666666666666666,\"#ed7953\"],[0.7777777777777778,\"#fb9f3a\"],[0.8888888888888888,\"#fdca26\"],[1.0,\"#f0f921\"]],\"type\":\"histogram2d\"}],\"histogram2dcontour\":[{\"colorbar\":{\"outlinewidth\":0,\"ticks\":\"\"},\"colorscale\":[[0.0,\"#0d0887\"],[0.1111111111111111,\"#46039f\"],[0.2222222222222222,\"#7201a8\"],[0.3333333333333333,\"#9c179e\"],[0.4444444444444444,\"#bd3786\"],[0.5555555555555556,\"#d8576b\"],[0.6666666666666666,\"#ed7953\"],[0.7777777777777778,\"#fb9f3a\"],[0.8888888888888888,\"#fdca26\"],[1.0,\"#f0f921\"]],\"type\":\"histogram2dcontour\"}],\"mesh3d\":[{\"colorbar\":{\"outlinewidth\":0,\"ticks\":\"\"},\"type\":\"mesh3d\"}],\"parcoords\":[{\"line\":{\"colorbar\":{\"outlinewidth\":0,\"ticks\":\"\"}},\"type\":\"parcoords\"}],\"pie\":[{\"automargin\":true,\"type\":\"pie\"}],\"scatter\":[{\"marker\":{\"colorbar\":{\"outlinewidth\":0,\"ticks\":\"\"}},\"type\":\"scatter\"}],\"scatter3d\":[{\"line\":{\"colorbar\":{\"outlinewidth\":0,\"ticks\":\"\"}},\"marker\":{\"colorbar\":{\"outlinewidth\":0,\"ticks\":\"\"}},\"type\":\"scatter3d\"}],\"scattercarpet\":[{\"marker\":{\"colorbar\":{\"outlinewidth\":0,\"ticks\":\"\"}},\"type\":\"scattercarpet\"}],\"scattergeo\":[{\"marker\":{\"colorbar\":{\"outlinewidth\":0,\"ticks\":\"\"}},\"type\":\"scattergeo\"}],\"scattergl\":[{\"marker\":{\"colorbar\":{\"outlinewidth\":0,\"ticks\":\"\"}},\"type\":\"scattergl\"}],\"scattermapbox\":[{\"marker\":{\"colorbar\":{\"outlinewidth\":0,\"ticks\":\"\"}},\"type\":\"scattermapbox\"}],\"scatterpolar\":[{\"marker\":{\"colorbar\":{\"outlinewidth\":0,\"ticks\":\"\"}},\"type\":\"scatterpolar\"}],\"scatterpolargl\":[{\"marker\":{\"colorbar\":{\"outlinewidth\":0,\"ticks\":\"\"}},\"type\":\"scatterpolargl\"}],\"scatterternary\":[{\"marker\":{\"colorbar\":{\"outlinewidth\":0,\"ticks\":\"\"}},\"type\":\"scatterternary\"}],\"surface\":[{\"colorbar\":{\"outlinewidth\":0,\"ticks\":\"\"},\"colorscale\":[[0.0,\"#0d0887\"],[0.1111111111111111,\"#46039f\"],[0.2222222222222222,\"#7201a8\"],[0.3333333333333333,\"#9c179e\"],[0.4444444444444444,\"#bd3786\"],[0.5555555555555556,\"#d8576b\"],[0.6666666666666666,\"#ed7953\"],[0.7777777777777778,\"#fb9f3a\"],[0.8888888888888888,\"#fdca26\"],[1.0,\"#f0f921\"]],\"type\":\"surface\"}],\"table\":[{\"cells\":{\"fill\":{\"color\":\"#EBF0F8\"},\"line\":{\"color\":\"white\"}},\"header\":{\"fill\":{\"color\":\"#C8D4E3\"},\"line\":{\"color\":\"white\"}},\"type\":\"table\"}]},\"layout\":{\"annotationdefaults\":{\"arrowcolor\":\"#2a3f5f\",\"arrowhead\":0,\"arrowwidth\":1},\"autotypenumbers\":\"strict\",\"coloraxis\":{\"colorbar\":{\"outlinewidth\":0,\"ticks\":\"\"}},\"colorscale\":{\"diverging\":[[0,\"#8e0152\"],[0.1,\"#c51b7d\"],[0.2,\"#de77ae\"],[0.3,\"#f1b6da\"],[0.4,\"#fde0ef\"],[0.5,\"#f7f7f7\"],[0.6,\"#e6f5d0\"],[0.7,\"#b8e186\"],[0.8,\"#7fbc41\"],[0.9,\"#4d9221\"],[1,\"#276419\"]],\"sequential\":[[0.0,\"#0d0887\"],[0.1111111111111111,\"#46039f\"],[0.2222222222222222,\"#7201a8\"],[0.3333333333333333,\"#9c179e\"],[0.4444444444444444,\"#bd3786\"],[0.5555555555555556,\"#d8576b\"],[0.6666666666666666,\"#ed7953\"],[0.7777777777777778,\"#fb9f3a\"],[0.8888888888888888,\"#fdca26\"],[1.0,\"#f0f921\"]],\"sequentialminus\":[[0.0,\"#0d0887\"],[0.1111111111111111,\"#46039f\"],[0.2222222222222222,\"#7201a8\"],[0.3333333333333333,\"#9c179e\"],[0.4444444444444444,\"#bd3786\"],[0.5555555555555556,\"#d8576b\"],[0.6666666666666666,\"#ed7953\"],[0.7777777777777778,\"#fb9f3a\"],[0.8888888888888888,\"#fdca26\"],[1.0,\"#f0f921\"]]},\"colorway\":[\"#636efa\",\"#EF553B\",\"#00cc96\",\"#ab63fa\",\"#FFA15A\",\"#19d3f3\",\"#FF6692\",\"#B6E880\",\"#FF97FF\",\"#FECB52\"],\"font\":{\"color\":\"#2a3f5f\"},\"geo\":{\"bgcolor\":\"white\",\"lakecolor\":\"white\",\"landcolor\":\"#E5ECF6\",\"showlakes\":true,\"showland\":true,\"subunitcolor\":\"white\"},\"hoverlabel\":{\"align\":\"left\"},\"hovermode\":\"closest\",\"mapbox\":{\"style\":\"light\"},\"paper_bgcolor\":\"white\",\"plot_bgcolor\":\"#E5ECF6\",\"polar\":{\"angularaxis\":{\"gridcolor\":\"white\",\"linecolor\":\"white\",\"ticks\":\"\"},\"bgcolor\":\"#E5ECF6\",\"radialaxis\":{\"gridcolor\":\"white\",\"linecolor\":\"white\",\"ticks\":\"\"}},\"scene\":{\"xaxis\":{\"backgroundcolor\":\"#E5ECF6\",\"gridcolor\":\"white\",\"gridwidth\":2,\"linecolor\":\"white\",\"showbackground\":true,\"ticks\":\"\",\"zerolinecolor\":\"white\"},\"yaxis\":{\"backgroundcolor\":\"#E5ECF6\",\"gridcolor\":\"white\",\"gridwidth\":2,\"linecolor\":\"white\",\"showbackground\":true,\"ticks\":\"\",\"zerolinecolor\":\"white\"},\"zaxis\":{\"backgroundcolor\":\"#E5ECF6\",\"gridcolor\":\"white\",\"gridwidth\":2,\"linecolor\":\"white\",\"showbackground\":true,\"ticks\":\"\",\"zerolinecolor\":\"white\"}},\"shapedefaults\":{\"line\":{\"color\":\"#2a3f5f\"}},\"ternary\":{\"aaxis\":{\"gridcolor\":\"white\",\"linecolor\":\"white\",\"ticks\":\"\"},\"baxis\":{\"gridcolor\":\"white\",\"linecolor\":\"white\",\"ticks\":\"\"},\"bgcolor\":\"#E5ECF6\",\"caxis\":{\"gridcolor\":\"white\",\"linecolor\":\"white\",\"ticks\":\"\"}},\"title\":{\"x\":0.05},\"xaxis\":{\"automargin\":true,\"gridcolor\":\"white\",\"linecolor\":\"white\",\"ticks\":\"\",\"title\":{\"standoff\":15},\"zerolinecolor\":\"white\",\"zerolinewidth\":2},\"yaxis\":{\"automargin\":true,\"gridcolor\":\"white\",\"linecolor\":\"white\",\"ticks\":\"\",\"title\":{\"standoff\":15},\"zerolinecolor\":\"white\",\"zerolinewidth\":2}}},\"title\":{\"text\":\"\\u015eehir Bazl\\u0131 Ortalama Sat\\u0131\\u015f Adedi\"},\"yaxis\":{\"categoryorder\":\"total ascending\",\"showgrid\":false}},                        {\"responsive\": true}                    ).then(function(){\n",
       "                            \n",
       "var gd = document.getElementById('45b9bba7-df3a-487c-948e-11f48ba72a41');\n",
       "var x = new MutationObserver(function (mutations, observer) {{\n",
       "        var display = window.getComputedStyle(gd).display;\n",
       "        if (!display || display === 'none') {{\n",
       "            console.log([gd, 'removed!']);\n",
       "            Plotly.purge(gd);\n",
       "            observer.disconnect();\n",
       "        }}\n",
       "}});\n",
       "\n",
       "// Listen for the removal of the full notebook cells\n",
       "var notebookContainer = gd.closest('#notebook-container');\n",
       "if (notebookContainer) {{\n",
       "    x.observe(notebookContainer, {childList: true});\n",
       "}}\n",
       "\n",
       "// Listen for the clearing of the current output cell\n",
       "var outputEl = gd.closest('.output');\n",
       "if (outputEl) {{\n",
       "    x.observe(outputEl, {childList: true});\n",
       "}}\n",
       "\n",
       "                        })                };                });            </script>        </div>"
      ]
     },
     "metadata": {},
     "output_type": "display_data"
    }
   ],
   "source": [
    "df_city_sa = df_train1.groupby('city').agg({\"sales\" : \"mean\"}).reset_index().sort_values(by='sales', ascending=False)\n",
    "df_city_sa['color'] = colors['level10']\n",
    "df_city_sa['color'][:1] = colors['level1']\n",
    "df_city_sa['color'][1:2] = colors['level2']\n",
    "df_city_sa['color'][2:3] = colors['level3']\n",
    "df_city_sa['color'][3:4] = colors['level4']\n",
    "df_city_sa['color'][4:5] = colors['level5']\n",
    "\n",
    "fig4 = go.Figure(data=[go.Bar(y=df_city_sa['sales'],\n",
    "                             x=df_city_sa['city'], \n",
    "                             marker=dict(color= df_city_sa['color']),\n",
    "                             name='State',\n",
    "                             text=df_city_sa['sales'].astype(int),\n",
    "                             textposition='auto',\n",
    "                             hoverinfo='text',\n",
    "                             hovertext=\n",
    "                            '<b>Şehir</b>:'+ df_city_sa['city'] +'<br>' +\n",
    "                            '<b>Satış Adedi</b>:'+ df_city_sa['sales'].astype(int).astype(str) +'<br>' ,\n",
    "                            # hovertemplate='Family: %{y}'+'<br>Sales: $%{x:.0f}'\n",
    "                            )])\n",
    "fig4.update_layout(title_text='Şehir Bazlı Ortalama Satış Adedi',paper_bgcolor=colors['background'],plot_bgcolor=colors['background'],\n",
    "                font=dict(\n",
    "                size=14,\n",
    "                color='white'))\n",
    "\n",
    "fig4.update_yaxes(showgrid=False, categoryorder='total ascending')"
   ]
  },
  {
   "cell_type": "code",
   "execution_count": 9,
   "metadata": {},
   "outputs": [
    {
     "data": {
      "application/vnd.plotly.v1+json": {
       "config": {
        "plotlyServerURL": "https://plot.ly"
       },
       "data": [
        {
         "hoverinfo": "text",
         "hovertext": [
          "<b>Eyalet</b>:Pichincha<br><b>Satış Adedi</b>:556<br>",
          "<b>Eyalet</b>:Tungurahua<br><b>Satış Adedi</b>:363<br>",
          "<b>Eyalet</b>:Loja<br><b>Satış Adedi</b>:340<br>",
          "<b>Eyalet</b>:El Oro<br><b>Satış Adedi</b>:301<br>",
          "<b>Eyalet</b>:Azuay<br><b>Satış Adedi</b>:295<br>",
          "<b>Eyalet</b>:Esmeraldas<br><b>Satış Adedi</b>:295<br>",
          "<b>Eyalet</b>:Los Rios<br><b>Satış Adedi</b>:288<br>",
          "<b>Eyalet</b>:Guayas<br><b>Satış Adedi</b>:271<br>",
          "<b>Eyalet</b>:Bolivar<br><b>Satış Adedi</b>:235<br>",
          "<b>Eyalet</b>:Santo Domingo de los Tsachilas<br><b>Satış Adedi</b>:215<br>",
          "<b>Eyalet</b>:Imbabura<br><b>Satış Adedi</b>:206<br>",
          "<b>Eyalet</b>:Santa Elena<br><b>Satış Adedi</b>:206<br>",
          "<b>Eyalet</b>:Chimborazo<br><b>Satış Adedi</b>:205<br>",
          "<b>Eyalet</b>:Cotopaxi<br><b>Satış Adedi</b>:191<br>",
          "<b>Eyalet</b>:Manabi<br><b>Satış Adedi</b>:151<br>",
          "<b>Eyalet</b>:Pastaza<br><b>Satış Adedi</b>:74<br>"
         ],
         "marker": {
          "color": [
           "#9a4800",
           "#a55305",
           "#af5d0b",
           "#ba6810",
           "#c57316",
           "#faa831",
           "#faa831",
           "#faa831",
           "#faa831",
           "#faa831",
           "#faa831",
           "#faa831",
           "#faa831",
           "#faa831",
           "#faa831",
           "#faa831"
          ]
         },
         "name": "State",
         "text": [
          556,
          363,
          340,
          301,
          295,
          295,
          288,
          271,
          235,
          215,
          206,
          206,
          205,
          191,
          151,
          74
         ],
         "textposition": "auto",
         "type": "bar",
         "x": [
          "Pichincha",
          "Tungurahua",
          "Loja",
          "El Oro",
          "Azuay",
          "Esmeraldas",
          "Los Rios",
          "Guayas",
          "Bolivar",
          "Santo Domingo de los Tsachilas",
          "Imbabura",
          "Santa Elena",
          "Chimborazo",
          "Cotopaxi",
          "Manabi",
          "Pastaza"
         ],
         "y": [
          556.0604045212121,
          363.8465124696376,
          340.3021992061046,
          301.39196982474687,
          295.8054630251015,
          295.64087730178574,
          288.282212482744,
          271.06214135998823,
          235.35254909117486,
          215.79606749759867,
          206.26768064412553,
          206.05064034911177,
          205.26931348180779,
          191.00967410308124,
          151.09107383606747,
          74.2751298010856
         ]
        }
       ],
       "layout": {
        "font": {
         "color": "white",
         "size": 14
        },
        "paper_bgcolor": "#232425",
        "plot_bgcolor": "#232425",
        "template": {
         "data": {
          "bar": [
           {
            "error_x": {
             "color": "#2a3f5f"
            },
            "error_y": {
             "color": "#2a3f5f"
            },
            "marker": {
             "line": {
              "color": "#E5ECF6",
              "width": 0.5
             },
             "pattern": {
              "fillmode": "overlay",
              "size": 10,
              "solidity": 0.2
             }
            },
            "type": "bar"
           }
          ],
          "barpolar": [
           {
            "marker": {
             "line": {
              "color": "#E5ECF6",
              "width": 0.5
             },
             "pattern": {
              "fillmode": "overlay",
              "size": 10,
              "solidity": 0.2
             }
            },
            "type": "barpolar"
           }
          ],
          "carpet": [
           {
            "aaxis": {
             "endlinecolor": "#2a3f5f",
             "gridcolor": "white",
             "linecolor": "white",
             "minorgridcolor": "white",
             "startlinecolor": "#2a3f5f"
            },
            "baxis": {
             "endlinecolor": "#2a3f5f",
             "gridcolor": "white",
             "linecolor": "white",
             "minorgridcolor": "white",
             "startlinecolor": "#2a3f5f"
            },
            "type": "carpet"
           }
          ],
          "choropleth": [
           {
            "colorbar": {
             "outlinewidth": 0,
             "ticks": ""
            },
            "type": "choropleth"
           }
          ],
          "contour": [
           {
            "colorbar": {
             "outlinewidth": 0,
             "ticks": ""
            },
            "colorscale": [
             [
              0,
              "#0d0887"
             ],
             [
              0.1111111111111111,
              "#46039f"
             ],
             [
              0.2222222222222222,
              "#7201a8"
             ],
             [
              0.3333333333333333,
              "#9c179e"
             ],
             [
              0.4444444444444444,
              "#bd3786"
             ],
             [
              0.5555555555555556,
              "#d8576b"
             ],
             [
              0.6666666666666666,
              "#ed7953"
             ],
             [
              0.7777777777777778,
              "#fb9f3a"
             ],
             [
              0.8888888888888888,
              "#fdca26"
             ],
             [
              1,
              "#f0f921"
             ]
            ],
            "type": "contour"
           }
          ],
          "contourcarpet": [
           {
            "colorbar": {
             "outlinewidth": 0,
             "ticks": ""
            },
            "type": "contourcarpet"
           }
          ],
          "heatmap": [
           {
            "colorbar": {
             "outlinewidth": 0,
             "ticks": ""
            },
            "colorscale": [
             [
              0,
              "#0d0887"
             ],
             [
              0.1111111111111111,
              "#46039f"
             ],
             [
              0.2222222222222222,
              "#7201a8"
             ],
             [
              0.3333333333333333,
              "#9c179e"
             ],
             [
              0.4444444444444444,
              "#bd3786"
             ],
             [
              0.5555555555555556,
              "#d8576b"
             ],
             [
              0.6666666666666666,
              "#ed7953"
             ],
             [
              0.7777777777777778,
              "#fb9f3a"
             ],
             [
              0.8888888888888888,
              "#fdca26"
             ],
             [
              1,
              "#f0f921"
             ]
            ],
            "type": "heatmap"
           }
          ],
          "heatmapgl": [
           {
            "colorbar": {
             "outlinewidth": 0,
             "ticks": ""
            },
            "colorscale": [
             [
              0,
              "#0d0887"
             ],
             [
              0.1111111111111111,
              "#46039f"
             ],
             [
              0.2222222222222222,
              "#7201a8"
             ],
             [
              0.3333333333333333,
              "#9c179e"
             ],
             [
              0.4444444444444444,
              "#bd3786"
             ],
             [
              0.5555555555555556,
              "#d8576b"
             ],
             [
              0.6666666666666666,
              "#ed7953"
             ],
             [
              0.7777777777777778,
              "#fb9f3a"
             ],
             [
              0.8888888888888888,
              "#fdca26"
             ],
             [
              1,
              "#f0f921"
             ]
            ],
            "type": "heatmapgl"
           }
          ],
          "histogram": [
           {
            "marker": {
             "pattern": {
              "fillmode": "overlay",
              "size": 10,
              "solidity": 0.2
             }
            },
            "type": "histogram"
           }
          ],
          "histogram2d": [
           {
            "colorbar": {
             "outlinewidth": 0,
             "ticks": ""
            },
            "colorscale": [
             [
              0,
              "#0d0887"
             ],
             [
              0.1111111111111111,
              "#46039f"
             ],
             [
              0.2222222222222222,
              "#7201a8"
             ],
             [
              0.3333333333333333,
              "#9c179e"
             ],
             [
              0.4444444444444444,
              "#bd3786"
             ],
             [
              0.5555555555555556,
              "#d8576b"
             ],
             [
              0.6666666666666666,
              "#ed7953"
             ],
             [
              0.7777777777777778,
              "#fb9f3a"
             ],
             [
              0.8888888888888888,
              "#fdca26"
             ],
             [
              1,
              "#f0f921"
             ]
            ],
            "type": "histogram2d"
           }
          ],
          "histogram2dcontour": [
           {
            "colorbar": {
             "outlinewidth": 0,
             "ticks": ""
            },
            "colorscale": [
             [
              0,
              "#0d0887"
             ],
             [
              0.1111111111111111,
              "#46039f"
             ],
             [
              0.2222222222222222,
              "#7201a8"
             ],
             [
              0.3333333333333333,
              "#9c179e"
             ],
             [
              0.4444444444444444,
              "#bd3786"
             ],
             [
              0.5555555555555556,
              "#d8576b"
             ],
             [
              0.6666666666666666,
              "#ed7953"
             ],
             [
              0.7777777777777778,
              "#fb9f3a"
             ],
             [
              0.8888888888888888,
              "#fdca26"
             ],
             [
              1,
              "#f0f921"
             ]
            ],
            "type": "histogram2dcontour"
           }
          ],
          "mesh3d": [
           {
            "colorbar": {
             "outlinewidth": 0,
             "ticks": ""
            },
            "type": "mesh3d"
           }
          ],
          "parcoords": [
           {
            "line": {
             "colorbar": {
              "outlinewidth": 0,
              "ticks": ""
             }
            },
            "type": "parcoords"
           }
          ],
          "pie": [
           {
            "automargin": true,
            "type": "pie"
           }
          ],
          "scatter": [
           {
            "marker": {
             "colorbar": {
              "outlinewidth": 0,
              "ticks": ""
             }
            },
            "type": "scatter"
           }
          ],
          "scatter3d": [
           {
            "line": {
             "colorbar": {
              "outlinewidth": 0,
              "ticks": ""
             }
            },
            "marker": {
             "colorbar": {
              "outlinewidth": 0,
              "ticks": ""
             }
            },
            "type": "scatter3d"
           }
          ],
          "scattercarpet": [
           {
            "marker": {
             "colorbar": {
              "outlinewidth": 0,
              "ticks": ""
             }
            },
            "type": "scattercarpet"
           }
          ],
          "scattergeo": [
           {
            "marker": {
             "colorbar": {
              "outlinewidth": 0,
              "ticks": ""
             }
            },
            "type": "scattergeo"
           }
          ],
          "scattergl": [
           {
            "marker": {
             "colorbar": {
              "outlinewidth": 0,
              "ticks": ""
             }
            },
            "type": "scattergl"
           }
          ],
          "scattermapbox": [
           {
            "marker": {
             "colorbar": {
              "outlinewidth": 0,
              "ticks": ""
             }
            },
            "type": "scattermapbox"
           }
          ],
          "scatterpolar": [
           {
            "marker": {
             "colorbar": {
              "outlinewidth": 0,
              "ticks": ""
             }
            },
            "type": "scatterpolar"
           }
          ],
          "scatterpolargl": [
           {
            "marker": {
             "colorbar": {
              "outlinewidth": 0,
              "ticks": ""
             }
            },
            "type": "scatterpolargl"
           }
          ],
          "scatterternary": [
           {
            "marker": {
             "colorbar": {
              "outlinewidth": 0,
              "ticks": ""
             }
            },
            "type": "scatterternary"
           }
          ],
          "surface": [
           {
            "colorbar": {
             "outlinewidth": 0,
             "ticks": ""
            },
            "colorscale": [
             [
              0,
              "#0d0887"
             ],
             [
              0.1111111111111111,
              "#46039f"
             ],
             [
              0.2222222222222222,
              "#7201a8"
             ],
             [
              0.3333333333333333,
              "#9c179e"
             ],
             [
              0.4444444444444444,
              "#bd3786"
             ],
             [
              0.5555555555555556,
              "#d8576b"
             ],
             [
              0.6666666666666666,
              "#ed7953"
             ],
             [
              0.7777777777777778,
              "#fb9f3a"
             ],
             [
              0.8888888888888888,
              "#fdca26"
             ],
             [
              1,
              "#f0f921"
             ]
            ],
            "type": "surface"
           }
          ],
          "table": [
           {
            "cells": {
             "fill": {
              "color": "#EBF0F8"
             },
             "line": {
              "color": "white"
             }
            },
            "header": {
             "fill": {
              "color": "#C8D4E3"
             },
             "line": {
              "color": "white"
             }
            },
            "type": "table"
           }
          ]
         },
         "layout": {
          "annotationdefaults": {
           "arrowcolor": "#2a3f5f",
           "arrowhead": 0,
           "arrowwidth": 1
          },
          "autotypenumbers": "strict",
          "coloraxis": {
           "colorbar": {
            "outlinewidth": 0,
            "ticks": ""
           }
          },
          "colorscale": {
           "diverging": [
            [
             0,
             "#8e0152"
            ],
            [
             0.1,
             "#c51b7d"
            ],
            [
             0.2,
             "#de77ae"
            ],
            [
             0.3,
             "#f1b6da"
            ],
            [
             0.4,
             "#fde0ef"
            ],
            [
             0.5,
             "#f7f7f7"
            ],
            [
             0.6,
             "#e6f5d0"
            ],
            [
             0.7,
             "#b8e186"
            ],
            [
             0.8,
             "#7fbc41"
            ],
            [
             0.9,
             "#4d9221"
            ],
            [
             1,
             "#276419"
            ]
           ],
           "sequential": [
            [
             0,
             "#0d0887"
            ],
            [
             0.1111111111111111,
             "#46039f"
            ],
            [
             0.2222222222222222,
             "#7201a8"
            ],
            [
             0.3333333333333333,
             "#9c179e"
            ],
            [
             0.4444444444444444,
             "#bd3786"
            ],
            [
             0.5555555555555556,
             "#d8576b"
            ],
            [
             0.6666666666666666,
             "#ed7953"
            ],
            [
             0.7777777777777778,
             "#fb9f3a"
            ],
            [
             0.8888888888888888,
             "#fdca26"
            ],
            [
             1,
             "#f0f921"
            ]
           ],
           "sequentialminus": [
            [
             0,
             "#0d0887"
            ],
            [
             0.1111111111111111,
             "#46039f"
            ],
            [
             0.2222222222222222,
             "#7201a8"
            ],
            [
             0.3333333333333333,
             "#9c179e"
            ],
            [
             0.4444444444444444,
             "#bd3786"
            ],
            [
             0.5555555555555556,
             "#d8576b"
            ],
            [
             0.6666666666666666,
             "#ed7953"
            ],
            [
             0.7777777777777778,
             "#fb9f3a"
            ],
            [
             0.8888888888888888,
             "#fdca26"
            ],
            [
             1,
             "#f0f921"
            ]
           ]
          },
          "colorway": [
           "#636efa",
           "#EF553B",
           "#00cc96",
           "#ab63fa",
           "#FFA15A",
           "#19d3f3",
           "#FF6692",
           "#B6E880",
           "#FF97FF",
           "#FECB52"
          ],
          "font": {
           "color": "#2a3f5f"
          },
          "geo": {
           "bgcolor": "white",
           "lakecolor": "white",
           "landcolor": "#E5ECF6",
           "showlakes": true,
           "showland": true,
           "subunitcolor": "white"
          },
          "hoverlabel": {
           "align": "left"
          },
          "hovermode": "closest",
          "mapbox": {
           "style": "light"
          },
          "paper_bgcolor": "white",
          "plot_bgcolor": "#E5ECF6",
          "polar": {
           "angularaxis": {
            "gridcolor": "white",
            "linecolor": "white",
            "ticks": ""
           },
           "bgcolor": "#E5ECF6",
           "radialaxis": {
            "gridcolor": "white",
            "linecolor": "white",
            "ticks": ""
           }
          },
          "scene": {
           "xaxis": {
            "backgroundcolor": "#E5ECF6",
            "gridcolor": "white",
            "gridwidth": 2,
            "linecolor": "white",
            "showbackground": true,
            "ticks": "",
            "zerolinecolor": "white"
           },
           "yaxis": {
            "backgroundcolor": "#E5ECF6",
            "gridcolor": "white",
            "gridwidth": 2,
            "linecolor": "white",
            "showbackground": true,
            "ticks": "",
            "zerolinecolor": "white"
           },
           "zaxis": {
            "backgroundcolor": "#E5ECF6",
            "gridcolor": "white",
            "gridwidth": 2,
            "linecolor": "white",
            "showbackground": true,
            "ticks": "",
            "zerolinecolor": "white"
           }
          },
          "shapedefaults": {
           "line": {
            "color": "#2a3f5f"
           }
          },
          "ternary": {
           "aaxis": {
            "gridcolor": "white",
            "linecolor": "white",
            "ticks": ""
           },
           "baxis": {
            "gridcolor": "white",
            "linecolor": "white",
            "ticks": ""
           },
           "bgcolor": "#E5ECF6",
           "caxis": {
            "gridcolor": "white",
            "linecolor": "white",
            "ticks": ""
           }
          },
          "title": {
           "x": 0.05
          },
          "xaxis": {
           "automargin": true,
           "gridcolor": "white",
           "linecolor": "white",
           "ticks": "",
           "title": {
            "standoff": 15
           },
           "zerolinecolor": "white",
           "zerolinewidth": 2
          },
          "yaxis": {
           "automargin": true,
           "gridcolor": "white",
           "linecolor": "white",
           "ticks": "",
           "title": {
            "standoff": 15
           },
           "zerolinecolor": "white",
           "zerolinewidth": 2
          }
         }
        },
        "title": {
         "text": "Eyalet Bazlı Ortalama Satış Adedi"
        },
        "yaxis": {
         "categoryorder": "total ascending",
         "showgrid": false
        }
       }
      },
      "text/html": [
       "<div>                            <div id=\"49dbfbb5-f37e-4ac8-908e-0f32c4390308\" class=\"plotly-graph-div\" style=\"height:525px; width:100%;\"></div>            <script type=\"text/javascript\">                require([\"plotly\"], function(Plotly) {                    window.PLOTLYENV=window.PLOTLYENV || {};                                    if (document.getElementById(\"49dbfbb5-f37e-4ac8-908e-0f32c4390308\")) {                    Plotly.newPlot(                        \"49dbfbb5-f37e-4ac8-908e-0f32c4390308\",                        [{\"hoverinfo\":\"text\",\"hovertext\":[\"<b>Eyalet</b>:Pichincha<br><b>Sat\\u0131\\u015f Adedi</b>:556<br>\",\"<b>Eyalet</b>:Tungurahua<br><b>Sat\\u0131\\u015f Adedi</b>:363<br>\",\"<b>Eyalet</b>:Loja<br><b>Sat\\u0131\\u015f Adedi</b>:340<br>\",\"<b>Eyalet</b>:El Oro<br><b>Sat\\u0131\\u015f Adedi</b>:301<br>\",\"<b>Eyalet</b>:Azuay<br><b>Sat\\u0131\\u015f Adedi</b>:295<br>\",\"<b>Eyalet</b>:Esmeraldas<br><b>Sat\\u0131\\u015f Adedi</b>:295<br>\",\"<b>Eyalet</b>:Los Rios<br><b>Sat\\u0131\\u015f Adedi</b>:288<br>\",\"<b>Eyalet</b>:Guayas<br><b>Sat\\u0131\\u015f Adedi</b>:271<br>\",\"<b>Eyalet</b>:Bolivar<br><b>Sat\\u0131\\u015f Adedi</b>:235<br>\",\"<b>Eyalet</b>:Santo Domingo de los Tsachilas<br><b>Sat\\u0131\\u015f Adedi</b>:215<br>\",\"<b>Eyalet</b>:Imbabura<br><b>Sat\\u0131\\u015f Adedi</b>:206<br>\",\"<b>Eyalet</b>:Santa Elena<br><b>Sat\\u0131\\u015f Adedi</b>:206<br>\",\"<b>Eyalet</b>:Chimborazo<br><b>Sat\\u0131\\u015f Adedi</b>:205<br>\",\"<b>Eyalet</b>:Cotopaxi<br><b>Sat\\u0131\\u015f Adedi</b>:191<br>\",\"<b>Eyalet</b>:Manabi<br><b>Sat\\u0131\\u015f Adedi</b>:151<br>\",\"<b>Eyalet</b>:Pastaza<br><b>Sat\\u0131\\u015f Adedi</b>:74<br>\"],\"marker\":{\"color\":[\"#9a4800\",\"#a55305\",\"#af5d0b\",\"#ba6810\",\"#c57316\",\"#faa831\",\"#faa831\",\"#faa831\",\"#faa831\",\"#faa831\",\"#faa831\",\"#faa831\",\"#faa831\",\"#faa831\",\"#faa831\",\"#faa831\"]},\"name\":\"State\",\"text\":[556.0,363.0,340.0,301.0,295.0,295.0,288.0,271.0,235.0,215.0,206.0,206.0,205.0,191.0,151.0,74.0],\"textposition\":\"auto\",\"type\":\"bar\",\"x\":[\"Pichincha\",\"Tungurahua\",\"Loja\",\"El Oro\",\"Azuay\",\"Esmeraldas\",\"Los Rios\",\"Guayas\",\"Bolivar\",\"Santo Domingo de los Tsachilas\",\"Imbabura\",\"Santa Elena\",\"Chimborazo\",\"Cotopaxi\",\"Manabi\",\"Pastaza\"],\"y\":[556.0604045212121,363.8465124696376,340.3021992061046,301.39196982474687,295.8054630251015,295.64087730178574,288.282212482744,271.06214135998823,235.35254909117486,215.79606749759867,206.26768064412553,206.05064034911177,205.26931348180779,191.00967410308124,151.09107383606747,74.2751298010856]}],                        {\"font\":{\"color\":\"white\",\"size\":14},\"paper_bgcolor\":\"#232425\",\"plot_bgcolor\":\"#232425\",\"template\":{\"data\":{\"bar\":[{\"error_x\":{\"color\":\"#2a3f5f\"},\"error_y\":{\"color\":\"#2a3f5f\"},\"marker\":{\"line\":{\"color\":\"#E5ECF6\",\"width\":0.5},\"pattern\":{\"fillmode\":\"overlay\",\"size\":10,\"solidity\":0.2}},\"type\":\"bar\"}],\"barpolar\":[{\"marker\":{\"line\":{\"color\":\"#E5ECF6\",\"width\":0.5},\"pattern\":{\"fillmode\":\"overlay\",\"size\":10,\"solidity\":0.2}},\"type\":\"barpolar\"}],\"carpet\":[{\"aaxis\":{\"endlinecolor\":\"#2a3f5f\",\"gridcolor\":\"white\",\"linecolor\":\"white\",\"minorgridcolor\":\"white\",\"startlinecolor\":\"#2a3f5f\"},\"baxis\":{\"endlinecolor\":\"#2a3f5f\",\"gridcolor\":\"white\",\"linecolor\":\"white\",\"minorgridcolor\":\"white\",\"startlinecolor\":\"#2a3f5f\"},\"type\":\"carpet\"}],\"choropleth\":[{\"colorbar\":{\"outlinewidth\":0,\"ticks\":\"\"},\"type\":\"choropleth\"}],\"contour\":[{\"colorbar\":{\"outlinewidth\":0,\"ticks\":\"\"},\"colorscale\":[[0.0,\"#0d0887\"],[0.1111111111111111,\"#46039f\"],[0.2222222222222222,\"#7201a8\"],[0.3333333333333333,\"#9c179e\"],[0.4444444444444444,\"#bd3786\"],[0.5555555555555556,\"#d8576b\"],[0.6666666666666666,\"#ed7953\"],[0.7777777777777778,\"#fb9f3a\"],[0.8888888888888888,\"#fdca26\"],[1.0,\"#f0f921\"]],\"type\":\"contour\"}],\"contourcarpet\":[{\"colorbar\":{\"outlinewidth\":0,\"ticks\":\"\"},\"type\":\"contourcarpet\"}],\"heatmap\":[{\"colorbar\":{\"outlinewidth\":0,\"ticks\":\"\"},\"colorscale\":[[0.0,\"#0d0887\"],[0.1111111111111111,\"#46039f\"],[0.2222222222222222,\"#7201a8\"],[0.3333333333333333,\"#9c179e\"],[0.4444444444444444,\"#bd3786\"],[0.5555555555555556,\"#d8576b\"],[0.6666666666666666,\"#ed7953\"],[0.7777777777777778,\"#fb9f3a\"],[0.8888888888888888,\"#fdca26\"],[1.0,\"#f0f921\"]],\"type\":\"heatmap\"}],\"heatmapgl\":[{\"colorbar\":{\"outlinewidth\":0,\"ticks\":\"\"},\"colorscale\":[[0.0,\"#0d0887\"],[0.1111111111111111,\"#46039f\"],[0.2222222222222222,\"#7201a8\"],[0.3333333333333333,\"#9c179e\"],[0.4444444444444444,\"#bd3786\"],[0.5555555555555556,\"#d8576b\"],[0.6666666666666666,\"#ed7953\"],[0.7777777777777778,\"#fb9f3a\"],[0.8888888888888888,\"#fdca26\"],[1.0,\"#f0f921\"]],\"type\":\"heatmapgl\"}],\"histogram\":[{\"marker\":{\"pattern\":{\"fillmode\":\"overlay\",\"size\":10,\"solidity\":0.2}},\"type\":\"histogram\"}],\"histogram2d\":[{\"colorbar\":{\"outlinewidth\":0,\"ticks\":\"\"},\"colorscale\":[[0.0,\"#0d0887\"],[0.1111111111111111,\"#46039f\"],[0.2222222222222222,\"#7201a8\"],[0.3333333333333333,\"#9c179e\"],[0.4444444444444444,\"#bd3786\"],[0.5555555555555556,\"#d8576b\"],[0.6666666666666666,\"#ed7953\"],[0.7777777777777778,\"#fb9f3a\"],[0.8888888888888888,\"#fdca26\"],[1.0,\"#f0f921\"]],\"type\":\"histogram2d\"}],\"histogram2dcontour\":[{\"colorbar\":{\"outlinewidth\":0,\"ticks\":\"\"},\"colorscale\":[[0.0,\"#0d0887\"],[0.1111111111111111,\"#46039f\"],[0.2222222222222222,\"#7201a8\"],[0.3333333333333333,\"#9c179e\"],[0.4444444444444444,\"#bd3786\"],[0.5555555555555556,\"#d8576b\"],[0.6666666666666666,\"#ed7953\"],[0.7777777777777778,\"#fb9f3a\"],[0.8888888888888888,\"#fdca26\"],[1.0,\"#f0f921\"]],\"type\":\"histogram2dcontour\"}],\"mesh3d\":[{\"colorbar\":{\"outlinewidth\":0,\"ticks\":\"\"},\"type\":\"mesh3d\"}],\"parcoords\":[{\"line\":{\"colorbar\":{\"outlinewidth\":0,\"ticks\":\"\"}},\"type\":\"parcoords\"}],\"pie\":[{\"automargin\":true,\"type\":\"pie\"}],\"scatter\":[{\"marker\":{\"colorbar\":{\"outlinewidth\":0,\"ticks\":\"\"}},\"type\":\"scatter\"}],\"scatter3d\":[{\"line\":{\"colorbar\":{\"outlinewidth\":0,\"ticks\":\"\"}},\"marker\":{\"colorbar\":{\"outlinewidth\":0,\"ticks\":\"\"}},\"type\":\"scatter3d\"}],\"scattercarpet\":[{\"marker\":{\"colorbar\":{\"outlinewidth\":0,\"ticks\":\"\"}},\"type\":\"scattercarpet\"}],\"scattergeo\":[{\"marker\":{\"colorbar\":{\"outlinewidth\":0,\"ticks\":\"\"}},\"type\":\"scattergeo\"}],\"scattergl\":[{\"marker\":{\"colorbar\":{\"outlinewidth\":0,\"ticks\":\"\"}},\"type\":\"scattergl\"}],\"scattermapbox\":[{\"marker\":{\"colorbar\":{\"outlinewidth\":0,\"ticks\":\"\"}},\"type\":\"scattermapbox\"}],\"scatterpolar\":[{\"marker\":{\"colorbar\":{\"outlinewidth\":0,\"ticks\":\"\"}},\"type\":\"scatterpolar\"}],\"scatterpolargl\":[{\"marker\":{\"colorbar\":{\"outlinewidth\":0,\"ticks\":\"\"}},\"type\":\"scatterpolargl\"}],\"scatterternary\":[{\"marker\":{\"colorbar\":{\"outlinewidth\":0,\"ticks\":\"\"}},\"type\":\"scatterternary\"}],\"surface\":[{\"colorbar\":{\"outlinewidth\":0,\"ticks\":\"\"},\"colorscale\":[[0.0,\"#0d0887\"],[0.1111111111111111,\"#46039f\"],[0.2222222222222222,\"#7201a8\"],[0.3333333333333333,\"#9c179e\"],[0.4444444444444444,\"#bd3786\"],[0.5555555555555556,\"#d8576b\"],[0.6666666666666666,\"#ed7953\"],[0.7777777777777778,\"#fb9f3a\"],[0.8888888888888888,\"#fdca26\"],[1.0,\"#f0f921\"]],\"type\":\"surface\"}],\"table\":[{\"cells\":{\"fill\":{\"color\":\"#EBF0F8\"},\"line\":{\"color\":\"white\"}},\"header\":{\"fill\":{\"color\":\"#C8D4E3\"},\"line\":{\"color\":\"white\"}},\"type\":\"table\"}]},\"layout\":{\"annotationdefaults\":{\"arrowcolor\":\"#2a3f5f\",\"arrowhead\":0,\"arrowwidth\":1},\"autotypenumbers\":\"strict\",\"coloraxis\":{\"colorbar\":{\"outlinewidth\":0,\"ticks\":\"\"}},\"colorscale\":{\"diverging\":[[0,\"#8e0152\"],[0.1,\"#c51b7d\"],[0.2,\"#de77ae\"],[0.3,\"#f1b6da\"],[0.4,\"#fde0ef\"],[0.5,\"#f7f7f7\"],[0.6,\"#e6f5d0\"],[0.7,\"#b8e186\"],[0.8,\"#7fbc41\"],[0.9,\"#4d9221\"],[1,\"#276419\"]],\"sequential\":[[0.0,\"#0d0887\"],[0.1111111111111111,\"#46039f\"],[0.2222222222222222,\"#7201a8\"],[0.3333333333333333,\"#9c179e\"],[0.4444444444444444,\"#bd3786\"],[0.5555555555555556,\"#d8576b\"],[0.6666666666666666,\"#ed7953\"],[0.7777777777777778,\"#fb9f3a\"],[0.8888888888888888,\"#fdca26\"],[1.0,\"#f0f921\"]],\"sequentialminus\":[[0.0,\"#0d0887\"],[0.1111111111111111,\"#46039f\"],[0.2222222222222222,\"#7201a8\"],[0.3333333333333333,\"#9c179e\"],[0.4444444444444444,\"#bd3786\"],[0.5555555555555556,\"#d8576b\"],[0.6666666666666666,\"#ed7953\"],[0.7777777777777778,\"#fb9f3a\"],[0.8888888888888888,\"#fdca26\"],[1.0,\"#f0f921\"]]},\"colorway\":[\"#636efa\",\"#EF553B\",\"#00cc96\",\"#ab63fa\",\"#FFA15A\",\"#19d3f3\",\"#FF6692\",\"#B6E880\",\"#FF97FF\",\"#FECB52\"],\"font\":{\"color\":\"#2a3f5f\"},\"geo\":{\"bgcolor\":\"white\",\"lakecolor\":\"white\",\"landcolor\":\"#E5ECF6\",\"showlakes\":true,\"showland\":true,\"subunitcolor\":\"white\"},\"hoverlabel\":{\"align\":\"left\"},\"hovermode\":\"closest\",\"mapbox\":{\"style\":\"light\"},\"paper_bgcolor\":\"white\",\"plot_bgcolor\":\"#E5ECF6\",\"polar\":{\"angularaxis\":{\"gridcolor\":\"white\",\"linecolor\":\"white\",\"ticks\":\"\"},\"bgcolor\":\"#E5ECF6\",\"radialaxis\":{\"gridcolor\":\"white\",\"linecolor\":\"white\",\"ticks\":\"\"}},\"scene\":{\"xaxis\":{\"backgroundcolor\":\"#E5ECF6\",\"gridcolor\":\"white\",\"gridwidth\":2,\"linecolor\":\"white\",\"showbackground\":true,\"ticks\":\"\",\"zerolinecolor\":\"white\"},\"yaxis\":{\"backgroundcolor\":\"#E5ECF6\",\"gridcolor\":\"white\",\"gridwidth\":2,\"linecolor\":\"white\",\"showbackground\":true,\"ticks\":\"\",\"zerolinecolor\":\"white\"},\"zaxis\":{\"backgroundcolor\":\"#E5ECF6\",\"gridcolor\":\"white\",\"gridwidth\":2,\"linecolor\":\"white\",\"showbackground\":true,\"ticks\":\"\",\"zerolinecolor\":\"white\"}},\"shapedefaults\":{\"line\":{\"color\":\"#2a3f5f\"}},\"ternary\":{\"aaxis\":{\"gridcolor\":\"white\",\"linecolor\":\"white\",\"ticks\":\"\"},\"baxis\":{\"gridcolor\":\"white\",\"linecolor\":\"white\",\"ticks\":\"\"},\"bgcolor\":\"#E5ECF6\",\"caxis\":{\"gridcolor\":\"white\",\"linecolor\":\"white\",\"ticks\":\"\"}},\"title\":{\"x\":0.05},\"xaxis\":{\"automargin\":true,\"gridcolor\":\"white\",\"linecolor\":\"white\",\"ticks\":\"\",\"title\":{\"standoff\":15},\"zerolinecolor\":\"white\",\"zerolinewidth\":2},\"yaxis\":{\"automargin\":true,\"gridcolor\":\"white\",\"linecolor\":\"white\",\"ticks\":\"\",\"title\":{\"standoff\":15},\"zerolinecolor\":\"white\",\"zerolinewidth\":2}}},\"title\":{\"text\":\"Eyalet Bazl\\u0131 Ortalama Sat\\u0131\\u015f Adedi\"},\"yaxis\":{\"categoryorder\":\"total ascending\",\"showgrid\":false}},                        {\"responsive\": true}                    ).then(function(){\n",
       "                            \n",
       "var gd = document.getElementById('49dbfbb5-f37e-4ac8-908e-0f32c4390308');\n",
       "var x = new MutationObserver(function (mutations, observer) {{\n",
       "        var display = window.getComputedStyle(gd).display;\n",
       "        if (!display || display === 'none') {{\n",
       "            console.log([gd, 'removed!']);\n",
       "            Plotly.purge(gd);\n",
       "            observer.disconnect();\n",
       "        }}\n",
       "}});\n",
       "\n",
       "// Listen for the removal of the full notebook cells\n",
       "var notebookContainer = gd.closest('#notebook-container');\n",
       "if (notebookContainer) {{\n",
       "    x.observe(notebookContainer, {childList: true});\n",
       "}}\n",
       "\n",
       "// Listen for the clearing of the current output cell\n",
       "var outputEl = gd.closest('.output');\n",
       "if (outputEl) {{\n",
       "    x.observe(outputEl, {childList: true});\n",
       "}}\n",
       "\n",
       "                        })                };                });            </script>        </div>"
      ]
     },
     "metadata": {},
     "output_type": "display_data"
    }
   ],
   "source": [
    "df_state_sa = df_train1.groupby('state').agg({\"sales\" : \"mean\"}).reset_index().sort_values(by='sales', ascending=False)\n",
    "df_state_sa['color'] = colors['level10']\n",
    "df_state_sa['color'][:1] = colors['level1']\n",
    "df_state_sa['color'][1:2] = colors['level2']\n",
    "df_state_sa['color'][2:3] = colors['level3']\n",
    "df_state_sa['color'][3:4] = colors['level4']\n",
    "df_state_sa['color'][4:5] = colors['level5']\n",
    "df_state_sa\n",
    "fig5 = go.Figure(data=[go.Bar(y=df_state_sa['sales'],\n",
    "                             x=df_state_sa['state'], \n",
    "                             marker=dict(color= df_state_sa['color']),\n",
    "                             name='State',\n",
    "                             text=df_state_sa['sales'].astype(int),\n",
    "                             textposition='auto',\n",
    "                             hoverinfo='text',\n",
    "                             hovertext=\n",
    "                            '<b>Eyalet</b>:'+ df_state_sa['state'] +'<br>' +\n",
    "                            '<b>Satış Adedi</b>:'+ df_state_sa['sales'].astype(int).astype(str) +'<br>' ,\n",
    "                            # hovertemplate='Family: %{y}'+'<br>Sales: $%{x:.0f}'\n",
    "                            )])\n",
    "fig5.update_layout(title_text='Eyalet Bazlı Ortalama Satış Adedi',paper_bgcolor=colors['background'],plot_bgcolor=colors['background'],\n",
    "                font=dict(\n",
    "                size=14,\n",
    "                color='white'))\n",
    "\n",
    "fig5.update_yaxes(showgrid=False, categoryorder='total ascending')"
   ]
  },
  {
   "cell_type": "code",
   "execution_count": 10,
   "metadata": {},
   "outputs": [
    {
     "data": {
      "application/vnd.plotly.v1+json": {
       "config": {
        "plotlyServerURL": "https://plot.ly"
       },
       "data": [
        {
         "fill": "tozeroy",
         "fillcolor": "#FAA831",
         "line": {
          "color": "#bA6800"
         },
         "type": "scatter",
         "x": [
          "2013-01-01T00:00:00",
          "2013-01-02T00:00:00",
          "2013-01-03T00:00:00",
          "2013-01-04T00:00:00",
          "2013-01-05T00:00:00",
          "2013-01-06T00:00:00",
          "2013-01-07T00:00:00",
          "2013-01-08T00:00:00",
          "2013-01-09T00:00:00",
          "2013-01-10T00:00:00",
          "2013-01-11T00:00:00",
          "2013-01-12T00:00:00",
          "2013-01-13T00:00:00",
          "2013-01-14T00:00:00",
          "2013-01-15T00:00:00",
          "2013-01-16T00:00:00",
          "2013-01-17T00:00:00",
          "2013-01-18T00:00:00",
          "2013-01-19T00:00:00",
          "2013-01-20T00:00:00",
          "2013-01-21T00:00:00",
          "2013-01-22T00:00:00",
          "2013-01-23T00:00:00",
          "2013-01-24T00:00:00",
          "2013-01-25T00:00:00",
          "2013-01-26T00:00:00",
          "2013-01-27T00:00:00",
          "2013-01-28T00:00:00",
          "2013-01-29T00:00:00",
          "2013-01-30T00:00:00",
          "2013-01-31T00:00:00",
          "2013-02-01T00:00:00",
          "2013-02-02T00:00:00",
          "2013-02-03T00:00:00",
          "2013-02-04T00:00:00",
          "2013-02-05T00:00:00",
          "2013-02-06T00:00:00",
          "2013-02-07T00:00:00",
          "2013-02-08T00:00:00",
          "2013-02-09T00:00:00",
          "2013-02-10T00:00:00",
          "2013-02-11T00:00:00",
          "2013-02-12T00:00:00",
          "2013-02-13T00:00:00",
          "2013-02-14T00:00:00",
          "2013-02-15T00:00:00",
          "2013-02-16T00:00:00",
          "2013-02-17T00:00:00",
          "2013-02-18T00:00:00",
          "2013-02-19T00:00:00",
          "2013-02-20T00:00:00",
          "2013-02-21T00:00:00",
          "2013-02-22T00:00:00",
          "2013-02-23T00:00:00",
          "2013-02-24T00:00:00",
          "2013-02-25T00:00:00",
          "2013-02-26T00:00:00",
          "2013-02-27T00:00:00",
          "2013-02-28T00:00:00",
          "2013-03-01T00:00:00",
          "2013-03-02T00:00:00",
          "2013-03-03T00:00:00",
          "2013-03-04T00:00:00",
          "2013-03-05T00:00:00",
          "2013-03-06T00:00:00",
          "2013-03-07T00:00:00",
          "2013-03-08T00:00:00",
          "2013-03-09T00:00:00",
          "2013-03-10T00:00:00",
          "2013-03-11T00:00:00",
          "2013-03-12T00:00:00",
          "2013-03-13T00:00:00",
          "2013-03-14T00:00:00",
          "2013-03-15T00:00:00",
          "2013-03-16T00:00:00",
          "2013-03-17T00:00:00",
          "2013-03-18T00:00:00",
          "2013-03-19T00:00:00",
          "2013-03-20T00:00:00",
          "2013-03-21T00:00:00",
          "2013-03-22T00:00:00",
          "2013-03-23T00:00:00",
          "2013-03-24T00:00:00",
          "2013-03-25T00:00:00",
          "2013-03-26T00:00:00",
          "2013-03-27T00:00:00",
          "2013-03-28T00:00:00",
          "2013-03-29T00:00:00",
          "2013-03-30T00:00:00",
          "2013-03-31T00:00:00",
          "2013-04-01T00:00:00",
          "2013-04-02T00:00:00",
          "2013-04-03T00:00:00",
          "2013-04-04T00:00:00",
          "2013-04-05T00:00:00",
          "2013-04-06T00:00:00",
          "2013-04-07T00:00:00",
          "2013-04-08T00:00:00",
          "2013-04-09T00:00:00",
          "2013-04-10T00:00:00",
          "2013-04-11T00:00:00",
          "2013-04-12T00:00:00",
          "2013-04-13T00:00:00",
          "2013-04-14T00:00:00",
          "2013-04-15T00:00:00",
          "2013-04-16T00:00:00",
          "2013-04-17T00:00:00",
          "2013-04-18T00:00:00",
          "2013-04-19T00:00:00",
          "2013-04-20T00:00:00",
          "2013-04-21T00:00:00",
          "2013-04-22T00:00:00",
          "2013-04-23T00:00:00",
          "2013-04-24T00:00:00",
          "2013-04-25T00:00:00",
          "2013-04-26T00:00:00",
          "2013-04-27T00:00:00",
          "2013-04-28T00:00:00",
          "2013-04-29T00:00:00",
          "2013-04-30T00:00:00",
          "2013-05-01T00:00:00",
          "2013-05-02T00:00:00",
          "2013-05-03T00:00:00",
          "2013-05-04T00:00:00",
          "2013-05-05T00:00:00",
          "2013-05-06T00:00:00",
          "2013-05-07T00:00:00",
          "2013-05-08T00:00:00",
          "2013-05-09T00:00:00",
          "2013-05-10T00:00:00",
          "2013-05-11T00:00:00",
          "2013-05-12T00:00:00",
          "2013-05-13T00:00:00",
          "2013-05-14T00:00:00",
          "2013-05-15T00:00:00",
          "2013-05-16T00:00:00",
          "2013-05-17T00:00:00",
          "2013-05-18T00:00:00",
          "2013-05-19T00:00:00",
          "2013-05-20T00:00:00",
          "2013-05-21T00:00:00",
          "2013-05-22T00:00:00",
          "2013-05-23T00:00:00",
          "2013-05-24T00:00:00",
          "2013-05-25T00:00:00",
          "2013-05-26T00:00:00",
          "2013-05-27T00:00:00",
          "2013-05-28T00:00:00",
          "2013-05-29T00:00:00",
          "2013-05-30T00:00:00",
          "2013-05-31T00:00:00",
          "2013-06-01T00:00:00",
          "2013-06-02T00:00:00",
          "2013-06-03T00:00:00",
          "2013-06-04T00:00:00",
          "2013-06-05T00:00:00",
          "2013-06-06T00:00:00",
          "2013-06-07T00:00:00",
          "2013-06-08T00:00:00",
          "2013-06-09T00:00:00",
          "2013-06-10T00:00:00",
          "2013-06-11T00:00:00",
          "2013-06-12T00:00:00",
          "2013-06-13T00:00:00",
          "2013-06-14T00:00:00",
          "2013-06-15T00:00:00",
          "2013-06-16T00:00:00",
          "2013-06-17T00:00:00",
          "2013-06-18T00:00:00",
          "2013-06-19T00:00:00",
          "2013-06-20T00:00:00",
          "2013-06-21T00:00:00",
          "2013-06-22T00:00:00",
          "2013-06-23T00:00:00",
          "2013-06-24T00:00:00",
          "2013-06-25T00:00:00",
          "2013-06-26T00:00:00",
          "2013-06-27T00:00:00",
          "2013-06-28T00:00:00",
          "2013-06-29T00:00:00",
          "2013-06-30T00:00:00",
          "2013-07-01T00:00:00",
          "2013-07-02T00:00:00",
          "2013-07-03T00:00:00",
          "2013-07-04T00:00:00",
          "2013-07-05T00:00:00",
          "2013-07-06T00:00:00",
          "2013-07-07T00:00:00",
          "2013-07-08T00:00:00",
          "2013-07-09T00:00:00",
          "2013-07-10T00:00:00",
          "2013-07-11T00:00:00",
          "2013-07-12T00:00:00",
          "2013-07-13T00:00:00",
          "2013-07-14T00:00:00",
          "2013-07-15T00:00:00",
          "2013-07-16T00:00:00",
          "2013-07-17T00:00:00",
          "2013-07-18T00:00:00",
          "2013-07-19T00:00:00",
          "2013-07-20T00:00:00",
          "2013-07-21T00:00:00",
          "2013-07-22T00:00:00",
          "2013-07-23T00:00:00",
          "2013-07-24T00:00:00",
          "2013-07-25T00:00:00",
          "2013-07-26T00:00:00",
          "2013-07-27T00:00:00",
          "2013-07-28T00:00:00",
          "2013-07-29T00:00:00",
          "2013-07-30T00:00:00",
          "2013-07-31T00:00:00",
          "2013-08-01T00:00:00",
          "2013-08-02T00:00:00",
          "2013-08-03T00:00:00",
          "2013-08-04T00:00:00",
          "2013-08-05T00:00:00",
          "2013-08-06T00:00:00",
          "2013-08-07T00:00:00",
          "2013-08-08T00:00:00",
          "2013-08-09T00:00:00",
          "2013-08-10T00:00:00",
          "2013-08-11T00:00:00",
          "2013-08-12T00:00:00",
          "2013-08-13T00:00:00",
          "2013-08-14T00:00:00",
          "2013-08-15T00:00:00",
          "2013-08-16T00:00:00",
          "2013-08-17T00:00:00",
          "2013-08-18T00:00:00",
          "2013-08-19T00:00:00",
          "2013-08-20T00:00:00",
          "2013-08-21T00:00:00",
          "2013-08-22T00:00:00",
          "2013-08-23T00:00:00",
          "2013-08-24T00:00:00",
          "2013-08-25T00:00:00",
          "2013-08-26T00:00:00",
          "2013-08-27T00:00:00",
          "2013-08-28T00:00:00",
          "2013-08-29T00:00:00",
          "2013-08-30T00:00:00",
          "2013-08-31T00:00:00",
          "2013-09-01T00:00:00",
          "2013-09-02T00:00:00",
          "2013-09-03T00:00:00",
          "2013-09-04T00:00:00",
          "2013-09-05T00:00:00",
          "2013-09-06T00:00:00",
          "2013-09-07T00:00:00",
          "2013-09-08T00:00:00",
          "2013-09-09T00:00:00",
          "2013-09-10T00:00:00",
          "2013-09-11T00:00:00",
          "2013-09-12T00:00:00",
          "2013-09-13T00:00:00",
          "2013-09-14T00:00:00",
          "2013-09-15T00:00:00",
          "2013-09-16T00:00:00",
          "2013-09-17T00:00:00",
          "2013-09-18T00:00:00",
          "2013-09-19T00:00:00",
          "2013-09-20T00:00:00",
          "2013-09-21T00:00:00",
          "2013-09-22T00:00:00",
          "2013-09-23T00:00:00",
          "2013-09-24T00:00:00",
          "2013-09-25T00:00:00",
          "2013-09-26T00:00:00",
          "2013-09-27T00:00:00",
          "2013-09-28T00:00:00",
          "2013-09-29T00:00:00",
          "2013-09-30T00:00:00",
          "2013-10-01T00:00:00",
          "2013-10-02T00:00:00",
          "2013-10-03T00:00:00",
          "2013-10-04T00:00:00",
          "2013-10-05T00:00:00",
          "2013-10-06T00:00:00",
          "2013-10-07T00:00:00",
          "2013-10-08T00:00:00",
          "2013-10-09T00:00:00",
          "2013-10-10T00:00:00",
          "2013-10-11T00:00:00",
          "2013-10-12T00:00:00",
          "2013-10-13T00:00:00",
          "2013-10-14T00:00:00",
          "2013-10-15T00:00:00",
          "2013-10-16T00:00:00",
          "2013-10-17T00:00:00",
          "2013-10-18T00:00:00",
          "2013-10-19T00:00:00",
          "2013-10-20T00:00:00",
          "2013-10-21T00:00:00",
          "2013-10-22T00:00:00",
          "2013-10-23T00:00:00",
          "2013-10-24T00:00:00",
          "2013-10-25T00:00:00",
          "2013-10-26T00:00:00",
          "2013-10-27T00:00:00",
          "2013-10-28T00:00:00",
          "2013-10-29T00:00:00",
          "2013-10-30T00:00:00",
          "2013-10-31T00:00:00",
          "2013-11-01T00:00:00",
          "2013-11-02T00:00:00",
          "2013-11-03T00:00:00",
          "2013-11-04T00:00:00",
          "2013-11-05T00:00:00",
          "2013-11-06T00:00:00",
          "2013-11-07T00:00:00",
          "2013-11-08T00:00:00",
          "2013-11-09T00:00:00",
          "2013-11-10T00:00:00",
          "2013-11-11T00:00:00",
          "2013-11-12T00:00:00",
          "2013-11-13T00:00:00",
          "2013-11-14T00:00:00",
          "2013-11-15T00:00:00",
          "2013-11-16T00:00:00",
          "2013-11-17T00:00:00",
          "2013-11-18T00:00:00",
          "2013-11-19T00:00:00",
          "2013-11-20T00:00:00",
          "2013-11-21T00:00:00",
          "2013-11-22T00:00:00",
          "2013-11-23T00:00:00",
          "2013-11-24T00:00:00",
          "2013-11-25T00:00:00",
          "2013-11-26T00:00:00",
          "2013-11-27T00:00:00",
          "2013-11-28T00:00:00",
          "2013-11-29T00:00:00",
          "2013-11-30T00:00:00",
          "2013-12-01T00:00:00",
          "2013-12-02T00:00:00",
          "2013-12-03T00:00:00",
          "2013-12-04T00:00:00",
          "2013-12-05T00:00:00",
          "2013-12-06T00:00:00",
          "2013-12-07T00:00:00",
          "2013-12-08T00:00:00",
          "2013-12-09T00:00:00",
          "2013-12-10T00:00:00",
          "2013-12-11T00:00:00",
          "2013-12-12T00:00:00",
          "2013-12-13T00:00:00",
          "2013-12-14T00:00:00",
          "2013-12-15T00:00:00",
          "2013-12-16T00:00:00",
          "2013-12-17T00:00:00",
          "2013-12-18T00:00:00",
          "2013-12-19T00:00:00",
          "2013-12-20T00:00:00",
          "2013-12-21T00:00:00",
          "2013-12-22T00:00:00",
          "2013-12-23T00:00:00",
          "2013-12-24T00:00:00",
          "2013-12-26T00:00:00",
          "2013-12-27T00:00:00",
          "2013-12-28T00:00:00",
          "2013-12-29T00:00:00",
          "2013-12-30T00:00:00",
          "2013-12-31T00:00:00",
          "2014-01-01T00:00:00",
          "2014-01-02T00:00:00",
          "2014-01-03T00:00:00",
          "2014-01-04T00:00:00",
          "2014-01-05T00:00:00",
          "2014-01-06T00:00:00",
          "2014-01-07T00:00:00",
          "2014-01-08T00:00:00",
          "2014-01-09T00:00:00",
          "2014-01-10T00:00:00",
          "2014-01-11T00:00:00",
          "2014-01-12T00:00:00",
          "2014-01-13T00:00:00",
          "2014-01-14T00:00:00",
          "2014-01-15T00:00:00",
          "2014-01-16T00:00:00",
          "2014-01-17T00:00:00",
          "2014-01-18T00:00:00",
          "2014-01-19T00:00:00",
          "2014-01-20T00:00:00",
          "2014-01-21T00:00:00",
          "2014-01-22T00:00:00",
          "2014-01-23T00:00:00",
          "2014-01-24T00:00:00",
          "2014-01-25T00:00:00",
          "2014-01-26T00:00:00",
          "2014-01-27T00:00:00",
          "2014-01-28T00:00:00",
          "2014-01-29T00:00:00",
          "2014-01-30T00:00:00",
          "2014-01-31T00:00:00",
          "2014-02-01T00:00:00",
          "2014-02-02T00:00:00",
          "2014-02-03T00:00:00",
          "2014-02-04T00:00:00",
          "2014-02-05T00:00:00",
          "2014-02-06T00:00:00",
          "2014-02-07T00:00:00",
          "2014-02-08T00:00:00",
          "2014-02-09T00:00:00",
          "2014-02-10T00:00:00",
          "2014-02-11T00:00:00",
          "2014-02-12T00:00:00",
          "2014-02-13T00:00:00",
          "2014-02-14T00:00:00",
          "2014-02-15T00:00:00",
          "2014-02-16T00:00:00",
          "2014-02-17T00:00:00",
          "2014-02-18T00:00:00",
          "2014-02-19T00:00:00",
          "2014-02-20T00:00:00",
          "2014-02-21T00:00:00",
          "2014-02-22T00:00:00",
          "2014-02-23T00:00:00",
          "2014-02-24T00:00:00",
          "2014-02-25T00:00:00",
          "2014-02-26T00:00:00",
          "2014-02-27T00:00:00",
          "2014-02-28T00:00:00",
          "2014-03-01T00:00:00",
          "2014-03-02T00:00:00",
          "2014-03-03T00:00:00",
          "2014-03-04T00:00:00",
          "2014-03-05T00:00:00",
          "2014-03-06T00:00:00",
          "2014-03-07T00:00:00",
          "2014-03-08T00:00:00",
          "2014-03-09T00:00:00",
          "2014-03-10T00:00:00",
          "2014-03-11T00:00:00",
          "2014-03-12T00:00:00",
          "2014-03-13T00:00:00",
          "2014-03-14T00:00:00",
          "2014-03-15T00:00:00",
          "2014-03-16T00:00:00",
          "2014-03-17T00:00:00",
          "2014-03-18T00:00:00",
          "2014-03-19T00:00:00",
          "2014-03-20T00:00:00",
          "2014-03-21T00:00:00",
          "2014-03-22T00:00:00",
          "2014-03-23T00:00:00",
          "2014-03-24T00:00:00",
          "2014-03-25T00:00:00",
          "2014-03-26T00:00:00",
          "2014-03-27T00:00:00",
          "2014-03-28T00:00:00",
          "2014-03-29T00:00:00",
          "2014-03-30T00:00:00",
          "2014-03-31T00:00:00",
          "2014-04-01T00:00:00",
          "2014-04-02T00:00:00",
          "2014-04-03T00:00:00",
          "2014-04-04T00:00:00",
          "2014-04-05T00:00:00",
          "2014-04-06T00:00:00",
          "2014-04-07T00:00:00",
          "2014-04-08T00:00:00",
          "2014-04-09T00:00:00",
          "2014-04-10T00:00:00",
          "2014-04-11T00:00:00",
          "2014-04-12T00:00:00",
          "2014-04-13T00:00:00",
          "2014-04-14T00:00:00",
          "2014-04-15T00:00:00",
          "2014-04-16T00:00:00",
          "2014-04-17T00:00:00",
          "2014-04-18T00:00:00",
          "2014-04-19T00:00:00",
          "2014-04-20T00:00:00",
          "2014-04-21T00:00:00",
          "2014-04-22T00:00:00",
          "2014-04-23T00:00:00",
          "2014-04-24T00:00:00",
          "2014-04-25T00:00:00",
          "2014-04-26T00:00:00",
          "2014-04-27T00:00:00",
          "2014-04-28T00:00:00",
          "2014-04-29T00:00:00",
          "2014-04-30T00:00:00",
          "2014-05-01T00:00:00",
          "2014-05-02T00:00:00",
          "2014-05-03T00:00:00",
          "2014-05-04T00:00:00",
          "2014-05-05T00:00:00",
          "2014-05-06T00:00:00",
          "2014-05-07T00:00:00",
          "2014-05-08T00:00:00",
          "2014-05-09T00:00:00",
          "2014-05-10T00:00:00",
          "2014-05-11T00:00:00",
          "2014-05-12T00:00:00",
          "2014-05-13T00:00:00",
          "2014-05-14T00:00:00",
          "2014-05-15T00:00:00",
          "2014-05-16T00:00:00",
          "2014-05-17T00:00:00",
          "2014-05-18T00:00:00",
          "2014-05-19T00:00:00",
          "2014-05-20T00:00:00",
          "2014-05-21T00:00:00",
          "2014-05-22T00:00:00",
          "2014-05-23T00:00:00",
          "2014-05-24T00:00:00",
          "2014-05-25T00:00:00",
          "2014-05-26T00:00:00",
          "2014-05-27T00:00:00",
          "2014-05-28T00:00:00",
          "2014-05-29T00:00:00",
          "2014-05-30T00:00:00",
          "2014-05-31T00:00:00",
          "2014-06-01T00:00:00",
          "2014-06-02T00:00:00",
          "2014-06-03T00:00:00",
          "2014-06-04T00:00:00",
          "2014-06-05T00:00:00",
          "2014-06-06T00:00:00",
          "2014-06-07T00:00:00",
          "2014-06-08T00:00:00",
          "2014-06-09T00:00:00",
          "2014-06-10T00:00:00",
          "2014-06-11T00:00:00",
          "2014-06-12T00:00:00",
          "2014-06-13T00:00:00",
          "2014-06-14T00:00:00",
          "2014-06-15T00:00:00",
          "2014-06-16T00:00:00",
          "2014-06-17T00:00:00",
          "2014-06-18T00:00:00",
          "2014-06-19T00:00:00",
          "2014-06-20T00:00:00",
          "2014-06-21T00:00:00",
          "2014-06-22T00:00:00",
          "2014-06-23T00:00:00",
          "2014-06-24T00:00:00",
          "2014-06-25T00:00:00",
          "2014-06-26T00:00:00",
          "2014-06-27T00:00:00",
          "2014-06-28T00:00:00",
          "2014-06-29T00:00:00",
          "2014-06-30T00:00:00",
          "2014-07-01T00:00:00",
          "2014-07-02T00:00:00",
          "2014-07-03T00:00:00",
          "2014-07-04T00:00:00",
          "2014-07-05T00:00:00",
          "2014-07-06T00:00:00",
          "2014-07-07T00:00:00",
          "2014-07-08T00:00:00",
          "2014-07-09T00:00:00",
          "2014-07-10T00:00:00",
          "2014-07-11T00:00:00",
          "2014-07-12T00:00:00",
          "2014-07-13T00:00:00",
          "2014-07-14T00:00:00",
          "2014-07-15T00:00:00",
          "2014-07-16T00:00:00",
          "2014-07-17T00:00:00",
          "2014-07-18T00:00:00",
          "2014-07-19T00:00:00",
          "2014-07-20T00:00:00",
          "2014-07-21T00:00:00",
          "2014-07-22T00:00:00",
          "2014-07-23T00:00:00",
          "2014-07-24T00:00:00",
          "2014-07-25T00:00:00",
          "2014-07-26T00:00:00",
          "2014-07-27T00:00:00",
          "2014-07-28T00:00:00",
          "2014-07-29T00:00:00",
          "2014-07-30T00:00:00",
          "2014-07-31T00:00:00",
          "2014-08-01T00:00:00",
          "2014-08-02T00:00:00",
          "2014-08-03T00:00:00",
          "2014-08-04T00:00:00",
          "2014-08-05T00:00:00",
          "2014-08-06T00:00:00",
          "2014-08-07T00:00:00",
          "2014-08-08T00:00:00",
          "2014-08-09T00:00:00",
          "2014-08-10T00:00:00",
          "2014-08-11T00:00:00",
          "2014-08-12T00:00:00",
          "2014-08-13T00:00:00",
          "2014-08-14T00:00:00",
          "2014-08-15T00:00:00",
          "2014-08-16T00:00:00",
          "2014-08-17T00:00:00",
          "2014-08-18T00:00:00",
          "2014-08-19T00:00:00",
          "2014-08-20T00:00:00",
          "2014-08-21T00:00:00",
          "2014-08-22T00:00:00",
          "2014-08-23T00:00:00",
          "2014-08-24T00:00:00",
          "2014-08-25T00:00:00",
          "2014-08-26T00:00:00",
          "2014-08-27T00:00:00",
          "2014-08-28T00:00:00",
          "2014-08-29T00:00:00",
          "2014-08-30T00:00:00",
          "2014-08-31T00:00:00",
          "2014-09-01T00:00:00",
          "2014-09-02T00:00:00",
          "2014-09-03T00:00:00",
          "2014-09-04T00:00:00",
          "2014-09-05T00:00:00",
          "2014-09-06T00:00:00",
          "2014-09-07T00:00:00",
          "2014-09-08T00:00:00",
          "2014-09-09T00:00:00",
          "2014-09-10T00:00:00",
          "2014-09-11T00:00:00",
          "2014-09-12T00:00:00",
          "2014-09-13T00:00:00",
          "2014-09-14T00:00:00",
          "2014-09-15T00:00:00",
          "2014-09-16T00:00:00",
          "2014-09-17T00:00:00",
          "2014-09-18T00:00:00",
          "2014-09-19T00:00:00",
          "2014-09-20T00:00:00",
          "2014-09-21T00:00:00",
          "2014-09-22T00:00:00",
          "2014-09-23T00:00:00",
          "2014-09-24T00:00:00",
          "2014-09-25T00:00:00",
          "2014-09-26T00:00:00",
          "2014-09-27T00:00:00",
          "2014-09-28T00:00:00",
          "2014-09-29T00:00:00",
          "2014-09-30T00:00:00",
          "2014-10-01T00:00:00",
          "2014-10-02T00:00:00",
          "2014-10-03T00:00:00",
          "2014-10-04T00:00:00",
          "2014-10-05T00:00:00",
          "2014-10-06T00:00:00",
          "2014-10-07T00:00:00",
          "2014-10-08T00:00:00",
          "2014-10-09T00:00:00",
          "2014-10-10T00:00:00",
          "2014-10-11T00:00:00",
          "2014-10-12T00:00:00",
          "2014-10-13T00:00:00",
          "2014-10-14T00:00:00",
          "2014-10-15T00:00:00",
          "2014-10-16T00:00:00",
          "2014-10-17T00:00:00",
          "2014-10-18T00:00:00",
          "2014-10-19T00:00:00",
          "2014-10-20T00:00:00",
          "2014-10-21T00:00:00",
          "2014-10-22T00:00:00",
          "2014-10-23T00:00:00",
          "2014-10-24T00:00:00",
          "2014-10-25T00:00:00",
          "2014-10-26T00:00:00",
          "2014-10-27T00:00:00",
          "2014-10-28T00:00:00",
          "2014-10-29T00:00:00",
          "2014-10-30T00:00:00",
          "2014-10-31T00:00:00",
          "2014-11-01T00:00:00",
          "2014-11-02T00:00:00",
          "2014-11-03T00:00:00",
          "2014-11-04T00:00:00",
          "2014-11-05T00:00:00",
          "2014-11-06T00:00:00",
          "2014-11-07T00:00:00",
          "2014-11-08T00:00:00",
          "2014-11-09T00:00:00",
          "2014-11-10T00:00:00",
          "2014-11-11T00:00:00",
          "2014-11-12T00:00:00",
          "2014-11-13T00:00:00",
          "2014-11-14T00:00:00",
          "2014-11-15T00:00:00",
          "2014-11-16T00:00:00",
          "2014-11-17T00:00:00",
          "2014-11-18T00:00:00",
          "2014-11-19T00:00:00",
          "2014-11-20T00:00:00",
          "2014-11-21T00:00:00",
          "2014-11-22T00:00:00",
          "2014-11-23T00:00:00",
          "2014-11-24T00:00:00",
          "2014-11-25T00:00:00",
          "2014-11-26T00:00:00",
          "2014-11-27T00:00:00",
          "2014-11-28T00:00:00",
          "2014-11-29T00:00:00",
          "2014-11-30T00:00:00",
          "2014-12-01T00:00:00",
          "2014-12-02T00:00:00",
          "2014-12-03T00:00:00",
          "2014-12-04T00:00:00",
          "2014-12-05T00:00:00",
          "2014-12-06T00:00:00",
          "2014-12-07T00:00:00",
          "2014-12-08T00:00:00",
          "2014-12-09T00:00:00",
          "2014-12-10T00:00:00",
          "2014-12-11T00:00:00",
          "2014-12-12T00:00:00",
          "2014-12-13T00:00:00",
          "2014-12-14T00:00:00",
          "2014-12-15T00:00:00",
          "2014-12-16T00:00:00",
          "2014-12-17T00:00:00",
          "2014-12-18T00:00:00",
          "2014-12-19T00:00:00",
          "2014-12-20T00:00:00",
          "2014-12-21T00:00:00",
          "2014-12-22T00:00:00",
          "2014-12-23T00:00:00",
          "2014-12-24T00:00:00",
          "2014-12-26T00:00:00",
          "2014-12-27T00:00:00",
          "2014-12-28T00:00:00",
          "2014-12-29T00:00:00",
          "2014-12-30T00:00:00",
          "2014-12-31T00:00:00",
          "2015-01-01T00:00:00",
          "2015-01-02T00:00:00",
          "2015-01-03T00:00:00",
          "2015-01-04T00:00:00",
          "2015-01-05T00:00:00",
          "2015-01-06T00:00:00",
          "2015-01-07T00:00:00",
          "2015-01-08T00:00:00",
          "2015-01-09T00:00:00",
          "2015-01-10T00:00:00",
          "2015-01-11T00:00:00",
          "2015-01-12T00:00:00",
          "2015-01-13T00:00:00",
          "2015-01-14T00:00:00",
          "2015-01-15T00:00:00",
          "2015-01-16T00:00:00",
          "2015-01-17T00:00:00",
          "2015-01-18T00:00:00",
          "2015-01-19T00:00:00",
          "2015-01-20T00:00:00",
          "2015-01-21T00:00:00",
          "2015-01-22T00:00:00",
          "2015-01-23T00:00:00",
          "2015-01-24T00:00:00",
          "2015-01-25T00:00:00",
          "2015-01-26T00:00:00",
          "2015-01-27T00:00:00",
          "2015-01-28T00:00:00",
          "2015-01-29T00:00:00",
          "2015-01-30T00:00:00",
          "2015-01-31T00:00:00",
          "2015-02-01T00:00:00",
          "2015-02-02T00:00:00",
          "2015-02-03T00:00:00",
          "2015-02-04T00:00:00",
          "2015-02-05T00:00:00",
          "2015-02-06T00:00:00",
          "2015-02-07T00:00:00",
          "2015-02-08T00:00:00",
          "2015-02-09T00:00:00",
          "2015-02-10T00:00:00",
          "2015-02-11T00:00:00",
          "2015-02-12T00:00:00",
          "2015-02-13T00:00:00",
          "2015-02-14T00:00:00",
          "2015-02-15T00:00:00",
          "2015-02-16T00:00:00",
          "2015-02-17T00:00:00",
          "2015-02-18T00:00:00",
          "2015-02-19T00:00:00",
          "2015-02-20T00:00:00",
          "2015-02-21T00:00:00",
          "2015-02-22T00:00:00",
          "2015-02-23T00:00:00",
          "2015-02-24T00:00:00",
          "2015-02-25T00:00:00",
          "2015-02-26T00:00:00",
          "2015-02-27T00:00:00",
          "2015-02-28T00:00:00",
          "2015-03-01T00:00:00",
          "2015-03-02T00:00:00",
          "2015-03-03T00:00:00",
          "2015-03-04T00:00:00",
          "2015-03-05T00:00:00",
          "2015-03-06T00:00:00",
          "2015-03-07T00:00:00",
          "2015-03-08T00:00:00",
          "2015-03-09T00:00:00",
          "2015-03-10T00:00:00",
          "2015-03-11T00:00:00",
          "2015-03-12T00:00:00",
          "2015-03-13T00:00:00",
          "2015-03-14T00:00:00",
          "2015-03-15T00:00:00",
          "2015-03-16T00:00:00",
          "2015-03-17T00:00:00",
          "2015-03-18T00:00:00",
          "2015-03-19T00:00:00",
          "2015-03-20T00:00:00",
          "2015-03-21T00:00:00",
          "2015-03-22T00:00:00",
          "2015-03-23T00:00:00",
          "2015-03-24T00:00:00",
          "2015-03-25T00:00:00",
          "2015-03-26T00:00:00",
          "2015-03-27T00:00:00",
          "2015-03-28T00:00:00",
          "2015-03-29T00:00:00",
          "2015-03-30T00:00:00",
          "2015-03-31T00:00:00",
          "2015-04-01T00:00:00",
          "2015-04-02T00:00:00",
          "2015-04-03T00:00:00",
          "2015-04-04T00:00:00",
          "2015-04-05T00:00:00",
          "2015-04-06T00:00:00",
          "2015-04-07T00:00:00",
          "2015-04-08T00:00:00",
          "2015-04-09T00:00:00",
          "2015-04-10T00:00:00",
          "2015-04-11T00:00:00",
          "2015-04-12T00:00:00",
          "2015-04-13T00:00:00",
          "2015-04-14T00:00:00",
          "2015-04-15T00:00:00",
          "2015-04-16T00:00:00",
          "2015-04-17T00:00:00",
          "2015-04-18T00:00:00",
          "2015-04-19T00:00:00",
          "2015-04-20T00:00:00",
          "2015-04-21T00:00:00",
          "2015-04-22T00:00:00",
          "2015-04-23T00:00:00",
          "2015-04-24T00:00:00",
          "2015-04-25T00:00:00",
          "2015-04-26T00:00:00",
          "2015-04-27T00:00:00",
          "2015-04-28T00:00:00",
          "2015-04-29T00:00:00",
          "2015-04-30T00:00:00",
          "2015-05-01T00:00:00",
          "2015-05-02T00:00:00",
          "2015-05-03T00:00:00",
          "2015-05-04T00:00:00",
          "2015-05-05T00:00:00",
          "2015-05-06T00:00:00",
          "2015-05-07T00:00:00",
          "2015-05-08T00:00:00",
          "2015-05-09T00:00:00",
          "2015-05-10T00:00:00",
          "2015-05-11T00:00:00",
          "2015-05-12T00:00:00",
          "2015-05-13T00:00:00",
          "2015-05-14T00:00:00",
          "2015-05-15T00:00:00",
          "2015-05-16T00:00:00",
          "2015-05-17T00:00:00",
          "2015-05-18T00:00:00",
          "2015-05-19T00:00:00",
          "2015-05-20T00:00:00",
          "2015-05-21T00:00:00",
          "2015-05-22T00:00:00",
          "2015-05-23T00:00:00",
          "2015-05-24T00:00:00",
          "2015-05-25T00:00:00",
          "2015-05-26T00:00:00",
          "2015-05-27T00:00:00",
          "2015-05-28T00:00:00",
          "2015-05-29T00:00:00",
          "2015-05-30T00:00:00",
          "2015-05-31T00:00:00",
          "2015-06-01T00:00:00",
          "2015-06-02T00:00:00",
          "2015-06-03T00:00:00",
          "2015-06-04T00:00:00",
          "2015-06-05T00:00:00",
          "2015-06-06T00:00:00",
          "2015-06-07T00:00:00",
          "2015-06-08T00:00:00",
          "2015-06-09T00:00:00",
          "2015-06-10T00:00:00",
          "2015-06-11T00:00:00",
          "2015-06-12T00:00:00",
          "2015-06-13T00:00:00",
          "2015-06-14T00:00:00",
          "2015-06-15T00:00:00",
          "2015-06-16T00:00:00",
          "2015-06-17T00:00:00",
          "2015-06-18T00:00:00",
          "2015-06-19T00:00:00",
          "2015-06-20T00:00:00",
          "2015-06-21T00:00:00",
          "2015-06-22T00:00:00",
          "2015-06-23T00:00:00",
          "2015-06-24T00:00:00",
          "2015-06-25T00:00:00",
          "2015-06-26T00:00:00",
          "2015-06-27T00:00:00",
          "2015-06-28T00:00:00",
          "2015-06-29T00:00:00",
          "2015-06-30T00:00:00",
          "2015-07-01T00:00:00",
          "2015-07-02T00:00:00",
          "2015-07-03T00:00:00",
          "2015-07-04T00:00:00",
          "2015-07-05T00:00:00",
          "2015-07-06T00:00:00",
          "2015-07-07T00:00:00",
          "2015-07-08T00:00:00",
          "2015-07-09T00:00:00",
          "2015-07-10T00:00:00",
          "2015-07-11T00:00:00",
          "2015-07-12T00:00:00",
          "2015-07-13T00:00:00",
          "2015-07-14T00:00:00",
          "2015-07-15T00:00:00",
          "2015-07-16T00:00:00",
          "2015-07-17T00:00:00",
          "2015-07-18T00:00:00",
          "2015-07-19T00:00:00",
          "2015-07-20T00:00:00",
          "2015-07-21T00:00:00",
          "2015-07-22T00:00:00",
          "2015-07-23T00:00:00",
          "2015-07-24T00:00:00",
          "2015-07-25T00:00:00",
          "2015-07-26T00:00:00",
          "2015-07-27T00:00:00",
          "2015-07-28T00:00:00",
          "2015-07-29T00:00:00",
          "2015-07-30T00:00:00",
          "2015-07-31T00:00:00",
          "2015-08-01T00:00:00",
          "2015-08-02T00:00:00",
          "2015-08-03T00:00:00",
          "2015-08-04T00:00:00",
          "2015-08-05T00:00:00",
          "2015-08-06T00:00:00",
          "2015-08-07T00:00:00",
          "2015-08-08T00:00:00",
          "2015-08-09T00:00:00",
          "2015-08-10T00:00:00",
          "2015-08-11T00:00:00",
          "2015-08-12T00:00:00",
          "2015-08-13T00:00:00",
          "2015-08-14T00:00:00",
          "2015-08-15T00:00:00",
          "2015-08-16T00:00:00",
          "2015-08-17T00:00:00",
          "2015-08-18T00:00:00",
          "2015-08-19T00:00:00",
          "2015-08-20T00:00:00",
          "2015-08-21T00:00:00",
          "2015-08-22T00:00:00",
          "2015-08-23T00:00:00",
          "2015-08-24T00:00:00",
          "2015-08-25T00:00:00",
          "2015-08-26T00:00:00",
          "2015-08-27T00:00:00",
          "2015-08-28T00:00:00",
          "2015-08-29T00:00:00",
          "2015-08-30T00:00:00",
          "2015-08-31T00:00:00",
          "2015-09-01T00:00:00",
          "2015-09-02T00:00:00",
          "2015-09-03T00:00:00",
          "2015-09-04T00:00:00",
          "2015-09-05T00:00:00",
          "2015-09-06T00:00:00",
          "2015-09-07T00:00:00",
          "2015-09-08T00:00:00",
          "2015-09-09T00:00:00",
          "2015-09-10T00:00:00",
          "2015-09-11T00:00:00",
          "2015-09-12T00:00:00",
          "2015-09-13T00:00:00",
          "2015-09-14T00:00:00",
          "2015-09-15T00:00:00",
          "2015-09-16T00:00:00",
          "2015-09-17T00:00:00",
          "2015-09-18T00:00:00",
          "2015-09-19T00:00:00",
          "2015-09-20T00:00:00",
          "2015-09-21T00:00:00",
          "2015-09-22T00:00:00",
          "2015-09-23T00:00:00",
          "2015-09-24T00:00:00",
          "2015-09-25T00:00:00",
          "2015-09-26T00:00:00",
          "2015-09-27T00:00:00",
          "2015-09-28T00:00:00",
          "2015-09-29T00:00:00",
          "2015-09-30T00:00:00",
          "2015-10-01T00:00:00",
          "2015-10-02T00:00:00",
          "2015-10-03T00:00:00",
          "2015-10-04T00:00:00",
          "2015-10-05T00:00:00",
          "2015-10-06T00:00:00",
          "2015-10-07T00:00:00",
          "2015-10-08T00:00:00",
          "2015-10-09T00:00:00",
          "2015-10-10T00:00:00",
          "2015-10-11T00:00:00",
          "2015-10-12T00:00:00",
          "2015-10-13T00:00:00",
          "2015-10-14T00:00:00",
          "2015-10-15T00:00:00",
          "2015-10-16T00:00:00",
          "2015-10-17T00:00:00",
          "2015-10-18T00:00:00",
          "2015-10-19T00:00:00",
          "2015-10-20T00:00:00",
          "2015-10-21T00:00:00",
          "2015-10-22T00:00:00",
          "2015-10-23T00:00:00",
          "2015-10-24T00:00:00",
          "2015-10-25T00:00:00",
          "2015-10-26T00:00:00",
          "2015-10-27T00:00:00",
          "2015-10-28T00:00:00",
          "2015-10-29T00:00:00",
          "2015-10-30T00:00:00",
          "2015-10-31T00:00:00",
          "2015-11-01T00:00:00",
          "2015-11-02T00:00:00",
          "2015-11-03T00:00:00",
          "2015-11-04T00:00:00",
          "2015-11-05T00:00:00",
          "2015-11-06T00:00:00",
          "2015-11-07T00:00:00",
          "2015-11-08T00:00:00",
          "2015-11-09T00:00:00",
          "2015-11-10T00:00:00",
          "2015-11-11T00:00:00",
          "2015-11-12T00:00:00",
          "2015-11-13T00:00:00",
          "2015-11-14T00:00:00",
          "2015-11-15T00:00:00",
          "2015-11-16T00:00:00",
          "2015-11-17T00:00:00",
          "2015-11-18T00:00:00",
          "2015-11-19T00:00:00",
          "2015-11-20T00:00:00",
          "2015-11-21T00:00:00",
          "2015-11-22T00:00:00",
          "2015-11-23T00:00:00",
          "2015-11-24T00:00:00",
          "2015-11-25T00:00:00",
          "2015-11-26T00:00:00",
          "2015-11-27T00:00:00",
          "2015-11-28T00:00:00",
          "2015-11-29T00:00:00",
          "2015-11-30T00:00:00",
          "2015-12-01T00:00:00",
          "2015-12-02T00:00:00",
          "2015-12-03T00:00:00",
          "2015-12-04T00:00:00",
          "2015-12-05T00:00:00",
          "2015-12-06T00:00:00",
          "2015-12-07T00:00:00",
          "2015-12-08T00:00:00",
          "2015-12-09T00:00:00",
          "2015-12-10T00:00:00",
          "2015-12-11T00:00:00",
          "2015-12-12T00:00:00",
          "2015-12-13T00:00:00",
          "2015-12-14T00:00:00",
          "2015-12-15T00:00:00",
          "2015-12-16T00:00:00",
          "2015-12-17T00:00:00",
          "2015-12-18T00:00:00",
          "2015-12-19T00:00:00",
          "2015-12-20T00:00:00",
          "2015-12-21T00:00:00",
          "2015-12-22T00:00:00",
          "2015-12-23T00:00:00",
          "2015-12-24T00:00:00",
          "2015-12-26T00:00:00",
          "2015-12-27T00:00:00",
          "2015-12-28T00:00:00",
          "2015-12-29T00:00:00",
          "2015-12-30T00:00:00",
          "2015-12-31T00:00:00",
          "2016-01-01T00:00:00",
          "2016-01-02T00:00:00",
          "2016-01-03T00:00:00",
          "2016-01-04T00:00:00",
          "2016-01-05T00:00:00",
          "2016-01-06T00:00:00",
          "2016-01-07T00:00:00",
          "2016-01-08T00:00:00",
          "2016-01-09T00:00:00",
          "2016-01-10T00:00:00",
          "2016-01-11T00:00:00",
          "2016-01-12T00:00:00",
          "2016-01-13T00:00:00",
          "2016-01-14T00:00:00",
          "2016-01-15T00:00:00",
          "2016-01-16T00:00:00",
          "2016-01-17T00:00:00",
          "2016-01-18T00:00:00",
          "2016-01-19T00:00:00",
          "2016-01-20T00:00:00",
          "2016-01-21T00:00:00",
          "2016-01-22T00:00:00",
          "2016-01-23T00:00:00",
          "2016-01-24T00:00:00",
          "2016-01-25T00:00:00",
          "2016-01-26T00:00:00",
          "2016-01-27T00:00:00",
          "2016-01-28T00:00:00",
          "2016-01-29T00:00:00",
          "2016-01-30T00:00:00",
          "2016-01-31T00:00:00",
          "2016-02-01T00:00:00",
          "2016-02-02T00:00:00",
          "2016-02-03T00:00:00",
          "2016-02-04T00:00:00",
          "2016-02-05T00:00:00",
          "2016-02-06T00:00:00",
          "2016-02-07T00:00:00",
          "2016-02-08T00:00:00",
          "2016-02-09T00:00:00",
          "2016-02-10T00:00:00",
          "2016-02-11T00:00:00",
          "2016-02-12T00:00:00",
          "2016-02-13T00:00:00",
          "2016-02-14T00:00:00",
          "2016-02-15T00:00:00",
          "2016-02-16T00:00:00",
          "2016-02-17T00:00:00",
          "2016-02-18T00:00:00",
          "2016-02-19T00:00:00",
          "2016-02-20T00:00:00",
          "2016-02-21T00:00:00",
          "2016-02-22T00:00:00",
          "2016-02-23T00:00:00",
          "2016-02-24T00:00:00",
          "2016-02-25T00:00:00",
          "2016-02-26T00:00:00",
          "2016-02-27T00:00:00",
          "2016-02-28T00:00:00",
          "2016-02-29T00:00:00",
          "2016-03-01T00:00:00",
          "2016-03-02T00:00:00",
          "2016-03-03T00:00:00",
          "2016-03-04T00:00:00",
          "2016-03-05T00:00:00",
          "2016-03-06T00:00:00",
          "2016-03-07T00:00:00",
          "2016-03-08T00:00:00",
          "2016-03-09T00:00:00",
          "2016-03-10T00:00:00",
          "2016-03-11T00:00:00",
          "2016-03-12T00:00:00",
          "2016-03-13T00:00:00",
          "2016-03-14T00:00:00",
          "2016-03-15T00:00:00",
          "2016-03-16T00:00:00",
          "2016-03-17T00:00:00",
          "2016-03-18T00:00:00",
          "2016-03-19T00:00:00",
          "2016-03-20T00:00:00",
          "2016-03-21T00:00:00",
          "2016-03-22T00:00:00",
          "2016-03-23T00:00:00",
          "2016-03-24T00:00:00",
          "2016-03-25T00:00:00",
          "2016-03-26T00:00:00",
          "2016-03-27T00:00:00",
          "2016-03-28T00:00:00",
          "2016-03-29T00:00:00",
          "2016-03-30T00:00:00",
          "2016-03-31T00:00:00",
          "2016-04-01T00:00:00",
          "2016-04-02T00:00:00",
          "2016-04-03T00:00:00",
          "2016-04-04T00:00:00",
          "2016-04-05T00:00:00",
          "2016-04-06T00:00:00",
          "2016-04-07T00:00:00",
          "2016-04-08T00:00:00",
          "2016-04-09T00:00:00",
          "2016-04-10T00:00:00",
          "2016-04-11T00:00:00",
          "2016-04-12T00:00:00",
          "2016-04-13T00:00:00",
          "2016-04-14T00:00:00",
          "2016-04-15T00:00:00",
          "2016-04-16T00:00:00",
          "2016-04-17T00:00:00",
          "2016-04-18T00:00:00",
          "2016-04-19T00:00:00",
          "2016-04-20T00:00:00",
          "2016-04-21T00:00:00",
          "2016-04-22T00:00:00",
          "2016-04-23T00:00:00",
          "2016-04-24T00:00:00",
          "2016-04-25T00:00:00",
          "2016-04-26T00:00:00",
          "2016-04-27T00:00:00",
          "2016-04-28T00:00:00",
          "2016-04-29T00:00:00",
          "2016-04-30T00:00:00",
          "2016-05-01T00:00:00",
          "2016-05-02T00:00:00",
          "2016-05-03T00:00:00",
          "2016-05-04T00:00:00",
          "2016-05-05T00:00:00",
          "2016-05-06T00:00:00",
          "2016-05-07T00:00:00",
          "2016-05-08T00:00:00",
          "2016-05-09T00:00:00",
          "2016-05-10T00:00:00",
          "2016-05-11T00:00:00",
          "2016-05-12T00:00:00",
          "2016-05-13T00:00:00",
          "2016-05-14T00:00:00",
          "2016-05-15T00:00:00",
          "2016-05-16T00:00:00",
          "2016-05-17T00:00:00",
          "2016-05-18T00:00:00",
          "2016-05-19T00:00:00",
          "2016-05-20T00:00:00",
          "2016-05-21T00:00:00",
          "2016-05-22T00:00:00",
          "2016-05-23T00:00:00",
          "2016-05-24T00:00:00",
          "2016-05-25T00:00:00",
          "2016-05-26T00:00:00",
          "2016-05-27T00:00:00",
          "2016-05-28T00:00:00",
          "2016-05-29T00:00:00",
          "2016-05-30T00:00:00",
          "2016-05-31T00:00:00",
          "2016-06-01T00:00:00",
          "2016-06-02T00:00:00",
          "2016-06-03T00:00:00",
          "2016-06-04T00:00:00",
          "2016-06-05T00:00:00",
          "2016-06-06T00:00:00",
          "2016-06-07T00:00:00",
          "2016-06-08T00:00:00",
          "2016-06-09T00:00:00",
          "2016-06-10T00:00:00",
          "2016-06-11T00:00:00",
          "2016-06-12T00:00:00",
          "2016-06-13T00:00:00",
          "2016-06-14T00:00:00",
          "2016-06-15T00:00:00",
          "2016-06-16T00:00:00",
          "2016-06-17T00:00:00",
          "2016-06-18T00:00:00",
          "2016-06-19T00:00:00",
          "2016-06-20T00:00:00",
          "2016-06-21T00:00:00",
          "2016-06-22T00:00:00",
          "2016-06-23T00:00:00",
          "2016-06-24T00:00:00",
          "2016-06-25T00:00:00",
          "2016-06-26T00:00:00",
          "2016-06-27T00:00:00",
          "2016-06-28T00:00:00",
          "2016-06-29T00:00:00",
          "2016-06-30T00:00:00",
          "2016-07-01T00:00:00",
          "2016-07-02T00:00:00",
          "2016-07-03T00:00:00",
          "2016-07-04T00:00:00",
          "2016-07-05T00:00:00",
          "2016-07-06T00:00:00",
          "2016-07-07T00:00:00",
          "2016-07-08T00:00:00",
          "2016-07-09T00:00:00",
          "2016-07-10T00:00:00",
          "2016-07-11T00:00:00",
          "2016-07-12T00:00:00",
          "2016-07-13T00:00:00",
          "2016-07-14T00:00:00",
          "2016-07-15T00:00:00",
          "2016-07-16T00:00:00",
          "2016-07-17T00:00:00",
          "2016-07-18T00:00:00",
          "2016-07-19T00:00:00",
          "2016-07-20T00:00:00",
          "2016-07-21T00:00:00",
          "2016-07-22T00:00:00",
          "2016-07-23T00:00:00",
          "2016-07-24T00:00:00",
          "2016-07-25T00:00:00",
          "2016-07-26T00:00:00",
          "2016-07-27T00:00:00",
          "2016-07-28T00:00:00",
          "2016-07-29T00:00:00",
          "2016-07-30T00:00:00",
          "2016-07-31T00:00:00",
          "2016-08-01T00:00:00",
          "2016-08-02T00:00:00",
          "2016-08-03T00:00:00",
          "2016-08-04T00:00:00",
          "2016-08-05T00:00:00",
          "2016-08-06T00:00:00",
          "2016-08-07T00:00:00",
          "2016-08-08T00:00:00",
          "2016-08-09T00:00:00",
          "2016-08-10T00:00:00",
          "2016-08-11T00:00:00",
          "2016-08-12T00:00:00",
          "2016-08-13T00:00:00",
          "2016-08-14T00:00:00",
          "2016-08-15T00:00:00",
          "2016-08-16T00:00:00",
          "2016-08-17T00:00:00",
          "2016-08-18T00:00:00",
          "2016-08-19T00:00:00",
          "2016-08-20T00:00:00",
          "2016-08-21T00:00:00",
          "2016-08-22T00:00:00",
          "2016-08-23T00:00:00",
          "2016-08-24T00:00:00",
          "2016-08-25T00:00:00",
          "2016-08-26T00:00:00",
          "2016-08-27T00:00:00",
          "2016-08-28T00:00:00",
          "2016-08-29T00:00:00",
          "2016-08-30T00:00:00",
          "2016-08-31T00:00:00",
          "2016-09-01T00:00:00",
          "2016-09-02T00:00:00",
          "2016-09-03T00:00:00",
          "2016-09-04T00:00:00",
          "2016-09-05T00:00:00",
          "2016-09-06T00:00:00",
          "2016-09-07T00:00:00",
          "2016-09-08T00:00:00",
          "2016-09-09T00:00:00",
          "2016-09-10T00:00:00",
          "2016-09-11T00:00:00",
          "2016-09-12T00:00:00",
          "2016-09-13T00:00:00",
          "2016-09-14T00:00:00",
          "2016-09-15T00:00:00",
          "2016-09-16T00:00:00",
          "2016-09-17T00:00:00",
          "2016-09-18T00:00:00",
          "2016-09-19T00:00:00",
          "2016-09-20T00:00:00",
          "2016-09-21T00:00:00",
          "2016-09-22T00:00:00",
          "2016-09-23T00:00:00",
          "2016-09-24T00:00:00",
          "2016-09-25T00:00:00",
          "2016-09-26T00:00:00",
          "2016-09-27T00:00:00",
          "2016-09-28T00:00:00",
          "2016-09-29T00:00:00",
          "2016-09-30T00:00:00",
          "2016-10-01T00:00:00",
          "2016-10-02T00:00:00",
          "2016-10-03T00:00:00",
          "2016-10-04T00:00:00",
          "2016-10-05T00:00:00",
          "2016-10-06T00:00:00",
          "2016-10-07T00:00:00",
          "2016-10-08T00:00:00",
          "2016-10-09T00:00:00",
          "2016-10-10T00:00:00",
          "2016-10-11T00:00:00",
          "2016-10-12T00:00:00",
          "2016-10-13T00:00:00",
          "2016-10-14T00:00:00",
          "2016-10-15T00:00:00",
          "2016-10-16T00:00:00",
          "2016-10-17T00:00:00",
          "2016-10-18T00:00:00",
          "2016-10-19T00:00:00",
          "2016-10-20T00:00:00",
          "2016-10-21T00:00:00",
          "2016-10-22T00:00:00",
          "2016-10-23T00:00:00",
          "2016-10-24T00:00:00",
          "2016-10-25T00:00:00",
          "2016-10-26T00:00:00",
          "2016-10-27T00:00:00",
          "2016-10-28T00:00:00",
          "2016-10-29T00:00:00",
          "2016-10-30T00:00:00",
          "2016-10-31T00:00:00",
          "2016-11-01T00:00:00",
          "2016-11-02T00:00:00",
          "2016-11-03T00:00:00",
          "2016-11-04T00:00:00",
          "2016-11-05T00:00:00",
          "2016-11-06T00:00:00",
          "2016-11-07T00:00:00",
          "2016-11-08T00:00:00",
          "2016-11-09T00:00:00",
          "2016-11-10T00:00:00",
          "2016-11-11T00:00:00",
          "2016-11-12T00:00:00",
          "2016-11-13T00:00:00",
          "2016-11-14T00:00:00",
          "2016-11-15T00:00:00",
          "2016-11-16T00:00:00",
          "2016-11-17T00:00:00",
          "2016-11-18T00:00:00",
          "2016-11-19T00:00:00",
          "2016-11-20T00:00:00",
          "2016-11-21T00:00:00",
          "2016-11-22T00:00:00",
          "2016-11-23T00:00:00",
          "2016-11-24T00:00:00",
          "2016-11-25T00:00:00",
          "2016-11-26T00:00:00",
          "2016-11-27T00:00:00",
          "2016-11-28T00:00:00",
          "2016-11-29T00:00:00",
          "2016-11-30T00:00:00",
          "2016-12-01T00:00:00",
          "2016-12-02T00:00:00",
          "2016-12-03T00:00:00",
          "2016-12-04T00:00:00",
          "2016-12-05T00:00:00",
          "2016-12-06T00:00:00",
          "2016-12-07T00:00:00",
          "2016-12-08T00:00:00",
          "2016-12-09T00:00:00",
          "2016-12-10T00:00:00",
          "2016-12-11T00:00:00",
          "2016-12-12T00:00:00",
          "2016-12-13T00:00:00",
          "2016-12-14T00:00:00",
          "2016-12-15T00:00:00",
          "2016-12-16T00:00:00",
          "2016-12-17T00:00:00",
          "2016-12-18T00:00:00",
          "2016-12-19T00:00:00",
          "2016-12-20T00:00:00",
          "2016-12-21T00:00:00",
          "2016-12-22T00:00:00",
          "2016-12-23T00:00:00",
          "2016-12-24T00:00:00",
          "2016-12-26T00:00:00",
          "2016-12-27T00:00:00",
          "2016-12-28T00:00:00",
          "2016-12-29T00:00:00",
          "2016-12-30T00:00:00",
          "2016-12-31T00:00:00",
          "2017-01-01T00:00:00",
          "2017-01-02T00:00:00",
          "2017-01-03T00:00:00",
          "2017-01-04T00:00:00",
          "2017-01-05T00:00:00",
          "2017-01-06T00:00:00",
          "2017-01-07T00:00:00",
          "2017-01-08T00:00:00",
          "2017-01-09T00:00:00",
          "2017-01-10T00:00:00",
          "2017-01-11T00:00:00",
          "2017-01-12T00:00:00",
          "2017-01-13T00:00:00",
          "2017-01-14T00:00:00",
          "2017-01-15T00:00:00",
          "2017-01-16T00:00:00",
          "2017-01-17T00:00:00",
          "2017-01-18T00:00:00",
          "2017-01-19T00:00:00",
          "2017-01-20T00:00:00",
          "2017-01-21T00:00:00",
          "2017-01-22T00:00:00",
          "2017-01-23T00:00:00",
          "2017-01-24T00:00:00",
          "2017-01-25T00:00:00",
          "2017-01-26T00:00:00",
          "2017-01-27T00:00:00",
          "2017-01-28T00:00:00",
          "2017-01-29T00:00:00",
          "2017-01-30T00:00:00",
          "2017-01-31T00:00:00",
          "2017-02-01T00:00:00",
          "2017-02-02T00:00:00",
          "2017-02-03T00:00:00",
          "2017-02-04T00:00:00",
          "2017-02-05T00:00:00",
          "2017-02-06T00:00:00",
          "2017-02-07T00:00:00",
          "2017-02-08T00:00:00",
          "2017-02-09T00:00:00",
          "2017-02-10T00:00:00",
          "2017-02-11T00:00:00",
          "2017-02-12T00:00:00",
          "2017-02-13T00:00:00",
          "2017-02-14T00:00:00",
          "2017-02-15T00:00:00",
          "2017-02-16T00:00:00",
          "2017-02-17T00:00:00",
          "2017-02-18T00:00:00",
          "2017-02-19T00:00:00",
          "2017-02-20T00:00:00",
          "2017-02-21T00:00:00",
          "2017-02-22T00:00:00",
          "2017-02-23T00:00:00",
          "2017-02-24T00:00:00",
          "2017-02-25T00:00:00",
          "2017-02-26T00:00:00",
          "2017-02-27T00:00:00",
          "2017-02-28T00:00:00",
          "2017-03-01T00:00:00",
          "2017-03-02T00:00:00",
          "2017-03-03T00:00:00",
          "2017-03-04T00:00:00",
          "2017-03-05T00:00:00",
          "2017-03-06T00:00:00",
          "2017-03-07T00:00:00",
          "2017-03-08T00:00:00",
          "2017-03-09T00:00:00",
          "2017-03-10T00:00:00",
          "2017-03-11T00:00:00",
          "2017-03-12T00:00:00",
          "2017-03-13T00:00:00",
          "2017-03-14T00:00:00",
          "2017-03-15T00:00:00",
          "2017-03-16T00:00:00",
          "2017-03-17T00:00:00",
          "2017-03-18T00:00:00",
          "2017-03-19T00:00:00",
          "2017-03-20T00:00:00",
          "2017-03-21T00:00:00",
          "2017-03-22T00:00:00",
          "2017-03-23T00:00:00",
          "2017-03-24T00:00:00",
          "2017-03-25T00:00:00",
          "2017-03-26T00:00:00",
          "2017-03-27T00:00:00",
          "2017-03-28T00:00:00",
          "2017-03-29T00:00:00",
          "2017-03-30T00:00:00",
          "2017-03-31T00:00:00",
          "2017-04-01T00:00:00",
          "2017-04-02T00:00:00",
          "2017-04-03T00:00:00",
          "2017-04-04T00:00:00",
          "2017-04-05T00:00:00",
          "2017-04-06T00:00:00",
          "2017-04-07T00:00:00",
          "2017-04-08T00:00:00",
          "2017-04-09T00:00:00",
          "2017-04-10T00:00:00",
          "2017-04-11T00:00:00",
          "2017-04-12T00:00:00",
          "2017-04-13T00:00:00",
          "2017-04-14T00:00:00",
          "2017-04-15T00:00:00",
          "2017-04-16T00:00:00",
          "2017-04-17T00:00:00",
          "2017-04-18T00:00:00",
          "2017-04-19T00:00:00",
          "2017-04-20T00:00:00",
          "2017-04-21T00:00:00",
          "2017-04-22T00:00:00",
          "2017-04-23T00:00:00",
          "2017-04-24T00:00:00",
          "2017-04-25T00:00:00",
          "2017-04-26T00:00:00",
          "2017-04-27T00:00:00",
          "2017-04-28T00:00:00",
          "2017-04-29T00:00:00",
          "2017-04-30T00:00:00",
          "2017-05-01T00:00:00",
          "2017-05-02T00:00:00",
          "2017-05-03T00:00:00",
          "2017-05-04T00:00:00",
          "2017-05-05T00:00:00",
          "2017-05-06T00:00:00",
          "2017-05-07T00:00:00",
          "2017-05-08T00:00:00",
          "2017-05-09T00:00:00",
          "2017-05-10T00:00:00",
          "2017-05-11T00:00:00",
          "2017-05-12T00:00:00",
          "2017-05-13T00:00:00",
          "2017-05-14T00:00:00",
          "2017-05-15T00:00:00",
          "2017-05-16T00:00:00",
          "2017-05-17T00:00:00",
          "2017-05-18T00:00:00",
          "2017-05-19T00:00:00",
          "2017-05-20T00:00:00",
          "2017-05-21T00:00:00",
          "2017-05-22T00:00:00",
          "2017-05-23T00:00:00",
          "2017-05-24T00:00:00",
          "2017-05-25T00:00:00",
          "2017-05-26T00:00:00",
          "2017-05-27T00:00:00",
          "2017-05-28T00:00:00",
          "2017-05-29T00:00:00",
          "2017-05-30T00:00:00",
          "2017-05-31T00:00:00",
          "2017-06-01T00:00:00",
          "2017-06-02T00:00:00",
          "2017-06-03T00:00:00",
          "2017-06-04T00:00:00",
          "2017-06-05T00:00:00",
          "2017-06-06T00:00:00",
          "2017-06-07T00:00:00",
          "2017-06-08T00:00:00",
          "2017-06-09T00:00:00",
          "2017-06-10T00:00:00",
          "2017-06-11T00:00:00",
          "2017-06-12T00:00:00",
          "2017-06-13T00:00:00",
          "2017-06-14T00:00:00",
          "2017-06-15T00:00:00",
          "2017-06-16T00:00:00",
          "2017-06-17T00:00:00",
          "2017-06-18T00:00:00",
          "2017-06-19T00:00:00",
          "2017-06-20T00:00:00",
          "2017-06-21T00:00:00",
          "2017-06-22T00:00:00",
          "2017-06-23T00:00:00",
          "2017-06-24T00:00:00",
          "2017-06-25T00:00:00",
          "2017-06-26T00:00:00",
          "2017-06-27T00:00:00",
          "2017-06-28T00:00:00",
          "2017-06-29T00:00:00",
          "2017-06-30T00:00:00",
          "2017-07-01T00:00:00",
          "2017-07-02T00:00:00",
          "2017-07-03T00:00:00",
          "2017-07-04T00:00:00",
          "2017-07-05T00:00:00",
          "2017-07-06T00:00:00",
          "2017-07-07T00:00:00",
          "2017-07-08T00:00:00",
          "2017-07-09T00:00:00",
          "2017-07-10T00:00:00",
          "2017-07-11T00:00:00",
          "2017-07-12T00:00:00",
          "2017-07-13T00:00:00",
          "2017-07-14T00:00:00",
          "2017-07-15T00:00:00",
          "2017-07-16T00:00:00",
          "2017-07-17T00:00:00",
          "2017-07-18T00:00:00",
          "2017-07-19T00:00:00",
          "2017-07-20T00:00:00",
          "2017-07-21T00:00:00",
          "2017-07-22T00:00:00",
          "2017-07-23T00:00:00",
          "2017-07-24T00:00:00",
          "2017-07-25T00:00:00",
          "2017-07-26T00:00:00",
          "2017-07-27T00:00:00",
          "2017-07-28T00:00:00",
          "2017-07-29T00:00:00",
          "2017-07-30T00:00:00",
          "2017-07-31T00:00:00",
          "2017-08-01T00:00:00",
          "2017-08-02T00:00:00",
          "2017-08-03T00:00:00",
          "2017-08-04T00:00:00",
          "2017-08-05T00:00:00",
          "2017-08-06T00:00:00",
          "2017-08-07T00:00:00",
          "2017-08-08T00:00:00",
          "2017-08-09T00:00:00",
          "2017-08-10T00:00:00",
          "2017-08-11T00:00:00",
          "2017-08-12T00:00:00",
          "2017-08-13T00:00:00",
          "2017-08-14T00:00:00",
          "2017-08-15T00:00:00"
         ],
         "y": [
          1.4094382710437712,
          278.3908069270484,
          202.84019703928178,
          198.91115437300786,
          267.8732442362513,
          291.6360275465768,
          188.62110048597074,
          178.64634005667784,
          169.7703754309765,
          145.33221270987661,
          162.59129353787878,
          226.2952929351853,
          260.7399259248033,
          164.61748713692478,
          167.86170031088662,
          178.64641635578002,
          150.11140065965196,
          166.17892818630756,
          242.68229630808085,
          258.7499360533109,
          174.6415633838384,
          166.22599830695847,
          158.95536084876537,
          138.74617900953987,
          162.7512749326599,
          232.21086867300767,
          241.5331039466891,
          160.1908922295174,
          148.42245683305276,
          157.72229351964083,
          152.21897755106622,
          207.29632730976434,
          291.18263900392816,
          272.91628517396185,
          193.21476712514024,
          180.27263699775543,
          180.43668751346812,
          163.1916559893379,
          194.97294607856338,
          233.5444888185746,
          168.88402300392823,
          156.35667167564534,
          173.28888378905725,
          179.34788437822684,
          172.931547113917,
          179.66828502356898,
          272.5367530909092,
          224.23620090572396,
          196.82692098260372,
          164.7799113080807,
          176.0960505241301,
          150.2307009065656,
          160.314180208193,
          231.704460781706,
          254.05506515319854,
          172.34055888496079,
          151.75365155303032,
          161.84175023512913,
          156.0697485342312,
          212.62523292031423,
          307.43950912345673,
          314.15296297811443,
          215.2905045437711,
          186.41413759203135,
          188.39875475196408,
          164.4778490516273,
          177.66592590740743,
          254.35437534567902,
          259.1805590084175,
          178.6639354775534,
          152.53837149831648,
          161.54302130864198,
          138.91213248933784,
          177.26043221829403,
          270.61359930471406,
          288.1254685258136,
          185.34444614478105,
          164.99452631705935,
          180.25084564870934,
          151.02700782996635,
          170.6512087368126,
          254.3165000482603,
          252.4100095123456,
          178.20404599242434,
          154.78015482603817,
          176.03319247923676,
          190.4002631997755,
          193.89064646464666,
          254.01871831425362,
          259.3196632749719,
          240.63773732435462,
          211.97128392873194,
          209.72563180656567,
          173.25386417676765,
          188.7737272901235,
          285.87217397474745,
          291.272938767677,
          194.5285162418631,
          171.90561277312014,
          175.5591329635242,
          170.15904209315374,
          176.42815209595952,
          254.45706905050505,
          268.47202514758715,
          190.07433111952864,
          187.111043798541,
          187.9857008653197,
          158.20679570763198,
          174.853369775533,
          258.07229968742973,
          272.5707250768799,
          184.56022502020193,
          169.527403447531,
          174.2733922138046,
          150.83648652974182,
          170.82691186980915,
          250.65394943602678,
          268.0266402526934,
          184.50946914590335,
          174.06647973849593,
          285.0587187929292,
          195.68432102300798,
          210.03998374427619,
          291.99748370650957,
          325.6276941531985,
          207.55857634455677,
          178.05441310213251,
          186.57542703030293,
          171.64312964225587,
          188.5170830241303,
          287.3684517845117,
          217.6546043852414,
          196.7441424635242,
          173.10286931481482,
          184.6877441531987,
          172.59087931369257,
          185.1875656554433,
          269.90435406397296,
          290.77079349551076,
          191.7997839455668,
          172.37845115151518,
          169.35212295594826,
          162.32382605274995,
          223.56298652188545,
          234.5286992104379,
          252.87957355106622,
          180.48868177525247,
          172.46305727076322,
          173.58775583557806,
          170.78835574579122,
          185.3298776515152,
          318.12671997081924,
          357.8554966094278,
          239.24360156846257,
          207.4664198007856,
          203.0252979320987,
          178.1687799612795,
          200.7144152508418,
          261.6681813108865,
          295.62555008754214,
          196.27064645230075,
          159.2919281663861,
          179.67091919118968,
          158.74686871223344,
          183.4774085898991,
          283.9229331482043,
          244.60947411952853,
          208.16176825140303,
          180.07033665628515,
          179.14436474579122,
          164.91467116442215,
          179.4178939542648,
          250.47548378002236,
          283.36972230190815,
          188.90682605965216,
          171.22308084399543,
          169.38678393019083,
          149.56535295510656,
          181.93657228002243,
          285.84686203479237,
          299.37244277609426,
          247.90033002048258,
          219.39303259259256,
          210.18626147530873,
          183.5130073108866,
          197.1950056531989,
          269.0878192615039,
          280.9237222659933,
          205.08024411728388,
          178.04665824876534,
          176.28220318237925,
          158.10938890179582,
          173.28082947979794,
          242.74360393967456,
          246.19664301739604,
          195.73683891616162,
          188.2807121245793,
          181.99428620959583,
          161.09701119652067,
          175.8319613069584,
          244.38705444051627,
          245.7646599601569,
          192.36941585297413,
          177.4733238535353,
          173.53748035886647,
          167.26948648973064,
          178.8696368804714,
          237.8734579131314,
          243.18667344966337,
          186.02316781846253,
          178.76205944556665,
          200.8883159438833,
          223.0950157699776,
          221.005117849046,
          290.0992401868687,
          288.58994160493825,
          228.41403532323233,
          200.4847666026936,
          197.13924354826025,
          174.49664642620647,
          189.4060986913581,
          243.65036144219985,
          243.95079854169472,
          196.14995736980921,
          177.94799722839514,
          182.02995897474744,
          174.54723507856343,
          204.5383400021885,
          251.87166718108858,
          260.411769398148,
          203.19053140291805,
          192.5062368013467,
          188.39766775084178,
          171.98275026936025,
          186.25497704713808,
          236.01355499102138,
          248.98658459820422,
          194.8146133638047,
          179.39855163776642,
          179.1930757536477,
          165.27423453591481,
          199.17672892648707,
          293.8447705420314,
          359.3749842171716,
          257.4595740549945,
          223.16521887317606,
          220.29488547138047,
          185.53466838552205,
          188.23919636868683,
          291.01248428731753,
          314.73176492199775,
          211.6451778915263,
          172.88129395202023,
          181.32694660493829,
          158.72936640684628,
          179.3248832934906,
          267.319868123457,
          299.01961786812564,
          209.44435515095392,
          183.66046574971918,
          177.1536020909092,
          156.8913423164982,
          186.22160716616156,
          262.79370420650963,
          281.7445016277778,
          199.7996823819864,
          170.2207592177329,
          175.359205946128,
          153.23113347856344,
          179.71188216835023,
          272.11205892710444,
          293.41663408866435,
          205.98678451980913,
          244.91640520538726,
          232.57893099747469,
          195.80990293490464,
          212.18292820370374,
          303.1181958793489,
          310.34311112008993,
          209.5326088905722,
          183.34832997312012,
          180.99293993097646,
          171.18243437575762,
          226.10204771492695,
          239.27030919971946,
          270.3598518342312,
          192.3090465737375,
          171.292126815937,
          199.60547920482597,
          175.6169545235691,
          181.4410062328845,
          273.9874130196408,
          301.7471992414703,
          195.69098090404043,
          169.2714843337824,
          181.31600223344554,
          154.91530864337824,
          178.21011561941643,
          254.15396403703704,
          287.8178917333895,
          194.69243207631874,
          169.65936980157133,
          179.28995793338942,
          167.33750454882158,
          226.50798706790127,
          303.37573234399565,
          338.2696722946128,
          238.11120485185194,
          220.7195190286196,
          216.85015646436585,
          194.32847365190813,
          201.16384851234585,
          288.35596131874286,
          329.77917521829403,
          209.92586423512904,
          209.47123907631857,
          186.46422945291792,
          159.6899006569584,
          196.0624556969696,
          294.0884332859147,
          325.0332373310888,
          219.94699887710436,
          184.87950113546563,
          198.84272435185179,
          167.25423567059488,
          191.20887375869808,
          272.47154816891134,
          309.1612194758696,
          205.367850174074,
          181.42134120314265,
          189.1600931683502,
          171.70762174354655,
          200.33692714085305,
          304.1400986537598,
          391.8165707008978,
          278.05183332435456,
          238.18072220707074,
          238.0174219896185,
          216.83883556958477,
          242.79559768125665,
          301.44855207688005,
          330.44663070763164,
          248.209491642817,
          232.55987429068452,
          237.34971880359151,
          215.63191974130183,
          243.915271031818,
          311.3983821683501,
          360.2782131405723,
          289.5961228131313,
          269.6244202258698,
          296.0052395763189,
          284.7705040331089,
          305.33348352216603,
          384.77725855218836,
          390.7380173215493,
          444.930013707632,
          348.2958982783387,
          264.1589014667229,
          268.9758518759821,
          312.5433815819304,
          280.4262092725589,
          356.4167990187988,
          284.6603047404602,
          4.82719719640853,
          449.50124918125755,
          381.97129382884395,
          525.6054358046579,
          532.8949432884399,
          337.9733804764311,
          316.1900105833335,
          357.00160127833885,
          278.5510288518517,
          304.7448535723907,
          441.8189986638608,
          473.9806952396185,
          311.7547783493263,
          282.0668374214365,
          318.2196796122334,
          282.1488295213244,
          304.67896501515133,
          441.5150897337264,
          477.9659562800224,
          323.1481828681257,
          302.3665588731762,
          310.3802451593715,
          258.5797081143098,
          295.24386770819325,
          411.82995457519655,
          456.82252124691365,
          303.478582329405,
          270.25445330976424,
          287.7968518080808,
          254.56956829590337,
          314.71166801010116,
          364.12469078563413,
          347.8145550516274,
          259.0558490227272,
          226.25678281498318,
          223.9833366484287,
          201.53709401178452,
          218.55868014085314,
          297.4904937789001,
          292.22993662996623,
          222.57168182435464,
          201.11264533540964,
          217.5973030140293,
          194.93451098063971,
          202.69719803911326,
          302.4092917278339,
          334.0629826487091,
          231.21733330723913,
          205.0119236487092,
          202.11090853395052,
          180.94945011980926,
          207.29722426094295,
          302.02361550336695,
          273.79150611167205,
          226.8373675628507,
          197.20432664646466,
          198.4311262542089,
          185.37047432323237,
          238.8466865690236,
          511.42550946728375,
          374.5303327654326,
          344.5415439876541,
          420.27547816835033,
          416.2493919893379,
          344.60294295117853,
          335.71399617171716,
          422.7526707076318,
          514.0952020112236,
          329.63795116386075,
          302.67417231369234,
          323.0509523187432,
          265.5993504736253,
          297.7077752365319,
          410.24118397923667,
          521.778054305275,
          343.8381156666665,
          301.58690726711575,
          328.82977385970815,
          281.08704413075196,
          307.97501121436585,
          433.0555183905722,
          470.71528398653174,
          320.85412172783384,
          302.9526477829965,
          319.686051373176,
          262.95252430078574,
          302.41626371885513,
          461.46641003703724,
          490.4370592825478,
          365.7690849949496,
          272.21093546633006,
          260.33519422390583,
          218.21995590235693,
          237.13734291414144,
          346.6218821801348,
          354.5949780572389,
          239.10836364635236,
          211.3710842340068,
          210.61115713355778,
          187.45945966638607,
          213.04536808473623,
          297.373694143659,
          303.13708302020177,
          214.02149777384952,
          204.65154601066217,
          230.84011503086418,
          223.04424405387212,
          221.31996863916953,
          278.84666057014584,
          291.87788891054976,
          223.7246896734008,
          207.941778349046,
          208.88473347306393,
          180.06480238945005,
          200.4341798164982,
          279.08795456565645,
          314.5389567873181,
          203.29512737457915,
          183.1303861004489,
          200.38157402469142,
          297.6323502042649,
          248.75695354208733,
          342.53184566273836,
          362.60654538888883,
          239.95606289057238,
          218.26368691694736,
          219.93949716329962,
          189.38479978507291,
          213.9928148456789,
          323.8002396167229,
          255.05776034624037,
          223.485908533109,
          202.43239224354676,
          199.98530133838352,
          186.46062269236802,
          213.70524279012338,
          301.83724131257003,
          356.0716817218293,
          218.1900925690235,
          198.86214364197525,
          200.27973234062853,
          174.3322910448934,
          196.15594429068454,
          289.914288275533,
          321.78014038159387,
          209.78175427160494,
          183.86203316386081,
          189.94488443153756,
          183.29100860409633,
          210.87690228445578,
          335.1248417446687,
          416.7973233647584,
          287.7249006598203,
          248.95408977272734,
          237.5333866402919,
          201.72531639898983,
          219.5657269635243,
          312.6500903613918,
          351.30581198484884,
          233.33274188608297,
          197.35657854797972,
          209.78011457912461,
          184.85301198653187,
          220.15060301515177,
          349.08697471604944,
          247.6318372584176,
          251.09441070145914,
          213.46578902581368,
          209.54470490589236,
          186.46517120987662,
          207.1867505875421,
          302.25244397643104,
          331.7531560345116,
          232.84491356705954,
          191.05765715235677,
          199.40650842704844,
          177.21558974410786,
          208.07720169977551,
          286.68395846240196,
          318.304649277497,
          240.92258989927046,
          404.31011043097675,
          419.433303663019,
          327.6345234524131,
          334.1326112457912,
          458.6459653017397,
          515.3067319074075,
          358.32010600953987,
          312.73372476234584,
          322.36330525420874,
          279.487962390572,
          300.58596116329994,
          424.6345411338383,
          411.70245782772145,
          328.2082778563411,
          315.85860091633,
          348.6736778835578,
          279.5856930960157,
          307.3058692771606,
          409.08430202244676,
          435.7318283084735,
          336.8285241346802,
          297.57353535970805,
          322.20462177048256,
          271.9521980984849,
          325.3464001840631,
          386.5990740890572,
          419.3646838496074,
          327.6861310269362,
          294.46875701554455,
          324.38662473681217,
          298.77865218518525,
          284.41458750308624,
          351.5901447076319,
          351.2335611043767,
          264.40701684736257,
          234.11755116498318,
          226.10234059539832,
          201.85271211503917,
          223.20984230241305,
          278.4471307991022,
          286.01670314393937,
          229.82299383445567,
          198.59607855836143,
          208.81960996857464,
          191.21257971745248,
          225.9437935237374,
          299.66114207070694,
          316.74701066610515,
          243.0091464124577,
          212.86753820274978,
          223.41570762514021,
          199.27546296043775,
          217.93484754405162,
          280.4030349068461,
          296.85216672766563,
          231.34123176599326,
          199.2446172696407,
          205.56761957182954,
          184.01370763187415,
          226.31252360381606,
          329.05370041077435,
          370.41985580920317,
          455.9630858720539,
          402.5541822491582,
          407.7911682028618,
          309.3939828477553,
          338.408104332772,
          488.2937407275532,
          560.0247350998875,
          364.0021015308646,
          315.6119910224464,
          343.9884804902917,
          271.30356510774413,
          316.71315816554426,
          446.57813587205396,
          503.08729646156013,
          353.93410375336697,
          341.32433951515134,
          346.50524366526395,
          269.0801588445569,
          308.76155662682385,
          453.6985202452301,
          505.8476156026937,
          330.59500220426503,
          314.22800471324376,
          335.6807601054995,
          261.9906717598203,
          289.26724126992144,
          438.3851672177328,
          497.49258687654344,
          329.2271728406284,
          336.191871899944,
          440.2358327239057,
          355.9520308933784,
          379.14663024579085,
          522.6248670145902,
          553.011763227273,
          359.97797826374847,
          329.0742261338946,
          348.03665715993236,
          286.48705000224464,
          394.2033209624017,
          419.9265733664424,
          473.6089409169474,
          343.2811032631874,
          308.9728245196407,
          350.6158639118971,
          302.0497234102132,
          313.4332974180696,
          460.62905207182956,
          524.9217709747473,
          350.5218804382715,
          304.26889184399533,
          328.2415016795733,
          276.2251583613915,
          296.52282831874305,
          425.88452901627403,
          500.63327662682383,
          321.4403097241861,
          287.69854742143656,
          314.71362401823774,
          257.9771415039283,
          315.306437663019,
          490.201598140011,
          398.3453940677895,
          546.1234802104373,
          394.36136565376006,
          403.36696915796875,
          317.6870825224468,
          328.4681580976431,
          457.9487345583614,
          528.3268363080804,
          332.9836100297421,
          310.04812026206497,
          330.0187901352411,
          262.65846623063953,
          310.32995003647585,
          441.1471387076317,
          536.8234578714928,
          348.4154545780022,
          310.53153992199776,
          325.60831161655466,
          287.2366784762626,
          318.7310509309766,
          428.5747186268239,
          509.22146857126785,
          342.7878546689116,
          303.7180740802468,
          324.98614253759825,
          267.01677724579145,
          314.04030588888924,
          477.51128234343435,
          574.4619986487088,
          458.7057025667786,
          412.637028074355,
          401.30618099831656,
          324.894229519641,
          356.59099512738476,
          465.42463867564516,
          568.9617325476997,
          443.4810830482603,
          373.2457704584735,
          410.842331017396,
          325.7812451621774,
          360.69606467171724,
          479.70308969079724,
          560.6656187303593,
          443.42477317115583,
          448.4102447693603,
          437.6916381526377,
          410.73988770650993,
          424.99964972946094,
          525.0031000785636,
          592.9322116882721,
          565.7370067448371,
          597.6307368532548,
          542.0779302553307,
          489.3930733978675,
          415.59829345230105,
          401.9807155280583,
          434.34253713524146,
          512.3291432121213,
          473.83864740404033,
          7.168135230078564,
          369.11525924859745,
          364.13057627721656,
          410.17046914814796,
          319.454151492705,
          268.1743776952861,
          277.30687436419765,
          234.2776033282827,
          246.56634459764302,
          319.84113805274967,
          389.9331936588101,
          248.51040629292922,
          220.98765042592606,
          224.98539341750825,
          208.27505327833893,
          237.71040168209873,
          348.9705016874301,
          380.6268411846245,
          251.52519467957342,
          227.4460029292928,
          231.87575312401782,
          204.74889957098753,
          233.97148256172835,
          330.4432497210999,
          354.4466616245796,
          230.08396069921426,
          202.02572954320993,
          211.5240830723906,
          192.51524184792382,
          244.61261050308644,
          368.24121315600433,
          457.51654093771054,
          302.0773776509542,
          266.69463688439987,
          253.60445962906846,
          228.6711380157129,
          245.312876077441,
          336.6507266436589,
          349.6039461004489,
          257.0157980039282,
          224.930406800056,
          224.5316122471941,
          216.02869975813698,
          276.8044152710436,
          315.85581823737374,
          244.04414805499434,
          236.10600672446688,
          271.0932290084174,
          279.1801672093153,
          244.8714399068464,
          271.42593435802456,
          321.4102553524133,
          387.9568281683501,
          248.79342920370362,
          228.89465654938252,
          222.09593380022469,
          199.17970088383834,
          244.94299939057245,
          356.48900116442167,
          460.4012227407406,
          306.41851178395063,
          276.2992372783388,
          271.22926384231187,
          240.51616669977537,
          260.226697459596,
          368.89854708922553,
          370.12537147362514,
          269.56899555892244,
          256.9482402223907,
          238.8427200196408,
          214.69622281341194,
          243.99887497418646,
          346.0211901773287,
          371.8860111857464,
          261.8397451818183,
          233.08614816498329,
          223.69809202805834,
          209.49740908501676,
          262.45114763243544,
          350.224033794613,
          362.7757586346799,
          259.6320072976991,
          228.6025376066218,
          229.10111667564536,
          205.95227665600447,
          245.17767058080804,
          331.0071291007296,
          359.82815385129066,
          245.72325195173948,
          248.75358758305262,
          312.69537656453457,
          294.38209990011234,
          286.36183274298537,
          366.9439932115598,
          370.18494788776644,
          291.65814644388337,
          260.82391581369274,
          258.7767749753085,
          223.74765203984276,
          250.20723794163882,
          342.65040239842887,
          370.33615268574624,
          254.6154635510664,
          226.50022277160494,
          245.85089111391676,
          234.92884060437711,
          256.0624224175085,
          353.06153799663286,
          384.14419200841746,
          270.3113192850727,
          239.0675157323233,
          236.31212685690258,
          220.0600684635242,
          245.5810931329967,
          330.40488941582447,
          351.2351296228956,
          238.52365212514013,
          210.34746637177327,
          223.7510269668912,
          242.76775641863085,
          378.5125701992143,
          399.01923338720513,
          416.8842789163858,
          312.1465476728396,
          285.91090180751945,
          283.38919807070715,
          249.204438798541,
          270.0921565488218,
          396.57993270258123,
          313.166258725028,
          294.5365045246915,
          253.7389865572389,
          250.79441021773283,
          222.00317962233441,
          271.3442974786757,
          398.31568630415296,
          447.9158990701458,
          278.67284566778903,
          250.49129519276096,
          261.6378400544331,
          234.01017734848483,
          257.42307353030276,
          369.7435033453987,
          414.1798130319865,
          300.11379910437694,
          259.8947283984286,
          270.37315429854084,
          240.4640185246914,
          314.5451908181819,
          480.206673385522,
          574.3910028282831,
          455.7133573319307,
          422.8005846754771,
          419.71349723625127,
          341.74783732227826,
          369.06572729349045,
          507.5405561958472,
          600.8394600727831,
          391.10707746352375,
          350.01408932053874,
          359.9525095388889,
          286.2060319458477,
          340.4130196268238,
          471.7888753675644,
          543.0671839890572,
          374.0500178219416,
          377.46230307070715,
          380.00626100561163,
          312.0959815618966,
          369.94027534281696,
          525.7865624988776,
          443.64108929966324,
          393.4950779741866,
          359.3279046178451,
          361.06156793546563,
          291.07797749567914,
          332.94021368574664,
          466.6063210973624,
          548.0154820795182,
          358.6263704786758,
          375.72863359090877,
          497.16790179124547,
          395.9833232864758,
          433.65510320987636,
          571.5723024354656,
          551.3062187991023,
          423.6530354320989,
          367.4641142152078,
          411.3311616324352,
          339.5244087522448,
          361.3840522884401,
          446.11936204096503,
          504.33890950280585,
          363.6178888181819,
          337.51529630920294,
          372.8984849489337,
          327.7456380594836,
          366.69594340067334,
          463.7224107918069,
          502.08041491470254,
          384.9389696812571,
          341.0979231071831,
          354.3127995993268,
          303.87846300056145,
          356.47825195202046,
          447.49019132547664,
          491.0393020534233,
          366.441747640909,
          333.8819677622335,
          350.9820322951737,
          304.9346759960719,
          390.0580521730078,
          586.3607127166109,
          585.5754629730638,
          455.17386874859676,
          407.75160387766556,
          406.47957014590315,
          327.37105036980927,
          372.23710329422,
          440.0107833877666,
          381.2626964842873,
          440.78447486868674,
          375.01703589001124,
          380.50770577199796,
          313.05245676430974,
          412.1684652351291,
          525.4427755662178,
          512.8207772334456,
          389.86933886812574,
          353.241101600842,
          366.85373737727264,
          319.5531448221099,
          366.60000457407403,
          450.76888754040397,
          485.8335563574636,
          382.47810885370336,
          350.5602343153757,
          359.1896693807517,
          307.5439547441078,
          356.7549002244666,
          492.1173383468014,
          547.5295184388327,
          435.55137608849583,
          508.7261464377109,
          493.28456369248,
          396.7974421997754,
          413.2409105679012,
          590.8352380982044,
          644.0194068524129,
          430.63006564180716,
          380.08542989113374,
          395.9783950019642,
          324.21088385297406,
          365.5051447542088,
          517.1293131386085,
          574.2678557272728,
          386.3104321329965,
          382.7914444609989,
          416.43640179461255,
          333.0964097222224,
          366.89443038496086,
          525.1927503136923,
          582.2294392216608,
          402.76396013411926,
          360.2215145900671,
          387.44092139281696,
          312.75062341245797,
          362.56109711756466,
          499.7115937962965,
          571.30357102413,
          376.68971044287326,
          341.8241628200337,
          399.0923339248035,
          446.8803922261504,
          466.1724959281703,
          661.8272601711562,
          692.553837595398,
          454.27880920089774,
          390.6673826975307,
          404.35596552918065,
          338.4208922918066,
          490.42352359595964,
          486.8445415370367,
          546.2004511632998,
          404.95767238007863,
          328.36226366874286,
          386.1942235415266,
          324.3278323019081,
          389.3542939809201,
          537.6279225763188,
          601.2778355101012,
          392.4015084382715,
          370.54341256228963,
          377.5798799288999,
          306.96972333406285,
          358.60864545454547,
          482.5761563529746,
          571.7077115336693,
          364.71063543097665,
          329.4422564955105,
          336.35697096251425,
          287.2390959139171,
          356.8327111103814,
          514.0049673838387,
          459.73646915656565,
          427.91795450729484,
          579.9321733928172,
          480.0754432996632,
          364.56940006004504,
          376.62502135634105,
          521.7302716930415,
          604.5802222045453,
          383.6391144708191,
          349.90414089219973,
          387.0629698742983,
          284.4768035929853,
          351.66892539562315,
          486.86719018462423,
          592.6820778063975,
          402.0812060704267,
          347.3176139500563,
          383.8126756172837,
          314.50761352469135,
          373.5239440241302,
          484.6952197844559,
          570.0585212685181,
          390.9570487833895,
          343.83288492424265,
          369.76309210437717,
          297.61971381986524,
          362.00170316762046,
          477.3266015061728,
          600.7967468754211,
          427.62969921240153,
          481.26876691397274,
          486.6832636588104,
          379.84457463075177,
          420.5129808998318,
          542.2011043075195,
          641.481099579125,
          461.46728899158256,
          399.87046567340076,
          419.6934804079688,
          368.926587275309,
          397.5268281812573,
          513.8428082441078,
          594.5148267904042,
          455.45102253462386,
          437.603789785073,
          482.56467403423125,
          454.43869176038174,
          501.4421451745231,
          614.7718955489897,
          659.6054790501119,
          602.0692911835021,
          640.775482188552,
          671.237966539843,
          608.1258783602698,
          531.2711508226713,
          470.0977155824919,
          443.1452933681819,
          488.6431120976431,
          578.0267877463525,
          541.3252196975305,
          9.221882154882154,
          598.5844135028059,
          688.4038832182937,
          536.4516695269359,
          468.75445515656565,
          461.1030616851855,
          366.7252339746347,
          400.45361063731724,
          555.1119293759815,
          614.3063058136929,
          395.9008086212117,
          363.10800285353537,
          370.3958008613913,
          315.360619006734,
          376.5584175235689,
          538.6235389652078,
          593.7134361969697,
          398.30764868181836,
          354.0570993209875,
          414.55892987934936,
          310.2248984488775,
          363.8784669118967,
          508.8410964775533,
          550.4645101085862,
          369.29892654152655,
          342.01222665768836,
          363.21811339506155,
          299.5004764080808,
          370.64689005948384,
          544.2976300959598,
          613.4743150392814,
          489.37335290897886,
          429.42379785577987,
          433.4236470280587,
          364.9428546245794,
          431.3055600379913,
          528.5937576038157,
          391.57779517059515,
          357.206889603816,
          419.1580472278338,
          443.876943799663,
          362.72523629349047,
          391.78006165852975,
          482.05557070398464,
          527.6175637076316,
          419.00745791526367,
          403.5420236195283,
          406.16987767283985,
          319.9061044607183,
          377.3906473742985,
          495.9541084396744,
          556.33236252991,
          392.20406072951715,
          359.89285134349086,
          379.10963962626255,
          313.108489232323,
          360.22603909365904,
          514.424280992705,
          558.0823385527501,
          407.7551951882718,
          503.8875663838387,
          492.9586783989899,
          376.8601303633558,
          419.4987630854659,
          577.228213834455,
          605.4761555474184,
          414.212415330528,
          360.43285347334427,
          389.8124853586416,
          321.26366825196425,
          373.11644945387195,
          503.98491014085266,
          535.90366450477,
          374.8969658277216,
          374.9644794943882,
          415.15453293658794,
          325.73093825796843,
          374.1620758432663,
          502.2662806217733,
          521.6641874405162,
          387.46902409708207,
          349.43649663002253,
          401.1678866891139,
          370.64525533249133,
          355.51301911447774,
          449.00870790993247,
          467.6408893726154,
          370.9640099092595,
          348.57803765016826,
          370.44836641021317,
          346.4502457691922,
          489.60006738215526,
          645.8050398030306,
          710.947413580808,
          446.2610505406846,
          407.2671723035917,
          417.94884572362497,
          329.9325029051628,
          387.05229861823807,
          520.7527436835018,
          566.1485622340061,
          373.3720336380471,
          365.68857141498336,
          377.4475202300784,
          306.8379399245232,
          374.6387765808083,
          483.7943277418634,
          713.7114137233445,
          755.2865347322672,
          646.5147071184066,
          596.1988159589786,
          561.773164516274,
          480.9535600392817,
          573.5932293209314,
          583.2603434421995,
          381.59413795679023,
          395.5103357086419,
          376.14371382772157,
          304.90451684231203,
          397.7056278866442,
          598.9538552710436,
          712.7503970594818,
          546.5688386262628,
          444.55979244629646,
          448.1787060037598,
          364.03008022699197,
          427.28536258484854,
          601.1182811352403,
          460.6198866825473,
          433.09071500218863,
          388.8947738389452,
          408.27354827918026,
          338.6050544891686,
          374.2053310557802,
          523.4958031779457,
          600.6350546464644,
          419.8163225875422,
          371.4538938496072,
          376.6739390239621,
          326.3022223381035,
          396.19756337003366,
          511.0870724410771,
          578.3791374410775,
          390.013850335578,
          340.27901527300793,
          357.7508634870934,
          320.9700466459034,
          478.5012454051627,
          458.0175196769362,
          538.6384164079684,
          422.25163814365885,
          546.7609370879351,
          455.4014143181817,
          389.7508056561731,
          416.5898345723907,
          567.8993356172844,
          630.602938327722,
          409.5927176576882,
          369.6490759292927,
          390.99189105785655,
          307.03681983226716,
          357.66235668911355,
          474.65668134932645,
          531.6945931329968,
          384.61402528731765,
          349.1962812034229,
          397.4902565008415,
          348.21899158305274,
          414.08385986475844,
          545.99950039899,
          469.9006867962965,
          412.88123731599364,
          381.1717295287875,
          380.3202307551626,
          314.0591119130192,
          360.16424013019076,
          482.7703899901801,
          535.5469511408527,
          384.2511834988774,
          334.9881789859708,
          354.93236640965193,
          310.9679376672276,
          480.9357766332774,
          605.2105173108865,
          632.2748080499435,
          477.4924797109991,
          408.5362278569024,
          422.06001158305247,
          332.04420988692493,
          386.3992144915824,
          487.23904089713824,
          523.2807520403477,
          386.3278030575196,
          351.87417514646427,
          360.546802719697,
          300.29423576094285,
          378.8060768997196,
          497.8635718647588,
          523.3370913203142,
          394.2871779023567,
          355.31778466924806,
          385.437063414141,
          324.81688497446686,
          362.86961579180695,
          461.4435869842875,
          475.7955544006729,
          391.34882272278384,
          349.47919410942774,
          365.3883192950056,
          299.24593117738505,
          375.7496284359708,
          510.7821952631877,
          559.9982924882721,
          502.5703732059485,
          436.35961778299685,
          437.6233501982043,
          349.5415814595958,
          395.1137705561732,
          481.9883344009535,
          507.47555378114527,
          401.34429788092024,
          356.64364816778925,
          369.5047340695846,
          334.8649157940515,
          418.4413609141977,
          401.18177276481504,
          427.51185688995497,
          404.05852967508423,
          403.29497831257004,
          407.3769377295175,
          323.99019132356904,
          380.90186072671145,
          465.1999639955108,
          506.09997190740734,
          401.1595027177332,
          370.83051513776644,
          378.57073397856357,
          311.12319255836167,
          362.9058770409649,
          443.9099520123455,
          481.93177315319895,
          377.0178096610549,
          350.56752808978644,
          410.45461506464596,
          402.97731252805823,
          469.76969003479235,
          593.4799163400672,
          622.8876866066219,
          456.65729238131354,
          421.76376266666654,
          414.4466425359147,
          334.37109910746364,
          369.79182209203157,
          513.9947020476995,
          570.9142672650397,
          380.90710388692463,
          338.6239882008979,
          350.31541637261495,
          318.9252598125703,
          388.2786764680134,
          504.6124003973063,
          571.6400995476992,
          382.2442996498315,
          365.30882265527487,
          374.2583613989898,
          299.2572009074073,
          372.4388241668353,
          483.6309708176206,
          534.429040923176,
          372.7370596485407,
          329.91488654124595,
          354.523667253816,
          292.22498374483723,
          394.61194770258135,
          659.3903806004495,
          705.0954943694161,
          467.48628445005636,
          406.3485387424239,
          420.7139730758139,
          326.27909099775513,
          447.59384922951745,
          523.3174561341192,
          610.6910661661052,
          407.0217996080245,
          350.8821514882153,
          373.24695717901267,
          313.6138557786195,
          374.83401078900096,
          499.78315999663334,
          619.8118340152639,
          398.6848619537038,
          353.89371045061694,
          363.5373002093153,
          327.161212164983,
          375.6753883604377,
          473.41549714590366,
          574.048086396745,
          375.1445820416949,
          342.6436015458475,
          355.4511170424804,
          305.47782260544346,
          358.4950910387208,
          471.9835561164419,
          535.8239006778898,
          367.52160660577994,
          455.57376317845114,
          543.7899096257014,
          445.46110219500514,
          481.74422922390613,
          498.176935280022,
          639.9366465398431,
          476.6840869273289,
          430.661968818182,
          443.47746296801336,
          330.1019972080248,
          400.3347105063414,
          521.7748439635241,
          667.2178632985411,
          412.8637334326605,
          388.2164023814815,
          466.0110783318185,
          345.2459349135239,
          414.29043334567905,
          525.0594842950055,
          631.4135734629625,
          434.21003415207673,
          387.36321605162743,
          422.94334537373743,
          334.1511258250843,
          414.04011494725034,
          509.5773419663302,
          592.9975264239612,
          422.32534683092103,
          362.37963425101043,
          430.61824036139166,
          473.4025337194164,
          478.93093759539846,
          624.8263563742986,
          716.1588306451736,
          503.2687648546575,
          523.3144702194164,
          486.8988412684065,
          378.2701363103254,
          434.8720112132439,
          516.3023265527501,
          628.1280830448933,
          473.7663882166107,
          419.2826125662179,
          465.63592540263727,
          419.5517300085859,
          515.6564457384959,
          601.3780180972503,
          707.3355267059491,
          577.0161744100451,
          606.286413037037,
          662.9109579537034,
          637.401454031424,
          719.498045530359,
          699.6845359451737,
          579.5570981470258,
          472.76963530751937,
          533.9695363906283,
          501.7442406481482,
          652.9983378183508,
          622.3416453698094,
          6.780303589786756,
          786.9283786947243,
          619.7402243684064,
          555.6080043445571,
          436.37539510072907,
          471.1561380409652,
          619.4199208468017,
          669.216470806959,
          445.41240005976425,
          416.7427436929851,
          432.5155387570148,
          353.33097306621784,
          431.48088910673385,
          572.9800988922559,
          659.7784320078566,
          462.67601917789034,
          421.34486136475886,
          439.2009117128504,
          340.6003057684062,
          407.24112855639714,
          601.9762766021324,
          644.3402684927048,
          447.8864265572393,
          404.7563270375977,
          417.70066942912473,
          323.52162569455675,
          405.2266884607182,
          548.7376014870935,
          603.3484809444441,
          391.7641795942762,
          436.7128428310884,
          539.7179477407406,
          420.24844703423145,
          468.38785181217713,
          635.6838055067338,
          646.4577054405167,
          441.4547666560047,
          414.9445641425362,
          439.73365723063984,
          350.3857956784512,
          422.11405154573515,
          530.260748041527,
          603.1542648787881,
          445.7432278717733,
          360.6134607570147,
          418.50749443546584,
          362.4962160870371,
          425.8449566722783,
          596.7423367020201,
          481.98491751599295,
          425.9932996412458,
          402.8101442342875,
          414.9203335593154,
          379.11251411672265,
          458.02328785185216,
          575.763873629349,
          435.3024623894499,
          418.0454254422,
          532.7535516557235,
          565.9493321896744,
          469.2621655847363,
          495.3085164276096,
          631.7263451510665,
          671.7080191380476,
          443.4024921944441,
          427.53464083894454,
          438.2977900997191,
          366.947919182211,
          434.2622372895624,
          561.8262817095961,
          643.101474171156,
          423.33915826936027,
          393.3771238185745,
          457.70027349551043,
          392.3165919326602,
          455.83994066778916,
          583.0003177070708,
          649.349404369809,
          463.76482037598254,
          418.9791953855218,
          430.9095426116724,
          376.4579180858582,
          442.15158558642014,
          582.5697625628508,
          618.1579555028061,
          440.01305557912457,
          394.4691069455667,
          462.75700619135847,
          357.81388383726176,
          493.1257227160496,
          821.0347713013471,
          638.9730970246917,
          468.68216724410803,
          468.912814815769,
          475.10174405555557,
          383.3106454001124,
          429.57475416666676,
          554.7651346565651,
          618.2455988221096,
          414.92263242873156,
          416.01090358922573,
          444.31106222390565,
          413.59683792536475,
          415.76289945510706,
          504.2706048978674,
          553.0268210510658,
          435.4191391164422,
          402.46706832884394,
          412.86936826470253,
          379.23906953013454,
          446.574575685746,
          547.1115700723907,
          639.7700756473065,
          423.72195900392825,
          403.4770373945002,
          438.36098933754204,
          350.67902698961854,
          447.6075337275532,
          599.4836228625139,
          584.314953967733,
          733.276861333895,
          509.1605466402917,
          518.6572711582493,
          402.1630802373742,
          438.1584775622896,
          583.2872401054991,
          688.765773245791,
          435.6383249242422,
          401.68978612850725,
          429.9112834421999,
          364.00135411840654,
          429.18766317845126,
          626.8108255628512,
          496.1840144997195,
          461.8605904163863,
          453.3130724345119,
          472.1703748282827,
          352.68686305387206,
          434.2174174341752,
          581.1825936212123,
          674.4887128108868,
          437.1128822255892,
          405.8090729416384,
          418.80113755639735,
          347.98442419191923,
          552.4753940030861,
          523.1312531672277,
          595.8314460757572,
          435.92207465656537,
          416.65054825505035,
          481.5163576941642,
          430.3362361644218,
          515.3879456369248,
          660.0101622626264,
          772.4531540375981,
          512.173878282828,
          452.04637932435475,
          473.052658295343,
          374.354546029742,
          446.1931178843436,
          557.6502155157131,
          681.0740442631873,
          431.17270423776665,
          409.32264862457885,
          441.0134168890574,
          370.560239603816,
          468.45478538439966,
          615.1142260867005,
          541.6072509421997,
          443.96542858080824,
          441.82195120061704,
          429.9433284451183,
          342.23840121133526,
          427.07617568120077,
          540.554560681818,
          613.1374066296274,
          423.88767961083073,
          382.83864697699187,
          410.71660213832763,
          353.99091070258146,
          450.20939350880997,
          677.6262187811441,
          727.4855317359712,
          519.1601620740742,
          467.0927530941077,
          473.79439568799063,
          392.969702557071,
          452.18423243153757,
          560.2397267163296,
          617.7515838249154,
          451.26759878591474,
          409.952170427048,
          420.2020179061166,
          353.339709836981,
          429.5676865282267,
          543.814323835577,
          617.7349601700338,
          459.2174647300784,
          409.7271093939392,
          430.964521929293,
          386.24470699046026,
          439.0675079791244,
          523.5140553765434,
          574.7972734259258,
          458.229139784512,
          400.4386266043771,
          415.63021558193043,
          370.2860982372615,
          468.6305736271039,
          579.2990267884401,
          630.6130628236249,
          497.1138276489897,
          554.729384514029,
          541.3647677053877,
          408.5681734747474,
          464.52058705275,
          541.9156287833893,
          588.9782066649826,
          447.5112030398429,
          402.7869523599886,
          411.9751257070709,
          365.5369876373174,
          463.73385074186297,
          444.7982800664985,
          485.7686181094278,
          427.0047172170593,
          427.98088436531987
         ]
        }
       ],
       "layout": {
        "font": {
         "color": "white",
         "size": 12
        },
        "height": 300,
        "paper_bgcolor": "#232425",
        "plot_bgcolor": "#232425",
        "template": {
         "data": {
          "bar": [
           {
            "error_x": {
             "color": "#2a3f5f"
            },
            "error_y": {
             "color": "#2a3f5f"
            },
            "marker": {
             "line": {
              "color": "#E5ECF6",
              "width": 0.5
             },
             "pattern": {
              "fillmode": "overlay",
              "size": 10,
              "solidity": 0.2
             }
            },
            "type": "bar"
           }
          ],
          "barpolar": [
           {
            "marker": {
             "line": {
              "color": "#E5ECF6",
              "width": 0.5
             },
             "pattern": {
              "fillmode": "overlay",
              "size": 10,
              "solidity": 0.2
             }
            },
            "type": "barpolar"
           }
          ],
          "carpet": [
           {
            "aaxis": {
             "endlinecolor": "#2a3f5f",
             "gridcolor": "white",
             "linecolor": "white",
             "minorgridcolor": "white",
             "startlinecolor": "#2a3f5f"
            },
            "baxis": {
             "endlinecolor": "#2a3f5f",
             "gridcolor": "white",
             "linecolor": "white",
             "minorgridcolor": "white",
             "startlinecolor": "#2a3f5f"
            },
            "type": "carpet"
           }
          ],
          "choropleth": [
           {
            "colorbar": {
             "outlinewidth": 0,
             "ticks": ""
            },
            "type": "choropleth"
           }
          ],
          "contour": [
           {
            "colorbar": {
             "outlinewidth": 0,
             "ticks": ""
            },
            "colorscale": [
             [
              0,
              "#0d0887"
             ],
             [
              0.1111111111111111,
              "#46039f"
             ],
             [
              0.2222222222222222,
              "#7201a8"
             ],
             [
              0.3333333333333333,
              "#9c179e"
             ],
             [
              0.4444444444444444,
              "#bd3786"
             ],
             [
              0.5555555555555556,
              "#d8576b"
             ],
             [
              0.6666666666666666,
              "#ed7953"
             ],
             [
              0.7777777777777778,
              "#fb9f3a"
             ],
             [
              0.8888888888888888,
              "#fdca26"
             ],
             [
              1,
              "#f0f921"
             ]
            ],
            "type": "contour"
           }
          ],
          "contourcarpet": [
           {
            "colorbar": {
             "outlinewidth": 0,
             "ticks": ""
            },
            "type": "contourcarpet"
           }
          ],
          "heatmap": [
           {
            "colorbar": {
             "outlinewidth": 0,
             "ticks": ""
            },
            "colorscale": [
             [
              0,
              "#0d0887"
             ],
             [
              0.1111111111111111,
              "#46039f"
             ],
             [
              0.2222222222222222,
              "#7201a8"
             ],
             [
              0.3333333333333333,
              "#9c179e"
             ],
             [
              0.4444444444444444,
              "#bd3786"
             ],
             [
              0.5555555555555556,
              "#d8576b"
             ],
             [
              0.6666666666666666,
              "#ed7953"
             ],
             [
              0.7777777777777778,
              "#fb9f3a"
             ],
             [
              0.8888888888888888,
              "#fdca26"
             ],
             [
              1,
              "#f0f921"
             ]
            ],
            "type": "heatmap"
           }
          ],
          "heatmapgl": [
           {
            "colorbar": {
             "outlinewidth": 0,
             "ticks": ""
            },
            "colorscale": [
             [
              0,
              "#0d0887"
             ],
             [
              0.1111111111111111,
              "#46039f"
             ],
             [
              0.2222222222222222,
              "#7201a8"
             ],
             [
              0.3333333333333333,
              "#9c179e"
             ],
             [
              0.4444444444444444,
              "#bd3786"
             ],
             [
              0.5555555555555556,
              "#d8576b"
             ],
             [
              0.6666666666666666,
              "#ed7953"
             ],
             [
              0.7777777777777778,
              "#fb9f3a"
             ],
             [
              0.8888888888888888,
              "#fdca26"
             ],
             [
              1,
              "#f0f921"
             ]
            ],
            "type": "heatmapgl"
           }
          ],
          "histogram": [
           {
            "marker": {
             "pattern": {
              "fillmode": "overlay",
              "size": 10,
              "solidity": 0.2
             }
            },
            "type": "histogram"
           }
          ],
          "histogram2d": [
           {
            "colorbar": {
             "outlinewidth": 0,
             "ticks": ""
            },
            "colorscale": [
             [
              0,
              "#0d0887"
             ],
             [
              0.1111111111111111,
              "#46039f"
             ],
             [
              0.2222222222222222,
              "#7201a8"
             ],
             [
              0.3333333333333333,
              "#9c179e"
             ],
             [
              0.4444444444444444,
              "#bd3786"
             ],
             [
              0.5555555555555556,
              "#d8576b"
             ],
             [
              0.6666666666666666,
              "#ed7953"
             ],
             [
              0.7777777777777778,
              "#fb9f3a"
             ],
             [
              0.8888888888888888,
              "#fdca26"
             ],
             [
              1,
              "#f0f921"
             ]
            ],
            "type": "histogram2d"
           }
          ],
          "histogram2dcontour": [
           {
            "colorbar": {
             "outlinewidth": 0,
             "ticks": ""
            },
            "colorscale": [
             [
              0,
              "#0d0887"
             ],
             [
              0.1111111111111111,
              "#46039f"
             ],
             [
              0.2222222222222222,
              "#7201a8"
             ],
             [
              0.3333333333333333,
              "#9c179e"
             ],
             [
              0.4444444444444444,
              "#bd3786"
             ],
             [
              0.5555555555555556,
              "#d8576b"
             ],
             [
              0.6666666666666666,
              "#ed7953"
             ],
             [
              0.7777777777777778,
              "#fb9f3a"
             ],
             [
              0.8888888888888888,
              "#fdca26"
             ],
             [
              1,
              "#f0f921"
             ]
            ],
            "type": "histogram2dcontour"
           }
          ],
          "mesh3d": [
           {
            "colorbar": {
             "outlinewidth": 0,
             "ticks": ""
            },
            "type": "mesh3d"
           }
          ],
          "parcoords": [
           {
            "line": {
             "colorbar": {
              "outlinewidth": 0,
              "ticks": ""
             }
            },
            "type": "parcoords"
           }
          ],
          "pie": [
           {
            "automargin": true,
            "type": "pie"
           }
          ],
          "scatter": [
           {
            "marker": {
             "colorbar": {
              "outlinewidth": 0,
              "ticks": ""
             }
            },
            "type": "scatter"
           }
          ],
          "scatter3d": [
           {
            "line": {
             "colorbar": {
              "outlinewidth": 0,
              "ticks": ""
             }
            },
            "marker": {
             "colorbar": {
              "outlinewidth": 0,
              "ticks": ""
             }
            },
            "type": "scatter3d"
           }
          ],
          "scattercarpet": [
           {
            "marker": {
             "colorbar": {
              "outlinewidth": 0,
              "ticks": ""
             }
            },
            "type": "scattercarpet"
           }
          ],
          "scattergeo": [
           {
            "marker": {
             "colorbar": {
              "outlinewidth": 0,
              "ticks": ""
             }
            },
            "type": "scattergeo"
           }
          ],
          "scattergl": [
           {
            "marker": {
             "colorbar": {
              "outlinewidth": 0,
              "ticks": ""
             }
            },
            "type": "scattergl"
           }
          ],
          "scattermapbox": [
           {
            "marker": {
             "colorbar": {
              "outlinewidth": 0,
              "ticks": ""
             }
            },
            "type": "scattermapbox"
           }
          ],
          "scatterpolar": [
           {
            "marker": {
             "colorbar": {
              "outlinewidth": 0,
              "ticks": ""
             }
            },
            "type": "scatterpolar"
           }
          ],
          "scatterpolargl": [
           {
            "marker": {
             "colorbar": {
              "outlinewidth": 0,
              "ticks": ""
             }
            },
            "type": "scatterpolargl"
           }
          ],
          "scatterternary": [
           {
            "marker": {
             "colorbar": {
              "outlinewidth": 0,
              "ticks": ""
             }
            },
            "type": "scatterternary"
           }
          ],
          "surface": [
           {
            "colorbar": {
             "outlinewidth": 0,
             "ticks": ""
            },
            "colorscale": [
             [
              0,
              "#0d0887"
             ],
             [
              0.1111111111111111,
              "#46039f"
             ],
             [
              0.2222222222222222,
              "#7201a8"
             ],
             [
              0.3333333333333333,
              "#9c179e"
             ],
             [
              0.4444444444444444,
              "#bd3786"
             ],
             [
              0.5555555555555556,
              "#d8576b"
             ],
             [
              0.6666666666666666,
              "#ed7953"
             ],
             [
              0.7777777777777778,
              "#fb9f3a"
             ],
             [
              0.8888888888888888,
              "#fdca26"
             ],
             [
              1,
              "#f0f921"
             ]
            ],
            "type": "surface"
           }
          ],
          "table": [
           {
            "cells": {
             "fill": {
              "color": "#EBF0F8"
             },
             "line": {
              "color": "white"
             }
            },
            "header": {
             "fill": {
              "color": "#C8D4E3"
             },
             "line": {
              "color": "white"
             }
            },
            "type": "table"
           }
          ]
         },
         "layout": {
          "annotationdefaults": {
           "arrowcolor": "#2a3f5f",
           "arrowhead": 0,
           "arrowwidth": 1
          },
          "autotypenumbers": "strict",
          "coloraxis": {
           "colorbar": {
            "outlinewidth": 0,
            "ticks": ""
           }
          },
          "colorscale": {
           "diverging": [
            [
             0,
             "#8e0152"
            ],
            [
             0.1,
             "#c51b7d"
            ],
            [
             0.2,
             "#de77ae"
            ],
            [
             0.3,
             "#f1b6da"
            ],
            [
             0.4,
             "#fde0ef"
            ],
            [
             0.5,
             "#f7f7f7"
            ],
            [
             0.6,
             "#e6f5d0"
            ],
            [
             0.7,
             "#b8e186"
            ],
            [
             0.8,
             "#7fbc41"
            ],
            [
             0.9,
             "#4d9221"
            ],
            [
             1,
             "#276419"
            ]
           ],
           "sequential": [
            [
             0,
             "#0d0887"
            ],
            [
             0.1111111111111111,
             "#46039f"
            ],
            [
             0.2222222222222222,
             "#7201a8"
            ],
            [
             0.3333333333333333,
             "#9c179e"
            ],
            [
             0.4444444444444444,
             "#bd3786"
            ],
            [
             0.5555555555555556,
             "#d8576b"
            ],
            [
             0.6666666666666666,
             "#ed7953"
            ],
            [
             0.7777777777777778,
             "#fb9f3a"
            ],
            [
             0.8888888888888888,
             "#fdca26"
            ],
            [
             1,
             "#f0f921"
            ]
           ],
           "sequentialminus": [
            [
             0,
             "#0d0887"
            ],
            [
             0.1111111111111111,
             "#46039f"
            ],
            [
             0.2222222222222222,
             "#7201a8"
            ],
            [
             0.3333333333333333,
             "#9c179e"
            ],
            [
             0.4444444444444444,
             "#bd3786"
            ],
            [
             0.5555555555555556,
             "#d8576b"
            ],
            [
             0.6666666666666666,
             "#ed7953"
            ],
            [
             0.7777777777777778,
             "#fb9f3a"
            ],
            [
             0.8888888888888888,
             "#fdca26"
            ],
            [
             1,
             "#f0f921"
            ]
           ]
          },
          "colorway": [
           "#636efa",
           "#EF553B",
           "#00cc96",
           "#ab63fa",
           "#FFA15A",
           "#19d3f3",
           "#FF6692",
           "#B6E880",
           "#FF97FF",
           "#FECB52"
          ],
          "font": {
           "color": "#2a3f5f"
          },
          "geo": {
           "bgcolor": "white",
           "lakecolor": "white",
           "landcolor": "#E5ECF6",
           "showlakes": true,
           "showland": true,
           "subunitcolor": "white"
          },
          "hoverlabel": {
           "align": "left"
          },
          "hovermode": "closest",
          "mapbox": {
           "style": "light"
          },
          "paper_bgcolor": "white",
          "plot_bgcolor": "#E5ECF6",
          "polar": {
           "angularaxis": {
            "gridcolor": "white",
            "linecolor": "white",
            "ticks": ""
           },
           "bgcolor": "#E5ECF6",
           "radialaxis": {
            "gridcolor": "white",
            "linecolor": "white",
            "ticks": ""
           }
          },
          "scene": {
           "xaxis": {
            "backgroundcolor": "#E5ECF6",
            "gridcolor": "white",
            "gridwidth": 2,
            "linecolor": "white",
            "showbackground": true,
            "ticks": "",
            "zerolinecolor": "white"
           },
           "yaxis": {
            "backgroundcolor": "#E5ECF6",
            "gridcolor": "white",
            "gridwidth": 2,
            "linecolor": "white",
            "showbackground": true,
            "ticks": "",
            "zerolinecolor": "white"
           },
           "zaxis": {
            "backgroundcolor": "#E5ECF6",
            "gridcolor": "white",
            "gridwidth": 2,
            "linecolor": "white",
            "showbackground": true,
            "ticks": "",
            "zerolinecolor": "white"
           }
          },
          "shapedefaults": {
           "line": {
            "color": "#2a3f5f"
           }
          },
          "ternary": {
           "aaxis": {
            "gridcolor": "white",
            "linecolor": "white",
            "ticks": ""
           },
           "baxis": {
            "gridcolor": "white",
            "linecolor": "white",
            "ticks": ""
           },
           "bgcolor": "#E5ECF6",
           "caxis": {
            "gridcolor": "white",
            "linecolor": "white",
            "ticks": ""
           }
          },
          "title": {
           "x": 0.05
          },
          "xaxis": {
           "automargin": true,
           "gridcolor": "white",
           "linecolor": "white",
           "ticks": "",
           "title": {
            "standoff": 15
           },
           "zerolinecolor": "white",
           "zerolinewidth": 2
          },
          "yaxis": {
           "automargin": true,
           "gridcolor": "white",
           "linecolor": "white",
           "ticks": "",
           "title": {
            "standoff": 15
           },
           "zerolinecolor": "white",
           "zerolinewidth": 2
          }
         }
        },
        "title": {
         "text": "Günlük Ortalama Satış Adedi"
        },
        "xaxis": {
         "showgrid": false
        },
        "yaxis": {
         "showgrid": false
        }
       }
      },
      "text/html": [
       "<div>                            <div id=\"fdd66203-9ffd-4179-abe5-0c5b289c250a\" class=\"plotly-graph-div\" style=\"height:300px; width:100%;\"></div>            <script type=\"text/javascript\">                require([\"plotly\"], function(Plotly) {                    window.PLOTLYENV=window.PLOTLYENV || {};                                    if (document.getElementById(\"fdd66203-9ffd-4179-abe5-0c5b289c250a\")) {                    Plotly.newPlot(                        \"fdd66203-9ffd-4179-abe5-0c5b289c250a\",                        [{\"fill\":\"tozeroy\",\"fillcolor\":\"#FAA831\",\"line\":{\"color\":\"#bA6800\"},\"type\":\"scatter\",\"x\":[\"2013-01-01T00:00:00\",\"2013-01-02T00:00:00\",\"2013-01-03T00:00:00\",\"2013-01-04T00:00:00\",\"2013-01-05T00:00:00\",\"2013-01-06T00:00:00\",\"2013-01-07T00:00:00\",\"2013-01-08T00:00:00\",\"2013-01-09T00:00:00\",\"2013-01-10T00:00:00\",\"2013-01-11T00:00:00\",\"2013-01-12T00:00:00\",\"2013-01-13T00:00:00\",\"2013-01-14T00:00:00\",\"2013-01-15T00:00:00\",\"2013-01-16T00:00:00\",\"2013-01-17T00:00:00\",\"2013-01-18T00:00:00\",\"2013-01-19T00:00:00\",\"2013-01-20T00:00:00\",\"2013-01-21T00:00:00\",\"2013-01-22T00:00:00\",\"2013-01-23T00:00:00\",\"2013-01-24T00:00:00\",\"2013-01-25T00:00:00\",\"2013-01-26T00:00:00\",\"2013-01-27T00:00:00\",\"2013-01-28T00:00:00\",\"2013-01-29T00:00:00\",\"2013-01-30T00:00:00\",\"2013-01-31T00:00:00\",\"2013-02-01T00:00:00\",\"2013-02-02T00:00:00\",\"2013-02-03T00:00:00\",\"2013-02-04T00:00:00\",\"2013-02-05T00:00:00\",\"2013-02-06T00:00:00\",\"2013-02-07T00:00:00\",\"2013-02-08T00:00:00\",\"2013-02-09T00:00:00\",\"2013-02-10T00:00:00\",\"2013-02-11T00:00:00\",\"2013-02-12T00:00:00\",\"2013-02-13T00:00:00\",\"2013-02-14T00:00:00\",\"2013-02-15T00:00:00\",\"2013-02-16T00:00:00\",\"2013-02-17T00:00:00\",\"2013-02-18T00:00:00\",\"2013-02-19T00:00:00\",\"2013-02-20T00:00:00\",\"2013-02-21T00:00:00\",\"2013-02-22T00:00:00\",\"2013-02-23T00:00:00\",\"2013-02-24T00:00:00\",\"2013-02-25T00:00:00\",\"2013-02-26T00:00:00\",\"2013-02-27T00:00:00\",\"2013-02-28T00:00:00\",\"2013-03-01T00:00:00\",\"2013-03-02T00:00:00\",\"2013-03-03T00:00:00\",\"2013-03-04T00:00:00\",\"2013-03-05T00:00:00\",\"2013-03-06T00:00:00\",\"2013-03-07T00:00:00\",\"2013-03-08T00:00:00\",\"2013-03-09T00:00:00\",\"2013-03-10T00:00:00\",\"2013-03-11T00:00:00\",\"2013-03-12T00:00:00\",\"2013-03-13T00:00:00\",\"2013-03-14T00:00:00\",\"2013-03-15T00:00:00\",\"2013-03-16T00:00:00\",\"2013-03-17T00:00:00\",\"2013-03-18T00:00:00\",\"2013-03-19T00:00:00\",\"2013-03-20T00:00:00\",\"2013-03-21T00:00:00\",\"2013-03-22T00:00:00\",\"2013-03-23T00:00:00\",\"2013-03-24T00:00:00\",\"2013-03-25T00:00:00\",\"2013-03-26T00:00:00\",\"2013-03-27T00:00:00\",\"2013-03-28T00:00:00\",\"2013-03-29T00:00:00\",\"2013-03-30T00:00:00\",\"2013-03-31T00:00:00\",\"2013-04-01T00:00:00\",\"2013-04-02T00:00:00\",\"2013-04-03T00:00:00\",\"2013-04-04T00:00:00\",\"2013-04-05T00:00:00\",\"2013-04-06T00:00:00\",\"2013-04-07T00:00:00\",\"2013-04-08T00:00:00\",\"2013-04-09T00:00:00\",\"2013-04-10T00:00:00\",\"2013-04-11T00:00:00\",\"2013-04-12T00:00:00\",\"2013-04-13T00:00:00\",\"2013-04-14T00:00:00\",\"2013-04-15T00:00:00\",\"2013-04-16T00:00:00\",\"2013-04-17T00:00:00\",\"2013-04-18T00:00:00\",\"2013-04-19T00:00:00\",\"2013-04-20T00:00:00\",\"2013-04-21T00:00:00\",\"2013-04-22T00:00:00\",\"2013-04-23T00:00:00\",\"2013-04-24T00:00:00\",\"2013-04-25T00:00:00\",\"2013-04-26T00:00:00\",\"2013-04-27T00:00:00\",\"2013-04-28T00:00:00\",\"2013-04-29T00:00:00\",\"2013-04-30T00:00:00\",\"2013-05-01T00:00:00\",\"2013-05-02T00:00:00\",\"2013-05-03T00:00:00\",\"2013-05-04T00:00:00\",\"2013-05-05T00:00:00\",\"2013-05-06T00:00:00\",\"2013-05-07T00:00:00\",\"2013-05-08T00:00:00\",\"2013-05-09T00:00:00\",\"2013-05-10T00:00:00\",\"2013-05-11T00:00:00\",\"2013-05-12T00:00:00\",\"2013-05-13T00:00:00\",\"2013-05-14T00:00:00\",\"2013-05-15T00:00:00\",\"2013-05-16T00:00:00\",\"2013-05-17T00:00:00\",\"2013-05-18T00:00:00\",\"2013-05-19T00:00:00\",\"2013-05-20T00:00:00\",\"2013-05-21T00:00:00\",\"2013-05-22T00:00:00\",\"2013-05-23T00:00:00\",\"2013-05-24T00:00:00\",\"2013-05-25T00:00:00\",\"2013-05-26T00:00:00\",\"2013-05-27T00:00:00\",\"2013-05-28T00:00:00\",\"2013-05-29T00:00:00\",\"2013-05-30T00:00:00\",\"2013-05-31T00:00:00\",\"2013-06-01T00:00:00\",\"2013-06-02T00:00:00\",\"2013-06-03T00:00:00\",\"2013-06-04T00:00:00\",\"2013-06-05T00:00:00\",\"2013-06-06T00:00:00\",\"2013-06-07T00:00:00\",\"2013-06-08T00:00:00\",\"2013-06-09T00:00:00\",\"2013-06-10T00:00:00\",\"2013-06-11T00:00:00\",\"2013-06-12T00:00:00\",\"2013-06-13T00:00:00\",\"2013-06-14T00:00:00\",\"2013-06-15T00:00:00\",\"2013-06-16T00:00:00\",\"2013-06-17T00:00:00\",\"2013-06-18T00:00:00\",\"2013-06-19T00:00:00\",\"2013-06-20T00:00:00\",\"2013-06-21T00:00:00\",\"2013-06-22T00:00:00\",\"2013-06-23T00:00:00\",\"2013-06-24T00:00:00\",\"2013-06-25T00:00:00\",\"2013-06-26T00:00:00\",\"2013-06-27T00:00:00\",\"2013-06-28T00:00:00\",\"2013-06-29T00:00:00\",\"2013-06-30T00:00:00\",\"2013-07-01T00:00:00\",\"2013-07-02T00:00:00\",\"2013-07-03T00:00:00\",\"2013-07-04T00:00:00\",\"2013-07-05T00:00:00\",\"2013-07-06T00:00:00\",\"2013-07-07T00:00:00\",\"2013-07-08T00:00:00\",\"2013-07-09T00:00:00\",\"2013-07-10T00:00:00\",\"2013-07-11T00:00:00\",\"2013-07-12T00:00:00\",\"2013-07-13T00:00:00\",\"2013-07-14T00:00:00\",\"2013-07-15T00:00:00\",\"2013-07-16T00:00:00\",\"2013-07-17T00:00:00\",\"2013-07-18T00:00:00\",\"2013-07-19T00:00:00\",\"2013-07-20T00:00:00\",\"2013-07-21T00:00:00\",\"2013-07-22T00:00:00\",\"2013-07-23T00:00:00\",\"2013-07-24T00:00:00\",\"2013-07-25T00:00:00\",\"2013-07-26T00:00:00\",\"2013-07-27T00:00:00\",\"2013-07-28T00:00:00\",\"2013-07-29T00:00:00\",\"2013-07-30T00:00:00\",\"2013-07-31T00:00:00\",\"2013-08-01T00:00:00\",\"2013-08-02T00:00:00\",\"2013-08-03T00:00:00\",\"2013-08-04T00:00:00\",\"2013-08-05T00:00:00\",\"2013-08-06T00:00:00\",\"2013-08-07T00:00:00\",\"2013-08-08T00:00:00\",\"2013-08-09T00:00:00\",\"2013-08-10T00:00:00\",\"2013-08-11T00:00:00\",\"2013-08-12T00:00:00\",\"2013-08-13T00:00:00\",\"2013-08-14T00:00:00\",\"2013-08-15T00:00:00\",\"2013-08-16T00:00:00\",\"2013-08-17T00:00:00\",\"2013-08-18T00:00:00\",\"2013-08-19T00:00:00\",\"2013-08-20T00:00:00\",\"2013-08-21T00:00:00\",\"2013-08-22T00:00:00\",\"2013-08-23T00:00:00\",\"2013-08-24T00:00:00\",\"2013-08-25T00:00:00\",\"2013-08-26T00:00:00\",\"2013-08-27T00:00:00\",\"2013-08-28T00:00:00\",\"2013-08-29T00:00:00\",\"2013-08-30T00:00:00\",\"2013-08-31T00:00:00\",\"2013-09-01T00:00:00\",\"2013-09-02T00:00:00\",\"2013-09-03T00:00:00\",\"2013-09-04T00:00:00\",\"2013-09-05T00:00:00\",\"2013-09-06T00:00:00\",\"2013-09-07T00:00:00\",\"2013-09-08T00:00:00\",\"2013-09-09T00:00:00\",\"2013-09-10T00:00:00\",\"2013-09-11T00:00:00\",\"2013-09-12T00:00:00\",\"2013-09-13T00:00:00\",\"2013-09-14T00:00:00\",\"2013-09-15T00:00:00\",\"2013-09-16T00:00:00\",\"2013-09-17T00:00:00\",\"2013-09-18T00:00:00\",\"2013-09-19T00:00:00\",\"2013-09-20T00:00:00\",\"2013-09-21T00:00:00\",\"2013-09-22T00:00:00\",\"2013-09-23T00:00:00\",\"2013-09-24T00:00:00\",\"2013-09-25T00:00:00\",\"2013-09-26T00:00:00\",\"2013-09-27T00:00:00\",\"2013-09-28T00:00:00\",\"2013-09-29T00:00:00\",\"2013-09-30T00:00:00\",\"2013-10-01T00:00:00\",\"2013-10-02T00:00:00\",\"2013-10-03T00:00:00\",\"2013-10-04T00:00:00\",\"2013-10-05T00:00:00\",\"2013-10-06T00:00:00\",\"2013-10-07T00:00:00\",\"2013-10-08T00:00:00\",\"2013-10-09T00:00:00\",\"2013-10-10T00:00:00\",\"2013-10-11T00:00:00\",\"2013-10-12T00:00:00\",\"2013-10-13T00:00:00\",\"2013-10-14T00:00:00\",\"2013-10-15T00:00:00\",\"2013-10-16T00:00:00\",\"2013-10-17T00:00:00\",\"2013-10-18T00:00:00\",\"2013-10-19T00:00:00\",\"2013-10-20T00:00:00\",\"2013-10-21T00:00:00\",\"2013-10-22T00:00:00\",\"2013-10-23T00:00:00\",\"2013-10-24T00:00:00\",\"2013-10-25T00:00:00\",\"2013-10-26T00:00:00\",\"2013-10-27T00:00:00\",\"2013-10-28T00:00:00\",\"2013-10-29T00:00:00\",\"2013-10-30T00:00:00\",\"2013-10-31T00:00:00\",\"2013-11-01T00:00:00\",\"2013-11-02T00:00:00\",\"2013-11-03T00:00:00\",\"2013-11-04T00:00:00\",\"2013-11-05T00:00:00\",\"2013-11-06T00:00:00\",\"2013-11-07T00:00:00\",\"2013-11-08T00:00:00\",\"2013-11-09T00:00:00\",\"2013-11-10T00:00:00\",\"2013-11-11T00:00:00\",\"2013-11-12T00:00:00\",\"2013-11-13T00:00:00\",\"2013-11-14T00:00:00\",\"2013-11-15T00:00:00\",\"2013-11-16T00:00:00\",\"2013-11-17T00:00:00\",\"2013-11-18T00:00:00\",\"2013-11-19T00:00:00\",\"2013-11-20T00:00:00\",\"2013-11-21T00:00:00\",\"2013-11-22T00:00:00\",\"2013-11-23T00:00:00\",\"2013-11-24T00:00:00\",\"2013-11-25T00:00:00\",\"2013-11-26T00:00:00\",\"2013-11-27T00:00:00\",\"2013-11-28T00:00:00\",\"2013-11-29T00:00:00\",\"2013-11-30T00:00:00\",\"2013-12-01T00:00:00\",\"2013-12-02T00:00:00\",\"2013-12-03T00:00:00\",\"2013-12-04T00:00:00\",\"2013-12-05T00:00:00\",\"2013-12-06T00:00:00\",\"2013-12-07T00:00:00\",\"2013-12-08T00:00:00\",\"2013-12-09T00:00:00\",\"2013-12-10T00:00:00\",\"2013-12-11T00:00:00\",\"2013-12-12T00:00:00\",\"2013-12-13T00:00:00\",\"2013-12-14T00:00:00\",\"2013-12-15T00:00:00\",\"2013-12-16T00:00:00\",\"2013-12-17T00:00:00\",\"2013-12-18T00:00:00\",\"2013-12-19T00:00:00\",\"2013-12-20T00:00:00\",\"2013-12-21T00:00:00\",\"2013-12-22T00:00:00\",\"2013-12-23T00:00:00\",\"2013-12-24T00:00:00\",\"2013-12-26T00:00:00\",\"2013-12-27T00:00:00\",\"2013-12-28T00:00:00\",\"2013-12-29T00:00:00\",\"2013-12-30T00:00:00\",\"2013-12-31T00:00:00\",\"2014-01-01T00:00:00\",\"2014-01-02T00:00:00\",\"2014-01-03T00:00:00\",\"2014-01-04T00:00:00\",\"2014-01-05T00:00:00\",\"2014-01-06T00:00:00\",\"2014-01-07T00:00:00\",\"2014-01-08T00:00:00\",\"2014-01-09T00:00:00\",\"2014-01-10T00:00:00\",\"2014-01-11T00:00:00\",\"2014-01-12T00:00:00\",\"2014-01-13T00:00:00\",\"2014-01-14T00:00:00\",\"2014-01-15T00:00:00\",\"2014-01-16T00:00:00\",\"2014-01-17T00:00:00\",\"2014-01-18T00:00:00\",\"2014-01-19T00:00:00\",\"2014-01-20T00:00:00\",\"2014-01-21T00:00:00\",\"2014-01-22T00:00:00\",\"2014-01-23T00:00:00\",\"2014-01-24T00:00:00\",\"2014-01-25T00:00:00\",\"2014-01-26T00:00:00\",\"2014-01-27T00:00:00\",\"2014-01-28T00:00:00\",\"2014-01-29T00:00:00\",\"2014-01-30T00:00:00\",\"2014-01-31T00:00:00\",\"2014-02-01T00:00:00\",\"2014-02-02T00:00:00\",\"2014-02-03T00:00:00\",\"2014-02-04T00:00:00\",\"2014-02-05T00:00:00\",\"2014-02-06T00:00:00\",\"2014-02-07T00:00:00\",\"2014-02-08T00:00:00\",\"2014-02-09T00:00:00\",\"2014-02-10T00:00:00\",\"2014-02-11T00:00:00\",\"2014-02-12T00:00:00\",\"2014-02-13T00:00:00\",\"2014-02-14T00:00:00\",\"2014-02-15T00:00:00\",\"2014-02-16T00:00:00\",\"2014-02-17T00:00:00\",\"2014-02-18T00:00:00\",\"2014-02-19T00:00:00\",\"2014-02-20T00:00:00\",\"2014-02-21T00:00:00\",\"2014-02-22T00:00:00\",\"2014-02-23T00:00:00\",\"2014-02-24T00:00:00\",\"2014-02-25T00:00:00\",\"2014-02-26T00:00:00\",\"2014-02-27T00:00:00\",\"2014-02-28T00:00:00\",\"2014-03-01T00:00:00\",\"2014-03-02T00:00:00\",\"2014-03-03T00:00:00\",\"2014-03-04T00:00:00\",\"2014-03-05T00:00:00\",\"2014-03-06T00:00:00\",\"2014-03-07T00:00:00\",\"2014-03-08T00:00:00\",\"2014-03-09T00:00:00\",\"2014-03-10T00:00:00\",\"2014-03-11T00:00:00\",\"2014-03-12T00:00:00\",\"2014-03-13T00:00:00\",\"2014-03-14T00:00:00\",\"2014-03-15T00:00:00\",\"2014-03-16T00:00:00\",\"2014-03-17T00:00:00\",\"2014-03-18T00:00:00\",\"2014-03-19T00:00:00\",\"2014-03-20T00:00:00\",\"2014-03-21T00:00:00\",\"2014-03-22T00:00:00\",\"2014-03-23T00:00:00\",\"2014-03-24T00:00:00\",\"2014-03-25T00:00:00\",\"2014-03-26T00:00:00\",\"2014-03-27T00:00:00\",\"2014-03-28T00:00:00\",\"2014-03-29T00:00:00\",\"2014-03-30T00:00:00\",\"2014-03-31T00:00:00\",\"2014-04-01T00:00:00\",\"2014-04-02T00:00:00\",\"2014-04-03T00:00:00\",\"2014-04-04T00:00:00\",\"2014-04-05T00:00:00\",\"2014-04-06T00:00:00\",\"2014-04-07T00:00:00\",\"2014-04-08T00:00:00\",\"2014-04-09T00:00:00\",\"2014-04-10T00:00:00\",\"2014-04-11T00:00:00\",\"2014-04-12T00:00:00\",\"2014-04-13T00:00:00\",\"2014-04-14T00:00:00\",\"2014-04-15T00:00:00\",\"2014-04-16T00:00:00\",\"2014-04-17T00:00:00\",\"2014-04-18T00:00:00\",\"2014-04-19T00:00:00\",\"2014-04-20T00:00:00\",\"2014-04-21T00:00:00\",\"2014-04-22T00:00:00\",\"2014-04-23T00:00:00\",\"2014-04-24T00:00:00\",\"2014-04-25T00:00:00\",\"2014-04-26T00:00:00\",\"2014-04-27T00:00:00\",\"2014-04-28T00:00:00\",\"2014-04-29T00:00:00\",\"2014-04-30T00:00:00\",\"2014-05-01T00:00:00\",\"2014-05-02T00:00:00\",\"2014-05-03T00:00:00\",\"2014-05-04T00:00:00\",\"2014-05-05T00:00:00\",\"2014-05-06T00:00:00\",\"2014-05-07T00:00:00\",\"2014-05-08T00:00:00\",\"2014-05-09T00:00:00\",\"2014-05-10T00:00:00\",\"2014-05-11T00:00:00\",\"2014-05-12T00:00:00\",\"2014-05-13T00:00:00\",\"2014-05-14T00:00:00\",\"2014-05-15T00:00:00\",\"2014-05-16T00:00:00\",\"2014-05-17T00:00:00\",\"2014-05-18T00:00:00\",\"2014-05-19T00:00:00\",\"2014-05-20T00:00:00\",\"2014-05-21T00:00:00\",\"2014-05-22T00:00:00\",\"2014-05-23T00:00:00\",\"2014-05-24T00:00:00\",\"2014-05-25T00:00:00\",\"2014-05-26T00:00:00\",\"2014-05-27T00:00:00\",\"2014-05-28T00:00:00\",\"2014-05-29T00:00:00\",\"2014-05-30T00:00:00\",\"2014-05-31T00:00:00\",\"2014-06-01T00:00:00\",\"2014-06-02T00:00:00\",\"2014-06-03T00:00:00\",\"2014-06-04T00:00:00\",\"2014-06-05T00:00:00\",\"2014-06-06T00:00:00\",\"2014-06-07T00:00:00\",\"2014-06-08T00:00:00\",\"2014-06-09T00:00:00\",\"2014-06-10T00:00:00\",\"2014-06-11T00:00:00\",\"2014-06-12T00:00:00\",\"2014-06-13T00:00:00\",\"2014-06-14T00:00:00\",\"2014-06-15T00:00:00\",\"2014-06-16T00:00:00\",\"2014-06-17T00:00:00\",\"2014-06-18T00:00:00\",\"2014-06-19T00:00:00\",\"2014-06-20T00:00:00\",\"2014-06-21T00:00:00\",\"2014-06-22T00:00:00\",\"2014-06-23T00:00:00\",\"2014-06-24T00:00:00\",\"2014-06-25T00:00:00\",\"2014-06-26T00:00:00\",\"2014-06-27T00:00:00\",\"2014-06-28T00:00:00\",\"2014-06-29T00:00:00\",\"2014-06-30T00:00:00\",\"2014-07-01T00:00:00\",\"2014-07-02T00:00:00\",\"2014-07-03T00:00:00\",\"2014-07-04T00:00:00\",\"2014-07-05T00:00:00\",\"2014-07-06T00:00:00\",\"2014-07-07T00:00:00\",\"2014-07-08T00:00:00\",\"2014-07-09T00:00:00\",\"2014-07-10T00:00:00\",\"2014-07-11T00:00:00\",\"2014-07-12T00:00:00\",\"2014-07-13T00:00:00\",\"2014-07-14T00:00:00\",\"2014-07-15T00:00:00\",\"2014-07-16T00:00:00\",\"2014-07-17T00:00:00\",\"2014-07-18T00:00:00\",\"2014-07-19T00:00:00\",\"2014-07-20T00:00:00\",\"2014-07-21T00:00:00\",\"2014-07-22T00:00:00\",\"2014-07-23T00:00:00\",\"2014-07-24T00:00:00\",\"2014-07-25T00:00:00\",\"2014-07-26T00:00:00\",\"2014-07-27T00:00:00\",\"2014-07-28T00:00:00\",\"2014-07-29T00:00:00\",\"2014-07-30T00:00:00\",\"2014-07-31T00:00:00\",\"2014-08-01T00:00:00\",\"2014-08-02T00:00:00\",\"2014-08-03T00:00:00\",\"2014-08-04T00:00:00\",\"2014-08-05T00:00:00\",\"2014-08-06T00:00:00\",\"2014-08-07T00:00:00\",\"2014-08-08T00:00:00\",\"2014-08-09T00:00:00\",\"2014-08-10T00:00:00\",\"2014-08-11T00:00:00\",\"2014-08-12T00:00:00\",\"2014-08-13T00:00:00\",\"2014-08-14T00:00:00\",\"2014-08-15T00:00:00\",\"2014-08-16T00:00:00\",\"2014-08-17T00:00:00\",\"2014-08-18T00:00:00\",\"2014-08-19T00:00:00\",\"2014-08-20T00:00:00\",\"2014-08-21T00:00:00\",\"2014-08-22T00:00:00\",\"2014-08-23T00:00:00\",\"2014-08-24T00:00:00\",\"2014-08-25T00:00:00\",\"2014-08-26T00:00:00\",\"2014-08-27T00:00:00\",\"2014-08-28T00:00:00\",\"2014-08-29T00:00:00\",\"2014-08-30T00:00:00\",\"2014-08-31T00:00:00\",\"2014-09-01T00:00:00\",\"2014-09-02T00:00:00\",\"2014-09-03T00:00:00\",\"2014-09-04T00:00:00\",\"2014-09-05T00:00:00\",\"2014-09-06T00:00:00\",\"2014-09-07T00:00:00\",\"2014-09-08T00:00:00\",\"2014-09-09T00:00:00\",\"2014-09-10T00:00:00\",\"2014-09-11T00:00:00\",\"2014-09-12T00:00:00\",\"2014-09-13T00:00:00\",\"2014-09-14T00:00:00\",\"2014-09-15T00:00:00\",\"2014-09-16T00:00:00\",\"2014-09-17T00:00:00\",\"2014-09-18T00:00:00\",\"2014-09-19T00:00:00\",\"2014-09-20T00:00:00\",\"2014-09-21T00:00:00\",\"2014-09-22T00:00:00\",\"2014-09-23T00:00:00\",\"2014-09-24T00:00:00\",\"2014-09-25T00:00:00\",\"2014-09-26T00:00:00\",\"2014-09-27T00:00:00\",\"2014-09-28T00:00:00\",\"2014-09-29T00:00:00\",\"2014-09-30T00:00:00\",\"2014-10-01T00:00:00\",\"2014-10-02T00:00:00\",\"2014-10-03T00:00:00\",\"2014-10-04T00:00:00\",\"2014-10-05T00:00:00\",\"2014-10-06T00:00:00\",\"2014-10-07T00:00:00\",\"2014-10-08T00:00:00\",\"2014-10-09T00:00:00\",\"2014-10-10T00:00:00\",\"2014-10-11T00:00:00\",\"2014-10-12T00:00:00\",\"2014-10-13T00:00:00\",\"2014-10-14T00:00:00\",\"2014-10-15T00:00:00\",\"2014-10-16T00:00:00\",\"2014-10-17T00:00:00\",\"2014-10-18T00:00:00\",\"2014-10-19T00:00:00\",\"2014-10-20T00:00:00\",\"2014-10-21T00:00:00\",\"2014-10-22T00:00:00\",\"2014-10-23T00:00:00\",\"2014-10-24T00:00:00\",\"2014-10-25T00:00:00\",\"2014-10-26T00:00:00\",\"2014-10-27T00:00:00\",\"2014-10-28T00:00:00\",\"2014-10-29T00:00:00\",\"2014-10-30T00:00:00\",\"2014-10-31T00:00:00\",\"2014-11-01T00:00:00\",\"2014-11-02T00:00:00\",\"2014-11-03T00:00:00\",\"2014-11-04T00:00:00\",\"2014-11-05T00:00:00\",\"2014-11-06T00:00:00\",\"2014-11-07T00:00:00\",\"2014-11-08T00:00:00\",\"2014-11-09T00:00:00\",\"2014-11-10T00:00:00\",\"2014-11-11T00:00:00\",\"2014-11-12T00:00:00\",\"2014-11-13T00:00:00\",\"2014-11-14T00:00:00\",\"2014-11-15T00:00:00\",\"2014-11-16T00:00:00\",\"2014-11-17T00:00:00\",\"2014-11-18T00:00:00\",\"2014-11-19T00:00:00\",\"2014-11-20T00:00:00\",\"2014-11-21T00:00:00\",\"2014-11-22T00:00:00\",\"2014-11-23T00:00:00\",\"2014-11-24T00:00:00\",\"2014-11-25T00:00:00\",\"2014-11-26T00:00:00\",\"2014-11-27T00:00:00\",\"2014-11-28T00:00:00\",\"2014-11-29T00:00:00\",\"2014-11-30T00:00:00\",\"2014-12-01T00:00:00\",\"2014-12-02T00:00:00\",\"2014-12-03T00:00:00\",\"2014-12-04T00:00:00\",\"2014-12-05T00:00:00\",\"2014-12-06T00:00:00\",\"2014-12-07T00:00:00\",\"2014-12-08T00:00:00\",\"2014-12-09T00:00:00\",\"2014-12-10T00:00:00\",\"2014-12-11T00:00:00\",\"2014-12-12T00:00:00\",\"2014-12-13T00:00:00\",\"2014-12-14T00:00:00\",\"2014-12-15T00:00:00\",\"2014-12-16T00:00:00\",\"2014-12-17T00:00:00\",\"2014-12-18T00:00:00\",\"2014-12-19T00:00:00\",\"2014-12-20T00:00:00\",\"2014-12-21T00:00:00\",\"2014-12-22T00:00:00\",\"2014-12-23T00:00:00\",\"2014-12-24T00:00:00\",\"2014-12-26T00:00:00\",\"2014-12-27T00:00:00\",\"2014-12-28T00:00:00\",\"2014-12-29T00:00:00\",\"2014-12-30T00:00:00\",\"2014-12-31T00:00:00\",\"2015-01-01T00:00:00\",\"2015-01-02T00:00:00\",\"2015-01-03T00:00:00\",\"2015-01-04T00:00:00\",\"2015-01-05T00:00:00\",\"2015-01-06T00:00:00\",\"2015-01-07T00:00:00\",\"2015-01-08T00:00:00\",\"2015-01-09T00:00:00\",\"2015-01-10T00:00:00\",\"2015-01-11T00:00:00\",\"2015-01-12T00:00:00\",\"2015-01-13T00:00:00\",\"2015-01-14T00:00:00\",\"2015-01-15T00:00:00\",\"2015-01-16T00:00:00\",\"2015-01-17T00:00:00\",\"2015-01-18T00:00:00\",\"2015-01-19T00:00:00\",\"2015-01-20T00:00:00\",\"2015-01-21T00:00:00\",\"2015-01-22T00:00:00\",\"2015-01-23T00:00:00\",\"2015-01-24T00:00:00\",\"2015-01-25T00:00:00\",\"2015-01-26T00:00:00\",\"2015-01-27T00:00:00\",\"2015-01-28T00:00:00\",\"2015-01-29T00:00:00\",\"2015-01-30T00:00:00\",\"2015-01-31T00:00:00\",\"2015-02-01T00:00:00\",\"2015-02-02T00:00:00\",\"2015-02-03T00:00:00\",\"2015-02-04T00:00:00\",\"2015-02-05T00:00:00\",\"2015-02-06T00:00:00\",\"2015-02-07T00:00:00\",\"2015-02-08T00:00:00\",\"2015-02-09T00:00:00\",\"2015-02-10T00:00:00\",\"2015-02-11T00:00:00\",\"2015-02-12T00:00:00\",\"2015-02-13T00:00:00\",\"2015-02-14T00:00:00\",\"2015-02-15T00:00:00\",\"2015-02-16T00:00:00\",\"2015-02-17T00:00:00\",\"2015-02-18T00:00:00\",\"2015-02-19T00:00:00\",\"2015-02-20T00:00:00\",\"2015-02-21T00:00:00\",\"2015-02-22T00:00:00\",\"2015-02-23T00:00:00\",\"2015-02-24T00:00:00\",\"2015-02-25T00:00:00\",\"2015-02-26T00:00:00\",\"2015-02-27T00:00:00\",\"2015-02-28T00:00:00\",\"2015-03-01T00:00:00\",\"2015-03-02T00:00:00\",\"2015-03-03T00:00:00\",\"2015-03-04T00:00:00\",\"2015-03-05T00:00:00\",\"2015-03-06T00:00:00\",\"2015-03-07T00:00:00\",\"2015-03-08T00:00:00\",\"2015-03-09T00:00:00\",\"2015-03-10T00:00:00\",\"2015-03-11T00:00:00\",\"2015-03-12T00:00:00\",\"2015-03-13T00:00:00\",\"2015-03-14T00:00:00\",\"2015-03-15T00:00:00\",\"2015-03-16T00:00:00\",\"2015-03-17T00:00:00\",\"2015-03-18T00:00:00\",\"2015-03-19T00:00:00\",\"2015-03-20T00:00:00\",\"2015-03-21T00:00:00\",\"2015-03-22T00:00:00\",\"2015-03-23T00:00:00\",\"2015-03-24T00:00:00\",\"2015-03-25T00:00:00\",\"2015-03-26T00:00:00\",\"2015-03-27T00:00:00\",\"2015-03-28T00:00:00\",\"2015-03-29T00:00:00\",\"2015-03-30T00:00:00\",\"2015-03-31T00:00:00\",\"2015-04-01T00:00:00\",\"2015-04-02T00:00:00\",\"2015-04-03T00:00:00\",\"2015-04-04T00:00:00\",\"2015-04-05T00:00:00\",\"2015-04-06T00:00:00\",\"2015-04-07T00:00:00\",\"2015-04-08T00:00:00\",\"2015-04-09T00:00:00\",\"2015-04-10T00:00:00\",\"2015-04-11T00:00:00\",\"2015-04-12T00:00:00\",\"2015-04-13T00:00:00\",\"2015-04-14T00:00:00\",\"2015-04-15T00:00:00\",\"2015-04-16T00:00:00\",\"2015-04-17T00:00:00\",\"2015-04-18T00:00:00\",\"2015-04-19T00:00:00\",\"2015-04-20T00:00:00\",\"2015-04-21T00:00:00\",\"2015-04-22T00:00:00\",\"2015-04-23T00:00:00\",\"2015-04-24T00:00:00\",\"2015-04-25T00:00:00\",\"2015-04-26T00:00:00\",\"2015-04-27T00:00:00\",\"2015-04-28T00:00:00\",\"2015-04-29T00:00:00\",\"2015-04-30T00:00:00\",\"2015-05-01T00:00:00\",\"2015-05-02T00:00:00\",\"2015-05-03T00:00:00\",\"2015-05-04T00:00:00\",\"2015-05-05T00:00:00\",\"2015-05-06T00:00:00\",\"2015-05-07T00:00:00\",\"2015-05-08T00:00:00\",\"2015-05-09T00:00:00\",\"2015-05-10T00:00:00\",\"2015-05-11T00:00:00\",\"2015-05-12T00:00:00\",\"2015-05-13T00:00:00\",\"2015-05-14T00:00:00\",\"2015-05-15T00:00:00\",\"2015-05-16T00:00:00\",\"2015-05-17T00:00:00\",\"2015-05-18T00:00:00\",\"2015-05-19T00:00:00\",\"2015-05-20T00:00:00\",\"2015-05-21T00:00:00\",\"2015-05-22T00:00:00\",\"2015-05-23T00:00:00\",\"2015-05-24T00:00:00\",\"2015-05-25T00:00:00\",\"2015-05-26T00:00:00\",\"2015-05-27T00:00:00\",\"2015-05-28T00:00:00\",\"2015-05-29T00:00:00\",\"2015-05-30T00:00:00\",\"2015-05-31T00:00:00\",\"2015-06-01T00:00:00\",\"2015-06-02T00:00:00\",\"2015-06-03T00:00:00\",\"2015-06-04T00:00:00\",\"2015-06-05T00:00:00\",\"2015-06-06T00:00:00\",\"2015-06-07T00:00:00\",\"2015-06-08T00:00:00\",\"2015-06-09T00:00:00\",\"2015-06-10T00:00:00\",\"2015-06-11T00:00:00\",\"2015-06-12T00:00:00\",\"2015-06-13T00:00:00\",\"2015-06-14T00:00:00\",\"2015-06-15T00:00:00\",\"2015-06-16T00:00:00\",\"2015-06-17T00:00:00\",\"2015-06-18T00:00:00\",\"2015-06-19T00:00:00\",\"2015-06-20T00:00:00\",\"2015-06-21T00:00:00\",\"2015-06-22T00:00:00\",\"2015-06-23T00:00:00\",\"2015-06-24T00:00:00\",\"2015-06-25T00:00:00\",\"2015-06-26T00:00:00\",\"2015-06-27T00:00:00\",\"2015-06-28T00:00:00\",\"2015-06-29T00:00:00\",\"2015-06-30T00:00:00\",\"2015-07-01T00:00:00\",\"2015-07-02T00:00:00\",\"2015-07-03T00:00:00\",\"2015-07-04T00:00:00\",\"2015-07-05T00:00:00\",\"2015-07-06T00:00:00\",\"2015-07-07T00:00:00\",\"2015-07-08T00:00:00\",\"2015-07-09T00:00:00\",\"2015-07-10T00:00:00\",\"2015-07-11T00:00:00\",\"2015-07-12T00:00:00\",\"2015-07-13T00:00:00\",\"2015-07-14T00:00:00\",\"2015-07-15T00:00:00\",\"2015-07-16T00:00:00\",\"2015-07-17T00:00:00\",\"2015-07-18T00:00:00\",\"2015-07-19T00:00:00\",\"2015-07-20T00:00:00\",\"2015-07-21T00:00:00\",\"2015-07-22T00:00:00\",\"2015-07-23T00:00:00\",\"2015-07-24T00:00:00\",\"2015-07-25T00:00:00\",\"2015-07-26T00:00:00\",\"2015-07-27T00:00:00\",\"2015-07-28T00:00:00\",\"2015-07-29T00:00:00\",\"2015-07-30T00:00:00\",\"2015-07-31T00:00:00\",\"2015-08-01T00:00:00\",\"2015-08-02T00:00:00\",\"2015-08-03T00:00:00\",\"2015-08-04T00:00:00\",\"2015-08-05T00:00:00\",\"2015-08-06T00:00:00\",\"2015-08-07T00:00:00\",\"2015-08-08T00:00:00\",\"2015-08-09T00:00:00\",\"2015-08-10T00:00:00\",\"2015-08-11T00:00:00\",\"2015-08-12T00:00:00\",\"2015-08-13T00:00:00\",\"2015-08-14T00:00:00\",\"2015-08-15T00:00:00\",\"2015-08-16T00:00:00\",\"2015-08-17T00:00:00\",\"2015-08-18T00:00:00\",\"2015-08-19T00:00:00\",\"2015-08-20T00:00:00\",\"2015-08-21T00:00:00\",\"2015-08-22T00:00:00\",\"2015-08-23T00:00:00\",\"2015-08-24T00:00:00\",\"2015-08-25T00:00:00\",\"2015-08-26T00:00:00\",\"2015-08-27T00:00:00\",\"2015-08-28T00:00:00\",\"2015-08-29T00:00:00\",\"2015-08-30T00:00:00\",\"2015-08-31T00:00:00\",\"2015-09-01T00:00:00\",\"2015-09-02T00:00:00\",\"2015-09-03T00:00:00\",\"2015-09-04T00:00:00\",\"2015-09-05T00:00:00\",\"2015-09-06T00:00:00\",\"2015-09-07T00:00:00\",\"2015-09-08T00:00:00\",\"2015-09-09T00:00:00\",\"2015-09-10T00:00:00\",\"2015-09-11T00:00:00\",\"2015-09-12T00:00:00\",\"2015-09-13T00:00:00\",\"2015-09-14T00:00:00\",\"2015-09-15T00:00:00\",\"2015-09-16T00:00:00\",\"2015-09-17T00:00:00\",\"2015-09-18T00:00:00\",\"2015-09-19T00:00:00\",\"2015-09-20T00:00:00\",\"2015-09-21T00:00:00\",\"2015-09-22T00:00:00\",\"2015-09-23T00:00:00\",\"2015-09-24T00:00:00\",\"2015-09-25T00:00:00\",\"2015-09-26T00:00:00\",\"2015-09-27T00:00:00\",\"2015-09-28T00:00:00\",\"2015-09-29T00:00:00\",\"2015-09-30T00:00:00\",\"2015-10-01T00:00:00\",\"2015-10-02T00:00:00\",\"2015-10-03T00:00:00\",\"2015-10-04T00:00:00\",\"2015-10-05T00:00:00\",\"2015-10-06T00:00:00\",\"2015-10-07T00:00:00\",\"2015-10-08T00:00:00\",\"2015-10-09T00:00:00\",\"2015-10-10T00:00:00\",\"2015-10-11T00:00:00\",\"2015-10-12T00:00:00\",\"2015-10-13T00:00:00\",\"2015-10-14T00:00:00\",\"2015-10-15T00:00:00\",\"2015-10-16T00:00:00\",\"2015-10-17T00:00:00\",\"2015-10-18T00:00:00\",\"2015-10-19T00:00:00\",\"2015-10-20T00:00:00\",\"2015-10-21T00:00:00\",\"2015-10-22T00:00:00\",\"2015-10-23T00:00:00\",\"2015-10-24T00:00:00\",\"2015-10-25T00:00:00\",\"2015-10-26T00:00:00\",\"2015-10-27T00:00:00\",\"2015-10-28T00:00:00\",\"2015-10-29T00:00:00\",\"2015-10-30T00:00:00\",\"2015-10-31T00:00:00\",\"2015-11-01T00:00:00\",\"2015-11-02T00:00:00\",\"2015-11-03T00:00:00\",\"2015-11-04T00:00:00\",\"2015-11-05T00:00:00\",\"2015-11-06T00:00:00\",\"2015-11-07T00:00:00\",\"2015-11-08T00:00:00\",\"2015-11-09T00:00:00\",\"2015-11-10T00:00:00\",\"2015-11-11T00:00:00\",\"2015-11-12T00:00:00\",\"2015-11-13T00:00:00\",\"2015-11-14T00:00:00\",\"2015-11-15T00:00:00\",\"2015-11-16T00:00:00\",\"2015-11-17T00:00:00\",\"2015-11-18T00:00:00\",\"2015-11-19T00:00:00\",\"2015-11-20T00:00:00\",\"2015-11-21T00:00:00\",\"2015-11-22T00:00:00\",\"2015-11-23T00:00:00\",\"2015-11-24T00:00:00\",\"2015-11-25T00:00:00\",\"2015-11-26T00:00:00\",\"2015-11-27T00:00:00\",\"2015-11-28T00:00:00\",\"2015-11-29T00:00:00\",\"2015-11-30T00:00:00\",\"2015-12-01T00:00:00\",\"2015-12-02T00:00:00\",\"2015-12-03T00:00:00\",\"2015-12-04T00:00:00\",\"2015-12-05T00:00:00\",\"2015-12-06T00:00:00\",\"2015-12-07T00:00:00\",\"2015-12-08T00:00:00\",\"2015-12-09T00:00:00\",\"2015-12-10T00:00:00\",\"2015-12-11T00:00:00\",\"2015-12-12T00:00:00\",\"2015-12-13T00:00:00\",\"2015-12-14T00:00:00\",\"2015-12-15T00:00:00\",\"2015-12-16T00:00:00\",\"2015-12-17T00:00:00\",\"2015-12-18T00:00:00\",\"2015-12-19T00:00:00\",\"2015-12-20T00:00:00\",\"2015-12-21T00:00:00\",\"2015-12-22T00:00:00\",\"2015-12-23T00:00:00\",\"2015-12-24T00:00:00\",\"2015-12-26T00:00:00\",\"2015-12-27T00:00:00\",\"2015-12-28T00:00:00\",\"2015-12-29T00:00:00\",\"2015-12-30T00:00:00\",\"2015-12-31T00:00:00\",\"2016-01-01T00:00:00\",\"2016-01-02T00:00:00\",\"2016-01-03T00:00:00\",\"2016-01-04T00:00:00\",\"2016-01-05T00:00:00\",\"2016-01-06T00:00:00\",\"2016-01-07T00:00:00\",\"2016-01-08T00:00:00\",\"2016-01-09T00:00:00\",\"2016-01-10T00:00:00\",\"2016-01-11T00:00:00\",\"2016-01-12T00:00:00\",\"2016-01-13T00:00:00\",\"2016-01-14T00:00:00\",\"2016-01-15T00:00:00\",\"2016-01-16T00:00:00\",\"2016-01-17T00:00:00\",\"2016-01-18T00:00:00\",\"2016-01-19T00:00:00\",\"2016-01-20T00:00:00\",\"2016-01-21T00:00:00\",\"2016-01-22T00:00:00\",\"2016-01-23T00:00:00\",\"2016-01-24T00:00:00\",\"2016-01-25T00:00:00\",\"2016-01-26T00:00:00\",\"2016-01-27T00:00:00\",\"2016-01-28T00:00:00\",\"2016-01-29T00:00:00\",\"2016-01-30T00:00:00\",\"2016-01-31T00:00:00\",\"2016-02-01T00:00:00\",\"2016-02-02T00:00:00\",\"2016-02-03T00:00:00\",\"2016-02-04T00:00:00\",\"2016-02-05T00:00:00\",\"2016-02-06T00:00:00\",\"2016-02-07T00:00:00\",\"2016-02-08T00:00:00\",\"2016-02-09T00:00:00\",\"2016-02-10T00:00:00\",\"2016-02-11T00:00:00\",\"2016-02-12T00:00:00\",\"2016-02-13T00:00:00\",\"2016-02-14T00:00:00\",\"2016-02-15T00:00:00\",\"2016-02-16T00:00:00\",\"2016-02-17T00:00:00\",\"2016-02-18T00:00:00\",\"2016-02-19T00:00:00\",\"2016-02-20T00:00:00\",\"2016-02-21T00:00:00\",\"2016-02-22T00:00:00\",\"2016-02-23T00:00:00\",\"2016-02-24T00:00:00\",\"2016-02-25T00:00:00\",\"2016-02-26T00:00:00\",\"2016-02-27T00:00:00\",\"2016-02-28T00:00:00\",\"2016-02-29T00:00:00\",\"2016-03-01T00:00:00\",\"2016-03-02T00:00:00\",\"2016-03-03T00:00:00\",\"2016-03-04T00:00:00\",\"2016-03-05T00:00:00\",\"2016-03-06T00:00:00\",\"2016-03-07T00:00:00\",\"2016-03-08T00:00:00\",\"2016-03-09T00:00:00\",\"2016-03-10T00:00:00\",\"2016-03-11T00:00:00\",\"2016-03-12T00:00:00\",\"2016-03-13T00:00:00\",\"2016-03-14T00:00:00\",\"2016-03-15T00:00:00\",\"2016-03-16T00:00:00\",\"2016-03-17T00:00:00\",\"2016-03-18T00:00:00\",\"2016-03-19T00:00:00\",\"2016-03-20T00:00:00\",\"2016-03-21T00:00:00\",\"2016-03-22T00:00:00\",\"2016-03-23T00:00:00\",\"2016-03-24T00:00:00\",\"2016-03-25T00:00:00\",\"2016-03-26T00:00:00\",\"2016-03-27T00:00:00\",\"2016-03-28T00:00:00\",\"2016-03-29T00:00:00\",\"2016-03-30T00:00:00\",\"2016-03-31T00:00:00\",\"2016-04-01T00:00:00\",\"2016-04-02T00:00:00\",\"2016-04-03T00:00:00\",\"2016-04-04T00:00:00\",\"2016-04-05T00:00:00\",\"2016-04-06T00:00:00\",\"2016-04-07T00:00:00\",\"2016-04-08T00:00:00\",\"2016-04-09T00:00:00\",\"2016-04-10T00:00:00\",\"2016-04-11T00:00:00\",\"2016-04-12T00:00:00\",\"2016-04-13T00:00:00\",\"2016-04-14T00:00:00\",\"2016-04-15T00:00:00\",\"2016-04-16T00:00:00\",\"2016-04-17T00:00:00\",\"2016-04-18T00:00:00\",\"2016-04-19T00:00:00\",\"2016-04-20T00:00:00\",\"2016-04-21T00:00:00\",\"2016-04-22T00:00:00\",\"2016-04-23T00:00:00\",\"2016-04-24T00:00:00\",\"2016-04-25T00:00:00\",\"2016-04-26T00:00:00\",\"2016-04-27T00:00:00\",\"2016-04-28T00:00:00\",\"2016-04-29T00:00:00\",\"2016-04-30T00:00:00\",\"2016-05-01T00:00:00\",\"2016-05-02T00:00:00\",\"2016-05-03T00:00:00\",\"2016-05-04T00:00:00\",\"2016-05-05T00:00:00\",\"2016-05-06T00:00:00\",\"2016-05-07T00:00:00\",\"2016-05-08T00:00:00\",\"2016-05-09T00:00:00\",\"2016-05-10T00:00:00\",\"2016-05-11T00:00:00\",\"2016-05-12T00:00:00\",\"2016-05-13T00:00:00\",\"2016-05-14T00:00:00\",\"2016-05-15T00:00:00\",\"2016-05-16T00:00:00\",\"2016-05-17T00:00:00\",\"2016-05-18T00:00:00\",\"2016-05-19T00:00:00\",\"2016-05-20T00:00:00\",\"2016-05-21T00:00:00\",\"2016-05-22T00:00:00\",\"2016-05-23T00:00:00\",\"2016-05-24T00:00:00\",\"2016-05-25T00:00:00\",\"2016-05-26T00:00:00\",\"2016-05-27T00:00:00\",\"2016-05-28T00:00:00\",\"2016-05-29T00:00:00\",\"2016-05-30T00:00:00\",\"2016-05-31T00:00:00\",\"2016-06-01T00:00:00\",\"2016-06-02T00:00:00\",\"2016-06-03T00:00:00\",\"2016-06-04T00:00:00\",\"2016-06-05T00:00:00\",\"2016-06-06T00:00:00\",\"2016-06-07T00:00:00\",\"2016-06-08T00:00:00\",\"2016-06-09T00:00:00\",\"2016-06-10T00:00:00\",\"2016-06-11T00:00:00\",\"2016-06-12T00:00:00\",\"2016-06-13T00:00:00\",\"2016-06-14T00:00:00\",\"2016-06-15T00:00:00\",\"2016-06-16T00:00:00\",\"2016-06-17T00:00:00\",\"2016-06-18T00:00:00\",\"2016-06-19T00:00:00\",\"2016-06-20T00:00:00\",\"2016-06-21T00:00:00\",\"2016-06-22T00:00:00\",\"2016-06-23T00:00:00\",\"2016-06-24T00:00:00\",\"2016-06-25T00:00:00\",\"2016-06-26T00:00:00\",\"2016-06-27T00:00:00\",\"2016-06-28T00:00:00\",\"2016-06-29T00:00:00\",\"2016-06-30T00:00:00\",\"2016-07-01T00:00:00\",\"2016-07-02T00:00:00\",\"2016-07-03T00:00:00\",\"2016-07-04T00:00:00\",\"2016-07-05T00:00:00\",\"2016-07-06T00:00:00\",\"2016-07-07T00:00:00\",\"2016-07-08T00:00:00\",\"2016-07-09T00:00:00\",\"2016-07-10T00:00:00\",\"2016-07-11T00:00:00\",\"2016-07-12T00:00:00\",\"2016-07-13T00:00:00\",\"2016-07-14T00:00:00\",\"2016-07-15T00:00:00\",\"2016-07-16T00:00:00\",\"2016-07-17T00:00:00\",\"2016-07-18T00:00:00\",\"2016-07-19T00:00:00\",\"2016-07-20T00:00:00\",\"2016-07-21T00:00:00\",\"2016-07-22T00:00:00\",\"2016-07-23T00:00:00\",\"2016-07-24T00:00:00\",\"2016-07-25T00:00:00\",\"2016-07-26T00:00:00\",\"2016-07-27T00:00:00\",\"2016-07-28T00:00:00\",\"2016-07-29T00:00:00\",\"2016-07-30T00:00:00\",\"2016-07-31T00:00:00\",\"2016-08-01T00:00:00\",\"2016-08-02T00:00:00\",\"2016-08-03T00:00:00\",\"2016-08-04T00:00:00\",\"2016-08-05T00:00:00\",\"2016-08-06T00:00:00\",\"2016-08-07T00:00:00\",\"2016-08-08T00:00:00\",\"2016-08-09T00:00:00\",\"2016-08-10T00:00:00\",\"2016-08-11T00:00:00\",\"2016-08-12T00:00:00\",\"2016-08-13T00:00:00\",\"2016-08-14T00:00:00\",\"2016-08-15T00:00:00\",\"2016-08-16T00:00:00\",\"2016-08-17T00:00:00\",\"2016-08-18T00:00:00\",\"2016-08-19T00:00:00\",\"2016-08-20T00:00:00\",\"2016-08-21T00:00:00\",\"2016-08-22T00:00:00\",\"2016-08-23T00:00:00\",\"2016-08-24T00:00:00\",\"2016-08-25T00:00:00\",\"2016-08-26T00:00:00\",\"2016-08-27T00:00:00\",\"2016-08-28T00:00:00\",\"2016-08-29T00:00:00\",\"2016-08-30T00:00:00\",\"2016-08-31T00:00:00\",\"2016-09-01T00:00:00\",\"2016-09-02T00:00:00\",\"2016-09-03T00:00:00\",\"2016-09-04T00:00:00\",\"2016-09-05T00:00:00\",\"2016-09-06T00:00:00\",\"2016-09-07T00:00:00\",\"2016-09-08T00:00:00\",\"2016-09-09T00:00:00\",\"2016-09-10T00:00:00\",\"2016-09-11T00:00:00\",\"2016-09-12T00:00:00\",\"2016-09-13T00:00:00\",\"2016-09-14T00:00:00\",\"2016-09-15T00:00:00\",\"2016-09-16T00:00:00\",\"2016-09-17T00:00:00\",\"2016-09-18T00:00:00\",\"2016-09-19T00:00:00\",\"2016-09-20T00:00:00\",\"2016-09-21T00:00:00\",\"2016-09-22T00:00:00\",\"2016-09-23T00:00:00\",\"2016-09-24T00:00:00\",\"2016-09-25T00:00:00\",\"2016-09-26T00:00:00\",\"2016-09-27T00:00:00\",\"2016-09-28T00:00:00\",\"2016-09-29T00:00:00\",\"2016-09-30T00:00:00\",\"2016-10-01T00:00:00\",\"2016-10-02T00:00:00\",\"2016-10-03T00:00:00\",\"2016-10-04T00:00:00\",\"2016-10-05T00:00:00\",\"2016-10-06T00:00:00\",\"2016-10-07T00:00:00\",\"2016-10-08T00:00:00\",\"2016-10-09T00:00:00\",\"2016-10-10T00:00:00\",\"2016-10-11T00:00:00\",\"2016-10-12T00:00:00\",\"2016-10-13T00:00:00\",\"2016-10-14T00:00:00\",\"2016-10-15T00:00:00\",\"2016-10-16T00:00:00\",\"2016-10-17T00:00:00\",\"2016-10-18T00:00:00\",\"2016-10-19T00:00:00\",\"2016-10-20T00:00:00\",\"2016-10-21T00:00:00\",\"2016-10-22T00:00:00\",\"2016-10-23T00:00:00\",\"2016-10-24T00:00:00\",\"2016-10-25T00:00:00\",\"2016-10-26T00:00:00\",\"2016-10-27T00:00:00\",\"2016-10-28T00:00:00\",\"2016-10-29T00:00:00\",\"2016-10-30T00:00:00\",\"2016-10-31T00:00:00\",\"2016-11-01T00:00:00\",\"2016-11-02T00:00:00\",\"2016-11-03T00:00:00\",\"2016-11-04T00:00:00\",\"2016-11-05T00:00:00\",\"2016-11-06T00:00:00\",\"2016-11-07T00:00:00\",\"2016-11-08T00:00:00\",\"2016-11-09T00:00:00\",\"2016-11-10T00:00:00\",\"2016-11-11T00:00:00\",\"2016-11-12T00:00:00\",\"2016-11-13T00:00:00\",\"2016-11-14T00:00:00\",\"2016-11-15T00:00:00\",\"2016-11-16T00:00:00\",\"2016-11-17T00:00:00\",\"2016-11-18T00:00:00\",\"2016-11-19T00:00:00\",\"2016-11-20T00:00:00\",\"2016-11-21T00:00:00\",\"2016-11-22T00:00:00\",\"2016-11-23T00:00:00\",\"2016-11-24T00:00:00\",\"2016-11-25T00:00:00\",\"2016-11-26T00:00:00\",\"2016-11-27T00:00:00\",\"2016-11-28T00:00:00\",\"2016-11-29T00:00:00\",\"2016-11-30T00:00:00\",\"2016-12-01T00:00:00\",\"2016-12-02T00:00:00\",\"2016-12-03T00:00:00\",\"2016-12-04T00:00:00\",\"2016-12-05T00:00:00\",\"2016-12-06T00:00:00\",\"2016-12-07T00:00:00\",\"2016-12-08T00:00:00\",\"2016-12-09T00:00:00\",\"2016-12-10T00:00:00\",\"2016-12-11T00:00:00\",\"2016-12-12T00:00:00\",\"2016-12-13T00:00:00\",\"2016-12-14T00:00:00\",\"2016-12-15T00:00:00\",\"2016-12-16T00:00:00\",\"2016-12-17T00:00:00\",\"2016-12-18T00:00:00\",\"2016-12-19T00:00:00\",\"2016-12-20T00:00:00\",\"2016-12-21T00:00:00\",\"2016-12-22T00:00:00\",\"2016-12-23T00:00:00\",\"2016-12-24T00:00:00\",\"2016-12-26T00:00:00\",\"2016-12-27T00:00:00\",\"2016-12-28T00:00:00\",\"2016-12-29T00:00:00\",\"2016-12-30T00:00:00\",\"2016-12-31T00:00:00\",\"2017-01-01T00:00:00\",\"2017-01-02T00:00:00\",\"2017-01-03T00:00:00\",\"2017-01-04T00:00:00\",\"2017-01-05T00:00:00\",\"2017-01-06T00:00:00\",\"2017-01-07T00:00:00\",\"2017-01-08T00:00:00\",\"2017-01-09T00:00:00\",\"2017-01-10T00:00:00\",\"2017-01-11T00:00:00\",\"2017-01-12T00:00:00\",\"2017-01-13T00:00:00\",\"2017-01-14T00:00:00\",\"2017-01-15T00:00:00\",\"2017-01-16T00:00:00\",\"2017-01-17T00:00:00\",\"2017-01-18T00:00:00\",\"2017-01-19T00:00:00\",\"2017-01-20T00:00:00\",\"2017-01-21T00:00:00\",\"2017-01-22T00:00:00\",\"2017-01-23T00:00:00\",\"2017-01-24T00:00:00\",\"2017-01-25T00:00:00\",\"2017-01-26T00:00:00\",\"2017-01-27T00:00:00\",\"2017-01-28T00:00:00\",\"2017-01-29T00:00:00\",\"2017-01-30T00:00:00\",\"2017-01-31T00:00:00\",\"2017-02-01T00:00:00\",\"2017-02-02T00:00:00\",\"2017-02-03T00:00:00\",\"2017-02-04T00:00:00\",\"2017-02-05T00:00:00\",\"2017-02-06T00:00:00\",\"2017-02-07T00:00:00\",\"2017-02-08T00:00:00\",\"2017-02-09T00:00:00\",\"2017-02-10T00:00:00\",\"2017-02-11T00:00:00\",\"2017-02-12T00:00:00\",\"2017-02-13T00:00:00\",\"2017-02-14T00:00:00\",\"2017-02-15T00:00:00\",\"2017-02-16T00:00:00\",\"2017-02-17T00:00:00\",\"2017-02-18T00:00:00\",\"2017-02-19T00:00:00\",\"2017-02-20T00:00:00\",\"2017-02-21T00:00:00\",\"2017-02-22T00:00:00\",\"2017-02-23T00:00:00\",\"2017-02-24T00:00:00\",\"2017-02-25T00:00:00\",\"2017-02-26T00:00:00\",\"2017-02-27T00:00:00\",\"2017-02-28T00:00:00\",\"2017-03-01T00:00:00\",\"2017-03-02T00:00:00\",\"2017-03-03T00:00:00\",\"2017-03-04T00:00:00\",\"2017-03-05T00:00:00\",\"2017-03-06T00:00:00\",\"2017-03-07T00:00:00\",\"2017-03-08T00:00:00\",\"2017-03-09T00:00:00\",\"2017-03-10T00:00:00\",\"2017-03-11T00:00:00\",\"2017-03-12T00:00:00\",\"2017-03-13T00:00:00\",\"2017-03-14T00:00:00\",\"2017-03-15T00:00:00\",\"2017-03-16T00:00:00\",\"2017-03-17T00:00:00\",\"2017-03-18T00:00:00\",\"2017-03-19T00:00:00\",\"2017-03-20T00:00:00\",\"2017-03-21T00:00:00\",\"2017-03-22T00:00:00\",\"2017-03-23T00:00:00\",\"2017-03-24T00:00:00\",\"2017-03-25T00:00:00\",\"2017-03-26T00:00:00\",\"2017-03-27T00:00:00\",\"2017-03-28T00:00:00\",\"2017-03-29T00:00:00\",\"2017-03-30T00:00:00\",\"2017-03-31T00:00:00\",\"2017-04-01T00:00:00\",\"2017-04-02T00:00:00\",\"2017-04-03T00:00:00\",\"2017-04-04T00:00:00\",\"2017-04-05T00:00:00\",\"2017-04-06T00:00:00\",\"2017-04-07T00:00:00\",\"2017-04-08T00:00:00\",\"2017-04-09T00:00:00\",\"2017-04-10T00:00:00\",\"2017-04-11T00:00:00\",\"2017-04-12T00:00:00\",\"2017-04-13T00:00:00\",\"2017-04-14T00:00:00\",\"2017-04-15T00:00:00\",\"2017-04-16T00:00:00\",\"2017-04-17T00:00:00\",\"2017-04-18T00:00:00\",\"2017-04-19T00:00:00\",\"2017-04-20T00:00:00\",\"2017-04-21T00:00:00\",\"2017-04-22T00:00:00\",\"2017-04-23T00:00:00\",\"2017-04-24T00:00:00\",\"2017-04-25T00:00:00\",\"2017-04-26T00:00:00\",\"2017-04-27T00:00:00\",\"2017-04-28T00:00:00\",\"2017-04-29T00:00:00\",\"2017-04-30T00:00:00\",\"2017-05-01T00:00:00\",\"2017-05-02T00:00:00\",\"2017-05-03T00:00:00\",\"2017-05-04T00:00:00\",\"2017-05-05T00:00:00\",\"2017-05-06T00:00:00\",\"2017-05-07T00:00:00\",\"2017-05-08T00:00:00\",\"2017-05-09T00:00:00\",\"2017-05-10T00:00:00\",\"2017-05-11T00:00:00\",\"2017-05-12T00:00:00\",\"2017-05-13T00:00:00\",\"2017-05-14T00:00:00\",\"2017-05-15T00:00:00\",\"2017-05-16T00:00:00\",\"2017-05-17T00:00:00\",\"2017-05-18T00:00:00\",\"2017-05-19T00:00:00\",\"2017-05-20T00:00:00\",\"2017-05-21T00:00:00\",\"2017-05-22T00:00:00\",\"2017-05-23T00:00:00\",\"2017-05-24T00:00:00\",\"2017-05-25T00:00:00\",\"2017-05-26T00:00:00\",\"2017-05-27T00:00:00\",\"2017-05-28T00:00:00\",\"2017-05-29T00:00:00\",\"2017-05-30T00:00:00\",\"2017-05-31T00:00:00\",\"2017-06-01T00:00:00\",\"2017-06-02T00:00:00\",\"2017-06-03T00:00:00\",\"2017-06-04T00:00:00\",\"2017-06-05T00:00:00\",\"2017-06-06T00:00:00\",\"2017-06-07T00:00:00\",\"2017-06-08T00:00:00\",\"2017-06-09T00:00:00\",\"2017-06-10T00:00:00\",\"2017-06-11T00:00:00\",\"2017-06-12T00:00:00\",\"2017-06-13T00:00:00\",\"2017-06-14T00:00:00\",\"2017-06-15T00:00:00\",\"2017-06-16T00:00:00\",\"2017-06-17T00:00:00\",\"2017-06-18T00:00:00\",\"2017-06-19T00:00:00\",\"2017-06-20T00:00:00\",\"2017-06-21T00:00:00\",\"2017-06-22T00:00:00\",\"2017-06-23T00:00:00\",\"2017-06-24T00:00:00\",\"2017-06-25T00:00:00\",\"2017-06-26T00:00:00\",\"2017-06-27T00:00:00\",\"2017-06-28T00:00:00\",\"2017-06-29T00:00:00\",\"2017-06-30T00:00:00\",\"2017-07-01T00:00:00\",\"2017-07-02T00:00:00\",\"2017-07-03T00:00:00\",\"2017-07-04T00:00:00\",\"2017-07-05T00:00:00\",\"2017-07-06T00:00:00\",\"2017-07-07T00:00:00\",\"2017-07-08T00:00:00\",\"2017-07-09T00:00:00\",\"2017-07-10T00:00:00\",\"2017-07-11T00:00:00\",\"2017-07-12T00:00:00\",\"2017-07-13T00:00:00\",\"2017-07-14T00:00:00\",\"2017-07-15T00:00:00\",\"2017-07-16T00:00:00\",\"2017-07-17T00:00:00\",\"2017-07-18T00:00:00\",\"2017-07-19T00:00:00\",\"2017-07-20T00:00:00\",\"2017-07-21T00:00:00\",\"2017-07-22T00:00:00\",\"2017-07-23T00:00:00\",\"2017-07-24T00:00:00\",\"2017-07-25T00:00:00\",\"2017-07-26T00:00:00\",\"2017-07-27T00:00:00\",\"2017-07-28T00:00:00\",\"2017-07-29T00:00:00\",\"2017-07-30T00:00:00\",\"2017-07-31T00:00:00\",\"2017-08-01T00:00:00\",\"2017-08-02T00:00:00\",\"2017-08-03T00:00:00\",\"2017-08-04T00:00:00\",\"2017-08-05T00:00:00\",\"2017-08-06T00:00:00\",\"2017-08-07T00:00:00\",\"2017-08-08T00:00:00\",\"2017-08-09T00:00:00\",\"2017-08-10T00:00:00\",\"2017-08-11T00:00:00\",\"2017-08-12T00:00:00\",\"2017-08-13T00:00:00\",\"2017-08-14T00:00:00\",\"2017-08-15T00:00:00\"],\"y\":[1.4094382710437712,278.3908069270484,202.84019703928178,198.91115437300786,267.8732442362513,291.6360275465768,188.62110048597074,178.64634005667784,169.7703754309765,145.33221270987661,162.59129353787878,226.2952929351853,260.7399259248033,164.61748713692478,167.86170031088662,178.64641635578002,150.11140065965196,166.17892818630756,242.68229630808085,258.7499360533109,174.6415633838384,166.22599830695847,158.95536084876537,138.74617900953987,162.7512749326599,232.21086867300767,241.5331039466891,160.1908922295174,148.42245683305276,157.72229351964083,152.21897755106622,207.29632730976434,291.18263900392816,272.91628517396185,193.21476712514024,180.27263699775543,180.43668751346812,163.1916559893379,194.97294607856338,233.5444888185746,168.88402300392823,156.35667167564534,173.28888378905725,179.34788437822684,172.931547113917,179.66828502356898,272.5367530909092,224.23620090572396,196.82692098260372,164.7799113080807,176.0960505241301,150.2307009065656,160.314180208193,231.704460781706,254.05506515319854,172.34055888496079,151.75365155303032,161.84175023512913,156.0697485342312,212.62523292031423,307.43950912345673,314.15296297811443,215.2905045437711,186.41413759203135,188.39875475196408,164.4778490516273,177.66592590740743,254.35437534567902,259.1805590084175,178.6639354775534,152.53837149831648,161.54302130864198,138.91213248933784,177.26043221829403,270.61359930471406,288.1254685258136,185.34444614478105,164.99452631705935,180.25084564870934,151.02700782996635,170.6512087368126,254.3165000482603,252.4100095123456,178.20404599242434,154.78015482603817,176.03319247923676,190.4002631997755,193.89064646464666,254.01871831425362,259.3196632749719,240.63773732435462,211.97128392873194,209.72563180656567,173.25386417676765,188.7737272901235,285.87217397474745,291.272938767677,194.5285162418631,171.90561277312014,175.5591329635242,170.15904209315374,176.42815209595952,254.45706905050505,268.47202514758715,190.07433111952864,187.111043798541,187.9857008653197,158.20679570763198,174.853369775533,258.07229968742973,272.5707250768799,184.56022502020193,169.527403447531,174.2733922138046,150.83648652974182,170.82691186980915,250.65394943602678,268.0266402526934,184.50946914590335,174.06647973849593,285.0587187929292,195.68432102300798,210.03998374427619,291.99748370650957,325.6276941531985,207.55857634455677,178.05441310213251,186.57542703030293,171.64312964225587,188.5170830241303,287.3684517845117,217.6546043852414,196.7441424635242,173.10286931481482,184.6877441531987,172.59087931369257,185.1875656554433,269.90435406397296,290.77079349551076,191.7997839455668,172.37845115151518,169.35212295594826,162.32382605274995,223.56298652188545,234.5286992104379,252.87957355106622,180.48868177525247,172.46305727076322,173.58775583557806,170.78835574579122,185.3298776515152,318.12671997081924,357.8554966094278,239.24360156846257,207.4664198007856,203.0252979320987,178.1687799612795,200.7144152508418,261.6681813108865,295.62555008754214,196.27064645230075,159.2919281663861,179.67091919118968,158.74686871223344,183.4774085898991,283.9229331482043,244.60947411952853,208.16176825140303,180.07033665628515,179.14436474579122,164.91467116442215,179.4178939542648,250.47548378002236,283.36972230190815,188.90682605965216,171.22308084399543,169.38678393019083,149.56535295510656,181.93657228002243,285.84686203479237,299.37244277609426,247.90033002048258,219.39303259259256,210.18626147530873,183.5130073108866,197.1950056531989,269.0878192615039,280.9237222659933,205.08024411728388,178.04665824876534,176.28220318237925,158.10938890179582,173.28082947979794,242.74360393967456,246.19664301739604,195.73683891616162,188.2807121245793,181.99428620959583,161.09701119652067,175.8319613069584,244.38705444051627,245.7646599601569,192.36941585297413,177.4733238535353,173.53748035886647,167.26948648973064,178.8696368804714,237.8734579131314,243.18667344966337,186.02316781846253,178.76205944556665,200.8883159438833,223.0950157699776,221.005117849046,290.0992401868687,288.58994160493825,228.41403532323233,200.4847666026936,197.13924354826025,174.49664642620647,189.4060986913581,243.65036144219985,243.95079854169472,196.14995736980921,177.94799722839514,182.02995897474744,174.54723507856343,204.5383400021885,251.87166718108858,260.411769398148,203.19053140291805,192.5062368013467,188.39766775084178,171.98275026936025,186.25497704713808,236.01355499102138,248.98658459820422,194.8146133638047,179.39855163776642,179.1930757536477,165.27423453591481,199.17672892648707,293.8447705420314,359.3749842171716,257.4595740549945,223.16521887317606,220.29488547138047,185.53466838552205,188.23919636868683,291.01248428731753,314.73176492199775,211.6451778915263,172.88129395202023,181.32694660493829,158.72936640684628,179.3248832934906,267.319868123457,299.01961786812564,209.44435515095392,183.66046574971918,177.1536020909092,156.8913423164982,186.22160716616156,262.79370420650963,281.7445016277778,199.7996823819864,170.2207592177329,175.359205946128,153.23113347856344,179.71188216835023,272.11205892710444,293.41663408866435,205.98678451980913,244.91640520538726,232.57893099747469,195.80990293490464,212.18292820370374,303.1181958793489,310.34311112008993,209.5326088905722,183.34832997312012,180.99293993097646,171.18243437575762,226.10204771492695,239.27030919971946,270.3598518342312,192.3090465737375,171.292126815937,199.60547920482597,175.6169545235691,181.4410062328845,273.9874130196408,301.7471992414703,195.69098090404043,169.2714843337824,181.31600223344554,154.91530864337824,178.21011561941643,254.15396403703704,287.8178917333895,194.69243207631874,169.65936980157133,179.28995793338942,167.33750454882158,226.50798706790127,303.37573234399565,338.2696722946128,238.11120485185194,220.7195190286196,216.85015646436585,194.32847365190813,201.16384851234585,288.35596131874286,329.77917521829403,209.92586423512904,209.47123907631857,186.46422945291792,159.6899006569584,196.0624556969696,294.0884332859147,325.0332373310888,219.94699887710436,184.87950113546563,198.84272435185179,167.25423567059488,191.20887375869808,272.47154816891134,309.1612194758696,205.367850174074,181.42134120314265,189.1600931683502,171.70762174354655,200.33692714085305,304.1400986537598,391.8165707008978,278.05183332435456,238.18072220707074,238.0174219896185,216.83883556958477,242.79559768125665,301.44855207688005,330.44663070763164,248.209491642817,232.55987429068452,237.34971880359151,215.63191974130183,243.915271031818,311.3983821683501,360.2782131405723,289.5961228131313,269.6244202258698,296.0052395763189,284.7705040331089,305.33348352216603,384.77725855218836,390.7380173215493,444.930013707632,348.2958982783387,264.1589014667229,268.9758518759821,312.5433815819304,280.4262092725589,356.4167990187988,284.6603047404602,4.82719719640853,449.50124918125755,381.97129382884395,525.6054358046579,532.8949432884399,337.9733804764311,316.1900105833335,357.00160127833885,278.5510288518517,304.7448535723907,441.8189986638608,473.9806952396185,311.7547783493263,282.0668374214365,318.2196796122334,282.1488295213244,304.67896501515133,441.5150897337264,477.9659562800224,323.1481828681257,302.3665588731762,310.3802451593715,258.5797081143098,295.24386770819325,411.82995457519655,456.82252124691365,303.478582329405,270.25445330976424,287.7968518080808,254.56956829590337,314.71166801010116,364.12469078563413,347.8145550516274,259.0558490227272,226.25678281498318,223.9833366484287,201.53709401178452,218.55868014085314,297.4904937789001,292.22993662996623,222.57168182435464,201.11264533540964,217.5973030140293,194.93451098063971,202.69719803911326,302.4092917278339,334.0629826487091,231.21733330723913,205.0119236487092,202.11090853395052,180.94945011980926,207.29722426094295,302.02361550336695,273.79150611167205,226.8373675628507,197.20432664646466,198.4311262542089,185.37047432323237,238.8466865690236,511.42550946728375,374.5303327654326,344.5415439876541,420.27547816835033,416.2493919893379,344.60294295117853,335.71399617171716,422.7526707076318,514.0952020112236,329.63795116386075,302.67417231369234,323.0509523187432,265.5993504736253,297.7077752365319,410.24118397923667,521.778054305275,343.8381156666665,301.58690726711575,328.82977385970815,281.08704413075196,307.97501121436585,433.0555183905722,470.71528398653174,320.85412172783384,302.9526477829965,319.686051373176,262.95252430078574,302.41626371885513,461.46641003703724,490.4370592825478,365.7690849949496,272.21093546633006,260.33519422390583,218.21995590235693,237.13734291414144,346.6218821801348,354.5949780572389,239.10836364635236,211.3710842340068,210.61115713355778,187.45945966638607,213.04536808473623,297.373694143659,303.13708302020177,214.02149777384952,204.65154601066217,230.84011503086418,223.04424405387212,221.31996863916953,278.84666057014584,291.87788891054976,223.7246896734008,207.941778349046,208.88473347306393,180.06480238945005,200.4341798164982,279.08795456565645,314.5389567873181,203.29512737457915,183.1303861004489,200.38157402469142,297.6323502042649,248.75695354208733,342.53184566273836,362.60654538888883,239.95606289057238,218.26368691694736,219.93949716329962,189.38479978507291,213.9928148456789,323.8002396167229,255.05776034624037,223.485908533109,202.43239224354676,199.98530133838352,186.46062269236802,213.70524279012338,301.83724131257003,356.0716817218293,218.1900925690235,198.86214364197525,200.27973234062853,174.3322910448934,196.15594429068454,289.914288275533,321.78014038159387,209.78175427160494,183.86203316386081,189.94488443153756,183.29100860409633,210.87690228445578,335.1248417446687,416.7973233647584,287.7249006598203,248.95408977272734,237.5333866402919,201.72531639898983,219.5657269635243,312.6500903613918,351.30581198484884,233.33274188608297,197.35657854797972,209.78011457912461,184.85301198653187,220.15060301515177,349.08697471604944,247.6318372584176,251.09441070145914,213.46578902581368,209.54470490589236,186.46517120987662,207.1867505875421,302.25244397643104,331.7531560345116,232.84491356705954,191.05765715235677,199.40650842704844,177.21558974410786,208.07720169977551,286.68395846240196,318.304649277497,240.92258989927046,404.31011043097675,419.433303663019,327.6345234524131,334.1326112457912,458.6459653017397,515.3067319074075,358.32010600953987,312.73372476234584,322.36330525420874,279.487962390572,300.58596116329994,424.6345411338383,411.70245782772145,328.2082778563411,315.85860091633,348.6736778835578,279.5856930960157,307.3058692771606,409.08430202244676,435.7318283084735,336.8285241346802,297.57353535970805,322.20462177048256,271.9521980984849,325.3464001840631,386.5990740890572,419.3646838496074,327.6861310269362,294.46875701554455,324.38662473681217,298.77865218518525,284.41458750308624,351.5901447076319,351.2335611043767,264.40701684736257,234.11755116498318,226.10234059539832,201.85271211503917,223.20984230241305,278.4471307991022,286.01670314393937,229.82299383445567,198.59607855836143,208.81960996857464,191.21257971745248,225.9437935237374,299.66114207070694,316.74701066610515,243.0091464124577,212.86753820274978,223.41570762514021,199.27546296043775,217.93484754405162,280.4030349068461,296.85216672766563,231.34123176599326,199.2446172696407,205.56761957182954,184.01370763187415,226.31252360381606,329.05370041077435,370.41985580920317,455.9630858720539,402.5541822491582,407.7911682028618,309.3939828477553,338.408104332772,488.2937407275532,560.0247350998875,364.0021015308646,315.6119910224464,343.9884804902917,271.30356510774413,316.71315816554426,446.57813587205396,503.08729646156013,353.93410375336697,341.32433951515134,346.50524366526395,269.0801588445569,308.76155662682385,453.6985202452301,505.8476156026937,330.59500220426503,314.22800471324376,335.6807601054995,261.9906717598203,289.26724126992144,438.3851672177328,497.49258687654344,329.2271728406284,336.191871899944,440.2358327239057,355.9520308933784,379.14663024579085,522.6248670145902,553.011763227273,359.97797826374847,329.0742261338946,348.03665715993236,286.48705000224464,394.2033209624017,419.9265733664424,473.6089409169474,343.2811032631874,308.9728245196407,350.6158639118971,302.0497234102132,313.4332974180696,460.62905207182956,524.9217709747473,350.5218804382715,304.26889184399533,328.2415016795733,276.2251583613915,296.52282831874305,425.88452901627403,500.63327662682383,321.4403097241861,287.69854742143656,314.71362401823774,257.9771415039283,315.306437663019,490.201598140011,398.3453940677895,546.1234802104373,394.36136565376006,403.36696915796875,317.6870825224468,328.4681580976431,457.9487345583614,528.3268363080804,332.9836100297421,310.04812026206497,330.0187901352411,262.65846623063953,310.32995003647585,441.1471387076317,536.8234578714928,348.4154545780022,310.53153992199776,325.60831161655466,287.2366784762626,318.7310509309766,428.5747186268239,509.22146857126785,342.7878546689116,303.7180740802468,324.98614253759825,267.01677724579145,314.04030588888924,477.51128234343435,574.4619986487088,458.7057025667786,412.637028074355,401.30618099831656,324.894229519641,356.59099512738476,465.42463867564516,568.9617325476997,443.4810830482603,373.2457704584735,410.842331017396,325.7812451621774,360.69606467171724,479.70308969079724,560.6656187303593,443.42477317115583,448.4102447693603,437.6916381526377,410.73988770650993,424.99964972946094,525.0031000785636,592.9322116882721,565.7370067448371,597.6307368532548,542.0779302553307,489.3930733978675,415.59829345230105,401.9807155280583,434.34253713524146,512.3291432121213,473.83864740404033,7.168135230078564,369.11525924859745,364.13057627721656,410.17046914814796,319.454151492705,268.1743776952861,277.30687436419765,234.2776033282827,246.56634459764302,319.84113805274967,389.9331936588101,248.51040629292922,220.98765042592606,224.98539341750825,208.27505327833893,237.71040168209873,348.9705016874301,380.6268411846245,251.52519467957342,227.4460029292928,231.87575312401782,204.74889957098753,233.97148256172835,330.4432497210999,354.4466616245796,230.08396069921426,202.02572954320993,211.5240830723906,192.51524184792382,244.61261050308644,368.24121315600433,457.51654093771054,302.0773776509542,266.69463688439987,253.60445962906846,228.6711380157129,245.312876077441,336.6507266436589,349.6039461004489,257.0157980039282,224.930406800056,224.5316122471941,216.02869975813698,276.8044152710436,315.85581823737374,244.04414805499434,236.10600672446688,271.0932290084174,279.1801672093153,244.8714399068464,271.42593435802456,321.4102553524133,387.9568281683501,248.79342920370362,228.89465654938252,222.09593380022469,199.17970088383834,244.94299939057245,356.48900116442167,460.4012227407406,306.41851178395063,276.2992372783388,271.22926384231187,240.51616669977537,260.226697459596,368.89854708922553,370.12537147362514,269.56899555892244,256.9482402223907,238.8427200196408,214.69622281341194,243.99887497418646,346.0211901773287,371.8860111857464,261.8397451818183,233.08614816498329,223.69809202805834,209.49740908501676,262.45114763243544,350.224033794613,362.7757586346799,259.6320072976991,228.6025376066218,229.10111667564536,205.95227665600447,245.17767058080804,331.0071291007296,359.82815385129066,245.72325195173948,248.75358758305262,312.69537656453457,294.38209990011234,286.36183274298537,366.9439932115598,370.18494788776644,291.65814644388337,260.82391581369274,258.7767749753085,223.74765203984276,250.20723794163882,342.65040239842887,370.33615268574624,254.6154635510664,226.50022277160494,245.85089111391676,234.92884060437711,256.0624224175085,353.06153799663286,384.14419200841746,270.3113192850727,239.0675157323233,236.31212685690258,220.0600684635242,245.5810931329967,330.40488941582447,351.2351296228956,238.52365212514013,210.34746637177327,223.7510269668912,242.76775641863085,378.5125701992143,399.01923338720513,416.8842789163858,312.1465476728396,285.91090180751945,283.38919807070715,249.204438798541,270.0921565488218,396.57993270258123,313.166258725028,294.5365045246915,253.7389865572389,250.79441021773283,222.00317962233441,271.3442974786757,398.31568630415296,447.9158990701458,278.67284566778903,250.49129519276096,261.6378400544331,234.01017734848483,257.42307353030276,369.7435033453987,414.1798130319865,300.11379910437694,259.8947283984286,270.37315429854084,240.4640185246914,314.5451908181819,480.206673385522,574.3910028282831,455.7133573319307,422.8005846754771,419.71349723625127,341.74783732227826,369.06572729349045,507.5405561958472,600.8394600727831,391.10707746352375,350.01408932053874,359.9525095388889,286.2060319458477,340.4130196268238,471.7888753675644,543.0671839890572,374.0500178219416,377.46230307070715,380.00626100561163,312.0959815618966,369.94027534281696,525.7865624988776,443.64108929966324,393.4950779741866,359.3279046178451,361.06156793546563,291.07797749567914,332.94021368574664,466.6063210973624,548.0154820795182,358.6263704786758,375.72863359090877,497.16790179124547,395.9833232864758,433.65510320987636,571.5723024354656,551.3062187991023,423.6530354320989,367.4641142152078,411.3311616324352,339.5244087522448,361.3840522884401,446.11936204096503,504.33890950280585,363.6178888181819,337.51529630920294,372.8984849489337,327.7456380594836,366.69594340067334,463.7224107918069,502.08041491470254,384.9389696812571,341.0979231071831,354.3127995993268,303.87846300056145,356.47825195202046,447.49019132547664,491.0393020534233,366.441747640909,333.8819677622335,350.9820322951737,304.9346759960719,390.0580521730078,586.3607127166109,585.5754629730638,455.17386874859676,407.75160387766556,406.47957014590315,327.37105036980927,372.23710329422,440.0107833877666,381.2626964842873,440.78447486868674,375.01703589001124,380.50770577199796,313.05245676430974,412.1684652351291,525.4427755662178,512.8207772334456,389.86933886812574,353.241101600842,366.85373737727264,319.5531448221099,366.60000457407403,450.76888754040397,485.8335563574636,382.47810885370336,350.5602343153757,359.1896693807517,307.5439547441078,356.7549002244666,492.1173383468014,547.5295184388327,435.55137608849583,508.7261464377109,493.28456369248,396.7974421997754,413.2409105679012,590.8352380982044,644.0194068524129,430.63006564180716,380.08542989113374,395.9783950019642,324.21088385297406,365.5051447542088,517.1293131386085,574.2678557272728,386.3104321329965,382.7914444609989,416.43640179461255,333.0964097222224,366.89443038496086,525.1927503136923,582.2294392216608,402.76396013411926,360.2215145900671,387.44092139281696,312.75062341245797,362.56109711756466,499.7115937962965,571.30357102413,376.68971044287326,341.8241628200337,399.0923339248035,446.8803922261504,466.1724959281703,661.8272601711562,692.553837595398,454.27880920089774,390.6673826975307,404.35596552918065,338.4208922918066,490.42352359595964,486.8445415370367,546.2004511632998,404.95767238007863,328.36226366874286,386.1942235415266,324.3278323019081,389.3542939809201,537.6279225763188,601.2778355101012,392.4015084382715,370.54341256228963,377.5798799288999,306.96972333406285,358.60864545454547,482.5761563529746,571.7077115336693,364.71063543097665,329.4422564955105,336.35697096251425,287.2390959139171,356.8327111103814,514.0049673838387,459.73646915656565,427.91795450729484,579.9321733928172,480.0754432996632,364.56940006004504,376.62502135634105,521.7302716930415,604.5802222045453,383.6391144708191,349.90414089219973,387.0629698742983,284.4768035929853,351.66892539562315,486.86719018462423,592.6820778063975,402.0812060704267,347.3176139500563,383.8126756172837,314.50761352469135,373.5239440241302,484.6952197844559,570.0585212685181,390.9570487833895,343.83288492424265,369.76309210437717,297.61971381986524,362.00170316762046,477.3266015061728,600.7967468754211,427.62969921240153,481.26876691397274,486.6832636588104,379.84457463075177,420.5129808998318,542.2011043075195,641.481099579125,461.46728899158256,399.87046567340076,419.6934804079688,368.926587275309,397.5268281812573,513.8428082441078,594.5148267904042,455.45102253462386,437.603789785073,482.56467403423125,454.43869176038174,501.4421451745231,614.7718955489897,659.6054790501119,602.0692911835021,640.775482188552,671.237966539843,608.1258783602698,531.2711508226713,470.0977155824919,443.1452933681819,488.6431120976431,578.0267877463525,541.3252196975305,9.221882154882154,598.5844135028059,688.4038832182937,536.4516695269359,468.75445515656565,461.1030616851855,366.7252339746347,400.45361063731724,555.1119293759815,614.3063058136929,395.9008086212117,363.10800285353537,370.3958008613913,315.360619006734,376.5584175235689,538.6235389652078,593.7134361969697,398.30764868181836,354.0570993209875,414.55892987934936,310.2248984488775,363.8784669118967,508.8410964775533,550.4645101085862,369.29892654152655,342.01222665768836,363.21811339506155,299.5004764080808,370.64689005948384,544.2976300959598,613.4743150392814,489.37335290897886,429.42379785577987,433.4236470280587,364.9428546245794,431.3055600379913,528.5937576038157,391.57779517059515,357.206889603816,419.1580472278338,443.876943799663,362.72523629349047,391.78006165852975,482.05557070398464,527.6175637076316,419.00745791526367,403.5420236195283,406.16987767283985,319.9061044607183,377.3906473742985,495.9541084396744,556.33236252991,392.20406072951715,359.89285134349086,379.10963962626255,313.108489232323,360.22603909365904,514.424280992705,558.0823385527501,407.7551951882718,503.8875663838387,492.9586783989899,376.8601303633558,419.4987630854659,577.228213834455,605.4761555474184,414.212415330528,360.43285347334427,389.8124853586416,321.26366825196425,373.11644945387195,503.98491014085266,535.90366450477,374.8969658277216,374.9644794943882,415.15453293658794,325.73093825796843,374.1620758432663,502.2662806217733,521.6641874405162,387.46902409708207,349.43649663002253,401.1678866891139,370.64525533249133,355.51301911447774,449.00870790993247,467.6408893726154,370.9640099092595,348.57803765016826,370.44836641021317,346.4502457691922,489.60006738215526,645.8050398030306,710.947413580808,446.2610505406846,407.2671723035917,417.94884572362497,329.9325029051628,387.05229861823807,520.7527436835018,566.1485622340061,373.3720336380471,365.68857141498336,377.4475202300784,306.8379399245232,374.6387765808083,483.7943277418634,713.7114137233445,755.2865347322672,646.5147071184066,596.1988159589786,561.773164516274,480.9535600392817,573.5932293209314,583.2603434421995,381.59413795679023,395.5103357086419,376.14371382772157,304.90451684231203,397.7056278866442,598.9538552710436,712.7503970594818,546.5688386262628,444.55979244629646,448.1787060037598,364.03008022699197,427.28536258484854,601.1182811352403,460.6198866825473,433.09071500218863,388.8947738389452,408.27354827918026,338.6050544891686,374.2053310557802,523.4958031779457,600.6350546464644,419.8163225875422,371.4538938496072,376.6739390239621,326.3022223381035,396.19756337003366,511.0870724410771,578.3791374410775,390.013850335578,340.27901527300793,357.7508634870934,320.9700466459034,478.5012454051627,458.0175196769362,538.6384164079684,422.25163814365885,546.7609370879351,455.4014143181817,389.7508056561731,416.5898345723907,567.8993356172844,630.602938327722,409.5927176576882,369.6490759292927,390.99189105785655,307.03681983226716,357.66235668911355,474.65668134932645,531.6945931329968,384.61402528731765,349.1962812034229,397.4902565008415,348.21899158305274,414.08385986475844,545.99950039899,469.9006867962965,412.88123731599364,381.1717295287875,380.3202307551626,314.0591119130192,360.16424013019076,482.7703899901801,535.5469511408527,384.2511834988774,334.9881789859708,354.93236640965193,310.9679376672276,480.9357766332774,605.2105173108865,632.2748080499435,477.4924797109991,408.5362278569024,422.06001158305247,332.04420988692493,386.3992144915824,487.23904089713824,523.2807520403477,386.3278030575196,351.87417514646427,360.546802719697,300.29423576094285,378.8060768997196,497.8635718647588,523.3370913203142,394.2871779023567,355.31778466924806,385.437063414141,324.81688497446686,362.86961579180695,461.4435869842875,475.7955544006729,391.34882272278384,349.47919410942774,365.3883192950056,299.24593117738505,375.7496284359708,510.7821952631877,559.9982924882721,502.5703732059485,436.35961778299685,437.6233501982043,349.5415814595958,395.1137705561732,481.9883344009535,507.47555378114527,401.34429788092024,356.64364816778925,369.5047340695846,334.8649157940515,418.4413609141977,401.18177276481504,427.51185688995497,404.05852967508423,403.29497831257004,407.3769377295175,323.99019132356904,380.90186072671145,465.1999639955108,506.09997190740734,401.1595027177332,370.83051513776644,378.57073397856357,311.12319255836167,362.9058770409649,443.9099520123455,481.93177315319895,377.0178096610549,350.56752808978644,410.45461506464596,402.97731252805823,469.76969003479235,593.4799163400672,622.8876866066219,456.65729238131354,421.76376266666654,414.4466425359147,334.37109910746364,369.79182209203157,513.9947020476995,570.9142672650397,380.90710388692463,338.6239882008979,350.31541637261495,318.9252598125703,388.2786764680134,504.6124003973063,571.6400995476992,382.2442996498315,365.30882265527487,374.2583613989898,299.2572009074073,372.4388241668353,483.6309708176206,534.429040923176,372.7370596485407,329.91488654124595,354.523667253816,292.22498374483723,394.61194770258135,659.3903806004495,705.0954943694161,467.48628445005636,406.3485387424239,420.7139730758139,326.27909099775513,447.59384922951745,523.3174561341192,610.6910661661052,407.0217996080245,350.8821514882153,373.24695717901267,313.6138557786195,374.83401078900096,499.78315999663334,619.8118340152639,398.6848619537038,353.89371045061694,363.5373002093153,327.161212164983,375.6753883604377,473.41549714590366,574.048086396745,375.1445820416949,342.6436015458475,355.4511170424804,305.47782260544346,358.4950910387208,471.9835561164419,535.8239006778898,367.52160660577994,455.57376317845114,543.7899096257014,445.46110219500514,481.74422922390613,498.176935280022,639.9366465398431,476.6840869273289,430.661968818182,443.47746296801336,330.1019972080248,400.3347105063414,521.7748439635241,667.2178632985411,412.8637334326605,388.2164023814815,466.0110783318185,345.2459349135239,414.29043334567905,525.0594842950055,631.4135734629625,434.21003415207673,387.36321605162743,422.94334537373743,334.1511258250843,414.04011494725034,509.5773419663302,592.9975264239612,422.32534683092103,362.37963425101043,430.61824036139166,473.4025337194164,478.93093759539846,624.8263563742986,716.1588306451736,503.2687648546575,523.3144702194164,486.8988412684065,378.2701363103254,434.8720112132439,516.3023265527501,628.1280830448933,473.7663882166107,419.2826125662179,465.63592540263727,419.5517300085859,515.6564457384959,601.3780180972503,707.3355267059491,577.0161744100451,606.286413037037,662.9109579537034,637.401454031424,719.498045530359,699.6845359451737,579.5570981470258,472.76963530751937,533.9695363906283,501.7442406481482,652.9983378183508,622.3416453698094,6.780303589786756,786.9283786947243,619.7402243684064,555.6080043445571,436.37539510072907,471.1561380409652,619.4199208468017,669.216470806959,445.41240005976425,416.7427436929851,432.5155387570148,353.33097306621784,431.48088910673385,572.9800988922559,659.7784320078566,462.67601917789034,421.34486136475886,439.2009117128504,340.6003057684062,407.24112855639714,601.9762766021324,644.3402684927048,447.8864265572393,404.7563270375977,417.70066942912473,323.52162569455675,405.2266884607182,548.7376014870935,603.3484809444441,391.7641795942762,436.7128428310884,539.7179477407406,420.24844703423145,468.38785181217713,635.6838055067338,646.4577054405167,441.4547666560047,414.9445641425362,439.73365723063984,350.3857956784512,422.11405154573515,530.260748041527,603.1542648787881,445.7432278717733,360.6134607570147,418.50749443546584,362.4962160870371,425.8449566722783,596.7423367020201,481.98491751599295,425.9932996412458,402.8101442342875,414.9203335593154,379.11251411672265,458.02328785185216,575.763873629349,435.3024623894499,418.0454254422,532.7535516557235,565.9493321896744,469.2621655847363,495.3085164276096,631.7263451510665,671.7080191380476,443.4024921944441,427.53464083894454,438.2977900997191,366.947919182211,434.2622372895624,561.8262817095961,643.101474171156,423.33915826936027,393.3771238185745,457.70027349551043,392.3165919326602,455.83994066778916,583.0003177070708,649.349404369809,463.76482037598254,418.9791953855218,430.9095426116724,376.4579180858582,442.15158558642014,582.5697625628508,618.1579555028061,440.01305557912457,394.4691069455667,462.75700619135847,357.81388383726176,493.1257227160496,821.0347713013471,638.9730970246917,468.68216724410803,468.912814815769,475.10174405555557,383.3106454001124,429.57475416666676,554.7651346565651,618.2455988221096,414.92263242873156,416.01090358922573,444.31106222390565,413.59683792536475,415.76289945510706,504.2706048978674,553.0268210510658,435.4191391164422,402.46706832884394,412.86936826470253,379.23906953013454,446.574575685746,547.1115700723907,639.7700756473065,423.72195900392825,403.4770373945002,438.36098933754204,350.67902698961854,447.6075337275532,599.4836228625139,584.314953967733,733.276861333895,509.1605466402917,518.6572711582493,402.1630802373742,438.1584775622896,583.2872401054991,688.765773245791,435.6383249242422,401.68978612850725,429.9112834421999,364.00135411840654,429.18766317845126,626.8108255628512,496.1840144997195,461.8605904163863,453.3130724345119,472.1703748282827,352.68686305387206,434.2174174341752,581.1825936212123,674.4887128108868,437.1128822255892,405.8090729416384,418.80113755639735,347.98442419191923,552.4753940030861,523.1312531672277,595.8314460757572,435.92207465656537,416.65054825505035,481.5163576941642,430.3362361644218,515.3879456369248,660.0101622626264,772.4531540375981,512.173878282828,452.04637932435475,473.052658295343,374.354546029742,446.1931178843436,557.6502155157131,681.0740442631873,431.17270423776665,409.32264862457885,441.0134168890574,370.560239603816,468.45478538439966,615.1142260867005,541.6072509421997,443.96542858080824,441.82195120061704,429.9433284451183,342.23840121133526,427.07617568120077,540.554560681818,613.1374066296274,423.88767961083073,382.83864697699187,410.71660213832763,353.99091070258146,450.20939350880997,677.6262187811441,727.4855317359712,519.1601620740742,467.0927530941077,473.79439568799063,392.969702557071,452.18423243153757,560.2397267163296,617.7515838249154,451.26759878591474,409.952170427048,420.2020179061166,353.339709836981,429.5676865282267,543.814323835577,617.7349601700338,459.2174647300784,409.7271093939392,430.964521929293,386.24470699046026,439.0675079791244,523.5140553765434,574.7972734259258,458.229139784512,400.4386266043771,415.63021558193043,370.2860982372615,468.6305736271039,579.2990267884401,630.6130628236249,497.1138276489897,554.729384514029,541.3647677053877,408.5681734747474,464.52058705275,541.9156287833893,588.9782066649826,447.5112030398429,402.7869523599886,411.9751257070709,365.5369876373174,463.73385074186297,444.7982800664985,485.7686181094278,427.0047172170593,427.98088436531987]}],                        {\"font\":{\"color\":\"white\",\"size\":12},\"height\":300,\"paper_bgcolor\":\"#232425\",\"plot_bgcolor\":\"#232425\",\"template\":{\"data\":{\"bar\":[{\"error_x\":{\"color\":\"#2a3f5f\"},\"error_y\":{\"color\":\"#2a3f5f\"},\"marker\":{\"line\":{\"color\":\"#E5ECF6\",\"width\":0.5},\"pattern\":{\"fillmode\":\"overlay\",\"size\":10,\"solidity\":0.2}},\"type\":\"bar\"}],\"barpolar\":[{\"marker\":{\"line\":{\"color\":\"#E5ECF6\",\"width\":0.5},\"pattern\":{\"fillmode\":\"overlay\",\"size\":10,\"solidity\":0.2}},\"type\":\"barpolar\"}],\"carpet\":[{\"aaxis\":{\"endlinecolor\":\"#2a3f5f\",\"gridcolor\":\"white\",\"linecolor\":\"white\",\"minorgridcolor\":\"white\",\"startlinecolor\":\"#2a3f5f\"},\"baxis\":{\"endlinecolor\":\"#2a3f5f\",\"gridcolor\":\"white\",\"linecolor\":\"white\",\"minorgridcolor\":\"white\",\"startlinecolor\":\"#2a3f5f\"},\"type\":\"carpet\"}],\"choropleth\":[{\"colorbar\":{\"outlinewidth\":0,\"ticks\":\"\"},\"type\":\"choropleth\"}],\"contour\":[{\"colorbar\":{\"outlinewidth\":0,\"ticks\":\"\"},\"colorscale\":[[0.0,\"#0d0887\"],[0.1111111111111111,\"#46039f\"],[0.2222222222222222,\"#7201a8\"],[0.3333333333333333,\"#9c179e\"],[0.4444444444444444,\"#bd3786\"],[0.5555555555555556,\"#d8576b\"],[0.6666666666666666,\"#ed7953\"],[0.7777777777777778,\"#fb9f3a\"],[0.8888888888888888,\"#fdca26\"],[1.0,\"#f0f921\"]],\"type\":\"contour\"}],\"contourcarpet\":[{\"colorbar\":{\"outlinewidth\":0,\"ticks\":\"\"},\"type\":\"contourcarpet\"}],\"heatmap\":[{\"colorbar\":{\"outlinewidth\":0,\"ticks\":\"\"},\"colorscale\":[[0.0,\"#0d0887\"],[0.1111111111111111,\"#46039f\"],[0.2222222222222222,\"#7201a8\"],[0.3333333333333333,\"#9c179e\"],[0.4444444444444444,\"#bd3786\"],[0.5555555555555556,\"#d8576b\"],[0.6666666666666666,\"#ed7953\"],[0.7777777777777778,\"#fb9f3a\"],[0.8888888888888888,\"#fdca26\"],[1.0,\"#f0f921\"]],\"type\":\"heatmap\"}],\"heatmapgl\":[{\"colorbar\":{\"outlinewidth\":0,\"ticks\":\"\"},\"colorscale\":[[0.0,\"#0d0887\"],[0.1111111111111111,\"#46039f\"],[0.2222222222222222,\"#7201a8\"],[0.3333333333333333,\"#9c179e\"],[0.4444444444444444,\"#bd3786\"],[0.5555555555555556,\"#d8576b\"],[0.6666666666666666,\"#ed7953\"],[0.7777777777777778,\"#fb9f3a\"],[0.8888888888888888,\"#fdca26\"],[1.0,\"#f0f921\"]],\"type\":\"heatmapgl\"}],\"histogram\":[{\"marker\":{\"pattern\":{\"fillmode\":\"overlay\",\"size\":10,\"solidity\":0.2}},\"type\":\"histogram\"}],\"histogram2d\":[{\"colorbar\":{\"outlinewidth\":0,\"ticks\":\"\"},\"colorscale\":[[0.0,\"#0d0887\"],[0.1111111111111111,\"#46039f\"],[0.2222222222222222,\"#7201a8\"],[0.3333333333333333,\"#9c179e\"],[0.4444444444444444,\"#bd3786\"],[0.5555555555555556,\"#d8576b\"],[0.6666666666666666,\"#ed7953\"],[0.7777777777777778,\"#fb9f3a\"],[0.8888888888888888,\"#fdca26\"],[1.0,\"#f0f921\"]],\"type\":\"histogram2d\"}],\"histogram2dcontour\":[{\"colorbar\":{\"outlinewidth\":0,\"ticks\":\"\"},\"colorscale\":[[0.0,\"#0d0887\"],[0.1111111111111111,\"#46039f\"],[0.2222222222222222,\"#7201a8\"],[0.3333333333333333,\"#9c179e\"],[0.4444444444444444,\"#bd3786\"],[0.5555555555555556,\"#d8576b\"],[0.6666666666666666,\"#ed7953\"],[0.7777777777777778,\"#fb9f3a\"],[0.8888888888888888,\"#fdca26\"],[1.0,\"#f0f921\"]],\"type\":\"histogram2dcontour\"}],\"mesh3d\":[{\"colorbar\":{\"outlinewidth\":0,\"ticks\":\"\"},\"type\":\"mesh3d\"}],\"parcoords\":[{\"line\":{\"colorbar\":{\"outlinewidth\":0,\"ticks\":\"\"}},\"type\":\"parcoords\"}],\"pie\":[{\"automargin\":true,\"type\":\"pie\"}],\"scatter\":[{\"marker\":{\"colorbar\":{\"outlinewidth\":0,\"ticks\":\"\"}},\"type\":\"scatter\"}],\"scatter3d\":[{\"line\":{\"colorbar\":{\"outlinewidth\":0,\"ticks\":\"\"}},\"marker\":{\"colorbar\":{\"outlinewidth\":0,\"ticks\":\"\"}},\"type\":\"scatter3d\"}],\"scattercarpet\":[{\"marker\":{\"colorbar\":{\"outlinewidth\":0,\"ticks\":\"\"}},\"type\":\"scattercarpet\"}],\"scattergeo\":[{\"marker\":{\"colorbar\":{\"outlinewidth\":0,\"ticks\":\"\"}},\"type\":\"scattergeo\"}],\"scattergl\":[{\"marker\":{\"colorbar\":{\"outlinewidth\":0,\"ticks\":\"\"}},\"type\":\"scattergl\"}],\"scattermapbox\":[{\"marker\":{\"colorbar\":{\"outlinewidth\":0,\"ticks\":\"\"}},\"type\":\"scattermapbox\"}],\"scatterpolar\":[{\"marker\":{\"colorbar\":{\"outlinewidth\":0,\"ticks\":\"\"}},\"type\":\"scatterpolar\"}],\"scatterpolargl\":[{\"marker\":{\"colorbar\":{\"outlinewidth\":0,\"ticks\":\"\"}},\"type\":\"scatterpolargl\"}],\"scatterternary\":[{\"marker\":{\"colorbar\":{\"outlinewidth\":0,\"ticks\":\"\"}},\"type\":\"scatterternary\"}],\"surface\":[{\"colorbar\":{\"outlinewidth\":0,\"ticks\":\"\"},\"colorscale\":[[0.0,\"#0d0887\"],[0.1111111111111111,\"#46039f\"],[0.2222222222222222,\"#7201a8\"],[0.3333333333333333,\"#9c179e\"],[0.4444444444444444,\"#bd3786\"],[0.5555555555555556,\"#d8576b\"],[0.6666666666666666,\"#ed7953\"],[0.7777777777777778,\"#fb9f3a\"],[0.8888888888888888,\"#fdca26\"],[1.0,\"#f0f921\"]],\"type\":\"surface\"}],\"table\":[{\"cells\":{\"fill\":{\"color\":\"#EBF0F8\"},\"line\":{\"color\":\"white\"}},\"header\":{\"fill\":{\"color\":\"#C8D4E3\"},\"line\":{\"color\":\"white\"}},\"type\":\"table\"}]},\"layout\":{\"annotationdefaults\":{\"arrowcolor\":\"#2a3f5f\",\"arrowhead\":0,\"arrowwidth\":1},\"autotypenumbers\":\"strict\",\"coloraxis\":{\"colorbar\":{\"outlinewidth\":0,\"ticks\":\"\"}},\"colorscale\":{\"diverging\":[[0,\"#8e0152\"],[0.1,\"#c51b7d\"],[0.2,\"#de77ae\"],[0.3,\"#f1b6da\"],[0.4,\"#fde0ef\"],[0.5,\"#f7f7f7\"],[0.6,\"#e6f5d0\"],[0.7,\"#b8e186\"],[0.8,\"#7fbc41\"],[0.9,\"#4d9221\"],[1,\"#276419\"]],\"sequential\":[[0.0,\"#0d0887\"],[0.1111111111111111,\"#46039f\"],[0.2222222222222222,\"#7201a8\"],[0.3333333333333333,\"#9c179e\"],[0.4444444444444444,\"#bd3786\"],[0.5555555555555556,\"#d8576b\"],[0.6666666666666666,\"#ed7953\"],[0.7777777777777778,\"#fb9f3a\"],[0.8888888888888888,\"#fdca26\"],[1.0,\"#f0f921\"]],\"sequentialminus\":[[0.0,\"#0d0887\"],[0.1111111111111111,\"#46039f\"],[0.2222222222222222,\"#7201a8\"],[0.3333333333333333,\"#9c179e\"],[0.4444444444444444,\"#bd3786\"],[0.5555555555555556,\"#d8576b\"],[0.6666666666666666,\"#ed7953\"],[0.7777777777777778,\"#fb9f3a\"],[0.8888888888888888,\"#fdca26\"],[1.0,\"#f0f921\"]]},\"colorway\":[\"#636efa\",\"#EF553B\",\"#00cc96\",\"#ab63fa\",\"#FFA15A\",\"#19d3f3\",\"#FF6692\",\"#B6E880\",\"#FF97FF\",\"#FECB52\"],\"font\":{\"color\":\"#2a3f5f\"},\"geo\":{\"bgcolor\":\"white\",\"lakecolor\":\"white\",\"landcolor\":\"#E5ECF6\",\"showlakes\":true,\"showland\":true,\"subunitcolor\":\"white\"},\"hoverlabel\":{\"align\":\"left\"},\"hovermode\":\"closest\",\"mapbox\":{\"style\":\"light\"},\"paper_bgcolor\":\"white\",\"plot_bgcolor\":\"#E5ECF6\",\"polar\":{\"angularaxis\":{\"gridcolor\":\"white\",\"linecolor\":\"white\",\"ticks\":\"\"},\"bgcolor\":\"#E5ECF6\",\"radialaxis\":{\"gridcolor\":\"white\",\"linecolor\":\"white\",\"ticks\":\"\"}},\"scene\":{\"xaxis\":{\"backgroundcolor\":\"#E5ECF6\",\"gridcolor\":\"white\",\"gridwidth\":2,\"linecolor\":\"white\",\"showbackground\":true,\"ticks\":\"\",\"zerolinecolor\":\"white\"},\"yaxis\":{\"backgroundcolor\":\"#E5ECF6\",\"gridcolor\":\"white\",\"gridwidth\":2,\"linecolor\":\"white\",\"showbackground\":true,\"ticks\":\"\",\"zerolinecolor\":\"white\"},\"zaxis\":{\"backgroundcolor\":\"#E5ECF6\",\"gridcolor\":\"white\",\"gridwidth\":2,\"linecolor\":\"white\",\"showbackground\":true,\"ticks\":\"\",\"zerolinecolor\":\"white\"}},\"shapedefaults\":{\"line\":{\"color\":\"#2a3f5f\"}},\"ternary\":{\"aaxis\":{\"gridcolor\":\"white\",\"linecolor\":\"white\",\"ticks\":\"\"},\"baxis\":{\"gridcolor\":\"white\",\"linecolor\":\"white\",\"ticks\":\"\"},\"bgcolor\":\"#E5ECF6\",\"caxis\":{\"gridcolor\":\"white\",\"linecolor\":\"white\",\"ticks\":\"\"}},\"title\":{\"x\":0.05},\"xaxis\":{\"automargin\":true,\"gridcolor\":\"white\",\"linecolor\":\"white\",\"ticks\":\"\",\"title\":{\"standoff\":15},\"zerolinecolor\":\"white\",\"zerolinewidth\":2},\"yaxis\":{\"automargin\":true,\"gridcolor\":\"white\",\"linecolor\":\"white\",\"ticks\":\"\",\"title\":{\"standoff\":15},\"zerolinecolor\":\"white\",\"zerolinewidth\":2}}},\"title\":{\"text\":\"G\\u00fcnl\\u00fck Ortalama Sat\\u0131\\u015f Adedi\"},\"xaxis\":{\"showgrid\":false},\"yaxis\":{\"showgrid\":false}},                        {\"responsive\": true}                    ).then(function(){\n",
       "                            \n",
       "var gd = document.getElementById('fdd66203-9ffd-4179-abe5-0c5b289c250a');\n",
       "var x = new MutationObserver(function (mutations, observer) {{\n",
       "        var display = window.getComputedStyle(gd).display;\n",
       "        if (!display || display === 'none') {{\n",
       "            console.log([gd, 'removed!']);\n",
       "            Plotly.purge(gd);\n",
       "            observer.disconnect();\n",
       "        }}\n",
       "}});\n",
       "\n",
       "// Listen for the removal of the full notebook cells\n",
       "var notebookContainer = gd.closest('#notebook-container');\n",
       "if (notebookContainer) {{\n",
       "    x.observe(notebookContainer, {childList: true});\n",
       "}}\n",
       "\n",
       "// Listen for the clearing of the current output cell\n",
       "var outputEl = gd.closest('.output');\n",
       "if (outputEl) {{\n",
       "    x.observe(outputEl, {childList: true});\n",
       "}}\n",
       "\n",
       "                        })                };                });            </script>        </div>"
      ]
     },
     "metadata": {},
     "output_type": "display_data"
    }
   ],
   "source": [
    "df_day_sa = df_train1.groupby('date').agg({\"sales\" : \"mean\"}).reset_index()\n",
    "fig6 = go.Figure(data=[go.Scatter(x=df_day_sa['date'], y=df_day_sa['sales'], fill='tozeroy', fillcolor='#FAA831', line_color='#bA6800'                                 )])\n",
    "fig6.update_layout(title_text='Günlük Ortalama Satış Adedi',height=300,paper_bgcolor='#232425',plot_bgcolor='#232425',\n",
    "                font=dict(\n",
    "                size=12,\n",
    "                color='white'))\n",
    "fig6.update_xaxes(showgrid=False)\n",
    "fig6.update_yaxes(showgrid=False)"
   ]
  },
  {
   "cell_type": "code",
   "execution_count": 11,
   "metadata": {},
   "outputs": [
    {
     "data": {
      "application/vnd.plotly.v1+json": {
       "config": {
        "plotlyServerURL": "https://plot.ly"
       },
       "data": [
        {
         "fill": "tozeroy",
         "fillcolor": "#FAA831",
         "line": {
          "color": "#bA6800"
         },
         "mode": "lines+markers",
         "type": "scatter",
         "x": [
          1,
          2,
          3,
          4,
          5,
          6,
          7,
          8,
          9,
          10,
          11,
          12,
          13,
          14,
          15,
          16,
          17,
          18,
          19,
          20,
          21,
          22,
          23,
          24,
          25,
          26,
          27,
          28,
          29,
          30,
          31,
          32,
          33,
          34,
          35,
          36,
          37,
          38,
          39,
          40,
          41,
          42,
          43,
          44,
          45,
          46,
          47,
          48,
          49,
          50,
          51,
          52,
          53
         ],
         "y": [
          409.09951933767485,
          347.5346426442359,
          338.142199154778,
          329.18625799045384,
          344.19523331887495,
          320.0775057355633,
          310.3770837135344,
          311.9264779163126,
          358.23097828404246,
          358.623611708985,
          342.9734550356648,
          338.3864740723448,
          360.50549938981754,
          350.1542244577,
          323.47142463536557,
          363.0956706603797,
          333.4531208674796,
          374.12684548092926,
          324.73349114654366,
          334.441299386223,
          321.0804340427983,
          367.7097326432255,
          368.5891875447326,
          342.2137057435594,
          364.814510111319,
          337.15732897946106,
          397.525779772743,
          361.95173993005966,
          361.4197975866902,
          359.5658154269424,
          384.20340359099094,
          334.673872228441,
          327.46672867182906,
          306.5800544635511,
          333.5842320596074,
          400.25933799029184,
          352.5943541244611,
          351.4849980397107,
          354.1693747029962,
          400.3141742718061,
          362.23173584269364,
          354.94360577939125,
          339.6100186593861,
          358.76225027527204,
          407.3465251628294,
          361.57666983530925,
          358.6915651121444,
          378.55045032703197,
          417.32057941901,
          412.9359644963602,
          484.16763108582444,
          482.90685202480967,
          478.19294168366997
         ]
        }
       ],
       "layout": {
        "font": {
         "color": "white",
         "size": 12
        },
        "height": 300,
        "paper_bgcolor": "#232425",
        "plot_bgcolor": "#232425",
        "template": {
         "data": {
          "bar": [
           {
            "error_x": {
             "color": "#2a3f5f"
            },
            "error_y": {
             "color": "#2a3f5f"
            },
            "marker": {
             "line": {
              "color": "#E5ECF6",
              "width": 0.5
             },
             "pattern": {
              "fillmode": "overlay",
              "size": 10,
              "solidity": 0.2
             }
            },
            "type": "bar"
           }
          ],
          "barpolar": [
           {
            "marker": {
             "line": {
              "color": "#E5ECF6",
              "width": 0.5
             },
             "pattern": {
              "fillmode": "overlay",
              "size": 10,
              "solidity": 0.2
             }
            },
            "type": "barpolar"
           }
          ],
          "carpet": [
           {
            "aaxis": {
             "endlinecolor": "#2a3f5f",
             "gridcolor": "white",
             "linecolor": "white",
             "minorgridcolor": "white",
             "startlinecolor": "#2a3f5f"
            },
            "baxis": {
             "endlinecolor": "#2a3f5f",
             "gridcolor": "white",
             "linecolor": "white",
             "minorgridcolor": "white",
             "startlinecolor": "#2a3f5f"
            },
            "type": "carpet"
           }
          ],
          "choropleth": [
           {
            "colorbar": {
             "outlinewidth": 0,
             "ticks": ""
            },
            "type": "choropleth"
           }
          ],
          "contour": [
           {
            "colorbar": {
             "outlinewidth": 0,
             "ticks": ""
            },
            "colorscale": [
             [
              0,
              "#0d0887"
             ],
             [
              0.1111111111111111,
              "#46039f"
             ],
             [
              0.2222222222222222,
              "#7201a8"
             ],
             [
              0.3333333333333333,
              "#9c179e"
             ],
             [
              0.4444444444444444,
              "#bd3786"
             ],
             [
              0.5555555555555556,
              "#d8576b"
             ],
             [
              0.6666666666666666,
              "#ed7953"
             ],
             [
              0.7777777777777778,
              "#fb9f3a"
             ],
             [
              0.8888888888888888,
              "#fdca26"
             ],
             [
              1,
              "#f0f921"
             ]
            ],
            "type": "contour"
           }
          ],
          "contourcarpet": [
           {
            "colorbar": {
             "outlinewidth": 0,
             "ticks": ""
            },
            "type": "contourcarpet"
           }
          ],
          "heatmap": [
           {
            "colorbar": {
             "outlinewidth": 0,
             "ticks": ""
            },
            "colorscale": [
             [
              0,
              "#0d0887"
             ],
             [
              0.1111111111111111,
              "#46039f"
             ],
             [
              0.2222222222222222,
              "#7201a8"
             ],
             [
              0.3333333333333333,
              "#9c179e"
             ],
             [
              0.4444444444444444,
              "#bd3786"
             ],
             [
              0.5555555555555556,
              "#d8576b"
             ],
             [
              0.6666666666666666,
              "#ed7953"
             ],
             [
              0.7777777777777778,
              "#fb9f3a"
             ],
             [
              0.8888888888888888,
              "#fdca26"
             ],
             [
              1,
              "#f0f921"
             ]
            ],
            "type": "heatmap"
           }
          ],
          "heatmapgl": [
           {
            "colorbar": {
             "outlinewidth": 0,
             "ticks": ""
            },
            "colorscale": [
             [
              0,
              "#0d0887"
             ],
             [
              0.1111111111111111,
              "#46039f"
             ],
             [
              0.2222222222222222,
              "#7201a8"
             ],
             [
              0.3333333333333333,
              "#9c179e"
             ],
             [
              0.4444444444444444,
              "#bd3786"
             ],
             [
              0.5555555555555556,
              "#d8576b"
             ],
             [
              0.6666666666666666,
              "#ed7953"
             ],
             [
              0.7777777777777778,
              "#fb9f3a"
             ],
             [
              0.8888888888888888,
              "#fdca26"
             ],
             [
              1,
              "#f0f921"
             ]
            ],
            "type": "heatmapgl"
           }
          ],
          "histogram": [
           {
            "marker": {
             "pattern": {
              "fillmode": "overlay",
              "size": 10,
              "solidity": 0.2
             }
            },
            "type": "histogram"
           }
          ],
          "histogram2d": [
           {
            "colorbar": {
             "outlinewidth": 0,
             "ticks": ""
            },
            "colorscale": [
             [
              0,
              "#0d0887"
             ],
             [
              0.1111111111111111,
              "#46039f"
             ],
             [
              0.2222222222222222,
              "#7201a8"
             ],
             [
              0.3333333333333333,
              "#9c179e"
             ],
             [
              0.4444444444444444,
              "#bd3786"
             ],
             [
              0.5555555555555556,
              "#d8576b"
             ],
             [
              0.6666666666666666,
              "#ed7953"
             ],
             [
              0.7777777777777778,
              "#fb9f3a"
             ],
             [
              0.8888888888888888,
              "#fdca26"
             ],
             [
              1,
              "#f0f921"
             ]
            ],
            "type": "histogram2d"
           }
          ],
          "histogram2dcontour": [
           {
            "colorbar": {
             "outlinewidth": 0,
             "ticks": ""
            },
            "colorscale": [
             [
              0,
              "#0d0887"
             ],
             [
              0.1111111111111111,
              "#46039f"
             ],
             [
              0.2222222222222222,
              "#7201a8"
             ],
             [
              0.3333333333333333,
              "#9c179e"
             ],
             [
              0.4444444444444444,
              "#bd3786"
             ],
             [
              0.5555555555555556,
              "#d8576b"
             ],
             [
              0.6666666666666666,
              "#ed7953"
             ],
             [
              0.7777777777777778,
              "#fb9f3a"
             ],
             [
              0.8888888888888888,
              "#fdca26"
             ],
             [
              1,
              "#f0f921"
             ]
            ],
            "type": "histogram2dcontour"
           }
          ],
          "mesh3d": [
           {
            "colorbar": {
             "outlinewidth": 0,
             "ticks": ""
            },
            "type": "mesh3d"
           }
          ],
          "parcoords": [
           {
            "line": {
             "colorbar": {
              "outlinewidth": 0,
              "ticks": ""
             }
            },
            "type": "parcoords"
           }
          ],
          "pie": [
           {
            "automargin": true,
            "type": "pie"
           }
          ],
          "scatter": [
           {
            "marker": {
             "colorbar": {
              "outlinewidth": 0,
              "ticks": ""
             }
            },
            "type": "scatter"
           }
          ],
          "scatter3d": [
           {
            "line": {
             "colorbar": {
              "outlinewidth": 0,
              "ticks": ""
             }
            },
            "marker": {
             "colorbar": {
              "outlinewidth": 0,
              "ticks": ""
             }
            },
            "type": "scatter3d"
           }
          ],
          "scattercarpet": [
           {
            "marker": {
             "colorbar": {
              "outlinewidth": 0,
              "ticks": ""
             }
            },
            "type": "scattercarpet"
           }
          ],
          "scattergeo": [
           {
            "marker": {
             "colorbar": {
              "outlinewidth": 0,
              "ticks": ""
             }
            },
            "type": "scattergeo"
           }
          ],
          "scattergl": [
           {
            "marker": {
             "colorbar": {
              "outlinewidth": 0,
              "ticks": ""
             }
            },
            "type": "scattergl"
           }
          ],
          "scattermapbox": [
           {
            "marker": {
             "colorbar": {
              "outlinewidth": 0,
              "ticks": ""
             }
            },
            "type": "scattermapbox"
           }
          ],
          "scatterpolar": [
           {
            "marker": {
             "colorbar": {
              "outlinewidth": 0,
              "ticks": ""
             }
            },
            "type": "scatterpolar"
           }
          ],
          "scatterpolargl": [
           {
            "marker": {
             "colorbar": {
              "outlinewidth": 0,
              "ticks": ""
             }
            },
            "type": "scatterpolargl"
           }
          ],
          "scatterternary": [
           {
            "marker": {
             "colorbar": {
              "outlinewidth": 0,
              "ticks": ""
             }
            },
            "type": "scatterternary"
           }
          ],
          "surface": [
           {
            "colorbar": {
             "outlinewidth": 0,
             "ticks": ""
            },
            "colorscale": [
             [
              0,
              "#0d0887"
             ],
             [
              0.1111111111111111,
              "#46039f"
             ],
             [
              0.2222222222222222,
              "#7201a8"
             ],
             [
              0.3333333333333333,
              "#9c179e"
             ],
             [
              0.4444444444444444,
              "#bd3786"
             ],
             [
              0.5555555555555556,
              "#d8576b"
             ],
             [
              0.6666666666666666,
              "#ed7953"
             ],
             [
              0.7777777777777778,
              "#fb9f3a"
             ],
             [
              0.8888888888888888,
              "#fdca26"
             ],
             [
              1,
              "#f0f921"
             ]
            ],
            "type": "surface"
           }
          ],
          "table": [
           {
            "cells": {
             "fill": {
              "color": "#EBF0F8"
             },
             "line": {
              "color": "white"
             }
            },
            "header": {
             "fill": {
              "color": "#C8D4E3"
             },
             "line": {
              "color": "white"
             }
            },
            "type": "table"
           }
          ]
         },
         "layout": {
          "annotationdefaults": {
           "arrowcolor": "#2a3f5f",
           "arrowhead": 0,
           "arrowwidth": 1
          },
          "autotypenumbers": "strict",
          "coloraxis": {
           "colorbar": {
            "outlinewidth": 0,
            "ticks": ""
           }
          },
          "colorscale": {
           "diverging": [
            [
             0,
             "#8e0152"
            ],
            [
             0.1,
             "#c51b7d"
            ],
            [
             0.2,
             "#de77ae"
            ],
            [
             0.3,
             "#f1b6da"
            ],
            [
             0.4,
             "#fde0ef"
            ],
            [
             0.5,
             "#f7f7f7"
            ],
            [
             0.6,
             "#e6f5d0"
            ],
            [
             0.7,
             "#b8e186"
            ],
            [
             0.8,
             "#7fbc41"
            ],
            [
             0.9,
             "#4d9221"
            ],
            [
             1,
             "#276419"
            ]
           ],
           "sequential": [
            [
             0,
             "#0d0887"
            ],
            [
             0.1111111111111111,
             "#46039f"
            ],
            [
             0.2222222222222222,
             "#7201a8"
            ],
            [
             0.3333333333333333,
             "#9c179e"
            ],
            [
             0.4444444444444444,
             "#bd3786"
            ],
            [
             0.5555555555555556,
             "#d8576b"
            ],
            [
             0.6666666666666666,
             "#ed7953"
            ],
            [
             0.7777777777777778,
             "#fb9f3a"
            ],
            [
             0.8888888888888888,
             "#fdca26"
            ],
            [
             1,
             "#f0f921"
            ]
           ],
           "sequentialminus": [
            [
             0,
             "#0d0887"
            ],
            [
             0.1111111111111111,
             "#46039f"
            ],
            [
             0.2222222222222222,
             "#7201a8"
            ],
            [
             0.3333333333333333,
             "#9c179e"
            ],
            [
             0.4444444444444444,
             "#bd3786"
            ],
            [
             0.5555555555555556,
             "#d8576b"
            ],
            [
             0.6666666666666666,
             "#ed7953"
            ],
            [
             0.7777777777777778,
             "#fb9f3a"
            ],
            [
             0.8888888888888888,
             "#fdca26"
            ],
            [
             1,
             "#f0f921"
            ]
           ]
          },
          "colorway": [
           "#636efa",
           "#EF553B",
           "#00cc96",
           "#ab63fa",
           "#FFA15A",
           "#19d3f3",
           "#FF6692",
           "#B6E880",
           "#FF97FF",
           "#FECB52"
          ],
          "font": {
           "color": "#2a3f5f"
          },
          "geo": {
           "bgcolor": "white",
           "lakecolor": "white",
           "landcolor": "#E5ECF6",
           "showlakes": true,
           "showland": true,
           "subunitcolor": "white"
          },
          "hoverlabel": {
           "align": "left"
          },
          "hovermode": "closest",
          "mapbox": {
           "style": "light"
          },
          "paper_bgcolor": "white",
          "plot_bgcolor": "#E5ECF6",
          "polar": {
           "angularaxis": {
            "gridcolor": "white",
            "linecolor": "white",
            "ticks": ""
           },
           "bgcolor": "#E5ECF6",
           "radialaxis": {
            "gridcolor": "white",
            "linecolor": "white",
            "ticks": ""
           }
          },
          "scene": {
           "xaxis": {
            "backgroundcolor": "#E5ECF6",
            "gridcolor": "white",
            "gridwidth": 2,
            "linecolor": "white",
            "showbackground": true,
            "ticks": "",
            "zerolinecolor": "white"
           },
           "yaxis": {
            "backgroundcolor": "#E5ECF6",
            "gridcolor": "white",
            "gridwidth": 2,
            "linecolor": "white",
            "showbackground": true,
            "ticks": "",
            "zerolinecolor": "white"
           },
           "zaxis": {
            "backgroundcolor": "#E5ECF6",
            "gridcolor": "white",
            "gridwidth": 2,
            "linecolor": "white",
            "showbackground": true,
            "ticks": "",
            "zerolinecolor": "white"
           }
          },
          "shapedefaults": {
           "line": {
            "color": "#2a3f5f"
           }
          },
          "ternary": {
           "aaxis": {
            "gridcolor": "white",
            "linecolor": "white",
            "ticks": ""
           },
           "baxis": {
            "gridcolor": "white",
            "linecolor": "white",
            "ticks": ""
           },
           "bgcolor": "#E5ECF6",
           "caxis": {
            "gridcolor": "white",
            "linecolor": "white",
            "ticks": ""
           }
          },
          "title": {
           "x": 0.05
          },
          "xaxis": {
           "automargin": true,
           "gridcolor": "white",
           "linecolor": "white",
           "ticks": "",
           "title": {
            "standoff": 15
           },
           "zerolinecolor": "white",
           "zerolinewidth": 2
          },
          "yaxis": {
           "automargin": true,
           "gridcolor": "white",
           "linecolor": "white",
           "ticks": "",
           "title": {
            "standoff": 15
           },
           "zerolinecolor": "white",
           "zerolinewidth": 2
          }
         }
        },
        "title": {
         "text": "Ortalama Haftalık Satış Adedi"
        },
        "xaxis": {
         "showgrid": false,
         "tickmode": "array",
         "ticktext": [
          1,
          2,
          3,
          4,
          5,
          6,
          7,
          8,
          9,
          10,
          11,
          12,
          13,
          14,
          15,
          16,
          17,
          18,
          19,
          20,
          21,
          22,
          23,
          24,
          25,
          26,
          27,
          28,
          29,
          30,
          31,
          32,
          33,
          34,
          35,
          36,
          37,
          38,
          39,
          40,
          41,
          42,
          43,
          44,
          45,
          46,
          47,
          48,
          49,
          50,
          51
         ],
         "tickvals": [
          1,
          2,
          3,
          4,
          5,
          6,
          7,
          8,
          9,
          10,
          11,
          12,
          13,
          14,
          15,
          16,
          17,
          18,
          19,
          20,
          21,
          22,
          23,
          24,
          25,
          26,
          27,
          28,
          29,
          30,
          31,
          32,
          33,
          34,
          35,
          36,
          37,
          38,
          39,
          40,
          41,
          42,
          43,
          44,
          45,
          46,
          47,
          48,
          49,
          50,
          51,
          52,
          53
         ]
        },
        "yaxis": {
         "showgrid": false
        }
       }
      },
      "text/html": [
       "<div>                            <div id=\"83f9da54-f22b-45a2-86db-03af06a84a45\" class=\"plotly-graph-div\" style=\"height:300px; width:100%;\"></div>            <script type=\"text/javascript\">                require([\"plotly\"], function(Plotly) {                    window.PLOTLYENV=window.PLOTLYENV || {};                                    if (document.getElementById(\"83f9da54-f22b-45a2-86db-03af06a84a45\")) {                    Plotly.newPlot(                        \"83f9da54-f22b-45a2-86db-03af06a84a45\",                        [{\"fill\":\"tozeroy\",\"fillcolor\":\"#FAA831\",\"line\":{\"color\":\"#bA6800\"},\"mode\":\"lines+markers\",\"type\":\"scatter\",\"x\":[1,2,3,4,5,6,7,8,9,10,11,12,13,14,15,16,17,18,19,20,21,22,23,24,25,26,27,28,29,30,31,32,33,34,35,36,37,38,39,40,41,42,43,44,45,46,47,48,49,50,51,52,53],\"y\":[409.09951933767485,347.5346426442359,338.142199154778,329.18625799045384,344.19523331887495,320.0775057355633,310.3770837135344,311.9264779163126,358.23097828404246,358.623611708985,342.9734550356648,338.3864740723448,360.50549938981754,350.1542244577,323.47142463536557,363.0956706603797,333.4531208674796,374.12684548092926,324.73349114654366,334.441299386223,321.0804340427983,367.7097326432255,368.5891875447326,342.2137057435594,364.814510111319,337.15732897946106,397.525779772743,361.95173993005966,361.4197975866902,359.5658154269424,384.20340359099094,334.673872228441,327.46672867182906,306.5800544635511,333.5842320596074,400.25933799029184,352.5943541244611,351.4849980397107,354.1693747029962,400.3141742718061,362.23173584269364,354.94360577939125,339.6100186593861,358.76225027527204,407.3465251628294,361.57666983530925,358.6915651121444,378.55045032703197,417.32057941901,412.9359644963602,484.16763108582444,482.90685202480967,478.19294168366997]}],                        {\"font\":{\"color\":\"white\",\"size\":12},\"height\":300,\"paper_bgcolor\":\"#232425\",\"plot_bgcolor\":\"#232425\",\"template\":{\"data\":{\"bar\":[{\"error_x\":{\"color\":\"#2a3f5f\"},\"error_y\":{\"color\":\"#2a3f5f\"},\"marker\":{\"line\":{\"color\":\"#E5ECF6\",\"width\":0.5},\"pattern\":{\"fillmode\":\"overlay\",\"size\":10,\"solidity\":0.2}},\"type\":\"bar\"}],\"barpolar\":[{\"marker\":{\"line\":{\"color\":\"#E5ECF6\",\"width\":0.5},\"pattern\":{\"fillmode\":\"overlay\",\"size\":10,\"solidity\":0.2}},\"type\":\"barpolar\"}],\"carpet\":[{\"aaxis\":{\"endlinecolor\":\"#2a3f5f\",\"gridcolor\":\"white\",\"linecolor\":\"white\",\"minorgridcolor\":\"white\",\"startlinecolor\":\"#2a3f5f\"},\"baxis\":{\"endlinecolor\":\"#2a3f5f\",\"gridcolor\":\"white\",\"linecolor\":\"white\",\"minorgridcolor\":\"white\",\"startlinecolor\":\"#2a3f5f\"},\"type\":\"carpet\"}],\"choropleth\":[{\"colorbar\":{\"outlinewidth\":0,\"ticks\":\"\"},\"type\":\"choropleth\"}],\"contour\":[{\"colorbar\":{\"outlinewidth\":0,\"ticks\":\"\"},\"colorscale\":[[0.0,\"#0d0887\"],[0.1111111111111111,\"#46039f\"],[0.2222222222222222,\"#7201a8\"],[0.3333333333333333,\"#9c179e\"],[0.4444444444444444,\"#bd3786\"],[0.5555555555555556,\"#d8576b\"],[0.6666666666666666,\"#ed7953\"],[0.7777777777777778,\"#fb9f3a\"],[0.8888888888888888,\"#fdca26\"],[1.0,\"#f0f921\"]],\"type\":\"contour\"}],\"contourcarpet\":[{\"colorbar\":{\"outlinewidth\":0,\"ticks\":\"\"},\"type\":\"contourcarpet\"}],\"heatmap\":[{\"colorbar\":{\"outlinewidth\":0,\"ticks\":\"\"},\"colorscale\":[[0.0,\"#0d0887\"],[0.1111111111111111,\"#46039f\"],[0.2222222222222222,\"#7201a8\"],[0.3333333333333333,\"#9c179e\"],[0.4444444444444444,\"#bd3786\"],[0.5555555555555556,\"#d8576b\"],[0.6666666666666666,\"#ed7953\"],[0.7777777777777778,\"#fb9f3a\"],[0.8888888888888888,\"#fdca26\"],[1.0,\"#f0f921\"]],\"type\":\"heatmap\"}],\"heatmapgl\":[{\"colorbar\":{\"outlinewidth\":0,\"ticks\":\"\"},\"colorscale\":[[0.0,\"#0d0887\"],[0.1111111111111111,\"#46039f\"],[0.2222222222222222,\"#7201a8\"],[0.3333333333333333,\"#9c179e\"],[0.4444444444444444,\"#bd3786\"],[0.5555555555555556,\"#d8576b\"],[0.6666666666666666,\"#ed7953\"],[0.7777777777777778,\"#fb9f3a\"],[0.8888888888888888,\"#fdca26\"],[1.0,\"#f0f921\"]],\"type\":\"heatmapgl\"}],\"histogram\":[{\"marker\":{\"pattern\":{\"fillmode\":\"overlay\",\"size\":10,\"solidity\":0.2}},\"type\":\"histogram\"}],\"histogram2d\":[{\"colorbar\":{\"outlinewidth\":0,\"ticks\":\"\"},\"colorscale\":[[0.0,\"#0d0887\"],[0.1111111111111111,\"#46039f\"],[0.2222222222222222,\"#7201a8\"],[0.3333333333333333,\"#9c179e\"],[0.4444444444444444,\"#bd3786\"],[0.5555555555555556,\"#d8576b\"],[0.6666666666666666,\"#ed7953\"],[0.7777777777777778,\"#fb9f3a\"],[0.8888888888888888,\"#fdca26\"],[1.0,\"#f0f921\"]],\"type\":\"histogram2d\"}],\"histogram2dcontour\":[{\"colorbar\":{\"outlinewidth\":0,\"ticks\":\"\"},\"colorscale\":[[0.0,\"#0d0887\"],[0.1111111111111111,\"#46039f\"],[0.2222222222222222,\"#7201a8\"],[0.3333333333333333,\"#9c179e\"],[0.4444444444444444,\"#bd3786\"],[0.5555555555555556,\"#d8576b\"],[0.6666666666666666,\"#ed7953\"],[0.7777777777777778,\"#fb9f3a\"],[0.8888888888888888,\"#fdca26\"],[1.0,\"#f0f921\"]],\"type\":\"histogram2dcontour\"}],\"mesh3d\":[{\"colorbar\":{\"outlinewidth\":0,\"ticks\":\"\"},\"type\":\"mesh3d\"}],\"parcoords\":[{\"line\":{\"colorbar\":{\"outlinewidth\":0,\"ticks\":\"\"}},\"type\":\"parcoords\"}],\"pie\":[{\"automargin\":true,\"type\":\"pie\"}],\"scatter\":[{\"marker\":{\"colorbar\":{\"outlinewidth\":0,\"ticks\":\"\"}},\"type\":\"scatter\"}],\"scatter3d\":[{\"line\":{\"colorbar\":{\"outlinewidth\":0,\"ticks\":\"\"}},\"marker\":{\"colorbar\":{\"outlinewidth\":0,\"ticks\":\"\"}},\"type\":\"scatter3d\"}],\"scattercarpet\":[{\"marker\":{\"colorbar\":{\"outlinewidth\":0,\"ticks\":\"\"}},\"type\":\"scattercarpet\"}],\"scattergeo\":[{\"marker\":{\"colorbar\":{\"outlinewidth\":0,\"ticks\":\"\"}},\"type\":\"scattergeo\"}],\"scattergl\":[{\"marker\":{\"colorbar\":{\"outlinewidth\":0,\"ticks\":\"\"}},\"type\":\"scattergl\"}],\"scattermapbox\":[{\"marker\":{\"colorbar\":{\"outlinewidth\":0,\"ticks\":\"\"}},\"type\":\"scattermapbox\"}],\"scatterpolar\":[{\"marker\":{\"colorbar\":{\"outlinewidth\":0,\"ticks\":\"\"}},\"type\":\"scatterpolar\"}],\"scatterpolargl\":[{\"marker\":{\"colorbar\":{\"outlinewidth\":0,\"ticks\":\"\"}},\"type\":\"scatterpolargl\"}],\"scatterternary\":[{\"marker\":{\"colorbar\":{\"outlinewidth\":0,\"ticks\":\"\"}},\"type\":\"scatterternary\"}],\"surface\":[{\"colorbar\":{\"outlinewidth\":0,\"ticks\":\"\"},\"colorscale\":[[0.0,\"#0d0887\"],[0.1111111111111111,\"#46039f\"],[0.2222222222222222,\"#7201a8\"],[0.3333333333333333,\"#9c179e\"],[0.4444444444444444,\"#bd3786\"],[0.5555555555555556,\"#d8576b\"],[0.6666666666666666,\"#ed7953\"],[0.7777777777777778,\"#fb9f3a\"],[0.8888888888888888,\"#fdca26\"],[1.0,\"#f0f921\"]],\"type\":\"surface\"}],\"table\":[{\"cells\":{\"fill\":{\"color\":\"#EBF0F8\"},\"line\":{\"color\":\"white\"}},\"header\":{\"fill\":{\"color\":\"#C8D4E3\"},\"line\":{\"color\":\"white\"}},\"type\":\"table\"}]},\"layout\":{\"annotationdefaults\":{\"arrowcolor\":\"#2a3f5f\",\"arrowhead\":0,\"arrowwidth\":1},\"autotypenumbers\":\"strict\",\"coloraxis\":{\"colorbar\":{\"outlinewidth\":0,\"ticks\":\"\"}},\"colorscale\":{\"diverging\":[[0,\"#8e0152\"],[0.1,\"#c51b7d\"],[0.2,\"#de77ae\"],[0.3,\"#f1b6da\"],[0.4,\"#fde0ef\"],[0.5,\"#f7f7f7\"],[0.6,\"#e6f5d0\"],[0.7,\"#b8e186\"],[0.8,\"#7fbc41\"],[0.9,\"#4d9221\"],[1,\"#276419\"]],\"sequential\":[[0.0,\"#0d0887\"],[0.1111111111111111,\"#46039f\"],[0.2222222222222222,\"#7201a8\"],[0.3333333333333333,\"#9c179e\"],[0.4444444444444444,\"#bd3786\"],[0.5555555555555556,\"#d8576b\"],[0.6666666666666666,\"#ed7953\"],[0.7777777777777778,\"#fb9f3a\"],[0.8888888888888888,\"#fdca26\"],[1.0,\"#f0f921\"]],\"sequentialminus\":[[0.0,\"#0d0887\"],[0.1111111111111111,\"#46039f\"],[0.2222222222222222,\"#7201a8\"],[0.3333333333333333,\"#9c179e\"],[0.4444444444444444,\"#bd3786\"],[0.5555555555555556,\"#d8576b\"],[0.6666666666666666,\"#ed7953\"],[0.7777777777777778,\"#fb9f3a\"],[0.8888888888888888,\"#fdca26\"],[1.0,\"#f0f921\"]]},\"colorway\":[\"#636efa\",\"#EF553B\",\"#00cc96\",\"#ab63fa\",\"#FFA15A\",\"#19d3f3\",\"#FF6692\",\"#B6E880\",\"#FF97FF\",\"#FECB52\"],\"font\":{\"color\":\"#2a3f5f\"},\"geo\":{\"bgcolor\":\"white\",\"lakecolor\":\"white\",\"landcolor\":\"#E5ECF6\",\"showlakes\":true,\"showland\":true,\"subunitcolor\":\"white\"},\"hoverlabel\":{\"align\":\"left\"},\"hovermode\":\"closest\",\"mapbox\":{\"style\":\"light\"},\"paper_bgcolor\":\"white\",\"plot_bgcolor\":\"#E5ECF6\",\"polar\":{\"angularaxis\":{\"gridcolor\":\"white\",\"linecolor\":\"white\",\"ticks\":\"\"},\"bgcolor\":\"#E5ECF6\",\"radialaxis\":{\"gridcolor\":\"white\",\"linecolor\":\"white\",\"ticks\":\"\"}},\"scene\":{\"xaxis\":{\"backgroundcolor\":\"#E5ECF6\",\"gridcolor\":\"white\",\"gridwidth\":2,\"linecolor\":\"white\",\"showbackground\":true,\"ticks\":\"\",\"zerolinecolor\":\"white\"},\"yaxis\":{\"backgroundcolor\":\"#E5ECF6\",\"gridcolor\":\"white\",\"gridwidth\":2,\"linecolor\":\"white\",\"showbackground\":true,\"ticks\":\"\",\"zerolinecolor\":\"white\"},\"zaxis\":{\"backgroundcolor\":\"#E5ECF6\",\"gridcolor\":\"white\",\"gridwidth\":2,\"linecolor\":\"white\",\"showbackground\":true,\"ticks\":\"\",\"zerolinecolor\":\"white\"}},\"shapedefaults\":{\"line\":{\"color\":\"#2a3f5f\"}},\"ternary\":{\"aaxis\":{\"gridcolor\":\"white\",\"linecolor\":\"white\",\"ticks\":\"\"},\"baxis\":{\"gridcolor\":\"white\",\"linecolor\":\"white\",\"ticks\":\"\"},\"bgcolor\":\"#E5ECF6\",\"caxis\":{\"gridcolor\":\"white\",\"linecolor\":\"white\",\"ticks\":\"\"}},\"title\":{\"x\":0.05},\"xaxis\":{\"automargin\":true,\"gridcolor\":\"white\",\"linecolor\":\"white\",\"ticks\":\"\",\"title\":{\"standoff\":15},\"zerolinecolor\":\"white\",\"zerolinewidth\":2},\"yaxis\":{\"automargin\":true,\"gridcolor\":\"white\",\"linecolor\":\"white\",\"ticks\":\"\",\"title\":{\"standoff\":15},\"zerolinecolor\":\"white\",\"zerolinewidth\":2}}},\"title\":{\"text\":\"Ortalama Haftal\\u0131k Sat\\u0131\\u015f Adedi\"},\"xaxis\":{\"showgrid\":false,\"tickmode\":\"array\",\"ticktext\":[1,2,3,4,5,6,7,8,9,10,11,12,13,14,15,16,17,18,19,20,21,22,23,24,25,26,27,28,29,30,31,32,33,34,35,36,37,38,39,40,41,42,43,44,45,46,47,48,49,50,51],\"tickvals\":[1,2,3,4,5,6,7,8,9,10,11,12,13,14,15,16,17,18,19,20,21,22,23,24,25,26,27,28,29,30,31,32,33,34,35,36,37,38,39,40,41,42,43,44,45,46,47,48,49,50,51,52,53]},\"yaxis\":{\"showgrid\":false}},                        {\"responsive\": true}                    ).then(function(){\n",
       "                            \n",
       "var gd = document.getElementById('83f9da54-f22b-45a2-86db-03af06a84a45');\n",
       "var x = new MutationObserver(function (mutations, observer) {{\n",
       "        var display = window.getComputedStyle(gd).display;\n",
       "        if (!display || display === 'none') {{\n",
       "            console.log([gd, 'removed!']);\n",
       "            Plotly.purge(gd);\n",
       "            observer.disconnect();\n",
       "        }}\n",
       "}});\n",
       "\n",
       "// Listen for the removal of the full notebook cells\n",
       "var notebookContainer = gd.closest('#notebook-container');\n",
       "if (notebookContainer) {{\n",
       "    x.observe(notebookContainer, {childList: true});\n",
       "}}\n",
       "\n",
       "// Listen for the clearing of the current output cell\n",
       "var outputEl = gd.closest('.output');\n",
       "if (outputEl) {{\n",
       "    x.observe(outputEl, {childList: true});\n",
       "}}\n",
       "\n",
       "                        })                };                });            </script>        </div>"
      ]
     },
     "metadata": {},
     "output_type": "display_data"
    }
   ],
   "source": [
    "df_w_sa = df_train1.groupby('week').agg({\"sales\" : \"mean\"}).reset_index()\n",
    "fig7 = go.Figure(data=[go.Scatter(x=df_w_sa['week'], y=df_w_sa['sales'], fill='tozeroy', fillcolor='#FAA831', line_color='#bA6800'\n",
    "                                  ,mode='lines+markers')])\n",
    "\n",
    "\n",
    "fig7.update_layout(title_text='Ortalama Haftalık Satış Adedi',height=300,paper_bgcolor='#232425',plot_bgcolor='#232425',\n",
    "                font=dict(\n",
    "                size=12,\n",
    "                color='white'))\n",
    "fig7.update_yaxes(showgrid=False)\n",
    "fig7.update_xaxes(showgrid=False,tickmode = 'array', tickvals=df_w_sa.week, ticktext=[i for i in range(1,52)])"
   ]
  },
  {
   "cell_type": "code",
   "execution_count": 12,
   "metadata": {},
   "outputs": [
    {
     "data": {
      "application/vnd.plotly.v1+json": {
       "config": {
        "plotlyServerURL": "https://plot.ly"
       },
       "data": [
        {
         "fill": "tozeroy",
         "fillcolor": "#FAA831",
         "line": {
          "color": "#bA6800"
         },
         "mode": "lines+markers",
         "type": "scatter",
         "x": [
          1,
          2,
          3,
          4,
          5,
          6,
          7,
          8,
          9,
          10,
          11,
          12
         ],
         "y": [
          341.9215535883968,
          320.92886881317503,
          352.00929418565386,
          341.167843727666,
          345.65281410662095,
          352.511264630402,
          376.41409093189145,
          336.99253461263714,
          362.29741825937884,
          362.4071320532839,
          376.88914319585706,
          457.3831156677393
         ]
        }
       ],
       "layout": {
        "font": {
         "color": "white",
         "size": 12
        },
        "height": 300,
        "paper_bgcolor": "#232425",
        "plot_bgcolor": "#232425",
        "template": {
         "data": {
          "bar": [
           {
            "error_x": {
             "color": "#2a3f5f"
            },
            "error_y": {
             "color": "#2a3f5f"
            },
            "marker": {
             "line": {
              "color": "#E5ECF6",
              "width": 0.5
             },
             "pattern": {
              "fillmode": "overlay",
              "size": 10,
              "solidity": 0.2
             }
            },
            "type": "bar"
           }
          ],
          "barpolar": [
           {
            "marker": {
             "line": {
              "color": "#E5ECF6",
              "width": 0.5
             },
             "pattern": {
              "fillmode": "overlay",
              "size": 10,
              "solidity": 0.2
             }
            },
            "type": "barpolar"
           }
          ],
          "carpet": [
           {
            "aaxis": {
             "endlinecolor": "#2a3f5f",
             "gridcolor": "white",
             "linecolor": "white",
             "minorgridcolor": "white",
             "startlinecolor": "#2a3f5f"
            },
            "baxis": {
             "endlinecolor": "#2a3f5f",
             "gridcolor": "white",
             "linecolor": "white",
             "minorgridcolor": "white",
             "startlinecolor": "#2a3f5f"
            },
            "type": "carpet"
           }
          ],
          "choropleth": [
           {
            "colorbar": {
             "outlinewidth": 0,
             "ticks": ""
            },
            "type": "choropleth"
           }
          ],
          "contour": [
           {
            "colorbar": {
             "outlinewidth": 0,
             "ticks": ""
            },
            "colorscale": [
             [
              0,
              "#0d0887"
             ],
             [
              0.1111111111111111,
              "#46039f"
             ],
             [
              0.2222222222222222,
              "#7201a8"
             ],
             [
              0.3333333333333333,
              "#9c179e"
             ],
             [
              0.4444444444444444,
              "#bd3786"
             ],
             [
              0.5555555555555556,
              "#d8576b"
             ],
             [
              0.6666666666666666,
              "#ed7953"
             ],
             [
              0.7777777777777778,
              "#fb9f3a"
             ],
             [
              0.8888888888888888,
              "#fdca26"
             ],
             [
              1,
              "#f0f921"
             ]
            ],
            "type": "contour"
           }
          ],
          "contourcarpet": [
           {
            "colorbar": {
             "outlinewidth": 0,
             "ticks": ""
            },
            "type": "contourcarpet"
           }
          ],
          "heatmap": [
           {
            "colorbar": {
             "outlinewidth": 0,
             "ticks": ""
            },
            "colorscale": [
             [
              0,
              "#0d0887"
             ],
             [
              0.1111111111111111,
              "#46039f"
             ],
             [
              0.2222222222222222,
              "#7201a8"
             ],
             [
              0.3333333333333333,
              "#9c179e"
             ],
             [
              0.4444444444444444,
              "#bd3786"
             ],
             [
              0.5555555555555556,
              "#d8576b"
             ],
             [
              0.6666666666666666,
              "#ed7953"
             ],
             [
              0.7777777777777778,
              "#fb9f3a"
             ],
             [
              0.8888888888888888,
              "#fdca26"
             ],
             [
              1,
              "#f0f921"
             ]
            ],
            "type": "heatmap"
           }
          ],
          "heatmapgl": [
           {
            "colorbar": {
             "outlinewidth": 0,
             "ticks": ""
            },
            "colorscale": [
             [
              0,
              "#0d0887"
             ],
             [
              0.1111111111111111,
              "#46039f"
             ],
             [
              0.2222222222222222,
              "#7201a8"
             ],
             [
              0.3333333333333333,
              "#9c179e"
             ],
             [
              0.4444444444444444,
              "#bd3786"
             ],
             [
              0.5555555555555556,
              "#d8576b"
             ],
             [
              0.6666666666666666,
              "#ed7953"
             ],
             [
              0.7777777777777778,
              "#fb9f3a"
             ],
             [
              0.8888888888888888,
              "#fdca26"
             ],
             [
              1,
              "#f0f921"
             ]
            ],
            "type": "heatmapgl"
           }
          ],
          "histogram": [
           {
            "marker": {
             "pattern": {
              "fillmode": "overlay",
              "size": 10,
              "solidity": 0.2
             }
            },
            "type": "histogram"
           }
          ],
          "histogram2d": [
           {
            "colorbar": {
             "outlinewidth": 0,
             "ticks": ""
            },
            "colorscale": [
             [
              0,
              "#0d0887"
             ],
             [
              0.1111111111111111,
              "#46039f"
             ],
             [
              0.2222222222222222,
              "#7201a8"
             ],
             [
              0.3333333333333333,
              "#9c179e"
             ],
             [
              0.4444444444444444,
              "#bd3786"
             ],
             [
              0.5555555555555556,
              "#d8576b"
             ],
             [
              0.6666666666666666,
              "#ed7953"
             ],
             [
              0.7777777777777778,
              "#fb9f3a"
             ],
             [
              0.8888888888888888,
              "#fdca26"
             ],
             [
              1,
              "#f0f921"
             ]
            ],
            "type": "histogram2d"
           }
          ],
          "histogram2dcontour": [
           {
            "colorbar": {
             "outlinewidth": 0,
             "ticks": ""
            },
            "colorscale": [
             [
              0,
              "#0d0887"
             ],
             [
              0.1111111111111111,
              "#46039f"
             ],
             [
              0.2222222222222222,
              "#7201a8"
             ],
             [
              0.3333333333333333,
              "#9c179e"
             ],
             [
              0.4444444444444444,
              "#bd3786"
             ],
             [
              0.5555555555555556,
              "#d8576b"
             ],
             [
              0.6666666666666666,
              "#ed7953"
             ],
             [
              0.7777777777777778,
              "#fb9f3a"
             ],
             [
              0.8888888888888888,
              "#fdca26"
             ],
             [
              1,
              "#f0f921"
             ]
            ],
            "type": "histogram2dcontour"
           }
          ],
          "mesh3d": [
           {
            "colorbar": {
             "outlinewidth": 0,
             "ticks": ""
            },
            "type": "mesh3d"
           }
          ],
          "parcoords": [
           {
            "line": {
             "colorbar": {
              "outlinewidth": 0,
              "ticks": ""
             }
            },
            "type": "parcoords"
           }
          ],
          "pie": [
           {
            "automargin": true,
            "type": "pie"
           }
          ],
          "scatter": [
           {
            "marker": {
             "colorbar": {
              "outlinewidth": 0,
              "ticks": ""
             }
            },
            "type": "scatter"
           }
          ],
          "scatter3d": [
           {
            "line": {
             "colorbar": {
              "outlinewidth": 0,
              "ticks": ""
             }
            },
            "marker": {
             "colorbar": {
              "outlinewidth": 0,
              "ticks": ""
             }
            },
            "type": "scatter3d"
           }
          ],
          "scattercarpet": [
           {
            "marker": {
             "colorbar": {
              "outlinewidth": 0,
              "ticks": ""
             }
            },
            "type": "scattercarpet"
           }
          ],
          "scattergeo": [
           {
            "marker": {
             "colorbar": {
              "outlinewidth": 0,
              "ticks": ""
             }
            },
            "type": "scattergeo"
           }
          ],
          "scattergl": [
           {
            "marker": {
             "colorbar": {
              "outlinewidth": 0,
              "ticks": ""
             }
            },
            "type": "scattergl"
           }
          ],
          "scattermapbox": [
           {
            "marker": {
             "colorbar": {
              "outlinewidth": 0,
              "ticks": ""
             }
            },
            "type": "scattermapbox"
           }
          ],
          "scatterpolar": [
           {
            "marker": {
             "colorbar": {
              "outlinewidth": 0,
              "ticks": ""
             }
            },
            "type": "scatterpolar"
           }
          ],
          "scatterpolargl": [
           {
            "marker": {
             "colorbar": {
              "outlinewidth": 0,
              "ticks": ""
             }
            },
            "type": "scatterpolargl"
           }
          ],
          "scatterternary": [
           {
            "marker": {
             "colorbar": {
              "outlinewidth": 0,
              "ticks": ""
             }
            },
            "type": "scatterternary"
           }
          ],
          "surface": [
           {
            "colorbar": {
             "outlinewidth": 0,
             "ticks": ""
            },
            "colorscale": [
             [
              0,
              "#0d0887"
             ],
             [
              0.1111111111111111,
              "#46039f"
             ],
             [
              0.2222222222222222,
              "#7201a8"
             ],
             [
              0.3333333333333333,
              "#9c179e"
             ],
             [
              0.4444444444444444,
              "#bd3786"
             ],
             [
              0.5555555555555556,
              "#d8576b"
             ],
             [
              0.6666666666666666,
              "#ed7953"
             ],
             [
              0.7777777777777778,
              "#fb9f3a"
             ],
             [
              0.8888888888888888,
              "#fdca26"
             ],
             [
              1,
              "#f0f921"
             ]
            ],
            "type": "surface"
           }
          ],
          "table": [
           {
            "cells": {
             "fill": {
              "color": "#EBF0F8"
             },
             "line": {
              "color": "white"
             }
            },
            "header": {
             "fill": {
              "color": "#C8D4E3"
             },
             "line": {
              "color": "white"
             }
            },
            "type": "table"
           }
          ]
         },
         "layout": {
          "annotationdefaults": {
           "arrowcolor": "#2a3f5f",
           "arrowhead": 0,
           "arrowwidth": 1
          },
          "autotypenumbers": "strict",
          "coloraxis": {
           "colorbar": {
            "outlinewidth": 0,
            "ticks": ""
           }
          },
          "colorscale": {
           "diverging": [
            [
             0,
             "#8e0152"
            ],
            [
             0.1,
             "#c51b7d"
            ],
            [
             0.2,
             "#de77ae"
            ],
            [
             0.3,
             "#f1b6da"
            ],
            [
             0.4,
             "#fde0ef"
            ],
            [
             0.5,
             "#f7f7f7"
            ],
            [
             0.6,
             "#e6f5d0"
            ],
            [
             0.7,
             "#b8e186"
            ],
            [
             0.8,
             "#7fbc41"
            ],
            [
             0.9,
             "#4d9221"
            ],
            [
             1,
             "#276419"
            ]
           ],
           "sequential": [
            [
             0,
             "#0d0887"
            ],
            [
             0.1111111111111111,
             "#46039f"
            ],
            [
             0.2222222222222222,
             "#7201a8"
            ],
            [
             0.3333333333333333,
             "#9c179e"
            ],
            [
             0.4444444444444444,
             "#bd3786"
            ],
            [
             0.5555555555555556,
             "#d8576b"
            ],
            [
             0.6666666666666666,
             "#ed7953"
            ],
            [
             0.7777777777777778,
             "#fb9f3a"
            ],
            [
             0.8888888888888888,
             "#fdca26"
            ],
            [
             1,
             "#f0f921"
            ]
           ],
           "sequentialminus": [
            [
             0,
             "#0d0887"
            ],
            [
             0.1111111111111111,
             "#46039f"
            ],
            [
             0.2222222222222222,
             "#7201a8"
            ],
            [
             0.3333333333333333,
             "#9c179e"
            ],
            [
             0.4444444444444444,
             "#bd3786"
            ],
            [
             0.5555555555555556,
             "#d8576b"
            ],
            [
             0.6666666666666666,
             "#ed7953"
            ],
            [
             0.7777777777777778,
             "#fb9f3a"
            ],
            [
             0.8888888888888888,
             "#fdca26"
            ],
            [
             1,
             "#f0f921"
            ]
           ]
          },
          "colorway": [
           "#636efa",
           "#EF553B",
           "#00cc96",
           "#ab63fa",
           "#FFA15A",
           "#19d3f3",
           "#FF6692",
           "#B6E880",
           "#FF97FF",
           "#FECB52"
          ],
          "font": {
           "color": "#2a3f5f"
          },
          "geo": {
           "bgcolor": "white",
           "lakecolor": "white",
           "landcolor": "#E5ECF6",
           "showlakes": true,
           "showland": true,
           "subunitcolor": "white"
          },
          "hoverlabel": {
           "align": "left"
          },
          "hovermode": "closest",
          "mapbox": {
           "style": "light"
          },
          "paper_bgcolor": "white",
          "plot_bgcolor": "#E5ECF6",
          "polar": {
           "angularaxis": {
            "gridcolor": "white",
            "linecolor": "white",
            "ticks": ""
           },
           "bgcolor": "#E5ECF6",
           "radialaxis": {
            "gridcolor": "white",
            "linecolor": "white",
            "ticks": ""
           }
          },
          "scene": {
           "xaxis": {
            "backgroundcolor": "#E5ECF6",
            "gridcolor": "white",
            "gridwidth": 2,
            "linecolor": "white",
            "showbackground": true,
            "ticks": "",
            "zerolinecolor": "white"
           },
           "yaxis": {
            "backgroundcolor": "#E5ECF6",
            "gridcolor": "white",
            "gridwidth": 2,
            "linecolor": "white",
            "showbackground": true,
            "ticks": "",
            "zerolinecolor": "white"
           },
           "zaxis": {
            "backgroundcolor": "#E5ECF6",
            "gridcolor": "white",
            "gridwidth": 2,
            "linecolor": "white",
            "showbackground": true,
            "ticks": "",
            "zerolinecolor": "white"
           }
          },
          "shapedefaults": {
           "line": {
            "color": "#2a3f5f"
           }
          },
          "ternary": {
           "aaxis": {
            "gridcolor": "white",
            "linecolor": "white",
            "ticks": ""
           },
           "baxis": {
            "gridcolor": "white",
            "linecolor": "white",
            "ticks": ""
           },
           "bgcolor": "#E5ECF6",
           "caxis": {
            "gridcolor": "white",
            "linecolor": "white",
            "ticks": ""
           }
          },
          "title": {
           "x": 0.05
          },
          "xaxis": {
           "automargin": true,
           "gridcolor": "white",
           "linecolor": "white",
           "ticks": "",
           "title": {
            "standoff": 15
           },
           "zerolinecolor": "white",
           "zerolinewidth": 2
          },
          "yaxis": {
           "automargin": true,
           "gridcolor": "white",
           "linecolor": "white",
           "ticks": "",
           "title": {
            "standoff": 15
           },
           "zerolinecolor": "white",
           "zerolinewidth": 2
          }
         }
        },
        "title": {
         "text": "Aylık Ortalama Satış Adedi"
        },
        "xaxis": {
         "showgrid": false,
         "tickmode": "array",
         "tickvals": [
          1,
          2,
          3,
          4,
          5,
          6,
          7,
          8,
          9,
          10,
          11,
          12
         ]
        },
        "yaxis": {
         "showgrid": false
        }
       }
      },
      "text/html": [
       "<div>                            <div id=\"1ffa7940-bea1-46fc-b14a-a5567b832be1\" class=\"plotly-graph-div\" style=\"height:300px; width:100%;\"></div>            <script type=\"text/javascript\">                require([\"plotly\"], function(Plotly) {                    window.PLOTLYENV=window.PLOTLYENV || {};                                    if (document.getElementById(\"1ffa7940-bea1-46fc-b14a-a5567b832be1\")) {                    Plotly.newPlot(                        \"1ffa7940-bea1-46fc-b14a-a5567b832be1\",                        [{\"fill\":\"tozeroy\",\"fillcolor\":\"#FAA831\",\"line\":{\"color\":\"#bA6800\"},\"mode\":\"lines+markers\",\"type\":\"scatter\",\"x\":[1,2,3,4,5,6,7,8,9,10,11,12],\"y\":[341.9215535883968,320.92886881317503,352.00929418565386,341.167843727666,345.65281410662095,352.511264630402,376.41409093189145,336.99253461263714,362.29741825937884,362.4071320532839,376.88914319585706,457.3831156677393]}],                        {\"font\":{\"color\":\"white\",\"size\":12},\"height\":300,\"paper_bgcolor\":\"#232425\",\"plot_bgcolor\":\"#232425\",\"template\":{\"data\":{\"bar\":[{\"error_x\":{\"color\":\"#2a3f5f\"},\"error_y\":{\"color\":\"#2a3f5f\"},\"marker\":{\"line\":{\"color\":\"#E5ECF6\",\"width\":0.5},\"pattern\":{\"fillmode\":\"overlay\",\"size\":10,\"solidity\":0.2}},\"type\":\"bar\"}],\"barpolar\":[{\"marker\":{\"line\":{\"color\":\"#E5ECF6\",\"width\":0.5},\"pattern\":{\"fillmode\":\"overlay\",\"size\":10,\"solidity\":0.2}},\"type\":\"barpolar\"}],\"carpet\":[{\"aaxis\":{\"endlinecolor\":\"#2a3f5f\",\"gridcolor\":\"white\",\"linecolor\":\"white\",\"minorgridcolor\":\"white\",\"startlinecolor\":\"#2a3f5f\"},\"baxis\":{\"endlinecolor\":\"#2a3f5f\",\"gridcolor\":\"white\",\"linecolor\":\"white\",\"minorgridcolor\":\"white\",\"startlinecolor\":\"#2a3f5f\"},\"type\":\"carpet\"}],\"choropleth\":[{\"colorbar\":{\"outlinewidth\":0,\"ticks\":\"\"},\"type\":\"choropleth\"}],\"contour\":[{\"colorbar\":{\"outlinewidth\":0,\"ticks\":\"\"},\"colorscale\":[[0.0,\"#0d0887\"],[0.1111111111111111,\"#46039f\"],[0.2222222222222222,\"#7201a8\"],[0.3333333333333333,\"#9c179e\"],[0.4444444444444444,\"#bd3786\"],[0.5555555555555556,\"#d8576b\"],[0.6666666666666666,\"#ed7953\"],[0.7777777777777778,\"#fb9f3a\"],[0.8888888888888888,\"#fdca26\"],[1.0,\"#f0f921\"]],\"type\":\"contour\"}],\"contourcarpet\":[{\"colorbar\":{\"outlinewidth\":0,\"ticks\":\"\"},\"type\":\"contourcarpet\"}],\"heatmap\":[{\"colorbar\":{\"outlinewidth\":0,\"ticks\":\"\"},\"colorscale\":[[0.0,\"#0d0887\"],[0.1111111111111111,\"#46039f\"],[0.2222222222222222,\"#7201a8\"],[0.3333333333333333,\"#9c179e\"],[0.4444444444444444,\"#bd3786\"],[0.5555555555555556,\"#d8576b\"],[0.6666666666666666,\"#ed7953\"],[0.7777777777777778,\"#fb9f3a\"],[0.8888888888888888,\"#fdca26\"],[1.0,\"#f0f921\"]],\"type\":\"heatmap\"}],\"heatmapgl\":[{\"colorbar\":{\"outlinewidth\":0,\"ticks\":\"\"},\"colorscale\":[[0.0,\"#0d0887\"],[0.1111111111111111,\"#46039f\"],[0.2222222222222222,\"#7201a8\"],[0.3333333333333333,\"#9c179e\"],[0.4444444444444444,\"#bd3786\"],[0.5555555555555556,\"#d8576b\"],[0.6666666666666666,\"#ed7953\"],[0.7777777777777778,\"#fb9f3a\"],[0.8888888888888888,\"#fdca26\"],[1.0,\"#f0f921\"]],\"type\":\"heatmapgl\"}],\"histogram\":[{\"marker\":{\"pattern\":{\"fillmode\":\"overlay\",\"size\":10,\"solidity\":0.2}},\"type\":\"histogram\"}],\"histogram2d\":[{\"colorbar\":{\"outlinewidth\":0,\"ticks\":\"\"},\"colorscale\":[[0.0,\"#0d0887\"],[0.1111111111111111,\"#46039f\"],[0.2222222222222222,\"#7201a8\"],[0.3333333333333333,\"#9c179e\"],[0.4444444444444444,\"#bd3786\"],[0.5555555555555556,\"#d8576b\"],[0.6666666666666666,\"#ed7953\"],[0.7777777777777778,\"#fb9f3a\"],[0.8888888888888888,\"#fdca26\"],[1.0,\"#f0f921\"]],\"type\":\"histogram2d\"}],\"histogram2dcontour\":[{\"colorbar\":{\"outlinewidth\":0,\"ticks\":\"\"},\"colorscale\":[[0.0,\"#0d0887\"],[0.1111111111111111,\"#46039f\"],[0.2222222222222222,\"#7201a8\"],[0.3333333333333333,\"#9c179e\"],[0.4444444444444444,\"#bd3786\"],[0.5555555555555556,\"#d8576b\"],[0.6666666666666666,\"#ed7953\"],[0.7777777777777778,\"#fb9f3a\"],[0.8888888888888888,\"#fdca26\"],[1.0,\"#f0f921\"]],\"type\":\"histogram2dcontour\"}],\"mesh3d\":[{\"colorbar\":{\"outlinewidth\":0,\"ticks\":\"\"},\"type\":\"mesh3d\"}],\"parcoords\":[{\"line\":{\"colorbar\":{\"outlinewidth\":0,\"ticks\":\"\"}},\"type\":\"parcoords\"}],\"pie\":[{\"automargin\":true,\"type\":\"pie\"}],\"scatter\":[{\"marker\":{\"colorbar\":{\"outlinewidth\":0,\"ticks\":\"\"}},\"type\":\"scatter\"}],\"scatter3d\":[{\"line\":{\"colorbar\":{\"outlinewidth\":0,\"ticks\":\"\"}},\"marker\":{\"colorbar\":{\"outlinewidth\":0,\"ticks\":\"\"}},\"type\":\"scatter3d\"}],\"scattercarpet\":[{\"marker\":{\"colorbar\":{\"outlinewidth\":0,\"ticks\":\"\"}},\"type\":\"scattercarpet\"}],\"scattergeo\":[{\"marker\":{\"colorbar\":{\"outlinewidth\":0,\"ticks\":\"\"}},\"type\":\"scattergeo\"}],\"scattergl\":[{\"marker\":{\"colorbar\":{\"outlinewidth\":0,\"ticks\":\"\"}},\"type\":\"scattergl\"}],\"scattermapbox\":[{\"marker\":{\"colorbar\":{\"outlinewidth\":0,\"ticks\":\"\"}},\"type\":\"scattermapbox\"}],\"scatterpolar\":[{\"marker\":{\"colorbar\":{\"outlinewidth\":0,\"ticks\":\"\"}},\"type\":\"scatterpolar\"}],\"scatterpolargl\":[{\"marker\":{\"colorbar\":{\"outlinewidth\":0,\"ticks\":\"\"}},\"type\":\"scatterpolargl\"}],\"scatterternary\":[{\"marker\":{\"colorbar\":{\"outlinewidth\":0,\"ticks\":\"\"}},\"type\":\"scatterternary\"}],\"surface\":[{\"colorbar\":{\"outlinewidth\":0,\"ticks\":\"\"},\"colorscale\":[[0.0,\"#0d0887\"],[0.1111111111111111,\"#46039f\"],[0.2222222222222222,\"#7201a8\"],[0.3333333333333333,\"#9c179e\"],[0.4444444444444444,\"#bd3786\"],[0.5555555555555556,\"#d8576b\"],[0.6666666666666666,\"#ed7953\"],[0.7777777777777778,\"#fb9f3a\"],[0.8888888888888888,\"#fdca26\"],[1.0,\"#f0f921\"]],\"type\":\"surface\"}],\"table\":[{\"cells\":{\"fill\":{\"color\":\"#EBF0F8\"},\"line\":{\"color\":\"white\"}},\"header\":{\"fill\":{\"color\":\"#C8D4E3\"},\"line\":{\"color\":\"white\"}},\"type\":\"table\"}]},\"layout\":{\"annotationdefaults\":{\"arrowcolor\":\"#2a3f5f\",\"arrowhead\":0,\"arrowwidth\":1},\"autotypenumbers\":\"strict\",\"coloraxis\":{\"colorbar\":{\"outlinewidth\":0,\"ticks\":\"\"}},\"colorscale\":{\"diverging\":[[0,\"#8e0152\"],[0.1,\"#c51b7d\"],[0.2,\"#de77ae\"],[0.3,\"#f1b6da\"],[0.4,\"#fde0ef\"],[0.5,\"#f7f7f7\"],[0.6,\"#e6f5d0\"],[0.7,\"#b8e186\"],[0.8,\"#7fbc41\"],[0.9,\"#4d9221\"],[1,\"#276419\"]],\"sequential\":[[0.0,\"#0d0887\"],[0.1111111111111111,\"#46039f\"],[0.2222222222222222,\"#7201a8\"],[0.3333333333333333,\"#9c179e\"],[0.4444444444444444,\"#bd3786\"],[0.5555555555555556,\"#d8576b\"],[0.6666666666666666,\"#ed7953\"],[0.7777777777777778,\"#fb9f3a\"],[0.8888888888888888,\"#fdca26\"],[1.0,\"#f0f921\"]],\"sequentialminus\":[[0.0,\"#0d0887\"],[0.1111111111111111,\"#46039f\"],[0.2222222222222222,\"#7201a8\"],[0.3333333333333333,\"#9c179e\"],[0.4444444444444444,\"#bd3786\"],[0.5555555555555556,\"#d8576b\"],[0.6666666666666666,\"#ed7953\"],[0.7777777777777778,\"#fb9f3a\"],[0.8888888888888888,\"#fdca26\"],[1.0,\"#f0f921\"]]},\"colorway\":[\"#636efa\",\"#EF553B\",\"#00cc96\",\"#ab63fa\",\"#FFA15A\",\"#19d3f3\",\"#FF6692\",\"#B6E880\",\"#FF97FF\",\"#FECB52\"],\"font\":{\"color\":\"#2a3f5f\"},\"geo\":{\"bgcolor\":\"white\",\"lakecolor\":\"white\",\"landcolor\":\"#E5ECF6\",\"showlakes\":true,\"showland\":true,\"subunitcolor\":\"white\"},\"hoverlabel\":{\"align\":\"left\"},\"hovermode\":\"closest\",\"mapbox\":{\"style\":\"light\"},\"paper_bgcolor\":\"white\",\"plot_bgcolor\":\"#E5ECF6\",\"polar\":{\"angularaxis\":{\"gridcolor\":\"white\",\"linecolor\":\"white\",\"ticks\":\"\"},\"bgcolor\":\"#E5ECF6\",\"radialaxis\":{\"gridcolor\":\"white\",\"linecolor\":\"white\",\"ticks\":\"\"}},\"scene\":{\"xaxis\":{\"backgroundcolor\":\"#E5ECF6\",\"gridcolor\":\"white\",\"gridwidth\":2,\"linecolor\":\"white\",\"showbackground\":true,\"ticks\":\"\",\"zerolinecolor\":\"white\"},\"yaxis\":{\"backgroundcolor\":\"#E5ECF6\",\"gridcolor\":\"white\",\"gridwidth\":2,\"linecolor\":\"white\",\"showbackground\":true,\"ticks\":\"\",\"zerolinecolor\":\"white\"},\"zaxis\":{\"backgroundcolor\":\"#E5ECF6\",\"gridcolor\":\"white\",\"gridwidth\":2,\"linecolor\":\"white\",\"showbackground\":true,\"ticks\":\"\",\"zerolinecolor\":\"white\"}},\"shapedefaults\":{\"line\":{\"color\":\"#2a3f5f\"}},\"ternary\":{\"aaxis\":{\"gridcolor\":\"white\",\"linecolor\":\"white\",\"ticks\":\"\"},\"baxis\":{\"gridcolor\":\"white\",\"linecolor\":\"white\",\"ticks\":\"\"},\"bgcolor\":\"#E5ECF6\",\"caxis\":{\"gridcolor\":\"white\",\"linecolor\":\"white\",\"ticks\":\"\"}},\"title\":{\"x\":0.05},\"xaxis\":{\"automargin\":true,\"gridcolor\":\"white\",\"linecolor\":\"white\",\"ticks\":\"\",\"title\":{\"standoff\":15},\"zerolinecolor\":\"white\",\"zerolinewidth\":2},\"yaxis\":{\"automargin\":true,\"gridcolor\":\"white\",\"linecolor\":\"white\",\"ticks\":\"\",\"title\":{\"standoff\":15},\"zerolinecolor\":\"white\",\"zerolinewidth\":2}}},\"title\":{\"text\":\"Ayl\\u0131k Ortalama Sat\\u0131\\u015f Adedi\"},\"xaxis\":{\"showgrid\":false,\"tickmode\":\"array\",\"tickvals\":[1,2,3,4,5,6,7,8,9,10,11,12]},\"yaxis\":{\"showgrid\":false}},                        {\"responsive\": true}                    ).then(function(){\n",
       "                            \n",
       "var gd = document.getElementById('1ffa7940-bea1-46fc-b14a-a5567b832be1');\n",
       "var x = new MutationObserver(function (mutations, observer) {{\n",
       "        var display = window.getComputedStyle(gd).display;\n",
       "        if (!display || display === 'none') {{\n",
       "            console.log([gd, 'removed!']);\n",
       "            Plotly.purge(gd);\n",
       "            observer.disconnect();\n",
       "        }}\n",
       "}});\n",
       "\n",
       "// Listen for the removal of the full notebook cells\n",
       "var notebookContainer = gd.closest('#notebook-container');\n",
       "if (notebookContainer) {{\n",
       "    x.observe(notebookContainer, {childList: true});\n",
       "}}\n",
       "\n",
       "// Listen for the clearing of the current output cell\n",
       "var outputEl = gd.closest('.output');\n",
       "if (outputEl) {{\n",
       "    x.observe(outputEl, {childList: true});\n",
       "}}\n",
       "\n",
       "                        })                };                });            </script>        </div>"
      ]
     },
     "metadata": {},
     "output_type": "display_data"
    }
   ],
   "source": [
    "df_mon_sa = df_train1.groupby('month').agg({\"sales\" : \"mean\"}).reset_index()\n",
    "fig8 = go.Figure(data=[go.Scatter(x=df_mon_sa['month'], y=df_mon_sa['sales'], fill='tozeroy', fillcolor='#FAA831', line_color='#bA6800'\n",
    "                                  ,mode='lines+markers')])\n",
    "\n",
    "\n",
    "fig8.update_layout(title_text='Aylık Ortalama Satış Adedi',height=300,paper_bgcolor='#232425',plot_bgcolor='#232425',\n",
    "                font=dict(\n",
    "                size=12,\n",
    "                color='white'))\n",
    "fig8.update_yaxes(showgrid=False)\n",
    "fig8.update_xaxes(showgrid=False,tickmode = 'array', tickvals=df_mon_sa.month)"
   ]
  },
  {
   "cell_type": "code",
   "execution_count": 13,
   "metadata": {},
   "outputs": [
    {
     "data": {
      "application/vnd.plotly.v1+json": {
       "config": {
        "plotlyServerURL": "https://plot.ly"
       },
       "data": [
        {
         "fill": "tozeroy",
         "fillcolor": "#FAA831",
         "line": {
          "color": "#bA6800"
         },
         "mode": "lines+markers",
         "type": "scatter",
         "x": [
          1,
          2,
          3,
          4
         ],
         "y": [
          341.9215535883968,
          320.92886881317503,
          352.00929418565386,
          341.167843727666,
          345.65281410662095,
          352.511264630402,
          376.41409093189145,
          336.99253461263714,
          362.29741825937884,
          362.4071320532839,
          376.88914319585706,
          457.3831156677393
         ]
        }
       ],
       "layout": {
        "font": {
         "color": "white",
         "size": 12
        },
        "height": 300,
        "paper_bgcolor": "#232425",
        "plot_bgcolor": "#232425",
        "template": {
         "data": {
          "bar": [
           {
            "error_x": {
             "color": "#2a3f5f"
            },
            "error_y": {
             "color": "#2a3f5f"
            },
            "marker": {
             "line": {
              "color": "#E5ECF6",
              "width": 0.5
             },
             "pattern": {
              "fillmode": "overlay",
              "size": 10,
              "solidity": 0.2
             }
            },
            "type": "bar"
           }
          ],
          "barpolar": [
           {
            "marker": {
             "line": {
              "color": "#E5ECF6",
              "width": 0.5
             },
             "pattern": {
              "fillmode": "overlay",
              "size": 10,
              "solidity": 0.2
             }
            },
            "type": "barpolar"
           }
          ],
          "carpet": [
           {
            "aaxis": {
             "endlinecolor": "#2a3f5f",
             "gridcolor": "white",
             "linecolor": "white",
             "minorgridcolor": "white",
             "startlinecolor": "#2a3f5f"
            },
            "baxis": {
             "endlinecolor": "#2a3f5f",
             "gridcolor": "white",
             "linecolor": "white",
             "minorgridcolor": "white",
             "startlinecolor": "#2a3f5f"
            },
            "type": "carpet"
           }
          ],
          "choropleth": [
           {
            "colorbar": {
             "outlinewidth": 0,
             "ticks": ""
            },
            "type": "choropleth"
           }
          ],
          "contour": [
           {
            "colorbar": {
             "outlinewidth": 0,
             "ticks": ""
            },
            "colorscale": [
             [
              0,
              "#0d0887"
             ],
             [
              0.1111111111111111,
              "#46039f"
             ],
             [
              0.2222222222222222,
              "#7201a8"
             ],
             [
              0.3333333333333333,
              "#9c179e"
             ],
             [
              0.4444444444444444,
              "#bd3786"
             ],
             [
              0.5555555555555556,
              "#d8576b"
             ],
             [
              0.6666666666666666,
              "#ed7953"
             ],
             [
              0.7777777777777778,
              "#fb9f3a"
             ],
             [
              0.8888888888888888,
              "#fdca26"
             ],
             [
              1,
              "#f0f921"
             ]
            ],
            "type": "contour"
           }
          ],
          "contourcarpet": [
           {
            "colorbar": {
             "outlinewidth": 0,
             "ticks": ""
            },
            "type": "contourcarpet"
           }
          ],
          "heatmap": [
           {
            "colorbar": {
             "outlinewidth": 0,
             "ticks": ""
            },
            "colorscale": [
             [
              0,
              "#0d0887"
             ],
             [
              0.1111111111111111,
              "#46039f"
             ],
             [
              0.2222222222222222,
              "#7201a8"
             ],
             [
              0.3333333333333333,
              "#9c179e"
             ],
             [
              0.4444444444444444,
              "#bd3786"
             ],
             [
              0.5555555555555556,
              "#d8576b"
             ],
             [
              0.6666666666666666,
              "#ed7953"
             ],
             [
              0.7777777777777778,
              "#fb9f3a"
             ],
             [
              0.8888888888888888,
              "#fdca26"
             ],
             [
              1,
              "#f0f921"
             ]
            ],
            "type": "heatmap"
           }
          ],
          "heatmapgl": [
           {
            "colorbar": {
             "outlinewidth": 0,
             "ticks": ""
            },
            "colorscale": [
             [
              0,
              "#0d0887"
             ],
             [
              0.1111111111111111,
              "#46039f"
             ],
             [
              0.2222222222222222,
              "#7201a8"
             ],
             [
              0.3333333333333333,
              "#9c179e"
             ],
             [
              0.4444444444444444,
              "#bd3786"
             ],
             [
              0.5555555555555556,
              "#d8576b"
             ],
             [
              0.6666666666666666,
              "#ed7953"
             ],
             [
              0.7777777777777778,
              "#fb9f3a"
             ],
             [
              0.8888888888888888,
              "#fdca26"
             ],
             [
              1,
              "#f0f921"
             ]
            ],
            "type": "heatmapgl"
           }
          ],
          "histogram": [
           {
            "marker": {
             "pattern": {
              "fillmode": "overlay",
              "size": 10,
              "solidity": 0.2
             }
            },
            "type": "histogram"
           }
          ],
          "histogram2d": [
           {
            "colorbar": {
             "outlinewidth": 0,
             "ticks": ""
            },
            "colorscale": [
             [
              0,
              "#0d0887"
             ],
             [
              0.1111111111111111,
              "#46039f"
             ],
             [
              0.2222222222222222,
              "#7201a8"
             ],
             [
              0.3333333333333333,
              "#9c179e"
             ],
             [
              0.4444444444444444,
              "#bd3786"
             ],
             [
              0.5555555555555556,
              "#d8576b"
             ],
             [
              0.6666666666666666,
              "#ed7953"
             ],
             [
              0.7777777777777778,
              "#fb9f3a"
             ],
             [
              0.8888888888888888,
              "#fdca26"
             ],
             [
              1,
              "#f0f921"
             ]
            ],
            "type": "histogram2d"
           }
          ],
          "histogram2dcontour": [
           {
            "colorbar": {
             "outlinewidth": 0,
             "ticks": ""
            },
            "colorscale": [
             [
              0,
              "#0d0887"
             ],
             [
              0.1111111111111111,
              "#46039f"
             ],
             [
              0.2222222222222222,
              "#7201a8"
             ],
             [
              0.3333333333333333,
              "#9c179e"
             ],
             [
              0.4444444444444444,
              "#bd3786"
             ],
             [
              0.5555555555555556,
              "#d8576b"
             ],
             [
              0.6666666666666666,
              "#ed7953"
             ],
             [
              0.7777777777777778,
              "#fb9f3a"
             ],
             [
              0.8888888888888888,
              "#fdca26"
             ],
             [
              1,
              "#f0f921"
             ]
            ],
            "type": "histogram2dcontour"
           }
          ],
          "mesh3d": [
           {
            "colorbar": {
             "outlinewidth": 0,
             "ticks": ""
            },
            "type": "mesh3d"
           }
          ],
          "parcoords": [
           {
            "line": {
             "colorbar": {
              "outlinewidth": 0,
              "ticks": ""
             }
            },
            "type": "parcoords"
           }
          ],
          "pie": [
           {
            "automargin": true,
            "type": "pie"
           }
          ],
          "scatter": [
           {
            "marker": {
             "colorbar": {
              "outlinewidth": 0,
              "ticks": ""
             }
            },
            "type": "scatter"
           }
          ],
          "scatter3d": [
           {
            "line": {
             "colorbar": {
              "outlinewidth": 0,
              "ticks": ""
             }
            },
            "marker": {
             "colorbar": {
              "outlinewidth": 0,
              "ticks": ""
             }
            },
            "type": "scatter3d"
           }
          ],
          "scattercarpet": [
           {
            "marker": {
             "colorbar": {
              "outlinewidth": 0,
              "ticks": ""
             }
            },
            "type": "scattercarpet"
           }
          ],
          "scattergeo": [
           {
            "marker": {
             "colorbar": {
              "outlinewidth": 0,
              "ticks": ""
             }
            },
            "type": "scattergeo"
           }
          ],
          "scattergl": [
           {
            "marker": {
             "colorbar": {
              "outlinewidth": 0,
              "ticks": ""
             }
            },
            "type": "scattergl"
           }
          ],
          "scattermapbox": [
           {
            "marker": {
             "colorbar": {
              "outlinewidth": 0,
              "ticks": ""
             }
            },
            "type": "scattermapbox"
           }
          ],
          "scatterpolar": [
           {
            "marker": {
             "colorbar": {
              "outlinewidth": 0,
              "ticks": ""
             }
            },
            "type": "scatterpolar"
           }
          ],
          "scatterpolargl": [
           {
            "marker": {
             "colorbar": {
              "outlinewidth": 0,
              "ticks": ""
             }
            },
            "type": "scatterpolargl"
           }
          ],
          "scatterternary": [
           {
            "marker": {
             "colorbar": {
              "outlinewidth": 0,
              "ticks": ""
             }
            },
            "type": "scatterternary"
           }
          ],
          "surface": [
           {
            "colorbar": {
             "outlinewidth": 0,
             "ticks": ""
            },
            "colorscale": [
             [
              0,
              "#0d0887"
             ],
             [
              0.1111111111111111,
              "#46039f"
             ],
             [
              0.2222222222222222,
              "#7201a8"
             ],
             [
              0.3333333333333333,
              "#9c179e"
             ],
             [
              0.4444444444444444,
              "#bd3786"
             ],
             [
              0.5555555555555556,
              "#d8576b"
             ],
             [
              0.6666666666666666,
              "#ed7953"
             ],
             [
              0.7777777777777778,
              "#fb9f3a"
             ],
             [
              0.8888888888888888,
              "#fdca26"
             ],
             [
              1,
              "#f0f921"
             ]
            ],
            "type": "surface"
           }
          ],
          "table": [
           {
            "cells": {
             "fill": {
              "color": "#EBF0F8"
             },
             "line": {
              "color": "white"
             }
            },
            "header": {
             "fill": {
              "color": "#C8D4E3"
             },
             "line": {
              "color": "white"
             }
            },
            "type": "table"
           }
          ]
         },
         "layout": {
          "annotationdefaults": {
           "arrowcolor": "#2a3f5f",
           "arrowhead": 0,
           "arrowwidth": 1
          },
          "autotypenumbers": "strict",
          "coloraxis": {
           "colorbar": {
            "outlinewidth": 0,
            "ticks": ""
           }
          },
          "colorscale": {
           "diverging": [
            [
             0,
             "#8e0152"
            ],
            [
             0.1,
             "#c51b7d"
            ],
            [
             0.2,
             "#de77ae"
            ],
            [
             0.3,
             "#f1b6da"
            ],
            [
             0.4,
             "#fde0ef"
            ],
            [
             0.5,
             "#f7f7f7"
            ],
            [
             0.6,
             "#e6f5d0"
            ],
            [
             0.7,
             "#b8e186"
            ],
            [
             0.8,
             "#7fbc41"
            ],
            [
             0.9,
             "#4d9221"
            ],
            [
             1,
             "#276419"
            ]
           ],
           "sequential": [
            [
             0,
             "#0d0887"
            ],
            [
             0.1111111111111111,
             "#46039f"
            ],
            [
             0.2222222222222222,
             "#7201a8"
            ],
            [
             0.3333333333333333,
             "#9c179e"
            ],
            [
             0.4444444444444444,
             "#bd3786"
            ],
            [
             0.5555555555555556,
             "#d8576b"
            ],
            [
             0.6666666666666666,
             "#ed7953"
            ],
            [
             0.7777777777777778,
             "#fb9f3a"
            ],
            [
             0.8888888888888888,
             "#fdca26"
            ],
            [
             1,
             "#f0f921"
            ]
           ],
           "sequentialminus": [
            [
             0,
             "#0d0887"
            ],
            [
             0.1111111111111111,
             "#46039f"
            ],
            [
             0.2222222222222222,
             "#7201a8"
            ],
            [
             0.3333333333333333,
             "#9c179e"
            ],
            [
             0.4444444444444444,
             "#bd3786"
            ],
            [
             0.5555555555555556,
             "#d8576b"
            ],
            [
             0.6666666666666666,
             "#ed7953"
            ],
            [
             0.7777777777777778,
             "#fb9f3a"
            ],
            [
             0.8888888888888888,
             "#fdca26"
            ],
            [
             1,
             "#f0f921"
            ]
           ]
          },
          "colorway": [
           "#636efa",
           "#EF553B",
           "#00cc96",
           "#ab63fa",
           "#FFA15A",
           "#19d3f3",
           "#FF6692",
           "#B6E880",
           "#FF97FF",
           "#FECB52"
          ],
          "font": {
           "color": "#2a3f5f"
          },
          "geo": {
           "bgcolor": "white",
           "lakecolor": "white",
           "landcolor": "#E5ECF6",
           "showlakes": true,
           "showland": true,
           "subunitcolor": "white"
          },
          "hoverlabel": {
           "align": "left"
          },
          "hovermode": "closest",
          "mapbox": {
           "style": "light"
          },
          "paper_bgcolor": "white",
          "plot_bgcolor": "#E5ECF6",
          "polar": {
           "angularaxis": {
            "gridcolor": "white",
            "linecolor": "white",
            "ticks": ""
           },
           "bgcolor": "#E5ECF6",
           "radialaxis": {
            "gridcolor": "white",
            "linecolor": "white",
            "ticks": ""
           }
          },
          "scene": {
           "xaxis": {
            "backgroundcolor": "#E5ECF6",
            "gridcolor": "white",
            "gridwidth": 2,
            "linecolor": "white",
            "showbackground": true,
            "ticks": "",
            "zerolinecolor": "white"
           },
           "yaxis": {
            "backgroundcolor": "#E5ECF6",
            "gridcolor": "white",
            "gridwidth": 2,
            "linecolor": "white",
            "showbackground": true,
            "ticks": "",
            "zerolinecolor": "white"
           },
           "zaxis": {
            "backgroundcolor": "#E5ECF6",
            "gridcolor": "white",
            "gridwidth": 2,
            "linecolor": "white",
            "showbackground": true,
            "ticks": "",
            "zerolinecolor": "white"
           }
          },
          "shapedefaults": {
           "line": {
            "color": "#2a3f5f"
           }
          },
          "ternary": {
           "aaxis": {
            "gridcolor": "white",
            "linecolor": "white",
            "ticks": ""
           },
           "baxis": {
            "gridcolor": "white",
            "linecolor": "white",
            "ticks": ""
           },
           "bgcolor": "#E5ECF6",
           "caxis": {
            "gridcolor": "white",
            "linecolor": "white",
            "ticks": ""
           }
          },
          "title": {
           "x": 0.05
          },
          "xaxis": {
           "automargin": true,
           "gridcolor": "white",
           "linecolor": "white",
           "ticks": "",
           "title": {
            "standoff": 15
           },
           "zerolinecolor": "white",
           "zerolinewidth": 2
          },
          "yaxis": {
           "automargin": true,
           "gridcolor": "white",
           "linecolor": "white",
           "ticks": "",
           "title": {
            "standoff": 15
           },
           "zerolinecolor": "white",
           "zerolinewidth": 2
          }
         }
        },
        "title": {
         "text": "Ortalama 3 Aylık Satış Adetleri (Quarter)"
        },
        "xaxis": {
         "showgrid": false,
         "tickmode": "array",
         "tickvals": [
          1,
          2,
          3,
          4
         ]
        },
        "yaxis": {
         "showgrid": false
        }
       }
      },
      "text/html": [
       "<div>                            <div id=\"b82e0f6b-04b3-4877-9528-0d126226f5a2\" class=\"plotly-graph-div\" style=\"height:300px; width:100%;\"></div>            <script type=\"text/javascript\">                require([\"plotly\"], function(Plotly) {                    window.PLOTLYENV=window.PLOTLYENV || {};                                    if (document.getElementById(\"b82e0f6b-04b3-4877-9528-0d126226f5a2\")) {                    Plotly.newPlot(                        \"b82e0f6b-04b3-4877-9528-0d126226f5a2\",                        [{\"fill\":\"tozeroy\",\"fillcolor\":\"#FAA831\",\"line\":{\"color\":\"#bA6800\"},\"mode\":\"lines+markers\",\"type\":\"scatter\",\"x\":[1,2,3,4],\"y\":[341.9215535883968,320.92886881317503,352.00929418565386,341.167843727666,345.65281410662095,352.511264630402,376.41409093189145,336.99253461263714,362.29741825937884,362.4071320532839,376.88914319585706,457.3831156677393]}],                        {\"font\":{\"color\":\"white\",\"size\":12},\"height\":300,\"paper_bgcolor\":\"#232425\",\"plot_bgcolor\":\"#232425\",\"template\":{\"data\":{\"bar\":[{\"error_x\":{\"color\":\"#2a3f5f\"},\"error_y\":{\"color\":\"#2a3f5f\"},\"marker\":{\"line\":{\"color\":\"#E5ECF6\",\"width\":0.5},\"pattern\":{\"fillmode\":\"overlay\",\"size\":10,\"solidity\":0.2}},\"type\":\"bar\"}],\"barpolar\":[{\"marker\":{\"line\":{\"color\":\"#E5ECF6\",\"width\":0.5},\"pattern\":{\"fillmode\":\"overlay\",\"size\":10,\"solidity\":0.2}},\"type\":\"barpolar\"}],\"carpet\":[{\"aaxis\":{\"endlinecolor\":\"#2a3f5f\",\"gridcolor\":\"white\",\"linecolor\":\"white\",\"minorgridcolor\":\"white\",\"startlinecolor\":\"#2a3f5f\"},\"baxis\":{\"endlinecolor\":\"#2a3f5f\",\"gridcolor\":\"white\",\"linecolor\":\"white\",\"minorgridcolor\":\"white\",\"startlinecolor\":\"#2a3f5f\"},\"type\":\"carpet\"}],\"choropleth\":[{\"colorbar\":{\"outlinewidth\":0,\"ticks\":\"\"},\"type\":\"choropleth\"}],\"contour\":[{\"colorbar\":{\"outlinewidth\":0,\"ticks\":\"\"},\"colorscale\":[[0.0,\"#0d0887\"],[0.1111111111111111,\"#46039f\"],[0.2222222222222222,\"#7201a8\"],[0.3333333333333333,\"#9c179e\"],[0.4444444444444444,\"#bd3786\"],[0.5555555555555556,\"#d8576b\"],[0.6666666666666666,\"#ed7953\"],[0.7777777777777778,\"#fb9f3a\"],[0.8888888888888888,\"#fdca26\"],[1.0,\"#f0f921\"]],\"type\":\"contour\"}],\"contourcarpet\":[{\"colorbar\":{\"outlinewidth\":0,\"ticks\":\"\"},\"type\":\"contourcarpet\"}],\"heatmap\":[{\"colorbar\":{\"outlinewidth\":0,\"ticks\":\"\"},\"colorscale\":[[0.0,\"#0d0887\"],[0.1111111111111111,\"#46039f\"],[0.2222222222222222,\"#7201a8\"],[0.3333333333333333,\"#9c179e\"],[0.4444444444444444,\"#bd3786\"],[0.5555555555555556,\"#d8576b\"],[0.6666666666666666,\"#ed7953\"],[0.7777777777777778,\"#fb9f3a\"],[0.8888888888888888,\"#fdca26\"],[1.0,\"#f0f921\"]],\"type\":\"heatmap\"}],\"heatmapgl\":[{\"colorbar\":{\"outlinewidth\":0,\"ticks\":\"\"},\"colorscale\":[[0.0,\"#0d0887\"],[0.1111111111111111,\"#46039f\"],[0.2222222222222222,\"#7201a8\"],[0.3333333333333333,\"#9c179e\"],[0.4444444444444444,\"#bd3786\"],[0.5555555555555556,\"#d8576b\"],[0.6666666666666666,\"#ed7953\"],[0.7777777777777778,\"#fb9f3a\"],[0.8888888888888888,\"#fdca26\"],[1.0,\"#f0f921\"]],\"type\":\"heatmapgl\"}],\"histogram\":[{\"marker\":{\"pattern\":{\"fillmode\":\"overlay\",\"size\":10,\"solidity\":0.2}},\"type\":\"histogram\"}],\"histogram2d\":[{\"colorbar\":{\"outlinewidth\":0,\"ticks\":\"\"},\"colorscale\":[[0.0,\"#0d0887\"],[0.1111111111111111,\"#46039f\"],[0.2222222222222222,\"#7201a8\"],[0.3333333333333333,\"#9c179e\"],[0.4444444444444444,\"#bd3786\"],[0.5555555555555556,\"#d8576b\"],[0.6666666666666666,\"#ed7953\"],[0.7777777777777778,\"#fb9f3a\"],[0.8888888888888888,\"#fdca26\"],[1.0,\"#f0f921\"]],\"type\":\"histogram2d\"}],\"histogram2dcontour\":[{\"colorbar\":{\"outlinewidth\":0,\"ticks\":\"\"},\"colorscale\":[[0.0,\"#0d0887\"],[0.1111111111111111,\"#46039f\"],[0.2222222222222222,\"#7201a8\"],[0.3333333333333333,\"#9c179e\"],[0.4444444444444444,\"#bd3786\"],[0.5555555555555556,\"#d8576b\"],[0.6666666666666666,\"#ed7953\"],[0.7777777777777778,\"#fb9f3a\"],[0.8888888888888888,\"#fdca26\"],[1.0,\"#f0f921\"]],\"type\":\"histogram2dcontour\"}],\"mesh3d\":[{\"colorbar\":{\"outlinewidth\":0,\"ticks\":\"\"},\"type\":\"mesh3d\"}],\"parcoords\":[{\"line\":{\"colorbar\":{\"outlinewidth\":0,\"ticks\":\"\"}},\"type\":\"parcoords\"}],\"pie\":[{\"automargin\":true,\"type\":\"pie\"}],\"scatter\":[{\"marker\":{\"colorbar\":{\"outlinewidth\":0,\"ticks\":\"\"}},\"type\":\"scatter\"}],\"scatter3d\":[{\"line\":{\"colorbar\":{\"outlinewidth\":0,\"ticks\":\"\"}},\"marker\":{\"colorbar\":{\"outlinewidth\":0,\"ticks\":\"\"}},\"type\":\"scatter3d\"}],\"scattercarpet\":[{\"marker\":{\"colorbar\":{\"outlinewidth\":0,\"ticks\":\"\"}},\"type\":\"scattercarpet\"}],\"scattergeo\":[{\"marker\":{\"colorbar\":{\"outlinewidth\":0,\"ticks\":\"\"}},\"type\":\"scattergeo\"}],\"scattergl\":[{\"marker\":{\"colorbar\":{\"outlinewidth\":0,\"ticks\":\"\"}},\"type\":\"scattergl\"}],\"scattermapbox\":[{\"marker\":{\"colorbar\":{\"outlinewidth\":0,\"ticks\":\"\"}},\"type\":\"scattermapbox\"}],\"scatterpolar\":[{\"marker\":{\"colorbar\":{\"outlinewidth\":0,\"ticks\":\"\"}},\"type\":\"scatterpolar\"}],\"scatterpolargl\":[{\"marker\":{\"colorbar\":{\"outlinewidth\":0,\"ticks\":\"\"}},\"type\":\"scatterpolargl\"}],\"scatterternary\":[{\"marker\":{\"colorbar\":{\"outlinewidth\":0,\"ticks\":\"\"}},\"type\":\"scatterternary\"}],\"surface\":[{\"colorbar\":{\"outlinewidth\":0,\"ticks\":\"\"},\"colorscale\":[[0.0,\"#0d0887\"],[0.1111111111111111,\"#46039f\"],[0.2222222222222222,\"#7201a8\"],[0.3333333333333333,\"#9c179e\"],[0.4444444444444444,\"#bd3786\"],[0.5555555555555556,\"#d8576b\"],[0.6666666666666666,\"#ed7953\"],[0.7777777777777778,\"#fb9f3a\"],[0.8888888888888888,\"#fdca26\"],[1.0,\"#f0f921\"]],\"type\":\"surface\"}],\"table\":[{\"cells\":{\"fill\":{\"color\":\"#EBF0F8\"},\"line\":{\"color\":\"white\"}},\"header\":{\"fill\":{\"color\":\"#C8D4E3\"},\"line\":{\"color\":\"white\"}},\"type\":\"table\"}]},\"layout\":{\"annotationdefaults\":{\"arrowcolor\":\"#2a3f5f\",\"arrowhead\":0,\"arrowwidth\":1},\"autotypenumbers\":\"strict\",\"coloraxis\":{\"colorbar\":{\"outlinewidth\":0,\"ticks\":\"\"}},\"colorscale\":{\"diverging\":[[0,\"#8e0152\"],[0.1,\"#c51b7d\"],[0.2,\"#de77ae\"],[0.3,\"#f1b6da\"],[0.4,\"#fde0ef\"],[0.5,\"#f7f7f7\"],[0.6,\"#e6f5d0\"],[0.7,\"#b8e186\"],[0.8,\"#7fbc41\"],[0.9,\"#4d9221\"],[1,\"#276419\"]],\"sequential\":[[0.0,\"#0d0887\"],[0.1111111111111111,\"#46039f\"],[0.2222222222222222,\"#7201a8\"],[0.3333333333333333,\"#9c179e\"],[0.4444444444444444,\"#bd3786\"],[0.5555555555555556,\"#d8576b\"],[0.6666666666666666,\"#ed7953\"],[0.7777777777777778,\"#fb9f3a\"],[0.8888888888888888,\"#fdca26\"],[1.0,\"#f0f921\"]],\"sequentialminus\":[[0.0,\"#0d0887\"],[0.1111111111111111,\"#46039f\"],[0.2222222222222222,\"#7201a8\"],[0.3333333333333333,\"#9c179e\"],[0.4444444444444444,\"#bd3786\"],[0.5555555555555556,\"#d8576b\"],[0.6666666666666666,\"#ed7953\"],[0.7777777777777778,\"#fb9f3a\"],[0.8888888888888888,\"#fdca26\"],[1.0,\"#f0f921\"]]},\"colorway\":[\"#636efa\",\"#EF553B\",\"#00cc96\",\"#ab63fa\",\"#FFA15A\",\"#19d3f3\",\"#FF6692\",\"#B6E880\",\"#FF97FF\",\"#FECB52\"],\"font\":{\"color\":\"#2a3f5f\"},\"geo\":{\"bgcolor\":\"white\",\"lakecolor\":\"white\",\"landcolor\":\"#E5ECF6\",\"showlakes\":true,\"showland\":true,\"subunitcolor\":\"white\"},\"hoverlabel\":{\"align\":\"left\"},\"hovermode\":\"closest\",\"mapbox\":{\"style\":\"light\"},\"paper_bgcolor\":\"white\",\"plot_bgcolor\":\"#E5ECF6\",\"polar\":{\"angularaxis\":{\"gridcolor\":\"white\",\"linecolor\":\"white\",\"ticks\":\"\"},\"bgcolor\":\"#E5ECF6\",\"radialaxis\":{\"gridcolor\":\"white\",\"linecolor\":\"white\",\"ticks\":\"\"}},\"scene\":{\"xaxis\":{\"backgroundcolor\":\"#E5ECF6\",\"gridcolor\":\"white\",\"gridwidth\":2,\"linecolor\":\"white\",\"showbackground\":true,\"ticks\":\"\",\"zerolinecolor\":\"white\"},\"yaxis\":{\"backgroundcolor\":\"#E5ECF6\",\"gridcolor\":\"white\",\"gridwidth\":2,\"linecolor\":\"white\",\"showbackground\":true,\"ticks\":\"\",\"zerolinecolor\":\"white\"},\"zaxis\":{\"backgroundcolor\":\"#E5ECF6\",\"gridcolor\":\"white\",\"gridwidth\":2,\"linecolor\":\"white\",\"showbackground\":true,\"ticks\":\"\",\"zerolinecolor\":\"white\"}},\"shapedefaults\":{\"line\":{\"color\":\"#2a3f5f\"}},\"ternary\":{\"aaxis\":{\"gridcolor\":\"white\",\"linecolor\":\"white\",\"ticks\":\"\"},\"baxis\":{\"gridcolor\":\"white\",\"linecolor\":\"white\",\"ticks\":\"\"},\"bgcolor\":\"#E5ECF6\",\"caxis\":{\"gridcolor\":\"white\",\"linecolor\":\"white\",\"ticks\":\"\"}},\"title\":{\"x\":0.05},\"xaxis\":{\"automargin\":true,\"gridcolor\":\"white\",\"linecolor\":\"white\",\"ticks\":\"\",\"title\":{\"standoff\":15},\"zerolinecolor\":\"white\",\"zerolinewidth\":2},\"yaxis\":{\"automargin\":true,\"gridcolor\":\"white\",\"linecolor\":\"white\",\"ticks\":\"\",\"title\":{\"standoff\":15},\"zerolinecolor\":\"white\",\"zerolinewidth\":2}}},\"title\":{\"text\":\"Ortalama 3 Ayl\\u0131k Sat\\u0131\\u015f Adetleri (Quarter)\"},\"xaxis\":{\"showgrid\":false,\"tickmode\":\"array\",\"tickvals\":[1,2,3,4]},\"yaxis\":{\"showgrid\":false}},                        {\"responsive\": true}                    ).then(function(){\n",
       "                            \n",
       "var gd = document.getElementById('b82e0f6b-04b3-4877-9528-0d126226f5a2');\n",
       "var x = new MutationObserver(function (mutations, observer) {{\n",
       "        var display = window.getComputedStyle(gd).display;\n",
       "        if (!display || display === 'none') {{\n",
       "            console.log([gd, 'removed!']);\n",
       "            Plotly.purge(gd);\n",
       "            observer.disconnect();\n",
       "        }}\n",
       "}});\n",
       "\n",
       "// Listen for the removal of the full notebook cells\n",
       "var notebookContainer = gd.closest('#notebook-container');\n",
       "if (notebookContainer) {{\n",
       "    x.observe(notebookContainer, {childList: true});\n",
       "}}\n",
       "\n",
       "// Listen for the clearing of the current output cell\n",
       "var outputEl = gd.closest('.output');\n",
       "if (outputEl) {{\n",
       "    x.observe(outputEl, {childList: true});\n",
       "}}\n",
       "\n",
       "                        })                };                });            </script>        </div>"
      ]
     },
     "metadata": {},
     "output_type": "display_data"
    }
   ],
   "source": [
    "df_qu_sa = df_train1.groupby('quarter').agg({\"sales\" : \"mean\"}).reset_index()\n",
    "fig9 = go.Figure(data=[go.Scatter(x=df_qu_sa['quarter'], y=df_mon_sa['sales'], fill='tozeroy', fillcolor='#FAA831', line_color='#bA6800'\n",
    "                                  ,mode='lines+markers')])\n",
    "\n",
    "\n",
    "fig9.update_layout(title_text='Ortalama 3 Aylık Satış Adetleri (Quarter)',height=300,paper_bgcolor='#232425',plot_bgcolor='#232425',\n",
    "                font=dict(\n",
    "                size=12,\n",
    "                color='white'))\n",
    "fig9.update_yaxes(showgrid=False)\n",
    "fig9.update_xaxes(showgrid=False,tickmode = 'array', tickvals=df_qu_sa.quarter)"
   ]
  },
  {
   "cell_type": "code",
   "execution_count": 14,
   "metadata": {},
   "outputs": [
    {
     "data": {
      "application/vnd.plotly.v1+json": {
       "config": {
        "plotlyServerURL": "https://plot.ly"
       },
       "data": [
        {
         "fill": "tozeroy",
         "fillcolor": "#FAA831",
         "line": {
          "color": "#bA6800"
         },
         "mode": "lines+markers",
         "type": "scatter",
         "x": [
          2013,
          2014,
          2015,
          2016,
          2017
         ],
         "y": [
          216.69261198187218,
          323.05693575272414,
          371.82229582923577,
          446.51891668102013,
          481.1664577136069
         ]
        }
       ],
       "layout": {
        "font": {
         "color": "white",
         "size": 12
        },
        "height": 300,
        "paper_bgcolor": "#232425",
        "plot_bgcolor": "#232425",
        "template": {
         "data": {
          "bar": [
           {
            "error_x": {
             "color": "#2a3f5f"
            },
            "error_y": {
             "color": "#2a3f5f"
            },
            "marker": {
             "line": {
              "color": "#E5ECF6",
              "width": 0.5
             },
             "pattern": {
              "fillmode": "overlay",
              "size": 10,
              "solidity": 0.2
             }
            },
            "type": "bar"
           }
          ],
          "barpolar": [
           {
            "marker": {
             "line": {
              "color": "#E5ECF6",
              "width": 0.5
             },
             "pattern": {
              "fillmode": "overlay",
              "size": 10,
              "solidity": 0.2
             }
            },
            "type": "barpolar"
           }
          ],
          "carpet": [
           {
            "aaxis": {
             "endlinecolor": "#2a3f5f",
             "gridcolor": "white",
             "linecolor": "white",
             "minorgridcolor": "white",
             "startlinecolor": "#2a3f5f"
            },
            "baxis": {
             "endlinecolor": "#2a3f5f",
             "gridcolor": "white",
             "linecolor": "white",
             "minorgridcolor": "white",
             "startlinecolor": "#2a3f5f"
            },
            "type": "carpet"
           }
          ],
          "choropleth": [
           {
            "colorbar": {
             "outlinewidth": 0,
             "ticks": ""
            },
            "type": "choropleth"
           }
          ],
          "contour": [
           {
            "colorbar": {
             "outlinewidth": 0,
             "ticks": ""
            },
            "colorscale": [
             [
              0,
              "#0d0887"
             ],
             [
              0.1111111111111111,
              "#46039f"
             ],
             [
              0.2222222222222222,
              "#7201a8"
             ],
             [
              0.3333333333333333,
              "#9c179e"
             ],
             [
              0.4444444444444444,
              "#bd3786"
             ],
             [
              0.5555555555555556,
              "#d8576b"
             ],
             [
              0.6666666666666666,
              "#ed7953"
             ],
             [
              0.7777777777777778,
              "#fb9f3a"
             ],
             [
              0.8888888888888888,
              "#fdca26"
             ],
             [
              1,
              "#f0f921"
             ]
            ],
            "type": "contour"
           }
          ],
          "contourcarpet": [
           {
            "colorbar": {
             "outlinewidth": 0,
             "ticks": ""
            },
            "type": "contourcarpet"
           }
          ],
          "heatmap": [
           {
            "colorbar": {
             "outlinewidth": 0,
             "ticks": ""
            },
            "colorscale": [
             [
              0,
              "#0d0887"
             ],
             [
              0.1111111111111111,
              "#46039f"
             ],
             [
              0.2222222222222222,
              "#7201a8"
             ],
             [
              0.3333333333333333,
              "#9c179e"
             ],
             [
              0.4444444444444444,
              "#bd3786"
             ],
             [
              0.5555555555555556,
              "#d8576b"
             ],
             [
              0.6666666666666666,
              "#ed7953"
             ],
             [
              0.7777777777777778,
              "#fb9f3a"
             ],
             [
              0.8888888888888888,
              "#fdca26"
             ],
             [
              1,
              "#f0f921"
             ]
            ],
            "type": "heatmap"
           }
          ],
          "heatmapgl": [
           {
            "colorbar": {
             "outlinewidth": 0,
             "ticks": ""
            },
            "colorscale": [
             [
              0,
              "#0d0887"
             ],
             [
              0.1111111111111111,
              "#46039f"
             ],
             [
              0.2222222222222222,
              "#7201a8"
             ],
             [
              0.3333333333333333,
              "#9c179e"
             ],
             [
              0.4444444444444444,
              "#bd3786"
             ],
             [
              0.5555555555555556,
              "#d8576b"
             ],
             [
              0.6666666666666666,
              "#ed7953"
             ],
             [
              0.7777777777777778,
              "#fb9f3a"
             ],
             [
              0.8888888888888888,
              "#fdca26"
             ],
             [
              1,
              "#f0f921"
             ]
            ],
            "type": "heatmapgl"
           }
          ],
          "histogram": [
           {
            "marker": {
             "pattern": {
              "fillmode": "overlay",
              "size": 10,
              "solidity": 0.2
             }
            },
            "type": "histogram"
           }
          ],
          "histogram2d": [
           {
            "colorbar": {
             "outlinewidth": 0,
             "ticks": ""
            },
            "colorscale": [
             [
              0,
              "#0d0887"
             ],
             [
              0.1111111111111111,
              "#46039f"
             ],
             [
              0.2222222222222222,
              "#7201a8"
             ],
             [
              0.3333333333333333,
              "#9c179e"
             ],
             [
              0.4444444444444444,
              "#bd3786"
             ],
             [
              0.5555555555555556,
              "#d8576b"
             ],
             [
              0.6666666666666666,
              "#ed7953"
             ],
             [
              0.7777777777777778,
              "#fb9f3a"
             ],
             [
              0.8888888888888888,
              "#fdca26"
             ],
             [
              1,
              "#f0f921"
             ]
            ],
            "type": "histogram2d"
           }
          ],
          "histogram2dcontour": [
           {
            "colorbar": {
             "outlinewidth": 0,
             "ticks": ""
            },
            "colorscale": [
             [
              0,
              "#0d0887"
             ],
             [
              0.1111111111111111,
              "#46039f"
             ],
             [
              0.2222222222222222,
              "#7201a8"
             ],
             [
              0.3333333333333333,
              "#9c179e"
             ],
             [
              0.4444444444444444,
              "#bd3786"
             ],
             [
              0.5555555555555556,
              "#d8576b"
             ],
             [
              0.6666666666666666,
              "#ed7953"
             ],
             [
              0.7777777777777778,
              "#fb9f3a"
             ],
             [
              0.8888888888888888,
              "#fdca26"
             ],
             [
              1,
              "#f0f921"
             ]
            ],
            "type": "histogram2dcontour"
           }
          ],
          "mesh3d": [
           {
            "colorbar": {
             "outlinewidth": 0,
             "ticks": ""
            },
            "type": "mesh3d"
           }
          ],
          "parcoords": [
           {
            "line": {
             "colorbar": {
              "outlinewidth": 0,
              "ticks": ""
             }
            },
            "type": "parcoords"
           }
          ],
          "pie": [
           {
            "automargin": true,
            "type": "pie"
           }
          ],
          "scatter": [
           {
            "marker": {
             "colorbar": {
              "outlinewidth": 0,
              "ticks": ""
             }
            },
            "type": "scatter"
           }
          ],
          "scatter3d": [
           {
            "line": {
             "colorbar": {
              "outlinewidth": 0,
              "ticks": ""
             }
            },
            "marker": {
             "colorbar": {
              "outlinewidth": 0,
              "ticks": ""
             }
            },
            "type": "scatter3d"
           }
          ],
          "scattercarpet": [
           {
            "marker": {
             "colorbar": {
              "outlinewidth": 0,
              "ticks": ""
             }
            },
            "type": "scattercarpet"
           }
          ],
          "scattergeo": [
           {
            "marker": {
             "colorbar": {
              "outlinewidth": 0,
              "ticks": ""
             }
            },
            "type": "scattergeo"
           }
          ],
          "scattergl": [
           {
            "marker": {
             "colorbar": {
              "outlinewidth": 0,
              "ticks": ""
             }
            },
            "type": "scattergl"
           }
          ],
          "scattermapbox": [
           {
            "marker": {
             "colorbar": {
              "outlinewidth": 0,
              "ticks": ""
             }
            },
            "type": "scattermapbox"
           }
          ],
          "scatterpolar": [
           {
            "marker": {
             "colorbar": {
              "outlinewidth": 0,
              "ticks": ""
             }
            },
            "type": "scatterpolar"
           }
          ],
          "scatterpolargl": [
           {
            "marker": {
             "colorbar": {
              "outlinewidth": 0,
              "ticks": ""
             }
            },
            "type": "scatterpolargl"
           }
          ],
          "scatterternary": [
           {
            "marker": {
             "colorbar": {
              "outlinewidth": 0,
              "ticks": ""
             }
            },
            "type": "scatterternary"
           }
          ],
          "surface": [
           {
            "colorbar": {
             "outlinewidth": 0,
             "ticks": ""
            },
            "colorscale": [
             [
              0,
              "#0d0887"
             ],
             [
              0.1111111111111111,
              "#46039f"
             ],
             [
              0.2222222222222222,
              "#7201a8"
             ],
             [
              0.3333333333333333,
              "#9c179e"
             ],
             [
              0.4444444444444444,
              "#bd3786"
             ],
             [
              0.5555555555555556,
              "#d8576b"
             ],
             [
              0.6666666666666666,
              "#ed7953"
             ],
             [
              0.7777777777777778,
              "#fb9f3a"
             ],
             [
              0.8888888888888888,
              "#fdca26"
             ],
             [
              1,
              "#f0f921"
             ]
            ],
            "type": "surface"
           }
          ],
          "table": [
           {
            "cells": {
             "fill": {
              "color": "#EBF0F8"
             },
             "line": {
              "color": "white"
             }
            },
            "header": {
             "fill": {
              "color": "#C8D4E3"
             },
             "line": {
              "color": "white"
             }
            },
            "type": "table"
           }
          ]
         },
         "layout": {
          "annotationdefaults": {
           "arrowcolor": "#2a3f5f",
           "arrowhead": 0,
           "arrowwidth": 1
          },
          "autotypenumbers": "strict",
          "coloraxis": {
           "colorbar": {
            "outlinewidth": 0,
            "ticks": ""
           }
          },
          "colorscale": {
           "diverging": [
            [
             0,
             "#8e0152"
            ],
            [
             0.1,
             "#c51b7d"
            ],
            [
             0.2,
             "#de77ae"
            ],
            [
             0.3,
             "#f1b6da"
            ],
            [
             0.4,
             "#fde0ef"
            ],
            [
             0.5,
             "#f7f7f7"
            ],
            [
             0.6,
             "#e6f5d0"
            ],
            [
             0.7,
             "#b8e186"
            ],
            [
             0.8,
             "#7fbc41"
            ],
            [
             0.9,
             "#4d9221"
            ],
            [
             1,
             "#276419"
            ]
           ],
           "sequential": [
            [
             0,
             "#0d0887"
            ],
            [
             0.1111111111111111,
             "#46039f"
            ],
            [
             0.2222222222222222,
             "#7201a8"
            ],
            [
             0.3333333333333333,
             "#9c179e"
            ],
            [
             0.4444444444444444,
             "#bd3786"
            ],
            [
             0.5555555555555556,
             "#d8576b"
            ],
            [
             0.6666666666666666,
             "#ed7953"
            ],
            [
             0.7777777777777778,
             "#fb9f3a"
            ],
            [
             0.8888888888888888,
             "#fdca26"
            ],
            [
             1,
             "#f0f921"
            ]
           ],
           "sequentialminus": [
            [
             0,
             "#0d0887"
            ],
            [
             0.1111111111111111,
             "#46039f"
            ],
            [
             0.2222222222222222,
             "#7201a8"
            ],
            [
             0.3333333333333333,
             "#9c179e"
            ],
            [
             0.4444444444444444,
             "#bd3786"
            ],
            [
             0.5555555555555556,
             "#d8576b"
            ],
            [
             0.6666666666666666,
             "#ed7953"
            ],
            [
             0.7777777777777778,
             "#fb9f3a"
            ],
            [
             0.8888888888888888,
             "#fdca26"
            ],
            [
             1,
             "#f0f921"
            ]
           ]
          },
          "colorway": [
           "#636efa",
           "#EF553B",
           "#00cc96",
           "#ab63fa",
           "#FFA15A",
           "#19d3f3",
           "#FF6692",
           "#B6E880",
           "#FF97FF",
           "#FECB52"
          ],
          "font": {
           "color": "#2a3f5f"
          },
          "geo": {
           "bgcolor": "white",
           "lakecolor": "white",
           "landcolor": "#E5ECF6",
           "showlakes": true,
           "showland": true,
           "subunitcolor": "white"
          },
          "hoverlabel": {
           "align": "left"
          },
          "hovermode": "closest",
          "mapbox": {
           "style": "light"
          },
          "paper_bgcolor": "white",
          "plot_bgcolor": "#E5ECF6",
          "polar": {
           "angularaxis": {
            "gridcolor": "white",
            "linecolor": "white",
            "ticks": ""
           },
           "bgcolor": "#E5ECF6",
           "radialaxis": {
            "gridcolor": "white",
            "linecolor": "white",
            "ticks": ""
           }
          },
          "scene": {
           "xaxis": {
            "backgroundcolor": "#E5ECF6",
            "gridcolor": "white",
            "gridwidth": 2,
            "linecolor": "white",
            "showbackground": true,
            "ticks": "",
            "zerolinecolor": "white"
           },
           "yaxis": {
            "backgroundcolor": "#E5ECF6",
            "gridcolor": "white",
            "gridwidth": 2,
            "linecolor": "white",
            "showbackground": true,
            "ticks": "",
            "zerolinecolor": "white"
           },
           "zaxis": {
            "backgroundcolor": "#E5ECF6",
            "gridcolor": "white",
            "gridwidth": 2,
            "linecolor": "white",
            "showbackground": true,
            "ticks": "",
            "zerolinecolor": "white"
           }
          },
          "shapedefaults": {
           "line": {
            "color": "#2a3f5f"
           }
          },
          "ternary": {
           "aaxis": {
            "gridcolor": "white",
            "linecolor": "white",
            "ticks": ""
           },
           "baxis": {
            "gridcolor": "white",
            "linecolor": "white",
            "ticks": ""
           },
           "bgcolor": "#E5ECF6",
           "caxis": {
            "gridcolor": "white",
            "linecolor": "white",
            "ticks": ""
           }
          },
          "title": {
           "x": 0.05
          },
          "xaxis": {
           "automargin": true,
           "gridcolor": "white",
           "linecolor": "white",
           "ticks": "",
           "title": {
            "standoff": 15
           },
           "zerolinecolor": "white",
           "zerolinewidth": 2
          },
          "yaxis": {
           "automargin": true,
           "gridcolor": "white",
           "linecolor": "white",
           "ticks": "",
           "title": {
            "standoff": 15
           },
           "zerolinecolor": "white",
           "zerolinewidth": 2
          }
         }
        },
        "title": {
         "text": "Ortalama Yıllık Satış Adetleri"
        },
        "xaxis": {
         "showgrid": false,
         "tickmode": "array",
         "tickvals": [
          2013,
          2014,
          2015,
          2016,
          2017
         ]
        },
        "yaxis": {
         "showgrid": false
        }
       }
      },
      "text/html": [
       "<div>                            <div id=\"64f2f1c8-7397-4b98-9649-eeec8e98d224\" class=\"plotly-graph-div\" style=\"height:300px; width:100%;\"></div>            <script type=\"text/javascript\">                require([\"plotly\"], function(Plotly) {                    window.PLOTLYENV=window.PLOTLYENV || {};                                    if (document.getElementById(\"64f2f1c8-7397-4b98-9649-eeec8e98d224\")) {                    Plotly.newPlot(                        \"64f2f1c8-7397-4b98-9649-eeec8e98d224\",                        [{\"fill\":\"tozeroy\",\"fillcolor\":\"#FAA831\",\"line\":{\"color\":\"#bA6800\"},\"mode\":\"lines+markers\",\"type\":\"scatter\",\"x\":[2013,2014,2015,2016,2017],\"y\":[216.69261198187218,323.05693575272414,371.82229582923577,446.51891668102013,481.1664577136069]}],                        {\"font\":{\"color\":\"white\",\"size\":12},\"height\":300,\"paper_bgcolor\":\"#232425\",\"plot_bgcolor\":\"#232425\",\"template\":{\"data\":{\"bar\":[{\"error_x\":{\"color\":\"#2a3f5f\"},\"error_y\":{\"color\":\"#2a3f5f\"},\"marker\":{\"line\":{\"color\":\"#E5ECF6\",\"width\":0.5},\"pattern\":{\"fillmode\":\"overlay\",\"size\":10,\"solidity\":0.2}},\"type\":\"bar\"}],\"barpolar\":[{\"marker\":{\"line\":{\"color\":\"#E5ECF6\",\"width\":0.5},\"pattern\":{\"fillmode\":\"overlay\",\"size\":10,\"solidity\":0.2}},\"type\":\"barpolar\"}],\"carpet\":[{\"aaxis\":{\"endlinecolor\":\"#2a3f5f\",\"gridcolor\":\"white\",\"linecolor\":\"white\",\"minorgridcolor\":\"white\",\"startlinecolor\":\"#2a3f5f\"},\"baxis\":{\"endlinecolor\":\"#2a3f5f\",\"gridcolor\":\"white\",\"linecolor\":\"white\",\"minorgridcolor\":\"white\",\"startlinecolor\":\"#2a3f5f\"},\"type\":\"carpet\"}],\"choropleth\":[{\"colorbar\":{\"outlinewidth\":0,\"ticks\":\"\"},\"type\":\"choropleth\"}],\"contour\":[{\"colorbar\":{\"outlinewidth\":0,\"ticks\":\"\"},\"colorscale\":[[0.0,\"#0d0887\"],[0.1111111111111111,\"#46039f\"],[0.2222222222222222,\"#7201a8\"],[0.3333333333333333,\"#9c179e\"],[0.4444444444444444,\"#bd3786\"],[0.5555555555555556,\"#d8576b\"],[0.6666666666666666,\"#ed7953\"],[0.7777777777777778,\"#fb9f3a\"],[0.8888888888888888,\"#fdca26\"],[1.0,\"#f0f921\"]],\"type\":\"contour\"}],\"contourcarpet\":[{\"colorbar\":{\"outlinewidth\":0,\"ticks\":\"\"},\"type\":\"contourcarpet\"}],\"heatmap\":[{\"colorbar\":{\"outlinewidth\":0,\"ticks\":\"\"},\"colorscale\":[[0.0,\"#0d0887\"],[0.1111111111111111,\"#46039f\"],[0.2222222222222222,\"#7201a8\"],[0.3333333333333333,\"#9c179e\"],[0.4444444444444444,\"#bd3786\"],[0.5555555555555556,\"#d8576b\"],[0.6666666666666666,\"#ed7953\"],[0.7777777777777778,\"#fb9f3a\"],[0.8888888888888888,\"#fdca26\"],[1.0,\"#f0f921\"]],\"type\":\"heatmap\"}],\"heatmapgl\":[{\"colorbar\":{\"outlinewidth\":0,\"ticks\":\"\"},\"colorscale\":[[0.0,\"#0d0887\"],[0.1111111111111111,\"#46039f\"],[0.2222222222222222,\"#7201a8\"],[0.3333333333333333,\"#9c179e\"],[0.4444444444444444,\"#bd3786\"],[0.5555555555555556,\"#d8576b\"],[0.6666666666666666,\"#ed7953\"],[0.7777777777777778,\"#fb9f3a\"],[0.8888888888888888,\"#fdca26\"],[1.0,\"#f0f921\"]],\"type\":\"heatmapgl\"}],\"histogram\":[{\"marker\":{\"pattern\":{\"fillmode\":\"overlay\",\"size\":10,\"solidity\":0.2}},\"type\":\"histogram\"}],\"histogram2d\":[{\"colorbar\":{\"outlinewidth\":0,\"ticks\":\"\"},\"colorscale\":[[0.0,\"#0d0887\"],[0.1111111111111111,\"#46039f\"],[0.2222222222222222,\"#7201a8\"],[0.3333333333333333,\"#9c179e\"],[0.4444444444444444,\"#bd3786\"],[0.5555555555555556,\"#d8576b\"],[0.6666666666666666,\"#ed7953\"],[0.7777777777777778,\"#fb9f3a\"],[0.8888888888888888,\"#fdca26\"],[1.0,\"#f0f921\"]],\"type\":\"histogram2d\"}],\"histogram2dcontour\":[{\"colorbar\":{\"outlinewidth\":0,\"ticks\":\"\"},\"colorscale\":[[0.0,\"#0d0887\"],[0.1111111111111111,\"#46039f\"],[0.2222222222222222,\"#7201a8\"],[0.3333333333333333,\"#9c179e\"],[0.4444444444444444,\"#bd3786\"],[0.5555555555555556,\"#d8576b\"],[0.6666666666666666,\"#ed7953\"],[0.7777777777777778,\"#fb9f3a\"],[0.8888888888888888,\"#fdca26\"],[1.0,\"#f0f921\"]],\"type\":\"histogram2dcontour\"}],\"mesh3d\":[{\"colorbar\":{\"outlinewidth\":0,\"ticks\":\"\"},\"type\":\"mesh3d\"}],\"parcoords\":[{\"line\":{\"colorbar\":{\"outlinewidth\":0,\"ticks\":\"\"}},\"type\":\"parcoords\"}],\"pie\":[{\"automargin\":true,\"type\":\"pie\"}],\"scatter\":[{\"marker\":{\"colorbar\":{\"outlinewidth\":0,\"ticks\":\"\"}},\"type\":\"scatter\"}],\"scatter3d\":[{\"line\":{\"colorbar\":{\"outlinewidth\":0,\"ticks\":\"\"}},\"marker\":{\"colorbar\":{\"outlinewidth\":0,\"ticks\":\"\"}},\"type\":\"scatter3d\"}],\"scattercarpet\":[{\"marker\":{\"colorbar\":{\"outlinewidth\":0,\"ticks\":\"\"}},\"type\":\"scattercarpet\"}],\"scattergeo\":[{\"marker\":{\"colorbar\":{\"outlinewidth\":0,\"ticks\":\"\"}},\"type\":\"scattergeo\"}],\"scattergl\":[{\"marker\":{\"colorbar\":{\"outlinewidth\":0,\"ticks\":\"\"}},\"type\":\"scattergl\"}],\"scattermapbox\":[{\"marker\":{\"colorbar\":{\"outlinewidth\":0,\"ticks\":\"\"}},\"type\":\"scattermapbox\"}],\"scatterpolar\":[{\"marker\":{\"colorbar\":{\"outlinewidth\":0,\"ticks\":\"\"}},\"type\":\"scatterpolar\"}],\"scatterpolargl\":[{\"marker\":{\"colorbar\":{\"outlinewidth\":0,\"ticks\":\"\"}},\"type\":\"scatterpolargl\"}],\"scatterternary\":[{\"marker\":{\"colorbar\":{\"outlinewidth\":0,\"ticks\":\"\"}},\"type\":\"scatterternary\"}],\"surface\":[{\"colorbar\":{\"outlinewidth\":0,\"ticks\":\"\"},\"colorscale\":[[0.0,\"#0d0887\"],[0.1111111111111111,\"#46039f\"],[0.2222222222222222,\"#7201a8\"],[0.3333333333333333,\"#9c179e\"],[0.4444444444444444,\"#bd3786\"],[0.5555555555555556,\"#d8576b\"],[0.6666666666666666,\"#ed7953\"],[0.7777777777777778,\"#fb9f3a\"],[0.8888888888888888,\"#fdca26\"],[1.0,\"#f0f921\"]],\"type\":\"surface\"}],\"table\":[{\"cells\":{\"fill\":{\"color\":\"#EBF0F8\"},\"line\":{\"color\":\"white\"}},\"header\":{\"fill\":{\"color\":\"#C8D4E3\"},\"line\":{\"color\":\"white\"}},\"type\":\"table\"}]},\"layout\":{\"annotationdefaults\":{\"arrowcolor\":\"#2a3f5f\",\"arrowhead\":0,\"arrowwidth\":1},\"autotypenumbers\":\"strict\",\"coloraxis\":{\"colorbar\":{\"outlinewidth\":0,\"ticks\":\"\"}},\"colorscale\":{\"diverging\":[[0,\"#8e0152\"],[0.1,\"#c51b7d\"],[0.2,\"#de77ae\"],[0.3,\"#f1b6da\"],[0.4,\"#fde0ef\"],[0.5,\"#f7f7f7\"],[0.6,\"#e6f5d0\"],[0.7,\"#b8e186\"],[0.8,\"#7fbc41\"],[0.9,\"#4d9221\"],[1,\"#276419\"]],\"sequential\":[[0.0,\"#0d0887\"],[0.1111111111111111,\"#46039f\"],[0.2222222222222222,\"#7201a8\"],[0.3333333333333333,\"#9c179e\"],[0.4444444444444444,\"#bd3786\"],[0.5555555555555556,\"#d8576b\"],[0.6666666666666666,\"#ed7953\"],[0.7777777777777778,\"#fb9f3a\"],[0.8888888888888888,\"#fdca26\"],[1.0,\"#f0f921\"]],\"sequentialminus\":[[0.0,\"#0d0887\"],[0.1111111111111111,\"#46039f\"],[0.2222222222222222,\"#7201a8\"],[0.3333333333333333,\"#9c179e\"],[0.4444444444444444,\"#bd3786\"],[0.5555555555555556,\"#d8576b\"],[0.6666666666666666,\"#ed7953\"],[0.7777777777777778,\"#fb9f3a\"],[0.8888888888888888,\"#fdca26\"],[1.0,\"#f0f921\"]]},\"colorway\":[\"#636efa\",\"#EF553B\",\"#00cc96\",\"#ab63fa\",\"#FFA15A\",\"#19d3f3\",\"#FF6692\",\"#B6E880\",\"#FF97FF\",\"#FECB52\"],\"font\":{\"color\":\"#2a3f5f\"},\"geo\":{\"bgcolor\":\"white\",\"lakecolor\":\"white\",\"landcolor\":\"#E5ECF6\",\"showlakes\":true,\"showland\":true,\"subunitcolor\":\"white\"},\"hoverlabel\":{\"align\":\"left\"},\"hovermode\":\"closest\",\"mapbox\":{\"style\":\"light\"},\"paper_bgcolor\":\"white\",\"plot_bgcolor\":\"#E5ECF6\",\"polar\":{\"angularaxis\":{\"gridcolor\":\"white\",\"linecolor\":\"white\",\"ticks\":\"\"},\"bgcolor\":\"#E5ECF6\",\"radialaxis\":{\"gridcolor\":\"white\",\"linecolor\":\"white\",\"ticks\":\"\"}},\"scene\":{\"xaxis\":{\"backgroundcolor\":\"#E5ECF6\",\"gridcolor\":\"white\",\"gridwidth\":2,\"linecolor\":\"white\",\"showbackground\":true,\"ticks\":\"\",\"zerolinecolor\":\"white\"},\"yaxis\":{\"backgroundcolor\":\"#E5ECF6\",\"gridcolor\":\"white\",\"gridwidth\":2,\"linecolor\":\"white\",\"showbackground\":true,\"ticks\":\"\",\"zerolinecolor\":\"white\"},\"zaxis\":{\"backgroundcolor\":\"#E5ECF6\",\"gridcolor\":\"white\",\"gridwidth\":2,\"linecolor\":\"white\",\"showbackground\":true,\"ticks\":\"\",\"zerolinecolor\":\"white\"}},\"shapedefaults\":{\"line\":{\"color\":\"#2a3f5f\"}},\"ternary\":{\"aaxis\":{\"gridcolor\":\"white\",\"linecolor\":\"white\",\"ticks\":\"\"},\"baxis\":{\"gridcolor\":\"white\",\"linecolor\":\"white\",\"ticks\":\"\"},\"bgcolor\":\"#E5ECF6\",\"caxis\":{\"gridcolor\":\"white\",\"linecolor\":\"white\",\"ticks\":\"\"}},\"title\":{\"x\":0.05},\"xaxis\":{\"automargin\":true,\"gridcolor\":\"white\",\"linecolor\":\"white\",\"ticks\":\"\",\"title\":{\"standoff\":15},\"zerolinecolor\":\"white\",\"zerolinewidth\":2},\"yaxis\":{\"automargin\":true,\"gridcolor\":\"white\",\"linecolor\":\"white\",\"ticks\":\"\",\"title\":{\"standoff\":15},\"zerolinecolor\":\"white\",\"zerolinewidth\":2}}},\"title\":{\"text\":\"Ortalama Y\\u0131ll\\u0131k Sat\\u0131\\u015f Adetleri\"},\"xaxis\":{\"showgrid\":false,\"tickmode\":\"array\",\"tickvals\":[2013,2014,2015,2016,2017]},\"yaxis\":{\"showgrid\":false}},                        {\"responsive\": true}                    ).then(function(){\n",
       "                            \n",
       "var gd = document.getElementById('64f2f1c8-7397-4b98-9649-eeec8e98d224');\n",
       "var x = new MutationObserver(function (mutations, observer) {{\n",
       "        var display = window.getComputedStyle(gd).display;\n",
       "        if (!display || display === 'none') {{\n",
       "            console.log([gd, 'removed!']);\n",
       "            Plotly.purge(gd);\n",
       "            observer.disconnect();\n",
       "        }}\n",
       "}});\n",
       "\n",
       "// Listen for the removal of the full notebook cells\n",
       "var notebookContainer = gd.closest('#notebook-container');\n",
       "if (notebookContainer) {{\n",
       "    x.observe(notebookContainer, {childList: true});\n",
       "}}\n",
       "\n",
       "// Listen for the clearing of the current output cell\n",
       "var outputEl = gd.closest('.output');\n",
       "if (outputEl) {{\n",
       "    x.observe(outputEl, {childList: true});\n",
       "}}\n",
       "\n",
       "                        })                };                });            </script>        </div>"
      ]
     },
     "metadata": {},
     "output_type": "display_data"
    }
   ],
   "source": [
    "df_y_sa = df_train1.groupby('year').agg({\"sales\" : \"mean\"}).reset_index()\n",
    "fig10= go.Figure(data=[go.Scatter(x=df_y_sa['year'], y=df_y_sa['sales'], fill='tozeroy', fillcolor='#FAA831', line_color='#bA6800'\n",
    "                                  ,mode='lines+markers')])\n",
    "\n",
    "\n",
    "fig10.update_layout(title_text='Ortalama Yıllık Satış Adetleri',height=300,paper_bgcolor='#232425',plot_bgcolor='#232425',\n",
    "                font=dict(\n",
    "                size=12,\n",
    "                color='white'))\n",
    "fig10.update_yaxes(showgrid=False)\n",
    "fig10.update_xaxes(showgrid=False,tickmode = 'array', tickvals=df_y_sa.year)"
   ]
  },
  {
   "cell_type": "code",
   "execution_count": 15,
   "metadata": {},
   "outputs": [
    {
     "data": {
      "application/vnd.plotly.v1+json": {
       "config": {
        "plotlyServerURL": "https://plot.ly"
       },
       "data": [
        {
         "branchvalues": "total",
         "customdata": [
          [
           363.8465124696376
          ],
          [
           320.71452739699595
          ],
          [
           511.0592609754959
          ],
          [
           295.8054630251015
          ],
          [
           346.571238929232
          ],
          [
           199.98171666304037
          ],
          [
           295.64087730178574
          ],
          [
           235.35254909117486
          ],
          [
           277.5100456272281
          ],
          [
           206.26768064412556
          ],
          [
           191.0096741030812
          ],
          [
           276.7293995723985
          ],
          [
           340.3021992061046
          ],
          [
           301.39196982474687
          ],
          [
           126.64575242258113
          ],
          [
           138.3025514404473
          ],
          [
           74.2751298010856
          ],
          [
           255.84989756849203
          ],
          [
           558.5604680515416
          ],
          [
           205.26931348180779
          ],
          [
           206.05064034911177
          ],
          [
           215.79606749759867
          ],
          [
           295.8054630251015
          ],
          [
           235.35254909117486
          ],
          [
           205.26931348180779
          ],
          [
           191.0096741030812
          ],
          [
           301.39196982474687
          ],
          [
           295.64087730178574
          ],
          [
           281.80779088928836
          ],
          [
           206.26768064412556
          ],
          [
           340.3021992061046
          ],
          [
           291.93091158782727
          ],
          [
           171.54660556577437
          ],
          [
           74.2751298010856
          ],
          [
           535.864615380789
          ],
          [
           206.05064034911177
          ],
          [
           215.79606749759867
          ],
          [
           363.8465124696376
          ]
         ],
         "domain": {
          "x": [
           0,
           1
          ],
          "y": [
           0,
           1
          ]
         },
         "hovertemplate": "labels=%{label}<br>sales_sum=%{value}<br>parent=%{parent}<br>id=%{id}<br>sales=%{color}<extra></extra>",
         "ids": [
          "Tungurahua/Ambato",
          "Los Rios/Babahoyo",
          "Pichincha/Cayambe",
          "Azuay/Cuenca",
          "Guayas/Daule",
          "Manabi/El Carmen",
          "Esmeraldas/Esmeraldas",
          "Bolivar/Guaranda",
          "Guayas/Guayaquil",
          "Imbabura/Ibarra",
          "Cotopaxi/Latacunga",
          "Guayas/Libertad",
          "Loja/Loja",
          "El Oro/Machala",
          "Manabi/Manta",
          "Guayas/Playas",
          "Pastaza/Puyo",
          "Los Rios/Quevedo",
          "Pichincha/Quito",
          "Chimborazo/Riobamba",
          "Santa Elena/Salinas",
          "Santo Domingo de los Tsachilas/Santo Domingo",
          "Azuay",
          "Bolivar",
          "Chimborazo",
          "Cotopaxi",
          "El Oro",
          "Esmeraldas",
          "Guayas",
          "Imbabura",
          "Loja",
          "Los Rios",
          "Manabi",
          "Pastaza",
          "Pichincha",
          "Santa Elena",
          "Santo Domingo de los Tsachilas",
          "Tungurahua"
         ],
         "labels": [
          "Ambato",
          "Babahoyo",
          "Cayambe",
          "Cuenca",
          "Daule",
          "El Carmen",
          "Esmeraldas",
          "Guaranda",
          "Guayaquil",
          "Ibarra",
          "Latacunga",
          "Libertad",
          "Loja",
          "Machala",
          "Manta",
          "Playas",
          "Puyo",
          "Quevedo",
          "Quito",
          "Riobamba",
          "Salinas",
          "Santo Domingo",
          "Azuay",
          "Bolivar",
          "Chimborazo",
          "Cotopaxi",
          "El Oro",
          "Esmeraldas",
          "Guayas",
          "Imbabura",
          "Loja",
          "Los Rios",
          "Manabi",
          "Pastaza",
          "Pichincha",
          "Santa Elena",
          "Santo Domingo de los Tsachilas",
          "Tungurahua"
         ],
         "marker": {
          "coloraxis": "coloraxis",
          "colors": [
           363.8465124696376,
           320.71452739699595,
           511.0592609754959,
           295.8054630251015,
           346.571238929232,
           199.98171666304037,
           295.64087730178574,
           235.35254909117486,
           277.5100456272281,
           206.26768064412556,
           191.0096741030812,
           276.7293995723985,
           340.3021992061046,
           301.39196982474687,
           126.64575242258113,
           138.3025514404473,
           74.2751298010856,
           255.84989756849203,
           558.5604680515416,
           205.26931348180779,
           206.05064034911177,
           215.79606749759867,
           295.8054630251015,
           235.35254909117486,
           205.26931348180779,
           191.0096741030812,
           301.39196982474687,
           295.64087730178574,
           281.80779088928836,
           206.26768064412556,
           340.3021992061046,
           291.93091158782727,
           171.54660556577437,
           74.2751298010856,
           535.864615380789,
           206.05064034911177,
           215.79606749759867,
           363.8465124696376
          ]
         },
         "name": "",
         "parents": [
          "Tungurahua",
          "Los Rios",
          "Pichincha",
          "Azuay",
          "Guayas",
          "Manabi",
          "Esmeraldas",
          "Bolivar",
          "Guayas",
          "Imbabura",
          "Cotopaxi",
          "Guayas",
          "Loja",
          "El Oro",
          "Manabi",
          "Guayas",
          "Pastaza",
          "Los Rios",
          "Pichincha",
          "Chimborazo",
          "Santa Elena",
          "Santo Domingo de los Tsachilas",
          "",
          "",
          "",
          "",
          "",
          "",
          "",
          "",
          "",
          "",
          "",
          "",
          "",
          "",
          "",
          ""
         ],
         "type": "sunburst",
         "values": [
          363.8465124696376,
          320.71452739699595,
          511.0592609754959,
          295.8054630251015,
          346.571238929232,
          199.98171666304037,
          295.64087730178574,
          235.35254909117486,
          277.5100456272281,
          206.26768064412553,
          191.00967410308124,
          276.7293995723985,
          340.3021992061046,
          301.39196982474687,
          126.64575242258113,
          138.3025514404473,
          74.2751298010856,
          255.84989756849203,
          558.5604680515416,
          205.26931348180779,
          206.05064034911177,
          215.79606749759867,
          295.8054630251015,
          235.35254909117486,
          205.26931348180779,
          191.00967410308124,
          301.39196982474687,
          295.64087730178574,
          1039.113235569306,
          206.26768064412553,
          340.3021992061046,
          576.564424965488,
          326.6274690856215,
          74.2751298010856,
          1069.6197290270375,
          206.05064034911177,
          215.79606749759867,
          363.8465124696376
         ]
        }
       ],
       "layout": {
        "coloraxis": {
         "colorbar": {
          "title": {
           "text": "sales"
          }
         },
         "colorscale": [
          [
           0,
           "#9a4800"
          ],
          [
           1,
           "#faa831"
          ]
         ]
        },
        "font": {
         "color": "#fff"
        },
        "legend": {
         "tracegroupgap": 0
        },
        "margin": {
         "t": 60
        },
        "paper_bgcolor": "#232425",
        "plot_bgcolor": "#232425",
        "template": {
         "data": {
          "bar": [
           {
            "error_x": {
             "color": "#2a3f5f"
            },
            "error_y": {
             "color": "#2a3f5f"
            },
            "marker": {
             "line": {
              "color": "#E5ECF6",
              "width": 0.5
             },
             "pattern": {
              "fillmode": "overlay",
              "size": 10,
              "solidity": 0.2
             }
            },
            "type": "bar"
           }
          ],
          "barpolar": [
           {
            "marker": {
             "line": {
              "color": "#E5ECF6",
              "width": 0.5
             },
             "pattern": {
              "fillmode": "overlay",
              "size": 10,
              "solidity": 0.2
             }
            },
            "type": "barpolar"
           }
          ],
          "carpet": [
           {
            "aaxis": {
             "endlinecolor": "#2a3f5f",
             "gridcolor": "white",
             "linecolor": "white",
             "minorgridcolor": "white",
             "startlinecolor": "#2a3f5f"
            },
            "baxis": {
             "endlinecolor": "#2a3f5f",
             "gridcolor": "white",
             "linecolor": "white",
             "minorgridcolor": "white",
             "startlinecolor": "#2a3f5f"
            },
            "type": "carpet"
           }
          ],
          "choropleth": [
           {
            "colorbar": {
             "outlinewidth": 0,
             "ticks": ""
            },
            "type": "choropleth"
           }
          ],
          "contour": [
           {
            "colorbar": {
             "outlinewidth": 0,
             "ticks": ""
            },
            "colorscale": [
             [
              0,
              "#0d0887"
             ],
             [
              0.1111111111111111,
              "#46039f"
             ],
             [
              0.2222222222222222,
              "#7201a8"
             ],
             [
              0.3333333333333333,
              "#9c179e"
             ],
             [
              0.4444444444444444,
              "#bd3786"
             ],
             [
              0.5555555555555556,
              "#d8576b"
             ],
             [
              0.6666666666666666,
              "#ed7953"
             ],
             [
              0.7777777777777778,
              "#fb9f3a"
             ],
             [
              0.8888888888888888,
              "#fdca26"
             ],
             [
              1,
              "#f0f921"
             ]
            ],
            "type": "contour"
           }
          ],
          "contourcarpet": [
           {
            "colorbar": {
             "outlinewidth": 0,
             "ticks": ""
            },
            "type": "contourcarpet"
           }
          ],
          "heatmap": [
           {
            "colorbar": {
             "outlinewidth": 0,
             "ticks": ""
            },
            "colorscale": [
             [
              0,
              "#0d0887"
             ],
             [
              0.1111111111111111,
              "#46039f"
             ],
             [
              0.2222222222222222,
              "#7201a8"
             ],
             [
              0.3333333333333333,
              "#9c179e"
             ],
             [
              0.4444444444444444,
              "#bd3786"
             ],
             [
              0.5555555555555556,
              "#d8576b"
             ],
             [
              0.6666666666666666,
              "#ed7953"
             ],
             [
              0.7777777777777778,
              "#fb9f3a"
             ],
             [
              0.8888888888888888,
              "#fdca26"
             ],
             [
              1,
              "#f0f921"
             ]
            ],
            "type": "heatmap"
           }
          ],
          "heatmapgl": [
           {
            "colorbar": {
             "outlinewidth": 0,
             "ticks": ""
            },
            "colorscale": [
             [
              0,
              "#0d0887"
             ],
             [
              0.1111111111111111,
              "#46039f"
             ],
             [
              0.2222222222222222,
              "#7201a8"
             ],
             [
              0.3333333333333333,
              "#9c179e"
             ],
             [
              0.4444444444444444,
              "#bd3786"
             ],
             [
              0.5555555555555556,
              "#d8576b"
             ],
             [
              0.6666666666666666,
              "#ed7953"
             ],
             [
              0.7777777777777778,
              "#fb9f3a"
             ],
             [
              0.8888888888888888,
              "#fdca26"
             ],
             [
              1,
              "#f0f921"
             ]
            ],
            "type": "heatmapgl"
           }
          ],
          "histogram": [
           {
            "marker": {
             "pattern": {
              "fillmode": "overlay",
              "size": 10,
              "solidity": 0.2
             }
            },
            "type": "histogram"
           }
          ],
          "histogram2d": [
           {
            "colorbar": {
             "outlinewidth": 0,
             "ticks": ""
            },
            "colorscale": [
             [
              0,
              "#0d0887"
             ],
             [
              0.1111111111111111,
              "#46039f"
             ],
             [
              0.2222222222222222,
              "#7201a8"
             ],
             [
              0.3333333333333333,
              "#9c179e"
             ],
             [
              0.4444444444444444,
              "#bd3786"
             ],
             [
              0.5555555555555556,
              "#d8576b"
             ],
             [
              0.6666666666666666,
              "#ed7953"
             ],
             [
              0.7777777777777778,
              "#fb9f3a"
             ],
             [
              0.8888888888888888,
              "#fdca26"
             ],
             [
              1,
              "#f0f921"
             ]
            ],
            "type": "histogram2d"
           }
          ],
          "histogram2dcontour": [
           {
            "colorbar": {
             "outlinewidth": 0,
             "ticks": ""
            },
            "colorscale": [
             [
              0,
              "#0d0887"
             ],
             [
              0.1111111111111111,
              "#46039f"
             ],
             [
              0.2222222222222222,
              "#7201a8"
             ],
             [
              0.3333333333333333,
              "#9c179e"
             ],
             [
              0.4444444444444444,
              "#bd3786"
             ],
             [
              0.5555555555555556,
              "#d8576b"
             ],
             [
              0.6666666666666666,
              "#ed7953"
             ],
             [
              0.7777777777777778,
              "#fb9f3a"
             ],
             [
              0.8888888888888888,
              "#fdca26"
             ],
             [
              1,
              "#f0f921"
             ]
            ],
            "type": "histogram2dcontour"
           }
          ],
          "mesh3d": [
           {
            "colorbar": {
             "outlinewidth": 0,
             "ticks": ""
            },
            "type": "mesh3d"
           }
          ],
          "parcoords": [
           {
            "line": {
             "colorbar": {
              "outlinewidth": 0,
              "ticks": ""
             }
            },
            "type": "parcoords"
           }
          ],
          "pie": [
           {
            "automargin": true,
            "type": "pie"
           }
          ],
          "scatter": [
           {
            "marker": {
             "colorbar": {
              "outlinewidth": 0,
              "ticks": ""
             }
            },
            "type": "scatter"
           }
          ],
          "scatter3d": [
           {
            "line": {
             "colorbar": {
              "outlinewidth": 0,
              "ticks": ""
             }
            },
            "marker": {
             "colorbar": {
              "outlinewidth": 0,
              "ticks": ""
             }
            },
            "type": "scatter3d"
           }
          ],
          "scattercarpet": [
           {
            "marker": {
             "colorbar": {
              "outlinewidth": 0,
              "ticks": ""
             }
            },
            "type": "scattercarpet"
           }
          ],
          "scattergeo": [
           {
            "marker": {
             "colorbar": {
              "outlinewidth": 0,
              "ticks": ""
             }
            },
            "type": "scattergeo"
           }
          ],
          "scattergl": [
           {
            "marker": {
             "colorbar": {
              "outlinewidth": 0,
              "ticks": ""
             }
            },
            "type": "scattergl"
           }
          ],
          "scattermapbox": [
           {
            "marker": {
             "colorbar": {
              "outlinewidth": 0,
              "ticks": ""
             }
            },
            "type": "scattermapbox"
           }
          ],
          "scatterpolar": [
           {
            "marker": {
             "colorbar": {
              "outlinewidth": 0,
              "ticks": ""
             }
            },
            "type": "scatterpolar"
           }
          ],
          "scatterpolargl": [
           {
            "marker": {
             "colorbar": {
              "outlinewidth": 0,
              "ticks": ""
             }
            },
            "type": "scatterpolargl"
           }
          ],
          "scatterternary": [
           {
            "marker": {
             "colorbar": {
              "outlinewidth": 0,
              "ticks": ""
             }
            },
            "type": "scatterternary"
           }
          ],
          "surface": [
           {
            "colorbar": {
             "outlinewidth": 0,
             "ticks": ""
            },
            "colorscale": [
             [
              0,
              "#0d0887"
             ],
             [
              0.1111111111111111,
              "#46039f"
             ],
             [
              0.2222222222222222,
              "#7201a8"
             ],
             [
              0.3333333333333333,
              "#9c179e"
             ],
             [
              0.4444444444444444,
              "#bd3786"
             ],
             [
              0.5555555555555556,
              "#d8576b"
             ],
             [
              0.6666666666666666,
              "#ed7953"
             ],
             [
              0.7777777777777778,
              "#fb9f3a"
             ],
             [
              0.8888888888888888,
              "#fdca26"
             ],
             [
              1,
              "#f0f921"
             ]
            ],
            "type": "surface"
           }
          ],
          "table": [
           {
            "cells": {
             "fill": {
              "color": "#EBF0F8"
             },
             "line": {
              "color": "white"
             }
            },
            "header": {
             "fill": {
              "color": "#C8D4E3"
             },
             "line": {
              "color": "white"
             }
            },
            "type": "table"
           }
          ]
         },
         "layout": {
          "annotationdefaults": {
           "arrowcolor": "#2a3f5f",
           "arrowhead": 0,
           "arrowwidth": 1
          },
          "autotypenumbers": "strict",
          "coloraxis": {
           "colorbar": {
            "outlinewidth": 0,
            "ticks": ""
           }
          },
          "colorscale": {
           "diverging": [
            [
             0,
             "#8e0152"
            ],
            [
             0.1,
             "#c51b7d"
            ],
            [
             0.2,
             "#de77ae"
            ],
            [
             0.3,
             "#f1b6da"
            ],
            [
             0.4,
             "#fde0ef"
            ],
            [
             0.5,
             "#f7f7f7"
            ],
            [
             0.6,
             "#e6f5d0"
            ],
            [
             0.7,
             "#b8e186"
            ],
            [
             0.8,
             "#7fbc41"
            ],
            [
             0.9,
             "#4d9221"
            ],
            [
             1,
             "#276419"
            ]
           ],
           "sequential": [
            [
             0,
             "#0d0887"
            ],
            [
             0.1111111111111111,
             "#46039f"
            ],
            [
             0.2222222222222222,
             "#7201a8"
            ],
            [
             0.3333333333333333,
             "#9c179e"
            ],
            [
             0.4444444444444444,
             "#bd3786"
            ],
            [
             0.5555555555555556,
             "#d8576b"
            ],
            [
             0.6666666666666666,
             "#ed7953"
            ],
            [
             0.7777777777777778,
             "#fb9f3a"
            ],
            [
             0.8888888888888888,
             "#fdca26"
            ],
            [
             1,
             "#f0f921"
            ]
           ],
           "sequentialminus": [
            [
             0,
             "#0d0887"
            ],
            [
             0.1111111111111111,
             "#46039f"
            ],
            [
             0.2222222222222222,
             "#7201a8"
            ],
            [
             0.3333333333333333,
             "#9c179e"
            ],
            [
             0.4444444444444444,
             "#bd3786"
            ],
            [
             0.5555555555555556,
             "#d8576b"
            ],
            [
             0.6666666666666666,
             "#ed7953"
            ],
            [
             0.7777777777777778,
             "#fb9f3a"
            ],
            [
             0.8888888888888888,
             "#fdca26"
            ],
            [
             1,
             "#f0f921"
            ]
           ]
          },
          "colorway": [
           "#636efa",
           "#EF553B",
           "#00cc96",
           "#ab63fa",
           "#FFA15A",
           "#19d3f3",
           "#FF6692",
           "#B6E880",
           "#FF97FF",
           "#FECB52"
          ],
          "font": {
           "color": "#2a3f5f"
          },
          "geo": {
           "bgcolor": "white",
           "lakecolor": "white",
           "landcolor": "#E5ECF6",
           "showlakes": true,
           "showland": true,
           "subunitcolor": "white"
          },
          "hoverlabel": {
           "align": "left"
          },
          "hovermode": "closest",
          "mapbox": {
           "style": "light"
          },
          "paper_bgcolor": "white",
          "plot_bgcolor": "#E5ECF6",
          "polar": {
           "angularaxis": {
            "gridcolor": "white",
            "linecolor": "white",
            "ticks": ""
           },
           "bgcolor": "#E5ECF6",
           "radialaxis": {
            "gridcolor": "white",
            "linecolor": "white",
            "ticks": ""
           }
          },
          "scene": {
           "xaxis": {
            "backgroundcolor": "#E5ECF6",
            "gridcolor": "white",
            "gridwidth": 2,
            "linecolor": "white",
            "showbackground": true,
            "ticks": "",
            "zerolinecolor": "white"
           },
           "yaxis": {
            "backgroundcolor": "#E5ECF6",
            "gridcolor": "white",
            "gridwidth": 2,
            "linecolor": "white",
            "showbackground": true,
            "ticks": "",
            "zerolinecolor": "white"
           },
           "zaxis": {
            "backgroundcolor": "#E5ECF6",
            "gridcolor": "white",
            "gridwidth": 2,
            "linecolor": "white",
            "showbackground": true,
            "ticks": "",
            "zerolinecolor": "white"
           }
          },
          "shapedefaults": {
           "line": {
            "color": "#2a3f5f"
           }
          },
          "ternary": {
           "aaxis": {
            "gridcolor": "white",
            "linecolor": "white",
            "ticks": ""
           },
           "baxis": {
            "gridcolor": "white",
            "linecolor": "white",
            "ticks": ""
           },
           "bgcolor": "#E5ECF6",
           "caxis": {
            "gridcolor": "white",
            "linecolor": "white",
            "ticks": ""
           }
          },
          "title": {
           "x": 0.05
          },
          "xaxis": {
           "automargin": true,
           "gridcolor": "white",
           "linecolor": "white",
           "ticks": "",
           "title": {
            "standoff": 15
           },
           "zerolinecolor": "white",
           "zerolinewidth": 2
          },
          "yaxis": {
           "automargin": true,
           "gridcolor": "white",
           "linecolor": "white",
           "ticks": "",
           "title": {
            "standoff": 15
           },
           "zerolinecolor": "white",
           "zerolinewidth": 2
          }
         }
        },
        "title": {
         "text": "Eyaletler & Şehirleri"
        },
        "width": 700
       }
      },
      "text/html": [
       "<div>                            <div id=\"627ddec3-5c03-4282-80b3-13e7b7714906\" class=\"plotly-graph-div\" style=\"height:525px; width:700px;\"></div>            <script type=\"text/javascript\">                require([\"plotly\"], function(Plotly) {                    window.PLOTLYENV=window.PLOTLYENV || {};                                    if (document.getElementById(\"627ddec3-5c03-4282-80b3-13e7b7714906\")) {                    Plotly.newPlot(                        \"627ddec3-5c03-4282-80b3-13e7b7714906\",                        [{\"branchvalues\":\"total\",\"customdata\":[[363.8465124696376],[320.71452739699595],[511.0592609754959],[295.8054630251015],[346.571238929232],[199.98171666304037],[295.64087730178574],[235.35254909117486],[277.5100456272281],[206.26768064412556],[191.0096741030812],[276.7293995723985],[340.3021992061046],[301.39196982474687],[126.64575242258113],[138.3025514404473],[74.2751298010856],[255.84989756849203],[558.5604680515416],[205.26931348180779],[206.05064034911177],[215.79606749759867],[295.8054630251015],[235.35254909117486],[205.26931348180779],[191.0096741030812],[301.39196982474687],[295.64087730178574],[281.80779088928836],[206.26768064412556],[340.3021992061046],[291.93091158782727],[171.54660556577437],[74.2751298010856],[535.864615380789],[206.05064034911177],[215.79606749759867],[363.8465124696376]],\"domain\":{\"x\":[0.0,1.0],\"y\":[0.0,1.0]},\"hovertemplate\":\"labels=%{label}<br>sales_sum=%{value}<br>parent=%{parent}<br>id=%{id}<br>sales=%{color}<extra></extra>\",\"ids\":[\"Tungurahua/Ambato\",\"Los Rios/Babahoyo\",\"Pichincha/Cayambe\",\"Azuay/Cuenca\",\"Guayas/Daule\",\"Manabi/El Carmen\",\"Esmeraldas/Esmeraldas\",\"Bolivar/Guaranda\",\"Guayas/Guayaquil\",\"Imbabura/Ibarra\",\"Cotopaxi/Latacunga\",\"Guayas/Libertad\",\"Loja/Loja\",\"El Oro/Machala\",\"Manabi/Manta\",\"Guayas/Playas\",\"Pastaza/Puyo\",\"Los Rios/Quevedo\",\"Pichincha/Quito\",\"Chimborazo/Riobamba\",\"Santa Elena/Salinas\",\"Santo Domingo de los Tsachilas/Santo Domingo\",\"Azuay\",\"Bolivar\",\"Chimborazo\",\"Cotopaxi\",\"El Oro\",\"Esmeraldas\",\"Guayas\",\"Imbabura\",\"Loja\",\"Los Rios\",\"Manabi\",\"Pastaza\",\"Pichincha\",\"Santa Elena\",\"Santo Domingo de los Tsachilas\",\"Tungurahua\"],\"labels\":[\"Ambato\",\"Babahoyo\",\"Cayambe\",\"Cuenca\",\"Daule\",\"El Carmen\",\"Esmeraldas\",\"Guaranda\",\"Guayaquil\",\"Ibarra\",\"Latacunga\",\"Libertad\",\"Loja\",\"Machala\",\"Manta\",\"Playas\",\"Puyo\",\"Quevedo\",\"Quito\",\"Riobamba\",\"Salinas\",\"Santo Domingo\",\"Azuay\",\"Bolivar\",\"Chimborazo\",\"Cotopaxi\",\"El Oro\",\"Esmeraldas\",\"Guayas\",\"Imbabura\",\"Loja\",\"Los Rios\",\"Manabi\",\"Pastaza\",\"Pichincha\",\"Santa Elena\",\"Santo Domingo de los Tsachilas\",\"Tungurahua\"],\"marker\":{\"coloraxis\":\"coloraxis\",\"colors\":[363.8465124696376,320.71452739699595,511.0592609754959,295.8054630251015,346.571238929232,199.98171666304037,295.64087730178574,235.35254909117486,277.5100456272281,206.26768064412556,191.0096741030812,276.7293995723985,340.3021992061046,301.39196982474687,126.64575242258113,138.3025514404473,74.2751298010856,255.84989756849203,558.5604680515416,205.26931348180779,206.05064034911177,215.79606749759867,295.8054630251015,235.35254909117486,205.26931348180779,191.0096741030812,301.39196982474687,295.64087730178574,281.80779088928836,206.26768064412556,340.3021992061046,291.93091158782727,171.54660556577437,74.2751298010856,535.864615380789,206.05064034911177,215.79606749759867,363.8465124696376]},\"name\":\"\",\"parents\":[\"Tungurahua\",\"Los Rios\",\"Pichincha\",\"Azuay\",\"Guayas\",\"Manabi\",\"Esmeraldas\",\"Bolivar\",\"Guayas\",\"Imbabura\",\"Cotopaxi\",\"Guayas\",\"Loja\",\"El Oro\",\"Manabi\",\"Guayas\",\"Pastaza\",\"Los Rios\",\"Pichincha\",\"Chimborazo\",\"Santa Elena\",\"Santo Domingo de los Tsachilas\",\"\",\"\",\"\",\"\",\"\",\"\",\"\",\"\",\"\",\"\",\"\",\"\",\"\",\"\",\"\",\"\"],\"type\":\"sunburst\",\"values\":[363.8465124696376,320.71452739699595,511.0592609754959,295.8054630251015,346.571238929232,199.98171666304037,295.64087730178574,235.35254909117486,277.5100456272281,206.26768064412553,191.00967410308124,276.7293995723985,340.3021992061046,301.39196982474687,126.64575242258113,138.3025514404473,74.2751298010856,255.84989756849203,558.5604680515416,205.26931348180779,206.05064034911177,215.79606749759867,295.8054630251015,235.35254909117486,205.26931348180779,191.00967410308124,301.39196982474687,295.64087730178574,1039.113235569306,206.26768064412553,340.3021992061046,576.564424965488,326.6274690856215,74.2751298010856,1069.6197290270375,206.05064034911177,215.79606749759867,363.8465124696376]}],                        {\"coloraxis\":{\"colorbar\":{\"title\":{\"text\":\"sales\"}},\"colorscale\":[[0.0,\"#9a4800\"],[1.0,\"#faa831\"]]},\"font\":{\"color\":\"#fff\"},\"legend\":{\"tracegroupgap\":0},\"margin\":{\"t\":60},\"paper_bgcolor\":\"#232425\",\"plot_bgcolor\":\"#232425\",\"template\":{\"data\":{\"bar\":[{\"error_x\":{\"color\":\"#2a3f5f\"},\"error_y\":{\"color\":\"#2a3f5f\"},\"marker\":{\"line\":{\"color\":\"#E5ECF6\",\"width\":0.5},\"pattern\":{\"fillmode\":\"overlay\",\"size\":10,\"solidity\":0.2}},\"type\":\"bar\"}],\"barpolar\":[{\"marker\":{\"line\":{\"color\":\"#E5ECF6\",\"width\":0.5},\"pattern\":{\"fillmode\":\"overlay\",\"size\":10,\"solidity\":0.2}},\"type\":\"barpolar\"}],\"carpet\":[{\"aaxis\":{\"endlinecolor\":\"#2a3f5f\",\"gridcolor\":\"white\",\"linecolor\":\"white\",\"minorgridcolor\":\"white\",\"startlinecolor\":\"#2a3f5f\"},\"baxis\":{\"endlinecolor\":\"#2a3f5f\",\"gridcolor\":\"white\",\"linecolor\":\"white\",\"minorgridcolor\":\"white\",\"startlinecolor\":\"#2a3f5f\"},\"type\":\"carpet\"}],\"choropleth\":[{\"colorbar\":{\"outlinewidth\":0,\"ticks\":\"\"},\"type\":\"choropleth\"}],\"contour\":[{\"colorbar\":{\"outlinewidth\":0,\"ticks\":\"\"},\"colorscale\":[[0.0,\"#0d0887\"],[0.1111111111111111,\"#46039f\"],[0.2222222222222222,\"#7201a8\"],[0.3333333333333333,\"#9c179e\"],[0.4444444444444444,\"#bd3786\"],[0.5555555555555556,\"#d8576b\"],[0.6666666666666666,\"#ed7953\"],[0.7777777777777778,\"#fb9f3a\"],[0.8888888888888888,\"#fdca26\"],[1.0,\"#f0f921\"]],\"type\":\"contour\"}],\"contourcarpet\":[{\"colorbar\":{\"outlinewidth\":0,\"ticks\":\"\"},\"type\":\"contourcarpet\"}],\"heatmap\":[{\"colorbar\":{\"outlinewidth\":0,\"ticks\":\"\"},\"colorscale\":[[0.0,\"#0d0887\"],[0.1111111111111111,\"#46039f\"],[0.2222222222222222,\"#7201a8\"],[0.3333333333333333,\"#9c179e\"],[0.4444444444444444,\"#bd3786\"],[0.5555555555555556,\"#d8576b\"],[0.6666666666666666,\"#ed7953\"],[0.7777777777777778,\"#fb9f3a\"],[0.8888888888888888,\"#fdca26\"],[1.0,\"#f0f921\"]],\"type\":\"heatmap\"}],\"heatmapgl\":[{\"colorbar\":{\"outlinewidth\":0,\"ticks\":\"\"},\"colorscale\":[[0.0,\"#0d0887\"],[0.1111111111111111,\"#46039f\"],[0.2222222222222222,\"#7201a8\"],[0.3333333333333333,\"#9c179e\"],[0.4444444444444444,\"#bd3786\"],[0.5555555555555556,\"#d8576b\"],[0.6666666666666666,\"#ed7953\"],[0.7777777777777778,\"#fb9f3a\"],[0.8888888888888888,\"#fdca26\"],[1.0,\"#f0f921\"]],\"type\":\"heatmapgl\"}],\"histogram\":[{\"marker\":{\"pattern\":{\"fillmode\":\"overlay\",\"size\":10,\"solidity\":0.2}},\"type\":\"histogram\"}],\"histogram2d\":[{\"colorbar\":{\"outlinewidth\":0,\"ticks\":\"\"},\"colorscale\":[[0.0,\"#0d0887\"],[0.1111111111111111,\"#46039f\"],[0.2222222222222222,\"#7201a8\"],[0.3333333333333333,\"#9c179e\"],[0.4444444444444444,\"#bd3786\"],[0.5555555555555556,\"#d8576b\"],[0.6666666666666666,\"#ed7953\"],[0.7777777777777778,\"#fb9f3a\"],[0.8888888888888888,\"#fdca26\"],[1.0,\"#f0f921\"]],\"type\":\"histogram2d\"}],\"histogram2dcontour\":[{\"colorbar\":{\"outlinewidth\":0,\"ticks\":\"\"},\"colorscale\":[[0.0,\"#0d0887\"],[0.1111111111111111,\"#46039f\"],[0.2222222222222222,\"#7201a8\"],[0.3333333333333333,\"#9c179e\"],[0.4444444444444444,\"#bd3786\"],[0.5555555555555556,\"#d8576b\"],[0.6666666666666666,\"#ed7953\"],[0.7777777777777778,\"#fb9f3a\"],[0.8888888888888888,\"#fdca26\"],[1.0,\"#f0f921\"]],\"type\":\"histogram2dcontour\"}],\"mesh3d\":[{\"colorbar\":{\"outlinewidth\":0,\"ticks\":\"\"},\"type\":\"mesh3d\"}],\"parcoords\":[{\"line\":{\"colorbar\":{\"outlinewidth\":0,\"ticks\":\"\"}},\"type\":\"parcoords\"}],\"pie\":[{\"automargin\":true,\"type\":\"pie\"}],\"scatter\":[{\"marker\":{\"colorbar\":{\"outlinewidth\":0,\"ticks\":\"\"}},\"type\":\"scatter\"}],\"scatter3d\":[{\"line\":{\"colorbar\":{\"outlinewidth\":0,\"ticks\":\"\"}},\"marker\":{\"colorbar\":{\"outlinewidth\":0,\"ticks\":\"\"}},\"type\":\"scatter3d\"}],\"scattercarpet\":[{\"marker\":{\"colorbar\":{\"outlinewidth\":0,\"ticks\":\"\"}},\"type\":\"scattercarpet\"}],\"scattergeo\":[{\"marker\":{\"colorbar\":{\"outlinewidth\":0,\"ticks\":\"\"}},\"type\":\"scattergeo\"}],\"scattergl\":[{\"marker\":{\"colorbar\":{\"outlinewidth\":0,\"ticks\":\"\"}},\"type\":\"scattergl\"}],\"scattermapbox\":[{\"marker\":{\"colorbar\":{\"outlinewidth\":0,\"ticks\":\"\"}},\"type\":\"scattermapbox\"}],\"scatterpolar\":[{\"marker\":{\"colorbar\":{\"outlinewidth\":0,\"ticks\":\"\"}},\"type\":\"scatterpolar\"}],\"scatterpolargl\":[{\"marker\":{\"colorbar\":{\"outlinewidth\":0,\"ticks\":\"\"}},\"type\":\"scatterpolargl\"}],\"scatterternary\":[{\"marker\":{\"colorbar\":{\"outlinewidth\":0,\"ticks\":\"\"}},\"type\":\"scatterternary\"}],\"surface\":[{\"colorbar\":{\"outlinewidth\":0,\"ticks\":\"\"},\"colorscale\":[[0.0,\"#0d0887\"],[0.1111111111111111,\"#46039f\"],[0.2222222222222222,\"#7201a8\"],[0.3333333333333333,\"#9c179e\"],[0.4444444444444444,\"#bd3786\"],[0.5555555555555556,\"#d8576b\"],[0.6666666666666666,\"#ed7953\"],[0.7777777777777778,\"#fb9f3a\"],[0.8888888888888888,\"#fdca26\"],[1.0,\"#f0f921\"]],\"type\":\"surface\"}],\"table\":[{\"cells\":{\"fill\":{\"color\":\"#EBF0F8\"},\"line\":{\"color\":\"white\"}},\"header\":{\"fill\":{\"color\":\"#C8D4E3\"},\"line\":{\"color\":\"white\"}},\"type\":\"table\"}]},\"layout\":{\"annotationdefaults\":{\"arrowcolor\":\"#2a3f5f\",\"arrowhead\":0,\"arrowwidth\":1},\"autotypenumbers\":\"strict\",\"coloraxis\":{\"colorbar\":{\"outlinewidth\":0,\"ticks\":\"\"}},\"colorscale\":{\"diverging\":[[0,\"#8e0152\"],[0.1,\"#c51b7d\"],[0.2,\"#de77ae\"],[0.3,\"#f1b6da\"],[0.4,\"#fde0ef\"],[0.5,\"#f7f7f7\"],[0.6,\"#e6f5d0\"],[0.7,\"#b8e186\"],[0.8,\"#7fbc41\"],[0.9,\"#4d9221\"],[1,\"#276419\"]],\"sequential\":[[0.0,\"#0d0887\"],[0.1111111111111111,\"#46039f\"],[0.2222222222222222,\"#7201a8\"],[0.3333333333333333,\"#9c179e\"],[0.4444444444444444,\"#bd3786\"],[0.5555555555555556,\"#d8576b\"],[0.6666666666666666,\"#ed7953\"],[0.7777777777777778,\"#fb9f3a\"],[0.8888888888888888,\"#fdca26\"],[1.0,\"#f0f921\"]],\"sequentialminus\":[[0.0,\"#0d0887\"],[0.1111111111111111,\"#46039f\"],[0.2222222222222222,\"#7201a8\"],[0.3333333333333333,\"#9c179e\"],[0.4444444444444444,\"#bd3786\"],[0.5555555555555556,\"#d8576b\"],[0.6666666666666666,\"#ed7953\"],[0.7777777777777778,\"#fb9f3a\"],[0.8888888888888888,\"#fdca26\"],[1.0,\"#f0f921\"]]},\"colorway\":[\"#636efa\",\"#EF553B\",\"#00cc96\",\"#ab63fa\",\"#FFA15A\",\"#19d3f3\",\"#FF6692\",\"#B6E880\",\"#FF97FF\",\"#FECB52\"],\"font\":{\"color\":\"#2a3f5f\"},\"geo\":{\"bgcolor\":\"white\",\"lakecolor\":\"white\",\"landcolor\":\"#E5ECF6\",\"showlakes\":true,\"showland\":true,\"subunitcolor\":\"white\"},\"hoverlabel\":{\"align\":\"left\"},\"hovermode\":\"closest\",\"mapbox\":{\"style\":\"light\"},\"paper_bgcolor\":\"white\",\"plot_bgcolor\":\"#E5ECF6\",\"polar\":{\"angularaxis\":{\"gridcolor\":\"white\",\"linecolor\":\"white\",\"ticks\":\"\"},\"bgcolor\":\"#E5ECF6\",\"radialaxis\":{\"gridcolor\":\"white\",\"linecolor\":\"white\",\"ticks\":\"\"}},\"scene\":{\"xaxis\":{\"backgroundcolor\":\"#E5ECF6\",\"gridcolor\":\"white\",\"gridwidth\":2,\"linecolor\":\"white\",\"showbackground\":true,\"ticks\":\"\",\"zerolinecolor\":\"white\"},\"yaxis\":{\"backgroundcolor\":\"#E5ECF6\",\"gridcolor\":\"white\",\"gridwidth\":2,\"linecolor\":\"white\",\"showbackground\":true,\"ticks\":\"\",\"zerolinecolor\":\"white\"},\"zaxis\":{\"backgroundcolor\":\"#E5ECF6\",\"gridcolor\":\"white\",\"gridwidth\":2,\"linecolor\":\"white\",\"showbackground\":true,\"ticks\":\"\",\"zerolinecolor\":\"white\"}},\"shapedefaults\":{\"line\":{\"color\":\"#2a3f5f\"}},\"ternary\":{\"aaxis\":{\"gridcolor\":\"white\",\"linecolor\":\"white\",\"ticks\":\"\"},\"baxis\":{\"gridcolor\":\"white\",\"linecolor\":\"white\",\"ticks\":\"\"},\"bgcolor\":\"#E5ECF6\",\"caxis\":{\"gridcolor\":\"white\",\"linecolor\":\"white\",\"ticks\":\"\"}},\"title\":{\"x\":0.05},\"xaxis\":{\"automargin\":true,\"gridcolor\":\"white\",\"linecolor\":\"white\",\"ticks\":\"\",\"title\":{\"standoff\":15},\"zerolinecolor\":\"white\",\"zerolinewidth\":2},\"yaxis\":{\"automargin\":true,\"gridcolor\":\"white\",\"linecolor\":\"white\",\"ticks\":\"\",\"title\":{\"standoff\":15},\"zerolinecolor\":\"white\",\"zerolinewidth\":2}}},\"title\":{\"text\":\"Eyaletler & \\u015eehirleri\"},\"width\":700},                        {\"responsive\": true}                    ).then(function(){\n",
       "                            \n",
       "var gd = document.getElementById('627ddec3-5c03-4282-80b3-13e7b7714906');\n",
       "var x = new MutationObserver(function (mutations, observer) {{\n",
       "        var display = window.getComputedStyle(gd).display;\n",
       "        if (!display || display === 'none') {{\n",
       "            console.log([gd, 'removed!']);\n",
       "            Plotly.purge(gd);\n",
       "            observer.disconnect();\n",
       "        }}\n",
       "}});\n",
       "\n",
       "// Listen for the removal of the full notebook cells\n",
       "var notebookContainer = gd.closest('#notebook-container');\n",
       "if (notebookContainer) {{\n",
       "    x.observe(notebookContainer, {childList: true});\n",
       "}}\n",
       "\n",
       "// Listen for the clearing of the current output cell\n",
       "var outputEl = gd.closest('.output');\n",
       "if (outputEl) {{\n",
       "    x.observe(outputEl, {childList: true});\n",
       "}}\n",
       "\n",
       "                        })                };                });            </script>        </div>"
      ]
     },
     "metadata": {},
     "output_type": "display_data"
    }
   ],
   "source": [
    "df_c_s_sa = df_train1.groupby(['state','city']).agg({\"sales\" : \"mean\"}).reset_index()\n",
    "fig11 = px.sunburst(df_c_s_sa, path=['state', 'city' ], \n",
    "                    values='sales',color='sales',\n",
    "                    color_continuous_scale=[colors['level1'], colors['level10']])\n",
    "\n",
    "fig11.update_layout(title_text='Eyaletler & Şehirleri',width = 700,paper_bgcolor='#232425',plot_bgcolor='#232425',font=dict(color=colors['text']))\n",
    "fig11.show()"
   ]
  },
  {
   "cell_type": "code",
   "execution_count": 16,
   "metadata": {},
   "outputs": [],
   "source": [
    "import xgboost as xg"
   ]
  },
  {
   "cell_type": "code",
   "execution_count": 17,
   "metadata": {},
   "outputs": [],
   "source": [
    "import numpy as np # linear algebra\n",
    "import pandas as pd # data processing, CSV file I/O (e.g. pd.read_csv)\n",
    "import matplotlib.pyplot as plt\n",
    "import seaborn as sns\n",
    "%matplotlib inline\n",
    "\n",
    "oil_df = pd.read_csv(\"oil.csv\")\n",
    "holidays_df = pd.read_csv(\"holidays_events.csv\")\n",
    "stores_df = pd.read_csv(\"stores.csv\")\n",
    "train_df = pd.read_csv(\"train.csv\")\n",
    "test_df = pd.read_csv(\"test.csv\")\n",
    "transactions_df = pd.read_csv(\"transactions.csv\")"
   ]
  },
  {
   "cell_type": "code",
   "execution_count": 18,
   "metadata": {},
   "outputs": [
    {
     "data": {
      "text/html": [
       "<div>\n",
       "<style scoped>\n",
       "    .dataframe tbody tr th:only-of-type {\n",
       "        vertical-align: middle;\n",
       "    }\n",
       "\n",
       "    .dataframe tbody tr th {\n",
       "        vertical-align: top;\n",
       "    }\n",
       "\n",
       "    .dataframe thead th {\n",
       "        text-align: right;\n",
       "    }\n",
       "</style>\n",
       "<table border=\"1\" class=\"dataframe\">\n",
       "  <thead>\n",
       "    <tr style=\"text-align: right;\">\n",
       "      <th></th>\n",
       "      <th>id</th>\n",
       "      <th>date</th>\n",
       "      <th>store_nbr</th>\n",
       "      <th>family</th>\n",
       "      <th>sales</th>\n",
       "      <th>onpromotion</th>\n",
       "    </tr>\n",
       "  </thead>\n",
       "  <tbody>\n",
       "    <tr>\n",
       "      <th>0</th>\n",
       "      <td>0</td>\n",
       "      <td>2013-01-01</td>\n",
       "      <td>1</td>\n",
       "      <td>AUTOMOTIVE</td>\n",
       "      <td>0.0</td>\n",
       "      <td>0.0</td>\n",
       "    </tr>\n",
       "    <tr>\n",
       "      <th>1</th>\n",
       "      <td>1</td>\n",
       "      <td>2013-01-01</td>\n",
       "      <td>1</td>\n",
       "      <td>BABY CARE</td>\n",
       "      <td>0.0</td>\n",
       "      <td>0.0</td>\n",
       "    </tr>\n",
       "    <tr>\n",
       "      <th>2</th>\n",
       "      <td>2</td>\n",
       "      <td>2013-01-01</td>\n",
       "      <td>1</td>\n",
       "      <td>BEAUTY</td>\n",
       "      <td>0.0</td>\n",
       "      <td>0.0</td>\n",
       "    </tr>\n",
       "    <tr>\n",
       "      <th>3</th>\n",
       "      <td>3</td>\n",
       "      <td>2013-01-01</td>\n",
       "      <td>1</td>\n",
       "      <td>BEVERAGES</td>\n",
       "      <td>0.0</td>\n",
       "      <td>0.0</td>\n",
       "    </tr>\n",
       "    <tr>\n",
       "      <th>4</th>\n",
       "      <td>4</td>\n",
       "      <td>2013-01-01</td>\n",
       "      <td>1</td>\n",
       "      <td>BOOKS</td>\n",
       "      <td>0.0</td>\n",
       "      <td>0.0</td>\n",
       "    </tr>\n",
       "  </tbody>\n",
       "</table>\n",
       "</div>"
      ],
      "text/plain": [
       "   id        date  store_nbr      family  sales  onpromotion\n",
       "0   0  2013-01-01          1  AUTOMOTIVE    0.0          0.0\n",
       "1   1  2013-01-01          1   BABY CARE    0.0          0.0\n",
       "2   2  2013-01-01          1      BEAUTY    0.0          0.0\n",
       "3   3  2013-01-01          1   BEVERAGES    0.0          0.0\n",
       "4   4  2013-01-01          1       BOOKS    0.0          0.0"
      ]
     },
     "execution_count": 18,
     "metadata": {},
     "output_type": "execute_result"
    }
   ],
   "source": [
    "train_df.head()"
   ]
  },
  {
   "cell_type": "code",
   "execution_count": 19,
   "metadata": {},
   "outputs": [
    {
     "data": {
      "text/html": [
       "<div>\n",
       "<style scoped>\n",
       "    .dataframe tbody tr th:only-of-type {\n",
       "        vertical-align: middle;\n",
       "    }\n",
       "\n",
       "    .dataframe tbody tr th {\n",
       "        vertical-align: top;\n",
       "    }\n",
       "\n",
       "    .dataframe thead th {\n",
       "        text-align: right;\n",
       "    }\n",
       "</style>\n",
       "<table border=\"1\" class=\"dataframe\">\n",
       "  <thead>\n",
       "    <tr style=\"text-align: right;\">\n",
       "      <th></th>\n",
       "      <th>id</th>\n",
       "      <th>date</th>\n",
       "      <th>store_nbr</th>\n",
       "      <th>family</th>\n",
       "      <th>onpromotion</th>\n",
       "    </tr>\n",
       "  </thead>\n",
       "  <tbody>\n",
       "    <tr>\n",
       "      <th>0</th>\n",
       "      <td>3000888</td>\n",
       "      <td>2017-08-16</td>\n",
       "      <td>1</td>\n",
       "      <td>AUTOMOTIVE</td>\n",
       "      <td>20.0</td>\n",
       "    </tr>\n",
       "    <tr>\n",
       "      <th>1</th>\n",
       "      <td>3000889</td>\n",
       "      <td>2017-08-16</td>\n",
       "      <td>1</td>\n",
       "      <td>BABY CARE</td>\n",
       "      <td>1.0</td>\n",
       "    </tr>\n",
       "    <tr>\n",
       "      <th>2</th>\n",
       "      <td>3000890</td>\n",
       "      <td>2017-08-16</td>\n",
       "      <td>1</td>\n",
       "      <td>BEAUTY</td>\n",
       "      <td>8.0</td>\n",
       "    </tr>\n",
       "    <tr>\n",
       "      <th>3</th>\n",
       "      <td>3000891</td>\n",
       "      <td>2017-08-16</td>\n",
       "      <td>1</td>\n",
       "      <td>BEVERAGES</td>\n",
       "      <td>560.0</td>\n",
       "    </tr>\n",
       "    <tr>\n",
       "      <th>4</th>\n",
       "      <td>3000892</td>\n",
       "      <td>2017-08-16</td>\n",
       "      <td>1</td>\n",
       "      <td>BOOKS</td>\n",
       "      <td>1.0</td>\n",
       "    </tr>\n",
       "  </tbody>\n",
       "</table>\n",
       "</div>"
      ],
      "text/plain": [
       "        id        date  store_nbr      family  onpromotion\n",
       "0  3000888  2017-08-16          1  AUTOMOTIVE         20.0\n",
       "1  3000889  2017-08-16          1   BABY CARE          1.0\n",
       "2  3000890  2017-08-16          1      BEAUTY          8.0\n",
       "3  3000891  2017-08-16          1   BEVERAGES        560.0\n",
       "4  3000892  2017-08-16          1       BOOKS          1.0"
      ]
     },
     "execution_count": 19,
     "metadata": {},
     "output_type": "execute_result"
    }
   ],
   "source": [
    "test_df.head()"
   ]
  },
  {
   "cell_type": "code",
   "execution_count": 20,
   "metadata": {},
   "outputs": [
    {
     "data": {
      "text/html": [
       "<div>\n",
       "<style scoped>\n",
       "    .dataframe tbody tr th:only-of-type {\n",
       "        vertical-align: middle;\n",
       "    }\n",
       "\n",
       "    .dataframe tbody tr th {\n",
       "        vertical-align: top;\n",
       "    }\n",
       "\n",
       "    .dataframe thead th {\n",
       "        text-align: right;\n",
       "    }\n",
       "</style>\n",
       "<table border=\"1\" class=\"dataframe\">\n",
       "  <thead>\n",
       "    <tr style=\"text-align: right;\">\n",
       "      <th></th>\n",
       "      <th>date</th>\n",
       "      <th>dcoilwtico</th>\n",
       "    </tr>\n",
       "  </thead>\n",
       "  <tbody>\n",
       "    <tr>\n",
       "      <th>0</th>\n",
       "      <td>2013-01-01</td>\n",
       "      <td>NaN</td>\n",
       "    </tr>\n",
       "    <tr>\n",
       "      <th>1</th>\n",
       "      <td>2013-01-02</td>\n",
       "      <td>93.14</td>\n",
       "    </tr>\n",
       "    <tr>\n",
       "      <th>2</th>\n",
       "      <td>2013-01-03</td>\n",
       "      <td>92.97</td>\n",
       "    </tr>\n",
       "    <tr>\n",
       "      <th>3</th>\n",
       "      <td>2013-01-04</td>\n",
       "      <td>93.12</td>\n",
       "    </tr>\n",
       "    <tr>\n",
       "      <th>4</th>\n",
       "      <td>2013-01-07</td>\n",
       "      <td>93.20</td>\n",
       "    </tr>\n",
       "  </tbody>\n",
       "</table>\n",
       "</div>"
      ],
      "text/plain": [
       "         date  dcoilwtico\n",
       "0  2013-01-01         NaN\n",
       "1  2013-01-02       93.14\n",
       "2  2013-01-03       92.97\n",
       "3  2013-01-04       93.12\n",
       "4  2013-01-07       93.20"
      ]
     },
     "execution_count": 20,
     "metadata": {},
     "output_type": "execute_result"
    }
   ],
   "source": [
    "oil_df.head()"
   ]
  },
  {
   "cell_type": "code",
   "execution_count": 21,
   "metadata": {},
   "outputs": [
    {
     "data": {
      "text/html": [
       "<div>\n",
       "<style scoped>\n",
       "    .dataframe tbody tr th:only-of-type {\n",
       "        vertical-align: middle;\n",
       "    }\n",
       "\n",
       "    .dataframe tbody tr th {\n",
       "        vertical-align: top;\n",
       "    }\n",
       "\n",
       "    .dataframe thead th {\n",
       "        text-align: right;\n",
       "    }\n",
       "</style>\n",
       "<table border=\"1\" class=\"dataframe\">\n",
       "  <thead>\n",
       "    <tr style=\"text-align: right;\">\n",
       "      <th></th>\n",
       "      <th>date</th>\n",
       "      <th>type</th>\n",
       "      <th>locale</th>\n",
       "      <th>locale_name</th>\n",
       "      <th>description</th>\n",
       "      <th>transferred</th>\n",
       "    </tr>\n",
       "  </thead>\n",
       "  <tbody>\n",
       "    <tr>\n",
       "      <th>0</th>\n",
       "      <td>2012-03-02</td>\n",
       "      <td>Holiday</td>\n",
       "      <td>Local</td>\n",
       "      <td>Manta</td>\n",
       "      <td>Fundacion de Manta</td>\n",
       "      <td>False</td>\n",
       "    </tr>\n",
       "    <tr>\n",
       "      <th>1</th>\n",
       "      <td>2012-04-01</td>\n",
       "      <td>Holiday</td>\n",
       "      <td>Regional</td>\n",
       "      <td>Cotopaxi</td>\n",
       "      <td>Provincializacion de Cotopaxi</td>\n",
       "      <td>False</td>\n",
       "    </tr>\n",
       "    <tr>\n",
       "      <th>2</th>\n",
       "      <td>2012-04-12</td>\n",
       "      <td>Holiday</td>\n",
       "      <td>Local</td>\n",
       "      <td>Cuenca</td>\n",
       "      <td>Fundacion de Cuenca</td>\n",
       "      <td>False</td>\n",
       "    </tr>\n",
       "    <tr>\n",
       "      <th>3</th>\n",
       "      <td>2012-04-14</td>\n",
       "      <td>Holiday</td>\n",
       "      <td>Local</td>\n",
       "      <td>Libertad</td>\n",
       "      <td>Cantonizacion de Libertad</td>\n",
       "      <td>False</td>\n",
       "    </tr>\n",
       "    <tr>\n",
       "      <th>4</th>\n",
       "      <td>2012-04-21</td>\n",
       "      <td>Holiday</td>\n",
       "      <td>Local</td>\n",
       "      <td>Riobamba</td>\n",
       "      <td>Cantonizacion de Riobamba</td>\n",
       "      <td>False</td>\n",
       "    </tr>\n",
       "  </tbody>\n",
       "</table>\n",
       "</div>"
      ],
      "text/plain": [
       "         date     type    locale locale_name                    description  \\\n",
       "0  2012-03-02  Holiday     Local       Manta             Fundacion de Manta   \n",
       "1  2012-04-01  Holiday  Regional    Cotopaxi  Provincializacion de Cotopaxi   \n",
       "2  2012-04-12  Holiday     Local      Cuenca            Fundacion de Cuenca   \n",
       "3  2012-04-14  Holiday     Local    Libertad      Cantonizacion de Libertad   \n",
       "4  2012-04-21  Holiday     Local    Riobamba      Cantonizacion de Riobamba   \n",
       "\n",
       "   transferred  \n",
       "0        False  \n",
       "1        False  \n",
       "2        False  \n",
       "3        False  \n",
       "4        False  "
      ]
     },
     "execution_count": 21,
     "metadata": {},
     "output_type": "execute_result"
    }
   ],
   "source": [
    "holidays_df.head()"
   ]
  },
  {
   "cell_type": "code",
   "execution_count": 22,
   "metadata": {},
   "outputs": [
    {
     "data": {
      "text/html": [
       "<div>\n",
       "<style scoped>\n",
       "    .dataframe tbody tr th:only-of-type {\n",
       "        vertical-align: middle;\n",
       "    }\n",
       "\n",
       "    .dataframe tbody tr th {\n",
       "        vertical-align: top;\n",
       "    }\n",
       "\n",
       "    .dataframe thead th {\n",
       "        text-align: right;\n",
       "    }\n",
       "</style>\n",
       "<table border=\"1\" class=\"dataframe\">\n",
       "  <thead>\n",
       "    <tr style=\"text-align: right;\">\n",
       "      <th></th>\n",
       "      <th>store_nbr</th>\n",
       "      <th>city</th>\n",
       "      <th>state</th>\n",
       "      <th>type</th>\n",
       "      <th>cluster</th>\n",
       "    </tr>\n",
       "  </thead>\n",
       "  <tbody>\n",
       "    <tr>\n",
       "      <th>0</th>\n",
       "      <td>1</td>\n",
       "      <td>Quito</td>\n",
       "      <td>Pichincha</td>\n",
       "      <td>D</td>\n",
       "      <td>13</td>\n",
       "    </tr>\n",
       "    <tr>\n",
       "      <th>1</th>\n",
       "      <td>2</td>\n",
       "      <td>Quito</td>\n",
       "      <td>Pichincha</td>\n",
       "      <td>D</td>\n",
       "      <td>13</td>\n",
       "    </tr>\n",
       "    <tr>\n",
       "      <th>2</th>\n",
       "      <td>3</td>\n",
       "      <td>Quito</td>\n",
       "      <td>Pichincha</td>\n",
       "      <td>D</td>\n",
       "      <td>8</td>\n",
       "    </tr>\n",
       "    <tr>\n",
       "      <th>3</th>\n",
       "      <td>4</td>\n",
       "      <td>Quito</td>\n",
       "      <td>Pichincha</td>\n",
       "      <td>D</td>\n",
       "      <td>9</td>\n",
       "    </tr>\n",
       "    <tr>\n",
       "      <th>4</th>\n",
       "      <td>5</td>\n",
       "      <td>Santo Domingo</td>\n",
       "      <td>Santo Domingo de los Tsachilas</td>\n",
       "      <td>D</td>\n",
       "      <td>4</td>\n",
       "    </tr>\n",
       "  </tbody>\n",
       "</table>\n",
       "</div>"
      ],
      "text/plain": [
       "   store_nbr           city                           state type  cluster\n",
       "0          1          Quito                       Pichincha    D       13\n",
       "1          2          Quito                       Pichincha    D       13\n",
       "2          3          Quito                       Pichincha    D        8\n",
       "3          4          Quito                       Pichincha    D        9\n",
       "4          5  Santo Domingo  Santo Domingo de los Tsachilas    D        4"
      ]
     },
     "execution_count": 22,
     "metadata": {},
     "output_type": "execute_result"
    }
   ],
   "source": [
    "stores_df.head()"
   ]
  },
  {
   "cell_type": "code",
   "execution_count": 23,
   "metadata": {},
   "outputs": [
    {
     "data": {
      "text/html": [
       "<div>\n",
       "<style scoped>\n",
       "    .dataframe tbody tr th:only-of-type {\n",
       "        vertical-align: middle;\n",
       "    }\n",
       "\n",
       "    .dataframe tbody tr th {\n",
       "        vertical-align: top;\n",
       "    }\n",
       "\n",
       "    .dataframe thead th {\n",
       "        text-align: right;\n",
       "    }\n",
       "</style>\n",
       "<table border=\"1\" class=\"dataframe\">\n",
       "  <thead>\n",
       "    <tr style=\"text-align: right;\">\n",
       "      <th></th>\n",
       "      <th>date</th>\n",
       "      <th>store_nbr</th>\n",
       "      <th>transactions</th>\n",
       "    </tr>\n",
       "  </thead>\n",
       "  <tbody>\n",
       "    <tr>\n",
       "      <th>0</th>\n",
       "      <td>2013-01-01</td>\n",
       "      <td>25</td>\n",
       "      <td>770</td>\n",
       "    </tr>\n",
       "    <tr>\n",
       "      <th>1</th>\n",
       "      <td>2013-01-02</td>\n",
       "      <td>1</td>\n",
       "      <td>2111</td>\n",
       "    </tr>\n",
       "    <tr>\n",
       "      <th>2</th>\n",
       "      <td>2013-01-02</td>\n",
       "      <td>2</td>\n",
       "      <td>2358</td>\n",
       "    </tr>\n",
       "    <tr>\n",
       "      <th>3</th>\n",
       "      <td>2013-01-02</td>\n",
       "      <td>3</td>\n",
       "      <td>3487</td>\n",
       "    </tr>\n",
       "    <tr>\n",
       "      <th>4</th>\n",
       "      <td>2013-01-02</td>\n",
       "      <td>4</td>\n",
       "      <td>1922</td>\n",
       "    </tr>\n",
       "  </tbody>\n",
       "</table>\n",
       "</div>"
      ],
      "text/plain": [
       "         date  store_nbr  transactions\n",
       "0  2013-01-01         25           770\n",
       "1  2013-01-02          1          2111\n",
       "2  2013-01-02          2          2358\n",
       "3  2013-01-02          3          3487\n",
       "4  2013-01-02          4          1922"
      ]
     },
     "execution_count": 23,
     "metadata": {},
     "output_type": "execute_result"
    }
   ],
   "source": [
    "transactions_df.head()"
   ]
  },
  {
   "cell_type": "code",
   "execution_count": 24,
   "metadata": {},
   "outputs": [
    {
     "data": {
      "text/plain": [
       "id             0\n",
       "date           0\n",
       "store_nbr      0\n",
       "family         0\n",
       "sales          0\n",
       "onpromotion    0\n",
       "dtype: int64"
      ]
     },
     "execution_count": 24,
     "metadata": {},
     "output_type": "execute_result"
    }
   ],
   "source": [
    "train_df.isnull().sum()"
   ]
  },
  {
   "cell_type": "code",
   "execution_count": 25,
   "metadata": {},
   "outputs": [],
   "source": [
    "train_df['date'] = pd.to_datetime(train_df['date'],  errors='coerce')"
   ]
  },
  {
   "cell_type": "code",
   "execution_count": 26,
   "metadata": {},
   "outputs": [
    {
     "data": {
      "image/png": "[encoded data removed]",
      "text/plain": [
       "<Figure size 1080x576 with 1 Axes>"
      ]
     },
     "metadata": {
      "needs_background": "light"
     },
     "output_type": "display_data"
    }
   ],
   "source": [
    "plt.figure(figsize=(15,8))\n",
    "plt.plot(train_df.date, train_df.sales)\n",
    "plt.show()"
   ]
  },
  {
   "cell_type": "code",
   "execution_count": 27,
   "metadata": {},
   "outputs": [],
   "source": [
    "months_sales = train_df.groupby(train_df['date'].dt.strftime('%B'))['sales'].sum().sort_values()"
   ]
  },
  {
   "cell_type": "code",
   "execution_count": 28,
   "metadata": {},
   "outputs": [],
   "source": [
    "months_pormotions = train_df.groupby(train_df['date'].dt.strftime('%B'))['onpromotion'].sum().sort_values()"
   ]
  },
  {
   "cell_type": "code",
   "execution_count": 29,
   "metadata": {},
   "outputs": [],
   "source": [
    "stores_sales = train_df.groupby('store_nbr')['sales'].sum()"
   ]
  },
  {
   "cell_type": "code",
   "execution_count": 30,
   "metadata": {},
   "outputs": [],
   "source": [
    "stores_sales.sort_values(inplace=True)"
   ]
  },
  {
   "cell_type": "code",
   "execution_count": 31,
   "metadata": {},
   "outputs": [
    {
     "data": {
      "text/plain": [
       "store_nbr\n",
       "52     2696169.73\n",
       "22     4090201.74\n",
       "32     5951796.00\n",
       "30     7382073.66\n",
       "35     7676679.42\n",
       "26     7755121.89\n",
       "42     8945767.89\n",
       "21     9255505.91\n",
       "10     9613905.74\n",
       "29     9725157.70\n",
       "13    10523045.82\n",
       "12    10659217.96\n",
       "16    10986412.55\n",
       "54    11057483.12\n",
       "53    11216167.28\n",
       "14    11387918.75\n",
       "25    11420997.87\n",
       "15    11451270.02\n",
       "23    11651380.67\n",
       "20    12920954.59\n",
       "19    13049509.84\n",
       "18    13259375.69\n",
       "1     14145012.87\n",
       "33    14178501.29\n",
       "41    14991039.14\n",
       "36    15322431.10\n",
       "5     15592404.57\n",
       "43    16391692.21\n",
       "34    17090734.16\n",
       "31    17746872.70\n",
       "17    18030969.25\n",
       "28    18383154.83\n",
       "40    18395757.41\n",
       "38    18859999.26\n",
       "4     18909700.38\n",
       "27    19188021.38\n",
       "37    19970635.61\n",
       "39    20252192.53\n",
       "2     21557388.64\n",
       "24    23767732.70\n",
       "6     25183680.00\n",
       "9     26409441.06\n",
       "7     26952049.58\n",
       "11    28325558.48\n",
       "50    28653020.62\n",
       "8     30494286.93\n",
       "51    32911489.54\n",
       "48    35933130.27\n",
       "46    41896062.12\n",
       "49    43420095.78\n",
       "3     50481910.19\n",
       "47    50948310.06\n",
       "45    54498010.42\n",
       "44    62087553.25\n",
       "Name: sales, dtype: float64"
      ]
     },
     "execution_count": 31,
     "metadata": {},
     "output_type": "execute_result"
    }
   ],
   "source": [
    "round(stores_sales, 2)"
   ]
  },
  {
   "cell_type": "code",
   "execution_count": 32,
   "metadata": {},
   "outputs": [],
   "source": [
    "train_df.date = pd.to_numeric(train_df.date)"
   ]
  },
  {
   "cell_type": "code",
   "execution_count": 33,
   "metadata": {},
   "outputs": [],
   "source": [
    "from sklearn.model_selection import train_test_split\n",
    "from sklearn.tree import DecisionTreeRegressor\n",
    "from sklearn.preprocessing import LabelEncoder"
   ]
  },
  {
   "cell_type": "code",
   "execution_count": 34,
   "metadata": {},
   "outputs": [],
   "source": [
    "le = LabelEncoder()\n",
    "train_df.family = le.fit_transform(train_df.family)"
   ]
  },
  {
   "cell_type": "code",
   "execution_count": 35,
   "metadata": {},
   "outputs": [
    {
     "data": {
      "text/html": [
       "<div>\n",
       "<style scoped>\n",
       "    .dataframe tbody tr th:only-of-type {\n",
       "        vertical-align: middle;\n",
       "    }\n",
       "\n",
       "    .dataframe tbody tr th {\n",
       "        vertical-align: top;\n",
       "    }\n",
       "\n",
       "    .dataframe thead th {\n",
       "        text-align: right;\n",
       "    }\n",
       "</style>\n",
       "<table border=\"1\" class=\"dataframe\">\n",
       "  <thead>\n",
       "    <tr style=\"text-align: right;\">\n",
       "      <th></th>\n",
       "      <th>id</th>\n",
       "      <th>date</th>\n",
       "      <th>store_nbr</th>\n",
       "      <th>family</th>\n",
       "      <th>sales</th>\n",
       "      <th>onpromotion</th>\n",
       "    </tr>\n",
       "  </thead>\n",
       "  <tbody>\n",
       "    <tr>\n",
       "      <th>0</th>\n",
       "      <td>0</td>\n",
       "      <td>1356998400000000000</td>\n",
       "      <td>1</td>\n",
       "      <td>0</td>\n",
       "      <td>0.0</td>\n",
       "      <td>0.0</td>\n",
       "    </tr>\n",
       "    <tr>\n",
       "      <th>1</th>\n",
       "      <td>1</td>\n",
       "      <td>1356998400000000000</td>\n",
       "      <td>1</td>\n",
       "      <td>1</td>\n",
       "      <td>0.0</td>\n",
       "      <td>0.0</td>\n",
       "    </tr>\n",
       "  </tbody>\n",
       "</table>\n",
       "</div>"
      ],
      "text/plain": [
       "   id                 date  store_nbr  family  sales  onpromotion\n",
       "0   0  1356998400000000000          1       0    0.0          0.0\n",
       "1   1  1356998400000000000          1       1    0.0          0.0"
      ]
     },
     "execution_count": 35,
     "metadata": {},
     "output_type": "execute_result"
    }
   ],
   "source": [
    "train_df.head(2)"
   ]
  },
  {
   "cell_type": "code",
   "execution_count": 36,
   "metadata": {},
   "outputs": [],
   "source": [
    "X = train_df.drop(['sales', 'id', 'date'], axis = 1).values\n",
    "y = train_df.sales.values"
   ]
  },
  {
   "cell_type": "code",
   "execution_count": 37,
   "metadata": {},
   "outputs": [
    {
     "data": {
      "text/plain": [
       "(3000888, 3)"
      ]
     },
     "execution_count": 37,
     "metadata": {},
     "output_type": "execute_result"
    }
   ],
   "source": [
    "X.shape"
   ]
  },
  {
   "cell_type": "code",
   "execution_count": 38,
   "metadata": {},
   "outputs": [
    {
     "data": {
      "text/plain": [
       "(3000888,)"
      ]
     },
     "execution_count": 38,
     "metadata": {},
     "output_type": "execute_result"
    }
   ],
   "source": [
    "y.shape"
   ]
  },
  {
   "cell_type": "code",
   "execution_count": 39,
   "metadata": {},
   "outputs": [],
   "source": [
    "X_train, X_test, y_train, y_test = train_test_split(X, y, test_size=0.15, random_state=42)"
   ]
  },
  {
   "cell_type": "code",
   "execution_count": 40,
   "metadata": {},
   "outputs": [],
   "source": [
    "regressor = DecisionTreeRegressor(max_depth=5, max_leaf_nodes=12, random_state=42)"
   ]
  },
  {
   "cell_type": "code",
   "execution_count": 41,
   "metadata": {},
   "outputs": [
    {
     "data": {
      "text/plain": [
       "DecisionTreeRegressor(max_depth=5, max_leaf_nodes=12, random_state=42)"
      ]
     },
     "execution_count": 41,
     "metadata": {},
     "output_type": "execute_result"
    }
   ],
   "source": [
    "regressor.fit(X_train, y_train)"
   ]
  },
  {
   "cell_type": "code",
   "execution_count": 42,
   "metadata": {},
   "outputs": [
    {
     "data": {
      "text/plain": [
       "0.663494706816192"
      ]
     },
     "execution_count": 42,
     "metadata": {},
     "output_type": "execute_result"
    }
   ],
   "source": [
    "regressor.score(X_train, y_train)"
   ]
  },
  {
   "cell_type": "code",
   "execution_count": 43,
   "metadata": {},
   "outputs": [
    {
     "data": {
      "text/plain": [
       "0.6563814090619251"
      ]
     },
     "execution_count": 43,
     "metadata": {},
     "output_type": "execute_result"
    }
   ],
   "source": [
    "regressor.score(X_test, y_test)"
   ]
  },
  {
   "cell_type": "code",
   "execution_count": 44,
   "metadata": {},
   "outputs": [
    {
     "data": {
      "text/html": [
       "<div>\n",
       "<style scoped>\n",
       "    .dataframe tbody tr th:only-of-type {\n",
       "        vertical-align: middle;\n",
       "    }\n",
       "\n",
       "    .dataframe tbody tr th {\n",
       "        vertical-align: top;\n",
       "    }\n",
       "\n",
       "    .dataframe thead th {\n",
       "        text-align: right;\n",
       "    }\n",
       "</style>\n",
       "<table border=\"1\" class=\"dataframe\">\n",
       "  <thead>\n",
       "    <tr style=\"text-align: right;\">\n",
       "      <th></th>\n",
       "      <th>id</th>\n",
       "      <th>date</th>\n",
       "      <th>store_nbr</th>\n",
       "      <th>family</th>\n",
       "      <th>onpromotion</th>\n",
       "    </tr>\n",
       "  </thead>\n",
       "  <tbody>\n",
       "    <tr>\n",
       "      <th>0</th>\n",
       "      <td>3000888</td>\n",
       "      <td>2017-08-16</td>\n",
       "      <td>1</td>\n",
       "      <td>AUTOMOTIVE</td>\n",
       "      <td>20.0</td>\n",
       "    </tr>\n",
       "    <tr>\n",
       "      <th>1</th>\n",
       "      <td>3000889</td>\n",
       "      <td>2017-08-16</td>\n",
       "      <td>1</td>\n",
       "      <td>BABY CARE</td>\n",
       "      <td>1.0</td>\n",
       "    </tr>\n",
       "    <tr>\n",
       "      <th>2</th>\n",
       "      <td>3000890</td>\n",
       "      <td>2017-08-16</td>\n",
       "      <td>1</td>\n",
       "      <td>BEAUTY</td>\n",
       "      <td>8.0</td>\n",
       "    </tr>\n",
       "    <tr>\n",
       "      <th>3</th>\n",
       "      <td>3000891</td>\n",
       "      <td>2017-08-16</td>\n",
       "      <td>1</td>\n",
       "      <td>BEVERAGES</td>\n",
       "      <td>560.0</td>\n",
       "    </tr>\n",
       "    <tr>\n",
       "      <th>4</th>\n",
       "      <td>3000892</td>\n",
       "      <td>2017-08-16</td>\n",
       "      <td>1</td>\n",
       "      <td>BOOKS</td>\n",
       "      <td>1.0</td>\n",
       "    </tr>\n",
       "    <tr>\n",
       "      <th>5</th>\n",
       "      <td>3000893</td>\n",
       "      <td>2017-08-16</td>\n",
       "      <td>1</td>\n",
       "      <td>BREAD/BAKERY</td>\n",
       "      <td>131.0</td>\n",
       "    </tr>\n",
       "    <tr>\n",
       "      <th>6</th>\n",
       "      <td>3000894</td>\n",
       "      <td>2017-08-16</td>\n",
       "      <td>1</td>\n",
       "      <td>CELEBRATION</td>\n",
       "      <td>29.0</td>\n",
       "    </tr>\n",
       "    <tr>\n",
       "      <th>7</th>\n",
       "      <td>3000895</td>\n",
       "      <td>2017-08-16</td>\n",
       "      <td>1</td>\n",
       "      <td>CLEANING</td>\n",
       "      <td>438.0</td>\n",
       "    </tr>\n",
       "    <tr>\n",
       "      <th>8</th>\n",
       "      <td>3000896</td>\n",
       "      <td>2017-08-16</td>\n",
       "      <td>1</td>\n",
       "      <td>DAIRY</td>\n",
       "      <td>226.0</td>\n",
       "    </tr>\n",
       "    <tr>\n",
       "      <th>9</th>\n",
       "      <td>3000897</td>\n",
       "      <td>2017-08-16</td>\n",
       "      <td>1</td>\n",
       "      <td>DELI</td>\n",
       "      <td>90.0</td>\n",
       "    </tr>\n",
       "    <tr>\n",
       "      <th>10</th>\n",
       "      <td>3000898</td>\n",
       "      <td>2017-08-16</td>\n",
       "      <td>1</td>\n",
       "      <td>EGGS</td>\n",
       "      <td>41.0</td>\n",
       "    </tr>\n",
       "    <tr>\n",
       "      <th>11</th>\n",
       "      <td>3000899</td>\n",
       "      <td>2017-08-16</td>\n",
       "      <td>1</td>\n",
       "      <td>FROZEN FOODS</td>\n",
       "      <td>54.0</td>\n",
       "    </tr>\n",
       "    <tr>\n",
       "      <th>12</th>\n",
       "      <td>3000900</td>\n",
       "      <td>2017-08-16</td>\n",
       "      <td>1</td>\n",
       "      <td>GROCERY I</td>\n",
       "      <td>1277.0</td>\n",
       "    </tr>\n",
       "    <tr>\n",
       "      <th>13</th>\n",
       "      <td>3000901</td>\n",
       "      <td>2017-08-16</td>\n",
       "      <td>1</td>\n",
       "      <td>GROCERY II</td>\n",
       "      <td>14.0</td>\n",
       "    </tr>\n",
       "    <tr>\n",
       "      <th>14</th>\n",
       "      <td>3000902</td>\n",
       "      <td>2017-08-16</td>\n",
       "      <td>1</td>\n",
       "      <td>HARDWARE</td>\n",
       "      <td>4.0</td>\n",
       "    </tr>\n",
       "    <tr>\n",
       "      <th>15</th>\n",
       "      <td>3000903</td>\n",
       "      <td>2017-08-16</td>\n",
       "      <td>1</td>\n",
       "      <td>HOME AND KITCHEN I</td>\n",
       "      <td>75.0</td>\n",
       "    </tr>\n",
       "    <tr>\n",
       "      <th>16</th>\n",
       "      <td>3000904</td>\n",
       "      <td>2017-08-16</td>\n",
       "      <td>1</td>\n",
       "      <td>HOME AND KITCHEN II</td>\n",
       "      <td>43.0</td>\n",
       "    </tr>\n",
       "    <tr>\n",
       "      <th>17</th>\n",
       "      <td>3000905</td>\n",
       "      <td>2017-08-16</td>\n",
       "      <td>1</td>\n",
       "      <td>HOME APPLIANCES</td>\n",
       "      <td>1.0</td>\n",
       "    </tr>\n",
       "    <tr>\n",
       "      <th>18</th>\n",
       "      <td>3000906</td>\n",
       "      <td>2017-08-16</td>\n",
       "      <td>1</td>\n",
       "      <td>HOME CARE</td>\n",
       "      <td>105.0</td>\n",
       "    </tr>\n",
       "    <tr>\n",
       "      <th>19</th>\n",
       "      <td>3000907</td>\n",
       "      <td>2017-08-16</td>\n",
       "      <td>1</td>\n",
       "      <td>LADIESWEAR</td>\n",
       "      <td>21.0</td>\n",
       "    </tr>\n",
       "  </tbody>\n",
       "</table>\n",
       "</div>"
      ],
      "text/plain": [
       "         id        date  store_nbr               family  onpromotion\n",
       "0   3000888  2017-08-16          1           AUTOMOTIVE         20.0\n",
       "1   3000889  2017-08-16          1            BABY CARE          1.0\n",
       "2   3000890  2017-08-16          1               BEAUTY          8.0\n",
       "3   3000891  2017-08-16          1            BEVERAGES        560.0\n",
       "4   3000892  2017-08-16          1                BOOKS          1.0\n",
       "5   3000893  2017-08-16          1         BREAD/BAKERY        131.0\n",
       "6   3000894  2017-08-16          1          CELEBRATION         29.0\n",
       "7   3000895  2017-08-16          1             CLEANING        438.0\n",
       "8   3000896  2017-08-16          1                DAIRY        226.0\n",
       "9   3000897  2017-08-16          1                 DELI         90.0\n",
       "10  3000898  2017-08-16          1                 EGGS         41.0\n",
       "11  3000899  2017-08-16          1         FROZEN FOODS         54.0\n",
       "12  3000900  2017-08-16          1            GROCERY I       1277.0\n",
       "13  3000901  2017-08-16          1           GROCERY II         14.0\n",
       "14  3000902  2017-08-16          1             HARDWARE          4.0\n",
       "15  3000903  2017-08-16          1   HOME AND KITCHEN I         75.0\n",
       "16  3000904  2017-08-16          1  HOME AND KITCHEN II         43.0\n",
       "17  3000905  2017-08-16          1      HOME APPLIANCES          1.0\n",
       "18  3000906  2017-08-16          1            HOME CARE        105.0\n",
       "19  3000907  2017-08-16          1           LADIESWEAR         21.0"
      ]
     },
     "execution_count": 44,
     "metadata": {},
     "output_type": "execute_result"
    }
   ],
   "source": [
    "test_df.head(20)"
   ]
  },
  {
   "cell_type": "code",
   "execution_count": 45,
   "metadata": {},
   "outputs": [],
   "source": [
    "test_df.family = le.fit_transform(test_df.family)"
   ]
  },
  {
   "cell_type": "code",
   "execution_count": 46,
   "metadata": {},
   "outputs": [
    {
     "data": {
      "text/html": [
       "<div>\n",
       "<style scoped>\n",
       "    .dataframe tbody tr th:only-of-type {\n",
       "        vertical-align: middle;\n",
       "    }\n",
       "\n",
       "    .dataframe tbody tr th {\n",
       "        vertical-align: top;\n",
       "    }\n",
       "\n",
       "    .dataframe thead th {\n",
       "        text-align: right;\n",
       "    }\n",
       "</style>\n",
       "<table border=\"1\" class=\"dataframe\">\n",
       "  <thead>\n",
       "    <tr style=\"text-align: right;\">\n",
       "      <th></th>\n",
       "      <th>id</th>\n",
       "      <th>date</th>\n",
       "      <th>store_nbr</th>\n",
       "      <th>family</th>\n",
       "      <th>onpromotion</th>\n",
       "    </tr>\n",
       "  </thead>\n",
       "  <tbody>\n",
       "    <tr>\n",
       "      <th>0</th>\n",
       "      <td>3000888</td>\n",
       "      <td>2017-08-16</td>\n",
       "      <td>1</td>\n",
       "      <td>0</td>\n",
       "      <td>20.0</td>\n",
       "    </tr>\n",
       "    <tr>\n",
       "      <th>1</th>\n",
       "      <td>3000889</td>\n",
       "      <td>2017-08-16</td>\n",
       "      <td>1</td>\n",
       "      <td>1</td>\n",
       "      <td>1.0</td>\n",
       "    </tr>\n",
       "    <tr>\n",
       "      <th>2</th>\n",
       "      <td>3000890</td>\n",
       "      <td>2017-08-16</td>\n",
       "      <td>1</td>\n",
       "      <td>2</td>\n",
       "      <td>8.0</td>\n",
       "    </tr>\n",
       "    <tr>\n",
       "      <th>3</th>\n",
       "      <td>3000891</td>\n",
       "      <td>2017-08-16</td>\n",
       "      <td>1</td>\n",
       "      <td>3</td>\n",
       "      <td>560.0</td>\n",
       "    </tr>\n",
       "    <tr>\n",
       "      <th>4</th>\n",
       "      <td>3000892</td>\n",
       "      <td>2017-08-16</td>\n",
       "      <td>1</td>\n",
       "      <td>4</td>\n",
       "      <td>1.0</td>\n",
       "    </tr>\n",
       "    <tr>\n",
       "      <th>5</th>\n",
       "      <td>3000893</td>\n",
       "      <td>2017-08-16</td>\n",
       "      <td>1</td>\n",
       "      <td>5</td>\n",
       "      <td>131.0</td>\n",
       "    </tr>\n",
       "    <tr>\n",
       "      <th>6</th>\n",
       "      <td>3000894</td>\n",
       "      <td>2017-08-16</td>\n",
       "      <td>1</td>\n",
       "      <td>6</td>\n",
       "      <td>29.0</td>\n",
       "    </tr>\n",
       "    <tr>\n",
       "      <th>7</th>\n",
       "      <td>3000895</td>\n",
       "      <td>2017-08-16</td>\n",
       "      <td>1</td>\n",
       "      <td>7</td>\n",
       "      <td>438.0</td>\n",
       "    </tr>\n",
       "    <tr>\n",
       "      <th>8</th>\n",
       "      <td>3000896</td>\n",
       "      <td>2017-08-16</td>\n",
       "      <td>1</td>\n",
       "      <td>8</td>\n",
       "      <td>226.0</td>\n",
       "    </tr>\n",
       "    <tr>\n",
       "      <th>9</th>\n",
       "      <td>3000897</td>\n",
       "      <td>2017-08-16</td>\n",
       "      <td>1</td>\n",
       "      <td>9</td>\n",
       "      <td>90.0</td>\n",
       "    </tr>\n",
       "    <tr>\n",
       "      <th>10</th>\n",
       "      <td>3000898</td>\n",
       "      <td>2017-08-16</td>\n",
       "      <td>1</td>\n",
       "      <td>10</td>\n",
       "      <td>41.0</td>\n",
       "    </tr>\n",
       "    <tr>\n",
       "      <th>11</th>\n",
       "      <td>3000899</td>\n",
       "      <td>2017-08-16</td>\n",
       "      <td>1</td>\n",
       "      <td>11</td>\n",
       "      <td>54.0</td>\n",
       "    </tr>\n",
       "    <tr>\n",
       "      <th>12</th>\n",
       "      <td>3000900</td>\n",
       "      <td>2017-08-16</td>\n",
       "      <td>1</td>\n",
       "      <td>12</td>\n",
       "      <td>1277.0</td>\n",
       "    </tr>\n",
       "    <tr>\n",
       "      <th>13</th>\n",
       "      <td>3000901</td>\n",
       "      <td>2017-08-16</td>\n",
       "      <td>1</td>\n",
       "      <td>13</td>\n",
       "      <td>14.0</td>\n",
       "    </tr>\n",
       "    <tr>\n",
       "      <th>14</th>\n",
       "      <td>3000902</td>\n",
       "      <td>2017-08-16</td>\n",
       "      <td>1</td>\n",
       "      <td>14</td>\n",
       "      <td>4.0</td>\n",
       "    </tr>\n",
       "    <tr>\n",
       "      <th>15</th>\n",
       "      <td>3000903</td>\n",
       "      <td>2017-08-16</td>\n",
       "      <td>1</td>\n",
       "      <td>15</td>\n",
       "      <td>75.0</td>\n",
       "    </tr>\n",
       "    <tr>\n",
       "      <th>16</th>\n",
       "      <td>3000904</td>\n",
       "      <td>2017-08-16</td>\n",
       "      <td>1</td>\n",
       "      <td>16</td>\n",
       "      <td>43.0</td>\n",
       "    </tr>\n",
       "    <tr>\n",
       "      <th>17</th>\n",
       "      <td>3000905</td>\n",
       "      <td>2017-08-16</td>\n",
       "      <td>1</td>\n",
       "      <td>17</td>\n",
       "      <td>1.0</td>\n",
       "    </tr>\n",
       "    <tr>\n",
       "      <th>18</th>\n",
       "      <td>3000906</td>\n",
       "      <td>2017-08-16</td>\n",
       "      <td>1</td>\n",
       "      <td>18</td>\n",
       "      <td>105.0</td>\n",
       "    </tr>\n",
       "    <tr>\n",
       "      <th>19</th>\n",
       "      <td>3000907</td>\n",
       "      <td>2017-08-16</td>\n",
       "      <td>1</td>\n",
       "      <td>19</td>\n",
       "      <td>21.0</td>\n",
       "    </tr>\n",
       "  </tbody>\n",
       "</table>\n",
       "</div>"
      ],
      "text/plain": [
       "         id        date  store_nbr  family  onpromotion\n",
       "0   3000888  2017-08-16          1       0         20.0\n",
       "1   3000889  2017-08-16          1       1          1.0\n",
       "2   3000890  2017-08-16          1       2          8.0\n",
       "3   3000891  2017-08-16          1       3        560.0\n",
       "4   3000892  2017-08-16          1       4          1.0\n",
       "5   3000893  2017-08-16          1       5        131.0\n",
       "6   3000894  2017-08-16          1       6         29.0\n",
       "7   3000895  2017-08-16          1       7        438.0\n",
       "8   3000896  2017-08-16          1       8        226.0\n",
       "9   3000897  2017-08-16          1       9         90.0\n",
       "10  3000898  2017-08-16          1      10         41.0\n",
       "11  3000899  2017-08-16          1      11         54.0\n",
       "12  3000900  2017-08-16          1      12       1277.0\n",
       "13  3000901  2017-08-16          1      13         14.0\n",
       "14  3000902  2017-08-16          1      14          4.0\n",
       "15  3000903  2017-08-16          1      15         75.0\n",
       "16  3000904  2017-08-16          1      16         43.0\n",
       "17  3000905  2017-08-16          1      17          1.0\n",
       "18  3000906  2017-08-16          1      18        105.0\n",
       "19  3000907  2017-08-16          1      19         21.0"
      ]
     },
     "execution_count": 46,
     "metadata": {},
     "output_type": "execute_result"
    }
   ],
   "source": [
    "test_df.head(20)"
   ]
  },
  {
   "cell_type": "code",
   "execution_count": 47,
   "metadata": {},
   "outputs": [
    {
     "data": {
      "text/plain": [
       "(28512, 3)"
      ]
     },
     "execution_count": 47,
     "metadata": {},
     "output_type": "execute_result"
    }
   ],
   "source": [
    "X = test_df.drop([\"id\", \"date\"], axis=1).values\n",
    "X.shape"
   ]
  },
  {
   "cell_type": "code",
   "execution_count": 48,
   "metadata": {},
   "outputs": [
    {
     "data": {
      "text/plain": [
       "array([ 1.,  0., 20.])"
      ]
     },
     "execution_count": 48,
     "metadata": {},
     "output_type": "execute_result"
    }
   ],
   "source": [
    "X[0]\n"
   ]
  },
  {
   "cell_type": "code",
   "execution_count": 49,
   "metadata": {},
   "outputs": [],
   "source": [
    "predictions = regressor.predict(X)"
   ]
  },
  {
   "cell_type": "code",
   "execution_count": 50,
   "metadata": {},
   "outputs": [],
   "source": [
    "test_df['sales'] = predictions"
   ]
  },
  {
   "cell_type": "code",
   "execution_count": 51,
   "metadata": {},
   "outputs": [
    {
     "data": {
      "text/html": [
       "<div>\n",
       "<style scoped>\n",
       "    .dataframe tbody tr th:only-of-type {\n",
       "        vertical-align: middle;\n",
       "    }\n",
       "\n",
       "    .dataframe tbody tr th {\n",
       "        vertical-align: top;\n",
       "    }\n",
       "\n",
       "    .dataframe thead th {\n",
       "        text-align: right;\n",
       "    }\n",
       "</style>\n",
       "<table border=\"1\" class=\"dataframe\">\n",
       "  <thead>\n",
       "    <tr style=\"text-align: right;\">\n",
       "      <th></th>\n",
       "      <th>id</th>\n",
       "      <th>date</th>\n",
       "      <th>store_nbr</th>\n",
       "      <th>family</th>\n",
       "      <th>onpromotion</th>\n",
       "      <th>sales</th>\n",
       "    </tr>\n",
       "  </thead>\n",
       "  <tbody>\n",
       "    <tr>\n",
       "      <th>0</th>\n",
       "      <td>3000888</td>\n",
       "      <td>2017-08-16</td>\n",
       "      <td>1</td>\n",
       "      <td>0</td>\n",
       "      <td>20.0</td>\n",
       "      <td>101.266370</td>\n",
       "    </tr>\n",
       "    <tr>\n",
       "      <th>1</th>\n",
       "      <td>3000889</td>\n",
       "      <td>2017-08-16</td>\n",
       "      <td>1</td>\n",
       "      <td>1</td>\n",
       "      <td>1.0</td>\n",
       "      <td>101.266370</td>\n",
       "    </tr>\n",
       "    <tr>\n",
       "      <th>2</th>\n",
       "      <td>3000890</td>\n",
       "      <td>2017-08-16</td>\n",
       "      <td>1</td>\n",
       "      <td>2</td>\n",
       "      <td>8.0</td>\n",
       "      <td>101.266370</td>\n",
       "    </tr>\n",
       "    <tr>\n",
       "      <th>3</th>\n",
       "      <td>3000891</td>\n",
       "      <td>2017-08-16</td>\n",
       "      <td>1</td>\n",
       "      <td>3</td>\n",
       "      <td>560.0</td>\n",
       "      <td>9384.554231</td>\n",
       "    </tr>\n",
       "    <tr>\n",
       "      <th>4</th>\n",
       "      <td>3000892</td>\n",
       "      <td>2017-08-16</td>\n",
       "      <td>1</td>\n",
       "      <td>4</td>\n",
       "      <td>1.0</td>\n",
       "      <td>101.266370</td>\n",
       "    </tr>\n",
       "    <tr>\n",
       "      <th>...</th>\n",
       "      <td>...</td>\n",
       "      <td>...</td>\n",
       "      <td>...</td>\n",
       "      <td>...</td>\n",
       "      <td>...</td>\n",
       "      <td>...</td>\n",
       "    </tr>\n",
       "    <tr>\n",
       "      <th>28507</th>\n",
       "      <td>3029395</td>\n",
       "      <td>2017-08-31</td>\n",
       "      <td>9</td>\n",
       "      <td>28</td>\n",
       "      <td>54.0</td>\n",
       "      <td>378.102689</td>\n",
       "    </tr>\n",
       "    <tr>\n",
       "      <th>28508</th>\n",
       "      <td>3029396</td>\n",
       "      <td>2017-08-31</td>\n",
       "      <td>9</td>\n",
       "      <td>29</td>\n",
       "      <td>10.0</td>\n",
       "      <td>101.266370</td>\n",
       "    </tr>\n",
       "    <tr>\n",
       "      <th>28509</th>\n",
       "      <td>3029397</td>\n",
       "      <td>2017-08-31</td>\n",
       "      <td>9</td>\n",
       "      <td>30</td>\n",
       "      <td>302.0</td>\n",
       "      <td>2900.078084</td>\n",
       "    </tr>\n",
       "    <tr>\n",
       "      <th>28510</th>\n",
       "      <td>3029398</td>\n",
       "      <td>2017-08-31</td>\n",
       "      <td>9</td>\n",
       "      <td>31</td>\n",
       "      <td>15.0</td>\n",
       "      <td>101.266370</td>\n",
       "    </tr>\n",
       "    <tr>\n",
       "      <th>28511</th>\n",
       "      <td>3029399</td>\n",
       "      <td>2017-08-31</td>\n",
       "      <td>9</td>\n",
       "      <td>32</td>\n",
       "      <td>8.0</td>\n",
       "      <td>101.266370</td>\n",
       "    </tr>\n",
       "  </tbody>\n",
       "</table>\n",
       "<p>28512 rows × 6 columns</p>\n",
       "</div>"
      ],
      "text/plain": [
       "            id        date  store_nbr  family  onpromotion        sales\n",
       "0      3000888  2017-08-16          1       0         20.0   101.266370\n",
       "1      3000889  2017-08-16          1       1          1.0   101.266370\n",
       "2      3000890  2017-08-16          1       2          8.0   101.266370\n",
       "3      3000891  2017-08-16          1       3        560.0  9384.554231\n",
       "4      3000892  2017-08-16          1       4          1.0   101.266370\n",
       "...        ...         ...        ...     ...          ...          ...\n",
       "28507  3029395  2017-08-31          9      28         54.0   378.102689\n",
       "28508  3029396  2017-08-31          9      29         10.0   101.266370\n",
       "28509  3029397  2017-08-31          9      30        302.0  2900.078084\n",
       "28510  3029398  2017-08-31          9      31         15.0   101.266370\n",
       "28511  3029399  2017-08-31          9      32          8.0   101.266370\n",
       "\n",
       "[28512 rows x 6 columns]"
      ]
     },
     "execution_count": 51,
     "metadata": {},
     "output_type": "execute_result"
    }
   ],
   "source": [
    "test_df.head(28512)"
   ]
  },
  {
   "cell_type": "code",
   "execution_count": 52,
   "metadata": {},
   "outputs": [
    {
     "name": "stdout",
     "output_type": "stream",
     "text": [
      "submission successed\n"
     ]
    }
   ],
   "source": [
    "test_df.to_csv('DecisionTreeSubmission.csv', index=False)\n",
    "print(\"submission successed\")"
   ]
  },
  {
   "cell_type": "code",
   "execution_count": 53,
   "metadata": {},
   "outputs": [],
   "source": [
    "import xgboost as xg"
   ]
  },
  {
   "cell_type": "code",
   "execution_count": 54,
   "metadata": {},
   "outputs": [],
   "source": [
    "xgb_r = xg.XGBRegressor(objective ='reg:linear',\n",
    "                  n_estimators = 10, seed = 123, max_depth=10)"
   ]
  },
  {
   "cell_type": "code",
   "execution_count": 55,
   "metadata": {},
   "outputs": [
    {
     "name": "stdout",
     "output_type": "stream",
     "text": [
      "[00:01:49] WARNING: C:/Users/Administrator/workspace/xgboost-win64_release_1.5.0/src/objective/regression_obj.cu:188: reg:linear is now deprecated in favor of reg:squarederror.\n"
     ]
    },
    {
     "data": {
      "text/plain": [
       "XGBRegressor(base_score=0.5, booster='gbtree', colsample_bylevel=1,\n",
       "             colsample_bynode=1, colsample_bytree=1, enable_categorical=False,\n",
       "             gamma=0, gpu_id=-1, importance_type=None,\n",
       "             interaction_constraints='', learning_rate=0.300000012,\n",
       "             max_delta_step=0, max_depth=10, min_child_weight=1, missing=nan,\n",
       "             monotone_constraints='()', n_estimators=10, n_jobs=4,\n",
       "             num_parallel_tree=1, objective='reg:linear', predictor='auto',\n",
       "             random_state=123, reg_alpha=0, reg_lambda=1, scale_pos_weight=1,\n",
       "             seed=123, subsample=1, tree_method='exact', validate_parameters=1,\n",
       "             verbosity=None)"
      ]
     },
     "execution_count": 55,
     "metadata": {},
     "output_type": "execute_result"
    }
   ],
   "source": [
    "xgb_r.fit(X_train, y_train)"
   ]
  },
  {
   "cell_type": "code",
   "execution_count": 56,
   "metadata": {},
   "outputs": [
    {
     "data": {
      "text/plain": [
       "0.8867356645038273"
      ]
     },
     "execution_count": 56,
     "metadata": {},
     "output_type": "execute_result"
    }
   ],
   "source": [
    "xgb_r.score(X_test, y_test)"
   ]
  },
  {
   "cell_type": "code",
   "execution_count": 57,
   "metadata": {},
   "outputs": [
    {
     "data": {
      "text/plain": [
       "0.8967767660521007"
      ]
     },
     "execution_count": 57,
     "metadata": {},
     "output_type": "execute_result"
    }
   ],
   "source": [
    "xgb_r.score(X_train, y_train)"
   ]
  },
  {
   "cell_type": "code",
   "execution_count": 58,
   "metadata": {},
   "outputs": [],
   "source": [
    "test_df.family = le.fit_transform(test_df.family)"
   ]
  },
  {
   "cell_type": "code",
   "execution_count": 59,
   "metadata": {},
   "outputs": [
    {
     "data": {
      "text/html": [
       "<div>\n",
       "<style scoped>\n",
       "    .dataframe tbody tr th:only-of-type {\n",
       "        vertical-align: middle;\n",
       "    }\n",
       "\n",
       "    .dataframe tbody tr th {\n",
       "        vertical-align: top;\n",
       "    }\n",
       "\n",
       "    .dataframe thead th {\n",
       "        text-align: right;\n",
       "    }\n",
       "</style>\n",
       "<table border=\"1\" class=\"dataframe\">\n",
       "  <thead>\n",
       "    <tr style=\"text-align: right;\">\n",
       "      <th></th>\n",
       "      <th>id</th>\n",
       "      <th>date</th>\n",
       "      <th>store_nbr</th>\n",
       "      <th>family</th>\n",
       "      <th>onpromotion</th>\n",
       "      <th>sales</th>\n",
       "    </tr>\n",
       "  </thead>\n",
       "  <tbody>\n",
       "    <tr>\n",
       "      <th>0</th>\n",
       "      <td>3000888</td>\n",
       "      <td>2017-08-16</td>\n",
       "      <td>1</td>\n",
       "      <td>0</td>\n",
       "      <td>20.0</td>\n",
       "      <td>101.266370</td>\n",
       "    </tr>\n",
       "    <tr>\n",
       "      <th>1</th>\n",
       "      <td>3000889</td>\n",
       "      <td>2017-08-16</td>\n",
       "      <td>1</td>\n",
       "      <td>1</td>\n",
       "      <td>1.0</td>\n",
       "      <td>101.266370</td>\n",
       "    </tr>\n",
       "    <tr>\n",
       "      <th>2</th>\n",
       "      <td>3000890</td>\n",
       "      <td>2017-08-16</td>\n",
       "      <td>1</td>\n",
       "      <td>2</td>\n",
       "      <td>8.0</td>\n",
       "      <td>101.266370</td>\n",
       "    </tr>\n",
       "    <tr>\n",
       "      <th>3</th>\n",
       "      <td>3000891</td>\n",
       "      <td>2017-08-16</td>\n",
       "      <td>1</td>\n",
       "      <td>3</td>\n",
       "      <td>560.0</td>\n",
       "      <td>9384.554231</td>\n",
       "    </tr>\n",
       "    <tr>\n",
       "      <th>4</th>\n",
       "      <td>3000892</td>\n",
       "      <td>2017-08-16</td>\n",
       "      <td>1</td>\n",
       "      <td>4</td>\n",
       "      <td>1.0</td>\n",
       "      <td>101.266370</td>\n",
       "    </tr>\n",
       "    <tr>\n",
       "      <th>5</th>\n",
       "      <td>3000893</td>\n",
       "      <td>2017-08-16</td>\n",
       "      <td>1</td>\n",
       "      <td>5</td>\n",
       "      <td>131.0</td>\n",
       "      <td>940.080276</td>\n",
       "    </tr>\n",
       "    <tr>\n",
       "      <th>6</th>\n",
       "      <td>3000894</td>\n",
       "      <td>2017-08-16</td>\n",
       "      <td>1</td>\n",
       "      <td>6</td>\n",
       "      <td>29.0</td>\n",
       "      <td>378.102689</td>\n",
       "    </tr>\n",
       "    <tr>\n",
       "      <th>7</th>\n",
       "      <td>3000895</td>\n",
       "      <td>2017-08-16</td>\n",
       "      <td>1</td>\n",
       "      <td>7</td>\n",
       "      <td>438.0</td>\n",
       "      <td>2900.078084</td>\n",
       "    </tr>\n",
       "    <tr>\n",
       "      <th>8</th>\n",
       "      <td>3000896</td>\n",
       "      <td>2017-08-16</td>\n",
       "      <td>1</td>\n",
       "      <td>8</td>\n",
       "      <td>226.0</td>\n",
       "      <td>1617.399146</td>\n",
       "    </tr>\n",
       "    <tr>\n",
       "      <th>9</th>\n",
       "      <td>3000897</td>\n",
       "      <td>2017-08-16</td>\n",
       "      <td>1</td>\n",
       "      <td>9</td>\n",
       "      <td>90.0</td>\n",
       "      <td>940.080276</td>\n",
       "    </tr>\n",
       "    <tr>\n",
       "      <th>10</th>\n",
       "      <td>3000898</td>\n",
       "      <td>2017-08-16</td>\n",
       "      <td>1</td>\n",
       "      <td>10</td>\n",
       "      <td>41.0</td>\n",
       "      <td>378.102689</td>\n",
       "    </tr>\n",
       "    <tr>\n",
       "      <th>11</th>\n",
       "      <td>3000899</td>\n",
       "      <td>2017-08-16</td>\n",
       "      <td>1</td>\n",
       "      <td>11</td>\n",
       "      <td>54.0</td>\n",
       "      <td>378.102689</td>\n",
       "    </tr>\n",
       "    <tr>\n",
       "      <th>12</th>\n",
       "      <td>3000900</td>\n",
       "      <td>2017-08-16</td>\n",
       "      <td>1</td>\n",
       "      <td>12</td>\n",
       "      <td>1277.0</td>\n",
       "      <td>10041.858970</td>\n",
       "    </tr>\n",
       "    <tr>\n",
       "      <th>13</th>\n",
       "      <td>3000901</td>\n",
       "      <td>2017-08-16</td>\n",
       "      <td>1</td>\n",
       "      <td>13</td>\n",
       "      <td>14.0</td>\n",
       "      <td>101.266370</td>\n",
       "    </tr>\n",
       "    <tr>\n",
       "      <th>14</th>\n",
       "      <td>3000902</td>\n",
       "      <td>2017-08-16</td>\n",
       "      <td>1</td>\n",
       "      <td>14</td>\n",
       "      <td>4.0</td>\n",
       "      <td>101.266370</td>\n",
       "    </tr>\n",
       "    <tr>\n",
       "      <th>15</th>\n",
       "      <td>3000903</td>\n",
       "      <td>2017-08-16</td>\n",
       "      <td>1</td>\n",
       "      <td>15</td>\n",
       "      <td>75.0</td>\n",
       "      <td>940.080276</td>\n",
       "    </tr>\n",
       "    <tr>\n",
       "      <th>16</th>\n",
       "      <td>3000904</td>\n",
       "      <td>2017-08-16</td>\n",
       "      <td>1</td>\n",
       "      <td>16</td>\n",
       "      <td>43.0</td>\n",
       "      <td>378.102689</td>\n",
       "    </tr>\n",
       "    <tr>\n",
       "      <th>17</th>\n",
       "      <td>3000905</td>\n",
       "      <td>2017-08-16</td>\n",
       "      <td>1</td>\n",
       "      <td>17</td>\n",
       "      <td>1.0</td>\n",
       "      <td>101.266370</td>\n",
       "    </tr>\n",
       "    <tr>\n",
       "      <th>18</th>\n",
       "      <td>3000906</td>\n",
       "      <td>2017-08-16</td>\n",
       "      <td>1</td>\n",
       "      <td>18</td>\n",
       "      <td>105.0</td>\n",
       "      <td>940.080276</td>\n",
       "    </tr>\n",
       "    <tr>\n",
       "      <th>19</th>\n",
       "      <td>3000907</td>\n",
       "      <td>2017-08-16</td>\n",
       "      <td>1</td>\n",
       "      <td>19</td>\n",
       "      <td>21.0</td>\n",
       "      <td>101.266370</td>\n",
       "    </tr>\n",
       "  </tbody>\n",
       "</table>\n",
       "</div>"
      ],
      "text/plain": [
       "         id        date  store_nbr  family  onpromotion         sales\n",
       "0   3000888  2017-08-16          1       0         20.0    101.266370\n",
       "1   3000889  2017-08-16          1       1          1.0    101.266370\n",
       "2   3000890  2017-08-16          1       2          8.0    101.266370\n",
       "3   3000891  2017-08-16          1       3        560.0   9384.554231\n",
       "4   3000892  2017-08-16          1       4          1.0    101.266370\n",
       "5   3000893  2017-08-16          1       5        131.0    940.080276\n",
       "6   3000894  2017-08-16          1       6         29.0    378.102689\n",
       "7   3000895  2017-08-16          1       7        438.0   2900.078084\n",
       "8   3000896  2017-08-16          1       8        226.0   1617.399146\n",
       "9   3000897  2017-08-16          1       9         90.0    940.080276\n",
       "10  3000898  2017-08-16          1      10         41.0    378.102689\n",
       "11  3000899  2017-08-16          1      11         54.0    378.102689\n",
       "12  3000900  2017-08-16          1      12       1277.0  10041.858970\n",
       "13  3000901  2017-08-16          1      13         14.0    101.266370\n",
       "14  3000902  2017-08-16          1      14          4.0    101.266370\n",
       "15  3000903  2017-08-16          1      15         75.0    940.080276\n",
       "16  3000904  2017-08-16          1      16         43.0    378.102689\n",
       "17  3000905  2017-08-16          1      17          1.0    101.266370\n",
       "18  3000906  2017-08-16          1      18        105.0    940.080276\n",
       "19  3000907  2017-08-16          1      19         21.0    101.266370"
      ]
     },
     "execution_count": 59,
     "metadata": {},
     "output_type": "execute_result"
    }
   ],
   "source": [
    "test_df.head(20)"
   ]
  },
  {
   "cell_type": "code",
   "execution_count": 60,
   "metadata": {},
   "outputs": [
    {
     "data": {
      "text/plain": [
       "(28512, 4)"
      ]
     },
     "execution_count": 60,
     "metadata": {},
     "output_type": "execute_result"
    }
   ],
   "source": [
    "X = test_df.drop([\"id\", \"date\"], axis=1).values\n",
    "X.shape"
   ]
  },
  {
   "cell_type": "code",
   "execution_count": 61,
   "metadata": {},
   "outputs": [
    {
     "data": {
      "text/plain": [
       "array([  1.        ,   0.        ,  20.        , 101.26637027])"
      ]
     },
     "execution_count": 61,
     "metadata": {},
     "output_type": "execute_result"
    }
   ],
   "source": [
    "X[0]"
   ]
  },
  {
   "cell_type": "code",
   "execution_count": 62,
   "metadata": {},
   "outputs": [],
   "source": [
    "test_df['sales'] = predictions"
   ]
  },
  {
   "cell_type": "code",
   "execution_count": 63,
   "metadata": {},
   "outputs": [
    {
     "data": {
      "text/html": [
       "<div>\n",
       "<style scoped>\n",
       "    .dataframe tbody tr th:only-of-type {\n",
       "        vertical-align: middle;\n",
       "    }\n",
       "\n",
       "    .dataframe tbody tr th {\n",
       "        vertical-align: top;\n",
       "    }\n",
       "\n",
       "    .dataframe thead th {\n",
       "        text-align: right;\n",
       "    }\n",
       "</style>\n",
       "<table border=\"1\" class=\"dataframe\">\n",
       "  <thead>\n",
       "    <tr style=\"text-align: right;\">\n",
       "      <th></th>\n",
       "      <th>id</th>\n",
       "      <th>date</th>\n",
       "      <th>store_nbr</th>\n",
       "      <th>family</th>\n",
       "      <th>onpromotion</th>\n",
       "      <th>sales</th>\n",
       "    </tr>\n",
       "  </thead>\n",
       "  <tbody>\n",
       "    <tr>\n",
       "      <th>0</th>\n",
       "      <td>3000888</td>\n",
       "      <td>2017-08-16</td>\n",
       "      <td>1</td>\n",
       "      <td>0</td>\n",
       "      <td>20.0</td>\n",
       "      <td>101.266370</td>\n",
       "    </tr>\n",
       "    <tr>\n",
       "      <th>1</th>\n",
       "      <td>3000889</td>\n",
       "      <td>2017-08-16</td>\n",
       "      <td>1</td>\n",
       "      <td>1</td>\n",
       "      <td>1.0</td>\n",
       "      <td>101.266370</td>\n",
       "    </tr>\n",
       "    <tr>\n",
       "      <th>2</th>\n",
       "      <td>3000890</td>\n",
       "      <td>2017-08-16</td>\n",
       "      <td>1</td>\n",
       "      <td>2</td>\n",
       "      <td>8.0</td>\n",
       "      <td>101.266370</td>\n",
       "    </tr>\n",
       "    <tr>\n",
       "      <th>3</th>\n",
       "      <td>3000891</td>\n",
       "      <td>2017-08-16</td>\n",
       "      <td>1</td>\n",
       "      <td>3</td>\n",
       "      <td>560.0</td>\n",
       "      <td>9384.554231</td>\n",
       "    </tr>\n",
       "    <tr>\n",
       "      <th>4</th>\n",
       "      <td>3000892</td>\n",
       "      <td>2017-08-16</td>\n",
       "      <td>1</td>\n",
       "      <td>4</td>\n",
       "      <td>1.0</td>\n",
       "      <td>101.266370</td>\n",
       "    </tr>\n",
       "    <tr>\n",
       "      <th>...</th>\n",
       "      <td>...</td>\n",
       "      <td>...</td>\n",
       "      <td>...</td>\n",
       "      <td>...</td>\n",
       "      <td>...</td>\n",
       "      <td>...</td>\n",
       "    </tr>\n",
       "    <tr>\n",
       "      <th>195</th>\n",
       "      <td>3001083</td>\n",
       "      <td>2017-08-16</td>\n",
       "      <td>14</td>\n",
       "      <td>30</td>\n",
       "      <td>302.0</td>\n",
       "      <td>2900.078084</td>\n",
       "    </tr>\n",
       "    <tr>\n",
       "      <th>196</th>\n",
       "      <td>3001084</td>\n",
       "      <td>2017-08-16</td>\n",
       "      <td>14</td>\n",
       "      <td>31</td>\n",
       "      <td>15.0</td>\n",
       "      <td>101.266370</td>\n",
       "    </tr>\n",
       "    <tr>\n",
       "      <th>197</th>\n",
       "      <td>3001085</td>\n",
       "      <td>2017-08-16</td>\n",
       "      <td>14</td>\n",
       "      <td>32</td>\n",
       "      <td>8.0</td>\n",
       "      <td>101.266370</td>\n",
       "    </tr>\n",
       "    <tr>\n",
       "      <th>198</th>\n",
       "      <td>3001086</td>\n",
       "      <td>2017-08-16</td>\n",
       "      <td>15</td>\n",
       "      <td>0</td>\n",
       "      <td>20.0</td>\n",
       "      <td>101.266370</td>\n",
       "    </tr>\n",
       "    <tr>\n",
       "      <th>199</th>\n",
       "      <td>3001087</td>\n",
       "      <td>2017-08-16</td>\n",
       "      <td>15</td>\n",
       "      <td>1</td>\n",
       "      <td>1.0</td>\n",
       "      <td>101.266370</td>\n",
       "    </tr>\n",
       "  </tbody>\n",
       "</table>\n",
       "<p>200 rows × 6 columns</p>\n",
       "</div>"
      ],
      "text/plain": [
       "          id        date  store_nbr  family  onpromotion        sales\n",
       "0    3000888  2017-08-16          1       0         20.0   101.266370\n",
       "1    3000889  2017-08-16          1       1          1.0   101.266370\n",
       "2    3000890  2017-08-16          1       2          8.0   101.266370\n",
       "3    3000891  2017-08-16          1       3        560.0  9384.554231\n",
       "4    3000892  2017-08-16          1       4          1.0   101.266370\n",
       "..       ...         ...        ...     ...          ...          ...\n",
       "195  3001083  2017-08-16         14      30        302.0  2900.078084\n",
       "196  3001084  2017-08-16         14      31         15.0   101.266370\n",
       "197  3001085  2017-08-16         14      32          8.0   101.266370\n",
       "198  3001086  2017-08-16         15       0         20.0   101.266370\n",
       "199  3001087  2017-08-16         15       1          1.0   101.266370\n",
       "\n",
       "[200 rows x 6 columns]"
      ]
     },
     "execution_count": 63,
     "metadata": {},
     "output_type": "execute_result"
    }
   ],
   "source": [
    "test_df.head(200)"
   ]
  },
  {
   "cell_type": "code",
   "execution_count": 64,
   "metadata": {},
   "outputs": [
    {
     "name": "stdout",
     "output_type": "stream",
     "text": [
      "submission successed\n"
     ]
    }
   ],
   "source": [
    "test_df.to_csv('XGBOOSTsubmission.csv', index=False)\n",
    "print(\"submission successed\")"
   ]
  },
  {
   "cell_type": "code",
   "execution_count": 65,
   "metadata": {},
   "outputs": [
    {
     "data": {
      "application/vnd.plotly.v1+json": {
       "config": {
        "plotlyServerURL": "https://plot.ly"
       },
       "data": [
        {
         "fill": "tozeroy",
         "fillcolor": "#FAA831",
         "line": {
          "color": "#bA6800"
         },
         "mode": "lines+markers",
         "type": "scatter",
         "x": [
          0,
          1,
          2,
          3,
          4,
          5,
          6,
          7,
          8,
          9,
          10,
          11,
          12,
          13,
          14,
          15,
          16,
          17,
          18,
          19,
          20,
          21,
          22,
          23,
          24,
          25,
          26,
          27,
          28,
          29,
          30,
          31,
          32
         ],
         "y": [
          101.2663702707556,
          101.2663702707556,
          101.2663702707556,
          9384.554230550999,
          101.2663702707556,
          940.080276258087,
          378.1026886509721,
          2900.0780844218193,
          1617.3991464760666,
          940.080276258087,
          378.1026886509721,
          378.1026886509721,
          10041.858970414118,
          101.2663702707556,
          101.2663702707556,
          940.080276258087,
          378.1026886509721,
          101.2663702707556,
          940.080276258087,
          101.2663702707556,
          101.2663702707556,
          101.2663702707556,
          378.1026886509721,
          101.2663702707556,
          940.080276258087,
          940.080276258087,
          101.2663702707556,
          101.2663702707556,
          378.1026886509721,
          101.2663702707556,
          2900.0780844218193,
          101.2663702707556,
          101.2663702707556
         ]
        }
       ],
       "layout": {
        "font": {
         "color": "white",
         "size": 12
        },
        "height": 300,
        "paper_bgcolor": "#232425",
        "plot_bgcolor": "#232425",
        "template": {
         "data": {
          "bar": [
           {
            "error_x": {
             "color": "#2a3f5f"
            },
            "error_y": {
             "color": "#2a3f5f"
            },
            "marker": {
             "line": {
              "color": "#E5ECF6",
              "width": 0.5
             },
             "pattern": {
              "fillmode": "overlay",
              "size": 10,
              "solidity": 0.2
             }
            },
            "type": "bar"
           }
          ],
          "barpolar": [
           {
            "marker": {
             "line": {
              "color": "#E5ECF6",
              "width": 0.5
             },
             "pattern": {
              "fillmode": "overlay",
              "size": 10,
              "solidity": 0.2
             }
            },
            "type": "barpolar"
           }
          ],
          "carpet": [
           {
            "aaxis": {
             "endlinecolor": "#2a3f5f",
             "gridcolor": "white",
             "linecolor": "white",
             "minorgridcolor": "white",
             "startlinecolor": "#2a3f5f"
            },
            "baxis": {
             "endlinecolor": "#2a3f5f",
             "gridcolor": "white",
             "linecolor": "white",
             "minorgridcolor": "white",
             "startlinecolor": "#2a3f5f"
            },
            "type": "carpet"
           }
          ],
          "choropleth": [
           {
            "colorbar": {
             "outlinewidth": 0,
             "ticks": ""
            },
            "type": "choropleth"
           }
          ],
          "contour": [
           {
            "colorbar": {
             "outlinewidth": 0,
             "ticks": ""
            },
            "colorscale": [
             [
              0,
              "#0d0887"
             ],
             [
              0.1111111111111111,
              "#46039f"
             ],
             [
              0.2222222222222222,
              "#7201a8"
             ],
             [
              0.3333333333333333,
              "#9c179e"
             ],
             [
              0.4444444444444444,
              "#bd3786"
             ],
             [
              0.5555555555555556,
              "#d8576b"
             ],
             [
              0.6666666666666666,
              "#ed7953"
             ],
             [
              0.7777777777777778,
              "#fb9f3a"
             ],
             [
              0.8888888888888888,
              "#fdca26"
             ],
             [
              1,
              "#f0f921"
             ]
            ],
            "type": "contour"
           }
          ],
          "contourcarpet": [
           {
            "colorbar": {
             "outlinewidth": 0,
             "ticks": ""
            },
            "type": "contourcarpet"
           }
          ],
          "heatmap": [
           {
            "colorbar": {
             "outlinewidth": 0,
             "ticks": ""
            },
            "colorscale": [
             [
              0,
              "#0d0887"
             ],
             [
              0.1111111111111111,
              "#46039f"
             ],
             [
              0.2222222222222222,
              "#7201a8"
             ],
             [
              0.3333333333333333,
              "#9c179e"
             ],
             [
              0.4444444444444444,
              "#bd3786"
             ],
             [
              0.5555555555555556,
              "#d8576b"
             ],
             [
              0.6666666666666666,
              "#ed7953"
             ],
             [
              0.7777777777777778,
              "#fb9f3a"
             ],
             [
              0.8888888888888888,
              "#fdca26"
             ],
             [
              1,
              "#f0f921"
             ]
            ],
            "type": "heatmap"
           }
          ],
          "heatmapgl": [
           {
            "colorbar": {
             "outlinewidth": 0,
             "ticks": ""
            },
            "colorscale": [
             [
              0,
              "#0d0887"
             ],
             [
              0.1111111111111111,
              "#46039f"
             ],
             [
              0.2222222222222222,
              "#7201a8"
             ],
             [
              0.3333333333333333,
              "#9c179e"
             ],
             [
              0.4444444444444444,
              "#bd3786"
             ],
             [
              0.5555555555555556,
              "#d8576b"
             ],
             [
              0.6666666666666666,
              "#ed7953"
             ],
             [
              0.7777777777777778,
              "#fb9f3a"
             ],
             [
              0.8888888888888888,
              "#fdca26"
             ],
             [
              1,
              "#f0f921"
             ]
            ],
            "type": "heatmapgl"
           }
          ],
          "histogram": [
           {
            "marker": {
             "pattern": {
              "fillmode": "overlay",
              "size": 10,
              "solidity": 0.2
             }
            },
            "type": "histogram"
           }
          ],
          "histogram2d": [
           {
            "colorbar": {
             "outlinewidth": 0,
             "ticks": ""
            },
            "colorscale": [
             [
              0,
              "#0d0887"
             ],
             [
              0.1111111111111111,
              "#46039f"
             ],
             [
              0.2222222222222222,
              "#7201a8"
             ],
             [
              0.3333333333333333,
              "#9c179e"
             ],
             [
              0.4444444444444444,
              "#bd3786"
             ],
             [
              0.5555555555555556,
              "#d8576b"
             ],
             [
              0.6666666666666666,
              "#ed7953"
             ],
             [
              0.7777777777777778,
              "#fb9f3a"
             ],
             [
              0.8888888888888888,
              "#fdca26"
             ],
             [
              1,
              "#f0f921"
             ]
            ],
            "type": "histogram2d"
           }
          ],
          "histogram2dcontour": [
           {
            "colorbar": {
             "outlinewidth": 0,
             "ticks": ""
            },
            "colorscale": [
             [
              0,
              "#0d0887"
             ],
             [
              0.1111111111111111,
              "#46039f"
             ],
             [
              0.2222222222222222,
              "#7201a8"
             ],
             [
              0.3333333333333333,
              "#9c179e"
             ],
             [
              0.4444444444444444,
              "#bd3786"
             ],
             [
              0.5555555555555556,
              "#d8576b"
             ],
             [
              0.6666666666666666,
              "#ed7953"
             ],
             [
              0.7777777777777778,
              "#fb9f3a"
             ],
             [
              0.8888888888888888,
              "#fdca26"
             ],
             [
              1,
              "#f0f921"
             ]
            ],
            "type": "histogram2dcontour"
           }
          ],
          "mesh3d": [
           {
            "colorbar": {
             "outlinewidth": 0,
             "ticks": ""
            },
            "type": "mesh3d"
           }
          ],
          "parcoords": [
           {
            "line": {
             "colorbar": {
              "outlinewidth": 0,
              "ticks": ""
             }
            },
            "type": "parcoords"
           }
          ],
          "pie": [
           {
            "automargin": true,
            "type": "pie"
           }
          ],
          "scatter": [
           {
            "marker": {
             "colorbar": {
              "outlinewidth": 0,
              "ticks": ""
             }
            },
            "type": "scatter"
           }
          ],
          "scatter3d": [
           {
            "line": {
             "colorbar": {
              "outlinewidth": 0,
              "ticks": ""
             }
            },
            "marker": {
             "colorbar": {
              "outlinewidth": 0,
              "ticks": ""
             }
            },
            "type": "scatter3d"
           }
          ],
          "scattercarpet": [
           {
            "marker": {
             "colorbar": {
              "outlinewidth": 0,
              "ticks": ""
             }
            },
            "type": "scattercarpet"
           }
          ],
          "scattergeo": [
           {
            "marker": {
             "colorbar": {
              "outlinewidth": 0,
              "ticks": ""
             }
            },
            "type": "scattergeo"
           }
          ],
          "scattergl": [
           {
            "marker": {
             "colorbar": {
              "outlinewidth": 0,
              "ticks": ""
             }
            },
            "type": "scattergl"
           }
          ],
          "scattermapbox": [
           {
            "marker": {
             "colorbar": {
              "outlinewidth": 0,
              "ticks": ""
             }
            },
            "type": "scattermapbox"
           }
          ],
          "scatterpolar": [
           {
            "marker": {
             "colorbar": {
              "outlinewidth": 0,
              "ticks": ""
             }
            },
            "type": "scatterpolar"
           }
          ],
          "scatterpolargl": [
           {
            "marker": {
             "colorbar": {
              "outlinewidth": 0,
              "ticks": ""
             }
            },
            "type": "scatterpolargl"
           }
          ],
          "scatterternary": [
           {
            "marker": {
             "colorbar": {
              "outlinewidth": 0,
              "ticks": ""
             }
            },
            "type": "scatterternary"
           }
          ],
          "surface": [
           {
            "colorbar": {
             "outlinewidth": 0,
             "ticks": ""
            },
            "colorscale": [
             [
              0,
              "#0d0887"
             ],
             [
              0.1111111111111111,
              "#46039f"
             ],
             [
              0.2222222222222222,
              "#7201a8"
             ],
             [
              0.3333333333333333,
              "#9c179e"
             ],
             [
              0.4444444444444444,
              "#bd3786"
             ],
             [
              0.5555555555555556,
              "#d8576b"
             ],
             [
              0.6666666666666666,
              "#ed7953"
             ],
             [
              0.7777777777777778,
              "#fb9f3a"
             ],
             [
              0.8888888888888888,
              "#fdca26"
             ],
             [
              1,
              "#f0f921"
             ]
            ],
            "type": "surface"
           }
          ],
          "table": [
           {
            "cells": {
             "fill": {
              "color": "#EBF0F8"
             },
             "line": {
              "color": "white"
             }
            },
            "header": {
             "fill": {
              "color": "#C8D4E3"
             },
             "line": {
              "color": "white"
             }
            },
            "type": "table"
           }
          ]
         },
         "layout": {
          "annotationdefaults": {
           "arrowcolor": "#2a3f5f",
           "arrowhead": 0,
           "arrowwidth": 1
          },
          "autotypenumbers": "strict",
          "coloraxis": {
           "colorbar": {
            "outlinewidth": 0,
            "ticks": ""
           }
          },
          "colorscale": {
           "diverging": [
            [
             0,
             "#8e0152"
            ],
            [
             0.1,
             "#c51b7d"
            ],
            [
             0.2,
             "#de77ae"
            ],
            [
             0.3,
             "#f1b6da"
            ],
            [
             0.4,
             "#fde0ef"
            ],
            [
             0.5,
             "#f7f7f7"
            ],
            [
             0.6,
             "#e6f5d0"
            ],
            [
             0.7,
             "#b8e186"
            ],
            [
             0.8,
             "#7fbc41"
            ],
            [
             0.9,
             "#4d9221"
            ],
            [
             1,
             "#276419"
            ]
           ],
           "sequential": [
            [
             0,
             "#0d0887"
            ],
            [
             0.1111111111111111,
             "#46039f"
            ],
            [
             0.2222222222222222,
             "#7201a8"
            ],
            [
             0.3333333333333333,
             "#9c179e"
            ],
            [
             0.4444444444444444,
             "#bd3786"
            ],
            [
             0.5555555555555556,
             "#d8576b"
            ],
            [
             0.6666666666666666,
             "#ed7953"
            ],
            [
             0.7777777777777778,
             "#fb9f3a"
            ],
            [
             0.8888888888888888,
             "#fdca26"
            ],
            [
             1,
             "#f0f921"
            ]
           ],
           "sequentialminus": [
            [
             0,
             "#0d0887"
            ],
            [
             0.1111111111111111,
             "#46039f"
            ],
            [
             0.2222222222222222,
             "#7201a8"
            ],
            [
             0.3333333333333333,
             "#9c179e"
            ],
            [
             0.4444444444444444,
             "#bd3786"
            ],
            [
             0.5555555555555556,
             "#d8576b"
            ],
            [
             0.6666666666666666,
             "#ed7953"
            ],
            [
             0.7777777777777778,
             "#fb9f3a"
            ],
            [
             0.8888888888888888,
             "#fdca26"
            ],
            [
             1,
             "#f0f921"
            ]
           ]
          },
          "colorway": [
           "#636efa",
           "#EF553B",
           "#00cc96",
           "#ab63fa",
           "#FFA15A",
           "#19d3f3",
           "#FF6692",
           "#B6E880",
           "#FF97FF",
           "#FECB52"
          ],
          "font": {
           "color": "#2a3f5f"
          },
          "geo": {
           "bgcolor": "white",
           "lakecolor": "white",
           "landcolor": "#E5ECF6",
           "showlakes": true,
           "showland": true,
           "subunitcolor": "white"
          },
          "hoverlabel": {
           "align": "left"
          },
          "hovermode": "closest",
          "mapbox": {
           "style": "light"
          },
          "paper_bgcolor": "white",
          "plot_bgcolor": "#E5ECF6",
          "polar": {
           "angularaxis": {
            "gridcolor": "white",
            "linecolor": "white",
            "ticks": ""
           },
           "bgcolor": "#E5ECF6",
           "radialaxis": {
            "gridcolor": "white",
            "linecolor": "white",
            "ticks": ""
           }
          },
          "scene": {
           "xaxis": {
            "backgroundcolor": "#E5ECF6",
            "gridcolor": "white",
            "gridwidth": 2,
            "linecolor": "white",
            "showbackground": true,
            "ticks": "",
            "zerolinecolor": "white"
           },
           "yaxis": {
            "backgroundcolor": "#E5ECF6",
            "gridcolor": "white",
            "gridwidth": 2,
            "linecolor": "white",
            "showbackground": true,
            "ticks": "",
            "zerolinecolor": "white"
           },
           "zaxis": {
            "backgroundcolor": "#E5ECF6",
            "gridcolor": "white",
            "gridwidth": 2,
            "linecolor": "white",
            "showbackground": true,
            "ticks": "",
            "zerolinecolor": "white"
           }
          },
          "shapedefaults": {
           "line": {
            "color": "#2a3f5f"
           }
          },
          "ternary": {
           "aaxis": {
            "gridcolor": "white",
            "linecolor": "white",
            "ticks": ""
           },
           "baxis": {
            "gridcolor": "white",
            "linecolor": "white",
            "ticks": ""
           },
           "bgcolor": "#E5ECF6",
           "caxis": {
            "gridcolor": "white",
            "linecolor": "white",
            "ticks": ""
           }
          },
          "title": {
           "x": 0.05
          },
          "xaxis": {
           "automargin": true,
           "gridcolor": "white",
           "linecolor": "white",
           "ticks": "",
           "title": {
            "standoff": 15
           },
           "zerolinecolor": "white",
           "zerolinewidth": 2
          },
          "yaxis": {
           "automargin": true,
           "gridcolor": "white",
           "linecolor": "white",
           "ticks": "",
           "title": {
            "standoff": 15
           },
           "zerolinecolor": "white",
           "zerolinewidth": 2
          }
         }
        },
        "title": {
         "text": "XGBOOST Algoritmasına göre -Ürün Kategorisine Göre Ortalama Satış Adedi"
        },
        "xaxis": {
         "showgrid": false,
         "tickmode": "array",
         "tickvals": [
          0,
          1,
          2,
          3,
          4,
          5,
          6,
          7,
          8,
          9,
          10,
          11,
          12,
          13,
          14,
          15,
          16,
          17,
          18,
          19,
          20,
          21,
          22,
          23,
          24,
          25,
          26,
          27,
          28,
          29,
          30,
          31,
          32
         ]
        },
        "yaxis": {
         "showgrid": false
        }
       }
      },
      "text/html": [
       "<div>                            <div id=\"27fee904-aa53-4785-b388-c24bfcfdf253\" class=\"plotly-graph-div\" style=\"height:300px; width:100%;\"></div>            <script type=\"text/javascript\">                require([\"plotly\"], function(Plotly) {                    window.PLOTLYENV=window.PLOTLYENV || {};                                    if (document.getElementById(\"27fee904-aa53-4785-b388-c24bfcfdf253\")) {                    Plotly.newPlot(                        \"27fee904-aa53-4785-b388-c24bfcfdf253\",                        [{\"fill\":\"tozeroy\",\"fillcolor\":\"#FAA831\",\"line\":{\"color\":\"#bA6800\"},\"mode\":\"lines+markers\",\"type\":\"scatter\",\"x\":[0,1,2,3,4,5,6,7,8,9,10,11,12,13,14,15,16,17,18,19,20,21,22,23,24,25,26,27,28,29,30,31,32],\"y\":[101.2663702707556,101.2663702707556,101.2663702707556,9384.554230550999,101.2663702707556,940.080276258087,378.1026886509721,2900.0780844218193,1617.3991464760666,940.080276258087,378.1026886509721,378.1026886509721,10041.858970414118,101.2663702707556,101.2663702707556,940.080276258087,378.1026886509721,101.2663702707556,940.080276258087,101.2663702707556,101.2663702707556,101.2663702707556,378.1026886509721,101.2663702707556,940.080276258087,940.080276258087,101.2663702707556,101.2663702707556,378.1026886509721,101.2663702707556,2900.0780844218193,101.2663702707556,101.2663702707556]}],                        {\"font\":{\"color\":\"white\",\"size\":12},\"height\":300,\"paper_bgcolor\":\"#232425\",\"plot_bgcolor\":\"#232425\",\"template\":{\"data\":{\"bar\":[{\"error_x\":{\"color\":\"#2a3f5f\"},\"error_y\":{\"color\":\"#2a3f5f\"},\"marker\":{\"line\":{\"color\":\"#E5ECF6\",\"width\":0.5},\"pattern\":{\"fillmode\":\"overlay\",\"size\":10,\"solidity\":0.2}},\"type\":\"bar\"}],\"barpolar\":[{\"marker\":{\"line\":{\"color\":\"#E5ECF6\",\"width\":0.5},\"pattern\":{\"fillmode\":\"overlay\",\"size\":10,\"solidity\":0.2}},\"type\":\"barpolar\"}],\"carpet\":[{\"aaxis\":{\"endlinecolor\":\"#2a3f5f\",\"gridcolor\":\"white\",\"linecolor\":\"white\",\"minorgridcolor\":\"white\",\"startlinecolor\":\"#2a3f5f\"},\"baxis\":{\"endlinecolor\":\"#2a3f5f\",\"gridcolor\":\"white\",\"linecolor\":\"white\",\"minorgridcolor\":\"white\",\"startlinecolor\":\"#2a3f5f\"},\"type\":\"carpet\"}],\"choropleth\":[{\"colorbar\":{\"outlinewidth\":0,\"ticks\":\"\"},\"type\":\"choropleth\"}],\"contour\":[{\"colorbar\":{\"outlinewidth\":0,\"ticks\":\"\"},\"colorscale\":[[0.0,\"#0d0887\"],[0.1111111111111111,\"#46039f\"],[0.2222222222222222,\"#7201a8\"],[0.3333333333333333,\"#9c179e\"],[0.4444444444444444,\"#bd3786\"],[0.5555555555555556,\"#d8576b\"],[0.6666666666666666,\"#ed7953\"],[0.7777777777777778,\"#fb9f3a\"],[0.8888888888888888,\"#fdca26\"],[1.0,\"#f0f921\"]],\"type\":\"contour\"}],\"contourcarpet\":[{\"colorbar\":{\"outlinewidth\":0,\"ticks\":\"\"},\"type\":\"contourcarpet\"}],\"heatmap\":[{\"colorbar\":{\"outlinewidth\":0,\"ticks\":\"\"},\"colorscale\":[[0.0,\"#0d0887\"],[0.1111111111111111,\"#46039f\"],[0.2222222222222222,\"#7201a8\"],[0.3333333333333333,\"#9c179e\"],[0.4444444444444444,\"#bd3786\"],[0.5555555555555556,\"#d8576b\"],[0.6666666666666666,\"#ed7953\"],[0.7777777777777778,\"#fb9f3a\"],[0.8888888888888888,\"#fdca26\"],[1.0,\"#f0f921\"]],\"type\":\"heatmap\"}],\"heatmapgl\":[{\"colorbar\":{\"outlinewidth\":0,\"ticks\":\"\"},\"colorscale\":[[0.0,\"#0d0887\"],[0.1111111111111111,\"#46039f\"],[0.2222222222222222,\"#7201a8\"],[0.3333333333333333,\"#9c179e\"],[0.4444444444444444,\"#bd3786\"],[0.5555555555555556,\"#d8576b\"],[0.6666666666666666,\"#ed7953\"],[0.7777777777777778,\"#fb9f3a\"],[0.8888888888888888,\"#fdca26\"],[1.0,\"#f0f921\"]],\"type\":\"heatmapgl\"}],\"histogram\":[{\"marker\":{\"pattern\":{\"fillmode\":\"overlay\",\"size\":10,\"solidity\":0.2}},\"type\":\"histogram\"}],\"histogram2d\":[{\"colorbar\":{\"outlinewidth\":0,\"ticks\":\"\"},\"colorscale\":[[0.0,\"#0d0887\"],[0.1111111111111111,\"#46039f\"],[0.2222222222222222,\"#7201a8\"],[0.3333333333333333,\"#9c179e\"],[0.4444444444444444,\"#bd3786\"],[0.5555555555555556,\"#d8576b\"],[0.6666666666666666,\"#ed7953\"],[0.7777777777777778,\"#fb9f3a\"],[0.8888888888888888,\"#fdca26\"],[1.0,\"#f0f921\"]],\"type\":\"histogram2d\"}],\"histogram2dcontour\":[{\"colorbar\":{\"outlinewidth\":0,\"ticks\":\"\"},\"colorscale\":[[0.0,\"#0d0887\"],[0.1111111111111111,\"#46039f\"],[0.2222222222222222,\"#7201a8\"],[0.3333333333333333,\"#9c179e\"],[0.4444444444444444,\"#bd3786\"],[0.5555555555555556,\"#d8576b\"],[0.6666666666666666,\"#ed7953\"],[0.7777777777777778,\"#fb9f3a\"],[0.8888888888888888,\"#fdca26\"],[1.0,\"#f0f921\"]],\"type\":\"histogram2dcontour\"}],\"mesh3d\":[{\"colorbar\":{\"outlinewidth\":0,\"ticks\":\"\"},\"type\":\"mesh3d\"}],\"parcoords\":[{\"line\":{\"colorbar\":{\"outlinewidth\":0,\"ticks\":\"\"}},\"type\":\"parcoords\"}],\"pie\":[{\"automargin\":true,\"type\":\"pie\"}],\"scatter\":[{\"marker\":{\"colorbar\":{\"outlinewidth\":0,\"ticks\":\"\"}},\"type\":\"scatter\"}],\"scatter3d\":[{\"line\":{\"colorbar\":{\"outlinewidth\":0,\"ticks\":\"\"}},\"marker\":{\"colorbar\":{\"outlinewidth\":0,\"ticks\":\"\"}},\"type\":\"scatter3d\"}],\"scattercarpet\":[{\"marker\":{\"colorbar\":{\"outlinewidth\":0,\"ticks\":\"\"}},\"type\":\"scattercarpet\"}],\"scattergeo\":[{\"marker\":{\"colorbar\":{\"outlinewidth\":0,\"ticks\":\"\"}},\"type\":\"scattergeo\"}],\"scattergl\":[{\"marker\":{\"colorbar\":{\"outlinewidth\":0,\"ticks\":\"\"}},\"type\":\"scattergl\"}],\"scattermapbox\":[{\"marker\":{\"colorbar\":{\"outlinewidth\":0,\"ticks\":\"\"}},\"type\":\"scattermapbox\"}],\"scatterpolar\":[{\"marker\":{\"colorbar\":{\"outlinewidth\":0,\"ticks\":\"\"}},\"type\":\"scatterpolar\"}],\"scatterpolargl\":[{\"marker\":{\"colorbar\":{\"outlinewidth\":0,\"ticks\":\"\"}},\"type\":\"scatterpolargl\"}],\"scatterternary\":[{\"marker\":{\"colorbar\":{\"outlinewidth\":0,\"ticks\":\"\"}},\"type\":\"scatterternary\"}],\"surface\":[{\"colorbar\":{\"outlinewidth\":0,\"ticks\":\"\"},\"colorscale\":[[0.0,\"#0d0887\"],[0.1111111111111111,\"#46039f\"],[0.2222222222222222,\"#7201a8\"],[0.3333333333333333,\"#9c179e\"],[0.4444444444444444,\"#bd3786\"],[0.5555555555555556,\"#d8576b\"],[0.6666666666666666,\"#ed7953\"],[0.7777777777777778,\"#fb9f3a\"],[0.8888888888888888,\"#fdca26\"],[1.0,\"#f0f921\"]],\"type\":\"surface\"}],\"table\":[{\"cells\":{\"fill\":{\"color\":\"#EBF0F8\"},\"line\":{\"color\":\"white\"}},\"header\":{\"fill\":{\"color\":\"#C8D4E3\"},\"line\":{\"color\":\"white\"}},\"type\":\"table\"}]},\"layout\":{\"annotationdefaults\":{\"arrowcolor\":\"#2a3f5f\",\"arrowhead\":0,\"arrowwidth\":1},\"autotypenumbers\":\"strict\",\"coloraxis\":{\"colorbar\":{\"outlinewidth\":0,\"ticks\":\"\"}},\"colorscale\":{\"diverging\":[[0,\"#8e0152\"],[0.1,\"#c51b7d\"],[0.2,\"#de77ae\"],[0.3,\"#f1b6da\"],[0.4,\"#fde0ef\"],[0.5,\"#f7f7f7\"],[0.6,\"#e6f5d0\"],[0.7,\"#b8e186\"],[0.8,\"#7fbc41\"],[0.9,\"#4d9221\"],[1,\"#276419\"]],\"sequential\":[[0.0,\"#0d0887\"],[0.1111111111111111,\"#46039f\"],[0.2222222222222222,\"#7201a8\"],[0.3333333333333333,\"#9c179e\"],[0.4444444444444444,\"#bd3786\"],[0.5555555555555556,\"#d8576b\"],[0.6666666666666666,\"#ed7953\"],[0.7777777777777778,\"#fb9f3a\"],[0.8888888888888888,\"#fdca26\"],[1.0,\"#f0f921\"]],\"sequentialminus\":[[0.0,\"#0d0887\"],[0.1111111111111111,\"#46039f\"],[0.2222222222222222,\"#7201a8\"],[0.3333333333333333,\"#9c179e\"],[0.4444444444444444,\"#bd3786\"],[0.5555555555555556,\"#d8576b\"],[0.6666666666666666,\"#ed7953\"],[0.7777777777777778,\"#fb9f3a\"],[0.8888888888888888,\"#fdca26\"],[1.0,\"#f0f921\"]]},\"colorway\":[\"#636efa\",\"#EF553B\",\"#00cc96\",\"#ab63fa\",\"#FFA15A\",\"#19d3f3\",\"#FF6692\",\"#B6E880\",\"#FF97FF\",\"#FECB52\"],\"font\":{\"color\":\"#2a3f5f\"},\"geo\":{\"bgcolor\":\"white\",\"lakecolor\":\"white\",\"landcolor\":\"#E5ECF6\",\"showlakes\":true,\"showland\":true,\"subunitcolor\":\"white\"},\"hoverlabel\":{\"align\":\"left\"},\"hovermode\":\"closest\",\"mapbox\":{\"style\":\"light\"},\"paper_bgcolor\":\"white\",\"plot_bgcolor\":\"#E5ECF6\",\"polar\":{\"angularaxis\":{\"gridcolor\":\"white\",\"linecolor\":\"white\",\"ticks\":\"\"},\"bgcolor\":\"#E5ECF6\",\"radialaxis\":{\"gridcolor\":\"white\",\"linecolor\":\"white\",\"ticks\":\"\"}},\"scene\":{\"xaxis\":{\"backgroundcolor\":\"#E5ECF6\",\"gridcolor\":\"white\",\"gridwidth\":2,\"linecolor\":\"white\",\"showbackground\":true,\"ticks\":\"\",\"zerolinecolor\":\"white\"},\"yaxis\":{\"backgroundcolor\":\"#E5ECF6\",\"gridcolor\":\"white\",\"gridwidth\":2,\"linecolor\":\"white\",\"showbackground\":true,\"ticks\":\"\",\"zerolinecolor\":\"white\"},\"zaxis\":{\"backgroundcolor\":\"#E5ECF6\",\"gridcolor\":\"white\",\"gridwidth\":2,\"linecolor\":\"white\",\"showbackground\":true,\"ticks\":\"\",\"zerolinecolor\":\"white\"}},\"shapedefaults\":{\"line\":{\"color\":\"#2a3f5f\"}},\"ternary\":{\"aaxis\":{\"gridcolor\":\"white\",\"linecolor\":\"white\",\"ticks\":\"\"},\"baxis\":{\"gridcolor\":\"white\",\"linecolor\":\"white\",\"ticks\":\"\"},\"bgcolor\":\"#E5ECF6\",\"caxis\":{\"gridcolor\":\"white\",\"linecolor\":\"white\",\"ticks\":\"\"}},\"title\":{\"x\":0.05},\"xaxis\":{\"automargin\":true,\"gridcolor\":\"white\",\"linecolor\":\"white\",\"ticks\":\"\",\"title\":{\"standoff\":15},\"zerolinecolor\":\"white\",\"zerolinewidth\":2},\"yaxis\":{\"automargin\":true,\"gridcolor\":\"white\",\"linecolor\":\"white\",\"ticks\":\"\",\"title\":{\"standoff\":15},\"zerolinecolor\":\"white\",\"zerolinewidth\":2}}},\"title\":{\"text\":\"XGBOOST Algoritmas\\u0131na g\\u00f6re -\\u00dcr\\u00fcn Kategorisine G\\u00f6re Ortalama Sat\\u0131\\u015f Adedi\"},\"xaxis\":{\"showgrid\":false,\"tickmode\":\"array\",\"tickvals\":[0,1,2,3,4,5,6,7,8,9,10,11,12,13,14,15,16,17,18,19,20,21,22,23,24,25,26,27,28,29,30,31,32]},\"yaxis\":{\"showgrid\":false}},                        {\"responsive\": true}                    ).then(function(){\n",
       "                            \n",
       "var gd = document.getElementById('27fee904-aa53-4785-b388-c24bfcfdf253');\n",
       "var x = new MutationObserver(function (mutations, observer) {{\n",
       "        var display = window.getComputedStyle(gd).display;\n",
       "        if (!display || display === 'none') {{\n",
       "            console.log([gd, 'removed!']);\n",
       "            Plotly.purge(gd);\n",
       "            observer.disconnect();\n",
       "        }}\n",
       "}});\n",
       "\n",
       "// Listen for the removal of the full notebook cells\n",
       "var notebookContainer = gd.closest('#notebook-container');\n",
       "if (notebookContainer) {{\n",
       "    x.observe(notebookContainer, {childList: true});\n",
       "}}\n",
       "\n",
       "// Listen for the clearing of the current output cell\n",
       "var outputEl = gd.closest('.output');\n",
       "if (outputEl) {{\n",
       "    x.observe(outputEl, {childList: true});\n",
       "}}\n",
       "\n",
       "                        })                };                });            </script>        </div>"
      ]
     },
     "metadata": {},
     "output_type": "display_data"
    }
   ],
   "source": [
    "df_mon_sa = test_df.groupby('family').agg({\"sales\" : \"mean\"}).reset_index()\n",
    "fig12 = go.Figure(data=[go.Scatter(x=df_mon_sa['family'], y=df_mon_sa['sales'], fill='tozeroy', fillcolor='#FAA831', line_color='#bA6800'\n",
    "                                  ,mode='lines+markers')])\n",
    "\n",
    "\n",
    "fig12.update_layout(title_text='XGBOOST Algoritmasına göre -Ürün Kategorisine Göre Ortalama Satış Adedi',height=300,paper_bgcolor='#232425',plot_bgcolor='#232425',\n",
    "                font=dict(\n",
    "                size=12,\n",
    "                color='white'))\n",
    "fig12.update_yaxes(showgrid=False)\n",
    "fig12.update_xaxes(showgrid=False,tickmode = 'array', tickvals=df_mon_sa.family)"
   ]
  },
  {
   "cell_type": "code",
   "execution_count": 66,
   "metadata": {},
   "outputs": [],
   "source": [
    "test_df['date'] = pd.to_datetime(test_df['date'])\n",
    "test_df['year'] = test_df['date'].dt.year\n",
    "test_df['month'] = test_df['date'].dt.month\n",
    "test_df['week'] = test_df['date'].dt.isocalendar().week\n",
    "test_df['quarter'] = test_df['date'].dt.quarter\n",
    "test_df['day_of_week'] = test_df['date'].dt.day_name()\n",
    "test_df['day'] = test_df['date'].dt.day_name()"
   ]
  },
  {
   "cell_type": "code",
   "execution_count": 67,
   "metadata": {},
   "outputs": [
    {
     "data": {
      "application/vnd.plotly.v1+json": {
       "config": {
        "plotlyServerURL": "https://plot.ly"
       },
       "data": [
        {
         "fill": "tozeroy",
         "fillcolor": "#FAA831",
         "line": {
          "color": "#bA6800"
         },
         "mode": "lines+markers",
         "type": "scatter",
         "x": [
          33,
          34,
          35
         ],
         "y": [
          9820798.622118842,
          13749118.070966598,
          7856638.897695058
         ]
        }
       ],
       "layout": {
        "font": {
         "color": "white",
         "size": 12
        },
        "height": 300,
        "paper_bgcolor": "#232425",
        "plot_bgcolor": "#232425",
        "template": {
         "data": {
          "bar": [
           {
            "error_x": {
             "color": "#2a3f5f"
            },
            "error_y": {
             "color": "#2a3f5f"
            },
            "marker": {
             "line": {
              "color": "#E5ECF6",
              "width": 0.5
             },
             "pattern": {
              "fillmode": "overlay",
              "size": 10,
              "solidity": 0.2
             }
            },
            "type": "bar"
           }
          ],
          "barpolar": [
           {
            "marker": {
             "line": {
              "color": "#E5ECF6",
              "width": 0.5
             },
             "pattern": {
              "fillmode": "overlay",
              "size": 10,
              "solidity": 0.2
             }
            },
            "type": "barpolar"
           }
          ],
          "carpet": [
           {
            "aaxis": {
             "endlinecolor": "#2a3f5f",
             "gridcolor": "white",
             "linecolor": "white",
             "minorgridcolor": "white",
             "startlinecolor": "#2a3f5f"
            },
            "baxis": {
             "endlinecolor": "#2a3f5f",
             "gridcolor": "white",
             "linecolor": "white",
             "minorgridcolor": "white",
             "startlinecolor": "#2a3f5f"
            },
            "type": "carpet"
           }
          ],
          "choropleth": [
           {
            "colorbar": {
             "outlinewidth": 0,
             "ticks": ""
            },
            "type": "choropleth"
           }
          ],
          "contour": [
           {
            "colorbar": {
             "outlinewidth": 0,
             "ticks": ""
            },
            "colorscale": [
             [
              0,
              "#0d0887"
             ],
             [
              0.1111111111111111,
              "#46039f"
             ],
             [
              0.2222222222222222,
              "#7201a8"
             ],
             [
              0.3333333333333333,
              "#9c179e"
             ],
             [
              0.4444444444444444,
              "#bd3786"
             ],
             [
              0.5555555555555556,
              "#d8576b"
             ],
             [
              0.6666666666666666,
              "#ed7953"
             ],
             [
              0.7777777777777778,
              "#fb9f3a"
             ],
             [
              0.8888888888888888,
              "#fdca26"
             ],
             [
              1,
              "#f0f921"
             ]
            ],
            "type": "contour"
           }
          ],
          "contourcarpet": [
           {
            "colorbar": {
             "outlinewidth": 0,
             "ticks": ""
            },
            "type": "contourcarpet"
           }
          ],
          "heatmap": [
           {
            "colorbar": {
             "outlinewidth": 0,
             "ticks": ""
            },
            "colorscale": [
             [
              0,
              "#0d0887"
             ],
             [
              0.1111111111111111,
              "#46039f"
             ],
             [
              0.2222222222222222,
              "#7201a8"
             ],
             [
              0.3333333333333333,
              "#9c179e"
             ],
             [
              0.4444444444444444,
              "#bd3786"
             ],
             [
              0.5555555555555556,
              "#d8576b"
             ],
             [
              0.6666666666666666,
              "#ed7953"
             ],
             [
              0.7777777777777778,
              "#fb9f3a"
             ],
             [
              0.8888888888888888,
              "#fdca26"
             ],
             [
              1,
              "#f0f921"
             ]
            ],
            "type": "heatmap"
           }
          ],
          "heatmapgl": [
           {
            "colorbar": {
             "outlinewidth": 0,
             "ticks": ""
            },
            "colorscale": [
             [
              0,
              "#0d0887"
             ],
             [
              0.1111111111111111,
              "#46039f"
             ],
             [
              0.2222222222222222,
              "#7201a8"
             ],
             [
              0.3333333333333333,
              "#9c179e"
             ],
             [
              0.4444444444444444,
              "#bd3786"
             ],
             [
              0.5555555555555556,
              "#d8576b"
             ],
             [
              0.6666666666666666,
              "#ed7953"
             ],
             [
              0.7777777777777778,
              "#fb9f3a"
             ],
             [
              0.8888888888888888,
              "#fdca26"
             ],
             [
              1,
              "#f0f921"
             ]
            ],
            "type": "heatmapgl"
           }
          ],
          "histogram": [
           {
            "marker": {
             "pattern": {
              "fillmode": "overlay",
              "size": 10,
              "solidity": 0.2
             }
            },
            "type": "histogram"
           }
          ],
          "histogram2d": [
           {
            "colorbar": {
             "outlinewidth": 0,
             "ticks": ""
            },
            "colorscale": [
             [
              0,
              "#0d0887"
             ],
             [
              0.1111111111111111,
              "#46039f"
             ],
             [
              0.2222222222222222,
              "#7201a8"
             ],
             [
              0.3333333333333333,
              "#9c179e"
             ],
             [
              0.4444444444444444,
              "#bd3786"
             ],
             [
              0.5555555555555556,
              "#d8576b"
             ],
             [
              0.6666666666666666,
              "#ed7953"
             ],
             [
              0.7777777777777778,
              "#fb9f3a"
             ],
             [
              0.8888888888888888,
              "#fdca26"
             ],
             [
              1,
              "#f0f921"
             ]
            ],
            "type": "histogram2d"
           }
          ],
          "histogram2dcontour": [
           {
            "colorbar": {
             "outlinewidth": 0,
             "ticks": ""
            },
            "colorscale": [
             [
              0,
              "#0d0887"
             ],
             [
              0.1111111111111111,
              "#46039f"
             ],
             [
              0.2222222222222222,
              "#7201a8"
             ],
             [
              0.3333333333333333,
              "#9c179e"
             ],
             [
              0.4444444444444444,
              "#bd3786"
             ],
             [
              0.5555555555555556,
              "#d8576b"
             ],
             [
              0.6666666666666666,
              "#ed7953"
             ],
             [
              0.7777777777777778,
              "#fb9f3a"
             ],
             [
              0.8888888888888888,
              "#fdca26"
             ],
             [
              1,
              "#f0f921"
             ]
            ],
            "type": "histogram2dcontour"
           }
          ],
          "mesh3d": [
           {
            "colorbar": {
             "outlinewidth": 0,
             "ticks": ""
            },
            "type": "mesh3d"
           }
          ],
          "parcoords": [
           {
            "line": {
             "colorbar": {
              "outlinewidth": 0,
              "ticks": ""
             }
            },
            "type": "parcoords"
           }
          ],
          "pie": [
           {
            "automargin": true,
            "type": "pie"
           }
          ],
          "scatter": [
           {
            "marker": {
             "colorbar": {
              "outlinewidth": 0,
              "ticks": ""
             }
            },
            "type": "scatter"
           }
          ],
          "scatter3d": [
           {
            "line": {
             "colorbar": {
              "outlinewidth": 0,
              "ticks": ""
             }
            },
            "marker": {
             "colorbar": {
              "outlinewidth": 0,
              "ticks": ""
             }
            },
            "type": "scatter3d"
           }
          ],
          "scattercarpet": [
           {
            "marker": {
             "colorbar": {
              "outlinewidth": 0,
              "ticks": ""
             }
            },
            "type": "scattercarpet"
           }
          ],
          "scattergeo": [
           {
            "marker": {
             "colorbar": {
              "outlinewidth": 0,
              "ticks": ""
             }
            },
            "type": "scattergeo"
           }
          ],
          "scattergl": [
           {
            "marker": {
             "colorbar": {
              "outlinewidth": 0,
              "ticks": ""
             }
            },
            "type": "scattergl"
           }
          ],
          "scattermapbox": [
           {
            "marker": {
             "colorbar": {
              "outlinewidth": 0,
              "ticks": ""
             }
            },
            "type": "scattermapbox"
           }
          ],
          "scatterpolar": [
           {
            "marker": {
             "colorbar": {
              "outlinewidth": 0,
              "ticks": ""
             }
            },
            "type": "scatterpolar"
           }
          ],
          "scatterpolargl": [
           {
            "marker": {
             "colorbar": {
              "outlinewidth": 0,
              "ticks": ""
             }
            },
            "type": "scatterpolargl"
           }
          ],
          "scatterternary": [
           {
            "marker": {
             "colorbar": {
              "outlinewidth": 0,
              "ticks": ""
             }
            },
            "type": "scatterternary"
           }
          ],
          "surface": [
           {
            "colorbar": {
             "outlinewidth": 0,
             "ticks": ""
            },
            "colorscale": [
             [
              0,
              "#0d0887"
             ],
             [
              0.1111111111111111,
              "#46039f"
             ],
             [
              0.2222222222222222,
              "#7201a8"
             ],
             [
              0.3333333333333333,
              "#9c179e"
             ],
             [
              0.4444444444444444,
              "#bd3786"
             ],
             [
              0.5555555555555556,
              "#d8576b"
             ],
             [
              0.6666666666666666,
              "#ed7953"
             ],
             [
              0.7777777777777778,
              "#fb9f3a"
             ],
             [
              0.8888888888888888,
              "#fdca26"
             ],
             [
              1,
              "#f0f921"
             ]
            ],
            "type": "surface"
           }
          ],
          "table": [
           {
            "cells": {
             "fill": {
              "color": "#EBF0F8"
             },
             "line": {
              "color": "white"
             }
            },
            "header": {
             "fill": {
              "color": "#C8D4E3"
             },
             "line": {
              "color": "white"
             }
            },
            "type": "table"
           }
          ]
         },
         "layout": {
          "annotationdefaults": {
           "arrowcolor": "#2a3f5f",
           "arrowhead": 0,
           "arrowwidth": 1
          },
          "autotypenumbers": "strict",
          "coloraxis": {
           "colorbar": {
            "outlinewidth": 0,
            "ticks": ""
           }
          },
          "colorscale": {
           "diverging": [
            [
             0,
             "#8e0152"
            ],
            [
             0.1,
             "#c51b7d"
            ],
            [
             0.2,
             "#de77ae"
            ],
            [
             0.3,
             "#f1b6da"
            ],
            [
             0.4,
             "#fde0ef"
            ],
            [
             0.5,
             "#f7f7f7"
            ],
            [
             0.6,
             "#e6f5d0"
            ],
            [
             0.7,
             "#b8e186"
            ],
            [
             0.8,
             "#7fbc41"
            ],
            [
             0.9,
             "#4d9221"
            ],
            [
             1,
             "#276419"
            ]
           ],
           "sequential": [
            [
             0,
             "#0d0887"
            ],
            [
             0.1111111111111111,
             "#46039f"
            ],
            [
             0.2222222222222222,
             "#7201a8"
            ],
            [
             0.3333333333333333,
             "#9c179e"
            ],
            [
             0.4444444444444444,
             "#bd3786"
            ],
            [
             0.5555555555555556,
             "#d8576b"
            ],
            [
             0.6666666666666666,
             "#ed7953"
            ],
            [
             0.7777777777777778,
             "#fb9f3a"
            ],
            [
             0.8888888888888888,
             "#fdca26"
            ],
            [
             1,
             "#f0f921"
            ]
           ],
           "sequentialminus": [
            [
             0,
             "#0d0887"
            ],
            [
             0.1111111111111111,
             "#46039f"
            ],
            [
             0.2222222222222222,
             "#7201a8"
            ],
            [
             0.3333333333333333,
             "#9c179e"
            ],
            [
             0.4444444444444444,
             "#bd3786"
            ],
            [
             0.5555555555555556,
             "#d8576b"
            ],
            [
             0.6666666666666666,
             "#ed7953"
            ],
            [
             0.7777777777777778,
             "#fb9f3a"
            ],
            [
             0.8888888888888888,
             "#fdca26"
            ],
            [
             1,
             "#f0f921"
            ]
           ]
          },
          "colorway": [
           "#636efa",
           "#EF553B",
           "#00cc96",
           "#ab63fa",
           "#FFA15A",
           "#19d3f3",
           "#FF6692",
           "#B6E880",
           "#FF97FF",
           "#FECB52"
          ],
          "font": {
           "color": "#2a3f5f"
          },
          "geo": {
           "bgcolor": "white",
           "lakecolor": "white",
           "landcolor": "#E5ECF6",
           "showlakes": true,
           "showland": true,
           "subunitcolor": "white"
          },
          "hoverlabel": {
           "align": "left"
          },
          "hovermode": "closest",
          "mapbox": {
           "style": "light"
          },
          "paper_bgcolor": "white",
          "plot_bgcolor": "#E5ECF6",
          "polar": {
           "angularaxis": {
            "gridcolor": "white",
            "linecolor": "white",
            "ticks": ""
           },
           "bgcolor": "#E5ECF6",
           "radialaxis": {
            "gridcolor": "white",
            "linecolor": "white",
            "ticks": ""
           }
          },
          "scene": {
           "xaxis": {
            "backgroundcolor": "#E5ECF6",
            "gridcolor": "white",
            "gridwidth": 2,
            "linecolor": "white",
            "showbackground": true,
            "ticks": "",
            "zerolinecolor": "white"
           },
           "yaxis": {
            "backgroundcolor": "#E5ECF6",
            "gridcolor": "white",
            "gridwidth": 2,
            "linecolor": "white",
            "showbackground": true,
            "ticks": "",
            "zerolinecolor": "white"
           },
           "zaxis": {
            "backgroundcolor": "#E5ECF6",
            "gridcolor": "white",
            "gridwidth": 2,
            "linecolor": "white",
            "showbackground": true,
            "ticks": "",
            "zerolinecolor": "white"
           }
          },
          "shapedefaults": {
           "line": {
            "color": "#2a3f5f"
           }
          },
          "ternary": {
           "aaxis": {
            "gridcolor": "white",
            "linecolor": "white",
            "ticks": ""
           },
           "baxis": {
            "gridcolor": "white",
            "linecolor": "white",
            "ticks": ""
           },
           "bgcolor": "#E5ECF6",
           "caxis": {
            "gridcolor": "white",
            "linecolor": "white",
            "ticks": ""
           }
          },
          "title": {
           "x": 0.05
          },
          "xaxis": {
           "automargin": true,
           "gridcolor": "white",
           "linecolor": "white",
           "ticks": "",
           "title": {
            "standoff": 15
           },
           "zerolinecolor": "white",
           "zerolinewidth": 2
          },
          "yaxis": {
           "automargin": true,
           "gridcolor": "white",
           "linecolor": "white",
           "ticks": "",
           "title": {
            "standoff": 15
           },
           "zerolinecolor": "white",
           "zerolinewidth": 2
          }
         }
        },
        "title": {
         "text": "XGBOOST Algoritmasına göre -Hafta bazlı Toplam Satış Adedi"
        },
        "xaxis": {
         "showgrid": false,
         "tickmode": "array",
         "tickvals": [
          33,
          34,
          35
         ]
        },
        "yaxis": {
         "showgrid": false
        }
       }
      },
      "text/html": [
       "<div>                            <div id=\"304ee3fc-749d-4bf8-8644-1b9f3c4b30be\" class=\"plotly-graph-div\" style=\"height:300px; width:100%;\"></div>            <script type=\"text/javascript\">                require([\"plotly\"], function(Plotly) {                    window.PLOTLYENV=window.PLOTLYENV || {};                                    if (document.getElementById(\"304ee3fc-749d-4bf8-8644-1b9f3c4b30be\")) {                    Plotly.newPlot(                        \"304ee3fc-749d-4bf8-8644-1b9f3c4b30be\",                        [{\"fill\":\"tozeroy\",\"fillcolor\":\"#FAA831\",\"line\":{\"color\":\"#bA6800\"},\"mode\":\"lines+markers\",\"type\":\"scatter\",\"x\":[33,34,35],\"y\":[9820798.622118842,13749118.070966598,7856638.897695058]}],                        {\"font\":{\"color\":\"white\",\"size\":12},\"height\":300,\"paper_bgcolor\":\"#232425\",\"plot_bgcolor\":\"#232425\",\"template\":{\"data\":{\"bar\":[{\"error_x\":{\"color\":\"#2a3f5f\"},\"error_y\":{\"color\":\"#2a3f5f\"},\"marker\":{\"line\":{\"color\":\"#E5ECF6\",\"width\":0.5},\"pattern\":{\"fillmode\":\"overlay\",\"size\":10,\"solidity\":0.2}},\"type\":\"bar\"}],\"barpolar\":[{\"marker\":{\"line\":{\"color\":\"#E5ECF6\",\"width\":0.5},\"pattern\":{\"fillmode\":\"overlay\",\"size\":10,\"solidity\":0.2}},\"type\":\"barpolar\"}],\"carpet\":[{\"aaxis\":{\"endlinecolor\":\"#2a3f5f\",\"gridcolor\":\"white\",\"linecolor\":\"white\",\"minorgridcolor\":\"white\",\"startlinecolor\":\"#2a3f5f\"},\"baxis\":{\"endlinecolor\":\"#2a3f5f\",\"gridcolor\":\"white\",\"linecolor\":\"white\",\"minorgridcolor\":\"white\",\"startlinecolor\":\"#2a3f5f\"},\"type\":\"carpet\"}],\"choropleth\":[{\"colorbar\":{\"outlinewidth\":0,\"ticks\":\"\"},\"type\":\"choropleth\"}],\"contour\":[{\"colorbar\":{\"outlinewidth\":0,\"ticks\":\"\"},\"colorscale\":[[0.0,\"#0d0887\"],[0.1111111111111111,\"#46039f\"],[0.2222222222222222,\"#7201a8\"],[0.3333333333333333,\"#9c179e\"],[0.4444444444444444,\"#bd3786\"],[0.5555555555555556,\"#d8576b\"],[0.6666666666666666,\"#ed7953\"],[0.7777777777777778,\"#fb9f3a\"],[0.8888888888888888,\"#fdca26\"],[1.0,\"#f0f921\"]],\"type\":\"contour\"}],\"contourcarpet\":[{\"colorbar\":{\"outlinewidth\":0,\"ticks\":\"\"},\"type\":\"contourcarpet\"}],\"heatmap\":[{\"colorbar\":{\"outlinewidth\":0,\"ticks\":\"\"},\"colorscale\":[[0.0,\"#0d0887\"],[0.1111111111111111,\"#46039f\"],[0.2222222222222222,\"#7201a8\"],[0.3333333333333333,\"#9c179e\"],[0.4444444444444444,\"#bd3786\"],[0.5555555555555556,\"#d8576b\"],[0.6666666666666666,\"#ed7953\"],[0.7777777777777778,\"#fb9f3a\"],[0.8888888888888888,\"#fdca26\"],[1.0,\"#f0f921\"]],\"type\":\"heatmap\"}],\"heatmapgl\":[{\"colorbar\":{\"outlinewidth\":0,\"ticks\":\"\"},\"colorscale\":[[0.0,\"#0d0887\"],[0.1111111111111111,\"#46039f\"],[0.2222222222222222,\"#7201a8\"],[0.3333333333333333,\"#9c179e\"],[0.4444444444444444,\"#bd3786\"],[0.5555555555555556,\"#d8576b\"],[0.6666666666666666,\"#ed7953\"],[0.7777777777777778,\"#fb9f3a\"],[0.8888888888888888,\"#fdca26\"],[1.0,\"#f0f921\"]],\"type\":\"heatmapgl\"}],\"histogram\":[{\"marker\":{\"pattern\":{\"fillmode\":\"overlay\",\"size\":10,\"solidity\":0.2}},\"type\":\"histogram\"}],\"histogram2d\":[{\"colorbar\":{\"outlinewidth\":0,\"ticks\":\"\"},\"colorscale\":[[0.0,\"#0d0887\"],[0.1111111111111111,\"#46039f\"],[0.2222222222222222,\"#7201a8\"],[0.3333333333333333,\"#9c179e\"],[0.4444444444444444,\"#bd3786\"],[0.5555555555555556,\"#d8576b\"],[0.6666666666666666,\"#ed7953\"],[0.7777777777777778,\"#fb9f3a\"],[0.8888888888888888,\"#fdca26\"],[1.0,\"#f0f921\"]],\"type\":\"histogram2d\"}],\"histogram2dcontour\":[{\"colorbar\":{\"outlinewidth\":0,\"ticks\":\"\"},\"colorscale\":[[0.0,\"#0d0887\"],[0.1111111111111111,\"#46039f\"],[0.2222222222222222,\"#7201a8\"],[0.3333333333333333,\"#9c179e\"],[0.4444444444444444,\"#bd3786\"],[0.5555555555555556,\"#d8576b\"],[0.6666666666666666,\"#ed7953\"],[0.7777777777777778,\"#fb9f3a\"],[0.8888888888888888,\"#fdca26\"],[1.0,\"#f0f921\"]],\"type\":\"histogram2dcontour\"}],\"mesh3d\":[{\"colorbar\":{\"outlinewidth\":0,\"ticks\":\"\"},\"type\":\"mesh3d\"}],\"parcoords\":[{\"line\":{\"colorbar\":{\"outlinewidth\":0,\"ticks\":\"\"}},\"type\":\"parcoords\"}],\"pie\":[{\"automargin\":true,\"type\":\"pie\"}],\"scatter\":[{\"marker\":{\"colorbar\":{\"outlinewidth\":0,\"ticks\":\"\"}},\"type\":\"scatter\"}],\"scatter3d\":[{\"line\":{\"colorbar\":{\"outlinewidth\":0,\"ticks\":\"\"}},\"marker\":{\"colorbar\":{\"outlinewidth\":0,\"ticks\":\"\"}},\"type\":\"scatter3d\"}],\"scattercarpet\":[{\"marker\":{\"colorbar\":{\"outlinewidth\":0,\"ticks\":\"\"}},\"type\":\"scattercarpet\"}],\"scattergeo\":[{\"marker\":{\"colorbar\":{\"outlinewidth\":0,\"ticks\":\"\"}},\"type\":\"scattergeo\"}],\"scattergl\":[{\"marker\":{\"colorbar\":{\"outlinewidth\":0,\"ticks\":\"\"}},\"type\":\"scattergl\"}],\"scattermapbox\":[{\"marker\":{\"colorbar\":{\"outlinewidth\":0,\"ticks\":\"\"}},\"type\":\"scattermapbox\"}],\"scatterpolar\":[{\"marker\":{\"colorbar\":{\"outlinewidth\":0,\"ticks\":\"\"}},\"type\":\"scatterpolar\"}],\"scatterpolargl\":[{\"marker\":{\"colorbar\":{\"outlinewidth\":0,\"ticks\":\"\"}},\"type\":\"scatterpolargl\"}],\"scatterternary\":[{\"marker\":{\"colorbar\":{\"outlinewidth\":0,\"ticks\":\"\"}},\"type\":\"scatterternary\"}],\"surface\":[{\"colorbar\":{\"outlinewidth\":0,\"ticks\":\"\"},\"colorscale\":[[0.0,\"#0d0887\"],[0.1111111111111111,\"#46039f\"],[0.2222222222222222,\"#7201a8\"],[0.3333333333333333,\"#9c179e\"],[0.4444444444444444,\"#bd3786\"],[0.5555555555555556,\"#d8576b\"],[0.6666666666666666,\"#ed7953\"],[0.7777777777777778,\"#fb9f3a\"],[0.8888888888888888,\"#fdca26\"],[1.0,\"#f0f921\"]],\"type\":\"surface\"}],\"table\":[{\"cells\":{\"fill\":{\"color\":\"#EBF0F8\"},\"line\":{\"color\":\"white\"}},\"header\":{\"fill\":{\"color\":\"#C8D4E3\"},\"line\":{\"color\":\"white\"}},\"type\":\"table\"}]},\"layout\":{\"annotationdefaults\":{\"arrowcolor\":\"#2a3f5f\",\"arrowhead\":0,\"arrowwidth\":1},\"autotypenumbers\":\"strict\",\"coloraxis\":{\"colorbar\":{\"outlinewidth\":0,\"ticks\":\"\"}},\"colorscale\":{\"diverging\":[[0,\"#8e0152\"],[0.1,\"#c51b7d\"],[0.2,\"#de77ae\"],[0.3,\"#f1b6da\"],[0.4,\"#fde0ef\"],[0.5,\"#f7f7f7\"],[0.6,\"#e6f5d0\"],[0.7,\"#b8e186\"],[0.8,\"#7fbc41\"],[0.9,\"#4d9221\"],[1,\"#276419\"]],\"sequential\":[[0.0,\"#0d0887\"],[0.1111111111111111,\"#46039f\"],[0.2222222222222222,\"#7201a8\"],[0.3333333333333333,\"#9c179e\"],[0.4444444444444444,\"#bd3786\"],[0.5555555555555556,\"#d8576b\"],[0.6666666666666666,\"#ed7953\"],[0.7777777777777778,\"#fb9f3a\"],[0.8888888888888888,\"#fdca26\"],[1.0,\"#f0f921\"]],\"sequentialminus\":[[0.0,\"#0d0887\"],[0.1111111111111111,\"#46039f\"],[0.2222222222222222,\"#7201a8\"],[0.3333333333333333,\"#9c179e\"],[0.4444444444444444,\"#bd3786\"],[0.5555555555555556,\"#d8576b\"],[0.6666666666666666,\"#ed7953\"],[0.7777777777777778,\"#fb9f3a\"],[0.8888888888888888,\"#fdca26\"],[1.0,\"#f0f921\"]]},\"colorway\":[\"#636efa\",\"#EF553B\",\"#00cc96\",\"#ab63fa\",\"#FFA15A\",\"#19d3f3\",\"#FF6692\",\"#B6E880\",\"#FF97FF\",\"#FECB52\"],\"font\":{\"color\":\"#2a3f5f\"},\"geo\":{\"bgcolor\":\"white\",\"lakecolor\":\"white\",\"landcolor\":\"#E5ECF6\",\"showlakes\":true,\"showland\":true,\"subunitcolor\":\"white\"},\"hoverlabel\":{\"align\":\"left\"},\"hovermode\":\"closest\",\"mapbox\":{\"style\":\"light\"},\"paper_bgcolor\":\"white\",\"plot_bgcolor\":\"#E5ECF6\",\"polar\":{\"angularaxis\":{\"gridcolor\":\"white\",\"linecolor\":\"white\",\"ticks\":\"\"},\"bgcolor\":\"#E5ECF6\",\"radialaxis\":{\"gridcolor\":\"white\",\"linecolor\":\"white\",\"ticks\":\"\"}},\"scene\":{\"xaxis\":{\"backgroundcolor\":\"#E5ECF6\",\"gridcolor\":\"white\",\"gridwidth\":2,\"linecolor\":\"white\",\"showbackground\":true,\"ticks\":\"\",\"zerolinecolor\":\"white\"},\"yaxis\":{\"backgroundcolor\":\"#E5ECF6\",\"gridcolor\":\"white\",\"gridwidth\":2,\"linecolor\":\"white\",\"showbackground\":true,\"ticks\":\"\",\"zerolinecolor\":\"white\"},\"zaxis\":{\"backgroundcolor\":\"#E5ECF6\",\"gridcolor\":\"white\",\"gridwidth\":2,\"linecolor\":\"white\",\"showbackground\":true,\"ticks\":\"\",\"zerolinecolor\":\"white\"}},\"shapedefaults\":{\"line\":{\"color\":\"#2a3f5f\"}},\"ternary\":{\"aaxis\":{\"gridcolor\":\"white\",\"linecolor\":\"white\",\"ticks\":\"\"},\"baxis\":{\"gridcolor\":\"white\",\"linecolor\":\"white\",\"ticks\":\"\"},\"bgcolor\":\"#E5ECF6\",\"caxis\":{\"gridcolor\":\"white\",\"linecolor\":\"white\",\"ticks\":\"\"}},\"title\":{\"x\":0.05},\"xaxis\":{\"automargin\":true,\"gridcolor\":\"white\",\"linecolor\":\"white\",\"ticks\":\"\",\"title\":{\"standoff\":15},\"zerolinecolor\":\"white\",\"zerolinewidth\":2},\"yaxis\":{\"automargin\":true,\"gridcolor\":\"white\",\"linecolor\":\"white\",\"ticks\":\"\",\"title\":{\"standoff\":15},\"zerolinecolor\":\"white\",\"zerolinewidth\":2}}},\"title\":{\"text\":\"XGBOOST Algoritmas\\u0131na g\\u00f6re -Hafta bazl\\u0131 Toplam Sat\\u0131\\u015f Adedi\"},\"xaxis\":{\"showgrid\":false,\"tickmode\":\"array\",\"tickvals\":[33,34,35]},\"yaxis\":{\"showgrid\":false}},                        {\"responsive\": true}                    ).then(function(){\n",
       "                            \n",
       "var gd = document.getElementById('304ee3fc-749d-4bf8-8644-1b9f3c4b30be');\n",
       "var x = new MutationObserver(function (mutations, observer) {{\n",
       "        var display = window.getComputedStyle(gd).display;\n",
       "        if (!display || display === 'none') {{\n",
       "            console.log([gd, 'removed!']);\n",
       "            Plotly.purge(gd);\n",
       "            observer.disconnect();\n",
       "        }}\n",
       "}});\n",
       "\n",
       "// Listen for the removal of the full notebook cells\n",
       "var notebookContainer = gd.closest('#notebook-container');\n",
       "if (notebookContainer) {{\n",
       "    x.observe(notebookContainer, {childList: true});\n",
       "}}\n",
       "\n",
       "// Listen for the clearing of the current output cell\n",
       "var outputEl = gd.closest('.output');\n",
       "if (outputEl) {{\n",
       "    x.observe(outputEl, {childList: true});\n",
       "}}\n",
       "\n",
       "                        })                };                });            </script>        </div>"
      ]
     },
     "metadata": {},
     "output_type": "display_data"
    }
   ],
   "source": [
    "df_mon_sa = test_df.groupby('week').agg({\"sales\" : \"sum\"}).reset_index()\n",
    "fig13 = go.Figure(data=[go.Scatter(x=df_mon_sa['week'], y=df_mon_sa['sales'], fill='tozeroy', fillcolor='#FAA831', line_color='#bA6800'\n",
    "                                  ,mode='lines+markers')])\n",
    "\n",
    "\n",
    "fig13.update_layout(title_text='XGBOOST Algoritmasına göre -Hafta bazlı Toplam Satış Adedi',height=300,paper_bgcolor='#232425',plot_bgcolor='#232425',\n",
    "                font=dict(\n",
    "                size=12,\n",
    "                color='white'))\n",
    "fig13.update_yaxes(showgrid=False)\n",
    "fig13.update_xaxes(showgrid=False,tickmode = 'array', tickvals=df_mon_sa.week)"
   ]
  },
  {
   "cell_type": "code",
   "execution_count": 68,
   "metadata": {
    "scrolled": true
   },
   "outputs": [
    {
     "data": {
      "application/vnd.plotly.v1+json": {
       "config": {
        "plotlyServerURL": "https://plot.ly"
       },
       "data": [
        {
         "fill": "tozeroy",
         "fillcolor": "#FAA831",
         "line": {
          "color": "#bA6800"
         },
         "mode": "lines+markers",
         "type": "scatter",
         "x": [
          "Friday",
          "Monday",
          "Saturday",
          "Sunday",
          "Thursday",
          "Tuesday",
          "Wednesday"
         ],
         "y": [
          3928319.448847936,
          3928319.448847936,
          3928319.448847936,
          3928319.448847936,
          5892479.173271532,
          3928319.448847936,
          5892479.173271532
         ]
        }
       ],
       "layout": {
        "font": {
         "color": "white",
         "size": 12
        },
        "height": 300,
        "paper_bgcolor": "#232425",
        "plot_bgcolor": "#232425",
        "template": {
         "data": {
          "bar": [
           {
            "error_x": {
             "color": "#2a3f5f"
            },
            "error_y": {
             "color": "#2a3f5f"
            },
            "marker": {
             "line": {
              "color": "#E5ECF6",
              "width": 0.5
             },
             "pattern": {
              "fillmode": "overlay",
              "size": 10,
              "solidity": 0.2
             }
            },
            "type": "bar"
           }
          ],
          "barpolar": [
           {
            "marker": {
             "line": {
              "color": "#E5ECF6",
              "width": 0.5
             },
             "pattern": {
              "fillmode": "overlay",
              "size": 10,
              "solidity": 0.2
             }
            },
            "type": "barpolar"
           }
          ],
          "carpet": [
           {
            "aaxis": {
             "endlinecolor": "#2a3f5f",
             "gridcolor": "white",
             "linecolor": "white",
             "minorgridcolor": "white",
             "startlinecolor": "#2a3f5f"
            },
            "baxis": {
             "endlinecolor": "#2a3f5f",
             "gridcolor": "white",
             "linecolor": "white",
             "minorgridcolor": "white",
             "startlinecolor": "#2a3f5f"
            },
            "type": "carpet"
           }
          ],
          "choropleth": [
           {
            "colorbar": {
             "outlinewidth": 0,
             "ticks": ""
            },
            "type": "choropleth"
           }
          ],
          "contour": [
           {
            "colorbar": {
             "outlinewidth": 0,
             "ticks": ""
            },
            "colorscale": [
             [
              0,
              "#0d0887"
             ],
             [
              0.1111111111111111,
              "#46039f"
             ],
             [
              0.2222222222222222,
              "#7201a8"
             ],
             [
              0.3333333333333333,
              "#9c179e"
             ],
             [
              0.4444444444444444,
              "#bd3786"
             ],
             [
              0.5555555555555556,
              "#d8576b"
             ],
             [
              0.6666666666666666,
              "#ed7953"
             ],
             [
              0.7777777777777778,
              "#fb9f3a"
             ],
             [
              0.8888888888888888,
              "#fdca26"
             ],
             [
              1,
              "#f0f921"
             ]
            ],
            "type": "contour"
           }
          ],
          "contourcarpet": [
           {
            "colorbar": {
             "outlinewidth": 0,
             "ticks": ""
            },
            "type": "contourcarpet"
           }
          ],
          "heatmap": [
           {
            "colorbar": {
             "outlinewidth": 0,
             "ticks": ""
            },
            "colorscale": [
             [
              0,
              "#0d0887"
             ],
             [
              0.1111111111111111,
              "#46039f"
             ],
             [
              0.2222222222222222,
              "#7201a8"
             ],
             [
              0.3333333333333333,
              "#9c179e"
             ],
             [
              0.4444444444444444,
              "#bd3786"
             ],
             [
              0.5555555555555556,
              "#d8576b"
             ],
             [
              0.6666666666666666,
              "#ed7953"
             ],
             [
              0.7777777777777778,
              "#fb9f3a"
             ],
             [
              0.8888888888888888,
              "#fdca26"
             ],
             [
              1,
              "#f0f921"
             ]
            ],
            "type": "heatmap"
           }
          ],
          "heatmapgl": [
           {
            "colorbar": {
             "outlinewidth": 0,
             "ticks": ""
            },
            "colorscale": [
             [
              0,
              "#0d0887"
             ],
             [
              0.1111111111111111,
              "#46039f"
             ],
             [
              0.2222222222222222,
              "#7201a8"
             ],
             [
              0.3333333333333333,
              "#9c179e"
             ],
             [
              0.4444444444444444,
              "#bd3786"
             ],
             [
              0.5555555555555556,
              "#d8576b"
             ],
             [
              0.6666666666666666,
              "#ed7953"
             ],
             [
              0.7777777777777778,
              "#fb9f3a"
             ],
             [
              0.8888888888888888,
              "#fdca26"
             ],
             [
              1,
              "#f0f921"
             ]
            ],
            "type": "heatmapgl"
           }
          ],
          "histogram": [
           {
            "marker": {
             "pattern": {
              "fillmode": "overlay",
              "size": 10,
              "solidity": 0.2
             }
            },
            "type": "histogram"
           }
          ],
          "histogram2d": [
           {
            "colorbar": {
             "outlinewidth": 0,
             "ticks": ""
            },
            "colorscale": [
             [
              0,
              "#0d0887"
             ],
             [
              0.1111111111111111,
              "#46039f"
             ],
             [
              0.2222222222222222,
              "#7201a8"
             ],
             [
              0.3333333333333333,
              "#9c179e"
             ],
             [
              0.4444444444444444,
              "#bd3786"
             ],
             [
              0.5555555555555556,
              "#d8576b"
             ],
             [
              0.6666666666666666,
              "#ed7953"
             ],
             [
              0.7777777777777778,
              "#fb9f3a"
             ],
             [
              0.8888888888888888,
              "#fdca26"
             ],
             [
              1,
              "#f0f921"
             ]
            ],
            "type": "histogram2d"
           }
          ],
          "histogram2dcontour": [
           {
            "colorbar": {
             "outlinewidth": 0,
             "ticks": ""
            },
            "colorscale": [
             [
              0,
              "#0d0887"
             ],
             [
              0.1111111111111111,
              "#46039f"
             ],
             [
              0.2222222222222222,
              "#7201a8"
             ],
             [
              0.3333333333333333,
              "#9c179e"
             ],
             [
              0.4444444444444444,
              "#bd3786"
             ],
             [
              0.5555555555555556,
              "#d8576b"
             ],
             [
              0.6666666666666666,
              "#ed7953"
             ],
             [
              0.7777777777777778,
              "#fb9f3a"
             ],
             [
              0.8888888888888888,
              "#fdca26"
             ],
             [
              1,
              "#f0f921"
             ]
            ],
            "type": "histogram2dcontour"
           }
          ],
          "mesh3d": [
           {
            "colorbar": {
             "outlinewidth": 0,
             "ticks": ""
            },
            "type": "mesh3d"
           }
          ],
          "parcoords": [
           {
            "line": {
             "colorbar": {
              "outlinewidth": 0,
              "ticks": ""
             }
            },
            "type": "parcoords"
           }
          ],
          "pie": [
           {
            "automargin": true,
            "type": "pie"
           }
          ],
          "scatter": [
           {
            "marker": {
             "colorbar": {
              "outlinewidth": 0,
              "ticks": ""
             }
            },
            "type": "scatter"
           }
          ],
          "scatter3d": [
           {
            "line": {
             "colorbar": {
              "outlinewidth": 0,
              "ticks": ""
             }
            },
            "marker": {
             "colorbar": {
              "outlinewidth": 0,
              "ticks": ""
             }
            },
            "type": "scatter3d"
           }
          ],
          "scattercarpet": [
           {
            "marker": {
             "colorbar": {
              "outlinewidth": 0,
              "ticks": ""
             }
            },
            "type": "scattercarpet"
           }
          ],
          "scattergeo": [
           {
            "marker": {
             "colorbar": {
              "outlinewidth": 0,
              "ticks": ""
             }
            },
            "type": "scattergeo"
           }
          ],
          "scattergl": [
           {
            "marker": {
             "colorbar": {
              "outlinewidth": 0,
              "ticks": ""
             }
            },
            "type": "scattergl"
           }
          ],
          "scattermapbox": [
           {
            "marker": {
             "colorbar": {
              "outlinewidth": 0,
              "ticks": ""
             }
            },
            "type": "scattermapbox"
           }
          ],
          "scatterpolar": [
           {
            "marker": {
             "colorbar": {
              "outlinewidth": 0,
              "ticks": ""
             }
            },
            "type": "scatterpolar"
           }
          ],
          "scatterpolargl": [
           {
            "marker": {
             "colorbar": {
              "outlinewidth": 0,
              "ticks": ""
             }
            },
            "type": "scatterpolargl"
           }
          ],
          "scatterternary": [
           {
            "marker": {
             "colorbar": {
              "outlinewidth": 0,
              "ticks": ""
             }
            },
            "type": "scatterternary"
           }
          ],
          "surface": [
           {
            "colorbar": {
             "outlinewidth": 0,
             "ticks": ""
            },
            "colorscale": [
             [
              0,
              "#0d0887"
             ],
             [
              0.1111111111111111,
              "#46039f"
             ],
             [
              0.2222222222222222,
              "#7201a8"
             ],
             [
              0.3333333333333333,
              "#9c179e"
             ],
             [
              0.4444444444444444,
              "#bd3786"
             ],
             [
              0.5555555555555556,
              "#d8576b"
             ],
             [
              0.6666666666666666,
              "#ed7953"
             ],
             [
              0.7777777777777778,
              "#fb9f3a"
             ],
             [
              0.8888888888888888,
              "#fdca26"
             ],
             [
              1,
              "#f0f921"
             ]
            ],
            "type": "surface"
           }
          ],
          "table": [
           {
            "cells": {
             "fill": {
              "color": "#EBF0F8"
             },
             "line": {
              "color": "white"
             }
            },
            "header": {
             "fill": {
              "color": "#C8D4E3"
             },
             "line": {
              "color": "white"
             }
            },
            "type": "table"
           }
          ]
         },
         "layout": {
          "annotationdefaults": {
           "arrowcolor": "#2a3f5f",
           "arrowhead": 0,
           "arrowwidth": 1
          },
          "autotypenumbers": "strict",
          "coloraxis": {
           "colorbar": {
            "outlinewidth": 0,
            "ticks": ""
           }
          },
          "colorscale": {
           "diverging": [
            [
             0,
             "#8e0152"
            ],
            [
             0.1,
             "#c51b7d"
            ],
            [
             0.2,
             "#de77ae"
            ],
            [
             0.3,
             "#f1b6da"
            ],
            [
             0.4,
             "#fde0ef"
            ],
            [
             0.5,
             "#f7f7f7"
            ],
            [
             0.6,
             "#e6f5d0"
            ],
            [
             0.7,
             "#b8e186"
            ],
            [
             0.8,
             "#7fbc41"
            ],
            [
             0.9,
             "#4d9221"
            ],
            [
             1,
             "#276419"
            ]
           ],
           "sequential": [
            [
             0,
             "#0d0887"
            ],
            [
             0.1111111111111111,
             "#46039f"
            ],
            [
             0.2222222222222222,
             "#7201a8"
            ],
            [
             0.3333333333333333,
             "#9c179e"
            ],
            [
             0.4444444444444444,
             "#bd3786"
            ],
            [
             0.5555555555555556,
             "#d8576b"
            ],
            [
             0.6666666666666666,
             "#ed7953"
            ],
            [
             0.7777777777777778,
             "#fb9f3a"
            ],
            [
             0.8888888888888888,
             "#fdca26"
            ],
            [
             1,
             "#f0f921"
            ]
           ],
           "sequentialminus": [
            [
             0,
             "#0d0887"
            ],
            [
             0.1111111111111111,
             "#46039f"
            ],
            [
             0.2222222222222222,
             "#7201a8"
            ],
            [
             0.3333333333333333,
             "#9c179e"
            ],
            [
             0.4444444444444444,
             "#bd3786"
            ],
            [
             0.5555555555555556,
             "#d8576b"
            ],
            [
             0.6666666666666666,
             "#ed7953"
            ],
            [
             0.7777777777777778,
             "#fb9f3a"
            ],
            [
             0.8888888888888888,
             "#fdca26"
            ],
            [
             1,
             "#f0f921"
            ]
           ]
          },
          "colorway": [
           "#636efa",
           "#EF553B",
           "#00cc96",
           "#ab63fa",
           "#FFA15A",
           "#19d3f3",
           "#FF6692",
           "#B6E880",
           "#FF97FF",
           "#FECB52"
          ],
          "font": {
           "color": "#2a3f5f"
          },
          "geo": {
           "bgcolor": "white",
           "lakecolor": "white",
           "landcolor": "#E5ECF6",
           "showlakes": true,
           "showland": true,
           "subunitcolor": "white"
          },
          "hoverlabel": {
           "align": "left"
          },
          "hovermode": "closest",
          "mapbox": {
           "style": "light"
          },
          "paper_bgcolor": "white",
          "plot_bgcolor": "#E5ECF6",
          "polar": {
           "angularaxis": {
            "gridcolor": "white",
            "linecolor": "white",
            "ticks": ""
           },
           "bgcolor": "#E5ECF6",
           "radialaxis": {
            "gridcolor": "white",
            "linecolor": "white",
            "ticks": ""
           }
          },
          "scene": {
           "xaxis": {
            "backgroundcolor": "#E5ECF6",
            "gridcolor": "white",
            "gridwidth": 2,
            "linecolor": "white",
            "showbackground": true,
            "ticks": "",
            "zerolinecolor": "white"
           },
           "yaxis": {
            "backgroundcolor": "#E5ECF6",
            "gridcolor": "white",
            "gridwidth": 2,
            "linecolor": "white",
            "showbackground": true,
            "ticks": "",
            "zerolinecolor": "white"
           },
           "zaxis": {
            "backgroundcolor": "#E5ECF6",
            "gridcolor": "white",
            "gridwidth": 2,
            "linecolor": "white",
            "showbackground": true,
            "ticks": "",
            "zerolinecolor": "white"
           }
          },
          "shapedefaults": {
           "line": {
            "color": "#2a3f5f"
           }
          },
          "ternary": {
           "aaxis": {
            "gridcolor": "white",
            "linecolor": "white",
            "ticks": ""
           },
           "baxis": {
            "gridcolor": "white",
            "linecolor": "white",
            "ticks": ""
           },
           "bgcolor": "#E5ECF6",
           "caxis": {
            "gridcolor": "white",
            "linecolor": "white",
            "ticks": ""
           }
          },
          "title": {
           "x": 0.05
          },
          "xaxis": {
           "automargin": true,
           "gridcolor": "white",
           "linecolor": "white",
           "ticks": "",
           "title": {
            "standoff": 15
           },
           "zerolinecolor": "white",
           "zerolinewidth": 2
          },
          "yaxis": {
           "automargin": true,
           "gridcolor": "white",
           "linecolor": "white",
           "ticks": "",
           "title": {
            "standoff": 15
           },
           "zerolinecolor": "white",
           "zerolinewidth": 2
          }
         }
        },
        "title": {
         "text": "XGBOOST Algoritmasına göre - Gün bazlı Toplam Satış Adedi"
        },
        "xaxis": {
         "showgrid": false,
         "tickmode": "array",
         "tickvals": [
          "Friday",
          "Monday",
          "Saturday",
          "Sunday",
          "Thursday",
          "Tuesday",
          "Wednesday"
         ]
        },
        "yaxis": {
         "showgrid": false
        }
       }
      },
      "text/html": [
       "<div>                            <div id=\"c3005585-3d99-45cc-8443-e7d482fdb030\" class=\"plotly-graph-div\" style=\"height:300px; width:100%;\"></div>            <script type=\"text/javascript\">                require([\"plotly\"], function(Plotly) {                    window.PLOTLYENV=window.PLOTLYENV || {};                                    if (document.getElementById(\"c3005585-3d99-45cc-8443-e7d482fdb030\")) {                    Plotly.newPlot(                        \"c3005585-3d99-45cc-8443-e7d482fdb030\",                        [{\"fill\":\"tozeroy\",\"fillcolor\":\"#FAA831\",\"line\":{\"color\":\"#bA6800\"},\"mode\":\"lines+markers\",\"type\":\"scatter\",\"x\":[\"Friday\",\"Monday\",\"Saturday\",\"Sunday\",\"Thursday\",\"Tuesday\",\"Wednesday\"],\"y\":[3928319.448847936,3928319.448847936,3928319.448847936,3928319.448847936,5892479.173271532,3928319.448847936,5892479.173271532]}],                        {\"font\":{\"color\":\"white\",\"size\":12},\"height\":300,\"paper_bgcolor\":\"#232425\",\"plot_bgcolor\":\"#232425\",\"template\":{\"data\":{\"bar\":[{\"error_x\":{\"color\":\"#2a3f5f\"},\"error_y\":{\"color\":\"#2a3f5f\"},\"marker\":{\"line\":{\"color\":\"#E5ECF6\",\"width\":0.5},\"pattern\":{\"fillmode\":\"overlay\",\"size\":10,\"solidity\":0.2}},\"type\":\"bar\"}],\"barpolar\":[{\"marker\":{\"line\":{\"color\":\"#E5ECF6\",\"width\":0.5},\"pattern\":{\"fillmode\":\"overlay\",\"size\":10,\"solidity\":0.2}},\"type\":\"barpolar\"}],\"carpet\":[{\"aaxis\":{\"endlinecolor\":\"#2a3f5f\",\"gridcolor\":\"white\",\"linecolor\":\"white\",\"minorgridcolor\":\"white\",\"startlinecolor\":\"#2a3f5f\"},\"baxis\":{\"endlinecolor\":\"#2a3f5f\",\"gridcolor\":\"white\",\"linecolor\":\"white\",\"minorgridcolor\":\"white\",\"startlinecolor\":\"#2a3f5f\"},\"type\":\"carpet\"}],\"choropleth\":[{\"colorbar\":{\"outlinewidth\":0,\"ticks\":\"\"},\"type\":\"choropleth\"}],\"contour\":[{\"colorbar\":{\"outlinewidth\":0,\"ticks\":\"\"},\"colorscale\":[[0.0,\"#0d0887\"],[0.1111111111111111,\"#46039f\"],[0.2222222222222222,\"#7201a8\"],[0.3333333333333333,\"#9c179e\"],[0.4444444444444444,\"#bd3786\"],[0.5555555555555556,\"#d8576b\"],[0.6666666666666666,\"#ed7953\"],[0.7777777777777778,\"#fb9f3a\"],[0.8888888888888888,\"#fdca26\"],[1.0,\"#f0f921\"]],\"type\":\"contour\"}],\"contourcarpet\":[{\"colorbar\":{\"outlinewidth\":0,\"ticks\":\"\"},\"type\":\"contourcarpet\"}],\"heatmap\":[{\"colorbar\":{\"outlinewidth\":0,\"ticks\":\"\"},\"colorscale\":[[0.0,\"#0d0887\"],[0.1111111111111111,\"#46039f\"],[0.2222222222222222,\"#7201a8\"],[0.3333333333333333,\"#9c179e\"],[0.4444444444444444,\"#bd3786\"],[0.5555555555555556,\"#d8576b\"],[0.6666666666666666,\"#ed7953\"],[0.7777777777777778,\"#fb9f3a\"],[0.8888888888888888,\"#fdca26\"],[1.0,\"#f0f921\"]],\"type\":\"heatmap\"}],\"heatmapgl\":[{\"colorbar\":{\"outlinewidth\":0,\"ticks\":\"\"},\"colorscale\":[[0.0,\"#0d0887\"],[0.1111111111111111,\"#46039f\"],[0.2222222222222222,\"#7201a8\"],[0.3333333333333333,\"#9c179e\"],[0.4444444444444444,\"#bd3786\"],[0.5555555555555556,\"#d8576b\"],[0.6666666666666666,\"#ed7953\"],[0.7777777777777778,\"#fb9f3a\"],[0.8888888888888888,\"#fdca26\"],[1.0,\"#f0f921\"]],\"type\":\"heatmapgl\"}],\"histogram\":[{\"marker\":{\"pattern\":{\"fillmode\":\"overlay\",\"size\":10,\"solidity\":0.2}},\"type\":\"histogram\"}],\"histogram2d\":[{\"colorbar\":{\"outlinewidth\":0,\"ticks\":\"\"},\"colorscale\":[[0.0,\"#0d0887\"],[0.1111111111111111,\"#46039f\"],[0.2222222222222222,\"#7201a8\"],[0.3333333333333333,\"#9c179e\"],[0.4444444444444444,\"#bd3786\"],[0.5555555555555556,\"#d8576b\"],[0.6666666666666666,\"#ed7953\"],[0.7777777777777778,\"#fb9f3a\"],[0.8888888888888888,\"#fdca26\"],[1.0,\"#f0f921\"]],\"type\":\"histogram2d\"}],\"histogram2dcontour\":[{\"colorbar\":{\"outlinewidth\":0,\"ticks\":\"\"},\"colorscale\":[[0.0,\"#0d0887\"],[0.1111111111111111,\"#46039f\"],[0.2222222222222222,\"#7201a8\"],[0.3333333333333333,\"#9c179e\"],[0.4444444444444444,\"#bd3786\"],[0.5555555555555556,\"#d8576b\"],[0.6666666666666666,\"#ed7953\"],[0.7777777777777778,\"#fb9f3a\"],[0.8888888888888888,\"#fdca26\"],[1.0,\"#f0f921\"]],\"type\":\"histogram2dcontour\"}],\"mesh3d\":[{\"colorbar\":{\"outlinewidth\":0,\"ticks\":\"\"},\"type\":\"mesh3d\"}],\"parcoords\":[{\"line\":{\"colorbar\":{\"outlinewidth\":0,\"ticks\":\"\"}},\"type\":\"parcoords\"}],\"pie\":[{\"automargin\":true,\"type\":\"pie\"}],\"scatter\":[{\"marker\":{\"colorbar\":{\"outlinewidth\":0,\"ticks\":\"\"}},\"type\":\"scatter\"}],\"scatter3d\":[{\"line\":{\"colorbar\":{\"outlinewidth\":0,\"ticks\":\"\"}},\"marker\":{\"colorbar\":{\"outlinewidth\":0,\"ticks\":\"\"}},\"type\":\"scatter3d\"}],\"scattercarpet\":[{\"marker\":{\"colorbar\":{\"outlinewidth\":0,\"ticks\":\"\"}},\"type\":\"scattercarpet\"}],\"scattergeo\":[{\"marker\":{\"colorbar\":{\"outlinewidth\":0,\"ticks\":\"\"}},\"type\":\"scattergeo\"}],\"scattergl\":[{\"marker\":{\"colorbar\":{\"outlinewidth\":0,\"ticks\":\"\"}},\"type\":\"scattergl\"}],\"scattermapbox\":[{\"marker\":{\"colorbar\":{\"outlinewidth\":0,\"ticks\":\"\"}},\"type\":\"scattermapbox\"}],\"scatterpolar\":[{\"marker\":{\"colorbar\":{\"outlinewidth\":0,\"ticks\":\"\"}},\"type\":\"scatterpolar\"}],\"scatterpolargl\":[{\"marker\":{\"colorbar\":{\"outlinewidth\":0,\"ticks\":\"\"}},\"type\":\"scatterpolargl\"}],\"scatterternary\":[{\"marker\":{\"colorbar\":{\"outlinewidth\":0,\"ticks\":\"\"}},\"type\":\"scatterternary\"}],\"surface\":[{\"colorbar\":{\"outlinewidth\":0,\"ticks\":\"\"},\"colorscale\":[[0.0,\"#0d0887\"],[0.1111111111111111,\"#46039f\"],[0.2222222222222222,\"#7201a8\"],[0.3333333333333333,\"#9c179e\"],[0.4444444444444444,\"#bd3786\"],[0.5555555555555556,\"#d8576b\"],[0.6666666666666666,\"#ed7953\"],[0.7777777777777778,\"#fb9f3a\"],[0.8888888888888888,\"#fdca26\"],[1.0,\"#f0f921\"]],\"type\":\"surface\"}],\"table\":[{\"cells\":{\"fill\":{\"color\":\"#EBF0F8\"},\"line\":{\"color\":\"white\"}},\"header\":{\"fill\":{\"color\":\"#C8D4E3\"},\"line\":{\"color\":\"white\"}},\"type\":\"table\"}]},\"layout\":{\"annotationdefaults\":{\"arrowcolor\":\"#2a3f5f\",\"arrowhead\":0,\"arrowwidth\":1},\"autotypenumbers\":\"strict\",\"coloraxis\":{\"colorbar\":{\"outlinewidth\":0,\"ticks\":\"\"}},\"colorscale\":{\"diverging\":[[0,\"#8e0152\"],[0.1,\"#c51b7d\"],[0.2,\"#de77ae\"],[0.3,\"#f1b6da\"],[0.4,\"#fde0ef\"],[0.5,\"#f7f7f7\"],[0.6,\"#e6f5d0\"],[0.7,\"#b8e186\"],[0.8,\"#7fbc41\"],[0.9,\"#4d9221\"],[1,\"#276419\"]],\"sequential\":[[0.0,\"#0d0887\"],[0.1111111111111111,\"#46039f\"],[0.2222222222222222,\"#7201a8\"],[0.3333333333333333,\"#9c179e\"],[0.4444444444444444,\"#bd3786\"],[0.5555555555555556,\"#d8576b\"],[0.6666666666666666,\"#ed7953\"],[0.7777777777777778,\"#fb9f3a\"],[0.8888888888888888,\"#fdca26\"],[1.0,\"#f0f921\"]],\"sequentialminus\":[[0.0,\"#0d0887\"],[0.1111111111111111,\"#46039f\"],[0.2222222222222222,\"#7201a8\"],[0.3333333333333333,\"#9c179e\"],[0.4444444444444444,\"#bd3786\"],[0.5555555555555556,\"#d8576b\"],[0.6666666666666666,\"#ed7953\"],[0.7777777777777778,\"#fb9f3a\"],[0.8888888888888888,\"#fdca26\"],[1.0,\"#f0f921\"]]},\"colorway\":[\"#636efa\",\"#EF553B\",\"#00cc96\",\"#ab63fa\",\"#FFA15A\",\"#19d3f3\",\"#FF6692\",\"#B6E880\",\"#FF97FF\",\"#FECB52\"],\"font\":{\"color\":\"#2a3f5f\"},\"geo\":{\"bgcolor\":\"white\",\"lakecolor\":\"white\",\"landcolor\":\"#E5ECF6\",\"showlakes\":true,\"showland\":true,\"subunitcolor\":\"white\"},\"hoverlabel\":{\"align\":\"left\"},\"hovermode\":\"closest\",\"mapbox\":{\"style\":\"light\"},\"paper_bgcolor\":\"white\",\"plot_bgcolor\":\"#E5ECF6\",\"polar\":{\"angularaxis\":{\"gridcolor\":\"white\",\"linecolor\":\"white\",\"ticks\":\"\"},\"bgcolor\":\"#E5ECF6\",\"radialaxis\":{\"gridcolor\":\"white\",\"linecolor\":\"white\",\"ticks\":\"\"}},\"scene\":{\"xaxis\":{\"backgroundcolor\":\"#E5ECF6\",\"gridcolor\":\"white\",\"gridwidth\":2,\"linecolor\":\"white\",\"showbackground\":true,\"ticks\":\"\",\"zerolinecolor\":\"white\"},\"yaxis\":{\"backgroundcolor\":\"#E5ECF6\",\"gridcolor\":\"white\",\"gridwidth\":2,\"linecolor\":\"white\",\"showbackground\":true,\"ticks\":\"\",\"zerolinecolor\":\"white\"},\"zaxis\":{\"backgroundcolor\":\"#E5ECF6\",\"gridcolor\":\"white\",\"gridwidth\":2,\"linecolor\":\"white\",\"showbackground\":true,\"ticks\":\"\",\"zerolinecolor\":\"white\"}},\"shapedefaults\":{\"line\":{\"color\":\"#2a3f5f\"}},\"ternary\":{\"aaxis\":{\"gridcolor\":\"white\",\"linecolor\":\"white\",\"ticks\":\"\"},\"baxis\":{\"gridcolor\":\"white\",\"linecolor\":\"white\",\"ticks\":\"\"},\"bgcolor\":\"#E5ECF6\",\"caxis\":{\"gridcolor\":\"white\",\"linecolor\":\"white\",\"ticks\":\"\"}},\"title\":{\"x\":0.05},\"xaxis\":{\"automargin\":true,\"gridcolor\":\"white\",\"linecolor\":\"white\",\"ticks\":\"\",\"title\":{\"standoff\":15},\"zerolinecolor\":\"white\",\"zerolinewidth\":2},\"yaxis\":{\"automargin\":true,\"gridcolor\":\"white\",\"linecolor\":\"white\",\"ticks\":\"\",\"title\":{\"standoff\":15},\"zerolinecolor\":\"white\",\"zerolinewidth\":2}}},\"title\":{\"text\":\"XGBOOST Algoritmas\\u0131na g\\u00f6re - G\\u00fcn bazl\\u0131 Toplam Sat\\u0131\\u015f Adedi\"},\"xaxis\":{\"showgrid\":false,\"tickmode\":\"array\",\"tickvals\":[\"Friday\",\"Monday\",\"Saturday\",\"Sunday\",\"Thursday\",\"Tuesday\",\"Wednesday\"]},\"yaxis\":{\"showgrid\":false}},                        {\"responsive\": true}                    ).then(function(){\n",
       "                            \n",
       "var gd = document.getElementById('c3005585-3d99-45cc-8443-e7d482fdb030');\n",
       "var x = new MutationObserver(function (mutations, observer) {{\n",
       "        var display = window.getComputedStyle(gd).display;\n",
       "        if (!display || display === 'none') {{\n",
       "            console.log([gd, 'removed!']);\n",
       "            Plotly.purge(gd);\n",
       "            observer.disconnect();\n",
       "        }}\n",
       "}});\n",
       "\n",
       "// Listen for the removal of the full notebook cells\n",
       "var notebookContainer = gd.closest('#notebook-container');\n",
       "if (notebookContainer) {{\n",
       "    x.observe(notebookContainer, {childList: true});\n",
       "}}\n",
       "\n",
       "// Listen for the clearing of the current output cell\n",
       "var outputEl = gd.closest('.output');\n",
       "if (outputEl) {{\n",
       "    x.observe(outputEl, {childList: true});\n",
       "}}\n",
       "\n",
       "                        })                };                });            </script>        </div>"
      ]
     },
     "metadata": {},
     "output_type": "display_data"
    }
   ],
   "source": [
    "df_mon_sa = test_df.groupby('day').agg({\"sales\" : \"sum\"}).reset_index()\n",
    "fig14 = go.Figure(data=[go.Scatter(x=df_mon_sa['day'], y=df_mon_sa['sales'], fill='tozeroy', fillcolor='#FAA831', line_color='#bA6800'\n",
    "                                  ,mode='lines+markers')])\n",
    "\n",
    "\n",
    "fig14.update_layout(title_text='XGBOOST Algoritmasına göre - Gün bazlı Toplam Satış Adedi',height=300,paper_bgcolor='#232425',plot_bgcolor='#232425',\n",
    "                font=dict(\n",
    "                size=12,\n",
    "                color='white'))\n",
    "fig14.update_yaxes(showgrid=False)\n",
    "fig14.update_xaxes(showgrid=False,tickmode = 'array', tickvals=df_mon_sa.day)"
   ]
  },
  {
   "cell_type": "code",
   "execution_count": 72,
   "metadata": {},
   "outputs": [],
   "source": [
    "app = dash.Dash()\n",
    "\n",
    "app.layout = html.Div(\n",
    "    \n",
    "      [html.H1('FAVORITA MAĞAZA - SATIŞ TAHMİNLEME & İSTATİSTİKSEL VERİ ANALİZİ- DASBOARD',   ### page header\n",
    "        style={'textAlign': 'center', 'margin-bottom': 0.3}),\n",
    "    \n",
    "    html.Div([ dcc.Graph(id='graph1',figure=fig0, style={'textAlign': 'center', 'margin-bottom': 0.3}),\n",
    "              \n",
    "                      \n",
    "                      dcc.Graph(id='graph2',figure=fig1) \n",
    "                       ,\n",
    "                      \n",
    "                     \n",
    "                       dcc.Graph(id='graph3',figure=fig2) ,\n",
    "\n",
    "                        dcc.Graph(id='graph4',figure=fig3) ,\n",
    "                    \n",
    "                       dcc.Graph(id='graph5',figure=fig4) ,\n",
    "\n",
    "                      dcc.Graph(id='graph6',figure=fig5) ,\n",
    "                     dcc.Graph(id='graph7',figure=fig6) ,\n",
    "\n",
    "                     dcc.Graph(id='graph8',figure=fig7) ,\n",
    "                     dcc.Graph(id='graph9',figure=fig8) ,\n",
    "                     dcc.Graph(id='graph10',figure=fig9) ,\n",
    "                     dcc.Graph(id='graph11',figure=fig10) ,\n",
    "                     dcc.Graph(id='graph12',figure=fig11) ,\n",
    "                        dcc.Graph(id='graph13',figure=fig12),\n",
    "                                  dcc.Graph(id='graph14',figure=fig13)\n",
    "                                  ,\n",
    "                                  dcc.Graph(id='graph15',figure=fig14)\n",
    "                           ], style= {'width': '75%', 'display': 'inline-block', 'textAlign':'center'\n",
    "\n",
    "})\n",
    "\n",
    "                       \n",
    "                       \n",
    "                       \n",
    "                       \n",
    "                      ])"
   ]
  },
  {
   "cell_type": "code",
   "execution_count": null,
   "metadata": {},
   "outputs": [
    {
     "name": "stdout",
     "output_type": "stream",
     "text": [
      "Dash is running on http://127.0.0.1:8050/\n",
      "\n",
      " * Serving Flask app '__main__' (lazy loading)\n",
      " * Environment: production\n",
      "\u001b[31m   WARNING: This is a development server. Do not use it in a production deployment.\u001b[0m\n",
      "\u001b[2m   Use a production WSGI server instead.\u001b[0m\n",
      " * Debug mode: off\n"
     ]
    },
    {
     "name": "stderr",
     "output_type": "stream",
     "text": [
      " * Running on http://127.0.0.1:8050/ (Press CTRL+C to quit)\n",
      "127.0.0.1 - - [16/Jan/2022 00:03:41] \"GET / HTTP/1.1\" 200 -\n",
      "127.0.0.1 - - [16/Jan/2022 00:03:42] \"GET /_dash-dependencies HTTP/1.1\" 200 -\n",
      "127.0.0.1 - - [16/Jan/2022 00:03:42] \"GET /_dash-layout HTTP/1.1\" 200 -\n",
      "127.0.0.1 - - [16/Jan/2022 00:03:42] \"GET /_dash-component-suites/dash/dcc/async-graph.js HTTP/1.1\" 304 -\n",
      "127.0.0.1 - - [16/Jan/2022 00:03:42] \"GET /_dash-component-suites/dash/dcc/async-plotlyjs.js HTTP/1.1\" 304 -\n",
      "127.0.0.1 - - [16/Jan/2022 01:13:13] \"GET / HTTP/1.1\" 200 -\n",
      "127.0.0.1 - - [16/Jan/2022 01:13:13] \"GET /_dash-dependencies HTTP/1.1\" 200 -\n",
      "127.0.0.1 - - [16/Jan/2022 01:13:13] \"GET /_dash-layout HTTP/1.1\" 200 -\n",
      "127.0.0.1 - - [16/Jan/2022 01:13:13] \"GET /_dash-component-suites/dash/dcc/async-graph.js HTTP/1.1\" 304 -\n",
      "127.0.0.1 - - [16/Jan/2022 01:13:13] \"GET /_dash-component-suites/dash/dcc/async-plotlyjs.js HTTP/1.1\" 304 -\n"
     ]
    }
   ],
   "source": [
    "if __name__ == \"__main__\":\n",
    "    app.run_server()"
   ]
  },
  {
   "cell_type": "code",
   "execution_count": null,
   "metadata": {},
   "outputs": [],
   "source": []
  }
 ],
 "metadata": {
  "kernelspec": {
   "display_name": "Python 3",
   "language": "python",
   "name": "python3"
  },
  "language_info": {
   "codemirror_mode": {
    "name": "ipython",
    "version": 3
   },
   "file_extension": ".py",
   "mimetype": "text/x-python",
   "name": "python",
   "nbconvert_exporter": "python",
   "pygments_lexer": "ipython3",
   "version": "3.7.0"
  }
 },
 "nbformat": 4,
 "nbformat_minor": 2
}
