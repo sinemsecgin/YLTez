{
 "cells": [
  {
   "cell_type": "code",
   "execution_count": 40,
   "metadata": {},
   "outputs": [],
   "source": [
    "import numpy as np # linear algebra\n",
    "import pandas as pd # data processing, CSV file I/O (e.g. pd.read_csv)\n",
    "import matplotlib.pyplot as plt\n",
    "import seaborn as sns\n",
    "%matplotlib inline"
   ]
  },
  {
   "cell_type": "code",
   "execution_count": 144,
   "metadata": {},
   "outputs": [],
   "source": [
    "oil_df = pd.read_csv(\"oil.csv\")\n",
    "holidays_df = pd.read_csv(\"holidays_events.csv\")\n",
    "stores_df = pd.read_csv(\"stores.csv\")\n",
    "train_df = pd.read_csv(\"train.csv\")\n",
    "test_df = pd.read_csv(\"test.csv\")\n",
    "transactions_df = pd.read_csv(\"transactions.csv\")"
   ]
  },
  {
   "cell_type": "code",
   "execution_count": 42,
   "metadata": {},
   "outputs": [
    {
     "data": {
      "text/html": [
       "<div>\n",
       "<style scoped>\n",
       "    .dataframe tbody tr th:only-of-type {\n",
       "        vertical-align: middle;\n",
       "    }\n",
       "\n",
       "    .dataframe tbody tr th {\n",
       "        vertical-align: top;\n",
       "    }\n",
       "\n",
       "    .dataframe thead th {\n",
       "        text-align: right;\n",
       "    }\n",
       "</style>\n",
       "<table border=\"1\" class=\"dataframe\">\n",
       "  <thead>\n",
       "    <tr style=\"text-align: right;\">\n",
       "      <th></th>\n",
       "      <th>id</th>\n",
       "      <th>date</th>\n",
       "      <th>store_nbr</th>\n",
       "      <th>family</th>\n",
       "      <th>sales</th>\n",
       "      <th>onpromotion</th>\n",
       "    </tr>\n",
       "  </thead>\n",
       "  <tbody>\n",
       "    <tr>\n",
       "      <th>0</th>\n",
       "      <td>0</td>\n",
       "      <td>2013-01-01</td>\n",
       "      <td>1</td>\n",
       "      <td>AUTOMOTIVE</td>\n",
       "      <td>0.0</td>\n",
       "      <td>0.0</td>\n",
       "    </tr>\n",
       "    <tr>\n",
       "      <th>1</th>\n",
       "      <td>1</td>\n",
       "      <td>2013-01-01</td>\n",
       "      <td>1</td>\n",
       "      <td>BABY CARE</td>\n",
       "      <td>0.0</td>\n",
       "      <td>0.0</td>\n",
       "    </tr>\n",
       "    <tr>\n",
       "      <th>2</th>\n",
       "      <td>2</td>\n",
       "      <td>2013-01-01</td>\n",
       "      <td>1</td>\n",
       "      <td>BEAUTY</td>\n",
       "      <td>0.0</td>\n",
       "      <td>0.0</td>\n",
       "    </tr>\n",
       "    <tr>\n",
       "      <th>3</th>\n",
       "      <td>3</td>\n",
       "      <td>2013-01-01</td>\n",
       "      <td>1</td>\n",
       "      <td>BEVERAGES</td>\n",
       "      <td>0.0</td>\n",
       "      <td>0.0</td>\n",
       "    </tr>\n",
       "    <tr>\n",
       "      <th>4</th>\n",
       "      <td>4</td>\n",
       "      <td>2013-01-01</td>\n",
       "      <td>1</td>\n",
       "      <td>BOOKS</td>\n",
       "      <td>0.0</td>\n",
       "      <td>0.0</td>\n",
       "    </tr>\n",
       "  </tbody>\n",
       "</table>\n",
       "</div>"
      ],
      "text/plain": [
       "   id        date  store_nbr      family  sales  onpromotion\n",
       "0   0  2013-01-01          1  AUTOMOTIVE    0.0          0.0\n",
       "1   1  2013-01-01          1   BABY CARE    0.0          0.0\n",
       "2   2  2013-01-01          1      BEAUTY    0.0          0.0\n",
       "3   3  2013-01-01          1   BEVERAGES    0.0          0.0\n",
       "4   4  2013-01-01          1       BOOKS    0.0          0.0"
      ]
     },
     "execution_count": 42,
     "metadata": {},
     "output_type": "execute_result"
    }
   ],
   "source": [
    "train_df.head()"
   ]
  },
  {
   "cell_type": "code",
   "execution_count": 145,
   "metadata": {},
   "outputs": [
    {
     "data": {
      "text/html": [
       "<div>\n",
       "<style scoped>\n",
       "    .dataframe tbody tr th:only-of-type {\n",
       "        vertical-align: middle;\n",
       "    }\n",
       "\n",
       "    .dataframe tbody tr th {\n",
       "        vertical-align: top;\n",
       "    }\n",
       "\n",
       "    .dataframe thead th {\n",
       "        text-align: right;\n",
       "    }\n",
       "</style>\n",
       "<table border=\"1\" class=\"dataframe\">\n",
       "  <thead>\n",
       "    <tr style=\"text-align: right;\">\n",
       "      <th></th>\n",
       "      <th>id</th>\n",
       "      <th>date</th>\n",
       "      <th>store_nbr</th>\n",
       "      <th>family</th>\n",
       "      <th>onpromotion</th>\n",
       "    </tr>\n",
       "  </thead>\n",
       "  <tbody>\n",
       "    <tr>\n",
       "      <th>0</th>\n",
       "      <td>3000888</td>\n",
       "      <td>2017-08-16</td>\n",
       "      <td>1</td>\n",
       "      <td>AUTOMOTIVE</td>\n",
       "      <td>20.0</td>\n",
       "    </tr>\n",
       "    <tr>\n",
       "      <th>1</th>\n",
       "      <td>3000889</td>\n",
       "      <td>2017-08-16</td>\n",
       "      <td>1</td>\n",
       "      <td>BABY CARE</td>\n",
       "      <td>1.0</td>\n",
       "    </tr>\n",
       "    <tr>\n",
       "      <th>2</th>\n",
       "      <td>3000890</td>\n",
       "      <td>2017-08-16</td>\n",
       "      <td>1</td>\n",
       "      <td>BEAUTY</td>\n",
       "      <td>8.0</td>\n",
       "    </tr>\n",
       "    <tr>\n",
       "      <th>3</th>\n",
       "      <td>3000891</td>\n",
       "      <td>2017-08-16</td>\n",
       "      <td>1</td>\n",
       "      <td>BEVERAGES</td>\n",
       "      <td>560.0</td>\n",
       "    </tr>\n",
       "    <tr>\n",
       "      <th>4</th>\n",
       "      <td>3000892</td>\n",
       "      <td>2017-08-16</td>\n",
       "      <td>1</td>\n",
       "      <td>BOOKS</td>\n",
       "      <td>1.0</td>\n",
       "    </tr>\n",
       "  </tbody>\n",
       "</table>\n",
       "</div>"
      ],
      "text/plain": [
       "        id        date  store_nbr      family  onpromotion\n",
       "0  3000888  2017-08-16          1  AUTOMOTIVE         20.0\n",
       "1  3000889  2017-08-16          1   BABY CARE          1.0\n",
       "2  3000890  2017-08-16          1      BEAUTY          8.0\n",
       "3  3000891  2017-08-16          1   BEVERAGES        560.0\n",
       "4  3000892  2017-08-16          1       BOOKS          1.0"
      ]
     },
     "execution_count": 145,
     "metadata": {},
     "output_type": "execute_result"
    }
   ],
   "source": [
    "test_df.head()"
   ]
  },
  {
   "cell_type": "code",
   "execution_count": 44,
   "metadata": {},
   "outputs": [
    {
     "data": {
      "text/html": [
       "<div>\n",
       "<style scoped>\n",
       "    .dataframe tbody tr th:only-of-type {\n",
       "        vertical-align: middle;\n",
       "    }\n",
       "\n",
       "    .dataframe tbody tr th {\n",
       "        vertical-align: top;\n",
       "    }\n",
       "\n",
       "    .dataframe thead th {\n",
       "        text-align: right;\n",
       "    }\n",
       "</style>\n",
       "<table border=\"1\" class=\"dataframe\">\n",
       "  <thead>\n",
       "    <tr style=\"text-align: right;\">\n",
       "      <th></th>\n",
       "      <th>date</th>\n",
       "      <th>dcoilwtico</th>\n",
       "    </tr>\n",
       "  </thead>\n",
       "  <tbody>\n",
       "    <tr>\n",
       "      <th>0</th>\n",
       "      <td>2013-01-01</td>\n",
       "      <td>NaN</td>\n",
       "    </tr>\n",
       "    <tr>\n",
       "      <th>1</th>\n",
       "      <td>2013-01-02</td>\n",
       "      <td>93.14</td>\n",
       "    </tr>\n",
       "    <tr>\n",
       "      <th>2</th>\n",
       "      <td>2013-01-03</td>\n",
       "      <td>92.97</td>\n",
       "    </tr>\n",
       "    <tr>\n",
       "      <th>3</th>\n",
       "      <td>2013-01-04</td>\n",
       "      <td>93.12</td>\n",
       "    </tr>\n",
       "    <tr>\n",
       "      <th>4</th>\n",
       "      <td>2013-01-07</td>\n",
       "      <td>93.20</td>\n",
       "    </tr>\n",
       "  </tbody>\n",
       "</table>\n",
       "</div>"
      ],
      "text/plain": [
       "         date  dcoilwtico\n",
       "0  2013-01-01         NaN\n",
       "1  2013-01-02       93.14\n",
       "2  2013-01-03       92.97\n",
       "3  2013-01-04       93.12\n",
       "4  2013-01-07       93.20"
      ]
     },
     "execution_count": 44,
     "metadata": {},
     "output_type": "execute_result"
    }
   ],
   "source": [
    "oil_df.head()"
   ]
  },
  {
   "cell_type": "code",
   "execution_count": 45,
   "metadata": {},
   "outputs": [
    {
     "data": {
      "text/html": [
       "<div>\n",
       "<style scoped>\n",
       "    .dataframe tbody tr th:only-of-type {\n",
       "        vertical-align: middle;\n",
       "    }\n",
       "\n",
       "    .dataframe tbody tr th {\n",
       "        vertical-align: top;\n",
       "    }\n",
       "\n",
       "    .dataframe thead th {\n",
       "        text-align: right;\n",
       "    }\n",
       "</style>\n",
       "<table border=\"1\" class=\"dataframe\">\n",
       "  <thead>\n",
       "    <tr style=\"text-align: right;\">\n",
       "      <th></th>\n",
       "      <th>date</th>\n",
       "      <th>type</th>\n",
       "      <th>locale</th>\n",
       "      <th>locale_name</th>\n",
       "      <th>description</th>\n",
       "      <th>transferred</th>\n",
       "    </tr>\n",
       "  </thead>\n",
       "  <tbody>\n",
       "    <tr>\n",
       "      <th>0</th>\n",
       "      <td>2012-03-02</td>\n",
       "      <td>Holiday</td>\n",
       "      <td>Local</td>\n",
       "      <td>Manta</td>\n",
       "      <td>Fundacion de Manta</td>\n",
       "      <td>False</td>\n",
       "    </tr>\n",
       "    <tr>\n",
       "      <th>1</th>\n",
       "      <td>2012-04-01</td>\n",
       "      <td>Holiday</td>\n",
       "      <td>Regional</td>\n",
       "      <td>Cotopaxi</td>\n",
       "      <td>Provincializacion de Cotopaxi</td>\n",
       "      <td>False</td>\n",
       "    </tr>\n",
       "    <tr>\n",
       "      <th>2</th>\n",
       "      <td>2012-04-12</td>\n",
       "      <td>Holiday</td>\n",
       "      <td>Local</td>\n",
       "      <td>Cuenca</td>\n",
       "      <td>Fundacion de Cuenca</td>\n",
       "      <td>False</td>\n",
       "    </tr>\n",
       "    <tr>\n",
       "      <th>3</th>\n",
       "      <td>2012-04-14</td>\n",
       "      <td>Holiday</td>\n",
       "      <td>Local</td>\n",
       "      <td>Libertad</td>\n",
       "      <td>Cantonizacion de Libertad</td>\n",
       "      <td>False</td>\n",
       "    </tr>\n",
       "    <tr>\n",
       "      <th>4</th>\n",
       "      <td>2012-04-21</td>\n",
       "      <td>Holiday</td>\n",
       "      <td>Local</td>\n",
       "      <td>Riobamba</td>\n",
       "      <td>Cantonizacion de Riobamba</td>\n",
       "      <td>False</td>\n",
       "    </tr>\n",
       "  </tbody>\n",
       "</table>\n",
       "</div>"
      ],
      "text/plain": [
       "         date     type    locale locale_name                    description  \\\n",
       "0  2012-03-02  Holiday     Local       Manta             Fundacion de Manta   \n",
       "1  2012-04-01  Holiday  Regional    Cotopaxi  Provincializacion de Cotopaxi   \n",
       "2  2012-04-12  Holiday     Local      Cuenca            Fundacion de Cuenca   \n",
       "3  2012-04-14  Holiday     Local    Libertad      Cantonizacion de Libertad   \n",
       "4  2012-04-21  Holiday     Local    Riobamba      Cantonizacion de Riobamba   \n",
       "\n",
       "   transferred  \n",
       "0        False  \n",
       "1        False  \n",
       "2        False  \n",
       "3        False  \n",
       "4        False  "
      ]
     },
     "execution_count": 45,
     "metadata": {},
     "output_type": "execute_result"
    }
   ],
   "source": [
    "holidays_df.head()"
   ]
  },
  {
   "cell_type": "code",
   "execution_count": 46,
   "metadata": {},
   "outputs": [
    {
     "data": {
      "text/html": [
       "<div>\n",
       "<style scoped>\n",
       "    .dataframe tbody tr th:only-of-type {\n",
       "        vertical-align: middle;\n",
       "    }\n",
       "\n",
       "    .dataframe tbody tr th {\n",
       "        vertical-align: top;\n",
       "    }\n",
       "\n",
       "    .dataframe thead th {\n",
       "        text-align: right;\n",
       "    }\n",
       "</style>\n",
       "<table border=\"1\" class=\"dataframe\">\n",
       "  <thead>\n",
       "    <tr style=\"text-align: right;\">\n",
       "      <th></th>\n",
       "      <th>store_nbr</th>\n",
       "      <th>city</th>\n",
       "      <th>state</th>\n",
       "      <th>type</th>\n",
       "      <th>cluster</th>\n",
       "    </tr>\n",
       "  </thead>\n",
       "  <tbody>\n",
       "    <tr>\n",
       "      <th>0</th>\n",
       "      <td>1</td>\n",
       "      <td>Quito</td>\n",
       "      <td>Pichincha</td>\n",
       "      <td>D</td>\n",
       "      <td>13</td>\n",
       "    </tr>\n",
       "    <tr>\n",
       "      <th>1</th>\n",
       "      <td>2</td>\n",
       "      <td>Quito</td>\n",
       "      <td>Pichincha</td>\n",
       "      <td>D</td>\n",
       "      <td>13</td>\n",
       "    </tr>\n",
       "    <tr>\n",
       "      <th>2</th>\n",
       "      <td>3</td>\n",
       "      <td>Quito</td>\n",
       "      <td>Pichincha</td>\n",
       "      <td>D</td>\n",
       "      <td>8</td>\n",
       "    </tr>\n",
       "    <tr>\n",
       "      <th>3</th>\n",
       "      <td>4</td>\n",
       "      <td>Quito</td>\n",
       "      <td>Pichincha</td>\n",
       "      <td>D</td>\n",
       "      <td>9</td>\n",
       "    </tr>\n",
       "    <tr>\n",
       "      <th>4</th>\n",
       "      <td>5</td>\n",
       "      <td>Santo Domingo</td>\n",
       "      <td>Santo Domingo de los Tsachilas</td>\n",
       "      <td>D</td>\n",
       "      <td>4</td>\n",
       "    </tr>\n",
       "  </tbody>\n",
       "</table>\n",
       "</div>"
      ],
      "text/plain": [
       "   store_nbr           city                           state type  cluster\n",
       "0          1          Quito                       Pichincha    D       13\n",
       "1          2          Quito                       Pichincha    D       13\n",
       "2          3          Quito                       Pichincha    D        8\n",
       "3          4          Quito                       Pichincha    D        9\n",
       "4          5  Santo Domingo  Santo Domingo de los Tsachilas    D        4"
      ]
     },
     "execution_count": 46,
     "metadata": {},
     "output_type": "execute_result"
    }
   ],
   "source": [
    "stores_df.head()"
   ]
  },
  {
   "cell_type": "code",
   "execution_count": 47,
   "metadata": {},
   "outputs": [
    {
     "data": {
      "text/html": [
       "<div>\n",
       "<style scoped>\n",
       "    .dataframe tbody tr th:only-of-type {\n",
       "        vertical-align: middle;\n",
       "    }\n",
       "\n",
       "    .dataframe tbody tr th {\n",
       "        vertical-align: top;\n",
       "    }\n",
       "\n",
       "    .dataframe thead th {\n",
       "        text-align: right;\n",
       "    }\n",
       "</style>\n",
       "<table border=\"1\" class=\"dataframe\">\n",
       "  <thead>\n",
       "    <tr style=\"text-align: right;\">\n",
       "      <th></th>\n",
       "      <th>date</th>\n",
       "      <th>store_nbr</th>\n",
       "      <th>transactions</th>\n",
       "    </tr>\n",
       "  </thead>\n",
       "  <tbody>\n",
       "    <tr>\n",
       "      <th>0</th>\n",
       "      <td>2013-01-01</td>\n",
       "      <td>25</td>\n",
       "      <td>770</td>\n",
       "    </tr>\n",
       "    <tr>\n",
       "      <th>1</th>\n",
       "      <td>2013-01-02</td>\n",
       "      <td>1</td>\n",
       "      <td>2111</td>\n",
       "    </tr>\n",
       "    <tr>\n",
       "      <th>2</th>\n",
       "      <td>2013-01-02</td>\n",
       "      <td>2</td>\n",
       "      <td>2358</td>\n",
       "    </tr>\n",
       "    <tr>\n",
       "      <th>3</th>\n",
       "      <td>2013-01-02</td>\n",
       "      <td>3</td>\n",
       "      <td>3487</td>\n",
       "    </tr>\n",
       "    <tr>\n",
       "      <th>4</th>\n",
       "      <td>2013-01-02</td>\n",
       "      <td>4</td>\n",
       "      <td>1922</td>\n",
       "    </tr>\n",
       "  </tbody>\n",
       "</table>\n",
       "</div>"
      ],
      "text/plain": [
       "         date  store_nbr  transactions\n",
       "0  2013-01-01         25           770\n",
       "1  2013-01-02          1          2111\n",
       "2  2013-01-02          2          2358\n",
       "3  2013-01-02          3          3487\n",
       "4  2013-01-02          4          1922"
      ]
     },
     "execution_count": 47,
     "metadata": {},
     "output_type": "execute_result"
    }
   ],
   "source": [
    "transactions_df.head()"
   ]
  },
  {
   "cell_type": "code",
   "execution_count": 48,
   "metadata": {},
   "outputs": [
    {
     "data": {
      "text/plain": [
       "id             0\n",
       "date           0\n",
       "store_nbr      0\n",
       "family         0\n",
       "sales          0\n",
       "onpromotion    0\n",
       "dtype: int64"
      ]
     },
     "execution_count": 48,
     "metadata": {},
     "output_type": "execute_result"
    }
   ],
   "source": [
    "train_df.isnull().sum()"
   ]
  },
  {
   "cell_type": "code",
   "execution_count": 49,
   "metadata": {},
   "outputs": [
    {
     "data": {
      "text/plain": [
       "0"
      ]
     },
     "execution_count": 49,
     "metadata": {},
     "output_type": "execute_result"
    }
   ],
   "source": [
    "train_df.duplicated().sum()"
   ]
  },
  {
   "cell_type": "code",
   "execution_count": 50,
   "metadata": {},
   "outputs": [
    {
     "data": {
      "text/html": [
       "<div>\n",
       "<style scoped>\n",
       "    .dataframe tbody tr th:only-of-type {\n",
       "        vertical-align: middle;\n",
       "    }\n",
       "\n",
       "    .dataframe tbody tr th {\n",
       "        vertical-align: top;\n",
       "    }\n",
       "\n",
       "    .dataframe thead th {\n",
       "        text-align: right;\n",
       "    }\n",
       "</style>\n",
       "<table border=\"1\" class=\"dataframe\">\n",
       "  <thead>\n",
       "    <tr style=\"text-align: right;\">\n",
       "      <th></th>\n",
       "      <th>id</th>\n",
       "      <th>store_nbr</th>\n",
       "      <th>sales</th>\n",
       "      <th>onpromotion</th>\n",
       "    </tr>\n",
       "  </thead>\n",
       "  <tbody>\n",
       "    <tr>\n",
       "      <th>count</th>\n",
       "      <td>3000888.00</td>\n",
       "      <td>3000888.00</td>\n",
       "      <td>3000888.00</td>\n",
       "      <td>3000888.00</td>\n",
       "    </tr>\n",
       "    <tr>\n",
       "      <th>mean</th>\n",
       "      <td>1500443.50</td>\n",
       "      <td>27.50</td>\n",
       "      <td>357.78</td>\n",
       "      <td>34.60</td>\n",
       "    </tr>\n",
       "    <tr>\n",
       "      <th>std</th>\n",
       "      <td>866281.89</td>\n",
       "      <td>15.59</td>\n",
       "      <td>1102.00</td>\n",
       "      <td>99.48</td>\n",
       "    </tr>\n",
       "    <tr>\n",
       "      <th>min</th>\n",
       "      <td>0.00</td>\n",
       "      <td>1.00</td>\n",
       "      <td>0.00</td>\n",
       "      <td>0.00</td>\n",
       "    </tr>\n",
       "    <tr>\n",
       "      <th>25%</th>\n",
       "      <td>750221.75</td>\n",
       "      <td>14.00</td>\n",
       "      <td>0.00</td>\n",
       "      <td>0.00</td>\n",
       "    </tr>\n",
       "    <tr>\n",
       "      <th>50%</th>\n",
       "      <td>1500443.50</td>\n",
       "      <td>27.50</td>\n",
       "      <td>11.00</td>\n",
       "      <td>1.00</td>\n",
       "    </tr>\n",
       "    <tr>\n",
       "      <th>75%</th>\n",
       "      <td>2250665.25</td>\n",
       "      <td>41.00</td>\n",
       "      <td>195.85</td>\n",
       "      <td>16.00</td>\n",
       "    </tr>\n",
       "    <tr>\n",
       "      <th>max</th>\n",
       "      <td>3000887.00</td>\n",
       "      <td>54.00</td>\n",
       "      <td>124717.00</td>\n",
       "      <td>1006.00</td>\n",
       "    </tr>\n",
       "  </tbody>\n",
       "</table>\n",
       "</div>"
      ],
      "text/plain": [
       "               id   store_nbr       sales  onpromotion\n",
       "count  3000888.00  3000888.00  3000888.00   3000888.00\n",
       "mean   1500443.50       27.50      357.78        34.60\n",
       "std     866281.89       15.59     1102.00        99.48\n",
       "min          0.00        1.00        0.00         0.00\n",
       "25%     750221.75       14.00        0.00         0.00\n",
       "50%    1500443.50       27.50       11.00         1.00\n",
       "75%    2250665.25       41.00      195.85        16.00\n",
       "max    3000887.00       54.00   124717.00      1006.00"
      ]
     },
     "execution_count": 50,
     "metadata": {},
     "output_type": "execute_result"
    }
   ],
   "source": [
    "round(train_df.describe(), 2)"
   ]
  },
  {
   "cell_type": "code",
   "execution_count": 51,
   "metadata": {},
   "outputs": [
    {
     "data": {
      "text/plain": [
       "3000888"
      ]
     },
     "execution_count": 51,
     "metadata": {},
     "output_type": "execute_result"
    }
   ],
   "source": [
    "train_df.id.nunique()"
   ]
  },
  {
   "cell_type": "code",
   "execution_count": 53,
   "metadata": {},
   "outputs": [
    {
     "data": {
      "text/plain": [
       "count    3000888.00\n",
       "mean         357.78\n",
       "std         1102.00\n",
       "min            0.00\n",
       "25%            0.00\n",
       "50%           11.00\n",
       "75%          195.85\n",
       "max       124717.00\n",
       "Name: sales, dtype: float64"
      ]
     },
     "execution_count": 53,
     "metadata": {},
     "output_type": "execute_result"
    }
   ],
   "source": [
    "round(train_df.sales.describe(), 2)"
   ]
  },
  {
   "cell_type": "code",
   "execution_count": 54,
   "metadata": {},
   "outputs": [
    {
     "name": "stdout",
     "output_type": "stream",
     "text": [
      "<class 'pandas.core.frame.DataFrame'>\n",
      "RangeIndex: 3000888 entries, 0 to 3000887\n",
      "Data columns (total 6 columns):\n",
      " #   Column       Dtype  \n",
      "---  ------       -----  \n",
      " 0   id           int64  \n",
      " 1   date         object \n",
      " 2   store_nbr    int64  \n",
      " 3   family       object \n",
      " 4   sales        float64\n",
      " 5   onpromotion  float64\n",
      "dtypes: float64(2), int64(2), object(2)\n",
      "memory usage: 137.4+ MB\n"
     ]
    }
   ],
   "source": [
    "train_df.info()"
   ]
  },
  {
   "cell_type": "code",
   "execution_count": 55,
   "metadata": {},
   "outputs": [],
   "source": [
    "train_df['date'] = pd.to_datetime(train_df['date'],  errors='coerce')"
   ]
  },
  {
   "cell_type": "code",
   "execution_count": 57,
   "metadata": {},
   "outputs": [
    {
     "data": {
      "image/png": "[encoded data removed]",
      "text/plain": [
       "<Figure size 1080x576 with 1 Axes>"
      ]
     },
     "metadata": {
      "needs_background": "light"
     },
     "output_type": "display_data"
    }
   ],
   "source": [
    "plt.figure(figsize=(15,8))\n",
    "plt.plot(train_df.date, train_df.sales)\n",
    "plt.show()"
   ]
  },
  {
   "cell_type": "code",
   "execution_count": 59,
   "metadata": {},
   "outputs": [],
   "source": [
    "months_sales = train_df.groupby(train_df['date'].dt.strftime('%B'))['sales'].sum().sort_values()"
   ]
  },
  {
   "cell_type": "code",
   "execution_count": 60,
   "metadata": {},
   "outputs": [
    {
     "data": {
      "image/png": "[encoded data removed]",
      "text/plain": [
       "<Figure size 1080x576 with 1 Axes>"
      ]
     },
     "metadata": {
      "needs_background": "light"
     },
     "output_type": "display_data"
    }
   ],
   "source": [
    "plt.figure(figsize=(15,8))\n",
    "plt.plot(months_sales)\n",
    "plt.title(\"Aylık satışlar\", fontsize=15)\n",
    "plt.xlabel(\"Ay\", fontsize=13)\n",
    "plt.ylabel(\"Satışlar\", fontsize=13)\n",
    "plt.show()"
   ]
  },
  {
   "cell_type": "code",
   "execution_count": 61,
   "metadata": {},
   "outputs": [
    {
     "data": {
      "image/png": "[encoded data removed]",
      "text/plain": [
       "<Figure size 1080x576 with 1 Axes>"
      ]
     },
     "metadata": {
      "needs_background": "light"
     },
     "output_type": "display_data"
    }
   ],
   "source": [
    "plt.figure(figsize=(15,8))\n",
    "train_df.groupby(pd.Grouper(key='date', freq='2D')).sum()['sales'].plot()\n",
    "plt.ylabel(\"Satışlar \", fontsize=15)\n",
    "plt.show()"
   ]
  },
  {
   "cell_type": "code",
   "execution_count": 62,
   "metadata": {},
   "outputs": [
    {
     "data": {
      "image/png": "[encoded data removed]",
      "text/plain": [
       "<Figure size 720x576 with 1 Axes>"
      ]
     },
     "metadata": {
      "needs_background": "light"
     },
     "output_type": "display_data"
    }
   ],
   "source": [
    "plt.figure(figsize=(10,8))\n",
    "train_df.groupby(pd.Grouper(key='date', freq='1Y')).sum()['sales'].plot()\n",
    "plt.title(\"Yıllık Satış Durumu\", fontsize=15)\n",
    "plt.ylabel(\"Satışlar\", fontsize=15)\n",
    "plt.show()"
   ]
  },
  {
   "cell_type": "code",
   "execution_count": 63,
   "metadata": {},
   "outputs": [
    {
     "data": {
      "text/html": [
       "<div>\n",
       "<style scoped>\n",
       "    .dataframe tbody tr th:only-of-type {\n",
       "        vertical-align: middle;\n",
       "    }\n",
       "\n",
       "    .dataframe tbody tr th {\n",
       "        vertical-align: top;\n",
       "    }\n",
       "\n",
       "    .dataframe thead th {\n",
       "        text-align: right;\n",
       "    }\n",
       "</style>\n",
       "<table border=\"1\" class=\"dataframe\">\n",
       "  <thead>\n",
       "    <tr style=\"text-align: right;\">\n",
       "      <th></th>\n",
       "      <th>id</th>\n",
       "      <th>date</th>\n",
       "      <th>store_nbr</th>\n",
       "      <th>family</th>\n",
       "      <th>sales</th>\n",
       "      <th>onpromotion</th>\n",
       "    </tr>\n",
       "  </thead>\n",
       "  <tbody>\n",
       "    <tr>\n",
       "      <th>0</th>\n",
       "      <td>0</td>\n",
       "      <td>2013-01-01</td>\n",
       "      <td>1</td>\n",
       "      <td>AUTOMOTIVE</td>\n",
       "      <td>0.0</td>\n",
       "      <td>0.0</td>\n",
       "    </tr>\n",
       "    <tr>\n",
       "      <th>1</th>\n",
       "      <td>1</td>\n",
       "      <td>2013-01-01</td>\n",
       "      <td>1</td>\n",
       "      <td>BABY CARE</td>\n",
       "      <td>0.0</td>\n",
       "      <td>0.0</td>\n",
       "    </tr>\n",
       "  </tbody>\n",
       "</table>\n",
       "</div>"
      ],
      "text/plain": [
       "   id       date  store_nbr      family  sales  onpromotion\n",
       "0   0 2013-01-01          1  AUTOMOTIVE    0.0          0.0\n",
       "1   1 2013-01-01          1   BABY CARE    0.0          0.0"
      ]
     },
     "execution_count": 63,
     "metadata": {},
     "output_type": "execute_result"
    }
   ],
   "source": [
    "train_df.head(2)"
   ]
  },
  {
   "cell_type": "code",
   "execution_count": 64,
   "metadata": {},
   "outputs": [
    {
     "data": {
      "image/png": "[encoded data removed]",
      "text/plain": [
       "<Figure size 1080x576 with 1 Axes>"
      ]
     },
     "metadata": {
      "needs_background": "light"
     },
     "output_type": "display_data"
    }
   ],
   "source": [
    "plt.figure(figsize=(15, 8))\n",
    "train_df.groupby(\"family\")['family'].count().plot(kind='bar')\n",
    "plt.title(\"Ürün ailesine göre satış adedi\", fontsize=15)\n",
    "plt.show()"
   ]
  },
  {
   "cell_type": "code",
   "execution_count": 65,
   "metadata": {},
   "outputs": [],
   "source": [
    "months_pormotions = train_df.groupby(train_df['date'].dt.strftime('%B'))['onpromotion'].sum().sort_values()"
   ]
  },
  {
   "cell_type": "code",
   "execution_count": 67,
   "metadata": {},
   "outputs": [
    {
     "data": {
      "image/png": "[encoded data removed]",
      "text/plain": [
       "<Figure size 1080x576 with 1 Axes>"
      ]
     },
     "metadata": {
      "needs_background": "light"
     },
     "output_type": "display_data"
    }
   ],
   "source": [
    "plt.figure(figsize=(15,8))\n",
    "plt.plot(months_pormotions)\n",
    "plt.title(\"Aylara Göre Promosyonlar\", fontsize=15)\n",
    "\n",
    "plt.xlabel(\"Ay\", fontsize=13)\n",
    "plt.ylabel(\"Promosyonlar\", fontsize=13)\n",
    "plt.show()"
   ]
  },
  {
   "cell_type": "code",
   "execution_count": 68,
   "metadata": {},
   "outputs": [
    {
     "data": {
      "image/png": "[encoded data removed]",
      "text/plain": [
       "<Figure size 720x576 with 1 Axes>"
      ]
     },
     "metadata": {
      "needs_background": "light"
     },
     "output_type": "display_data"
    }
   ],
   "source": [
    "plt.figure(figsize=(10,8))\n",
    "train_df.groupby(pd.Grouper(key='date', freq='1Y')).sum()['onpromotion'].plot()\n",
    "plt.title(\"Yıllara Göre Promosyonlar\", fontsize=15)\n",
    "plt.ylabel(\"Promosyolar\", fontsize=15)\n",
    "plt.show()"
   ]
  },
  {
   "cell_type": "code",
   "execution_count": 69,
   "metadata": {},
   "outputs": [],
   "source": [
    "stores_sales = train_df.groupby('store_nbr')['sales'].sum()"
   ]
  },
  {
   "cell_type": "code",
   "execution_count": 70,
   "metadata": {},
   "outputs": [],
   "source": [
    "stores_sales.sort_values(inplace=True)"
   ]
  },
  {
   "cell_type": "code",
   "execution_count": 71,
   "metadata": {},
   "outputs": [
    {
     "data": {
      "text/plain": [
       "store_nbr\n",
       "52     2696169.73\n",
       "22     4090201.74\n",
       "32     5951796.00\n",
       "30     7382073.66\n",
       "35     7676679.42\n",
       "26     7755121.89\n",
       "42     8945767.89\n",
       "21     9255505.91\n",
       "10     9613905.74\n",
       "29     9725157.70\n",
       "13    10523045.82\n",
       "12    10659217.96\n",
       "16    10986412.55\n",
       "54    11057483.12\n",
       "53    11216167.28\n",
       "14    11387918.75\n",
       "25    11420997.87\n",
       "15    11451270.02\n",
       "23    11651380.67\n",
       "20    12920954.59\n",
       "19    13049509.84\n",
       "18    13259375.69\n",
       "1     14145012.87\n",
       "33    14178501.29\n",
       "41    14991039.14\n",
       "36    15322431.10\n",
       "5     15592404.57\n",
       "43    16391692.21\n",
       "34    17090734.16\n",
       "31    17746872.70\n",
       "17    18030969.25\n",
       "28    18383154.83\n",
       "40    18395757.41\n",
       "38    18859999.26\n",
       "4     18909700.38\n",
       "27    19188021.38\n",
       "37    19970635.61\n",
       "39    20252192.53\n",
       "2     21557388.64\n",
       "24    23767732.70\n",
       "6     25183680.00\n",
       "9     26409441.06\n",
       "7     26952049.58\n",
       "11    28325558.48\n",
       "50    28653020.62\n",
       "8     30494286.93\n",
       "51    32911489.54\n",
       "48    35933130.27\n",
       "46    41896062.12\n",
       "49    43420095.78\n",
       "3     50481910.19\n",
       "47    50948310.06\n",
       "45    54498010.42\n",
       "44    62087553.25\n",
       "Name: sales, dtype: float64"
      ]
     },
     "execution_count": 71,
     "metadata": {},
     "output_type": "execute_result"
    }
   ],
   "source": [
    "round(stores_sales, 2)"
   ]
  },
  {
   "cell_type": "code",
   "execution_count": 73,
   "metadata": {},
   "outputs": [
    {
     "data": {
      "image/png": "[encoded data removed]",
      "text/plain": [
       "<Figure size 720x576 with 1 Axes>"
      ]
     },
     "metadata": {
      "needs_background": "light"
     },
     "output_type": "display_data"
    }
   ],
   "source": [
    "plt.figure(figsize=(10, 8))\n",
    "stores_sales[-10:].plot(kind='bar')\n",
    "plt.title(\"Mağaza başına en iyi 10 satış\", fontsize=15)\n",
    "plt.xlabel(\"Mağaza\")\n",
    "plt.ylabel(\"Satış\")\n",
    "plt.show()"
   ]
  },
  {
   "cell_type": "code",
   "execution_count": 74,
   "metadata": {},
   "outputs": [
    {
     "name": "stdout",
     "output_type": "stream",
     "text": [
      "<class 'pandas.core.frame.DataFrame'>\n",
      "RangeIndex: 54 entries, 0 to 53\n",
      "Data columns (total 5 columns):\n",
      " #   Column     Non-Null Count  Dtype \n",
      "---  ------     --------------  ----- \n",
      " 0   store_nbr  54 non-null     int64 \n",
      " 1   city       54 non-null     object\n",
      " 2   state      54 non-null     object\n",
      " 3   type       54 non-null     object\n",
      " 4   cluster    54 non-null     int64 \n",
      "dtypes: int64(2), object(3)\n",
      "memory usage: 2.2+ KB\n"
     ]
    }
   ],
   "source": [
    "stores_df.info()"
   ]
  },
  {
   "cell_type": "code",
   "execution_count": 75,
   "metadata": {},
   "outputs": [
    {
     "data": {
      "text/html": [
       "<div>\n",
       "<style scoped>\n",
       "    .dataframe tbody tr th:only-of-type {\n",
       "        vertical-align: middle;\n",
       "    }\n",
       "\n",
       "    .dataframe tbody tr th {\n",
       "        vertical-align: top;\n",
       "    }\n",
       "\n",
       "    .dataframe thead th {\n",
       "        text-align: right;\n",
       "    }\n",
       "</style>\n",
       "<table border=\"1\" class=\"dataframe\">\n",
       "  <thead>\n",
       "    <tr style=\"text-align: right;\">\n",
       "      <th></th>\n",
       "      <th>store_nbr</th>\n",
       "      <th>city</th>\n",
       "      <th>state</th>\n",
       "      <th>type</th>\n",
       "      <th>cluster</th>\n",
       "    </tr>\n",
       "  </thead>\n",
       "  <tbody>\n",
       "    <tr>\n",
       "      <th>0</th>\n",
       "      <td>1</td>\n",
       "      <td>Quito</td>\n",
       "      <td>Pichincha</td>\n",
       "      <td>D</td>\n",
       "      <td>13</td>\n",
       "    </tr>\n",
       "    <tr>\n",
       "      <th>1</th>\n",
       "      <td>2</td>\n",
       "      <td>Quito</td>\n",
       "      <td>Pichincha</td>\n",
       "      <td>D</td>\n",
       "      <td>13</td>\n",
       "    </tr>\n",
       "  </tbody>\n",
       "</table>\n",
       "</div>"
      ],
      "text/plain": [
       "   store_nbr   city      state type  cluster\n",
       "0          1  Quito  Pichincha    D       13\n",
       "1          2  Quito  Pichincha    D       13"
      ]
     },
     "execution_count": 75,
     "metadata": {},
     "output_type": "execute_result"
    }
   ],
   "source": [
    "stores_df.head(2)"
   ]
  },
  {
   "cell_type": "code",
   "execution_count": 76,
   "metadata": {},
   "outputs": [],
   "source": [
    "sales_nums = stores_sales.index"
   ]
  },
  {
   "cell_type": "code",
   "execution_count": 77,
   "metadata": {},
   "outputs": [],
   "source": [
    "top_stores = sales_nums[-10:]"
   ]
  },
  {
   "cell_type": "code",
   "execution_count": 78,
   "metadata": {},
   "outputs": [],
   "source": [
    "cities = []\n",
    "i = 0\n",
    "for city in stores_df.city:\n",
    "    if stores_df.store_nbr[i] in  top_stores:\n",
    "        cities.append(stores_df.city[i])\n",
    "    i += 1"
   ]
  },
  {
   "cell_type": "code",
   "execution_count": 79,
   "metadata": {},
   "outputs": [
    {
     "data": {
      "text/plain": [
       "['Quito',\n",
       " 'Quito',\n",
       " 'Quito',\n",
       " 'Quito',\n",
       " 'Quito',\n",
       " 'Quito',\n",
       " 'Quito',\n",
       " 'Quito',\n",
       " 'Ambato',\n",
       " 'Guayaquil']"
      ]
     },
     "execution_count": 79,
     "metadata": {},
     "output_type": "execute_result"
    }
   ],
   "source": [
    "cities"
   ]
  },
  {
   "cell_type": "code",
   "execution_count": 80,
   "metadata": {},
   "outputs": [],
   "source": [
    "cities = np.array(cities)\n",
    "cities = pd.Series(cities)"
   ]
  },
  {
   "cell_type": "code",
   "execution_count": 82,
   "metadata": {},
   "outputs": [
    {
     "data": {
      "image/png": "[encoded data removed]",
      "text/plain": [
       "<Figure size 432x288 with 1 Axes>"
      ]
     },
     "metadata": {
      "needs_background": "light"
     },
     "output_type": "display_data"
    }
   ],
   "source": [
    "cities.hist()\n",
    "plt.title(\"şehir başına en çok satan mağazaların sıklığı\")\n",
    "plt.ylabel(\"şehirdeki en iyi mağazaların sayısı\")\n",
    "plt.show()"
   ]
  },
  {
   "cell_type": "markdown",
   "metadata": {},
   "source": [
    "# MODELING"
   ]
  },
  {
   "cell_type": "markdown",
   "metadata": {},
   "source": [
    "## DecisionTreeRegressor"
   ]
  },
  {
   "cell_type": "code",
   "execution_count": 126,
   "metadata": {},
   "outputs": [],
   "source": [
    "train_df.date = pd.to_numeric(train_df.date)"
   ]
  },
  {
   "cell_type": "code",
   "execution_count": 127,
   "metadata": {},
   "outputs": [],
   "source": [
    "\n",
    "#KÜTÜPHANELER\n",
    "\n",
    "from sklearn.model_selection import train_test_split\n",
    "from sklearn.tree import DecisionTreeRegressor\n",
    "from sklearn.preprocessing import LabelEncoder"
   ]
  },
  {
   "cell_type": "code",
   "execution_count": 128,
   "metadata": {},
   "outputs": [],
   "source": [
    "le = LabelEncoder()\n",
    "train_df.family = le.fit_transform(train_df.family)"
   ]
  },
  {
   "cell_type": "code",
   "execution_count": 129,
   "metadata": {},
   "outputs": [
    {
     "data": {
      "text/html": [
       "<div>\n",
       "<style scoped>\n",
       "    .dataframe tbody tr th:only-of-type {\n",
       "        vertical-align: middle;\n",
       "    }\n",
       "\n",
       "    .dataframe tbody tr th {\n",
       "        vertical-align: top;\n",
       "    }\n",
       "\n",
       "    .dataframe thead th {\n",
       "        text-align: right;\n",
       "    }\n",
       "</style>\n",
       "<table border=\"1\" class=\"dataframe\">\n",
       "  <thead>\n",
       "    <tr style=\"text-align: right;\">\n",
       "      <th></th>\n",
       "      <th>id</th>\n",
       "      <th>date</th>\n",
       "      <th>store_nbr</th>\n",
       "      <th>family</th>\n",
       "      <th>sales</th>\n",
       "      <th>onpromotion</th>\n",
       "    </tr>\n",
       "  </thead>\n",
       "  <tbody>\n",
       "    <tr>\n",
       "      <th>0</th>\n",
       "      <td>0</td>\n",
       "      <td>1356998400000000000</td>\n",
       "      <td>1</td>\n",
       "      <td>0</td>\n",
       "      <td>0.0</td>\n",
       "      <td>0.0</td>\n",
       "    </tr>\n",
       "    <tr>\n",
       "      <th>1</th>\n",
       "      <td>1</td>\n",
       "      <td>1356998400000000000</td>\n",
       "      <td>1</td>\n",
       "      <td>1</td>\n",
       "      <td>0.0</td>\n",
       "      <td>0.0</td>\n",
       "    </tr>\n",
       "  </tbody>\n",
       "</table>\n",
       "</div>"
      ],
      "text/plain": [
       "   id                 date  store_nbr  family  sales  onpromotion\n",
       "0   0  1356998400000000000          1       0    0.0          0.0\n",
       "1   1  1356998400000000000          1       1    0.0          0.0"
      ]
     },
     "execution_count": 129,
     "metadata": {},
     "output_type": "execute_result"
    }
   ],
   "source": [
    "train_df.head(2)"
   ]
  },
  {
   "cell_type": "code",
   "execution_count": 130,
   "metadata": {},
   "outputs": [],
   "source": [
    "X = train_df.drop(['sales', 'id', 'date'], axis = 1).values\n",
    "y = train_df.sales.values"
   ]
  },
  {
   "cell_type": "code",
   "execution_count": 131,
   "metadata": {},
   "outputs": [
    {
     "data": {
      "text/plain": [
       "(3000888, 3)"
      ]
     },
     "execution_count": 131,
     "metadata": {},
     "output_type": "execute_result"
    }
   ],
   "source": [
    "X.shape"
   ]
  },
  {
   "cell_type": "code",
   "execution_count": 132,
   "metadata": {},
   "outputs": [
    {
     "data": {
      "text/plain": [
       "(3000888,)"
      ]
     },
     "execution_count": 132,
     "metadata": {},
     "output_type": "execute_result"
    }
   ],
   "source": [
    "y.shape"
   ]
  },
  {
   "cell_type": "code",
   "execution_count": 133,
   "metadata": {},
   "outputs": [],
   "source": [
    "X_train, X_test, y_train, y_test = train_test_split(X, y, test_size=0.15, random_state=42)"
   ]
  },
  {
   "cell_type": "code",
   "execution_count": 134,
   "metadata": {},
   "outputs": [],
   "source": [
    "regressor = DecisionTreeRegressor(max_depth=5, max_leaf_nodes=12, random_state=42)"
   ]
  },
  {
   "cell_type": "code",
   "execution_count": 135,
   "metadata": {},
   "outputs": [
    {
     "data": {
      "text/plain": [
       "DecisionTreeRegressor(max_depth=5, max_leaf_nodes=12, random_state=42)"
      ]
     },
     "execution_count": 135,
     "metadata": {},
     "output_type": "execute_result"
    }
   ],
   "source": [
    "regressor.fit(X_train, y_train)"
   ]
  },
  {
   "cell_type": "code",
   "execution_count": 136,
   "metadata": {},
   "outputs": [
    {
     "data": {
      "text/plain": [
       "0.663494706816192"
      ]
     },
     "execution_count": 136,
     "metadata": {},
     "output_type": "execute_result"
    }
   ],
   "source": [
    "regressor.score(X_train, y_train)"
   ]
  },
  {
   "cell_type": "code",
   "execution_count": 137,
   "metadata": {},
   "outputs": [
    {
     "data": {
      "text/plain": [
       "0.6563814090619251"
      ]
     },
     "execution_count": 137,
     "metadata": {},
     "output_type": "execute_result"
    }
   ],
   "source": [
    "regressor.score(X_test, y_test)"
   ]
  },
  {
   "cell_type": "markdown",
   "metadata": {},
   "source": [
    "# Linear Regression"
   ]
  },
  {
   "cell_type": "code",
   "execution_count": 107,
   "metadata": {},
   "outputs": [],
   "source": [
    "Score: 56\n",
    "\n"
   ]
  },
  {
   "cell_type": "code",
   "execution_count": 96,
   "metadata": {},
   "outputs": [
    {
     "data": {
      "text/plain": [
       "<matplotlib.collections.PathCollection at 0x19ed4eb8>"
      ]
     },
     "execution_count": 96,
     "metadata": {},
     "output_type": "execute_result"
    },
    {
     "data": {
      "image/png": "[encoded data removed]",
      "text/plain": [
       "<Figure size 432x288 with 1 Axes>"
      ]
     },
     "metadata": {
      "needs_background": "light"
     },
     "output_type": "display_data"
    }
   ],
   "source": [
    "plt.scatter(train_df.onpromotion, train_df.sales)"
   ]
  },
  {
   "cell_type": "code",
   "execution_count": 97,
   "metadata": {},
   "outputs": [
    {
     "data": {
      "text/html": [
       "<div>\n",
       "<style scoped>\n",
       "    .dataframe tbody tr th:only-of-type {\n",
       "        vertical-align: middle;\n",
       "    }\n",
       "\n",
       "    .dataframe tbody tr th {\n",
       "        vertical-align: top;\n",
       "    }\n",
       "\n",
       "    .dataframe thead th {\n",
       "        text-align: right;\n",
       "    }\n",
       "</style>\n",
       "<table border=\"1\" class=\"dataframe\">\n",
       "  <thead>\n",
       "    <tr style=\"text-align: right;\">\n",
       "      <th></th>\n",
       "      <th>id</th>\n",
       "      <th>date</th>\n",
       "      <th>store_nbr</th>\n",
       "      <th>family</th>\n",
       "      <th>sales</th>\n",
       "      <th>onpromotion</th>\n",
       "    </tr>\n",
       "  </thead>\n",
       "  <tbody>\n",
       "    <tr>\n",
       "      <th>id</th>\n",
       "      <td>1.000000</td>\n",
       "      <td>9.999997e-01</td>\n",
       "      <td>3.013308e-04</td>\n",
       "      <td>1.099169e-05</td>\n",
       "      <td>0.085784</td>\n",
       "      <td>0.213851</td>\n",
       "    </tr>\n",
       "    <tr>\n",
       "      <th>date</th>\n",
       "      <td>1.000000</td>\n",
       "      <td>1.000000e+00</td>\n",
       "      <td>3.587512e-16</td>\n",
       "      <td>1.489755e-16</td>\n",
       "      <td>0.085728</td>\n",
       "      <td>0.213821</td>\n",
       "    </tr>\n",
       "    <tr>\n",
       "      <th>store_nbr</th>\n",
       "      <td>0.000301</td>\n",
       "      <td>3.587512e-16</td>\n",
       "      <td>1.000000e+00</td>\n",
       "      <td>0.000000e+00</td>\n",
       "      <td>0.041196</td>\n",
       "      <td>0.002442</td>\n",
       "    </tr>\n",
       "    <tr>\n",
       "      <th>family</th>\n",
       "      <td>0.000011</td>\n",
       "      <td>1.489755e-16</td>\n",
       "      <td>0.000000e+00</td>\n",
       "      <td>1.000000e+00</td>\n",
       "      <td>-0.114159</td>\n",
       "      <td>-0.148262</td>\n",
       "    </tr>\n",
       "    <tr>\n",
       "      <th>sales</th>\n",
       "      <td>0.085784</td>\n",
       "      <td>8.572780e-02</td>\n",
       "      <td>4.119605e-02</td>\n",
       "      <td>-1.141591e-01</td>\n",
       "      <td>1.000000</td>\n",
       "      <td>0.755648</td>\n",
       "    </tr>\n",
       "    <tr>\n",
       "      <th>onpromotion</th>\n",
       "      <td>0.213851</td>\n",
       "      <td>2.138210e-01</td>\n",
       "      <td>2.442236e-03</td>\n",
       "      <td>-1.482616e-01</td>\n",
       "      <td>0.755648</td>\n",
       "      <td>1.000000</td>\n",
       "    </tr>\n",
       "  </tbody>\n",
       "</table>\n",
       "</div>"
      ],
      "text/plain": [
       "                   id          date     store_nbr        family     sales  \\\n",
       "id           1.000000  9.999997e-01  3.013308e-04  1.099169e-05  0.085784   \n",
       "date         1.000000  1.000000e+00  3.587512e-16  1.489755e-16  0.085728   \n",
       "store_nbr    0.000301  3.587512e-16  1.000000e+00  0.000000e+00  0.041196   \n",
       "family       0.000011  1.489755e-16  0.000000e+00  1.000000e+00 -0.114159   \n",
       "sales        0.085784  8.572780e-02  4.119605e-02 -1.141591e-01  1.000000   \n",
       "onpromotion  0.213851  2.138210e-01  2.442236e-03 -1.482616e-01  0.755648   \n",
       "\n",
       "             onpromotion  \n",
       "id              0.213851  \n",
       "date            0.213821  \n",
       "store_nbr       0.002442  \n",
       "family         -0.148262  \n",
       "sales           0.755648  \n",
       "onpromotion     1.000000  "
      ]
     },
     "execution_count": 97,
     "metadata": {},
     "output_type": "execute_result"
    }
   ],
   "source": [
    "train_df.corr()"
   ]
  },
  {
   "cell_type": "code",
   "execution_count": 98,
   "metadata": {},
   "outputs": [],
   "source": [
    "from sklearn.linear_model import LinearRegression"
   ]
  },
  {
   "cell_type": "code",
   "execution_count": 99,
   "metadata": {},
   "outputs": [],
   "source": [
    "regressor2 = LinearRegression()"
   ]
  },
  {
   "cell_type": "code",
   "execution_count": 100,
   "metadata": {},
   "outputs": [
    {
     "data": {
      "text/html": [
       "<div>\n",
       "<style scoped>\n",
       "    .dataframe tbody tr th:only-of-type {\n",
       "        vertical-align: middle;\n",
       "    }\n",
       "\n",
       "    .dataframe tbody tr th {\n",
       "        vertical-align: top;\n",
       "    }\n",
       "\n",
       "    .dataframe thead th {\n",
       "        text-align: right;\n",
       "    }\n",
       "</style>\n",
       "<table border=\"1\" class=\"dataframe\">\n",
       "  <thead>\n",
       "    <tr style=\"text-align: right;\">\n",
       "      <th></th>\n",
       "      <th>onpromotion</th>\n",
       "    </tr>\n",
       "  </thead>\n",
       "  <tbody>\n",
       "    <tr>\n",
       "      <th>0</th>\n",
       "      <td>0.0</td>\n",
       "    </tr>\n",
       "    <tr>\n",
       "      <th>1</th>\n",
       "      <td>0.0</td>\n",
       "    </tr>\n",
       "    <tr>\n",
       "      <th>2</th>\n",
       "      <td>0.0</td>\n",
       "    </tr>\n",
       "    <tr>\n",
       "      <th>3</th>\n",
       "      <td>0.0</td>\n",
       "    </tr>\n",
       "    <tr>\n",
       "      <th>4</th>\n",
       "      <td>0.0</td>\n",
       "    </tr>\n",
       "    <tr>\n",
       "      <th>...</th>\n",
       "      <td>...</td>\n",
       "    </tr>\n",
       "    <tr>\n",
       "      <th>3000883</th>\n",
       "      <td>15.0</td>\n",
       "    </tr>\n",
       "    <tr>\n",
       "      <th>3000884</th>\n",
       "      <td>8.0</td>\n",
       "    </tr>\n",
       "    <tr>\n",
       "      <th>3000885</th>\n",
       "      <td>148.0</td>\n",
       "    </tr>\n",
       "    <tr>\n",
       "      <th>3000886</th>\n",
       "      <td>10.0</td>\n",
       "    </tr>\n",
       "    <tr>\n",
       "      <th>3000887</th>\n",
       "      <td>2.0</td>\n",
       "    </tr>\n",
       "  </tbody>\n",
       "</table>\n",
       "<p>3000888 rows × 1 columns</p>\n",
       "</div>"
      ],
      "text/plain": [
       "         onpromotion\n",
       "0                0.0\n",
       "1                0.0\n",
       "2                0.0\n",
       "3                0.0\n",
       "4                0.0\n",
       "...              ...\n",
       "3000883         15.0\n",
       "3000884          8.0\n",
       "3000885        148.0\n",
       "3000886         10.0\n",
       "3000887          2.0\n",
       "\n",
       "[3000888 rows x 1 columns]"
      ]
     },
     "execution_count": 100,
     "metadata": {},
     "output_type": "execute_result"
    }
   ],
   "source": [
    "train_df.iloc[:,-1:]"
   ]
  },
  {
   "cell_type": "code",
   "execution_count": 101,
   "metadata": {},
   "outputs": [],
   "source": [
    "X = train_df.iloc[:,-1:].values\n",
    "y = train_df.sales.values"
   ]
  },
  {
   "cell_type": "code",
   "execution_count": 102,
   "metadata": {},
   "outputs": [],
   "source": [
    "X_train, X_test, y_train, y_test = train_test_split(X, y, test_size=0.15, random_state=42)"
   ]
  },
  {
   "cell_type": "code",
   "execution_count": 103,
   "metadata": {},
   "outputs": [
    {
     "data": {
      "text/plain": [
       "LinearRegression()"
      ]
     },
     "execution_count": 103,
     "metadata": {},
     "output_type": "execute_result"
    }
   ],
   "source": [
    "regressor2.fit(X_train, y_train)"
   ]
  },
  {
   "cell_type": "code",
   "execution_count": 104,
   "metadata": {},
   "outputs": [
    {
     "data": {
      "text/plain": [
       "0.566764149205117"
      ]
     },
     "execution_count": 104,
     "metadata": {},
     "output_type": "execute_result"
    }
   ],
   "source": [
    "regressor2.score(X_test, y_test)"
   ]
  },
  {
   "cell_type": "code",
   "execution_count": 105,
   "metadata": {},
   "outputs": [
    {
     "data": {
      "text/plain": [
       "0.5717639844661447"
      ]
     },
     "execution_count": 105,
     "metadata": {},
     "output_type": "execute_result"
    }
   ],
   "source": [
    "regressor2.score(X_train, y_train)"
   ]
  },
  {
   "cell_type": "markdown",
   "metadata": {},
   "source": [
    "# XGBoost Regressor\n",
    "\n"
   ]
  },
  {
   "cell_type": "code",
   "execution_count": 162,
   "metadata": {},
   "outputs": [],
   "source": [
    "import xgboost as xg"
   ]
  },
  {
   "cell_type": "code",
   "execution_count": 163,
   "metadata": {},
   "outputs": [],
   "source": [
    "xgb_r = xg.XGBRegressor(objective ='reg:linear',\n",
    "                  n_estimators = 10, seed = 123, max_depth=10)"
   ]
  },
  {
   "cell_type": "code",
   "execution_count": 164,
   "metadata": {},
   "outputs": [
    {
     "name": "stdout",
     "output_type": "stream",
     "text": [
      "[16:29:26] WARNING: C:/Users/Administrator/workspace/xgboost-win64_release_1.5.0/src/objective/regression_obj.cu:188: reg:linear is now deprecated in favor of reg:squarederror.\n"
     ]
    },
    {
     "data": {
      "text/plain": [
       "XGBRegressor(base_score=0.5, booster='gbtree', colsample_bylevel=1,\n",
       "             colsample_bynode=1, colsample_bytree=1, enable_categorical=False,\n",
       "             gamma=0, gpu_id=-1, importance_type=None,\n",
       "             interaction_constraints='', learning_rate=0.300000012,\n",
       "             max_delta_step=0, max_depth=10, min_child_weight=1, missing=nan,\n",
       "             monotone_constraints='()', n_estimators=10, n_jobs=4,\n",
       "             num_parallel_tree=1, objective='reg:linear', predictor='auto',\n",
       "             random_state=123, reg_alpha=0, reg_lambda=1, scale_pos_weight=1,\n",
       "             seed=123, subsample=1, tree_method='exact', validate_parameters=1,\n",
       "             verbosity=None)"
      ]
     },
     "execution_count": 164,
     "metadata": {},
     "output_type": "execute_result"
    }
   ],
   "source": [
    "xgb_r.fit(X_train, y_train)"
   ]
  },
  {
   "cell_type": "code",
   "execution_count": 165,
   "metadata": {},
   "outputs": [
    {
     "data": {
      "text/plain": [
       "0.8867356645038273"
      ]
     },
     "execution_count": 165,
     "metadata": {},
     "output_type": "execute_result"
    }
   ],
   "source": [
    "xgb_r.score(X_test, y_test)"
   ]
  },
  {
   "cell_type": "code",
   "execution_count": 166,
   "metadata": {},
   "outputs": [
    {
     "data": {
      "text/plain": [
       "0.8967767660521007"
      ]
     },
     "execution_count": 166,
     "metadata": {},
     "output_type": "execute_result"
    }
   ],
   "source": [
    "xgb_r.score(X_train, y_train)"
   ]
  },
  {
   "cell_type": "markdown",
   "metadata": {},
   "source": [
    "# PREDICTIONS  - xgboost and decisiontree"
   ]
  },
  {
   "cell_type": "code",
   "execution_count": 142,
   "metadata": {},
   "outputs": [
    {
     "data": {
      "text/html": [
       "<div>\n",
       "<style scoped>\n",
       "    .dataframe tbody tr th:only-of-type {\n",
       "        vertical-align: middle;\n",
       "    }\n",
       "\n",
       "    .dataframe tbody tr th {\n",
       "        vertical-align: top;\n",
       "    }\n",
       "\n",
       "    .dataframe thead th {\n",
       "        text-align: right;\n",
       "    }\n",
       "</style>\n",
       "<table border=\"1\" class=\"dataframe\">\n",
       "  <thead>\n",
       "    <tr style=\"text-align: right;\">\n",
       "      <th></th>\n",
       "      <th>id</th>\n",
       "      <th>sales</th>\n",
       "    </tr>\n",
       "  </thead>\n",
       "  <tbody>\n",
       "    <tr>\n",
       "      <th>0</th>\n",
       "      <td>3000888</td>\n",
       "      <td>101.26637</td>\n",
       "    </tr>\n",
       "    <tr>\n",
       "      <th>1</th>\n",
       "      <td>3000889</td>\n",
       "      <td>101.26637</td>\n",
       "    </tr>\n",
       "  </tbody>\n",
       "</table>\n",
       "</div>"
      ],
      "text/plain": [
       "        id      sales\n",
       "0  3000888  101.26637\n",
       "1  3000889  101.26637"
      ]
     },
     "execution_count": 142,
     "metadata": {},
     "output_type": "execute_result"
    }
   ],
   "source": [
    "test_df.head(2)"
   ]
  },
  {
   "cell_type": "code",
   "execution_count": 146,
   "metadata": {},
   "outputs": [],
   "source": [
    "test_df.family = le.fit_transform(test_df.family)"
   ]
  },
  {
   "cell_type": "code",
   "execution_count": 147,
   "metadata": {},
   "outputs": [
    {
     "data": {
      "text/html": [
       "<div>\n",
       "<style scoped>\n",
       "    .dataframe tbody tr th:only-of-type {\n",
       "        vertical-align: middle;\n",
       "    }\n",
       "\n",
       "    .dataframe tbody tr th {\n",
       "        vertical-align: top;\n",
       "    }\n",
       "\n",
       "    .dataframe thead th {\n",
       "        text-align: right;\n",
       "    }\n",
       "</style>\n",
       "<table border=\"1\" class=\"dataframe\">\n",
       "  <thead>\n",
       "    <tr style=\"text-align: right;\">\n",
       "      <th></th>\n",
       "      <th>id</th>\n",
       "      <th>date</th>\n",
       "      <th>store_nbr</th>\n",
       "      <th>family</th>\n",
       "      <th>onpromotion</th>\n",
       "    </tr>\n",
       "  </thead>\n",
       "  <tbody>\n",
       "    <tr>\n",
       "      <th>0</th>\n",
       "      <td>3000888</td>\n",
       "      <td>2017-08-16</td>\n",
       "      <td>1</td>\n",
       "      <td>0</td>\n",
       "      <td>20.0</td>\n",
       "    </tr>\n",
       "    <tr>\n",
       "      <th>1</th>\n",
       "      <td>3000889</td>\n",
       "      <td>2017-08-16</td>\n",
       "      <td>1</td>\n",
       "      <td>1</td>\n",
       "      <td>1.0</td>\n",
       "    </tr>\n",
       "  </tbody>\n",
       "</table>\n",
       "</div>"
      ],
      "text/plain": [
       "        id        date  store_nbr  family  onpromotion\n",
       "0  3000888  2017-08-16          1       0         20.0\n",
       "1  3000889  2017-08-16          1       1          1.0"
      ]
     },
     "execution_count": 147,
     "metadata": {},
     "output_type": "execute_result"
    }
   ],
   "source": [
    "test_df.head(2)"
   ]
  },
  {
   "cell_type": "code",
   "execution_count": 148,
   "metadata": {},
   "outputs": [
    {
     "data": {
      "text/plain": [
       "(28512, 3)"
      ]
     },
     "execution_count": 148,
     "metadata": {},
     "output_type": "execute_result"
    }
   ],
   "source": [
    "X = test_df.drop([\"id\", \"date\"], axis=1).values\n",
    "X.shape"
   ]
  },
  {
   "cell_type": "code",
   "execution_count": 149,
   "metadata": {},
   "outputs": [
    {
     "data": {
      "text/plain": [
       "array([ 1.,  0., 20.])"
      ]
     },
     "execution_count": 149,
     "metadata": {},
     "output_type": "execute_result"
    }
   ],
   "source": [
    "X[0]\n"
   ]
  },
  {
   "cell_type": "code",
   "execution_count": 150,
   "metadata": {},
   "outputs": [],
   "source": [
    " predictions = regressor.predict(X)"
   ]
  },
  {
   "cell_type": "code",
   "execution_count": 151,
   "metadata": {},
   "outputs": [],
   "source": [
    "test_df['sales'] = predictions"
   ]
  },
  {
   "cell_type": "code",
   "execution_count": 152,
   "metadata": {},
   "outputs": [
    {
     "data": {
      "text/html": [
       "<div>\n",
       "<style scoped>\n",
       "    .dataframe tbody tr th:only-of-type {\n",
       "        vertical-align: middle;\n",
       "    }\n",
       "\n",
       "    .dataframe tbody tr th {\n",
       "        vertical-align: top;\n",
       "    }\n",
       "\n",
       "    .dataframe thead th {\n",
       "        text-align: right;\n",
       "    }\n",
       "</style>\n",
       "<table border=\"1\" class=\"dataframe\">\n",
       "  <thead>\n",
       "    <tr style=\"text-align: right;\">\n",
       "      <th></th>\n",
       "      <th>id</th>\n",
       "      <th>date</th>\n",
       "      <th>store_nbr</th>\n",
       "      <th>family</th>\n",
       "      <th>onpromotion</th>\n",
       "      <th>sales</th>\n",
       "    </tr>\n",
       "  </thead>\n",
       "  <tbody>\n",
       "    <tr>\n",
       "      <th>0</th>\n",
       "      <td>3000888</td>\n",
       "      <td>2017-08-16</td>\n",
       "      <td>1</td>\n",
       "      <td>0</td>\n",
       "      <td>20.0</td>\n",
       "      <td>101.26637</td>\n",
       "    </tr>\n",
       "    <tr>\n",
       "      <th>1</th>\n",
       "      <td>3000889</td>\n",
       "      <td>2017-08-16</td>\n",
       "      <td>1</td>\n",
       "      <td>1</td>\n",
       "      <td>1.0</td>\n",
       "      <td>101.26637</td>\n",
       "    </tr>\n",
       "  </tbody>\n",
       "</table>\n",
       "</div>"
      ],
      "text/plain": [
       "        id        date  store_nbr  family  onpromotion      sales\n",
       "0  3000888  2017-08-16          1       0         20.0  101.26637\n",
       "1  3000889  2017-08-16          1       1          1.0  101.26637"
      ]
     },
     "execution_count": 152,
     "metadata": {},
     "output_type": "execute_result"
    }
   ],
   "source": [
    "test_df.head(2)"
   ]
  },
  {
   "cell_type": "code",
   "execution_count": 153,
   "metadata": {},
   "outputs": [],
   "source": [
    "test_df.drop(['store_nbr', 'family', 'onpromotion', 'date'], axis=1, inplace=True)"
   ]
  },
  {
   "cell_type": "code",
   "execution_count": 154,
   "metadata": {},
   "outputs": [
    {
     "data": {
      "text/html": [
       "<div>\n",
       "<style scoped>\n",
       "    .dataframe tbody tr th:only-of-type {\n",
       "        vertical-align: middle;\n",
       "    }\n",
       "\n",
       "    .dataframe tbody tr th {\n",
       "        vertical-align: top;\n",
       "    }\n",
       "\n",
       "    .dataframe thead th {\n",
       "        text-align: right;\n",
       "    }\n",
       "</style>\n",
       "<table border=\"1\" class=\"dataframe\">\n",
       "  <thead>\n",
       "    <tr style=\"text-align: right;\">\n",
       "      <th></th>\n",
       "      <th>id</th>\n",
       "      <th>sales</th>\n",
       "    </tr>\n",
       "  </thead>\n",
       "  <tbody>\n",
       "    <tr>\n",
       "      <th>0</th>\n",
       "      <td>3000888</td>\n",
       "      <td>101.26637</td>\n",
       "    </tr>\n",
       "    <tr>\n",
       "      <th>1</th>\n",
       "      <td>3000889</td>\n",
       "      <td>101.26637</td>\n",
       "    </tr>\n",
       "  </tbody>\n",
       "</table>\n",
       "</div>"
      ],
      "text/plain": [
       "        id      sales\n",
       "0  3000888  101.26637\n",
       "1  3000889  101.26637"
      ]
     },
     "execution_count": 154,
     "metadata": {},
     "output_type": "execute_result"
    }
   ],
   "source": [
    "test_df.head(2)"
   ]
  },
  {
   "cell_type": "code",
   "execution_count": 155,
   "metadata": {},
   "outputs": [
    {
     "name": "stdout",
     "output_type": "stream",
     "text": [
      "submission successed\n"
     ]
    }
   ],
   "source": [
    "test_df.to_csv('submission.csv', index=False)\n",
    "print(\"submission successed\")"
   ]
  },
  {
   "cell_type": "markdown",
   "metadata": {},
   "source": [
    "# catboost"
   ]
  },
  {
   "cell_type": "code",
   "execution_count": 172,
   "metadata": {},
   "outputs": [
    {
     "name": "stdout",
     "output_type": "stream",
     "text": [
      "Collecting catboost\n",
      "  Downloading https://files.pythonhosted.org/packages/e8/38/518d190e9a7a2f6bfbcc08be63907f2502b8cf67967c67f1704421ab306a/catboost-1.0.3-cp37-none-win_amd64.whl (77.3MB)\n",
      "Requirement already satisfied: six in c:\\users\\lenovo\\anaconda3\\lib\\site-packages (from catboost) (1.11.0)\n",
      "Collecting graphviz (from catboost)\n",
      "  Downloading https://files.pythonhosted.org/packages/e1/a3/e4685863f894958ecafb42ebcaa8d3692a83c409275980a3460c3f371b4e/graphviz-0.18.2-py3-none-any.whl\n",
      "Requirement already satisfied: scipy in c:\\users\\lenovo\\anaconda3\\lib\\site-packages (from catboost) (1.7.2)\n",
      "Requirement already satisfied: matplotlib in c:\\users\\lenovo\\anaconda3\\lib\\site-packages (from catboost) (3.5.0)\n",
      "Requirement already satisfied: plotly in c:\\users\\lenovo\\anaconda3\\lib\\site-packages (from catboost) (5.3.1)\n",
      "Requirement already satisfied: numpy>=1.16.0 in c:\\users\\lenovo\\anaconda3\\lib\\site-packages (from catboost) (1.21.4)\n",
      "Requirement already satisfied: pandas>=0.24.0 in c:\\users\\lenovo\\anaconda3\\lib\\site-packages (from catboost) (1.1.5)\n",
      "Requirement already satisfied: kiwisolver>=1.0.1 in c:\\users\\lenovo\\anaconda3\\lib\\site-packages (from matplotlib->catboost) (1.0.1)\n",
      "Requirement already satisfied: cycler>=0.10 in c:\\users\\lenovo\\anaconda3\\lib\\site-packages (from matplotlib->catboost) (0.10.0)\n",
      "Requirement already satisfied: pillow>=6.2.0 in c:\\users\\lenovo\\anaconda3\\lib\\site-packages (from matplotlib->catboost) (8.4.0)\n",
      "Requirement already satisfied: setuptools-scm>=4 in c:\\users\\lenovo\\anaconda3\\lib\\site-packages (from matplotlib->catboost) (6.3.2)\n",
      "Requirement already satisfied: pyparsing>=2.2.1 in c:\\users\\lenovo\\anaconda3\\lib\\site-packages (from matplotlib->catboost) (3.0.6)\n",
      "Requirement already satisfied: packaging>=20.0 in c:\\users\\lenovo\\anaconda3\\lib\\site-packages (from matplotlib->catboost) (21.3)\n",
      "Requirement already satisfied: python-dateutil>=2.7 in c:\\users\\lenovo\\anaconda3\\lib\\site-packages (from matplotlib->catboost) (2.7.3)\n",
      "Requirement already satisfied: fonttools>=4.22.0 in c:\\users\\lenovo\\anaconda3\\lib\\site-packages (from matplotlib->catboost) (4.28.1)\n",
      "Requirement already satisfied: tenacity>=6.2.0 in c:\\users\\lenovo\\anaconda3\\lib\\site-packages (from plotly->catboost) (8.0.1)\n",
      "Requirement already satisfied: pytz>=2017.2 in c:\\users\\lenovo\\anaconda3\\lib\\site-packages (from pandas>=0.24.0->catboost) (2018.5)\n",
      "Requirement already satisfied: setuptools in c:\\users\\lenovo\\anaconda3\\lib\\site-packages (from kiwisolver>=1.0.1->matplotlib->catboost) (40.2.0)\n",
      "Requirement already satisfied: tomli>=1.0.0 in c:\\users\\lenovo\\anaconda3\\lib\\site-packages (from setuptools-scm>=4->matplotlib->catboost) (1.2.2)\n",
      "Installing collected packages: graphviz, catboost\n",
      "Successfully installed catboost-1.0.3 graphviz-0.18.2\n"
     ]
    },
    {
     "name": "stderr",
     "output_type": "stream",
     "text": [
      "You are using pip version 10.0.1, however version 21.3.1 is available.\n",
      "You should consider upgrading via the 'python -m pip install --upgrade pip' command.\n"
     ]
    }
   ],
   "source": [
    "!pip install catboost"
   ]
  },
  {
   "cell_type": "code",
   "execution_count": 173,
   "metadata": {},
   "outputs": [],
   "source": [
    "import catboost as cxg"
   ]
  },
  {
   "cell_type": "code",
   "execution_count": 178,
   "metadata": {},
   "outputs": [],
   "source": [
    "from catboost import CatBoostRegressor\n",
    "\n",
    "model = CatBoostRegressor(iterations=2,\n",
    "                          learning_rate=1,\n",
    "                          depth=2)\n",
    "\n"
   ]
  },
  {
   "cell_type": "code",
   "execution_count": 179,
   "metadata": {},
   "outputs": [
    {
     "name": "stdout",
     "output_type": "stream",
     "text": [
      "0:\tlearn: 770.1372644\ttotal: 232ms\tremaining: 232ms\n",
      "1:\tlearn: 746.6654309\ttotal: 379ms\tremaining: 0us\n"
     ]
    },
    {
     "data": {
      "text/plain": [
       "<catboost.core.CatBoostRegressor at 0x52ef5ef0>"
      ]
     },
     "execution_count": 179,
     "metadata": {},
     "output_type": "execute_result"
    }
   ],
   "source": [
    "# Fit model\n",
    "model.fit(X_train, y_train)\n"
   ]
  },
  {
   "cell_type": "code",
   "execution_count": 180,
   "metadata": {},
   "outputs": [],
   "source": [
    "X = train_df.iloc[:,-1:].values\n",
    "y = train_df.sales.values"
   ]
  },
  {
   "cell_type": "code",
   "execution_count": 181,
   "metadata": {},
   "outputs": [
    {
     "data": {
      "text/plain": [
       "(3000888, 1)"
      ]
     },
     "execution_count": 181,
     "metadata": {},
     "output_type": "execute_result"
    }
   ],
   "source": [
    "X.shape"
   ]
  },
  {
   "cell_type": "code",
   "execution_count": 183,
   "metadata": {},
   "outputs": [
    {
     "data": {
      "text/plain": [
       "(3000888,)"
      ]
     },
     "execution_count": 183,
     "metadata": {},
     "output_type": "execute_result"
    }
   ],
   "source": [
    "y.shape"
   ]
  },
  {
   "cell_type": "code",
   "execution_count": 184,
   "metadata": {},
   "outputs": [],
   "source": [
    "X_train, X_test, y_train, y_test = train_test_split(X, y, test_size=0.15, random_state=42)"
   ]
  },
  {
   "cell_type": "code",
   "execution_count": 218,
   "metadata": {},
   "outputs": [],
   "source": [
    "regressor3 = CatBoostRegressor()"
   ]
  },
  {
   "cell_type": "code",
   "execution_count": 219,
   "metadata": {},
   "outputs": [
    {
     "name": "stdout",
     "output_type": "stream",
     "text": [
      "Learning rate set to 0.141395\n",
      "0:\tlearn: 1012.1349589\ttotal: 243ms\tremaining: 4m 2s\n",
      "1:\tlearn: 941.2598796\ttotal: 469ms\tremaining: 3m 54s\n",
      "2:\tlearn: 884.8955662\ttotal: 707ms\tremaining: 3m 55s\n",
      "3:\tlearn: 840.4792697\ttotal: 954ms\tremaining: 3m 57s\n",
      "4:\tlearn: 806.1119239\ttotal: 1.18s\tremaining: 3m 54s\n",
      "5:\tlearn: 779.3363514\ttotal: 1.41s\tremaining: 3m 53s\n",
      "6:\tlearn: 758.7227277\ttotal: 1.63s\tremaining: 3m 51s\n",
      "7:\tlearn: 743.0250703\ttotal: 1.86s\tremaining: 3m 50s\n",
      "8:\tlearn: 730.9653722\ttotal: 2.11s\tremaining: 3m 52s\n",
      "9:\tlearn: 721.8953431\ttotal: 2.36s\tremaining: 3m 54s\n",
      "10:\tlearn: 714.8615862\ttotal: 2.59s\tremaining: 3m 52s\n",
      "11:\tlearn: 709.7460051\ttotal: 2.82s\tremaining: 3m 52s\n",
      "12:\tlearn: 705.8217203\ttotal: 3.06s\tremaining: 3m 51s\n",
      "13:\tlearn: 702.7599980\ttotal: 3.3s\tremaining: 3m 52s\n",
      "14:\tlearn: 700.5139214\ttotal: 3.53s\tremaining: 3m 51s\n",
      "15:\tlearn: 698.7905660\ttotal: 3.76s\tremaining: 3m 51s\n",
      "16:\tlearn: 697.4154789\ttotal: 4.01s\tremaining: 3m 51s\n",
      "17:\tlearn: 696.3077275\ttotal: 4.25s\tremaining: 3m 51s\n",
      "18:\tlearn: 695.4573921\ttotal: 4.47s\tremaining: 3m 50s\n",
      "19:\tlearn: 694.8327706\ttotal: 4.72s\tremaining: 3m 51s\n",
      "20:\tlearn: 694.4160355\ttotal: 4.97s\tremaining: 3m 51s\n",
      "21:\tlearn: 694.0531245\ttotal: 5.22s\tremaining: 3m 52s\n",
      "22:\tlearn: 693.7574678\ttotal: 5.45s\tremaining: 3m 51s\n",
      "23:\tlearn: 693.5129377\ttotal: 5.7s\tremaining: 3m 51s\n",
      "24:\tlearn: 693.3362452\ttotal: 5.93s\tremaining: 3m 51s\n",
      "25:\tlearn: 693.2179377\ttotal: 6.19s\tremaining: 3m 51s\n",
      "26:\tlearn: 693.0079138\ttotal: 6.45s\tremaining: 3m 52s\n",
      "27:\tlearn: 692.8633083\ttotal: 6.68s\tremaining: 3m 51s\n",
      "28:\tlearn: 692.7268777\ttotal: 6.91s\tremaining: 3m 51s\n",
      "29:\tlearn: 692.6386762\ttotal: 7.15s\tremaining: 3m 51s\n",
      "30:\tlearn: 692.5549269\ttotal: 7.41s\tremaining: 3m 51s\n",
      "31:\tlearn: 692.4592924\ttotal: 7.62s\tremaining: 3m 50s\n",
      "32:\tlearn: 692.4182690\ttotal: 7.88s\tremaining: 3m 50s\n",
      "33:\tlearn: 692.3599707\ttotal: 8.11s\tremaining: 3m 50s\n",
      "34:\tlearn: 692.3266205\ttotal: 8.36s\tremaining: 3m 50s\n",
      "35:\tlearn: 692.2939574\ttotal: 8.6s\tremaining: 3m 50s\n",
      "36:\tlearn: 692.2421871\ttotal: 8.86s\tremaining: 3m 50s\n",
      "37:\tlearn: 692.2123554\ttotal: 9.11s\tremaining: 3m 50s\n",
      "38:\tlearn: 692.1767827\ttotal: 9.36s\tremaining: 3m 50s\n",
      "39:\tlearn: 692.1355832\ttotal: 9.6s\tremaining: 3m 50s\n",
      "40:\tlearn: 692.1104250\ttotal: 9.87s\tremaining: 3m 50s\n",
      "41:\tlearn: 692.0904435\ttotal: 10.1s\tremaining: 3m 50s\n",
      "42:\tlearn: 692.0657430\ttotal: 10.4s\tremaining: 3m 51s\n",
      "43:\tlearn: 692.0452808\ttotal: 10.6s\tremaining: 3m 50s\n",
      "44:\tlearn: 692.0283234\ttotal: 10.9s\tremaining: 3m 50s\n",
      "45:\tlearn: 692.0103729\ttotal: 11.1s\tremaining: 3m 50s\n",
      "46:\tlearn: 692.0005688\ttotal: 11.3s\tremaining: 3m 50s\n",
      "47:\tlearn: 691.9918407\ttotal: 11.6s\tremaining: 3m 49s\n",
      "48:\tlearn: 691.9812803\ttotal: 11.9s\tremaining: 3m 50s\n",
      "49:\tlearn: 691.9709115\ttotal: 12.1s\tremaining: 3m 49s\n",
      "50:\tlearn: 691.9614999\ttotal: 12.3s\tremaining: 3m 49s\n",
      "51:\tlearn: 691.9511984\ttotal: 12.6s\tremaining: 3m 49s\n",
      "52:\tlearn: 691.9393972\ttotal: 12.8s\tremaining: 3m 49s\n",
      "53:\tlearn: 691.9329367\ttotal: 13.1s\tremaining: 3m 49s\n",
      "54:\tlearn: 691.9221110\ttotal: 13.3s\tremaining: 3m 48s\n",
      "55:\tlearn: 691.9168216\ttotal: 13.6s\tremaining: 3m 48s\n",
      "56:\tlearn: 691.9094765\ttotal: 13.8s\tremaining: 3m 48s\n",
      "57:\tlearn: 691.9044262\ttotal: 14.1s\tremaining: 3m 48s\n",
      "58:\tlearn: 691.8989110\ttotal: 14.3s\tremaining: 3m 48s\n",
      "59:\tlearn: 691.8917926\ttotal: 14.6s\tremaining: 3m 48s\n",
      "60:\tlearn: 691.8832752\ttotal: 14.8s\tremaining: 3m 47s\n",
      "61:\tlearn: 691.8750130\ttotal: 15s\tremaining: 3m 47s\n",
      "62:\tlearn: 691.8649889\ttotal: 15.3s\tremaining: 3m 46s\n",
      "63:\tlearn: 691.8524113\ttotal: 15.5s\tremaining: 3m 46s\n",
      "64:\tlearn: 691.8481495\ttotal: 15.7s\tremaining: 3m 46s\n",
      "65:\tlearn: 691.8452202\ttotal: 16s\tremaining: 3m 46s\n",
      "66:\tlearn: 691.8416186\ttotal: 16.2s\tremaining: 3m 46s\n",
      "67:\tlearn: 691.8367430\ttotal: 16.5s\tremaining: 3m 45s\n",
      "68:\tlearn: 691.8305893\ttotal: 16.7s\tremaining: 3m 45s\n",
      "69:\tlearn: 691.8258895\ttotal: 17s\tremaining: 3m 45s\n",
      "70:\tlearn: 691.8218600\ttotal: 17.2s\tremaining: 3m 44s\n",
      "71:\tlearn: 691.8155039\ttotal: 17.4s\tremaining: 3m 44s\n",
      "72:\tlearn: 691.8084495\ttotal: 17.6s\tremaining: 3m 43s\n",
      "73:\tlearn: 691.8056132\ttotal: 17.9s\tremaining: 3m 43s\n",
      "74:\tlearn: 691.8012344\ttotal: 18.1s\tremaining: 3m 43s\n",
      "75:\tlearn: 691.7953503\ttotal: 18.4s\tremaining: 3m 43s\n",
      "76:\tlearn: 691.7872422\ttotal: 18.6s\tremaining: 3m 42s\n",
      "77:\tlearn: 691.7833969\ttotal: 18.8s\tremaining: 3m 42s\n",
      "78:\tlearn: 691.7767774\ttotal: 19.1s\tremaining: 3m 42s\n",
      "79:\tlearn: 691.7711061\ttotal: 19.3s\tremaining: 3m 41s\n",
      "80:\tlearn: 691.7704306\ttotal: 19.5s\tremaining: 3m 40s\n",
      "81:\tlearn: 691.7665589\ttotal: 19.7s\tremaining: 3m 40s\n",
      "82:\tlearn: 691.7603594\ttotal: 20s\tremaining: 3m 40s\n",
      "83:\tlearn: 691.7567969\ttotal: 20.2s\tremaining: 3m 40s\n",
      "84:\tlearn: 691.7500947\ttotal: 20.4s\tremaining: 3m 39s\n",
      "85:\tlearn: 691.7458233\ttotal: 20.7s\tremaining: 3m 39s\n",
      "86:\tlearn: 691.7433673\ttotal: 20.9s\tremaining: 3m 39s\n",
      "87:\tlearn: 691.7403173\ttotal: 21.2s\tremaining: 3m 39s\n",
      "88:\tlearn: 691.7353767\ttotal: 21.4s\tremaining: 3m 39s\n",
      "89:\tlearn: 691.7327548\ttotal: 21.7s\tremaining: 3m 38s\n",
      "90:\tlearn: 691.7296315\ttotal: 21.8s\tremaining: 3m 38s\n",
      "91:\tlearn: 691.7269839\ttotal: 22.1s\tremaining: 3m 37s\n",
      "92:\tlearn: 691.7230692\ttotal: 22.3s\tremaining: 3m 37s\n",
      "93:\tlearn: 691.7210286\ttotal: 22.6s\tremaining: 3m 37s\n",
      "94:\tlearn: 691.7181755\ttotal: 22.8s\tremaining: 3m 37s\n",
      "95:\tlearn: 691.7157533\ttotal: 23s\tremaining: 3m 36s\n",
      "96:\tlearn: 691.7137171\ttotal: 23.3s\tremaining: 3m 36s\n",
      "97:\tlearn: 691.7117039\ttotal: 23.5s\tremaining: 3m 36s\n",
      "98:\tlearn: 691.7096754\ttotal: 23.8s\tremaining: 3m 36s\n",
      "99:\tlearn: 691.7062353\ttotal: 24.1s\tremaining: 3m 37s\n",
      "100:\tlearn: 691.7035914\ttotal: 24.4s\tremaining: 3m 36s\n",
      "101:\tlearn: 691.7018659\ttotal: 24.6s\tremaining: 3m 36s\n",
      "102:\tlearn: 691.6990772\ttotal: 24.8s\tremaining: 3m 36s\n",
      "103:\tlearn: 691.6959629\ttotal: 25.1s\tremaining: 3m 36s\n",
      "104:\tlearn: 691.6936931\ttotal: 25.3s\tremaining: 3m 35s\n",
      "105:\tlearn: 691.6917337\ttotal: 25.6s\tremaining: 3m 35s\n",
      "106:\tlearn: 691.6888347\ttotal: 25.8s\tremaining: 3m 35s\n",
      "107:\tlearn: 691.6858557\ttotal: 26.1s\tremaining: 3m 35s\n",
      "108:\tlearn: 691.6841903\ttotal: 26.3s\tremaining: 3m 35s\n",
      "109:\tlearn: 691.6815077\ttotal: 26.5s\tremaining: 3m 34s\n",
      "110:\tlearn: 691.6798122\ttotal: 26.7s\tremaining: 3m 33s\n",
      "111:\tlearn: 691.6764641\ttotal: 26.9s\tremaining: 3m 33s\n",
      "112:\tlearn: 691.6750404\ttotal: 27.1s\tremaining: 3m 33s\n",
      "113:\tlearn: 691.6733135\ttotal: 27.4s\tremaining: 3m 33s\n",
      "114:\tlearn: 691.6716126\ttotal: 27.6s\tremaining: 3m 32s\n",
      "115:\tlearn: 691.6693908\ttotal: 27.8s\tremaining: 3m 32s\n",
      "116:\tlearn: 691.6677956\ttotal: 28.1s\tremaining: 3m 31s\n",
      "117:\tlearn: 691.6661244\ttotal: 28.3s\tremaining: 3m 31s\n",
      "118:\tlearn: 691.6638282\ttotal: 28.5s\tremaining: 3m 31s\n",
      "119:\tlearn: 691.6623702\ttotal: 28.8s\tremaining: 3m 31s\n",
      "120:\tlearn: 691.6606445\ttotal: 29s\tremaining: 3m 30s\n",
      "121:\tlearn: 691.6596300\ttotal: 29.2s\tremaining: 3m 30s\n",
      "122:\tlearn: 691.6559330\ttotal: 29.5s\tremaining: 3m 30s\n",
      "123:\tlearn: 691.6522747\ttotal: 29.7s\tremaining: 3m 30s\n",
      "124:\tlearn: 691.6494543\ttotal: 30s\tremaining: 3m 29s\n",
      "125:\tlearn: 691.6485950\ttotal: 30.2s\tremaining: 3m 29s\n",
      "126:\tlearn: 691.6461422\ttotal: 30.4s\tremaining: 3m 29s\n",
      "127:\tlearn: 691.6430846\ttotal: 30.7s\tremaining: 3m 29s\n",
      "128:\tlearn: 691.6410778\ttotal: 31s\tremaining: 3m 29s\n",
      "129:\tlearn: 691.6381998\ttotal: 31.2s\tremaining: 3m 29s\n",
      "130:\tlearn: 691.6363553\ttotal: 31.5s\tremaining: 3m 28s\n",
      "131:\tlearn: 691.6331535\ttotal: 31.7s\tremaining: 3m 28s\n",
      "132:\tlearn: 691.6308200\ttotal: 31.9s\tremaining: 3m 28s\n",
      "133:\tlearn: 691.6278181\ttotal: 32.2s\tremaining: 3m 28s\n",
      "134:\tlearn: 691.6260948\ttotal: 32.5s\tremaining: 3m 27s\n",
      "135:\tlearn: 691.6250721\ttotal: 32.7s\tremaining: 3m 27s\n",
      "136:\tlearn: 691.6222986\ttotal: 32.9s\tremaining: 3m 27s\n",
      "137:\tlearn: 691.6203521\ttotal: 33.2s\tremaining: 3m 27s\n",
      "138:\tlearn: 691.6178552\ttotal: 33.4s\tremaining: 3m 27s\n",
      "139:\tlearn: 691.6157773\ttotal: 33.7s\tremaining: 3m 26s\n",
      "140:\tlearn: 691.6133736\ttotal: 33.9s\tremaining: 3m 26s\n",
      "141:\tlearn: 691.6113931\ttotal: 34.2s\tremaining: 3m 26s\n",
      "142:\tlearn: 691.6098117\ttotal: 34.4s\tremaining: 3m 26s\n",
      "143:\tlearn: 691.6091767\ttotal: 34.6s\tremaining: 3m 25s\n",
      "144:\tlearn: 691.6070633\ttotal: 34.8s\tremaining: 3m 25s\n",
      "145:\tlearn: 691.6048874\ttotal: 35.1s\tremaining: 3m 25s\n",
      "146:\tlearn: 691.6036978\ttotal: 35.4s\tremaining: 3m 25s\n",
      "147:\tlearn: 691.6014959\ttotal: 35.6s\tremaining: 3m 25s\n",
      "148:\tlearn: 691.5995032\ttotal: 35.9s\tremaining: 3m 24s\n",
      "149:\tlearn: 691.5979496\ttotal: 36.1s\tremaining: 3m 24s\n",
      "150:\tlearn: 691.5971834\ttotal: 36.4s\tremaining: 3m 24s\n",
      "151:\tlearn: 691.5967155\ttotal: 36.6s\tremaining: 3m 24s\n"
     ]
    },
    {
     "name": "stdout",
     "output_type": "stream",
     "text": [
      "152:\tlearn: 691.5961410\ttotal: 36.8s\tremaining: 3m 23s\n",
      "153:\tlearn: 691.5945342\ttotal: 37.1s\tremaining: 3m 23s\n",
      "154:\tlearn: 691.5938448\ttotal: 37.3s\tremaining: 3m 23s\n",
      "155:\tlearn: 691.5929010\ttotal: 37.5s\tremaining: 3m 23s\n",
      "156:\tlearn: 691.5917986\ttotal: 37.8s\tremaining: 3m 22s\n",
      "157:\tlearn: 691.5904548\ttotal: 38s\tremaining: 3m 22s\n",
      "158:\tlearn: 691.5886247\ttotal: 38.3s\tremaining: 3m 22s\n",
      "159:\tlearn: 691.5867879\ttotal: 38.5s\tremaining: 3m 22s\n",
      "160:\tlearn: 691.5856442\ttotal: 38.7s\tremaining: 3m 21s\n",
      "161:\tlearn: 691.5843975\ttotal: 39s\tremaining: 3m 21s\n",
      "162:\tlearn: 691.5829666\ttotal: 39.2s\tremaining: 3m 21s\n",
      "163:\tlearn: 691.5824311\ttotal: 39.5s\tremaining: 3m 21s\n",
      "164:\tlearn: 691.5814387\ttotal: 39.7s\tremaining: 3m 21s\n",
      "165:\tlearn: 691.5801991\ttotal: 40s\tremaining: 3m 20s\n",
      "166:\tlearn: 691.5791191\ttotal: 40.2s\tremaining: 3m 20s\n",
      "167:\tlearn: 691.5786081\ttotal: 40.4s\tremaining: 3m 20s\n",
      "168:\tlearn: 691.5783528\ttotal: 40.6s\tremaining: 3m 19s\n",
      "169:\tlearn: 691.5772206\ttotal: 40.9s\tremaining: 3m 19s\n",
      "170:\tlearn: 691.5765204\ttotal: 41.2s\tremaining: 3m 19s\n",
      "171:\tlearn: 691.5751204\ttotal: 41.4s\tremaining: 3m 19s\n",
      "172:\tlearn: 691.5741095\ttotal: 41.6s\tremaining: 3m 19s\n",
      "173:\tlearn: 691.5734344\ttotal: 41.9s\tremaining: 3m 18s\n",
      "174:\tlearn: 691.5727163\ttotal: 42.1s\tremaining: 3m 18s\n",
      "175:\tlearn: 691.5721641\ttotal: 42.4s\tremaining: 3m 18s\n",
      "176:\tlearn: 691.5708073\ttotal: 42.6s\tremaining: 3m 18s\n",
      "177:\tlearn: 691.5699600\ttotal: 42.9s\tremaining: 3m 17s\n",
      "178:\tlearn: 691.5686218\ttotal: 43.1s\tremaining: 3m 17s\n",
      "179:\tlearn: 691.5675973\ttotal: 43.4s\tremaining: 3m 17s\n",
      "180:\tlearn: 691.5664758\ttotal: 43.6s\tremaining: 3m 17s\n",
      "181:\tlearn: 691.5656059\ttotal: 43.9s\tremaining: 3m 17s\n",
      "182:\tlearn: 691.5648253\ttotal: 44.1s\tremaining: 3m 16s\n",
      "183:\tlearn: 691.5644359\ttotal: 44.3s\tremaining: 3m 16s\n",
      "184:\tlearn: 691.5641521\ttotal: 44.5s\tremaining: 3m 16s\n",
      "185:\tlearn: 691.5639264\ttotal: 44.7s\tremaining: 3m 15s\n",
      "186:\tlearn: 691.5635751\ttotal: 45s\tremaining: 3m 15s\n",
      "187:\tlearn: 691.5630279\ttotal: 45.2s\tremaining: 3m 15s\n",
      "188:\tlearn: 691.5620477\ttotal: 45.5s\tremaining: 3m 15s\n",
      "189:\tlearn: 691.5610580\ttotal: 45.7s\tremaining: 3m 14s\n",
      "190:\tlearn: 691.5607777\ttotal: 45.9s\tremaining: 3m 14s\n",
      "191:\tlearn: 691.5599413\ttotal: 46.2s\tremaining: 3m 14s\n",
      "192:\tlearn: 691.5593056\ttotal: 46.4s\tremaining: 3m 14s\n",
      "193:\tlearn: 691.5583637\ttotal: 46.7s\tremaining: 3m 13s\n",
      "194:\tlearn: 691.5575149\ttotal: 46.9s\tremaining: 3m 13s\n",
      "195:\tlearn: 691.5568574\ttotal: 47.2s\tremaining: 3m 13s\n",
      "196:\tlearn: 691.5565991\ttotal: 47.4s\tremaining: 3m 13s\n",
      "197:\tlearn: 691.5558819\ttotal: 47.6s\tremaining: 3m 12s\n",
      "198:\tlearn: 691.5551852\ttotal: 47.8s\tremaining: 3m 12s\n",
      "199:\tlearn: 691.5547647\ttotal: 48.1s\tremaining: 3m 12s\n",
      "200:\tlearn: 691.5545590\ttotal: 48.3s\tremaining: 3m 12s\n",
      "201:\tlearn: 691.5540276\ttotal: 48.6s\tremaining: 3m 11s\n",
      "202:\tlearn: 691.5531004\ttotal: 48.9s\tremaining: 3m 11s\n",
      "203:\tlearn: 691.5525633\ttotal: 49.1s\tremaining: 3m 11s\n",
      "204:\tlearn: 691.5519884\ttotal: 49.3s\tremaining: 3m 11s\n",
      "205:\tlearn: 691.5512350\ttotal: 49.6s\tremaining: 3m 11s\n",
      "206:\tlearn: 691.5509863\ttotal: 49.8s\tremaining: 3m 10s\n",
      "207:\tlearn: 691.5505973\ttotal: 50.1s\tremaining: 3m 10s\n",
      "208:\tlearn: 691.5500903\ttotal: 50.3s\tremaining: 3m 10s\n",
      "209:\tlearn: 691.5493528\ttotal: 50.6s\tremaining: 3m 10s\n",
      "210:\tlearn: 691.5491807\ttotal: 50.8s\tremaining: 3m 9s\n",
      "211:\tlearn: 691.5485906\ttotal: 51.1s\tremaining: 3m 9s\n",
      "212:\tlearn: 691.5481941\ttotal: 51.4s\tremaining: 3m 9s\n",
      "213:\tlearn: 691.5474424\ttotal: 51.6s\tremaining: 3m 9s\n",
      "214:\tlearn: 691.5473361\ttotal: 51.9s\tremaining: 3m 9s\n",
      "215:\tlearn: 691.5465427\ttotal: 52.1s\tremaining: 3m 9s\n",
      "216:\tlearn: 691.5462236\ttotal: 52.4s\tremaining: 3m 9s\n",
      "217:\tlearn: 691.5455460\ttotal: 52.6s\tremaining: 3m 8s\n",
      "218:\tlearn: 691.5448385\ttotal: 52.9s\tremaining: 3m 8s\n",
      "219:\tlearn: 691.5442930\ttotal: 53.1s\tremaining: 3m 8s\n",
      "220:\tlearn: 691.5441440\ttotal: 53.3s\tremaining: 3m 8s\n",
      "221:\tlearn: 691.5436627\ttotal: 53.6s\tremaining: 3m 7s\n",
      "222:\tlearn: 691.5431008\ttotal: 53.9s\tremaining: 3m 7s\n",
      "223:\tlearn: 691.5428402\ttotal: 54.1s\tremaining: 3m 7s\n",
      "224:\tlearn: 691.5425684\ttotal: 54.4s\tremaining: 3m 7s\n",
      "225:\tlearn: 691.5424681\ttotal: 54.7s\tremaining: 3m 7s\n",
      "226:\tlearn: 691.5423585\ttotal: 55s\tremaining: 3m 7s\n",
      "227:\tlearn: 691.5421315\ttotal: 55.2s\tremaining: 3m 7s\n",
      "228:\tlearn: 691.5416920\ttotal: 55.5s\tremaining: 3m 6s\n",
      "229:\tlearn: 691.5412854\ttotal: 55.8s\tremaining: 3m 6s\n",
      "230:\tlearn: 691.5407456\ttotal: 56.1s\tremaining: 3m 6s\n",
      "231:\tlearn: 691.5400433\ttotal: 56.4s\tremaining: 3m 6s\n",
      "232:\tlearn: 691.5396404\ttotal: 56.6s\tremaining: 3m 6s\n",
      "233:\tlearn: 691.5390998\ttotal: 56.9s\tremaining: 3m 6s\n",
      "234:\tlearn: 691.5385539\ttotal: 57.2s\tremaining: 3m 6s\n",
      "235:\tlearn: 691.5376884\ttotal: 57.5s\tremaining: 3m 6s\n",
      "236:\tlearn: 691.5375161\ttotal: 57.7s\tremaining: 3m 5s\n",
      "237:\tlearn: 691.5370567\ttotal: 58s\tremaining: 3m 5s\n",
      "238:\tlearn: 691.5366160\ttotal: 58.2s\tremaining: 3m 5s\n",
      "239:\tlearn: 691.5361188\ttotal: 58.5s\tremaining: 3m 5s\n",
      "240:\tlearn: 691.5355103\ttotal: 58.8s\tremaining: 3m 5s\n",
      "241:\tlearn: 691.5350655\ttotal: 59s\tremaining: 3m 4s\n",
      "242:\tlearn: 691.5347371\ttotal: 59.3s\tremaining: 3m 4s\n",
      "243:\tlearn: 691.5345551\ttotal: 59.5s\tremaining: 3m 4s\n",
      "244:\tlearn: 691.5344798\ttotal: 59.7s\tremaining: 3m 4s\n",
      "245:\tlearn: 691.5344164\ttotal: 59.9s\tremaining: 3m 3s\n",
      "246:\tlearn: 691.5342223\ttotal: 1m\tremaining: 3m 3s\n",
      "247:\tlearn: 691.5337719\ttotal: 1m\tremaining: 3m 3s\n",
      "248:\tlearn: 691.5333757\ttotal: 1m\tremaining: 3m 3s\n",
      "249:\tlearn: 691.5330523\ttotal: 1m\tremaining: 3m 2s\n",
      "250:\tlearn: 691.5326632\ttotal: 1m 1s\tremaining: 3m 2s\n",
      "251:\tlearn: 691.5325360\ttotal: 1m 1s\tremaining: 3m 2s\n",
      "252:\tlearn: 691.5324880\ttotal: 1m 1s\tremaining: 3m 2s\n",
      "253:\tlearn: 691.5321492\ttotal: 1m 1s\tremaining: 3m 1s\n",
      "254:\tlearn: 691.5315420\ttotal: 1m 2s\tremaining: 3m 1s\n",
      "255:\tlearn: 691.5312572\ttotal: 1m 2s\tremaining: 3m 1s\n",
      "256:\tlearn: 691.5308185\ttotal: 1m 2s\tremaining: 3m 1s\n",
      "257:\tlearn: 691.5300784\ttotal: 1m 2s\tremaining: 3m 1s\n",
      "258:\tlearn: 691.5297990\ttotal: 1m 3s\tremaining: 3m 1s\n",
      "259:\tlearn: 691.5292899\ttotal: 1m 3s\tremaining: 3m\n",
      "260:\tlearn: 691.5291771\ttotal: 1m 3s\tremaining: 3m\n",
      "261:\tlearn: 691.5288827\ttotal: 1m 4s\tremaining: 3m\n",
      "262:\tlearn: 691.5288049\ttotal: 1m 4s\tremaining: 3m\n",
      "263:\tlearn: 691.5284649\ttotal: 1m 4s\tremaining: 2m 59s\n",
      "264:\tlearn: 691.5282851\ttotal: 1m 4s\tremaining: 2m 59s\n",
      "265:\tlearn: 691.5280465\ttotal: 1m 4s\tremaining: 2m 59s\n",
      "266:\tlearn: 691.5278717\ttotal: 1m 5s\tremaining: 2m 59s\n",
      "267:\tlearn: 691.5275544\ttotal: 1m 5s\tremaining: 2m 59s\n",
      "268:\tlearn: 691.5271667\ttotal: 1m 5s\tremaining: 2m 59s\n",
      "269:\tlearn: 691.5269042\ttotal: 1m 6s\tremaining: 2m 58s\n",
      "270:\tlearn: 691.5266829\ttotal: 1m 6s\tremaining: 2m 58s\n",
      "271:\tlearn: 691.5264622\ttotal: 1m 6s\tremaining: 2m 58s\n",
      "272:\tlearn: 691.5263346\ttotal: 1m 7s\tremaining: 2m 58s\n",
      "273:\tlearn: 691.5260513\ttotal: 1m 7s\tremaining: 2m 58s\n",
      "274:\tlearn: 691.5260086\ttotal: 1m 7s\tremaining: 2m 58s\n",
      "275:\tlearn: 691.5259099\ttotal: 1m 7s\tremaining: 2m 57s\n",
      "276:\tlearn: 691.5257115\ttotal: 1m 8s\tremaining: 2m 57s\n",
      "277:\tlearn: 691.5256497\ttotal: 1m 8s\tremaining: 2m 57s\n",
      "278:\tlearn: 691.5252226\ttotal: 1m 8s\tremaining: 2m 57s\n",
      "279:\tlearn: 691.5250303\ttotal: 1m 8s\tremaining: 2m 57s\n",
      "280:\tlearn: 691.5248754\ttotal: 1m 9s\tremaining: 2m 57s\n",
      "281:\tlearn: 691.5246807\ttotal: 1m 9s\tremaining: 2m 56s\n",
      "282:\tlearn: 691.5243304\ttotal: 1m 9s\tremaining: 2m 56s\n",
      "283:\tlearn: 691.5240095\ttotal: 1m 9s\tremaining: 2m 56s\n",
      "284:\tlearn: 691.5238885\ttotal: 1m 10s\tremaining: 2m 56s\n",
      "285:\tlearn: 691.5237551\ttotal: 1m 10s\tremaining: 2m 56s\n",
      "286:\tlearn: 691.5234262\ttotal: 1m 10s\tremaining: 2m 55s\n",
      "287:\tlearn: 691.5231836\ttotal: 1m 11s\tremaining: 2m 55s\n",
      "288:\tlearn: 691.5230638\ttotal: 1m 11s\tremaining: 2m 55s\n",
      "289:\tlearn: 691.5228774\ttotal: 1m 11s\tremaining: 2m 55s\n",
      "290:\tlearn: 691.5228046\ttotal: 1m 11s\tremaining: 2m 55s\n",
      "291:\tlearn: 691.5226473\ttotal: 1m 12s\tremaining: 2m 54s\n",
      "292:\tlearn: 691.5225590\ttotal: 1m 12s\tremaining: 2m 54s\n",
      "293:\tlearn: 691.5223019\ttotal: 1m 12s\tremaining: 2m 54s\n",
      "294:\tlearn: 691.5221050\ttotal: 1m 13s\tremaining: 2m 54s\n",
      "295:\tlearn: 691.5217672\ttotal: 1m 13s\tremaining: 2m 54s\n",
      "296:\tlearn: 691.5215062\ttotal: 1m 13s\tremaining: 2m 54s\n",
      "297:\tlearn: 691.5214351\ttotal: 1m 14s\tremaining: 2m 54s\n",
      "298:\tlearn: 691.5213790\ttotal: 1m 14s\tremaining: 2m 54s\n",
      "299:\tlearn: 691.5212940\ttotal: 1m 14s\tremaining: 2m 54s\n",
      "300:\tlearn: 691.5211740\ttotal: 1m 14s\tremaining: 2m 53s\n",
      "301:\tlearn: 691.5208591\ttotal: 1m 15s\tremaining: 2m 53s\n",
      "302:\tlearn: 691.5207004\ttotal: 1m 15s\tremaining: 2m 53s\n"
     ]
    },
    {
     "name": "stdout",
     "output_type": "stream",
     "text": [
      "303:\tlearn: 691.5204770\ttotal: 1m 15s\tremaining: 2m 53s\n",
      "304:\tlearn: 691.5204213\ttotal: 1m 15s\tremaining: 2m 53s\n",
      "305:\tlearn: 691.5203751\ttotal: 1m 16s\tremaining: 2m 52s\n",
      "306:\tlearn: 691.5202578\ttotal: 1m 16s\tremaining: 2m 52s\n",
      "307:\tlearn: 691.5200223\ttotal: 1m 16s\tremaining: 2m 52s\n",
      "308:\tlearn: 691.5199964\ttotal: 1m 16s\tremaining: 2m 51s\n",
      "309:\tlearn: 691.5198111\ttotal: 1m 17s\tremaining: 2m 51s\n",
      "310:\tlearn: 691.5196788\ttotal: 1m 17s\tremaining: 2m 51s\n",
      "311:\tlearn: 691.5195422\ttotal: 1m 17s\tremaining: 2m 51s\n",
      "312:\tlearn: 691.5194262\ttotal: 1m 18s\tremaining: 2m 51s\n",
      "313:\tlearn: 691.5193355\ttotal: 1m 18s\tremaining: 2m 50s\n",
      "314:\tlearn: 691.5191206\ttotal: 1m 18s\tremaining: 2m 50s\n",
      "315:\tlearn: 691.5188525\ttotal: 1m 18s\tremaining: 2m 50s\n",
      "316:\tlearn: 691.5185923\ttotal: 1m 19s\tremaining: 2m 50s\n",
      "317:\tlearn: 691.5184337\ttotal: 1m 19s\tremaining: 2m 50s\n",
      "318:\tlearn: 691.5183156\ttotal: 1m 19s\tremaining: 2m 49s\n",
      "319:\tlearn: 691.5182676\ttotal: 1m 19s\tremaining: 2m 49s\n",
      "320:\tlearn: 691.5182122\ttotal: 1m 20s\tremaining: 2m 49s\n",
      "321:\tlearn: 691.5181779\ttotal: 1m 20s\tremaining: 2m 49s\n",
      "322:\tlearn: 691.5180045\ttotal: 1m 20s\tremaining: 2m 48s\n",
      "323:\tlearn: 691.5177371\ttotal: 1m 20s\tremaining: 2m 48s\n",
      "324:\tlearn: 691.5175160\ttotal: 1m 21s\tremaining: 2m 48s\n",
      "325:\tlearn: 691.5174256\ttotal: 1m 21s\tremaining: 2m 48s\n",
      "326:\tlearn: 691.5173463\ttotal: 1m 21s\tremaining: 2m 47s\n",
      "327:\tlearn: 691.5170763\ttotal: 1m 21s\tremaining: 2m 47s\n",
      "328:\tlearn: 691.5169216\ttotal: 1m 22s\tremaining: 2m 47s\n",
      "329:\tlearn: 691.5168082\ttotal: 1m 22s\tremaining: 2m 47s\n",
      "330:\tlearn: 691.5165264\ttotal: 1m 22s\tremaining: 2m 47s\n",
      "331:\tlearn: 691.5164061\ttotal: 1m 22s\tremaining: 2m 46s\n",
      "332:\tlearn: 691.5163109\ttotal: 1m 23s\tremaining: 2m 46s\n",
      "333:\tlearn: 691.5162818\ttotal: 1m 23s\tremaining: 2m 46s\n",
      "334:\tlearn: 691.5160835\ttotal: 1m 23s\tremaining: 2m 46s\n",
      "335:\tlearn: 691.5159160\ttotal: 1m 24s\tremaining: 2m 46s\n",
      "336:\tlearn: 691.5158989\ttotal: 1m 24s\tremaining: 2m 45s\n",
      "337:\tlearn: 691.5158325\ttotal: 1m 24s\tremaining: 2m 45s\n",
      "338:\tlearn: 691.5158174\ttotal: 1m 24s\tremaining: 2m 45s\n",
      "339:\tlearn: 691.5157039\ttotal: 1m 25s\tremaining: 2m 45s\n",
      "340:\tlearn: 691.5156076\ttotal: 1m 25s\tremaining: 2m 45s\n",
      "341:\tlearn: 691.5155898\ttotal: 1m 25s\tremaining: 2m 44s\n",
      "342:\tlearn: 691.5154867\ttotal: 1m 26s\tremaining: 2m 44s\n",
      "343:\tlearn: 691.5152305\ttotal: 1m 26s\tremaining: 2m 44s\n",
      "344:\tlearn: 691.5152008\ttotal: 1m 26s\tremaining: 2m 44s\n",
      "345:\tlearn: 691.5149930\ttotal: 1m 26s\tremaining: 2m 44s\n",
      "346:\tlearn: 691.5148309\ttotal: 1m 27s\tremaining: 2m 43s\n",
      "347:\tlearn: 691.5146424\ttotal: 1m 27s\tremaining: 2m 43s\n",
      "348:\tlearn: 691.5144975\ttotal: 1m 27s\tremaining: 2m 43s\n",
      "349:\tlearn: 691.5144307\ttotal: 1m 27s\tremaining: 2m 43s\n",
      "350:\tlearn: 691.5142845\ttotal: 1m 28s\tremaining: 2m 43s\n",
      "351:\tlearn: 691.5141920\ttotal: 1m 28s\tremaining: 2m 42s\n",
      "352:\tlearn: 691.5140490\ttotal: 1m 28s\tremaining: 2m 42s\n",
      "353:\tlearn: 691.5138885\ttotal: 1m 29s\tremaining: 2m 42s\n",
      "354:\tlearn: 691.5138209\ttotal: 1m 29s\tremaining: 2m 42s\n",
      "355:\tlearn: 691.5136834\ttotal: 1m 29s\tremaining: 2m 42s\n",
      "356:\tlearn: 691.5135167\ttotal: 1m 29s\tremaining: 2m 41s\n",
      "357:\tlearn: 691.5134729\ttotal: 1m 30s\tremaining: 2m 41s\n",
      "358:\tlearn: 691.5133560\ttotal: 1m 30s\tremaining: 2m 41s\n",
      "359:\tlearn: 691.5133082\ttotal: 1m 30s\tremaining: 2m 41s\n",
      "360:\tlearn: 691.5132396\ttotal: 1m 31s\tremaining: 2m 41s\n",
      "361:\tlearn: 691.5131133\ttotal: 1m 31s\tremaining: 2m 40s\n",
      "362:\tlearn: 691.5131021\ttotal: 1m 31s\tremaining: 2m 40s\n",
      "363:\tlearn: 691.5129712\ttotal: 1m 31s\tremaining: 2m 40s\n",
      "364:\tlearn: 691.5129336\ttotal: 1m 32s\tremaining: 2m 40s\n",
      "365:\tlearn: 691.5128439\ttotal: 1m 32s\tremaining: 2m 39s\n",
      "366:\tlearn: 691.5127642\ttotal: 1m 32s\tremaining: 2m 39s\n",
      "367:\tlearn: 691.5126914\ttotal: 1m 32s\tremaining: 2m 39s\n",
      "368:\tlearn: 691.5125526\ttotal: 1m 33s\tremaining: 2m 39s\n",
      "369:\tlearn: 691.5124802\ttotal: 1m 33s\tremaining: 2m 39s\n",
      "370:\tlearn: 691.5123468\ttotal: 1m 33s\tremaining: 2m 39s\n",
      "371:\tlearn: 691.5122501\ttotal: 1m 34s\tremaining: 2m 38s\n",
      "372:\tlearn: 691.5122013\ttotal: 1m 34s\tremaining: 2m 38s\n",
      "373:\tlearn: 691.5120828\ttotal: 1m 34s\tremaining: 2m 38s\n",
      "374:\tlearn: 691.5120262\ttotal: 1m 34s\tremaining: 2m 38s\n",
      "375:\tlearn: 691.5119861\ttotal: 1m 35s\tremaining: 2m 38s\n",
      "376:\tlearn: 691.5119396\ttotal: 1m 35s\tremaining: 2m 37s\n",
      "377:\tlearn: 691.5118713\ttotal: 1m 35s\tremaining: 2m 37s\n",
      "378:\tlearn: 691.5117681\ttotal: 1m 35s\tremaining: 2m 37s\n",
      "379:\tlearn: 691.5116773\ttotal: 1m 36s\tremaining: 2m 37s\n",
      "380:\tlearn: 691.5116430\ttotal: 1m 36s\tremaining: 2m 36s\n",
      "381:\tlearn: 691.5115895\ttotal: 1m 36s\tremaining: 2m 36s\n",
      "382:\tlearn: 691.5114853\ttotal: 1m 36s\tremaining: 2m 36s\n",
      "383:\tlearn: 691.5113384\ttotal: 1m 37s\tremaining: 2m 35s\n",
      "384:\tlearn: 691.5113128\ttotal: 1m 37s\tremaining: 2m 35s\n",
      "385:\tlearn: 691.5112852\ttotal: 1m 37s\tremaining: 2m 35s\n",
      "386:\tlearn: 691.5112441\ttotal: 1m 38s\tremaining: 2m 35s\n",
      "387:\tlearn: 691.5111382\ttotal: 1m 38s\tremaining: 2m 35s\n",
      "388:\tlearn: 691.5111122\ttotal: 1m 38s\tremaining: 2m 34s\n",
      "389:\tlearn: 691.5110341\ttotal: 1m 38s\tremaining: 2m 34s\n",
      "390:\tlearn: 691.5109848\ttotal: 1m 39s\tremaining: 2m 34s\n",
      "391:\tlearn: 691.5109333\ttotal: 1m 39s\tremaining: 2m 34s\n",
      "392:\tlearn: 691.5108810\ttotal: 1m 39s\tremaining: 2m 34s\n",
      "393:\tlearn: 691.5107609\ttotal: 1m 40s\tremaining: 2m 33s\n",
      "394:\tlearn: 691.5106976\ttotal: 1m 40s\tremaining: 2m 33s\n",
      "395:\tlearn: 691.5106203\ttotal: 1m 40s\tremaining: 2m 33s\n",
      "396:\tlearn: 691.5105439\ttotal: 1m 40s\tremaining: 2m 33s\n",
      "397:\tlearn: 691.5104862\ttotal: 1m 41s\tremaining: 2m 33s\n",
      "398:\tlearn: 691.5103930\ttotal: 1m 41s\tremaining: 2m 32s\n",
      "399:\tlearn: 691.5103342\ttotal: 1m 41s\tremaining: 2m 32s\n",
      "400:\tlearn: 691.5102864\ttotal: 1m 42s\tremaining: 2m 32s\n",
      "401:\tlearn: 691.5101962\ttotal: 1m 42s\tremaining: 2m 32s\n",
      "402:\tlearn: 691.5101582\ttotal: 1m 42s\tremaining: 2m 31s\n",
      "403:\tlearn: 691.5100992\ttotal: 1m 42s\tremaining: 2m 31s\n",
      "404:\tlearn: 691.5100582\ttotal: 1m 43s\tremaining: 2m 31s\n",
      "405:\tlearn: 691.5099822\ttotal: 1m 43s\tremaining: 2m 31s\n",
      "406:\tlearn: 691.5098936\ttotal: 1m 43s\tremaining: 2m 31s\n",
      "407:\tlearn: 691.5098470\ttotal: 1m 44s\tremaining: 2m 31s\n",
      "408:\tlearn: 691.5098198\ttotal: 1m 44s\tremaining: 2m 30s\n",
      "409:\tlearn: 691.5097792\ttotal: 1m 44s\tremaining: 2m 30s\n",
      "410:\tlearn: 691.5097568\ttotal: 1m 44s\tremaining: 2m 30s\n",
      "411:\tlearn: 691.5097134\ttotal: 1m 45s\tremaining: 2m 30s\n",
      "412:\tlearn: 691.5096862\ttotal: 1m 45s\tremaining: 2m 29s\n",
      "413:\tlearn: 691.5096128\ttotal: 1m 45s\tremaining: 2m 29s\n",
      "414:\tlearn: 691.5095853\ttotal: 1m 46s\tremaining: 2m 29s\n",
      "415:\tlearn: 691.5094711\ttotal: 1m 46s\tremaining: 2m 29s\n",
      "416:\tlearn: 691.5094032\ttotal: 1m 46s\tremaining: 2m 28s\n",
      "417:\tlearn: 691.5093645\ttotal: 1m 46s\tremaining: 2m 28s\n",
      "418:\tlearn: 691.5093015\ttotal: 1m 47s\tremaining: 2m 28s\n",
      "419:\tlearn: 691.5092557\ttotal: 1m 47s\tremaining: 2m 28s\n",
      "420:\tlearn: 691.5092482\ttotal: 1m 47s\tremaining: 2m 27s\n",
      "421:\tlearn: 691.5091736\ttotal: 1m 47s\tremaining: 2m 27s\n",
      "422:\tlearn: 691.5091165\ttotal: 1m 48s\tremaining: 2m 27s\n",
      "423:\tlearn: 691.5090806\ttotal: 1m 48s\tremaining: 2m 27s\n",
      "424:\tlearn: 691.5090486\ttotal: 1m 48s\tremaining: 2m 26s\n",
      "425:\tlearn: 691.5089811\ttotal: 1m 48s\tremaining: 2m 26s\n",
      "426:\tlearn: 691.5089409\ttotal: 1m 49s\tremaining: 2m 26s\n",
      "427:\tlearn: 691.5088349\ttotal: 1m 49s\tremaining: 2m 26s\n",
      "428:\tlearn: 691.5087947\ttotal: 1m 49s\tremaining: 2m 26s\n",
      "429:\tlearn: 691.5087648\ttotal: 1m 49s\tremaining: 2m 25s\n",
      "430:\tlearn: 691.5086878\ttotal: 1m 50s\tremaining: 2m 25s\n",
      "431:\tlearn: 691.5086322\ttotal: 1m 50s\tremaining: 2m 25s\n",
      "432:\tlearn: 691.5085868\ttotal: 1m 50s\tremaining: 2m 25s\n",
      "433:\tlearn: 691.5085066\ttotal: 1m 51s\tremaining: 2m 24s\n",
      "434:\tlearn: 691.5084757\ttotal: 1m 51s\tremaining: 2m 24s\n",
      "435:\tlearn: 691.5084441\ttotal: 1m 51s\tremaining: 2m 24s\n",
      "436:\tlearn: 691.5083841\ttotal: 1m 51s\tremaining: 2m 24s\n",
      "437:\tlearn: 691.5083355\ttotal: 1m 52s\tremaining: 2m 23s\n",
      "438:\tlearn: 691.5083159\ttotal: 1m 52s\tremaining: 2m 23s\n",
      "439:\tlearn: 691.5082453\ttotal: 1m 52s\tremaining: 2m 23s\n",
      "440:\tlearn: 691.5082068\ttotal: 1m 53s\tremaining: 2m 23s\n",
      "441:\tlearn: 691.5081880\ttotal: 1m 53s\tremaining: 2m 23s\n",
      "442:\tlearn: 691.5081449\ttotal: 1m 53s\tremaining: 2m 22s\n",
      "443:\tlearn: 691.5081279\ttotal: 1m 53s\tremaining: 2m 22s\n",
      "444:\tlearn: 691.5081057\ttotal: 1m 54s\tremaining: 2m 22s\n",
      "445:\tlearn: 691.5080547\ttotal: 1m 54s\tremaining: 2m 22s\n",
      "446:\tlearn: 691.5080341\ttotal: 1m 54s\tremaining: 2m 21s\n",
      "447:\tlearn: 691.5079979\ttotal: 1m 55s\tremaining: 2m 21s\n",
      "448:\tlearn: 691.5079657\ttotal: 1m 55s\tremaining: 2m 21s\n",
      "449:\tlearn: 691.5079410\ttotal: 1m 55s\tremaining: 2m 21s\n"
     ]
    },
    {
     "name": "stdout",
     "output_type": "stream",
     "text": [
      "450:\tlearn: 691.5079306\ttotal: 1m 55s\tremaining: 2m 21s\n",
      "451:\tlearn: 691.5079069\ttotal: 1m 56s\tremaining: 2m 20s\n",
      "452:\tlearn: 691.5078409\ttotal: 1m 56s\tremaining: 2m 20s\n",
      "453:\tlearn: 691.5078366\ttotal: 1m 56s\tremaining: 2m 20s\n",
      "454:\tlearn: 691.5078227\ttotal: 1m 57s\tremaining: 2m 20s\n",
      "455:\tlearn: 691.5078031\ttotal: 1m 57s\tremaining: 2m 19s\n",
      "456:\tlearn: 691.5077596\ttotal: 1m 57s\tremaining: 2m 19s\n",
      "457:\tlearn: 691.5077263\ttotal: 1m 57s\tremaining: 2m 19s\n",
      "458:\tlearn: 691.5077072\ttotal: 1m 58s\tremaining: 2m 19s\n",
      "459:\tlearn: 691.5076504\ttotal: 1m 58s\tremaining: 2m 19s\n",
      "460:\tlearn: 691.5076205\ttotal: 1m 58s\tremaining: 2m 18s\n",
      "461:\tlearn: 691.5076050\ttotal: 1m 59s\tremaining: 2m 18s\n",
      "462:\tlearn: 691.5075893\ttotal: 1m 59s\tremaining: 2m 18s\n",
      "463:\tlearn: 691.5075670\ttotal: 1m 59s\tremaining: 2m 18s\n",
      "464:\tlearn: 691.5075423\ttotal: 2m\tremaining: 2m 18s\n",
      "465:\tlearn: 691.5075136\ttotal: 2m\tremaining: 2m 17s\n",
      "466:\tlearn: 691.5074934\ttotal: 2m\tremaining: 2m 17s\n",
      "467:\tlearn: 691.5074127\ttotal: 2m\tremaining: 2m 17s\n",
      "468:\tlearn: 691.5073653\ttotal: 2m 1s\tremaining: 2m 17s\n",
      "469:\tlearn: 691.5073459\ttotal: 2m 1s\tremaining: 2m 17s\n",
      "470:\tlearn: 691.5072616\ttotal: 2m 1s\tremaining: 2m 16s\n",
      "471:\tlearn: 691.5072568\ttotal: 2m 2s\tremaining: 2m 16s\n",
      "472:\tlearn: 691.5072453\ttotal: 2m 2s\tremaining: 2m 16s\n",
      "473:\tlearn: 691.5072143\ttotal: 2m 2s\tremaining: 2m 16s\n",
      "474:\tlearn: 691.5071548\ttotal: 2m 3s\tremaining: 2m 16s\n",
      "475:\tlearn: 691.5071338\ttotal: 2m 3s\tremaining: 2m 15s\n",
      "476:\tlearn: 691.5070765\ttotal: 2m 3s\tremaining: 2m 15s\n",
      "477:\tlearn: 691.5070552\ttotal: 2m 3s\tremaining: 2m 15s\n",
      "478:\tlearn: 691.5070408\ttotal: 2m 4s\tremaining: 2m 15s\n",
      "479:\tlearn: 691.5070239\ttotal: 2m 4s\tremaining: 2m 14s\n",
      "480:\tlearn: 691.5070018\ttotal: 2m 4s\tremaining: 2m 14s\n",
      "481:\tlearn: 691.5069770\ttotal: 2m 5s\tremaining: 2m 14s\n",
      "482:\tlearn: 691.5069351\ttotal: 2m 5s\tremaining: 2m 14s\n",
      "483:\tlearn: 691.5068928\ttotal: 2m 5s\tremaining: 2m 14s\n",
      "484:\tlearn: 691.5068772\ttotal: 2m 5s\tremaining: 2m 13s\n",
      "485:\tlearn: 691.5068562\ttotal: 2m 6s\tremaining: 2m 13s\n",
      "486:\tlearn: 691.5068398\ttotal: 2m 6s\tremaining: 2m 13s\n",
      "487:\tlearn: 691.5068311\ttotal: 2m 6s\tremaining: 2m 13s\n",
      "488:\tlearn: 691.5068177\ttotal: 2m 7s\tremaining: 2m 12s\n",
      "489:\tlearn: 691.5067988\ttotal: 2m 7s\tremaining: 2m 12s\n",
      "490:\tlearn: 691.5067582\ttotal: 2m 7s\tremaining: 2m 12s\n",
      "491:\tlearn: 691.5067312\ttotal: 2m 8s\tremaining: 2m 12s\n",
      "492:\tlearn: 691.5067238\ttotal: 2m 8s\tremaining: 2m 12s\n",
      "493:\tlearn: 691.5067068\ttotal: 2m 8s\tremaining: 2m 11s\n",
      "494:\tlearn: 691.5067036\ttotal: 2m 8s\tremaining: 2m 11s\n",
      "495:\tlearn: 691.5066818\ttotal: 2m 9s\tremaining: 2m 11s\n",
      "496:\tlearn: 691.5066087\ttotal: 2m 9s\tremaining: 2m 11s\n",
      "497:\tlearn: 691.5065787\ttotal: 2m 9s\tremaining: 2m 10s\n",
      "498:\tlearn: 691.5065627\ttotal: 2m 10s\tremaining: 2m 10s\n",
      "499:\tlearn: 691.5065399\ttotal: 2m 10s\tremaining: 2m 10s\n",
      "500:\tlearn: 691.5065241\ttotal: 2m 10s\tremaining: 2m 10s\n",
      "501:\tlearn: 691.5065098\ttotal: 2m 10s\tremaining: 2m 9s\n",
      "502:\tlearn: 691.5064915\ttotal: 2m 11s\tremaining: 2m 9s\n",
      "503:\tlearn: 691.5064764\ttotal: 2m 11s\tremaining: 2m 9s\n",
      "504:\tlearn: 691.5064709\ttotal: 2m 11s\tremaining: 2m 8s\n",
      "505:\tlearn: 691.5064541\ttotal: 2m 11s\tremaining: 2m 8s\n",
      "506:\tlearn: 691.5064510\ttotal: 2m 12s\tremaining: 2m 8s\n",
      "507:\tlearn: 691.5064289\ttotal: 2m 12s\tremaining: 2m 8s\n",
      "508:\tlearn: 691.5063873\ttotal: 2m 12s\tremaining: 2m 7s\n",
      "509:\tlearn: 691.5063481\ttotal: 2m 12s\tremaining: 2m 7s\n",
      "510:\tlearn: 691.5062835\ttotal: 2m 13s\tremaining: 2m 7s\n",
      "511:\tlearn: 691.5062487\ttotal: 2m 13s\tremaining: 2m 7s\n",
      "512:\tlearn: 691.5062356\ttotal: 2m 13s\tremaining: 2m 7s\n",
      "513:\tlearn: 691.5062270\ttotal: 2m 14s\tremaining: 2m 6s\n",
      "514:\tlearn: 691.5062126\ttotal: 2m 14s\tremaining: 2m 6s\n",
      "515:\tlearn: 691.5062093\ttotal: 2m 14s\tremaining: 2m 6s\n",
      "516:\tlearn: 691.5061790\ttotal: 2m 14s\tremaining: 2m 6s\n",
      "517:\tlearn: 691.5061659\ttotal: 2m 15s\tremaining: 2m 5s\n",
      "518:\tlearn: 691.5061497\ttotal: 2m 15s\tremaining: 2m 5s\n",
      "519:\tlearn: 691.5061215\ttotal: 2m 15s\tremaining: 2m 5s\n",
      "520:\tlearn: 691.5060729\ttotal: 2m 16s\tremaining: 2m 5s\n",
      "521:\tlearn: 691.5060636\ttotal: 2m 16s\tremaining: 2m 4s\n",
      "522:\tlearn: 691.5060335\ttotal: 2m 16s\tremaining: 2m 4s\n",
      "523:\tlearn: 691.5060027\ttotal: 2m 17s\tremaining: 2m 4s\n",
      "524:\tlearn: 691.5060010\ttotal: 2m 17s\tremaining: 2m 4s\n",
      "525:\tlearn: 691.5059790\ttotal: 2m 17s\tremaining: 2m 4s\n",
      "526:\tlearn: 691.5059771\ttotal: 2m 18s\tremaining: 2m 3s\n",
      "527:\tlearn: 691.5059663\ttotal: 2m 18s\tremaining: 2m 3s\n",
      "528:\tlearn: 691.5059448\ttotal: 2m 18s\tremaining: 2m 3s\n",
      "529:\tlearn: 691.5059052\ttotal: 2m 18s\tremaining: 2m 3s\n",
      "530:\tlearn: 691.5058961\ttotal: 2m 19s\tremaining: 2m 2s\n",
      "531:\tlearn: 691.5058782\ttotal: 2m 19s\tremaining: 2m 2s\n",
      "532:\tlearn: 691.5058461\ttotal: 2m 19s\tremaining: 2m 2s\n",
      "533:\tlearn: 691.5058421\ttotal: 2m 20s\tremaining: 2m 2s\n",
      "534:\tlearn: 691.5058402\ttotal: 2m 20s\tremaining: 2m 2s\n",
      "535:\tlearn: 691.5058118\ttotal: 2m 20s\tremaining: 2m 1s\n",
      "536:\tlearn: 691.5057841\ttotal: 2m 21s\tremaining: 2m 1s\n",
      "537:\tlearn: 691.5057665\ttotal: 2m 21s\tremaining: 2m 1s\n",
      "538:\tlearn: 691.5057594\ttotal: 2m 21s\tremaining: 2m 1s\n",
      "539:\tlearn: 691.5057450\ttotal: 2m 21s\tremaining: 2m\n",
      "540:\tlearn: 691.5057321\ttotal: 2m 22s\tremaining: 2m\n",
      "541:\tlearn: 691.5057221\ttotal: 2m 22s\tremaining: 2m\n",
      "542:\tlearn: 691.5056994\ttotal: 2m 22s\tremaining: 2m\n",
      "543:\tlearn: 691.5056887\ttotal: 2m 22s\tremaining: 1m 59s\n",
      "544:\tlearn: 691.5056780\ttotal: 2m 23s\tremaining: 1m 59s\n",
      "545:\tlearn: 691.5056590\ttotal: 2m 23s\tremaining: 1m 59s\n",
      "546:\tlearn: 691.5056574\ttotal: 2m 23s\tremaining: 1m 59s\n",
      "547:\tlearn: 691.5056428\ttotal: 2m 24s\tremaining: 1m 58s\n",
      "548:\tlearn: 691.5056356\ttotal: 2m 24s\tremaining: 1m 58s\n",
      "549:\tlearn: 691.5056127\ttotal: 2m 24s\tremaining: 1m 58s\n",
      "550:\tlearn: 691.5055884\ttotal: 2m 25s\tremaining: 1m 58s\n",
      "551:\tlearn: 691.5055777\ttotal: 2m 25s\tremaining: 1m 58s\n",
      "552:\tlearn: 691.5055680\ttotal: 2m 25s\tremaining: 1m 57s\n",
      "553:\tlearn: 691.5055669\ttotal: 2m 26s\tremaining: 1m 57s\n",
      "554:\tlearn: 691.5055454\ttotal: 2m 26s\tremaining: 1m 57s\n",
      "555:\tlearn: 691.5055382\ttotal: 2m 26s\tremaining: 1m 57s\n",
      "556:\tlearn: 691.5055322\ttotal: 2m 26s\tremaining: 1m 56s\n",
      "557:\tlearn: 691.5055242\ttotal: 2m 27s\tremaining: 1m 56s\n",
      "558:\tlearn: 691.5055158\ttotal: 2m 27s\tremaining: 1m 56s\n",
      "559:\tlearn: 691.5055068\ttotal: 2m 27s\tremaining: 1m 56s\n",
      "560:\tlearn: 691.5055006\ttotal: 2m 28s\tremaining: 1m 55s\n",
      "561:\tlearn: 691.5054867\ttotal: 2m 28s\tremaining: 1m 55s\n",
      "562:\tlearn: 691.5054632\ttotal: 2m 28s\tremaining: 1m 55s\n",
      "563:\tlearn: 691.5054475\ttotal: 2m 28s\tremaining: 1m 55s\n",
      "564:\tlearn: 691.5054368\ttotal: 2m 29s\tremaining: 1m 54s\n",
      "565:\tlearn: 691.5054277\ttotal: 2m 29s\tremaining: 1m 54s\n",
      "566:\tlearn: 691.5054268\ttotal: 2m 29s\tremaining: 1m 54s\n",
      "567:\tlearn: 691.5054131\ttotal: 2m 29s\tremaining: 1m 54s\n",
      "568:\tlearn: 691.5053947\ttotal: 2m 30s\tremaining: 1m 53s\n",
      "569:\tlearn: 691.5053762\ttotal: 2m 30s\tremaining: 1m 53s\n",
      "570:\tlearn: 691.5053650\ttotal: 2m 30s\tremaining: 1m 53s\n",
      "571:\tlearn: 691.5053429\ttotal: 2m 31s\tremaining: 1m 53s\n",
      "572:\tlearn: 691.5053302\ttotal: 2m 31s\tremaining: 1m 52s\n",
      "573:\tlearn: 691.5053144\ttotal: 2m 31s\tremaining: 1m 52s\n",
      "574:\tlearn: 691.5052850\ttotal: 2m 32s\tremaining: 1m 52s\n",
      "575:\tlearn: 691.5052773\ttotal: 2m 32s\tremaining: 1m 52s\n",
      "576:\tlearn: 691.5052518\ttotal: 2m 32s\tremaining: 1m 51s\n",
      "577:\tlearn: 691.5052318\ttotal: 2m 32s\tremaining: 1m 51s\n",
      "578:\tlearn: 691.5052119\ttotal: 2m 33s\tremaining: 1m 51s\n",
      "579:\tlearn: 691.5051984\ttotal: 2m 33s\tremaining: 1m 51s\n",
      "580:\tlearn: 691.5051933\ttotal: 2m 33s\tremaining: 1m 50s\n",
      "581:\tlearn: 691.5051744\ttotal: 2m 34s\tremaining: 1m 50s\n",
      "582:\tlearn: 691.5051648\ttotal: 2m 34s\tremaining: 1m 50s\n",
      "583:\tlearn: 691.5051531\ttotal: 2m 34s\tremaining: 1m 50s\n",
      "584:\tlearn: 691.5051433\ttotal: 2m 34s\tremaining: 1m 49s\n",
      "585:\tlearn: 691.5051126\ttotal: 2m 35s\tremaining: 1m 49s\n",
      "586:\tlearn: 691.5051030\ttotal: 2m 35s\tremaining: 1m 49s\n",
      "587:\tlearn: 691.5050951\ttotal: 2m 35s\tremaining: 1m 49s\n",
      "588:\tlearn: 691.5050895\ttotal: 2m 35s\tremaining: 1m 48s\n",
      "589:\tlearn: 691.5050845\ttotal: 2m 36s\tremaining: 1m 48s\n",
      "590:\tlearn: 691.5050696\ttotal: 2m 36s\tremaining: 1m 48s\n",
      "591:\tlearn: 691.5050654\ttotal: 2m 36s\tremaining: 1m 47s\n",
      "592:\tlearn: 691.5050505\ttotal: 2m 36s\tremaining: 1m 47s\n",
      "593:\tlearn: 691.5050423\ttotal: 2m 37s\tremaining: 1m 47s\n",
      "594:\tlearn: 691.5050322\ttotal: 2m 37s\tremaining: 1m 47s\n",
      "595:\tlearn: 691.5050305\ttotal: 2m 37s\tremaining: 1m 46s\n",
      "596:\tlearn: 691.5050218\ttotal: 2m 37s\tremaining: 1m 46s\n",
      "597:\tlearn: 691.5050105\ttotal: 2m 38s\tremaining: 1m 46s\n",
      "598:\tlearn: 691.5050081\ttotal: 2m 38s\tremaining: 1m 46s\n"
     ]
    },
    {
     "name": "stdout",
     "output_type": "stream",
     "text": [
      "599:\tlearn: 691.5050029\ttotal: 2m 38s\tremaining: 1m 45s\n",
      "600:\tlearn: 691.5049932\ttotal: 2m 38s\tremaining: 1m 45s\n",
      "601:\tlearn: 691.5049876\ttotal: 2m 39s\tremaining: 1m 45s\n",
      "602:\tlearn: 691.5049719\ttotal: 2m 39s\tremaining: 1m 44s\n",
      "603:\tlearn: 691.5049591\ttotal: 2m 39s\tremaining: 1m 44s\n",
      "604:\tlearn: 691.5049544\ttotal: 2m 39s\tremaining: 1m 44s\n",
      "605:\tlearn: 691.5049408\ttotal: 2m 40s\tremaining: 1m 44s\n",
      "606:\tlearn: 691.5049254\ttotal: 2m 40s\tremaining: 1m 43s\n",
      "607:\tlearn: 691.5049172\ttotal: 2m 40s\tremaining: 1m 43s\n",
      "608:\tlearn: 691.5049055\ttotal: 2m 41s\tremaining: 1m 43s\n",
      "609:\tlearn: 691.5049025\ttotal: 2m 41s\tremaining: 1m 43s\n",
      "610:\tlearn: 691.5048970\ttotal: 2m 41s\tremaining: 1m 42s\n",
      "611:\tlearn: 691.5048889\ttotal: 2m 41s\tremaining: 1m 42s\n",
      "612:\tlearn: 691.5048760\ttotal: 2m 42s\tremaining: 1m 42s\n",
      "613:\tlearn: 691.5048681\ttotal: 2m 42s\tremaining: 1m 42s\n",
      "614:\tlearn: 691.5048611\ttotal: 2m 42s\tremaining: 1m 41s\n",
      "615:\tlearn: 691.5048420\ttotal: 2m 43s\tremaining: 1m 41s\n",
      "616:\tlearn: 691.5048182\ttotal: 2m 43s\tremaining: 1m 41s\n",
      "617:\tlearn: 691.5048082\ttotal: 2m 43s\tremaining: 1m 41s\n",
      "618:\tlearn: 691.5047950\ttotal: 2m 43s\tremaining: 1m 40s\n",
      "619:\tlearn: 691.5047923\ttotal: 2m 44s\tremaining: 1m 40s\n",
      "620:\tlearn: 691.5047812\ttotal: 2m 44s\tremaining: 1m 40s\n",
      "621:\tlearn: 691.5047743\ttotal: 2m 44s\tremaining: 1m 40s\n",
      "622:\tlearn: 691.5047667\ttotal: 2m 45s\tremaining: 1m 39s\n",
      "623:\tlearn: 691.5047593\ttotal: 2m 45s\tremaining: 1m 39s\n",
      "624:\tlearn: 691.5047541\ttotal: 2m 45s\tremaining: 1m 39s\n",
      "625:\tlearn: 691.5047520\ttotal: 2m 46s\tremaining: 1m 39s\n",
      "626:\tlearn: 691.5047489\ttotal: 2m 46s\tremaining: 1m 38s\n",
      "627:\tlearn: 691.5047371\ttotal: 2m 46s\tremaining: 1m 38s\n",
      "628:\tlearn: 691.5047317\ttotal: 2m 46s\tremaining: 1m 38s\n",
      "629:\tlearn: 691.5047279\ttotal: 2m 47s\tremaining: 1m 38s\n",
      "630:\tlearn: 691.5047240\ttotal: 2m 47s\tremaining: 1m 37s\n",
      "631:\tlearn: 691.5047120\ttotal: 2m 47s\tremaining: 1m 37s\n",
      "632:\tlearn: 691.5047100\ttotal: 2m 48s\tremaining: 1m 37s\n",
      "633:\tlearn: 691.5047092\ttotal: 2m 48s\tremaining: 1m 37s\n",
      "634:\tlearn: 691.5047039\ttotal: 2m 48s\tremaining: 1m 36s\n",
      "635:\tlearn: 691.5047004\ttotal: 2m 48s\tremaining: 1m 36s\n",
      "636:\tlearn: 691.5046858\ttotal: 2m 49s\tremaining: 1m 36s\n",
      "637:\tlearn: 691.5046775\ttotal: 2m 49s\tremaining: 1m 36s\n",
      "638:\tlearn: 691.5046752\ttotal: 2m 49s\tremaining: 1m 35s\n",
      "639:\tlearn: 691.5046722\ttotal: 2m 49s\tremaining: 1m 35s\n",
      "640:\tlearn: 691.5046619\ttotal: 2m 50s\tremaining: 1m 35s\n",
      "641:\tlearn: 691.5046566\ttotal: 2m 50s\tremaining: 1m 35s\n",
      "642:\tlearn: 691.5046508\ttotal: 2m 50s\tremaining: 1m 34s\n",
      "643:\tlearn: 691.5046468\ttotal: 2m 51s\tremaining: 1m 34s\n",
      "644:\tlearn: 691.5046386\ttotal: 2m 51s\tremaining: 1m 34s\n",
      "645:\tlearn: 691.5046334\ttotal: 2m 51s\tremaining: 1m 34s\n",
      "646:\tlearn: 691.5046330\ttotal: 2m 52s\tremaining: 1m 33s\n",
      "647:\tlearn: 691.5046282\ttotal: 2m 52s\tremaining: 1m 33s\n",
      "648:\tlearn: 691.5046119\ttotal: 2m 52s\tremaining: 1m 33s\n",
      "649:\tlearn: 691.5045893\ttotal: 2m 52s\tremaining: 1m 33s\n",
      "650:\tlearn: 691.5045801\ttotal: 2m 53s\tremaining: 1m 32s\n",
      "651:\tlearn: 691.5045747\ttotal: 2m 53s\tremaining: 1m 32s\n",
      "652:\tlearn: 691.5045706\ttotal: 2m 53s\tremaining: 1m 32s\n",
      "653:\tlearn: 691.5045614\ttotal: 2m 54s\tremaining: 1m 32s\n",
      "654:\tlearn: 691.5045570\ttotal: 2m 54s\tremaining: 1m 31s\n",
      "655:\tlearn: 691.5045527\ttotal: 2m 54s\tremaining: 1m 31s\n",
      "656:\tlearn: 691.5045519\ttotal: 2m 54s\tremaining: 1m 31s\n",
      "657:\tlearn: 691.5045429\ttotal: 2m 55s\tremaining: 1m 31s\n",
      "658:\tlearn: 691.5045390\ttotal: 2m 55s\tremaining: 1m 30s\n",
      "659:\tlearn: 691.5045368\ttotal: 2m 55s\tremaining: 1m 30s\n",
      "660:\tlearn: 691.5045318\ttotal: 2m 56s\tremaining: 1m 30s\n",
      "661:\tlearn: 691.5045283\ttotal: 2m 56s\tremaining: 1m 30s\n",
      "662:\tlearn: 691.5045186\ttotal: 2m 56s\tremaining: 1m 29s\n",
      "663:\tlearn: 691.5045118\ttotal: 2m 56s\tremaining: 1m 29s\n",
      "664:\tlearn: 691.5045104\ttotal: 2m 57s\tremaining: 1m 29s\n",
      "665:\tlearn: 691.5045077\ttotal: 2m 57s\tremaining: 1m 28s\n",
      "666:\tlearn: 691.5045022\ttotal: 2m 57s\tremaining: 1m 28s\n",
      "667:\tlearn: 691.5044937\ttotal: 2m 57s\tremaining: 1m 28s\n",
      "668:\tlearn: 691.5044932\ttotal: 2m 58s\tremaining: 1m 28s\n",
      "669:\tlearn: 691.5044925\ttotal: 2m 58s\tremaining: 1m 27s\n",
      "670:\tlearn: 691.5044897\ttotal: 2m 58s\tremaining: 1m 27s\n",
      "671:\tlearn: 691.5044870\ttotal: 2m 58s\tremaining: 1m 27s\n",
      "672:\tlearn: 691.5044836\ttotal: 2m 59s\tremaining: 1m 27s\n",
      "673:\tlearn: 691.5044802\ttotal: 2m 59s\tremaining: 1m 26s\n",
      "674:\tlearn: 691.5044727\ttotal: 2m 59s\tremaining: 1m 26s\n",
      "675:\tlearn: 691.5044687\ttotal: 3m\tremaining: 1m 26s\n",
      "676:\tlearn: 691.5044520\ttotal: 3m\tremaining: 1m 26s\n",
      "677:\tlearn: 691.5044478\ttotal: 3m\tremaining: 1m 25s\n",
      "678:\tlearn: 691.5044453\ttotal: 3m\tremaining: 1m 25s\n",
      "679:\tlearn: 691.5044376\ttotal: 3m 1s\tremaining: 1m 25s\n",
      "680:\tlearn: 691.5044344\ttotal: 3m 1s\tremaining: 1m 25s\n",
      "681:\tlearn: 691.5044326\ttotal: 3m 1s\tremaining: 1m 24s\n",
      "682:\tlearn: 691.5044284\ttotal: 3m 2s\tremaining: 1m 24s\n",
      "683:\tlearn: 691.5044250\ttotal: 3m 2s\tremaining: 1m 24s\n",
      "684:\tlearn: 691.5044193\ttotal: 3m 2s\tremaining: 1m 23s\n",
      "685:\tlearn: 691.5044190\ttotal: 3m 2s\tremaining: 1m 23s\n",
      "686:\tlearn: 691.5044184\ttotal: 3m 3s\tremaining: 1m 23s\n",
      "687:\tlearn: 691.5044086\ttotal: 3m 3s\tremaining: 1m 23s\n",
      "688:\tlearn: 691.5044060\ttotal: 3m 3s\tremaining: 1m 22s\n",
      "689:\tlearn: 691.5043937\ttotal: 3m 4s\tremaining: 1m 22s\n",
      "690:\tlearn: 691.5043864\ttotal: 3m 4s\tremaining: 1m 22s\n",
      "691:\tlearn: 691.5043852\ttotal: 3m 4s\tremaining: 1m 22s\n",
      "692:\tlearn: 691.5043784\ttotal: 3m 5s\tremaining: 1m 21s\n",
      "693:\tlearn: 691.5043759\ttotal: 3m 5s\tremaining: 1m 21s\n",
      "694:\tlearn: 691.5043653\ttotal: 3m 5s\tremaining: 1m 21s\n",
      "695:\tlearn: 691.5043646\ttotal: 3m 5s\tremaining: 1m 21s\n",
      "696:\tlearn: 691.5043624\ttotal: 3m 6s\tremaining: 1m 20s\n",
      "697:\tlearn: 691.5043597\ttotal: 3m 6s\tremaining: 1m 20s\n",
      "698:\tlearn: 691.5043553\ttotal: 3m 6s\tremaining: 1m 20s\n",
      "699:\tlearn: 691.5043533\ttotal: 3m 6s\tremaining: 1m 20s\n",
      "700:\tlearn: 691.5043523\ttotal: 3m 7s\tremaining: 1m 19s\n",
      "701:\tlearn: 691.5043478\ttotal: 3m 7s\tremaining: 1m 19s\n",
      "702:\tlearn: 691.5043472\ttotal: 3m 7s\tremaining: 1m 19s\n",
      "703:\tlearn: 691.5043463\ttotal: 3m 7s\tremaining: 1m 18s\n",
      "704:\tlearn: 691.5043400\ttotal: 3m 8s\tremaining: 1m 18s\n",
      "705:\tlearn: 691.5043284\ttotal: 3m 8s\tremaining: 1m 18s\n",
      "706:\tlearn: 691.5043225\ttotal: 3m 8s\tremaining: 1m 18s\n",
      "707:\tlearn: 691.5043196\ttotal: 3m 8s\tremaining: 1m 17s\n",
      "708:\tlearn: 691.5043131\ttotal: 3m 9s\tremaining: 1m 17s\n",
      "709:\tlearn: 691.5043113\ttotal: 3m 9s\tremaining: 1m 17s\n",
      "710:\tlearn: 691.5043056\ttotal: 3m 9s\tremaining: 1m 17s\n",
      "711:\tlearn: 691.5043046\ttotal: 3m 9s\tremaining: 1m 16s\n",
      "712:\tlearn: 691.5043040\ttotal: 3m 10s\tremaining: 1m 16s\n",
      "713:\tlearn: 691.5043017\ttotal: 3m 10s\tremaining: 1m 16s\n",
      "714:\tlearn: 691.5043014\ttotal: 3m 10s\tremaining: 1m 16s\n",
      "715:\tlearn: 691.5042979\ttotal: 3m 11s\tremaining: 1m 15s\n",
      "716:\tlearn: 691.5042956\ttotal: 3m 11s\tremaining: 1m 15s\n",
      "717:\tlearn: 691.5042942\ttotal: 3m 11s\tremaining: 1m 15s\n",
      "718:\tlearn: 691.5042843\ttotal: 3m 11s\tremaining: 1m 15s\n",
      "719:\tlearn: 691.5042827\ttotal: 3m 12s\tremaining: 1m 14s\n",
      "720:\tlearn: 691.5042816\ttotal: 3m 12s\tremaining: 1m 14s\n",
      "721:\tlearn: 691.5042799\ttotal: 3m 12s\tremaining: 1m 14s\n",
      "722:\tlearn: 691.5042785\ttotal: 3m 12s\tremaining: 1m 13s\n",
      "723:\tlearn: 691.5042784\ttotal: 3m 13s\tremaining: 1m 13s\n",
      "724:\tlearn: 691.5042780\ttotal: 3m 13s\tremaining: 1m 13s\n",
      "725:\tlearn: 691.5042714\ttotal: 3m 13s\tremaining: 1m 13s\n",
      "726:\tlearn: 691.5042710\ttotal: 3m 13s\tremaining: 1m 12s\n",
      "727:\tlearn: 691.5042649\ttotal: 3m 14s\tremaining: 1m 12s\n",
      "728:\tlearn: 691.5042637\ttotal: 3m 14s\tremaining: 1m 12s\n",
      "729:\tlearn: 691.5042613\ttotal: 3m 14s\tremaining: 1m 12s\n",
      "730:\tlearn: 691.5042573\ttotal: 3m 15s\tremaining: 1m 11s\n",
      "731:\tlearn: 691.5042479\ttotal: 3m 15s\tremaining: 1m 11s\n",
      "732:\tlearn: 691.5042408\ttotal: 3m 15s\tremaining: 1m 11s\n",
      "733:\tlearn: 691.5042407\ttotal: 3m 15s\tremaining: 1m 11s\n",
      "734:\tlearn: 691.5042373\ttotal: 3m 16s\tremaining: 1m 10s\n",
      "735:\tlearn: 691.5042355\ttotal: 3m 16s\tremaining: 1m 10s\n",
      "736:\tlearn: 691.5042339\ttotal: 3m 16s\tremaining: 1m 10s\n",
      "737:\tlearn: 691.5042273\ttotal: 3m 17s\tremaining: 1m 9s\n",
      "738:\tlearn: 691.5042251\ttotal: 3m 17s\tremaining: 1m 9s\n",
      "739:\tlearn: 691.5042222\ttotal: 3m 17s\tremaining: 1m 9s\n",
      "740:\tlearn: 691.5042209\ttotal: 3m 17s\tremaining: 1m 9s\n",
      "741:\tlearn: 691.5042184\ttotal: 3m 18s\tremaining: 1m 8s\n",
      "742:\tlearn: 691.5042105\ttotal: 3m 18s\tremaining: 1m 8s\n",
      "743:\tlearn: 691.5042071\ttotal: 3m 18s\tremaining: 1m 8s\n",
      "744:\tlearn: 691.5042070\ttotal: 3m 19s\tremaining: 1m 8s\n",
      "745:\tlearn: 691.5041991\ttotal: 3m 19s\tremaining: 1m 7s\n",
      "746:\tlearn: 691.5041988\ttotal: 3m 19s\tremaining: 1m 7s\n"
     ]
    },
    {
     "name": "stdout",
     "output_type": "stream",
     "text": [
      "747:\tlearn: 691.5041922\ttotal: 3m 19s\tremaining: 1m 7s\n",
      "748:\tlearn: 691.5041874\ttotal: 3m 20s\tremaining: 1m 7s\n",
      "749:\tlearn: 691.5041836\ttotal: 3m 20s\tremaining: 1m 6s\n",
      "750:\tlearn: 691.5041762\ttotal: 3m 20s\tremaining: 1m 6s\n",
      "751:\tlearn: 691.5041745\ttotal: 3m 20s\tremaining: 1m 6s\n",
      "752:\tlearn: 691.5041702\ttotal: 3m 21s\tremaining: 1m 6s\n",
      "753:\tlearn: 691.5041616\ttotal: 3m 21s\tremaining: 1m 5s\n",
      "754:\tlearn: 691.5041608\ttotal: 3m 21s\tremaining: 1m 5s\n",
      "755:\tlearn: 691.5041571\ttotal: 3m 22s\tremaining: 1m 5s\n",
      "756:\tlearn: 691.5041530\ttotal: 3m 22s\tremaining: 1m 4s\n",
      "757:\tlearn: 691.5041482\ttotal: 3m 22s\tremaining: 1m 4s\n",
      "758:\tlearn: 691.5041465\ttotal: 3m 22s\tremaining: 1m 4s\n",
      "759:\tlearn: 691.5041426\ttotal: 3m 23s\tremaining: 1m 4s\n",
      "760:\tlearn: 691.5041364\ttotal: 3m 23s\tremaining: 1m 3s\n",
      "761:\tlearn: 691.5041312\ttotal: 3m 23s\tremaining: 1m 3s\n",
      "762:\tlearn: 691.5041300\ttotal: 3m 23s\tremaining: 1m 3s\n",
      "763:\tlearn: 691.5041243\ttotal: 3m 24s\tremaining: 1m 3s\n",
      "764:\tlearn: 691.5041226\ttotal: 3m 24s\tremaining: 1m 2s\n",
      "765:\tlearn: 691.5041186\ttotal: 3m 24s\tremaining: 1m 2s\n",
      "766:\tlearn: 691.5041175\ttotal: 3m 24s\tremaining: 1m 2s\n",
      "767:\tlearn: 691.5041161\ttotal: 3m 25s\tremaining: 1m 1s\n",
      "768:\tlearn: 691.5041121\ttotal: 3m 25s\tremaining: 1m 1s\n",
      "769:\tlearn: 691.5041105\ttotal: 3m 25s\tremaining: 1m 1s\n",
      "770:\tlearn: 691.5041096\ttotal: 3m 25s\tremaining: 1m 1s\n",
      "771:\tlearn: 691.5041084\ttotal: 3m 26s\tremaining: 1m\n",
      "772:\tlearn: 691.5041063\ttotal: 3m 26s\tremaining: 1m\n",
      "773:\tlearn: 691.5041047\ttotal: 3m 26s\tremaining: 1m\n",
      "774:\tlearn: 691.5041011\ttotal: 3m 26s\tremaining: 1m\n",
      "775:\tlearn: 691.5040982\ttotal: 3m 27s\tremaining: 59.8s\n",
      "776:\tlearn: 691.5040957\ttotal: 3m 27s\tremaining: 59.5s\n",
      "777:\tlearn: 691.5040896\ttotal: 3m 27s\tremaining: 59.2s\n",
      "778:\tlearn: 691.5040877\ttotal: 3m 27s\tremaining: 59s\n",
      "779:\tlearn: 691.5040873\ttotal: 3m 28s\tremaining: 58.7s\n",
      "780:\tlearn: 691.5040861\ttotal: 3m 28s\tremaining: 58.4s\n",
      "781:\tlearn: 691.5040834\ttotal: 3m 28s\tremaining: 58.2s\n",
      "782:\tlearn: 691.5040828\ttotal: 3m 28s\tremaining: 57.9s\n",
      "783:\tlearn: 691.5040819\ttotal: 3m 29s\tremaining: 57.6s\n",
      "784:\tlearn: 691.5040806\ttotal: 3m 29s\tremaining: 57.3s\n",
      "785:\tlearn: 691.5040785\ttotal: 3m 29s\tremaining: 57s\n",
      "786:\tlearn: 691.5040742\ttotal: 3m 29s\tremaining: 56.8s\n",
      "787:\tlearn: 691.5040708\ttotal: 3m 30s\tremaining: 56.5s\n",
      "788:\tlearn: 691.5040645\ttotal: 3m 30s\tremaining: 56.2s\n",
      "789:\tlearn: 691.5040618\ttotal: 3m 30s\tremaining: 56s\n",
      "790:\tlearn: 691.5040612\ttotal: 3m 30s\tremaining: 55.7s\n",
      "791:\tlearn: 691.5040606\ttotal: 3m 31s\tremaining: 55.4s\n",
      "792:\tlearn: 691.5040592\ttotal: 3m 31s\tremaining: 55.2s\n",
      "793:\tlearn: 691.5040578\ttotal: 3m 31s\tremaining: 54.9s\n",
      "794:\tlearn: 691.5040552\ttotal: 3m 31s\tremaining: 54.6s\n",
      "795:\tlearn: 691.5040544\ttotal: 3m 32s\tremaining: 54.4s\n",
      "796:\tlearn: 691.5040525\ttotal: 3m 32s\tremaining: 54.1s\n",
      "797:\tlearn: 691.5040502\ttotal: 3m 32s\tremaining: 53.9s\n",
      "798:\tlearn: 691.5040474\ttotal: 3m 33s\tremaining: 53.6s\n",
      "799:\tlearn: 691.5040465\ttotal: 3m 33s\tremaining: 53.3s\n",
      "800:\tlearn: 691.5040463\ttotal: 3m 33s\tremaining: 53.1s\n",
      "801:\tlearn: 691.5040457\ttotal: 3m 33s\tremaining: 52.8s\n",
      "802:\tlearn: 691.5040443\ttotal: 3m 34s\tremaining: 52.5s\n",
      "803:\tlearn: 691.5040435\ttotal: 3m 34s\tremaining: 52.3s\n",
      "804:\tlearn: 691.5040432\ttotal: 3m 34s\tremaining: 52s\n",
      "805:\tlearn: 691.5040401\ttotal: 3m 34s\tremaining: 51.7s\n",
      "806:\tlearn: 691.5040398\ttotal: 3m 35s\tremaining: 51.5s\n",
      "807:\tlearn: 691.5040383\ttotal: 3m 35s\tremaining: 51.2s\n",
      "808:\tlearn: 691.5040342\ttotal: 3m 35s\tremaining: 50.9s\n",
      "809:\tlearn: 691.5040340\ttotal: 3m 36s\tremaining: 50.7s\n",
      "810:\tlearn: 691.5040330\ttotal: 3m 36s\tremaining: 50.4s\n",
      "811:\tlearn: 691.5040284\ttotal: 3m 36s\tremaining: 50.2s\n",
      "812:\tlearn: 691.5040273\ttotal: 3m 36s\tremaining: 49.9s\n",
      "813:\tlearn: 691.5040268\ttotal: 3m 37s\tremaining: 49.6s\n",
      "814:\tlearn: 691.5040239\ttotal: 3m 37s\tremaining: 49.4s\n",
      "815:\tlearn: 691.5040238\ttotal: 3m 37s\tremaining: 49.1s\n",
      "816:\tlearn: 691.5040230\ttotal: 3m 38s\tremaining: 48.9s\n",
      "817:\tlearn: 691.5040230\ttotal: 3m 38s\tremaining: 48.6s\n",
      "818:\tlearn: 691.5040215\ttotal: 3m 38s\tremaining: 48.3s\n",
      "819:\tlearn: 691.5040200\ttotal: 3m 39s\tremaining: 48.1s\n",
      "820:\tlearn: 691.5040199\ttotal: 3m 39s\tremaining: 47.8s\n",
      "821:\tlearn: 691.5040184\ttotal: 3m 39s\tremaining: 47.5s\n",
      "822:\tlearn: 691.5040175\ttotal: 3m 39s\tremaining: 47.3s\n",
      "823:\tlearn: 691.5040155\ttotal: 3m 40s\tremaining: 47s\n",
      "824:\tlearn: 691.5040129\ttotal: 3m 40s\tremaining: 46.7s\n",
      "825:\tlearn: 691.5040085\ttotal: 3m 40s\tremaining: 46.5s\n",
      "826:\tlearn: 691.5040033\ttotal: 3m 40s\tremaining: 46.2s\n",
      "827:\tlearn: 691.5040025\ttotal: 3m 41s\tremaining: 45.9s\n",
      "828:\tlearn: 691.5040001\ttotal: 3m 41s\tremaining: 45.7s\n",
      "829:\tlearn: 691.5039974\ttotal: 3m 41s\tremaining: 45.4s\n",
      "830:\tlearn: 691.5039970\ttotal: 3m 41s\tremaining: 45.1s\n",
      "831:\tlearn: 691.5039939\ttotal: 3m 42s\tremaining: 44.9s\n",
      "832:\tlearn: 691.5039936\ttotal: 3m 42s\tremaining: 44.6s\n",
      "833:\tlearn: 691.5039925\ttotal: 3m 42s\tremaining: 44.3s\n",
      "834:\tlearn: 691.5039904\ttotal: 3m 42s\tremaining: 44s\n",
      "835:\tlearn: 691.5039904\ttotal: 3m 43s\tremaining: 43.8s\n",
      "836:\tlearn: 691.5039882\ttotal: 3m 43s\tremaining: 43.5s\n",
      "837:\tlearn: 691.5039881\ttotal: 3m 43s\tremaining: 43.2s\n",
      "838:\tlearn: 691.5039857\ttotal: 3m 43s\tremaining: 43s\n",
      "839:\tlearn: 691.5039852\ttotal: 3m 44s\tremaining: 42.7s\n",
      "840:\tlearn: 691.5039837\ttotal: 3m 44s\tremaining: 42.4s\n",
      "841:\tlearn: 691.5039833\ttotal: 3m 44s\tremaining: 42.2s\n",
      "842:\tlearn: 691.5039780\ttotal: 3m 44s\tremaining: 41.9s\n",
      "843:\tlearn: 691.5039769\ttotal: 3m 45s\tremaining: 41.6s\n",
      "844:\tlearn: 691.5039761\ttotal: 3m 45s\tremaining: 41.4s\n",
      "845:\tlearn: 691.5039745\ttotal: 3m 45s\tremaining: 41.1s\n",
      "846:\tlearn: 691.5039717\ttotal: 3m 46s\tremaining: 40.8s\n",
      "847:\tlearn: 691.5039695\ttotal: 3m 46s\tremaining: 40.6s\n",
      "848:\tlearn: 691.5039695\ttotal: 3m 46s\tremaining: 40.3s\n",
      "849:\tlearn: 691.5039663\ttotal: 3m 46s\tremaining: 40s\n",
      "850:\tlearn: 691.5039654\ttotal: 3m 47s\tremaining: 39.8s\n",
      "851:\tlearn: 691.5039642\ttotal: 3m 47s\tremaining: 39.5s\n",
      "852:\tlearn: 691.5039624\ttotal: 3m 47s\tremaining: 39.2s\n",
      "853:\tlearn: 691.5039624\ttotal: 3m 47s\tremaining: 39s\n",
      "854:\tlearn: 691.5039612\ttotal: 3m 48s\tremaining: 38.7s\n",
      "855:\tlearn: 691.5039609\ttotal: 3m 48s\tremaining: 38.4s\n",
      "856:\tlearn: 691.5039589\ttotal: 3m 48s\tremaining: 38.1s\n",
      "857:\tlearn: 691.5039568\ttotal: 3m 48s\tremaining: 37.9s\n",
      "858:\tlearn: 691.5039566\ttotal: 3m 49s\tremaining: 37.6s\n",
      "859:\tlearn: 691.5039558\ttotal: 3m 49s\tremaining: 37.3s\n",
      "860:\tlearn: 691.5039536\ttotal: 3m 49s\tremaining: 37.1s\n",
      "861:\tlearn: 691.5039531\ttotal: 3m 50s\tremaining: 36.8s\n",
      "862:\tlearn: 691.5039528\ttotal: 3m 50s\tremaining: 36.6s\n",
      "863:\tlearn: 691.5039521\ttotal: 3m 50s\tremaining: 36.3s\n",
      "864:\tlearn: 691.5039506\ttotal: 3m 50s\tremaining: 36s\n",
      "865:\tlearn: 691.5039475\ttotal: 3m 51s\tremaining: 35.7s\n",
      "866:\tlearn: 691.5039446\ttotal: 3m 51s\tremaining: 35.5s\n",
      "867:\tlearn: 691.5039417\ttotal: 3m 51s\tremaining: 35.2s\n",
      "868:\tlearn: 691.5039382\ttotal: 3m 51s\tremaining: 34.9s\n",
      "869:\tlearn: 691.5039369\ttotal: 3m 52s\tremaining: 34.7s\n",
      "870:\tlearn: 691.5039364\ttotal: 3m 52s\tremaining: 34.4s\n",
      "871:\tlearn: 691.5039355\ttotal: 3m 52s\tremaining: 34.1s\n",
      "872:\tlearn: 691.5039355\ttotal: 3m 52s\tremaining: 33.9s\n",
      "873:\tlearn: 691.5039318\ttotal: 3m 53s\tremaining: 33.6s\n",
      "874:\tlearn: 691.5039308\ttotal: 3m 53s\tremaining: 33.3s\n",
      "875:\tlearn: 691.5039306\ttotal: 3m 53s\tremaining: 33.1s\n",
      "876:\tlearn: 691.5039297\ttotal: 3m 53s\tremaining: 32.8s\n",
      "877:\tlearn: 691.5039289\ttotal: 3m 54s\tremaining: 32.6s\n",
      "878:\tlearn: 691.5039277\ttotal: 3m 54s\tremaining: 32.3s\n",
      "879:\tlearn: 691.5039272\ttotal: 3m 54s\tremaining: 32s\n",
      "880:\tlearn: 691.5039264\ttotal: 3m 55s\tremaining: 31.8s\n",
      "881:\tlearn: 691.5039264\ttotal: 3m 55s\tremaining: 31.5s\n",
      "882:\tlearn: 691.5039257\ttotal: 3m 55s\tremaining: 31.2s\n",
      "883:\tlearn: 691.5039248\ttotal: 3m 55s\tremaining: 31s\n",
      "884:\tlearn: 691.5039230\ttotal: 3m 56s\tremaining: 30.7s\n",
      "885:\tlearn: 691.5039216\ttotal: 3m 56s\tremaining: 30.4s\n",
      "886:\tlearn: 691.5039207\ttotal: 3m 56s\tremaining: 30.2s\n",
      "887:\tlearn: 691.5039200\ttotal: 3m 56s\tremaining: 29.9s\n",
      "888:\tlearn: 691.5039199\ttotal: 3m 57s\tremaining: 29.6s\n",
      "889:\tlearn: 691.5039195\ttotal: 3m 57s\tremaining: 29.4s\n",
      "890:\tlearn: 691.5039187\ttotal: 3m 57s\tremaining: 29.1s\n",
      "891:\tlearn: 691.5039170\ttotal: 3m 57s\tremaining: 28.8s\n",
      "892:\tlearn: 691.5039168\ttotal: 3m 58s\tremaining: 28.5s\n",
      "893:\tlearn: 691.5039164\ttotal: 3m 58s\tremaining: 28.3s\n",
      "894:\tlearn: 691.5039136\ttotal: 3m 58s\tremaining: 28s\n",
      "895:\tlearn: 691.5039117\ttotal: 3m 59s\tremaining: 27.7s\n",
      "896:\tlearn: 691.5039112\ttotal: 3m 59s\tremaining: 27.5s\n"
     ]
    },
    {
     "name": "stdout",
     "output_type": "stream",
     "text": [
      "897:\tlearn: 691.5039112\ttotal: 3m 59s\tremaining: 27.2s\n",
      "898:\tlearn: 691.5039097\ttotal: 3m 59s\tremaining: 26.9s\n",
      "899:\tlearn: 691.5039094\ttotal: 4m\tremaining: 26.7s\n",
      "900:\tlearn: 691.5039087\ttotal: 4m\tremaining: 26.4s\n",
      "901:\tlearn: 691.5039073\ttotal: 4m\tremaining: 26.1s\n",
      "902:\tlearn: 691.5039065\ttotal: 4m\tremaining: 25.9s\n",
      "903:\tlearn: 691.5039061\ttotal: 4m 1s\tremaining: 25.6s\n",
      "904:\tlearn: 691.5039044\ttotal: 4m 1s\tremaining: 25.3s\n",
      "905:\tlearn: 691.5039028\ttotal: 4m 1s\tremaining: 25.1s\n",
      "906:\tlearn: 691.5039010\ttotal: 4m 1s\tremaining: 24.8s\n",
      "907:\tlearn: 691.5039008\ttotal: 4m 2s\tremaining: 24.5s\n",
      "908:\tlearn: 691.5039002\ttotal: 4m 2s\tremaining: 24.3s\n",
      "909:\tlearn: 691.5039000\ttotal: 4m 2s\tremaining: 24s\n",
      "910:\tlearn: 691.5039000\ttotal: 4m 3s\tremaining: 23.7s\n",
      "911:\tlearn: 691.5038987\ttotal: 4m 3s\tremaining: 23.5s\n",
      "912:\tlearn: 691.5038968\ttotal: 4m 3s\tremaining: 23.2s\n",
      "913:\tlearn: 691.5038962\ttotal: 4m 3s\tremaining: 22.9s\n",
      "914:\tlearn: 691.5038957\ttotal: 4m 3s\tremaining: 22.7s\n",
      "915:\tlearn: 691.5038951\ttotal: 4m 4s\tremaining: 22.4s\n",
      "916:\tlearn: 691.5038949\ttotal: 4m 4s\tremaining: 22.1s\n",
      "917:\tlearn: 691.5038949\ttotal: 4m 4s\tremaining: 21.9s\n",
      "918:\tlearn: 691.5038948\ttotal: 4m 5s\tremaining: 21.6s\n",
      "919:\tlearn: 691.5038941\ttotal: 4m 5s\tremaining: 21.3s\n",
      "920:\tlearn: 691.5038941\ttotal: 4m 5s\tremaining: 21.1s\n",
      "921:\tlearn: 691.5038939\ttotal: 4m 5s\tremaining: 20.8s\n",
      "922:\tlearn: 691.5038935\ttotal: 4m 6s\tremaining: 20.5s\n",
      "923:\tlearn: 691.5038935\ttotal: 4m 6s\tremaining: 20.3s\n",
      "924:\tlearn: 691.5038929\ttotal: 4m 6s\tremaining: 20s\n",
      "925:\tlearn: 691.5038924\ttotal: 4m 6s\tremaining: 19.7s\n",
      "926:\tlearn: 691.5038908\ttotal: 4m 7s\tremaining: 19.5s\n",
      "927:\tlearn: 691.5038900\ttotal: 4m 7s\tremaining: 19.2s\n",
      "928:\tlearn: 691.5038888\ttotal: 4m 7s\tremaining: 18.9s\n",
      "929:\tlearn: 691.5038888\ttotal: 4m 7s\tremaining: 18.7s\n",
      "930:\tlearn: 691.5038885\ttotal: 4m 8s\tremaining: 18.4s\n",
      "931:\tlearn: 691.5038885\ttotal: 4m 8s\tremaining: 18.1s\n",
      "932:\tlearn: 691.5038885\ttotal: 4m 8s\tremaining: 17.9s\n",
      "933:\tlearn: 691.5038883\ttotal: 4m 8s\tremaining: 17.6s\n",
      "934:\tlearn: 691.5038882\ttotal: 4m 9s\tremaining: 17.3s\n",
      "935:\tlearn: 691.5038875\ttotal: 4m 9s\tremaining: 17.1s\n",
      "936:\tlearn: 691.5038875\ttotal: 4m 9s\tremaining: 16.8s\n",
      "937:\tlearn: 691.5038871\ttotal: 4m 9s\tremaining: 16.5s\n",
      "938:\tlearn: 691.5038862\ttotal: 4m 10s\tremaining: 16.3s\n",
      "939:\tlearn: 691.5038857\ttotal: 4m 10s\tremaining: 16s\n",
      "940:\tlearn: 691.5038856\ttotal: 4m 10s\tremaining: 15.7s\n",
      "941:\tlearn: 691.5038856\ttotal: 4m 11s\tremaining: 15.5s\n",
      "942:\tlearn: 691.5038852\ttotal: 4m 11s\tremaining: 15.2s\n",
      "943:\tlearn: 691.5038839\ttotal: 4m 11s\tremaining: 14.9s\n",
      "944:\tlearn: 691.5038839\ttotal: 4m 11s\tremaining: 14.7s\n",
      "945:\tlearn: 691.5038834\ttotal: 4m 12s\tremaining: 14.4s\n",
      "946:\tlearn: 691.5038830\ttotal: 4m 12s\tremaining: 14.1s\n",
      "947:\tlearn: 691.5038800\ttotal: 4m 12s\tremaining: 13.9s\n",
      "948:\tlearn: 691.5038800\ttotal: 4m 13s\tremaining: 13.6s\n",
      "949:\tlearn: 691.5038798\ttotal: 4m 13s\tremaining: 13.3s\n",
      "950:\tlearn: 691.5038788\ttotal: 4m 13s\tremaining: 13.1s\n",
      "951:\tlearn: 691.5038783\ttotal: 4m 13s\tremaining: 12.8s\n",
      "952:\tlearn: 691.5038769\ttotal: 4m 14s\tremaining: 12.5s\n",
      "953:\tlearn: 691.5038764\ttotal: 4m 14s\tremaining: 12.3s\n",
      "954:\tlearn: 691.5038763\ttotal: 4m 14s\tremaining: 12s\n",
      "955:\tlearn: 691.5038763\ttotal: 4m 14s\tremaining: 11.7s\n",
      "956:\tlearn: 691.5038763\ttotal: 4m 15s\tremaining: 11.5s\n",
      "957:\tlearn: 691.5038759\ttotal: 4m 15s\tremaining: 11.2s\n",
      "958:\tlearn: 691.5038759\ttotal: 4m 15s\tremaining: 10.9s\n",
      "959:\tlearn: 691.5038758\ttotal: 4m 16s\tremaining: 10.7s\n",
      "960:\tlearn: 691.5038752\ttotal: 4m 16s\tremaining: 10.4s\n",
      "961:\tlearn: 691.5038752\ttotal: 4m 16s\tremaining: 10.1s\n",
      "962:\tlearn: 691.5038747\ttotal: 4m 16s\tremaining: 9.87s\n",
      "963:\tlearn: 691.5038740\ttotal: 4m 17s\tremaining: 9.6s\n",
      "964:\tlearn: 691.5038719\ttotal: 4m 17s\tremaining: 9.34s\n",
      "965:\tlearn: 691.5038697\ttotal: 4m 17s\tremaining: 9.07s\n",
      "966:\tlearn: 691.5038693\ttotal: 4m 17s\tremaining: 8.8s\n",
      "967:\tlearn: 691.5038688\ttotal: 4m 18s\tremaining: 8.54s\n",
      "968:\tlearn: 691.5038688\ttotal: 4m 18s\tremaining: 8.27s\n",
      "969:\tlearn: 691.5038676\ttotal: 4m 18s\tremaining: 8s\n",
      "970:\tlearn: 691.5038672\ttotal: 4m 19s\tremaining: 7.74s\n",
      "971:\tlearn: 691.5038672\ttotal: 4m 19s\tremaining: 7.47s\n",
      "972:\tlearn: 691.5038670\ttotal: 4m 19s\tremaining: 7.2s\n",
      "973:\tlearn: 691.5038656\ttotal: 4m 19s\tremaining: 6.94s\n",
      "974:\tlearn: 691.5038652\ttotal: 4m 20s\tremaining: 6.67s\n",
      "975:\tlearn: 691.5038648\ttotal: 4m 20s\tremaining: 6.4s\n",
      "976:\tlearn: 691.5038647\ttotal: 4m 20s\tremaining: 6.14s\n",
      "977:\tlearn: 691.5038647\ttotal: 4m 20s\tremaining: 5.87s\n",
      "978:\tlearn: 691.5038636\ttotal: 4m 21s\tremaining: 5.6s\n",
      "979:\tlearn: 691.5038636\ttotal: 4m 21s\tremaining: 5.34s\n",
      "980:\tlearn: 691.5038635\ttotal: 4m 21s\tremaining: 5.07s\n",
      "981:\tlearn: 691.5038635\ttotal: 4m 22s\tremaining: 4.8s\n",
      "982:\tlearn: 691.5038630\ttotal: 4m 22s\tremaining: 4.54s\n",
      "983:\tlearn: 691.5038625\ttotal: 4m 22s\tremaining: 4.27s\n",
      "984:\tlearn: 691.5038624\ttotal: 4m 22s\tremaining: 4s\n",
      "985:\tlearn: 691.5038611\ttotal: 4m 23s\tremaining: 3.73s\n",
      "986:\tlearn: 691.5038598\ttotal: 4m 23s\tremaining: 3.47s\n",
      "987:\tlearn: 691.5038598\ttotal: 4m 23s\tremaining: 3.2s\n",
      "988:\tlearn: 691.5038578\ttotal: 4m 23s\tremaining: 2.94s\n",
      "989:\tlearn: 691.5038577\ttotal: 4m 24s\tremaining: 2.67s\n",
      "990:\tlearn: 691.5038573\ttotal: 4m 24s\tremaining: 2.4s\n",
      "991:\tlearn: 691.5038573\ttotal: 4m 24s\tremaining: 2.13s\n",
      "992:\tlearn: 691.5038573\ttotal: 4m 25s\tremaining: 1.87s\n",
      "993:\tlearn: 691.5038560\ttotal: 4m 25s\tremaining: 1.6s\n",
      "994:\tlearn: 691.5038557\ttotal: 4m 25s\tremaining: 1.33s\n",
      "995:\tlearn: 691.5038554\ttotal: 4m 25s\tremaining: 1.07s\n",
      "996:\tlearn: 691.5038546\ttotal: 4m 26s\tremaining: 801ms\n",
      "997:\tlearn: 691.5038537\ttotal: 4m 26s\tremaining: 534ms\n",
      "998:\tlearn: 691.5038536\ttotal: 4m 26s\tremaining: 267ms\n",
      "999:\tlearn: 691.5038527\ttotal: 4m 26s\tremaining: 0us\n"
     ]
    },
    {
     "data": {
      "text/plain": [
       "<catboost.core.CatBoostRegressor at 0x52ee9ef0>"
      ]
     },
     "execution_count": 219,
     "metadata": {},
     "output_type": "execute_result"
    }
   ],
   "source": [
    "regressor3.fit(X_train, y_train)"
   ]
  },
  {
   "cell_type": "code",
   "execution_count": 220,
   "metadata": {},
   "outputs": [
    {
     "data": {
      "text/plain": [
       "0.6052311670138946"
      ]
     },
     "execution_count": 220,
     "metadata": {},
     "output_type": "execute_result"
    }
   ],
   "source": [
    "regressor3.score(X_train, y_train)"
   ]
  },
  {
   "cell_type": "code",
   "execution_count": 221,
   "metadata": {},
   "outputs": [
    {
     "data": {
      "text/plain": [
       "0.5997986347376354"
      ]
     },
     "execution_count": 221,
     "metadata": {},
     "output_type": "execute_result"
    }
   ],
   "source": [
    "regressor3.score(X_test, y_test)"
   ]
  },
  {
   "cell_type": "markdown",
   "metadata": {},
   "source": [
    "# PREDICTIONS - Catboost"
   ]
  },
  {
   "cell_type": "code",
   "execution_count": 222,
   "metadata": {},
   "outputs": [
    {
     "data": {
      "text/html": [
       "<div>\n",
       "<style scoped>\n",
       "    .dataframe tbody tr th:only-of-type {\n",
       "        vertical-align: middle;\n",
       "    }\n",
       "\n",
       "    .dataframe tbody tr th {\n",
       "        vertical-align: top;\n",
       "    }\n",
       "\n",
       "    .dataframe thead th {\n",
       "        text-align: right;\n",
       "    }\n",
       "</style>\n",
       "<table border=\"1\" class=\"dataframe\">\n",
       "  <thead>\n",
       "    <tr style=\"text-align: right;\">\n",
       "      <th></th>\n",
       "      <th>id</th>\n",
       "      <th>date</th>\n",
       "      <th>store_nbr</th>\n",
       "      <th>family</th>\n",
       "      <th>onpromotion</th>\n",
       "    </tr>\n",
       "  </thead>\n",
       "  <tbody>\n",
       "    <tr>\n",
       "      <th>0</th>\n",
       "      <td>3000888</td>\n",
       "      <td>2017-08-16</td>\n",
       "      <td>1</td>\n",
       "      <td>AUTOMOTIVE</td>\n",
       "      <td>20.0</td>\n",
       "    </tr>\n",
       "    <tr>\n",
       "      <th>1</th>\n",
       "      <td>3000889</td>\n",
       "      <td>2017-08-16</td>\n",
       "      <td>1</td>\n",
       "      <td>BABY CARE</td>\n",
       "      <td>1.0</td>\n",
       "    </tr>\n",
       "  </tbody>\n",
       "</table>\n",
       "</div>"
      ],
      "text/plain": [
       "        id        date  store_nbr      family  onpromotion\n",
       "0  3000888  2017-08-16          1  AUTOMOTIVE         20.0\n",
       "1  3000889  2017-08-16          1   BABY CARE          1.0"
      ]
     },
     "execution_count": 222,
     "metadata": {},
     "output_type": "execute_result"
    }
   ],
   "source": [
    "test_df.head(2)"
   ]
  },
  {
   "cell_type": "code",
   "execution_count": 223,
   "metadata": {},
   "outputs": [],
   "source": [
    "test_df.family = le.fit_transform(test_df.family)"
   ]
  },
  {
   "cell_type": "code",
   "execution_count": 224,
   "metadata": {},
   "outputs": [
    {
     "data": {
      "text/html": [
       "<div>\n",
       "<style scoped>\n",
       "    .dataframe tbody tr th:only-of-type {\n",
       "        vertical-align: middle;\n",
       "    }\n",
       "\n",
       "    .dataframe tbody tr th {\n",
       "        vertical-align: top;\n",
       "    }\n",
       "\n",
       "    .dataframe thead th {\n",
       "        text-align: right;\n",
       "    }\n",
       "</style>\n",
       "<table border=\"1\" class=\"dataframe\">\n",
       "  <thead>\n",
       "    <tr style=\"text-align: right;\">\n",
       "      <th></th>\n",
       "      <th>id</th>\n",
       "      <th>date</th>\n",
       "      <th>store_nbr</th>\n",
       "      <th>family</th>\n",
       "      <th>onpromotion</th>\n",
       "    </tr>\n",
       "  </thead>\n",
       "  <tbody>\n",
       "    <tr>\n",
       "      <th>0</th>\n",
       "      <td>3000888</td>\n",
       "      <td>2017-08-16</td>\n",
       "      <td>1</td>\n",
       "      <td>0</td>\n",
       "      <td>20.0</td>\n",
       "    </tr>\n",
       "    <tr>\n",
       "      <th>1</th>\n",
       "      <td>3000889</td>\n",
       "      <td>2017-08-16</td>\n",
       "      <td>1</td>\n",
       "      <td>1</td>\n",
       "      <td>1.0</td>\n",
       "    </tr>\n",
       "  </tbody>\n",
       "</table>\n",
       "</div>"
      ],
      "text/plain": [
       "        id        date  store_nbr  family  onpromotion\n",
       "0  3000888  2017-08-16          1       0         20.0\n",
       "1  3000889  2017-08-16          1       1          1.0"
      ]
     },
     "execution_count": 224,
     "metadata": {},
     "output_type": "execute_result"
    }
   ],
   "source": [
    "test_df.head(2)"
   ]
  },
  {
   "cell_type": "code",
   "execution_count": 225,
   "metadata": {},
   "outputs": [
    {
     "data": {
      "text/plain": [
       "(28512, 3)"
      ]
     },
     "execution_count": 225,
     "metadata": {},
     "output_type": "execute_result"
    }
   ],
   "source": [
    "X = test_df.drop([\"id\", \"date\"], axis=1).values\n",
    "X.shape"
   ]
  },
  {
   "cell_type": "code",
   "execution_count": 226,
   "metadata": {},
   "outputs": [
    {
     "data": {
      "text/plain": [
       "array([ 1.,  0., 20.])"
      ]
     },
     "execution_count": 226,
     "metadata": {},
     "output_type": "execute_result"
    }
   ],
   "source": [
    "X[0]"
   ]
  },
  {
   "cell_type": "code",
   "execution_count": 227,
   "metadata": {},
   "outputs": [],
   "source": [
    " predictions = regressor3.predict(X)"
   ]
  },
  {
   "cell_type": "code",
   "execution_count": 228,
   "metadata": {},
   "outputs": [],
   "source": [
    "test_df['sales'] = predictions"
   ]
  },
  {
   "cell_type": "code",
   "execution_count": 229,
   "metadata": {},
   "outputs": [
    {
     "data": {
      "text/html": [
       "<div>\n",
       "<style scoped>\n",
       "    .dataframe tbody tr th:only-of-type {\n",
       "        vertical-align: middle;\n",
       "    }\n",
       "\n",
       "    .dataframe tbody tr th {\n",
       "        vertical-align: top;\n",
       "    }\n",
       "\n",
       "    .dataframe thead th {\n",
       "        text-align: right;\n",
       "    }\n",
       "</style>\n",
       "<table border=\"1\" class=\"dataframe\">\n",
       "  <thead>\n",
       "    <tr style=\"text-align: right;\">\n",
       "      <th></th>\n",
       "      <th>id</th>\n",
       "      <th>date</th>\n",
       "      <th>store_nbr</th>\n",
       "      <th>family</th>\n",
       "      <th>onpromotion</th>\n",
       "      <th>sales</th>\n",
       "    </tr>\n",
       "  </thead>\n",
       "  <tbody>\n",
       "    <tr>\n",
       "      <th>0</th>\n",
       "      <td>3000888</td>\n",
       "      <td>2017-08-16</td>\n",
       "      <td>1</td>\n",
       "      <td>0</td>\n",
       "      <td>20.0</td>\n",
       "      <td>2.371102</td>\n",
       "    </tr>\n",
       "    <tr>\n",
       "      <th>1</th>\n",
       "      <td>3000889</td>\n",
       "      <td>2017-08-16</td>\n",
       "      <td>1</td>\n",
       "      <td>1</td>\n",
       "      <td>1.0</td>\n",
       "      <td>2.371102</td>\n",
       "    </tr>\n",
       "  </tbody>\n",
       "</table>\n",
       "</div>"
      ],
      "text/plain": [
       "        id        date  store_nbr  family  onpromotion     sales\n",
       "0  3000888  2017-08-16          1       0         20.0  2.371102\n",
       "1  3000889  2017-08-16          1       1          1.0  2.371102"
      ]
     },
     "execution_count": 229,
     "metadata": {},
     "output_type": "execute_result"
    }
   ],
   "source": [
    "test_df.head(2)"
   ]
  },
  {
   "cell_type": "code",
   "execution_count": 230,
   "metadata": {},
   "outputs": [
    {
     "name": "stdout",
     "output_type": "stream",
     "text": [
      "submission successed\n"
     ]
    }
   ],
   "source": [
    "test_df.to_csv('catboostsubmission.csv', index=False)\n",
    "print(\"submission successed\")"
   ]
  },
  {
   "cell_type": "code",
   "execution_count": null,
   "metadata": {},
   "outputs": [],
   "source": []
  }
 ],
 "metadata": {
  "kernelspec": {
   "display_name": "Python 3",
   "language": "python",
   "name": "python3"
  },
  "language_info": {
   "codemirror_mode": {
    "name": "ipython",
    "version": 3
   },
   "file_extension": ".py",
   "mimetype": "text/x-python",
   "name": "python",
   "nbconvert_exporter": "python",
   "pygments_lexer": "ipython3",
   "version": "3.7.0"
  }
 },
 "nbformat": 4,
 "nbformat_minor": 2
}
